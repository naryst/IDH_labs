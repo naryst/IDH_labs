{
  "cells": [
    {
      "cell_type": "markdown",
      "id": "6f1f6121",
      "metadata": {
        "id": "6f1f6121"
      },
      "source": [
        "# **Introduction to Computer Vision.Lab 01.Introduction to Computer Vision**\n"
      ]
    },
    {
      "cell_type": "markdown",
      "id": "063064c3",
      "metadata": {
        "id": "063064c3"
      },
      "source": [
        "## Introduction\n",
        "\n",
        "Computer Vision is the science of building artificial systems that can process and interpret visual data, mainly images and videos. Today, people using their phones are constantly creating visual data. For example, hundreds of millions of images/videos are uploaded on Instagram every day. A human would need years to review the images/videos uploaded on Instagram in a single day. Hence, we don’t have the human manpower to deal with such huge amounts of visual data. It is very important to build algorithms that can understand this visual data much faster than a human.\n"
      ]
    },
    {
      "cell_type": "markdown",
      "id": "368ddb34",
      "metadata": {
        "id": "368ddb34"
      },
      "source": [
        "### Why is Computer Vision Important?\n",
        "\n",
        "There are emerging technologies that make computer vision even more important, such as self-driving cars, virtual reality, and UAVs. Computer Vision is one of the most important subjects to study right now. As the amount of visual data increases, computer vision will become even more critical.\n"
      ]
    },
    {
      "cell_type": "markdown",
      "id": "9b78e775",
      "metadata": {
        "id": "9b78e775"
      },
      "source": [
        "## Example of a Color Digital Image in Python\n",
        "\n",
        "Let's start with a simple example of displaying a color image in Python.\n"
      ]
    },
    {
      "cell_type": "code",
      "execution_count": null,
      "id": "8d7e4c7e",
      "metadata": {
        "id": "8d7e4c7e"
      },
      "outputs": [],
      "source": [
        "import numpy as np\n",
        "import matplotlib.pyplot as plt\n",
        "\n",
        "# Create a 24x16x3 matrix with values ranging from 0 to 255\n",
        "''' TO DO '''\n",
        "\n",
        "# Display the image\n",
        "plt.imshow(color_image)\n",
        "plt.title('Color Image')\n",
        "plt.show()\n"
      ]
    },
    {
      "cell_type": "markdown",
      "id": "8f623236",
      "metadata": {
        "id": "8f623236"
      },
      "source": [
        "## Exercise 1\n",
        "\n",
        "Download a small color digital image from the internet. Write an algorithm that rescales this image to half its size, in both width and height. Print the original and resized images.\n"
      ]
    },
    {
      "cell_type": "code",
      "execution_count": null,
      "id": "92b7b9c9",
      "metadata": {
        "id": "92b7b9c9"
      },
      "outputs": [],
      "source": [
        "from skimage import io, transform\n",
        "\n",
        "# Download an image from the internet\n",
        "url = 'https://example.com/path/to/image.jpg'  # Replace with a valid URL\n",
        "image = io.imread(url)\n",
        "\n",
        "# Resize the image to half its size\n",
        "image_half = ''' TO DO '''\n",
        "\n",
        "# Display the original and resized images\n",
        "fig, axes = plt.subplots(1, 2, figsize=(10, 5))\n",
        "axes[0].imshow(image)\n",
        "axes[0].set_title('Original Image')\n",
        "axes[1].imshow(image_half)\n",
        "axes[1].set_title('Half Size Image')\n",
        "for ax in axes:\n",
        "    ax.axis('off')\n",
        "plt.show()\n",
        "\n",
        "# Assert statement to check the correctness of the solution\n",
        "assert image_half.shape == (image.shape[0] // 2, image.shape[1] // 2, image.shape[2])\n"
      ]
    },
    {
      "cell_type": "markdown",
      "id": "aa5eca3d",
      "metadata": {
        "id": "aa5eca3d"
      },
      "source": [
        "## Image Resizing Theory\n",
        "\n",
        "Image resizing is a common operation in computer vision. Resizing an image involves changing its dimensions (width and height) while preserving the visual content as much as possible.\n"
      ]
    },
    {
      "cell_type": "markdown",
      "id": "b242578c",
      "metadata": {
        "id": "b242578c"
      },
      "source": [
        "## Exercise 2\n",
        "\n",
        "Write an algorithm that rescales the same image to double its size, in both width and height. Print the original and resized images.\n"
      ]
    },
    {
      "cell_type": "code",
      "execution_count": null,
      "id": "cb382d72",
      "metadata": {
        "id": "cb382d72"
      },
      "outputs": [],
      "source": [
        "# Resize the image to double its size\n",
        "image_double = transform.resize(image, (image.shape[0] * 2, image.shape[1] * 2))\n",
        "\n",
        "# Display the original and resized images\n",
        "fig, axes = plt.subplots(1, 2, figsize=(10, 5))\n",
        "axes[0].imshow(image)\n",
        "axes[0].set_title('Original Image')\n",
        "axes[1].imshow(image_double)\n",
        "axes[1].set_title('Double Size Image')\n",
        "for ax in axes:\n",
        "    ax.axis('off')\n",
        "plt.show()\n",
        "\n",
        "# Assert statement to check the correctness of the solution\n",
        "''' TO DO '''"
      ]
    },
    {
      "cell_type": "markdown",
      "id": "b4946afb",
      "metadata": {
        "id": "b4946afb"
      },
      "source": [
        "## Conclusion\n",
        "\n",
        "In this lesson, we introduced the basics of computer vision and why it is important. We learned how to display a color image using Python and how to resize an image to half and double its original size. These operations are fundamental in many computer vision tasks. As you progress, you will encounter more complex image processing techniques that build upon these basic operations.\n"
      ]
    },
    {
      "cell_type": "markdown",
      "id": "a0a3891f",
      "metadata": {
        "id": "a0a3891f"
      },
      "source": [
        "## Additional Resources\n",
        "\n",
        "For further reading and more complex image processing techniques, consider exploring the following resources:\n",
        "\n",
        "- [OpenCV Documentation](https://docs.opencv.org/)\n",
        "- [scikit-image Documentation](https://scikit-image.org/docs/stable/)\n",
        "- [Computer Vision: Algorithms and Applications](https://szeliski.org/Book/)\n",
        "\n",
        "Feel free to search for more information and examples online to enhance your understanding of computer vision.\n"
      ]
    }
  ],
  "metadata": {
    "colab": {
      "provenance": [],
      "toc_visible": true
    }
  },
  "nbformat": 4,
  "nbformat_minor": 5
}