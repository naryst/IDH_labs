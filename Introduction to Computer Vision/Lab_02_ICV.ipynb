{
  "cells": [
    {
      "cell_type": "markdown",
      "id": "626e0930-e3b9-47a7-8bea-306c7a175872",
      "metadata": {
        "id": "626e0930-e3b9-47a7-8bea-306c7a175872"
      },
      "source": [
        "# Introduction to Computer Vision. Lab 02: Image Classification Using Nearest Neighbours\n"
      ]
    },
    {
      "cell_type": "markdown",
      "id": "b47e1e30-3754-4193-af3f-b30bbfc9d64c",
      "metadata": {
        "id": "b47e1e30-3754-4193-af3f-b30bbfc9d64c"
      },
      "source": [
        "## Introduction\n",
        "\n",
        "Image classification is one of the core tasks of Computer Vision. Ideally, we want an algorithm that takes as input an image and produces as output a one-word description of the input image. To achieve this, we make some realistic assumptions.\n"
      ]
    },
    {
      "cell_type": "markdown",
      "id": "fa44f1aa-6f01-471b-98ed-dde98fca3a3f",
      "metadata": {
        "id": "fa44f1aa-6f01-471b-98ed-dde98fca3a3f"
      },
      "source": [
        "### What is Image Classification?\n",
        "\n",
        "Image classification involves categorizing images into predefined classes. We use labeled data to train our algorithm to understand the mapping between images and their respective labels.\n"
      ]
    },
    {
      "cell_type": "markdown",
      "id": "d3efdcd3-c565-4bb9-bf30-03ee31bf0259",
      "metadata": {
        "id": "d3efdcd3-c565-4bb9-bf30-03ee31bf0259"
      },
      "source": [
        "## Image Classification with Training and Test Sets\n",
        "\n",
        "To create our image classification algorithm, we split our dataset into a training set and a test set. The training set is used to train the algorithm, and the test set is used to evaluate its performance.\n"
      ]
    },
    {
      "cell_type": "markdown",
      "id": "819aef29-7f1a-4365-8e34-b24cff36d7a7",
      "metadata": {
        "id": "819aef29-7f1a-4365-8e34-b24cff36d7a7"
      },
      "source": [
        "## Exercise 1\n",
        "\n",
        "Implement the Nearest Neighbour algorithm on the CIFAR10 dataset. The CIFAR10 dataset consists of 10 classes and 32x32 RGB images, with 50,000 training images and 10,000 test images.\n"
      ]
    },
    {
      "cell_type": "code",
      "execution_count": null,
      "id": "e026226a-a721-4022-9771-bbe246363204",
      "metadata": {
        "id": "e026226a-a721-4022-9771-bbe246363204"
      },
      "outputs": [],
      "source": [
        "# Import necessary libraries\n",
        "import numpy as np\n",
        "import matplotlib.pyplot as plt\n",
        "from sklearn.neighbors import KNeighborsClassifier\n",
        "from keras.datasets import cifar10\n",
        "\n",
        "# Load CIFAR-10 dataset\n",
        "(X_train, y_train), (X_test, y_test) = cifar10.load_data()\n",
        "\n",
        "# Flatten the images\n",
        "X_train_flat = ''' TO DO '''\n",
        "X_test_flat = ''' TO DO '''\n",
        "\n",
        "# Initialize the Nearest Neighbour classifier\n",
        "knn = KNeighborsClassifier(n_neighbors=1)\n",
        "\n",
        "# Train the classifier\n",
        "knn.fit(X_train_flat, y_train.ravel())\n",
        "\n",
        "# Predict the labels for the test set\n",
        "y_pred = ''' TO DO '''\n",
        "\n",
        "# Calculate the accuracy\n",
        "accuracy = np.mean(y_pred == y_test.ravel())\n",
        "print(f'Accuracy: {accuracy * 100:.2f}%')\n",
        "\n",
        "# Assert statement to check the correctness of the solution\n",
        "assert accuracy > 0.1, \"Accuracy is too low, check your implementation.\"\n"
      ]
    },
    {
      "cell_type": "markdown",
      "id": "2b5b921a-d2be-4a29-93e1-a0bc18bd50b4",
      "metadata": {
        "id": "2b5b921a-d2be-4a29-93e1-a0bc18bd50b4"
      },
      "source": [
        "## Theory: Nearest Neighbour Algorithm\n",
        "\n",
        "The Nearest Neighbour algorithm classifies an image by finding the most similar image in the training set based on a distance metric and assigns the label of the closest image to the test image.\n"
      ]
    },
    {
      "cell_type": "markdown",
      "id": "a1191d2f-4023-48e0-8637-1e16aa2d1c26",
      "metadata": {
        "id": "a1191d2f-4023-48e0-8637-1e16aa2d1c26"
      },
      "source": [
        "### Distance Metric for Nearest Neighbour\n",
        "\n",
        "The simplest distance metric for checking the similarity of images in Nearest Neighbour is the L1 distance. For two matrices of grayscale images $I_1$ and $I_2$, the L1 distance is defined as:\n",
        "\n",
        "$$ d_1(I_1, I_2) = \\sum_x \\sum_y |I_1(x, y) - I_2(x, y)| $$\n"
      ]
    },
    {
      "cell_type": "markdown",
      "id": "e98b06e1-a289-45d4-b017-72d4cf9b307f",
      "metadata": {
        "id": "e98b06e1-a289-45d4-b017-72d4cf9b307f"
      },
      "source": [
        "## Exercise 2\n",
        "\n",
        "Use the Nearest Neighbour algorithm to classify images from the CIFAR10 dataset. Calculate and print the accuracy of the model.\n"
      ]
    },
    {
      "cell_type": "code",
      "execution_count": null,
      "id": "185e5b33-2c7e-4290-ad87-033eec9c113f",
      "metadata": {
        "id": "185e5b33-2c7e-4290-ad87-033eec9c113f"
      },
      "outputs": [],
      "source": [
        "# Calculate the L1 distance for the first 100 test images and print the predicted and true labels\n",
        "for i in range(100):\n",
        "    dist = ''' TO DO '''\n",
        "    min_index = np.argmin(dist)\n",
        "    print(f'Predicted: {y_train[min_index]}, True: {y_test[i]}')\n",
        "\n",
        "# Assert statement to check if the predictions are not all the same\n",
        "assert len(np.unique(y_pred[:100])) > 1, \"The model is not making diverse predictions.\"\n"
      ]
    },
    {
      "cell_type": "markdown",
      "id": "f1652b42-477f-4522-bd24-26ef7fd70e2e",
      "metadata": {
        "id": "f1652b42-477f-4522-bd24-26ef7fd70e2e"
      },
      "source": [
        "## Conclusion\n",
        "\n",
        "In this lesson, we explored the basics of image classification using the Nearest Neighbour algorithm. We implemented the algorithm on the CIFAR10 dataset and evaluated its performance. This fundamental approach serves as a building block for more advanced machine learning algorithms.\n"
      ]
    },
    {
      "cell_type": "markdown",
      "id": "94c0da7e-3ce5-4434-9190-9c45f115833e",
      "metadata": {
        "id": "94c0da7e-3ce5-4434-9190-9c45f115833e"
      },
      "source": [
        "## Additional Resources\n",
        "\n",
        "For further reading and more complex image processing techniques, consider exploring the following resources:\n",
        "\n",
        "- [OpenCV Documentation](https://docs.opencv.org/)\n",
        "- [scikit-image Documentation](https://scikit-image.org/docs/stable/)\n",
        "- [Computer Vision: Algorithms and Applications](https://szeliski.org/Book/)\n",
        "\n",
        "Feel free to search for more information and examples online to enhance your understanding of computer vision.\n"
      ]
    }
  ],
  "metadata": {
    "colab": {
      "provenance": []
    }
  },
  "nbformat": 4,
  "nbformat_minor": 5
}