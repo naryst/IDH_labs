{
  "cells": [
    {
      "cell_type": "markdown",
      "metadata": {
        "id": "SciSgY_N62Oo"
      },
      "source": [
        "# **Introduction to Computer Vision. Lab 10. Convolutional Neural Networks III**"
      ],
      "id": "SciSgY_N62Oo"
    },
    {
      "cell_type": "markdown",
      "metadata": {
        "id": "dzl91_Vz62Os"
      },
      "source": [
        "## **Theory: Incorporating Padding into Convolutional Neural Networks**\n",
        "Padding is a technique used in convolutional neural networks to preserve the spatial dimensions of the input image. By adding zero-padding around the input image, the size of the output feature map can be controlled, allowing for more flexible network architectures. The amount of padding required can be calculated using the following formula:\n",
        "$$Padding = \\frac{(Output Size - 1) \\times Stride + Filter Size - Input Size}{2}$$"
      ],
      "id": "dzl91_Vz62Os"
    },
    {
      "cell_type": "markdown",
      "metadata": {
        "id": "txnrM7wk62Ot"
      },
      "source": [
        "## **Exercise 1: Implementing a Convolution Operation with Padding**\n",
        "Implement a custom function `conv_forward_with_padding` to perform a 2D convolution operation using the given input and filter, incorporating padding."
      ],
      "id": "txnrM7wk62Ot"
    },
    {
      "cell_type": "code",
      "metadata": {
        "id": "O-MihMpP62Ot"
      },
      "source": [
        "import numpy as np\n",
        "\n",
        "# Custom convolution function with padding\n",
        "def conv_forward_with_padding(X, W, padding=1):\n",
        "    X_padded = ''' TO DO '''\n",
        "    (n_H_prev, n_W_prev, n_C_prev) = X_padded.shape\n",
        "    (f, f, n_C_prev, n_C) = W.shape\n",
        "    n_H = ''' TO DO '''\n",
        "    n_W = ''' TO DO '''\n",
        "    Z = np.zeros((n_H, n_W, n_C))\n",
        "    for h in range(n_H):\n",
        "        for w in range(n_W):\n",
        "            for c in range(n_C):\n",
        "                Z[h, w, c] = ''' TO DO '''\n",
        "    return Z\n",
        "\n",
        "# Example usage\n",
        "X = np.random.randn(5, 5, 3)\n",
        "W = np.random.randn(3, 3, 3, 2)\n",
        "Z = ''' TO DO '''\n",
        "print('Output Z:', Z)\n",
        "\n",
        "# Assert statement\n",
        "assert Z.shape == (5, 5, 2), 'Test failed for Exercise 1'"
      ],
      "id": "O-MihMpP62Ot",
      "execution_count": null,
      "outputs": []
    },
    {
      "cell_type": "markdown",
      "metadata": {
        "id": "HLZwRaP562Ov"
      },
      "source": [
        "## **Theory: Calculating Appropriate Padding and Filter Sizes**\n",
        "In some cases, we need to calculate the appropriate padding and filter sizes to achieve a desired output size. This can be done using the following formulas:\n",
        "$$Padding = \\frac{(Output Size - 1) \\times Stride + Filter Size - Input Size}{2}$$\n",
        "$$Filter Size = Input Size + 2 \\times Padding - (Output Size - 1) \\times Stride$$"
      ],
      "id": "HLZwRaP562Ov"
    },
    {
      "cell_type": "markdown",
      "metadata": {
        "id": "UqRrh5Tp62Ov"
      },
      "source": [
        "## **Exercise 2: Computing Appropriate Padding and Filter Sizes**\n",
        "Implement a custom function `compute_padding_and_filter_size` that takes as inputs the size of the input image and the desired size of the output image at the k-th CONV-layer, and produces as output the appropriate padding and filter sizes, such that the amount of padding is minimized."
      ],
      "id": "UqRrh5Tp62Ov"
    },
    {
      "cell_type": "code",
      "metadata": {
        "id": "JrdSAps862Ow"
      },
      "source": [
        "# Function to compute appropriate padding and filter sizes\n",
        "def compute_padding_and_filter_size(input_size, output_size, stride=1):\n",
        "    padding = ''' TO DO '''\n",
        "    filter_size = ''' TO DO '''\n",
        "    return padding, filter_size\n",
        "\n",
        "# Example usage\n",
        "input_size = 32\n",
        "output_size = 32\n",
        "padding, filter_size = compute_padding_and_filter_size(input_size, output_size)\n",
        "print(f'Padding: {padding}, Filter Size: {filter_size}')\n",
        "\n",
        "# Assert statement\n",
        "assert padding == 1, 'Test failed for Exercise 2 - Padding'\n",
        "assert filter_size == 3, 'Test failed for Exercise 2 - Filter Size'"
      ],
      "id": "JrdSAps862Ow",
      "execution_count": null,
      "outputs": []
    },
    {
      "cell_type": "markdown",
      "metadata": {
        "id": "aRgu-H8h62Ow"
      },
      "source": [
        "## **Conclusion**\n",
        "In this lab, we explored the implementation of forward propagation with padding and the calculation of appropriate padding and filter sizes for convolutional layers. These techniques are essential for designing flexible and effective convolutional neural networks."
      ],
      "id": "aRgu-H8h62Ow"
    }
  ],
  "metadata": {
    "kernelspec": {
      "display_name": "Python 3",
      "language": "python",
      "name": "python3"
    },
    "language_info": {
      "codemirror_mode": {
        "name": "ipython",
        "version": 3
      },
      "file_extension": ".py",
      "mimetype": "text/x-python",
      "name": "python",
      "nbconvert_exporter": "python",
      "pygments_lexer": "ipython3",
      "version": "3.8.5"
    },
    "colab": {
      "provenance": []
    }
  },
  "nbformat": 4,
  "nbformat_minor": 5
}