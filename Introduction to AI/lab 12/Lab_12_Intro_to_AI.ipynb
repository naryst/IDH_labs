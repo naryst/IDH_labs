{
  "cells": [
    {
      "cell_type": "markdown",
      "id": "tZ1RAK3CjRFE",
      "metadata": {
        "id": "tZ1RAK3CjRFE"
      },
      "source": [
        "# **Introduction to AI - Lab 12**"
      ]
    },
    {
      "cell_type": "markdown",
      "id": "c8ppFU6CjRFH",
      "metadata": {
        "id": "c8ppFU6CjRFH"
      },
      "source": [
        "## **Introduction to PDDL**"
      ]
    },
    {
      "cell_type": "markdown",
      "id": "QrCT50pbjRFI",
      "metadata": {
        "id": "QrCT50pbjRFI"
      },
      "source": [
        "### Motivation\n",
        "Planning Domain Definition Language (PDDL) is used for specifying planning problems and domains. It is one of the few languages designed specifically for AI planning, allowing us to define a planning problem with an initial state and a goal, along with the actions that can be performed to transition between states."
      ]
    },
    {
      "cell_type": "markdown",
      "id": "mz85jo06jRFJ",
      "metadata": {
        "id": "mz85jo06jRFJ"
      },
      "source": [
        "### Components of PDDL\n",
        "- **Objects:** Things in the world that interest us\n",
        "- **Predicates:** Facts about the world that can be true or false\n",
        "- **Actions/Operators:** Ways to change the state of the world\n",
        "- **Initial State:** The state of the world we start in\n",
        "- **Goal Specification:** The state of the world we want to achieve"
      ]
    },
    {
      "cell_type": "markdown",
      "id": "Y5VlbMyMjRFJ",
      "metadata": {
        "id": "Y5VlbMyMjRFJ"
      },
      "source": [
        "### PDDL Files\n",
        "1. **Domain File (domain.pddl):** Establishes the context of the world and defines predicates and actions.\n",
        "2. **Problem File (problem.pddl):** Represents an instance of the world, defines the initial state, and specifies the goal state."
      ]
    },
    {
      "cell_type": "markdown",
      "id": "d1i8BFjkjRFK",
      "metadata": {
        "id": "d1i8BFjkjRFK"
      },
      "source": [
        "### PDDL Syntax"
      ]
    },
    {
      "cell_type": "markdown",
      "id": "5SNQXRaKjRFL",
      "metadata": {
        "id": "5SNQXRaKjRFL"
      },
      "source": [
        "#### Domain File Structure\n",
        "```lisp\n",
        "(define (domain <domain-name>)\n",
        "  (:requirements <requirements-list>)\n",
        "  (:types <types-list>) ; optional\n",
        "  (:predicates <predicate-list>)\n",
        "  (:action <action-details>)\n",
        ")\n",
        "```\n",
        "- `<domain-name>`: Name of the domain\n",
        "- `:requirements`: Features of PDDL being used\n",
        "- `:types`: Optional, types of objects\n",
        "- `:predicates`: List of predicates\n",
        "- `:action`: List of possible state transitions"
      ]
    },
    {
      "cell_type": "markdown",
      "id": "q56WA2_bjRFL",
      "metadata": {
        "id": "q56WA2_bjRFL"
      },
      "source": [
        "#### Problem File Structure\n",
        "```lisp\n",
        "(define (problem <problem-name>)\n",
        "  (:domain <domain-name>)\n",
        "  (:objects <object-list>)\n",
        "  (:init <initial-state-predicates>)\n",
        "  (:goal <goal-state-predicates>)\n",
        ")\n",
        "```\n",
        "- `<problem-name>`: Name of the problem\n",
        "- `:domain`: Name of the domain this problem is associated with\n",
        "- `:objects`: Objects in the world\n",
        "- `:init`: Initial state of the world\n",
        "- `:goal`: Goal state to be achieved"
      ]
    },
    {
      "cell_type": "markdown",
      "id": "0mhLno3xjRFL",
      "metadata": {
        "id": "0mhLno3xjRFL"
      },
      "source": [
        "### Example: Wumpus World\n",
        "- **Environment:**\n",
        "  - sq 1-1 is agent\n",
        "  - sq 1-2 is pit\n",
        "  - sq 1-3 is gold\n",
        "  - sq 2-3 contains wumpus\n",
        "- **Actions:**\n",
        "  - Move from sq to adjacent sq\n",
        "  - Kill Wumpus with arrow\n",
        "  - Take Gold\n",
        "- **Goal:**\n",
        "  - Get gold & return back to start position"
      ]
    },
    {
      "cell_type": "markdown",
      "id": "OBYMaXwijRFM",
      "metadata": {
        "id": "OBYMaXwijRFM"
      },
      "source": [
        "## **Task**\n",
        "Use PDDL to model and solve a planning problem. The problem involves creating a domain and a problem file, then using a PDDL solver to generate a plan that achieves the specified goal from the initial state."
      ]
    },
    {
      "cell_type": "markdown",
      "id": "DGgULGsAjRFM",
      "metadata": {
        "id": "DGgULGsAjRFM"
      },
      "source": [
        "### Step 1: Define the Domain File (domain.pddl)"
      ]
    },
    {
      "cell_type": "code",
      "execution_count": null,
      "id": "OJpjbnQ0jRFN",
      "metadata": {
        "id": "OJpjbnQ0jRFN"
      },
      "outputs": [],
      "source": [
        "domain_pddl = \"\"\"\n",
        "(define (domain simple_switches)\n",
        "  '''TO DO'''\n",
        ")\n",
        "\"\"\""
      ]
    },
    {
      "cell_type": "markdown",
      "id": "_eY0uZYqjRFP",
      "metadata": {
        "id": "_eY0uZYqjRFP"
      },
      "source": [
        "### Step 2: Define the Problem File (problem.pddl)"
      ]
    },
    {
      "cell_type": "code",
      "execution_count": null,
      "id": "7bmdXnUpjRFP",
      "metadata": {
        "id": "7bmdXnUpjRFP"
      },
      "outputs": [],
      "source": [
        "problem_pddl = \"\"\"\n",
        "(define (problem switches_problem)\n",
        "  '''TO DO'''\n",
        ")\n",
        "\"\"\""
      ]
    },
    {
      "cell_type": "markdown",
      "id": "r6QXV5gLjRFQ",
      "metadata": {
        "id": "r6QXV5gLjRFQ"
      },
      "source": [
        "### Step 3: Solve the PDDL Problem\n",
        "Use an online PDDL editor such as the one at [Planning.Domains](http://editor.planning.domains/) to input the domain and problem files, then generate and visualize the plan."
      ]
    },
    {
      "cell_type": "markdown",
      "id": "5xghNCRsjRFQ",
      "metadata": {
        "id": "5xghNCRsjRFQ"
      },
      "source": [
        "## **Conclusion**\n",
        "In this lab, we learned about PDDL and how to use it for defining and solving planning problems. We created domain and problem files, and used a PDDL solver to generate a plan that transitions from the initial state to the goal state."
      ]
    }
  ],
  "metadata": {
    "colab": {
      "provenance": [],
      "toc_visible": true
    },
    "kernelspec": {
      "display_name": "Python 3",
      "language": "python",
      "name": "python3"
    },
    "language_info": {
      "codemirror_mode": {
        "name": "ipython",
        "version": 3
      },
      "file_extension": ".py",
      "mimetype": "text/x-python",
      "name": "python",
      "nbconvert_exporter": "python",
      "pygments_lexer": "ipython3",
      "version": "3.8.5"
    }
  },
  "nbformat": 4,
  "nbformat_minor": 5
}
