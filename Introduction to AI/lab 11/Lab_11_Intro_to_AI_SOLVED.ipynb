{
 "cells": [
  {
   "cell_type": "markdown",
   "metadata": {},
   "source": [
    "# Introduction to AI - Lab 11"
   ]
  },
  {
   "cell_type": "markdown",
   "metadata": {},
   "source": [
    "## Genetic Path Planning"
   ]
  },
  {
   "cell_type": "markdown",
   "metadata": {},
   "source": [
    "### Motivation\n",
    "In this lab, we will explore the application of Genetic Algorithms (GAs) to the problem of path planning, which is a crucial aspect of navigation systems in robotics. We will implement a genetic path planner and evaluate its performance."
   ]
  },
  {
   "cell_type": "markdown",
   "metadata": {},
   "source": [
    "### Components of Genetic Path Planning\n",
    "- **Chromosomes:** Represent possible solutions (paths) in the search space.\n",
    "- **Fitness Function:** Evaluates how good a solution is.\n",
    "- **Selection:** Chooses the best solutions for reproduction.\n",
    "- **Crossover:** Combines parts of two solutions to create offspring.\n",
    "- **Mutation:** Introduces random changes to solutions to maintain diversity."
   ]
  },
  {
   "cell_type": "markdown",
   "metadata": {},
   "source": [
    "## Task: Implementing Genetic Path Planning"
   ]
  },
  {
   "cell_type": "markdown",
   "metadata": {},
   "source": [
    "### Step 1: Define the Problem\n",
    "We will use a grid-based environment with obstacles. The objective is to find a path from a start point to an end point while avoiding obstacles."
   ]
  },
  {
   "cell_type": "code",
   "execution_count": 1,
   "metadata": {},
   "outputs": [],
   "source": [
    "!pip install descartes"
   ]
  },
  {
   "cell_type": "code",
   "execution_count": 2,
   "metadata": {},
   "outputs": [],
   "source": [
    "import numpy as np\n",
    "import random\n",
    "import matplotlib.pyplot as plt\n",
    "from shapely.geometry import Point, LineString, Polygon\n",
    "from descartes import PolygonPatch\n",
    "\n",
    "class MyPoint:\n",
    "    def __init__(self, *args):\n",
    "        self.point = Point(*args)\n",
    "        self.x, self.y = self.point.x, self.point.y\n",
    "\n",
    "    def __add__(self, other):\n",
    "        return MyPoint(self.x + other.x, self.y + other.y)\n",
    "\n",
    "    def scale(self, ratio):\n",
    "        return MyPoint(self.x * ratio, self.y * ratio)\n",
    "\n",
    "    def get_xy(self):\n",
    "        return self.x, self.y\n",
    "\n",
    "    def rotate(self, theta):\n",
    "        c, s = np.cos(theta), np.sin(theta)\n",
    "        r = np.array([[c, -s], [s, c]])\n",
    "        new_xy = list(np.matmul(r, self.get_xy()))\n",
    "        return MyPoint(new_xy[0], new_xy[1])"
   ]
  },
  {
   "cell_type": "markdown",
   "metadata": {},
   "source": [
    "### Step 2: Define the Robot and Environment\n",
    "The robot will navigate in a grid with obstacles. We will define the robot, obstacles, and cost functions to evaluate the path."
   ]
  },
  {
   "cell_type": "code",
   "execution_count": 3,
   "metadata": {},
   "outputs": [],
   "source": [
    "class Robot:\n",
    "    def __init__(self, start_point, end_point, grid_num, obstacles):\n",
    "        self.start = start_point\n",
    "        self.stop = end_point\n",
    "        self.grid_num = grid_num\n",
    "        self.obstacles = obstacles\n",
    "        self.create_path()\n",
    "\n",
    "    def create_path(self):\n",
    "        self.path = [self.start] + [MyPoint(0, 0) for _ in range(self.grid_num)] + [self.stop]\n",
    "\n",
    "    def update_path(self, points):\n",
    "        self.path = [self.start] + points + [self.stop]\n",
    "\n",
    "    def get_cost(self, genes):\n",
    "        points = [MyPoint(g[0], g[1]) for g in genes]\n",
    "        self.update_path(points)\n",
    "        cost = 0\n",
    "        for i in range(len(self.path) - 1):\n",
    "            line = LineString([self.path[i].get_xy(), self.path[i + 1].get_xy()])\n",
    "            for obs in self.obstacles:\n",
    "                if line.intersects(Polygon([p.get_xy() for p in obs.points])):\n",
    "                    cost += 100\n",
    "            cost += line.length\n",
    "        # Add penalty for complexity (number of segments)\n",
    "        cost += len(self.path) * 10\n",
    "        return cost\n",
    "\n",
    "class Obstacle:\n",
    "    def __init__(self, center_point, size=1.0):\n",
    "        corners = [MyPoint(-1, -1), MyPoint(-1, 1), MyPoint(1, 1), MyPoint(1, -1)]\n",
    "        scaled_corners = [p.scale(size) + center_point for p in corners]\n",
    "        self.points = scaled_corners\n",
    "\n",
    "    def get_drawable(self, color):\n",
    "        return plt.Polygon([(p.x, p.y) for p in self.points], color=color)\n",
    "\n",
    "def plot_environment(robot, title=\"Path Planning\"):\n",
    "    fig, ax = plt.subplots()\n",
    "    for obs in robot.obstacles:\n",
    "        try:\n",
    "            patch = PolygonPatch(Polygon([p.get_xy() for p in obs.points]), fc='red', alpha=0.5)\n",
    "            ax.add_patch(patch)\n",
    "        except Exception as e:\n",
    "            print(f\"Error plotting obstacle: {e}\")\n",
    "    path_x, path_y = zip(*[p.get_xy() for p in robot.path])\n",
    "    ax.plot(path_x, path_y, 'bo-', label='Path')\n",
    "    ax.plot(robot.start.x, robot.start.y, 'go', label='Start')\n",
    "    ax.plot(robot.stop.x, robot.stop.y, 'ro', label='Stop')\n",
    "    plt.title(title)\n",
    "    plt.legend()\n",
    "    plt.show()\n",
    "\n",
    "# Debugging to ensure obstacles are correctly formed\n",
    "for obs in obstacles:\n",
    "    print(\"Obstacle points:\", [p.get_xy() for p in obs.points])"
   ]
  },
  {
   "cell_type": "markdown",
   "metadata": {},
   "source": [
    "### Step 3: Define the Genetic Algorithm Components\n",
    "We will define the chromosome, mutation, crossover, and fitness functions."
   ]
  },
  {
   "cell_type": "code",
   "execution_count": 4,
   "metadata": {},
   "outputs": [],
   "source": [
    "class Chromosome:\n",
    "    def __init__(self, genes_len=10, gene_pool_min=-5, gene_pool_max=5, genes=None):\n",
    "        if genes is None:\n",
    "            self.genes = np.random.uniform(gene_pool_min, gene_pool_max, (genes_len, 2))\n",
    "        else:\n",
    "            self.genes = genes\n",
    "\n",
    "    def mutate(self, gene_pool_min, gene_pool_max):\n",
    "        mutation_index = np.random.randint(0, len(self.genes))\n",
    "        new_genes = self.genes.copy()\n",
    "        new_genes[mutation_index] = np.random.uniform(gene_pool_min, gene_pool_max, 2)\n",
    "        return Chromosome(genes_len=len(new_genes), genes=new_genes)\n",
    "\n",
    "    def crossover(self, other):\n",
    "        cross_point = np.random.randint(1, len(self.genes) - 1)\n",
    "        offspring1 = np.concatenate((self.genes[:cross_point], other.genes[cross_point:]))\n",
    "        offspring2 = np.concatenate((other.genes[:cross_point], self.genes[cross_point:]))\n",
    "        return Chromosome(genes_len=len(offspring1), genes=offspring1), Chromosome(genes_len=len(offspring2), genes=offspring2)\n",
    "\n",
    "    def get_genes(self):\n",
    "        return list(self.genes).copy()"
   ]
  },
  {
   "cell_type": "code",
   "execution_count": 5,
   "metadata": {},
   "outputs": [],
   "source": [
    "class GA:\n",
    "    def __init__(self, chr_size, talent_size):\n",
    "        self.chr_size = chr_size\n",
    "        self.talent_size = talent_size\n",
    "        self.population = []\n",
    "        self.top = {\"cost_value\": float('Inf'), \"chr\": []}\n",
    "\n",
    "    def reset_top(self):\n",
    "        self.top = {\"cost_value\": float('Inf'), \"chr\": []}\n",
    "\n",
    "    def reset(self, pop_size):\n",
    "        self.population = []\n",
    "        self.gen_population(gene_pool_min=-3, gene_pool_max=3, pop_size=pop_size)\n",
    "\n",
    "    def append_population(self, population):\n",
    "        self.population = self.population + population\n",
    "\n",
    "    def change_population(self, pop):\n",
    "        del (self.population[int(len(self.population) / 2):])\n",
    "        self.append_population(pop)\n",
    "\n",
    "    def gen_population(self, gene_pool_max, gene_pool_min, pop_size):\n",
    "        for p in range(pop_size):\n",
    "            self.population.append(Chromosome(self.chr_size, gene_pool_min, gene_pool_max))\n",
    "        return self.population\n",
    "\n",
    "    def mutation(self, num, gene_pool_min, gene_pool_max):\n",
    "        if num > len(self.population):\n",
    "            raise ValueError(\"number of mutation is higher than population\")\n",
    "        mutated = []\n",
    "        mutate_indexes = np.random.randint(0, len(self.population), num)\n",
    "        for mutate_index in mutate_indexes:\n",
    "            mutated = mutated + [self.population[mutate_index].mutate(gene_pool_min, gene_pool_max)]\n",
    "        return mutated\n",
    "\n",
    "    def crossover(self, num):\n",
    "        crossover_pop = []\n",
    "        for i in range(num):\n",
    "            s = list(np.random.randint(0, len(self.population), 2))\n",
    "            crossover_tuple = self.population[s[0]].crossover(self.population[s[1]])\n",
    "            crossover_pop = crossover_pop + list(crossover_tuple)\n",
    "        return crossover_pop\n",
    "\n",
    "    def calc_fitness(self, func, pop=None):\n",
    "        if pop is None:\n",
    "            pop = []\n",
    "        if len(pop) == 0:\n",
    "            fitness_list = [func(chr_.get_genes()) for chr_ in self.population]\n",
    "        else:\n",
    "            fitness_list = [func(chr_.get_genes()) for chr_ in pop]\n",
    "        sorted_list = sorted(zip(fitness_list, self.population), key=lambda f: f[0])\n",
    "        sorted_chromosome = [s[1] for s in sorted_list]\n",
    "        top_fitness = sorted_list[0][0]\n",
    "        if self.top[\"cost_value\"] > top_fitness:\n",
    "            self.top[\"cost_value\"] = top_fitness\n",
    "            self.top[\"chr_\"] = sorted_list[0][1]\n",
    "        return sorted_chromosome, top_fitness"
   ]
  },
  {
   "cell_type": "markdown",
   "metadata": {},
   "source": [
    "### Step 4: Run the Genetic Algorithm\n",
    "We will set up the main loop of the GA and iterate through its elements."
   ]
  },
  {
   "cell_type": "code",
   "execution_count": 6,
   "metadata": {},
   "outputs": [],
   "source": [
    "run_index = 1\n",
    "flag = True\n",
    "grid_size = 15\n",
    "pop_size = 20\n",
    "start = MyPoint(0, 0)\n",
    "end = MyPoint(10, 10)\n",
    "obstacles = [Obstacle(MyPoint(5, 5), size=1.5)]\n",
    "robot = Robot(start, end, grid_size, obstacles)\n",
    "ga = GA(chr_size=grid_size, talent_size=3)\n",
    "g = ga.gen_population(gene_pool_min=-5, gene_pool_max=5, pop_size=pop_size)\n",
    "\n",
    "def ga_iterate(num, mutate_chance=0.8, mutate_min=-15, mutate_max=15):\n",
    "    global flag\n",
    "    cost = []\n",
    "    for i in range(num):\n",
    "        best_path, most_fit = ga.calc_fitness(robot.get_cost)\n",
    "        cost.append(most_fit)\n",
    "        ga.population = best_path\n",
    "        crossovered = ga.crossover(int(pop_size / 2))\n",
    "        if flag:\n",
    "            ga.append_population(crossovered)\n",
    "            flag = False\n",
    "        else:\n",
    "            ga.change_population(crossovered)\n",
    "\n",
    "        a = np.random.uniform(0, 1, 1)\n",
    "        if a < mutate_chance:\n",
    "            mutated = ga.mutation(pop_size, mutate_min, mutate_max)\n",
    "            ga.change_population(mutated)\n",
    "        # Visualize the path at each generation\n",
    "        robot.update_path([MyPoint(*p) for p in best_path[0].get_genes()])\n",
    "        plot_environment(robot, title=f\"Generation {i+1}\")\n",
    "    return best_path, cost\n",
    "\n",
    "# Run GA and visualize results\n",
    "best_path, cost = ga_iterate(50)\n",
    "robot.update_path([MyPoint(*p) for p in best_path[0].get_genes()])\n",
    "plot_environment(robot, title=\"Final Path after Genetic Algorithm\")\n",
    "\n",
    "# Plot cost over generations\n",
    "plt.plot(cost)\n",
    "plt.title(\"Cost over Generations\")\n",
    "plt.xlabel(\"Generation\")\n",
    "plt.ylabel(\"Cost\")\n",
    "plt.show()"
   ]
  },
  {
   "cell_type": "markdown",
   "metadata": {},
   "source": [
    "### Conclusion\n",
    "In this lab, we implemented a Genetic Algorithm to solve the path planning problem. We explored key operations such as selection, crossover, and mutation, and observed how the population evolves over generations to find the optimal path. The visualization shows the final path and the cost reduction over generations."
   ]
  }
 ],
 "metadata": {
  "kernelspec": {
   "display_name": "Python 3",
   "language": "python",
   "name": "python3"
  },
  "language_info": {
   "codemirror_mode": {
    "name": "ipython",
    "version": 3
   },
   "file_extension": ".py",
   "mimetype": "text/x-python",
   "name": "python",
   "nbconvert_exporter": "python",
   "pygments_lexer": "ipython3",
   "version": "3.8.5"
  }
 },
 "nbformat": 4,
 "nbformat_minor": 5
}
