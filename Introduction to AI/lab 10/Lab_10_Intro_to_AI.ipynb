{
  "cells": [
    {
      "cell_type": "markdown",
      "id": "_BkHbOGYWAzZ",
      "metadata": {
        "id": "_BkHbOGYWAzZ"
      },
      "source": [
        "# **Introduction to AI - Lab 10**"
      ]
    },
    {
      "cell_type": "markdown",
      "id": "ME2bs-9yWAzc",
      "metadata": {
        "id": "ME2bs-9yWAzc"
      },
      "source": [
        "## **Evolutionary Algorithms**"
      ]
    },
    {
      "cell_type": "markdown",
      "id": "RHtSfRzZWAzd",
      "metadata": {
        "id": "RHtSfRzZWAzd"
      },
      "source": [
        "### Motivation\n",
        "In this lab, we will explore Evolutionary Algorithms (EAs) and their application in optimization problems. EAs are inspired by biological evolution and include mechanisms such as selection, crossover, and mutation."
      ]
    },
    {
      "cell_type": "markdown",
      "id": "hhXGX3emWAzd",
      "metadata": {
        "id": "hhXGX3emWAzd"
      },
      "source": [
        "### Components of Evolutionary Algorithms\n",
        "- **Selection:** Choosing individuals based on their fitness to reproduce and create the next generation.\n",
        "- **Crossover:** Combining parts of two individuals to create offspring.\n",
        "- **Mutation:** Introducing random changes to individuals to maintain genetic diversity."
      ]
    },
    {
      "cell_type": "markdown",
      "id": "UpdXZVr_WAze",
      "metadata": {
        "id": "UpdXZVr_WAze"
      },
      "source": [
        "### Genetic Algorithms (GA)\n",
        "A type of EA that uses binary strings to represent solutions. Operations such as selection, crossover, and mutation are applied to evolve the population over generations."
      ]
    },
    {
      "cell_type": "markdown",
      "id": "XPEP1fg5WAze",
      "metadata": {
        "id": "XPEP1fg5WAze"
      },
      "source": [
        "## **Task: Implementing a Genetic Algorithm**\n",
        "In this task, we will implement a Genetic Algorithm to solve a simple optimization problem."
      ]
    },
    {
      "cell_type": "code",
      "execution_count": null,
      "id": "ha__wuxnWAzf",
      "metadata": {
        "id": "ha__wuxnWAzf"
      },
      "outputs": [],
      "source": [
        "import numpy as np\n",
        "import random\n",
        "\n",
        "# Objective function\n",
        "def objective_function(x):\n",
        "    return sum(x)\n",
        "\n",
        "# Create initial population\n",
        "def create_population(size, chromosome_length):\n",
        "    return [np.random.randint(2, size=chromosome_length).tolist() for _ in range(size)]\n",
        "\n",
        "# Evaluate fitness\n",
        "def evaluate_population(population):\n",
        "    return [objective_function(individual) for individual in population]\n",
        "\n",
        "# Selection (Roulette Wheel)\n",
        "def select_parents(population, fitness):\n",
        "    total_fitness = '''TO DO'''\n",
        "    selection_probs = [f / total_fitness for f in fitness]\n",
        "    indices = np.arange(len(population))\n",
        "    selected_indices = '''TO DO'''\n",
        "    parents = [population[i] for i in selected_indices]\n",
        "    return parents\n",
        "\n",
        "# Crossover\n",
        "def crossover(parent1, parent2):\n",
        "    crossover_point = random.randint(1, len(parent1) - 1)\n",
        "    child1 = parent1[:crossover_point] + parent2[crossover_point:]\n",
        "    child2 = '''TO DO'''\n",
        "    return child1, child2\n",
        "\n",
        "# Mutation\n",
        "def mutate(individual, mutation_rate=0.01):\n",
        "    for i in range(len(individual)):\n",
        "        if random.random() < mutation_rate:\n",
        "            individual[i] = '''TO DO'''\n",
        "    return individual\n",
        "\n",
        "# Genetic Algorithm\n",
        "def genetic_algorithm(population_size, chromosome_length, generations, mutation_rate=0.01):\n",
        "    population = create_population(population_size, chromosome_length)\n",
        "    best_individual = None\n",
        "    best_fitness = -1\n",
        "\n",
        "    for _ in range(generations):\n",
        "        fitness = evaluate_population(population)\n",
        "        for ind, fit in zip(population, fitness):\n",
        "            if fit > best_fitness:\n",
        "                best_individual = '''TO DO'''\n",
        "                best_fitness = '''TO DO'''\n",
        "        parents = select_parents(population, fitness)\n",
        "        next_population = []\n",
        "        for i in range(0, len(parents), 2):\n",
        "            parent1, parent2 = '''TO DO'''\n",
        "            child1, child2 = crossover(parent1, parent2)\n",
        "            next_population.append(mutate(child1, mutation_rate))\n",
        "            next_population.append(mutate(child2, mutation_rate))\n",
        "        population = next_population\n",
        "\n",
        "    return best_individual, best_fitness\n",
        "\n",
        "# Example usage\n",
        "population_size = 20\n",
        "chromosome_length = 10\n",
        "generations = 50\n",
        "best_individual, best_fitness = genetic_algorithm(population_size, chromosome_length, generations)\n",
        "print(\"Best individual:\", best_individual)\n",
        "print(\"Best fitness:\", best_fitness)\n"
      ]
    },
    {
      "cell_type": "markdown",
      "id": "f2PwOquRWAzh",
      "metadata": {
        "id": "f2PwOquRWAzh"
      },
      "source": [
        "## **Conclusion**\n",
        "In this lab, we implemented a Genetic Algorithm to solve an optimization problem. We explored key operations such as selection, crossover, and mutation, and observed how the population evolves over generations to find the best solution."
      ]
    }
  ],
  "metadata": {
    "colab": {
      "provenance": [],
      "toc_visible": true
    },
    "kernelspec": {
      "display_name": "Python 3",
      "language": "python",
      "name": "python3"
    },
    "language_info": {
      "codemirror_mode": {
        "name": "ipython",
        "version": 3
      },
      "file_extension": ".py",
      "mimetype": "text/x-python",
      "name": "python",
      "nbconvert_exporter": "python",
      "pygments_lexer": "ipython3",
      "version": "3.8.5"
    }
  },
  "nbformat": 4,
  "nbformat_minor": 5
}
