{
  "cells": [
    {
      "cell_type": "markdown",
      "metadata": {
        "id": "RVj6b8Yej1tT"
      },
      "source": [
        "# **Introduction to AI - Lab 13**"
      ],
      "id": "RVj6b8Yej1tT"
    },
    {
      "cell_type": "markdown",
      "metadata": {
        "id": "tuYT26Dlj1tX"
      },
      "source": [
        "## **Neural Networks and Perceptrons**"
      ],
      "id": "tuYT26Dlj1tX"
    },
    {
      "cell_type": "markdown",
      "metadata": {
        "id": "zi3wFRK2j1tY"
      },
      "source": [
        "### Motivation\n",
        "In this lab, we will explore the basics of neural networks, focusing on perceptrons. We will build and train a perceptron to perform binary classification on a simple dataset."
      ],
      "id": "zi3wFRK2j1tY"
    },
    {
      "cell_type": "markdown",
      "metadata": {
        "id": "8O0Kuov9j1tY"
      },
      "source": [
        "### Components of a Neural Network\n",
        "- **Neurons:** Basic units of the network that perform computations.\n",
        "- **Activation Functions:** Functions applied to the neuron's output to introduce non-linearity.\n",
        "- **Layers:** Stacked neurons that form the architecture of the network.\n",
        "- **Weights:** Parameters that are adjusted during training to minimize the error.\n",
        "- **Biases:** Additional parameters that allow the activation function to be shifted left or right."
      ],
      "id": "8O0Kuov9j1tY"
    },
    {
      "cell_type": "markdown",
      "metadata": {
        "id": "Wnu_BTRzj1tZ"
      },
      "source": [
        "### Perceptron\n",
        "A perceptron is the simplest type of neural network, consisting of a single layer of output nodes connected to the input nodes. It is a linear classifier used for binary classification tasks.\n",
        "- **Activation Function:** The perceptron uses a step function as its activation function."
      ],
      "id": "Wnu_BTRzj1tZ"
    },
    {
      "cell_type": "markdown",
      "metadata": {
        "id": "8OZs7XvWj1tZ"
      },
      "source": [
        "## **Task 1:** **Implementing a Perceptron**\n",
        "In this task, we will implement a simple perceptron from scratch and use it to classify data points from the Sklearn Moons dataset."
      ],
      "id": "8OZs7XvWj1tZ"
    },
    {
      "cell_type": "code",
      "execution_count": null,
      "metadata": {
        "id": "YHF8z8gnj1ta"
      },
      "outputs": [],
      "source": [
        "import numpy as np\n",
        "from sklearn.datasets import make_moons\n",
        "import matplotlib.pyplot as plt\n",
        "\n",
        "# Generate dataset\n",
        "X, y = make_moons(n_samples=100, noise=0.2, random_state=42)\n",
        "\n",
        "# Plot the dataset\n",
        "plt.scatter(X[:, 0], X[:, 1], c=y, cmap=plt.cm.Spectral)\n",
        "plt.title('Moons Dataset')\n",
        "plt.xlabel('Feature 1')\n",
        "plt.ylabel('Feature 2')\n",
        "plt.show()"
      ],
      "id": "YHF8z8gnj1ta"
    },
    {
      "cell_type": "markdown",
      "metadata": {
        "id": "sPpW13k_j1tc"
      },
      "source": [
        "### Perceptron Model\n",
        "We will define a perceptron model with a simple training algorithm."
      ],
      "id": "sPpW13k_j1tc"
    },
    {
      "cell_type": "code",
      "execution_count": null,
      "metadata": {
        "id": "J4eWoEGUj1tc"
      },
      "outputs": [],
      "source": [
        "class Perceptron:\n",
        "    def __init__(self, input_size, lr=0.1, epochs=1000):\n",
        "        self.W = np.zeros(input_size + 1)\n",
        "        self.lr = lr\n",
        "        self.epochs = epochs\n",
        "\n",
        "    def activation_fn(self, x):\n",
        "        return 1 if x >= 0 else 0\n",
        "\n",
        "    def predict(self, x):\n",
        "        z = self.W.T.dot(np.insert(x, 0, 1))\n",
        "        a = self.activation_fn(z)\n",
        "        return a\n",
        "\n",
        "    def fit(self, X, d):\n",
        "        for _ in range(self.epochs):\n",
        "            for i in range(d.shape[0]):\n",
        "                x = np.insert(X[i], 0, 1)\n",
        "                y = self.predict(X[i])\n",
        "                e = d[i] - y\n",
        "                self.W = self.W + self.lr * e * x"
      ],
      "id": "J4eWoEGUj1tc"
    },
    {
      "cell_type": "markdown",
      "metadata": {
        "id": "HoZVtswLj1tc"
      },
      "source": [
        "### Training the Perceptron\n",
        "We will now train our perceptron on the Moons dataset."
      ],
      "id": "HoZVtswLj1tc"
    },
    {
      "cell_type": "code",
      "execution_count": null,
      "metadata": {
        "id": "5-chffyFj1td"
      },
      "outputs": [],
      "source": [
        "# Initialize and train the perceptron\n",
        "perceptron = Perceptron(input_size=2)\n",
        "perceptron.fit(X, y)\n",
        "\n",
        "# Predict and plot decision boundary\n",
        "h = 0.02\n",
        "x_min, x_max = X[:, 0].min() - 1, X[:, 0].max() + 1\n",
        "y_min, y_max = X[:, 1].min() - 1, X[:, 1].max() + 1\n",
        "xx, yy = np.meshgrid(np.arange(x_min, x_max, h), np.arange(y_min, y_max, h))\n",
        "Z = np.array([perceptron.predict(np.array([x1, x2])) for x1, x2 in zip(xx.ravel(), yy.ravel())])\n",
        "Z = Z.reshape(xx.shape)\n",
        "\n",
        "plt.contourf(xx, yy, Z, cmap=plt.cm.Spectral, alpha=0.8)\n",
        "plt.scatter(X[:, 0], X[:, 1], c=y, cmap=plt.cm.Spectral)\n",
        "plt.title('Decision Boundary')\n",
        "plt.xlabel('Feature 1')\n",
        "plt.ylabel('Feature 2')\n",
        "plt.show()"
      ],
      "id": "5-chffyFj1td"
    },
    {
      "cell_type": "markdown",
      "metadata": {
        "id": "1jUKowtJj1td"
      },
      "source": [
        "## **Conclusion**\n",
        "In this lab, we implemented a simple perceptron and used it to classify data points from the Moons dataset. We visualized the decision boundary of our perceptron and observed how it separates the data points into two classes."
      ],
      "id": "1jUKowtJj1td"
    },
    {
      "cell_type": "markdown",
      "metadata": {
        "id": "A3aRRbDHj1te"
      },
      "source": [
        "## **Submission**\n",
        "Upload the code script on Moodle."
      ],
      "id": "A3aRRbDHj1te"
    }
  ],
  "metadata": {
    "kernelspec": {
      "display_name": "Python 3",
      "language": "python",
      "name": "python3"
    },
    "language_info": {
      "codemirror_mode": {
        "name": "ipython",
        "version": 3
      },
      "file_extension": ".py",
      "mimetype": "text/x-python",
      "name": "python",
      "nbconvert_exporter": "python",
      "pygments_lexer": "ipython3",
      "version": "3.8.5"
    },
    "colab": {
      "provenance": [],
      "toc_visible": true
    }
  },
  "nbformat": 4,
  "nbformat_minor": 5
}