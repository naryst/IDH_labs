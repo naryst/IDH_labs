{
  "cells": [
    {
      "cell_type": "markdown",
      "metadata": {
        "id": "bF6pQIV-nmtK"
      },
      "source": [
        "# **Introduction to AI - Lab 6**"
      ],
      "id": "bF6pQIV-nmtK"
    },
    {
      "cell_type": "markdown",
      "metadata": {
        "id": "WadBk5fbnmtN"
      },
      "source": [
        "## **Traveling Salesman Problem (TSP) with Tabu Search and Simulated Annealing**"
      ],
      "id": "WadBk5fbnmtN"
    },
    {
      "cell_type": "markdown",
      "metadata": {
        "id": "qk9tyrJknmtN"
      },
      "source": [
        "### Motivation\n",
        "In this lab, we will explore the Traveling Salesman Problem (TSP) and solve it using Tabu Search and Simulated Annealing. These are heuristic methods used to find good solutions to optimization problems within a reasonable time frame."
      ],
      "id": "qk9tyrJknmtN"
    },
    {
      "cell_type": "markdown",
      "metadata": {
        "id": "fhN_wigdnmtN"
      },
      "source": [
        "### Components of TSP and Heuristic Methods\n",
        "- **TSP:** Given a list of cities and the distances between each pair of cities, the task is to find the shortest possible route that visits each city exactly once and returns to the origin city.\n",
        "- **Tabu Search:** A metaheuristic that guides a local heuristic search procedure to explore the solution space beyond local optimality.\n",
        "- **Simulated Annealing:** A probabilistic technique that approximates the global optimum of a given function."
      ],
      "id": "fhN_wigdnmtN"
    },
    {
      "cell_type": "markdown",
      "metadata": {
        "id": "Ksx4txIznmtN"
      },
      "source": [
        "### Understanding the Traveling Salesman Problem (TSP)\n",
        "The goal of the TSP is to find the shortest possible route that visits each city once and returns to the origin city. This problem is NP-hard, meaning it cannot be solved exactly in polynomial time for large instances."
      ],
      "id": "Ksx4txIznmtN"
    },
    {
      "cell_type": "markdown",
      "metadata": {
        "id": "Dfk5dqjRnmtO"
      },
      "source": [
        "## **Excercise 1: Implementing Tabu Search for TSP**\n",
        "Tabu Search uses a tabu list to keep track of recently explored solutions, preventing the algorithm from revisiting them and getting stuck in local optima."
      ],
      "id": "Dfk5dqjRnmtO"
    },
    {
      "cell_type": "code",
      "execution_count": null,
      "metadata": {
        "id": "_GU_f_39nmtO"
      },
      "outputs": [],
      "source": [
        "import numpy as np\n",
        "import random\n",
        "\n",
        "def generate_initial_solution(cities):\n",
        "    solution = list(cities)\n",
        "    random.shuffle(solution)\n",
        "    return solution\n",
        "\n",
        "def calculate_total_distance(solution, distance_matrix):\n",
        "    total_distance = 0\n",
        "    for i in range(len(solution) - 1):\n",
        "        total_distance += '''TO DO'''\n",
        "    total_distance += '''TO DO'''\n",
        "    return total_distance\n",
        "\n",
        "def tabu_search(cities, distance_matrix, iterations, tabu_size):\n",
        "    best_solution = '''TO DO'''\n",
        "    best_cost = calculate_total_distance(best_solution, distance_matrix)\n",
        "    tabu_list = []\n",
        "    current_solution = best_solution\n",
        "\n",
        "    for _ in range(iterations):\n",
        "        neighborhood = []\n",
        "        for i in range(len(cities)):\n",
        "            for j in range(i + 1, len(cities)):\n",
        "                neighbor = current_solution[:]\n",
        "                neighbor[i], neighbor[j] = '''TO DO'''\n",
        "                if neighbor not in tabu_list:\n",
        "                    neighborhood.append(neighbor)\n",
        "\n",
        "        neighborhood_costs = [calculate_total_distance(neighbor, distance_matrix) for neighbor in neighborhood]\n",
        "        best_neighbor = neighborhood[np.argmin(neighborhood_costs)]\n",
        "        best_neighbor_cost = min(neighborhood_costs)\n",
        "\n",
        "        if best_neighbor_cost < best_cost:\n",
        "            best_solution = '''TO DO'''\n",
        "            best_cost = '''TO DO'''\n",
        "\n",
        "        tabu_list.append(best_neighbor)\n",
        "        if len(tabu_list) > tabu_size:\n",
        "            tabu_list.pop(0)\n",
        "        current_solution = '''TO DO'''\n",
        "\n",
        "    return best_solution, best_cost\n",
        "\n",
        "# Example usage\n",
        "cities = list(range(5))\n",
        "distance_matrix = np.random.randint(1, 100, size=(5, 5))\n",
        "iterations = 100\n",
        "tabu_size = 10\n",
        "best_solution, best_cost = tabu_search(cities, distance_matrix, iterations, tabu_size)\n",
        "print(\"Best solution:\", best_solution)\n",
        "print(\"Best cost:\", best_cost)"
      ],
      "id": "_GU_f_39nmtO"
    },
    {
      "cell_type": "markdown",
      "metadata": {
        "id": "PYjyZkn_nmtR"
      },
      "source": [
        "## **Excercise 2: Implementing Simulated Annealing for TSP**\n",
        "Simulated Annealing starts with an initial solution and makes small changes to the solution, accepting or rejecting changes based on a probability that decreases with time."
      ],
      "id": "PYjyZkn_nmtR"
    },
    {
      "cell_type": "code",
      "execution_count": null,
      "metadata": {
        "id": "5KvCrk3pnmtR"
      },
      "outputs": [],
      "source": [
        "def simulated_annealing(cities, distance_matrix, initial_temp, cooling_rate, iterations):\n",
        "    current_solution = generate_initial_solution(cities)\n",
        "    current_cost = calculate_total_distance(current_solution, distance_matrix)\n",
        "    best_solution = current_solution\n",
        "    best_cost = current_cost\n",
        "    temp = initial_temp\n",
        "\n",
        "    for _ in range(iterations):\n",
        "        i, j = random.sample(range(len(cities)), 2)\n",
        "        neighbor = current_solution[:]\n",
        "        neighbor[i], neighbor[j] = '''TO DO'''\n",
        "        neighbor_cost = calculate_total_distance(neighbor, distance_matrix)\n",
        "\n",
        "        if '''TO DO''':\n",
        "            current_solution = neighbor\n",
        "            current_cost = neighbor_cost\n",
        "\n",
        "        if current_cost < best_cost:\n",
        "            best_solution = current_solution\n",
        "            best_cost = current_cost\n",
        "\n",
        "        temp *= cooling_rate\n",
        "\n",
        "    return '''TO DO'''\n",
        "\n",
        "# Example usage\n",
        "initial_temp = 1000\n",
        "cooling_rate = 0.99\n",
        "best_solution, best_cost = simulated_annealing(cities, distance_matrix, initial_temp, cooling_rate, iterations)\n",
        "print(\"Best solution:\", best_solution)\n",
        "print(\"Best cost:\", best_cost)"
      ],
      "id": "5KvCrk3pnmtR"
    },
    {
      "cell_type": "markdown",
      "metadata": {
        "id": "aeBxhGzpnmtS"
      },
      "source": [
        "## **Conclusion**\n",
        "In this lab, we implemented two heuristic methods, Tabu Search and Simulated Annealing, to solve the Traveling Salesman Problem. These methods help find good solutions for complex optimization problems within a reasonable time frame by exploring the solution space effectively."
      ],
      "id": "aeBxhGzpnmtS"
    }
  ],
  "metadata": {
    "kernelspec": {
      "display_name": "Python 3",
      "language": "python",
      "name": "python3"
    },
    "language_info": {
      "codemirror_mode": {
        "name": "ipython",
        "version": 3
      },
      "file_extension": ".py",
      "mimetype": "text/x-python",
      "name": "python",
      "nbconvert_exporter": "python",
      "pygments_lexer": "ipython3",
      "version": "3.8.5"
    },
    "colab": {
      "provenance": [],
      "toc_visible": true
    }
  },
  "nbformat": 4,
  "nbformat_minor": 5
}