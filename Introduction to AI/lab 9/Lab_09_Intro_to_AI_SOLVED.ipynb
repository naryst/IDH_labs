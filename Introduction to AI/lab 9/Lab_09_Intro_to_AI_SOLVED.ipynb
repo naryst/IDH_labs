{
  "cells": [
    {
      "cell_type": "markdown",
      "id": "zqo39JzaSi4h",
      "metadata": {
        "id": "zqo39JzaSi4h"
      },
      "source": [
        "# **Introduction to AI - Lab 9**"
      ]
    },
    {
      "cell_type": "markdown",
      "id": "9DfwlIHzSi4j",
      "metadata": {
        "id": "9DfwlIHzSi4j"
      },
      "source": [
        "## **Monte Carlo Tree Search (MCTS) and Connect Four**"
      ]
    },
    {
      "cell_type": "markdown",
      "id": "Z0osHc26Si4k",
      "metadata": {
        "id": "Z0osHc26Si4k"
      },
      "source": [
        "### Motivation\n",
        "In this lab, we will explore the Monte Carlo Tree Search (MCTS) algorithm and apply it to the Connect Four game. MCTS is a heuristic search algorithm for decision processes, especially useful in games and simulations."
      ]
    },
    {
      "cell_type": "markdown",
      "id": "kdbqTkDMSi4l",
      "metadata": {
        "id": "kdbqTkDMSi4l"
      },
      "source": [
        "### Components of MCTS\n",
        "- **Selection:** Traverse the tree from the root to a leaf node.\n",
        "- **Expansion:** Expand the leaf node by adding one or more child nodes.\n",
        "- **Simulation:** Simulate the game from the new node to a terminal state.\n",
        "- **Backpropagation:** Propagate the simulation results back up the tree to update the nodes."
      ]
    },
    {
      "cell_type": "markdown",
      "id": "TVbGYAzuSi4l",
      "metadata": {
        "id": "TVbGYAzuSi4l"
      },
      "source": [
        "### Connect Four Game\n",
        "Connect Four is a two-player game with a 6x7 board where players drop their pieces to form a sequence of 4 horizontally, vertically, or diagonally. The first player to achieve this wins."
      ]
    },
    {
      "cell_type": "markdown",
      "id": "ZtWrG3hgSi4m",
      "metadata": {
        "id": "ZtWrG3hgSi4m"
      },
      "source": [
        "## **Task: Implementing MCTS for Connect Four**"
      ]
    },
    {
      "cell_type": "markdown",
      "id": "iXMmLPiUSi4n",
      "metadata": {
        "id": "iXMmLPiUSi4n"
      },
      "source": [
        "### MCTS Algorithm"
      ]
    },
    {
      "cell_type": "code",
      "execution_count": null,
      "id": "jACPbMhYSi4n",
      "metadata": {
        "id": "jACPbMhYSi4n"
      },
      "outputs": [],
      "source": [
        "import numpy as np\n",
        "import random\n",
        "\n",
        "class Node:\n",
        "    def __init__(self, state, parent=None):\n",
        "        self.state = state\n",
        "        self.parent = parent\n",
        "        self.children = []\n",
        "        self.visits = 0\n",
        "        self.value = 0\n",
        "\n",
        "def selection(node):\n",
        "    while node.children:\n",
        "        node = max(node.children, key=lambda child: child.value / child.visits + np.sqrt(2 * np.log(node.visits) / child.visits))\n",
        "    return node\n",
        "\n",
        "def expansion(node):\n",
        "    state = node.state\n",
        "    for action in available_actions(state):\n",
        "        new_state = apply_action(state, action)\n",
        "        child_node = Node(new_state, parent=node)\n",
        "        node.children.append(child_node)\n",
        "\n",
        "def simulation(node):\n",
        "    state = node.state\n",
        "    while not is_terminal(state):\n",
        "        action = random.choice(available_actions(state))\n",
        "        state = apply_action(state, action)\n",
        "    return evaluate(state)\n",
        "\n",
        "def backpropagation(node, reward):\n",
        "    while node is not None:\n",
        "        node.visits += 1\n",
        "        node.value += reward\n",
        "        node = node.parent\n",
        "\n",
        "def mcts(root, iterations):\n",
        "    for _ in range(iterations):\n",
        "        node = selection(root)\n",
        "        if not is_terminal(node.state):\n",
        "            expansion(node)\n",
        "            reward = simulation(node)\n",
        "            backpropagation(node, reward)\n",
        "    return max(root.children, key=lambda child: child.visits)\n",
        "\n",
        "def available_actions(state):\n",
        "    return [i for i in range(9) if state[i] == 0]\n",
        "\n",
        "def apply_action(state, action):\n",
        "    new_state = state.copy()\n",
        "    new_state[action] = 1 if state.count(1) <= state.count(-1) else -1\n",
        "    return new_state\n",
        "\n",
        "def is_terminal(state):\n",
        "    for i in range(3):\n",
        "        if abs(sum(state[i*3:(i+1)*3])) == 3 or abs(sum(state[i::3])) == 3:\n",
        "            return True\n",
        "    if abs(state[0] + state[4] + state[8]) == 3 or abs(state[2] + state[4] + state[6]) == 3:\n",
        "        return True\n",
        "    return all(s != 0 for s in state)\n",
        "\n",
        "def evaluate(state):\n",
        "    for i in range(3):\n",
        "        if sum(state[i*3:(i+1)*3]) == 3 or sum(state[i::3]) == 3:\n",
        "            return 1\n",
        "        if sum(state[i*3:(i+1)*3]) == -3 or sum(state[i::3]) == -3:\n",
        "            return -1\n",
        "    if state[0] + state[4] + state[8] == 3 or state[2] + state[4] + state[6] == 3:\n",
        "        return 1\n",
        "    if state[0] + state[4] + state[8] == -3 or state[2] + state[4] + state[6] == -3:\n",
        "        return -1\n",
        "    return 0\n",
        "\n",
        "def get_initial_state():\n",
        "    return [0] * 9\n",
        "\n",
        "# Example usage\n",
        "initial_state = get_initial_state()\n",
        "root = Node(initial_state)\n",
        "best_child = mcts(root, iterations=1000)\n",
        "print(\"Best action:\", best_child.state)"
      ]
    },
    {
      "cell_type": "markdown",
      "id": "ZZUQJOsMSi4p",
      "metadata": {
        "id": "ZZUQJOsMSi4p"
      },
      "source": [
        "### Connect Four Environment"
      ]
    },
    {
      "cell_type": "code",
      "execution_count": null,
      "id": "TWrxMwJ_Si4q",
      "metadata": {
        "id": "TWrxMwJ_Si4q"
      },
      "outputs": [],
      "source": [
        "import numpy as np\n",
        "\n",
        "class ConnectFour:\n",
        "    def __init__(self):\n",
        "        self.board = np.zeros((6, 7), dtype=int)\n",
        "        self.current_player = 1\n",
        "\n",
        "    def available_actions(self):\n",
        "        return [c for c in range(7) if self.board[0, c] == 0]\n",
        "\n",
        "    def apply_action(self, action):\n",
        "        for row in range(5, -1, -1):\n",
        "            if self.board[row, action] == 0:\n",
        "                self.board[row, action] = self.current_player\n",
        "                break\n",
        "        self.current_player = 3 - self.current_player\n",
        "\n",
        "    def is_terminal(self):\n",
        "        # Check for a win\n",
        "        for row in range(6):\n",
        "            for col in range(7):\n",
        "                if self.board[row, col] == 0:\n",
        "                    continue\n",
        "                if col + 3 < 7 and all(self.board[row, col + i] == self.board[row, col] for i in range(4)):\n",
        "                    return True\n",
        "                if row + 3 < 6 and all(self.board[row + i, col] == self.board[row, col] for i in range(4)):\n",
        "                    return True\n",
        "                if row + 3 < 6 and col + 3 < 7 and all(self.board[row + i, col + i] == self.board[row, col] for i in range(4)):\n",
        "                    return True\n",
        "                if row + 3 < 6 and col - 3 >= 0 and all(self.board[row + i, col - i] == self.board[row, col] for i in range(4)):\n",
        "                    return True\n",
        "        # Check for a draw (no more moves available)\n",
        "        if all(self.board[0, c] != 0 for c in range(7)):\n",
        "            return True\n",
        "        return False\n",
        "\n",
        "    def evaluate(self):\n",
        "        # Evaluate the board state\n",
        "        for row in range(6):\n",
        "            for col in range(7):\n",
        "                if self.board[row, col] == 0:\n",
        "                    continue\n",
        "                # Horizontal\n",
        "                if col + 3 < 7 and all(self.board[row, col + i] == self.board[row, col] for i in range(4)):\n",
        "                    return 1 if self.board[row, col] == 1 else -1\n",
        "                # Vertical\n",
        "                if row + 3 < 6 and all(self.board[row + i, col] == self.board[row, col] for i in range(4)):\n",
        "                    return 1 if self.board[row, col] == 1 else -1\n",
        "                # Diagonal /\n",
        "                if row + 3 < 6 and col + 3 < 7 and all(self.board[row + i, col + i] == self.board[row, col] for i in range(4)):\n",
        "                    return 1 if self.board[row, col] == 1 else -1\n",
        "                # Diagonal \\\n",
        "                if row + 3 < 6 and col - 3 >= 0 and all(self.board[row + i, col - i] == self.board[row, col] for i in range(4)):\n",
        "                    return 1 if self.board[row, col] == 1 else -1\n",
        "        # No win, no loss -> return 0\n",
        "        return 0\n",
        "\n",
        "def get_initial_state():\n",
        "    return ConnectFour()\n",
        "\n",
        "# Example usage\n",
        "game = get_initial_state()\n",
        "print(\"Initial board:\\n\", game.board)\n",
        "\n",
        "# Simulate a game (you can replace this with your MCTS implementation)\n",
        "game.apply_action(3)  # Player 1\n",
        "game.apply_action(3)  # Player 2\n",
        "game.apply_action(2)  # Player 1\n",
        "game.apply_action(2)  # Player 2\n",
        "game.apply_action(1)  # Player 1\n",
        "game.apply_action(1)  # Player 2\n",
        "game.apply_action(0)  # Player 1\n",
        "game.apply_action(0)  # Player 2\n",
        "print(\"Board after a few moves:\\n\", game.board)\n",
        "\n",
        "if game.is_terminal():\n",
        "    print(\"Game over!\")\n",
        "    result = game.evaluate()\n",
        "    if result == 1:\n",
        "        print(\"Player 1 wins!\")\n",
        "    elif result == -1:\n",
        "        print(\"Player 2 wins!\")\n",
        "    else:\n",
        "        print(\"It's a draw!\")"
      ]
    },
    {
      "cell_type": "markdown",
      "id": "2-VvMe1kSi4r",
      "metadata": {
        "id": "2-VvMe1kSi4r"
      },
      "source": [
        "## **Conclusion**\n",
        "In this lab, we implemented the Monte Carlo Tree Search algorithm and applied it to the Connect Four game. MCTS is a powerful algorithm used in decision-making processes for games, allowing us to explore and evaluate possible future moves effectively."
      ]
    }
  ],
  "metadata": {
    "colab": {
      "provenance": [],
      "toc_visible": true
    },
    "kernelspec": {
      "display_name": "Python 3",
      "language": "python",
      "name": "python3"
    },
    "language_info": {
      "codemirror_mode": {
        "name": "ipython",
        "version": 3
      },
      "file_extension": ".py",
      "mimetype": "text/x-python",
      "name": "python",
      "nbconvert_exporter": "python",
      "pygments_lexer": "ipython3",
      "version": "3.8.5"
    }
  },
  "nbformat": 4,
  "nbformat_minor": 5
}
