{
  "cells": [
    {
      "cell_type": "markdown",
      "id": "382d213e",
      "metadata": {
        "id": "382d213e"
      },
      "source": [
        "#Lesson 2: Introduction to Artificial Intelligence (AI)\n",
        "\n"
      ]
    },
    {
      "cell_type": "markdown",
      "id": "85805f58",
      "metadata": {
        "id": "85805f58"
      },
      "source": [
        "In this lab we are going through th follwing:\n",
        "\n",
        "1. Introduction to Artificial Intelligence:\n",
        "3. Logics in AI\n",
        "2. Exersices about Logics\n",
        "\n"
      ]
    },
    {
      "cell_type": "markdown",
      "source": [
        "##Introduction to Artificial Intelligence:"
      ],
      "metadata": {
        "id": "1mschgVr-3e3"
      },
      "id": "1mschgVr-3e3"
    },
    {
      "cell_type": "markdown",
      "source": [
        "\n",
        "Artificial Intelligence is a method of making a computer, a computer-controlled robot, or a software think intelligently like the human mind. AI is accomplished by studying the patterns of the human brain and by analyzing the cognitive process. The outcome of these studies develops intelligent software and systems [[1](https://www.simplilearn.com/tutorials/artificial-intelligence-tutorial/what-is-artificial-intelligence#:~:text=Artificial%20Intelligence%20is%20a%20method,develops%20intelligent%20software%20and%20systems.)].\n",
        "\n",
        "\n",
        "![](https://www.aiperspectives.com/wp-content/uploads/2020/03/iStock-1148923626.jpg)"
      ],
      "metadata": {
        "id": "_O-2vSlO1KXN"
      },
      "id": "_O-2vSlO1KXN"
    },
    {
      "cell_type": "markdown",
      "source": [
        "## For discussion :"
      ],
      "metadata": {
        "id": "NsUKF9R3MZvj"
      },
      "id": "NsUKF9R3MZvj"
    },
    {
      "cell_type": "markdown",
      "id": "f4c488bf",
      "metadata": {
        "id": "f4c488bf"
      },
      "source": [
        "### 1- How AI is changing the world?\n"
      ]
    },
    {
      "cell_type": "markdown",
      "id": "5df329f6",
      "metadata": {
        "id": "5df329f6"
      },
      "source": [
        "### 2- Due to AI, which things will be obsolete in the near future?\n"
      ]
    },
    {
      "cell_type": "markdown",
      "id": "12ef8568",
      "metadata": {
        "id": "12ef8568"
      },
      "source": [
        "### 3- The thing you identify to be obsoleted by AI in the near future:\n",
        "\n",
        "- Will bring a positive change towards humanity or a negative change?\n",
        "- Explain the pros and cons of this change.\n",
        "\n"
      ]
    },
    {
      "cell_type": "markdown",
      "id": "e4efbf89",
      "metadata": {
        "id": "e4efbf89"
      },
      "source": [
        "### 4-  Can AI be smarter than Humans?\n",
        "\n",
        "- If Yes, How do you justify?\n",
        "- If No, How do you rationalize?"
      ]
    },
    {
      "cell_type": "markdown",
      "id": "4d7820bb",
      "metadata": {
        "id": "4d7820bb"
      },
      "source": [
        "## Logics in AI :\n",
        "\n"
      ]
    },
    {
      "cell_type": "markdown",
      "source": [
        "**Logic** plays a crucial role in artificial intelligence (AI) by providing a structured approach to reasoning, decision-making, and knowledge representation within AI systems [ [2](https://medium.com/abacus-ai/an-overview-of-logic-in-ai-and-machine-learning-2f41ccb2a335) ] .\n",
        "\n",
        "**Logic** can help AI and ML in complex domains or in domains with very little data."
      ],
      "metadata": {
        "id": "d4hU2Bvf3L6J"
      },
      "id": "d4hU2Bvf3L6J"
    },
    {
      "cell_type": "markdown",
      "source": [
        "**Types of Logic in AI:**\n",
        "\n",
        "1. **Propositional Logic:** This form of logic deals with propositions that are either true or false, aiding tasks like knowledge representation and decision-making in AI [[3](https://www.almabetter.com/bytes/tutorials/artificial-intelligence/propositional-logic-in-ai)].\n",
        "\n",
        "2. **First-order Logic:** An extension of propositional logic that allows for more complex knowledge representation in AI systems [[4](https://www.javatpoint.com/first-order-logic-in-artificial-intelligence)]."
      ],
      "metadata": {
        "id": "VnQjd-nj4FFY"
      },
      "id": "VnQjd-nj4FFY"
    },
    {
      "cell_type": "markdown",
      "source": [
        "###**Propositional Logic:**"
      ],
      "metadata": {
        "id": "EokyK669-urd"
      },
      "id": "EokyK669-urd"
    },
    {
      "cell_type": "markdown",
      "source": [
        "\n",
        "it is the simplest of logic systems (sometimes called zero-order logic). Within propositional logic, we have objects known as sentences or formulae that encode information. They denote some statement about the world. For building blocks, we have basic sentences known as atoms, usually denoted by “P, Q, R, S, …..” [ [2](https://medium.com/abacus-ai/an-overview-of-logic-in-ai-and-machine-learning-2f41ccb2a335)]\n",
        "\n",
        "**Example:**\n",
        "$P$ might stand for “It is raining” and is an atom.\n",
        "\n",
        "![link text](https://miro.medium.com/v2/resize:fit:640/format:webp/1*X9uwpaTq6gVd6MteigUJ3A.png)\n",
        "\n",
        "Atoms can combine with logical connectives such as “and, or, if then” to form more sentences called compound formulae.\n",
        "![link text](https://miro.medium.com/v2/resize:fit:640/format:webp/1*cQaok48nEL2401oCBkwQXw.png)"
      ],
      "metadata": {
        "id": "PCRutGsy5gmT"
      },
      "id": "PCRutGsy5gmT"
    },
    {
      "cell_type": "markdown",
      "source": [
        "**Propositional Logic - Operations**\n",
        "\n",
        "1. **For Every ( ∀ )**  \n",
        "   For Every X its value is 3; ∀x=3\n",
        "\n",
        "2. **There exists ( ∃ )**  \n",
        "   There is an X which is 3; ∃x=3\n",
        "\n",
        "3. **Conjunction ( ∧ )**  \n",
        "   X and Y; x ∧ y\n",
        "\n",
        "4. **Disjunction ( v )**  \n",
        "   X or Y; x v y\n",
        "\n",
        "5. **Implication ( → )**  \n",
        "   If x then y; x → y\n",
        "\n",
        "6. **Biconditional ( ↔ )**  \n",
        "   X if and only if Y; x ↔ y"
      ],
      "metadata": {
        "id": "cPwosbez-qk-"
      },
      "id": "cPwosbez-qk-"
    },
    {
      "cell_type": "markdown",
      "id": "d1dcd3b0",
      "metadata": {
        "id": "d1dcd3b0"
      },
      "source": [
        "### **First-order logic(FOL) :**\n"
      ]
    },
    {
      "cell_type": "markdown",
      "source": [
        "\n",
        "First-order logic(FOL), Predicate logic or First-order predicate logic is an extension to propositional logic. First-order logic expresses information about objects and expresses relationships between those objects in a more functional way in comparison to propositional logic. First-order logic is more concise than propositional logic [[5](https://decadeofdata.com/comparing-propositional-and-first-order-logic-in-ai/)].\n",
        "\n",
        "**Examples:**\n",
        "\n",
        "Every man has a heart = ∀x man(x) → have (x, heart)."
      ],
      "metadata": {
        "id": "Jg4HrSzf8YPd"
      },
      "id": "Jg4HrSzf8YPd"
    },
    {
      "cell_type": "markdown",
      "id": "c8c7659d",
      "metadata": {
        "id": "c8c7659d"
      },
      "source": [
        "## Exercise 1:\n",
        "\n",
        "\n",
        "Convert the natural language into propositional language:\n",
        "```\n",
        "For all Innopolis students, there exists one, who is from Kazan or who hates programming.\n",
        "```\n",
        "\n",
        "\n",
        "\n",
        "\n"
      ]
    },
    {
      "cell_type": "markdown",
      "id": "7de71d8c",
      "metadata": {
        "id": "7de71d8c"
      },
      "source": [
        "## Exercise 2:\n",
        "\n",
        "Convert the propositional language into natural language:\n",
        "\n",
        "\n",
        "\n",
        "```\n",
        "∀X STUDENTS(X) ∧ PROGRAMMER(X) ∧ KAZAN(X) → ∃X INNO_STUDENT(X)\n",
        "```\n",
        "\n",
        "\n"
      ]
    },
    {
      "cell_type": "markdown",
      "id": "2dc4a8be",
      "metadata": {
        "id": "2dc4a8be"
      },
      "source": [
        "## Exercise 3 :\n",
        "\n",
        "Convert the propositional language into truth table:\n",
        "\n",
        "\n",
        "\n",
        "\n",
        "\n",
        "```\n",
        "∀X STUDENTS(X) ∧ PROGRAMMER(X) ∧ KAZAN(X) → ∃X INNO_STUDENT(X)\n",
        "```\n",
        "\n"
      ]
    },
    {
      "cell_type": "markdown",
      "id": "3789e4ed",
      "metadata": {
        "id": "3789e4ed"
      },
      "source": [
        "# Conclusion:"
      ]
    },
    {
      "cell_type": "markdown",
      "source": [
        "Logic plays a critical and multifaceted role in the field of Artificial Intelligence (AI). By providing a formal framework for representing knowledge, logic enables AI systems to perform structured and precise reasoning, make informed decisions, and solve complex problems. The various forms of logic, such as propositional logic, first-order logic, modal logic, and fuzzy logic, each contribute unique strengths, allowing AI to handle a range of tasks from simple rule-based systems to sophisticated knowledge representation and automated reasoning."
      ],
      "metadata": {
        "id": "DVScvrlaAGlA"
      },
      "id": "DVScvrlaAGlA"
    }
  ],
  "metadata": {
    "colab": {
      "provenance": [],
      "collapsed_sections": [
        "3789e4ed"
      ],
      "toc_visible": true
    },
    "language_info": {
      "name": "python"
    },
    "kernelspec": {
      "name": "python3",
      "display_name": "Python 3"
    }
  },
  "nbformat": 4,
  "nbformat_minor": 5
}