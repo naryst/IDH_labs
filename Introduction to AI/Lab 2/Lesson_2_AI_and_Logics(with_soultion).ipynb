{
  "nbformat": 4,
  "nbformat_minor": 0,
  "metadata": {
    "colab": {
      "provenance": []
    },
    "kernelspec": {
      "name": "python3",
      "display_name": "Python 3"
    },
    "language_info": {
      "name": "python"
    }
  },
  "cells": [
    {
      "cell_type": "markdown",
      "metadata": {
        "id": "3706fd02"
      },
      "source": [
        "## Exercise 1 :\n",
        "\n",
        "Convert the natural language into propositional language:\n",
        "\n",
        "For all Innopolis students, there exists one, who is from Kazan or who hates programming.\n",
        "\n",
        "    ∀X INNO_STUDENTS(X) → ∃X KAZAN(X) ∨ PROGRAMMING_HATER(X)\n",
        "\n"
      ]
    },
    {
      "cell_type": "markdown",
      "metadata": {
        "id": "d73e1b97"
      },
      "source": [
        "## Exercise 2:\n",
        "\n",
        "Convert the propositional language into natural language:\n",
        "\n",
        "∀X STUDENTS(X) ∧ PROGRAMMER(X) ∧ KAZAN(X) → ∃X INNO_STUDENT(X)\n",
        "\n",
        "    For all students who are programmers and from Kazan, there exists an Innopolis student.\n",
        "\n"
      ]
    },
    {
      "cell_type": "markdown",
      "metadata": {
        "id": "a68baf9d"
      },
      "source": [
        "## Exersice 3:\n",
        "\n",
        "**Convert the propositional language into truth table:**\n",
        "\n",
        "    ∀X STUDENTS(X) ∧ PROGRAMMER(X) ∧ KAZAN(X) → ∃X INNO_STUDENT(X)\n",
        "\n",
        "| STUDENTS | PROGRAMMER | KAZAN | INNOSTUDENT | Expression  |\n",
        "|----------|-------------|-------|-------------|-------------|\n",
        "| T        | T           | T     | F           | F           |\n",
        "| ANYTHING ELSE | T           |         |             | T           |\n",
        "\n"
      ]
    }
  ]
}