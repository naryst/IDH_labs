{
  "nbformat": 4,
  "nbformat_minor": 0,
  "metadata": {
    "colab": {
      "provenance": []
    },
    "kernelspec": {
      "name": "python3",
      "display_name": "Python 3"
    },
    "language_info": {
      "name": "python"
    }
  },
  "cells": [
    {
      "cell_type": "markdown",
      "source": [
        "## Exercise 1: Family Tree\n",
        "\n",
        "1. Based on lecture example draw your own family tree.\n",
        "2. Write facts and rules for family relationships.\n",
        "Write the program with facts and rules for sisters, brothers, mother, father, aunts,\n",
        "uncles, grandfathers and grandmothers. It should be possible to check all these\n",
        "above mentioned relations.\n",
        "\n",
        "- Create facts with : **male(nick)**.\n",
        "\n",
        "- Create rules for these people like: **mother(X,Y) :parent(X,Y), female(X)**.\n",
        "where X is mother, Y is a child.\n",
        "\n",
        "\n",
        "3. Check queries to validate the relationships, with ?mother( jane,nick)"
      ],
      "metadata": {
        "id": "TwNTBtMKAuP5"
      }
    },
    {
      "cell_type": "markdown",
      "source": [
        "![Capture.PNG](data:image/png;base64,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)"
      ],
      "metadata": {
        "id": "y4PJzKU-AuP6"
      }
    },
    {
      "cell_type": "markdown",
      "metadata": {
        "id": "3u9MCRwOAuP8"
      },
      "source": [
        "\n",
        "```prolog\n",
        "% Facts\n",
        "male(nick).\n",
        "male(dan).\n",
        "male(brad).\n",
        "female(jane).\n",
        "female(alice).\n",
        "female(kate).\n",
        "female(mary).\n",
        "parent(dan, nick).\n",
        "parent(dan, kate).\n",
        "parent(jane, dan).\n",
        "parent(brad, dan).\n",
        "parent(jane, alice).\n",
        "parent(brad, alice).\n",
        "parent(mary, nick).\n",
        "parent(mary, kate).\n",
        "\n",
        "% Rules\n",
        "father(X, Y) :- parent(X, Y), male(X).\n",
        "mother(X, Y) :- parent(X, Y), female(X).\n",
        "grandfather(X, Y) :- father(X, Z), parent(Z, Y).\n",
        "grandmother(X, Y) :- mother(X, Z), parent(Z, Y).\n",
        "sibling(X, Y) :- father(F, X), father(F, Y), mother(M, X), mother(M, Y), X \\= Y.\n",
        "brother(X, Y) :- sibling(X, Y), male(X), X \\= Y.\n",
        "sister(X, Y) :- sibling(X, Y), female(X), X \\= Y.\n",
        "aunt(X, Y) :- parent(Z, Y), sister(X, Z).\n",
        "uncle(X, Y) :- parent(Z, Y), brother(X, Z).\n",
        "\n",
        "% Queries\n",
        "?- mother(jane, nick).\n",
        "% Expected: false\n",
        "?- father(dan, nick).\n",
        "% Expected: true\n",
        "?- parent(jane, X).\n",
        "% Expected: X = dan; X = alice\n",
        "?- aunt(X, Y).\n",
        "% Expected: X = alice, Y = nick; X = alice, Y = kate\n",
        "```\n"
      ]
    },
    {
      "cell_type": "markdown",
      "source": [
        "## Exercise 2: Ages\n",
        "\n",
        "Modify the previous exercise to include additional attributes like surname, age, height, and weight. Create queries to filter people based on these attributes.\n",
        "\n",
        "\n",
        "- Show all people with your surname\n",
        "\n",
        "- Show all people with your age\n",
        "\n",
        "- Show all people with your height\n",
        "\n",
        "- Show all people with your weight"
      ],
      "metadata": {
        "id": "RyrtEjW_-iwX"
      }
    },
    {
      "cell_type": "markdown",
      "metadata": {
        "id": "8dUazhCXx0y7"
      },
      "source": [
        "\n",
        "\n",
        "```prolog\n",
        "% Facts with additional attributes\n",
        "person(nick, [surname(jones), age(25), height(180), weight(75)]).\n",
        "person(dan, [surname(jones), age(50), height(175), weight(80)]).\n",
        "person(jane, [surname(jones), age(48), height(165), weight(65)]).\n",
        "\n",
        "% Query examples\n",
        "?- person(X, [surname(jones)]).\n",
        "% Expected: X = nick; X = dan; X = jane\n",
        "?- person(X, [age(25)]).\n",
        "% Expected: X = nick\n",
        "?- person(X, [height(180)]).\n",
        "% Expected: X = nick\n",
        "?- person(X, [weight(75)]).\n",
        "% Expected: X = nick\n",
        "```\n"
      ]
    },
    {
      "cell_type": "markdown",
      "metadata": {
        "id": "E357MEeax0y7"
      },
      "source": [
        "## Exercise 3: Homework\n",
        "\n",
        "As previous exercise, we want to get all people with same surname without\n",
        "adding rules to your code , only facts are used.\n",
        "\n",
        "**Your name is nick if you are a boy**.\n",
        "\n",
        "**Your name is jane if you are a girl**.\n",
        "\n",
        "\n"
      ]
    },
    {
      "cell_type": "markdown",
      "source": [
        "\n",
        "\n",
        "```\n",
        "?- person(X, [surname(jones)]).\n",
        "% Expected: X = nick; X = dan; X = jane\n",
        "```\n",
        "\n"
      ],
      "metadata": {
        "id": "aH-daRWbCDel"
      }
    },
    {
      "cell_type": "markdown",
      "source": [
        "## Exercise 4: Bonus Exercise\n",
        "\n",
        "Write a Prolog program to count from 1 to 10 using recursive rules."
      ],
      "metadata": {
        "id": "vPOM0zfM_LLY"
      }
    },
    {
      "cell_type": "markdown",
      "metadata": {
        "id": "Egz6eqBgx0y7"
      },
      "source": [
        "\n",
        "\n",
        "```prolog\n",
        "count(10).\n",
        "count(X) :- X < 10, Y is X + 1, count(Y).\n",
        "\n",
        "% Query to start counting\n",
        "?- count(1).\n",
        "```\n"
      ]
    }
  ]
}