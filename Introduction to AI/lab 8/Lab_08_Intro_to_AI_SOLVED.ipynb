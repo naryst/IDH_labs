{
  "cells": [
    {
      "cell_type": "markdown",
      "id": "Mqq1N3AzN9nb",
      "metadata": {
        "id": "Mqq1N3AzN9nb"
      },
      "source": [
        "# **Introduction to AI - Lab 8**"
      ]
    },
    {
      "cell_type": "markdown",
      "id": "4jfH6yNeN9nj",
      "metadata": {
        "id": "4jfH6yNeN9nj"
      },
      "source": [
        "## **Statistical Methods**"
      ]
    },
    {
      "cell_type": "markdown",
      "id": "dwelt4aAN9nk",
      "metadata": {
        "id": "dwelt4aAN9nk"
      },
      "source": [
        "### Motivation\n",
        "In this lab, we will explore various statistical methods that are fundamental in data analysis and hypothesis testing. These methods include measures of central tendency, measures of variability, and statistical tests such as the t-test and the Wilcoxon Rank-Sum Test."
      ]
    },
    {
      "cell_type": "markdown",
      "id": "GhPgVMFoN9nl",
      "metadata": {
        "id": "GhPgVMFoN9nl"
      },
      "source": [
        "### Measures of Central Tendency\n",
        "- **Mean:** The average of a set of numbers.\n",
        "- **Median:** The middle value in a set of ordered numbers.\n",
        "- **Mode:** The most frequent value in a set of numbers."
      ]
    },
    {
      "cell_type": "markdown",
      "id": "0Zf-krpMN9nl",
      "metadata": {
        "id": "0Zf-krpMN9nl"
      },
      "source": [
        "### Measures of Variability\n",
        "- **Variance:** The measure of the dispersion of a set of data points around their mean value.\n",
        "- **Standard Deviation:** The square root of the variance, representing the dispersion of a dataset."
      ]
    },
    {
      "cell_type": "markdown",
      "id": "Ir3QdvZYN9nm",
      "metadata": {
        "id": "Ir3QdvZYN9nm"
      },
      "source": [
        "## **Task 1: Calculating Mean, Variance, and Standard Deviation**\n",
        "In this task, we will calculate the mean, variance, and standard deviation for a given dataset."
      ]
    },
    {
      "cell_type": "code",
      "execution_count": null,
      "id": "HvQT2LguN9nm",
      "metadata": {
        "id": "HvQT2LguN9nm"
      },
      "outputs": [],
      "source": [
        "import numpy as np\n",
        "\n",
        "# Dataset\n",
        "data = [5, 6, 6, 4]\n",
        "\n",
        "# Mean\n",
        "mean = np.mean(data)\n",
        "print('Mean:', mean)\n",
        "\n",
        "# Variance\n",
        "variance = np.var(data, ddof=0)  # Population variance\n",
        "print('Variance:', variance)\n",
        "\n",
        "# Standard Deviation\n",
        "std_dev = np.std(data, ddof=0)  # Population standard deviation\n",
        "print('Standard Deviation:', std_dev)"
      ]
    },
    {
      "cell_type": "markdown",
      "id": "eaRw-ziVN9nn",
      "metadata": {
        "id": "eaRw-ziVN9nn"
      },
      "source": [
        "## **Task 2: Calculating Median and Mode**\n",
        "In this task, we will calculate the median and mode for a given dataset."
      ]
    },
    {
      "cell_type": "code",
      "execution_count": null,
      "id": "v4MBHEz_N9no",
      "metadata": {
        "id": "v4MBHEz_N9no"
      },
      "outputs": [],
      "source": [
        "from scipy import stats\n",
        "\n",
        "# Median\n",
        "median = np.median(data)\n",
        "print('Median:', median)\n",
        "\n",
        "# Mode\n",
        "mode = stats.mode(data)\n",
        "print('Mode:', mode.mode[0])"
      ]
    },
    {
      "cell_type": "markdown",
      "id": "Cfd-6HhlN9no",
      "metadata": {
        "id": "Cfd-6HhlN9no"
      },
      "source": [
        "### Statistical Tests\n",
        "Statistical tests help us validate or invalidate statistical hypotheses with a certain degree of confidence. We will explore the t-test and the Wilcoxon Rank-Sum Test."
      ]
    },
    {
      "cell_type": "markdown",
      "id": "3NKtctfkN9np",
      "metadata": {
        "id": "3NKtctfkN9np"
      },
      "source": [
        "## **Task 3: Performing a T-Test**\n",
        "The t-test assesses whether the means of two groups are statistically different from each other. We will perform a t-test on two sample datasets."
      ]
    },
    {
      "cell_type": "code",
      "execution_count": null,
      "id": "ZdW2PuoGN9np",
      "metadata": {
        "id": "ZdW2PuoGN9np"
      },
      "outputs": [],
      "source": [
        "# Sample datasets\n",
        "data1 = [12, 8, 10, 10, 8, 12]\n",
        "data2 = [15, 12, 14, 14, 12, 15]\n",
        "\n",
        "# T-test\n",
        "t_stat, p_value = stats.ttest_ind(data1, data2)\n",
        "print('T-Statistic:', t_stat)\n",
        "print('P-Value:', p_value)"
      ]
    },
    {
      "cell_type": "markdown",
      "id": "9t9h3i98N9np",
      "metadata": {
        "id": "9t9h3i98N9np"
      },
      "source": [
        "## **Task 4: Performing a Wilcoxon Rank-Sum Test**\n",
        "The Wilcoxon Rank-Sum Test is used to test whether two samples are likely to derive from the same population. We will perform this test on two sample datasets."
      ]
    },
    {
      "cell_type": "code",
      "execution_count": null,
      "id": "dtzs2YNHN9np",
      "metadata": {
        "id": "dtzs2YNHN9np"
      },
      "outputs": [],
      "source": [
        "# Wilcoxon Rank-Sum Test\n",
        "w_stat, p_value = stats.ranksums(data1, data2)\n",
        "print('Wilcoxon Statistic:', w_stat)\n",
        "print('P-Value:', p_value)"
      ]
    },
    {
      "cell_type": "markdown",
      "id": "44cNNiHlN9np",
      "metadata": {
        "id": "44cNNiHlN9np"
      },
      "source": [
        "## **Conclusion**\n",
        "In this lab, we calculated various statistical measures and performed statistical tests to analyze datasets. These methods are crucial in data analysis for validating hypotheses and drawing meaningful conclusions from data."
      ]
    }
  ],
  "metadata": {
    "colab": {
      "provenance": [],
      "toc_visible": true
    },
    "kernelspec": {
      "display_name": "Python 3",
      "language": "python",
      "name": "python3"
    },
    "language_info": {
      "codemirror_mode": {
        "name": "ipython",
        "version": 3
      },
      "file_extension": ".py",
      "mimetype": "text/x-python",
      "name": "python",
      "nbconvert_exporter": "python",
      "pygments_lexer": "ipython3",
      "version": "3.8.5"
    }
  },
  "nbformat": 4,
  "nbformat_minor": 5
}
