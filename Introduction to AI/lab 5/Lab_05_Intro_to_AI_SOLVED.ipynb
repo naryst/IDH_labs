{
  "cells": [
    {
      "cell_type": "markdown",
      "metadata": {
        "id": "i_eXMthTk5YZ"
      },
      "source": [
        "# **Introduction to AI - Lab 5**"
      ],
      "id": "i_eXMthTk5YZ"
    },
    {
      "cell_type": "markdown",
      "metadata": {
        "id": "B-sgcNKMk5Yc"
      },
      "source": [
        "## **Minimax Algorithm and Alpha-Beta Pruning**"
      ],
      "id": "B-sgcNKMk5Yc"
    },
    {
      "cell_type": "markdown",
      "metadata": {
        "id": "jQ00NRXjk5Yc"
      },
      "source": [
        "### Motivation\n",
        "In this lab, we will explore the basics of the Minimax algorithm and Alpha-Beta pruning. These algorithms are fundamental in decision-making processes for two-player games, where each player aims to maximize their benefit while minimizing the opponent's gain."
      ],
      "id": "jQ00NRXjk5Yc"
    },
    {
      "cell_type": "markdown",
      "metadata": {
        "id": "qMHEHrtUk5Yc"
      },
      "source": [
        "### Components of Minimax and Alpha-Beta Pruning\n",
        "- **Minimax Algorithm:** A recursive algorithm used for choosing the next move in games by minimizing the possible loss for a worst-case scenario.\n",
        "- **Alpha-Beta Pruning:** An optimization technique for the Minimax algorithm that reduces the number of nodes evaluated in the game tree by pruning branches that will not affect the final decision."
      ],
      "id": "qMHEHrtUk5Yc"
    },
    {
      "cell_type": "markdown",
      "metadata": {
        "id": "fN-4lph1k5Yd"
      },
      "source": [
        "### Understanding the Minimax Algorithm\n",
        "The Minimax algorithm generates a game tree, explores all possible moves by both players, and chooses the move that minimizes the possible loss while maximizing the minimum gain. Here's a pseudocode representation:\n",
        "\n",
        "```python\n",
        "def minimax(node, depth, maximizingPlayer):\n",
        "    if depth == 0 or node is a terminal node:\n",
        "        return the heuristic value of node\n",
        "    if maximizingPlayer:\n",
        "        maxEval = -infinity\n",
        "        for each child of node:\n",
        "            eval = minimax(child, depth - 1, False)\n",
        "            maxEval = max(maxEval, eval)\n",
        "        return maxEval\n",
        "    else:\n",
        "        minEval = +infinity\n",
        "        for each child of node:\n",
        "            eval = minimax(child, depth - 1, True)\n",
        "            minEval = min(minEval, eval)\n",
        "        return minEval\n",
        "```\n",
        "\n",
        "### Understanding Alpha-Beta Pruning\n",
        "Alpha-Beta pruning enhances the Minimax algorithm by adding two parameters, alpha and beta, which represent the minimum score that the maximizing player is assured of and the maximum score that the minimizing player is assured of, respectively. This reduces the number of nodes evaluated in the game tree:\n",
        "\n",
        "```python\n",
        "def alphabeta(node, depth, alpha, beta, maximizingPlayer):\n",
        "    if depth == 0 or node is a terminal node:\n",
        "        return the heuristic value of node\n",
        "    if maximizingPlayer:\n",
        "        maxEval = -infinity\n",
        "        for each child of node:\n",
        "            eval = alphabeta(child, depth - 1, alpha, beta, False)\n",
        "            maxEval = max(maxEval, eval)\n",
        "            alpha = max(alpha, eval)\n",
        "            if beta <= alpha:\n",
        "                break\n",
        "        return maxEval\n",
        "    else:\n",
        "        minEval = +infinity\n",
        "        for each child of node:\n",
        "            eval = alphabeta(child, depth - 1, alpha, beta, True)\n",
        "            minEval = min(minEval, eval)\n",
        "            beta = min(beta, eval)\n",
        "            if beta <= alpha:\n",
        "                break\n",
        "        return minEval\n",
        "```"
      ],
      "id": "fN-4lph1k5Yd"
    },
    {
      "cell_type": "markdown",
      "metadata": {
        "id": "jM2t15omk5Yd"
      },
      "source": [
        "## **Excercise 1: Implementing the Minimax Algorithm**\n",
        "In this Excercise, we will implement the Minimax algorithm to evaluate a simple game tree."
      ],
      "id": "jM2t15omk5Yd"
    },
    {
      "cell_type": "code",
      "execution_count": null,
      "metadata": {
        "id": "cJtB0-nzk5Yd"
      },
      "outputs": [],
      "source": [
        "class Node:\n",
        "    def __init__(self, value=None, children=None):\n",
        "        self.value = value\n",
        "        self.children = children or []\n",
        "\n",
        "def minimax(node, depth, maximizingPlayer):\n",
        "    if depth == 0 or not node.children:\n",
        "        return node.value\n",
        "    if maximizingPlayer:\n",
        "        maxEval = float('-inf')\n",
        "        for child in node.children:\n",
        "            eval = minimax(child, depth - 1, False)\n",
        "            maxEval = max(maxEval, eval)\n",
        "        return maxEval\n",
        "    else:\n",
        "        minEval = float('inf')\n",
        "        for child in node.children:\n",
        "            eval = minimax(child, depth - 1, True)\n",
        "            minEval = min(minEval, eval)\n",
        "        return minEval\n",
        "\n",
        "# Example game tree\n",
        "leaf_nodes = [Node(3), Node(5), Node(2), Node(9), Node(12), Node(5), Node(23), Node(23)]\n",
        "intermediate_nodes = [Node(children=[leaf_nodes[0], leaf_nodes[1]]), Node(children=[leaf_nodes[2], leaf_nodes[3]]),\n",
        "                      Node(children=[leaf_nodes[4], leaf_nodes[5]]), Node(children=[leaf_nodes[6], leaf_nodes[7]])]\n",
        "root = Node(children=[intermediate_nodes[0], intermediate_nodes[1], intermediate_nodes[2], intermediate_nodes[3]])\n",
        "\n",
        "print(\"Minimax value:\", minimax(root, 3, True))"
      ],
      "id": "cJtB0-nzk5Yd"
    },
    {
      "cell_type": "markdown",
      "metadata": {
        "id": "H_I3iu1ik5Ye"
      },
      "source": [
        "## **Excercise 2: Implementing Alpha-Beta Pruning**\n",
        "In this excercise, we will implement the Alpha-Beta pruning algorithm to improve the efficiency of the Minimax algorithm."
      ],
      "id": "H_I3iu1ik5Ye"
    },
    {
      "cell_type": "code",
      "execution_count": null,
      "metadata": {
        "id": "cJ0Z2-Hik5Yf"
      },
      "outputs": [],
      "source": [
        "def alphabeta(node, depth, alpha, beta, maximizingPlayer):\n",
        "    if depth == 0 or not node.children:\n",
        "        return node.value\n",
        "    if maximizingPlayer:\n",
        "        maxEval = float('-inf')\n",
        "        for child in node.children:\n",
        "            eval = alphabeta(child, depth - 1, alpha, beta, False)\n",
        "            maxEval = max(maxEval, eval)\n",
        "            alpha = max(alpha, eval)\n",
        "            if beta <= alpha:\n",
        "                break\n",
        "        return maxEval\n",
        "    else:\n",
        "        minEval = float('inf')\n",
        "        for child in node.children:\n",
        "            eval = alphabeta(child, depth - 1, alpha, beta, True)\n",
        "            minEval = min(minEval, eval)\n",
        "            beta = min(beta, eval)\n",
        "            if beta <= alpha:\n",
        "                break\n",
        "        return minEval\n",
        "\n",
        "print(\"Alpha-Beta Pruning value:\", alphabeta(root, 3, float('-inf'), float('inf'), True))"
      ],
      "id": "cJ0Z2-Hik5Yf"
    },
    {
      "cell_type": "markdown",
      "metadata": {
        "id": "HUAVxRHbk5Yf"
      },
      "source": [
        "## **Conclusion**\n",
        "In this lab, we implemented the Minimax algorithm and enhanced it with Alpha-Beta pruning to optimize its efficiency. These algorithms are fundamental in AI for making decisions in two-player games, ensuring that the best possible move is chosen by considering the opponent's optimal moves."
      ],
      "id": "HUAVxRHbk5Yf"
    }
  ],
  "metadata": {
    "kernelspec": {
      "display_name": "Python 3",
      "language": "python",
      "name": "python3"
    },
    "language_info": {
      "codemirror_mode": {
        "name": "ipython",
        "version": 3
      },
      "file_extension": ".py",
      "mimetype": "text/x-python",
      "name": "python",
      "nbconvert_exporter": "python",
      "pygments_lexer": "ipython3",
      "version": "3.8.5"
    },
    "colab": {
      "provenance": [],
      "toc_visible": true
    }
  },
  "nbformat": 4,
  "nbformat_minor": 5
}