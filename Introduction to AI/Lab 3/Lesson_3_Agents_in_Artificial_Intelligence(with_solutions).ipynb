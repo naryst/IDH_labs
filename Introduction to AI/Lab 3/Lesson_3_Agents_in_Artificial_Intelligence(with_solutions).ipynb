{
  "nbformat": 4,
  "nbformat_minor": 0,
  "metadata": {
    "colab": {
      "provenance": []
    },
    "kernelspec": {
      "name": "python3",
      "display_name": "Python 3"
    },
    "language_info": {
      "name": "python"
    }
  },
  "cells": [
    {
      "cell_type": "markdown",
      "source": [
        "##### Exercise 1:\n",
        "complete the following code.Modify the SimpleReflexAgent to handle a new percept \"Obstacle in front\".\n",
        "\n",
        "\n",
        "- Add a new condition in the get_action method to handle the percept \"Obstacle in front\".\n",
        "- Test the agent with various percepts including the new one.\n"
      ],
      "metadata": {
        "id": "5Ll_0SY-44x-"
      }
    },
    {
      "cell_type": "code",
      "source": [
        "class SimpleReflexAgent:\n",
        "    def __init__(self):\n",
        "        pass\n",
        "\n",
        "    def get_action(self, percept):\n",
        "        if percept == \"Obstacle on the left\":\n",
        "            return \"Move Right\"\n",
        "        elif percept == \"Obstacle on the right\":\n",
        "            return \"Move Left\"\n",
        "        elif percept == \"Dirt\":\n",
        "            return \"Clean\"\n",
        "        elif percept == \"Obstacle in front\":\n",
        "            return \"Turn Around\"\n",
        "        else:\n",
        "            return \"Stay\"\n",
        "\n",
        "# Example usage\n",
        "agent = SimpleReflexAgent()\n",
        "percepts = [\"Dirt\", \"Obstacle on the left\", \"Obstacle on the right\", \"Obstacle in front\", \"Clean\"]\n",
        "actions = [agent.get_action(p) for p in percepts]\n",
        "for percept, action in zip(percepts, actions):\n",
        "    print(f\"Percept: {percept} -> Action: {action}\")\n"
      ],
      "metadata": {
        "id": "dxrA2lar5FCz",
        "colab": {
          "base_uri": "https://localhost:8080/"
        },
        "outputId": "4bb5c0a6-70e1-4785-b6dd-5971383524bc"
      },
      "execution_count": 1,
      "outputs": [
        {
          "output_type": "stream",
          "name": "stdout",
          "text": [
            "Percept: Dirt -> Action: Clean\n",
            "Percept: Obstacle on the left -> Action: Move Right\n",
            "Percept: Obstacle on the right -> Action: Move Left\n",
            "Percept: Obstacle in front -> Action: Turn Around\n",
            "Percept: Clean -> Action: Stay\n"
          ]
        }
      ]
    },
    {
      "cell_type": "code",
      "source": [
        "# Assert statements to validate the functionality\n",
        "expected_actions = [\"Clean\", \"Move Right\", \"Move Left\", \"Turn Around\", \"Stay\"] # Define the expected actions\n",
        "for percept, action, expected in zip(percepts, actions, expected_actions):\n",
        "    assert action == expected, f\"Failed for percept {percept}: expected {expected}, got {action}\"\n",
        "print(\"All assertions passed for SimpleReflexAgent.\")"
      ],
      "metadata": {
        "colab": {
          "base_uri": "https://localhost:8080/"
        },
        "id": "9ghlWYpZgFVd",
        "outputId": "e0b0e3a9-40f6-4412-9511-de180ea691c1"
      },
      "execution_count": 3,
      "outputs": [
        {
          "output_type": "stream",
          "name": "stdout",
          "text": [
            "All assertions passed for SimpleReflexAgent.\n"
          ]
        }
      ]
    },
    {
      "cell_type": "markdown",
      "source": [
        "##### Exercise 2:\n",
        "complete the following code.Implement a ModelBasedReflexAgent that keeps track of the last percept.\n",
        "\n",
        "- Modify the ModelBasedReflexAgent class to store the last percept.\n",
        "- Implement logic to decide actions based on the current and previous percepts..\n",
        "\n"
      ],
      "metadata": {
        "id": "v22TmKvi5T1a"
      }
    },
    {
      "cell_type": "code",
      "source": [
        "class ModelBasedReflexAgent:\n",
        "    def __init__(self):\n",
        "        self.last_percept = None\n",
        "\n",
        "    def update_state(self, percept):\n",
        "        self.last_percept = percept\n",
        "\n",
        "    def get_action(self, percept):\n",
        "        self.update_state(percept)\n",
        "        if self.last_percept == \"Dirt\" and percept == \"Obstacle on the left\":\n",
        "            return \"Clean and Move Right\"\n",
        "        elif percept == \"Obstacle on the left\":\n",
        "            return \"Move Right\"\n",
        "        elif percept == \"Obstacle on the right\":\n",
        "            return \"Move Left\"\n",
        "        elif percept == \"Dirt\":\n",
        "            return \"Clean\"\n",
        "        else:\n",
        "            return \"Stay\"\n",
        "\n",
        "# Example usage\n",
        "agent = ModelBasedReflexAgent()\n",
        "percepts = [\"Dirt\", \"Obstacle on the left\", \"Dirt\", \"Obstacle on the right\", \"Clean\"]\n",
        "actions = [agent.get_action(p) for p in percepts]\n",
        "for percept, action in zip(percepts, actions):\n",
        "    print(f\"Percept: {percept} -> Action: {action}\")\n"
      ],
      "metadata": {
        "id": "f4Bl3Jse5hBC",
        "colab": {
          "base_uri": "https://localhost:8080/"
        },
        "outputId": "1ce39def-40fa-4bd2-a980-17fd243dd504"
      },
      "execution_count": 7,
      "outputs": [
        {
          "output_type": "stream",
          "name": "stdout",
          "text": [
            "Percept: Dirt -> Action: Clean\n",
            "Percept: Obstacle on the left -> Action: Move Right\n",
            "Percept: Dirt -> Action: Clean\n",
            "Percept: Obstacle on the right -> Action: Move Left\n",
            "Percept: Clean -> Action: Stay\n"
          ]
        }
      ]
    },
    {
      "cell_type": "markdown",
      "source": [
        "##### Exercise 3:\n",
        "complete the following code.Design a GoalBasedAgent that tries to reach a specific position on a grid.\n",
        "\n",
        "- Create a GoalBasedAgent class with a goal state.\n",
        "- Implement a method to determine the action based on the current state and goal state."
      ],
      "metadata": {
        "id": "Yqk7FuWJ6Ibv"
      }
    },
    {
      "cell_type": "code",
      "source": [
        "class GoalBasedAgent:\n",
        "    def __init__(self, goal):\n",
        "        self.goal = goal\n",
        "\n",
        "    def get_action(self, state):\n",
        "        if state == self.goal:\n",
        "            return \"Goal Reached\"\n",
        "        elif state[0] < self.goal[0]:\n",
        "            return \"Move Down\"\n",
        "        elif state[0] > self.goal[0]:\n",
        "            return \"Move Up\"\n",
        "        elif state[1] < self.goal[1]:\n",
        "            return \"Move Right\"\n",
        "        elif state[1] > self.goal[1]:\n",
        "            return \"Move Left\"\n",
        "\n",
        "# Example usage\n",
        "agent = GoalBasedAgent(goal=(2, 2))\n",
        "states = [(0, 0), (1, 0), (1, 1), (2, 1), (2, 2)]\n",
        "actions = [agent.get_action(s) for s in states]\n",
        "for state, action in zip(states, actions):\n",
        "    print(f\"State: {state} -> Action: {action}\")\n"
      ],
      "metadata": {
        "id": "BI9s0IzS6Rol",
        "colab": {
          "base_uri": "https://localhost:8080/"
        },
        "outputId": "003c77b8-a237-453d-fc4d-97381a5b66bf"
      },
      "execution_count": 38,
      "outputs": [
        {
          "output_type": "stream",
          "name": "stdout",
          "text": [
            "State: (0, 0) -> Action: Move Down\n",
            "State: (1, 0) -> Action: Move Down\n",
            "State: (1, 1) -> Action: Move Down\n",
            "State: (2, 1) -> Action: Move Right\n",
            "State: (2, 2) -> Action: Goal Reached\n"
          ]
        }
      ]
    },
    {
      "cell_type": "markdown",
      "source": [
        "##### Exercise 4:\n",
        "complete the following code. Create a UtilityBasedAgent with a custom utility function for a different scenario.\n",
        "\n",
        "\n",
        "- Define a custom utility function that returns a utility value for different states.\n",
        "- Implement a UtilityBasedAgent that uses this utility function to decide actions."
      ],
      "metadata": {
        "id": "CnwKhxdi6qQR"
      }
    },
    {
      "cell_type": "code",
      "source": [
        "class UtilityBasedAgent:\n",
        "    def __init__(self, utility_function):\n",
        "        self.utility_function = utility_function\n",
        "\n",
        "    def get_action(self, state):\n",
        "        utility = self.utility_function(state)\n",
        "        if utility > 0.8:\n",
        "            return \"High Utility Action\"\n",
        "        else:\n",
        "            return \"Low Utility Action\"\n",
        "\n",
        "# Example custom utility function\n",
        "def custom_utility_function(state):\n",
        "    return 0.9 if state == \"All rooms clean\" else 0.2\n",
        "\n",
        "# Example usage\n",
        "agent = UtilityBasedAgent(custom_utility_function)\n",
        "states = [\"Rooms partially cleaned\", \"All rooms clean\"]\n",
        "actions = [agent.get_action(s) for s in states]\n",
        "for state, action in zip(states, actions):\n",
        "    print(f\"State: {state} -> Action: {action}\")\n",
        "\n",
        "# Updated expected actions for UtilityBasedAgent\n",
        "expected_actions = [\"Low Utility Action\", \"High Utility Action\"]  # Adjust based on expected behavior\n",
        "\n",
        "# Assert statements to validate the functionality\n",
        "for state, action, expected in zip(states, actions, expected_actions):\n",
        "    assert action == expected, f\"Failed for state {state}: expected {expected}, got {action}\"\n",
        "print(\"All assertions passed for UtilityBasedAgent.\")"
      ],
      "metadata": {
        "colab": {
          "base_uri": "https://localhost:8080/"
        },
        "id": "1Hp1UqRllAYk",
        "outputId": "302d7ad8-32b6-47ae-eeda-2e41020fc9d8"
      },
      "execution_count": 35,
      "outputs": [
        {
          "output_type": "stream",
          "name": "stdout",
          "text": [
            "State: Rooms partially cleaned -> Action: Low Utility Action\n",
            "State: All rooms clean -> Action: High Utility Action\n",
            "All assertions passed for UtilityBasedAgent.\n"
          ]
        }
      ]
    },
    {
      "cell_type": "markdown",
      "metadata": {
        "id": "lqciZvvgTS0P"
      },
      "source": [
        "\n",
        "#### **Exercise 5**:\n",
        "complete the following code. Develop a LearningAgent that can remember and act upon multiple states.\n",
        "\n",
        "\n",
        "- Implement a LearningAgent class that maintains a knowledge base of known states.\n",
        "- Add learning functionality to update the knowledge base with new experiences.\n",
        "- Implement logic to choose actions based on known or new states.\n"
      ]
    },
    {
      "cell_type": "code",
      "source": [
        "class LearningAgent:\n",
        "    def __init__(self):\n",
        "        self.knowledge_base = {}\n",
        "\n",
        "    def learn(self, state, action):\n",
        "        self.knowledge_base[state] = action\n",
        "\n",
        "    def get_action(self, state):\n",
        "        if state in self.knowledge_base:\n",
        "            return self.knowledge_base[state]\n",
        "        else:\n",
        "            action = self.explore(state)\n",
        "            self.learn(state, action)\n",
        "            return action\n",
        "\n",
        "    def explore(self, state):\n",
        "        # Simple exploration strategy (can be improved)\n",
        "        return \"Explore Action\"\n",
        "\n",
        "# Example usage and test\n",
        "agent = LearningAgent()\n",
        "# Simulating learning process\n",
        "agent.learn(\"Known clean room\", \"Stay\")\n",
        "states = [\"New room with dirt\", \"Known clean room\", \"New room with obstacle\"]\n",
        "expected_actions = [\"Explore Action\", \"Stay\", \"Explore Action\"]\n",
        "actions = [agent.get_action(s) for s in states]\n",
        "\n",
        "# Assert statements to validate the functionality\n",
        "for state, action, expected in zip(states, actions, expected_actions):\n",
        "    assert action == expected, f\"Failed for state {state}: expected {expected}, got {action}\"\n",
        "print(\"All assertions passed for LearningAgent.\")\n"
      ],
      "metadata": {
        "id": "f-hZsLZPd_gw",
        "colab": {
          "base_uri": "https://localhost:8080/"
        },
        "outputId": "24c42b4b-3a7a-448f-a016-7645bfe048cc"
      },
      "execution_count": 36,
      "outputs": [
        {
          "output_type": "stream",
          "name": "stdout",
          "text": [
            "All assertions passed for LearningAgent.\n"
          ]
        }
      ]
    },
    {
      "cell_type": "code",
      "source": [],
      "metadata": {
        "id": "m7UzW7q8loVR"
      },
      "execution_count": null,
      "outputs": []
    }
  ]
}