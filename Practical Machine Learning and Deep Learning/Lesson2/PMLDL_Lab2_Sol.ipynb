{
 "cells": [
  {
   "cell_type": "markdown",
   "metadata": {
    "_cell_guid": "b1076dfc-b9ad-4769-8c92-a6c4dae69d19",
    "_uuid": "8f2839f25d086af736a60e9eeb907d3b93b6e0e5",
    "id": "qMvtTHcOmnSD"
   },
   "source": [
    "# Practical Machine Learning and Deep Learning\n",
    "## Lesson 2: Tools and Processes for Machine Learning and Data Analysis\n",
    "\n",
    "### Introduction\n",
    "\n",
    "We will learn the basic tools and processes needed to analyze data and create machine learning models. An introduction to important tools such as programming languages, libraries, and development environments will help us prepare for practical data analysis tasks. We will also review the steps of data preparation, model training, and model evaluation to understand how these processes integrate to solve real-world machine learning problems.\n",
    "\n",
    "### Goal\n",
    "Your goal is to familiarize yourself with tools for data processing, model training and inference, and ways to log model metrics\n",
    "\n",
    "## Submission\n",
    "Your goal is to implement small neural network to classify images and generate `submission.csv` for the test set"
   ]
  },
  {
   "cell_type": "markdown",
   "metadata": {
    "id": "Cu4Oce1PmnSH"
   },
   "source": [
    "## Libraries\n",
    "\n",
    "### Frameworks\n",
    "\n",
    "#### PyTorch\n",
    "- PyTorch is an open-source machine learning library primarily developed by Facebook's AI Research lab. It is widely used for deep learning tasks.\n",
    "\n",
    "#### TensorFlow\n",
    "- TensorFlow is an open-source machine learning framework developed by Google. It's designed for building and training deep neural networks.\n",
    "\n",
    "### Logging\n",
    "\n",
    "\n",
    "##### Tensorboard\n",
    "\n",
    "   - TensorBoard is a visualization tool provided by TensorFlow for monitoring and visualizing the training process and model performance during machine learning experiments.\n",
    "\n",
    "\n",
    "##### WandB (Weights & Biases)\n",
    "\n",
    "   - Weights & Biases is a platform that provides tools for tracking, visualizing, and optimizing machine learning experiments\n",
    "\n",
    "##### ClearML\n",
    "   - ClearML is an open-source machine learning platform designed to automate and streamline the end-to-end machine learning workflow, including data management, model training, and deployment.\n",
    "\n",
    "\n",
    "### Data Preprocessing\n",
    "   Data preprocessing involves cleaning, transforming, and organizing raw data to make it suitable for analysis or machine learning. This step is essential for improving data quality and model performance.\n",
    "\n",
    "##### Pandas\n",
    " - Pandas is an open-source data manipulation and analysis library for Python. It provides data structures like DataFrames and Series, making it easy to work with structured data.\n",
    "\n",
    "##### Matplotlib\n",
    "- Matplotlib is a Python library for creating static, animated, and interactive visualizations in various formats. It's commonly used for data visualization and plotting.\n",
    "\n",
    "##### Torchvision\n",
    "- Torchvision is a PyTorch library that offers datasets, transformations, and models for computer vision tasks.\n",
    "\n",
    "##### Torchtext\n",
    "- Torchtext is a PyTorch library that offers datasets, transformations, and models for natural language processing tasks.\n",
    "      "
   ]
  },
  {
   "cell_type": "markdown",
   "source": [
    "## Importing required Libraries\n",
    "\n",
    "First we need to import necessary libraries:\n",
    "\n",
    "[Pandas](https://pandas.pydata.org/) - For data analysis and manipulation\n",
    "\n",
    "[Numpy](https://numpy.org/) - To deal with matrices\n",
    "\n",
    "[Torch](https://pytorch.org/) - For buliding a neural network\n",
    "\n",
    "[Warnings](https://docs.python.org/3/library/warnings.html) - To curb warnings to ensure smooth workflow"
   ],
   "metadata": {
    "id": "XCXK8lyPoqIA"
   }
  },
  {
   "cell_type": "code",
   "execution_count": null,
   "metadata": {
    "execution": {
     "iopub.execute_input": "2023-09-02T11:15:14.607460Z",
     "iopub.status.busy": "2023-09-02T11:15:14.606755Z",
     "iopub.status.idle": "2023-09-02T11:15:14.643395Z",
     "shell.execute_reply": "2023-09-02T11:15:14.641788Z",
     "shell.execute_reply.started": "2023-09-02T11:15:14.607399Z"
    },
    "trusted": true,
    "id": "FN_lFIzOmnSH"
   },
   "outputs": [],
   "source": [
    "# We will use tensorboard as logging tool.\n",
    "# !pip install tensorboard"
   ]
  },
  {
   "cell_type": "code",
   "execution_count": 2,
   "metadata": {
    "execution": {
     "iopub.execute_input": "2023-09-02T11:15:14.649741Z",
     "iopub.status.busy": "2023-09-02T11:15:14.647016Z",
     "iopub.status.idle": "2023-09-02T11:15:14.681450Z",
     "shell.execute_reply": "2023-09-02T11:15:14.679853Z",
     "shell.execute_reply.started": "2023-09-02T11:15:14.649677Z"
    },
    "trusted": true,
    "id": "a0C6wRRImnSJ",
    "ExecuteTime": {
     "end_time": "2024-07-16T12:31:31.124131Z",
     "start_time": "2024-07-16T12:31:31.114514Z"
    }
   },
   "outputs": [],
   "source": [
    "import pandas as pd\n",
    "import numpy as np\n",
    "import torch\n",
    "import torch.nn as nn\n",
    "import torch.optim as optim\n",
    "from torch.utils.data import DataLoader, TensorDataset, random_split\n",
    "import torchvision.transforms as transforms\n",
    "from torch.utils.tensorboard import SummaryWriter\n",
    "from tqdm import tqdm\n",
    "import matplotlib.pyplot as plt\n",
    "\n",
    "import warnings\n",
    "warnings.filterwarnings(\"ignore\")"
   ]
  },
  {
   "cell_type": "markdown",
   "source": [
    "## About the Data:\n",
    "\n",
    "\n",
    "Each image in the [dataset](https://www.kaggle.com/competitions/pmldl-week-2-tools-and-processes/data) is 28x28. Each pixel has a single pixel-value in grayscale. This pixel-value is an integer between 0 and 255, inclusive.\n",
    "\n",
    "The training data set, has 785 columns:\n",
    "\n",
    "first column is the digit that was drawn by the user\n",
    "rest of the columns contain the pixel-values of the associated image."
   ],
   "metadata": {
    "id": "zbreBEJoqLV7"
   }
  },
  {
   "cell_type": "markdown",
   "metadata": {
    "id": "uSD5Yp6KmnSJ"
   },
   "source": [
    "## Data preprocessing\n",
    "\n"
   ]
  },
  {
   "cell_type": "code",
   "execution_count": 3,
   "metadata": {
    "execution": {
     "iopub.execute_input": "2023-09-02T11:15:26.613712Z",
     "iopub.status.busy": "2023-09-02T11:15:26.613022Z",
     "iopub.status.idle": "2023-09-02T11:15:32.930009Z",
     "shell.execute_reply": "2023-09-02T11:15:32.928854Z",
     "shell.execute_reply.started": "2023-09-02T11:15:26.613677Z"
    },
    "trusted": true,
    "id": "5MBAowZXmnSK",
    "outputId": "006a420e-07fd-4bbc-d75a-3dfef2c071f2",
    "ExecuteTime": {
     "end_time": "2024-07-16T12:31:38.484651Z",
     "start_time": "2024-07-16T12:31:36.742791Z"
    }
   },
   "outputs": [
    {
     "name": "stdout",
     "output_type": "stream",
     "text": [
      "   0    1    2    3    4    5    6    7    8    9    ...  775  776  777  778  \\\n",
      "0    5    0    0    0    0    0    0    0    0    0  ...    0    0    0    0   \n",
      "1    0    0    0    0    0    0    0    0    0    0  ...    0    0    0    0   \n",
      "2    4    0    0    0    0    0    0    0    0    0  ...    0    0    0    0   \n",
      "3    1    0    0    0    0    0    0    0    0    0  ...    0    0    0    0   \n",
      "4    9    0    0    0    0    0    0    0    0    0  ...    0    0    0    0   \n",
      "\n",
      "   779  780  781  782  783  784  \n",
      "0    0    0    0    0    0    0  \n",
      "1    0    0    0    0    0    0  \n",
      "2    0    0    0    0    0    0  \n",
      "3    0    0    0    0    0    0  \n",
      "4    0    0    0    0    0    0  \n",
      "\n",
      "[5 rows x 785 columns]\n"
     ]
    }
   ],
   "source": [
    "# read train data\n",
    "train_df = pd.read_csv('mnist_train.csv', header=None)\n",
    "test_df = pd.read_csv('mnist_test.csv', header=None)\n",
    "\n",
    "print(train_df.head())"
   ]
  },
  {
   "cell_type": "markdown",
   "source": [
    "Reshape the NumPy array into a 3D array with shape such that it arranges the data into 28x28 matrices (likely images), with the number of such matrices being automatically determined.\n",
    "\n",
    "After that normalize the pixel values by dividing each value by 255."
   ],
   "metadata": {
    "id": "JCQ8TyW7rEAv"
   }
  },
  {
   "cell_type": "markdown",
   "source": [
    "# split images and labels\n",
    "\n",
    "labels = train_df[0].values\n",
    "\n",
    "images = train_df.drop(0, axis=1).values.reshape(-1, 28, 28) / 255\n",
    "\n",
    "### Perform the data augmentation\n",
    "Some of the examples of Image Augmentation could be to:\n",
    "1.   Flip the image horizontally\n",
    "2.   Rotate the image by up to 10 degrees\n",
    "\n"
   ],
   "metadata": {
    "id": "fTfor4JZruar"
   }
  },
  {
   "cell_type": "code",
   "execution_count": 4,
   "outputs": [
    {
     "name": "stdout",
     "output_type": "stream",
     "text": [
      "Labels shape: (60000,)\n",
      "Images shape before reshape: (60000, 784)\n"
     ]
    }
   ],
   "source": [
    "labels = train_df[0].values\n",
    "images = train_df.drop(0, axis=1).values\n",
    "\n",
    "print(f'Labels shape: {labels.shape}')\n",
    "print(f'Images shape before reshape: {images.shape}')\n",
    "\n",
    "images = images.reshape(-1, 28, 28)"
   ],
   "metadata": {
    "collapsed": false,
    "ExecuteTime": {
     "end_time": "2024-07-16T12:31:45.289675Z",
     "start_time": "2024-07-16T12:31:45.205355Z"
    }
   }
  },
  {
   "cell_type": "code",
   "execution_count": 5,
   "metadata": {
    "execution": {
     "iopub.execute_input": "2023-09-02T11:15:33.291429Z",
     "iopub.status.busy": "2023-09-02T11:15:33.290600Z",
     "iopub.status.idle": "2023-09-02T11:15:33.580692Z",
     "shell.execute_reply": "2023-09-02T11:15:33.579635Z",
     "shell.execute_reply.started": "2023-09-02T11:15:33.291398Z"
    },
    "trusted": true,
    "id": "AuZf6MvdmnSL",
    "ExecuteTime": {
     "end_time": "2024-07-16T12:31:49.701799Z",
     "start_time": "2024-07-16T12:31:49.547115Z"
    }
   },
   "outputs": [],
   "source": [
    "# Preprocess images\n",
    "import torchvision.transforms as transforms\n",
    "\n",
    "transform = transforms.Compose(\n",
    "    [\n",
    "        #   Here you can add more augmentations.\n",
    "        #   See documentation: https://pytorch.org/vision/stable/transforms.html\n",
    "        transforms.ToTensor()\n",
    "    ]\n",
    ")\n",
    "\n",
    "train_labels = train_df[0].values\n",
    "train_images = train_df.drop(0, axis=1).values.reshape(-1, 28, 28) / 255.0"
   ]
  },
  {
   "cell_type": "code",
   "execution_count": 6,
   "metadata": {
    "execution": {
     "iopub.execute_input": "2023-09-02T11:15:33.583117Z",
     "iopub.status.busy": "2023-09-02T11:15:33.582163Z",
     "iopub.status.idle": "2023-09-02T11:15:35.927073Z",
     "shell.execute_reply": "2023-09-02T11:15:35.925960Z",
     "shell.execute_reply.started": "2023-09-02T11:15:33.583083Z"
    },
    "trusted": true,
    "id": "vT9LyDdTmnSL",
    "ExecuteTime": {
     "end_time": "2024-07-16T12:31:53.161798Z",
     "start_time": "2024-07-16T12:31:52.436080Z"
    }
   },
   "outputs": [],
   "source": [
    "# convert data to tensors\n",
    "train_images_tensor = torch.stack([transform(image) for image in train_images]).float()\n",
    "train_labels_tensor = torch.tensor(train_labels, dtype=torch.long)\n"
   ]
  },
  {
   "cell_type": "markdown",
   "source": [
    "### Plot the Images\n",
    "\n",
    "It is always helpful to plot the images in a dataset before creating and training the neural network. It can help with:\n",
    "\n",
    "1.  Checking Data Integrity\n",
    "      Ensuring that the images are loaded correctly without any corruption.\n",
    "2. Correct Labels\n",
    "      Verifying that the images correspond to the correct labels.\n",
    "3. Visual Inspection\n",
    "      Gaining an understanding of what the images look like and the variety within the dataset.\n",
    "4. Transformation Effects\n",
    "      Ensuring that the applied transformations (e.g., normalization, augmentation) are behaving as expected."
   ],
   "metadata": {
    "id": "hUdc2UvGsaME"
   }
  },
  {
   "cell_type": "code",
   "execution_count": 7,
   "metadata": {
    "execution": {
     "iopub.execute_input": "2023-09-02T11:15:35.940012Z",
     "iopub.status.busy": "2023-09-02T11:15:35.939645Z",
     "iopub.status.idle": "2023-09-02T11:15:35.947997Z",
     "shell.execute_reply": "2023-09-02T11:15:35.947007Z",
     "shell.execute_reply.started": "2023-09-02T11:15:35.939982Z"
    },
    "trusted": true,
    "id": "82DBOQjjmnSM",
    "ExecuteTime": {
     "end_time": "2024-07-16T12:31:59.876391Z",
     "start_time": "2024-07-16T12:31:59.859116Z"
    }
   },
   "outputs": [],
   "source": [
    "def plot_images(images, captions=[], rows=2, columns=5, title=\"\", **kwargs):\n",
    "    \"\"\"\n",
    "    Plots images with captions\n",
    "\n",
    "    :param images: list of images to plot\n",
    "    :param captions: captions of images:\n",
    "    :param rows: number of rows in figure\n",
    "    :param columns: number of columns:\n",
    "    :param title: super title of figure\n",
    "    \"\"\"\n",
    "    fig = plt.figure(figsize=(6, 3))\n",
    "    for i, img in enumerate(images):\n",
    "        fig.add_subplot(rows, columns, i + 1)\n",
    "        plt.imshow(img, **kwargs)\n",
    "        if i < len(captions):\n",
    "            plt.title(captions[i])\n",
    "        plt.axis(\"off\")\n",
    "    fig.suptitle(title)\n",
    "    plt.show()\n"
   ]
  },
  {
   "cell_type": "code",
   "execution_count": 8,
   "metadata": {
    "execution": {
     "iopub.execute_input": "2023-09-02T11:15:35.949770Z",
     "iopub.status.busy": "2023-09-02T11:15:35.949444Z",
     "iopub.status.idle": "2023-09-02T11:15:36.640958Z",
     "shell.execute_reply": "2023-09-02T11:15:36.639602Z",
     "shell.execute_reply.started": "2023-09-02T11:15:35.949741Z"
    },
    "trusted": true,
    "id": "sGnPaEjSmnSM",
    "outputId": "2e71226c-073f-464c-f6b0-1a454902928e",
    "ExecuteTime": {
     "end_time": "2024-07-16T12:32:02.299804Z",
     "start_time": "2024-07-16T12:32:02.128391Z"
    }
   },
   "outputs": [
    {
     "data": {
      "text/plain": "<Figure size 600x300 with 10 Axes>",
      "image/png": "[encoded data removed]"
     },
     "metadata": {},
     "output_type": "display_data"
    }
   ],
   "source": [
    "# Visualise 10 images from the dataset\n",
    "plot_images(\n",
    "    images=[train_images[i] for i in range(10)],\n",
    "    captions=[str(train_labels[i]) for i in range(10)],\n",
    "    rows=2,\n",
    "    columns=5,\n",
    "    title=\"Training Images\",\n",
    "    cmap=\"gray\"\n",
    ")"
   ]
  },
  {
   "cell_type": "markdown",
   "source": [
    "#### Create dataset and dataloaders"
   ],
   "metadata": {
    "collapsed": false
   }
  },
  {
   "cell_type": "code",
   "execution_count": 9,
   "metadata": {
    "execution": {
     "iopub.execute_input": "2023-09-02T11:15:36.642876Z",
     "iopub.status.busy": "2023-09-02T11:15:36.642457Z",
     "iopub.status.idle": "2023-09-02T11:15:36.660559Z",
     "shell.execute_reply": "2023-09-02T11:15:36.659160Z",
     "shell.execute_reply.started": "2023-09-02T11:15:36.642839Z"
    },
    "trusted": true,
    "id": "cboAcpfGmnSM",
    "ExecuteTime": {
     "end_time": "2024-07-16T12:32:06.369522Z",
     "start_time": "2024-07-16T12:32:06.359266Z"
    }
   },
   "outputs": [],
   "source": [
    "# Create dataset and dataloaders\n",
    "processed_dataset = TensorDataset(train_images_tensor, train_labels_tensor)\n",
    "\n",
    "# Set proportion and split dataset into train and validation parts\n",
    "proportion = 0.8\n",
    "train_size = int(proportion * len(processed_dataset))\n",
    "val_size = len(processed_dataset) - train_size\n",
    "train_dataset, val_dataset = random_split(processed_dataset, [train_size, val_size])"
   ]
  },
  {
   "cell_type": "code",
   "execution_count": 10,
   "metadata": {
    "execution": {
     "iopub.execute_input": "2023-09-02T11:15:36.663057Z",
     "iopub.status.busy": "2023-09-02T11:15:36.662499Z",
     "iopub.status.idle": "2023-09-02T11:15:36.669073Z",
     "shell.execute_reply": "2023-09-02T11:15:36.668234Z",
     "shell.execute_reply.started": "2023-09-02T11:15:36.663014Z"
    },
    "trusted": true,
    "id": "gXqePHtzmnSM",
    "ExecuteTime": {
     "end_time": "2024-07-16T12:32:08.993425Z",
     "start_time": "2024-07-16T12:32:08.988732Z"
    }
   },
   "outputs": [],
   "source": [
    "# Create Dataloaders for training\n",
    "# Dataloader is iterable object over dataset\n",
    "batch_size = 32\n",
    "train_loader = DataLoader(train_dataset, batch_size=batch_size, shuffle=True)\n",
    "val_loader = DataLoader(val_dataset, batch_size=batch_size)\n"
   ]
  },
  {
   "cell_type": "markdown",
   "metadata": {
    "id": "KQ4lBkw1mnSN"
   },
   "source": [
    "## Model\n",
    "We will implement MLP(multi-layer perceptron).\n",
    "An MLP is a class of feedforward artificial neural networks (ANNs) consisting of at least three layers of nodes: an input layer, one or more hidden layers, and an output layer. Each layer is fully connected to the next one in a feedforward manner.\n",
    "\n",
    "> if you want higher score implement any suitable model you know and like"
   ]
  },
  {
   "cell_type": "code",
   "execution_count": 11,
   "metadata": {
    "execution": {
     "iopub.execute_input": "2023-09-02T11:15:36.683024Z",
     "iopub.status.busy": "2023-09-02T11:15:36.682504Z",
     "iopub.status.idle": "2023-09-02T11:15:36.693346Z",
     "shell.execute_reply": "2023-09-02T11:15:36.692383Z",
     "shell.execute_reply.started": "2023-09-02T11:15:36.682995Z"
    },
    "trusted": true,
    "id": "D59gH_UBmnSN",
    "ExecuteTime": {
     "end_time": "2024-07-16T12:32:12.515942Z",
     "start_time": "2024-07-16T12:32:12.505859Z"
    }
   },
   "outputs": [],
   "source": [
    "class ClassificationModel(nn.Module):\n",
    "    \"\"\"\n",
    "    MLP (multi-layer perceptron) based classification model for MNIST\n",
    "    \"\"\"\n",
    "    def __init__(self, num_classes=10):\n",
    "        super(ClassificationModel, self).__init__()\n",
    "        self.model = nn.Sequential(\n",
    "            nn.Linear(28 * 28, 128),\n",
    "            nn.ReLU(),\n",
    "            nn.Linear(128, 64),\n",
    "            nn.ReLU(),\n",
    "            nn.Linear(64, num_classes)\n",
    "        )\n",
    "\n",
    "    def forward(self, x):\n",
    "        x = x.view(-1, 28 * 28)\n",
    "        return self.model(x)"
   ]
  },
  {
   "cell_type": "markdown",
   "metadata": {
    "id": "gJl4z9ErmnSN"
   },
   "source": [
    "## Training\n",
    "\n",
    "Here is the sample function for training procedure.\n",
    "We save the checkpoints with best accuracy score. For the inference you need to load it to the model.\n",
    "\n",
    "> You can add early stopping if you want for better results"
   ]
  },
  {
   "cell_type": "code",
   "execution_count": 12,
   "metadata": {
    "execution": {
     "iopub.execute_input": "2023-09-02T11:15:36.695182Z",
     "iopub.status.busy": "2023-09-02T11:15:36.694859Z",
     "iopub.status.idle": "2023-09-02T11:15:36.710267Z",
     "shell.execute_reply": "2023-09-02T11:15:36.709361Z",
     "shell.execute_reply.started": "2023-09-02T11:15:36.695154Z"
    },
    "trusted": true,
    "id": "JDlAXeoQmnSN",
    "ExecuteTime": {
     "end_time": "2024-07-16T12:32:15.653294Z",
     "start_time": "2024-07-16T12:32:15.644534Z"
    }
   },
   "outputs": [],
   "source": [
    "def train(\n",
    "        model,\n",
    "        optimizer,\n",
    "        loss_fn,\n",
    "        train_loader,\n",
    "        val_loader,\n",
    "        writer,\n",
    "        epochs=1,\n",
    "        device=\"cpu\",\n",
    "        ckpt_path=\"best.pt\",\n",
    "):\n",
    "    # best score for checkpointing\n",
    "    best = 0.0\n",
    "\n",
    "    # iterating over epochs\n",
    "    for epoch in range(epochs):\n",
    "        # training loop description\n",
    "        train_loop = tqdm(\n",
    "            enumerate(train_loader, 0), total=len(train_loader), desc=f\"Epoch {epoch}\"\n",
    "        )\n",
    "        model.train()\n",
    "        train_loss = 0.0\n",
    "        # iterate over dataset\n",
    "        for i, data in train_loop:\n",
    "            inputs, labels = data\n",
    "            inputs, labels = inputs.to(device), labels.to(device)\n",
    "\n",
    "            # zero the parameter gradients\n",
    "            optimizer.zero_grad()\n",
    "\n",
    "            # forward pass and loss calculation\n",
    "            outputs = model(inputs)\n",
    "            loss = loss_fn(outputs, labels)\n",
    "\n",
    "            # backward pass\n",
    "            loss.backward()\n",
    "\n",
    "            # optimizer run\n",
    "            optimizer.step()\n",
    "\n",
    "            train_loss += loss.item()\n",
    "            train_loop.set_postfix({\"loss\": loss.item()})\n",
    "\n",
    "        # write loss to tensorboard\n",
    "        writer.add_scalar(\"Loss/train\", train_loss / len(train_loader), epoch)\n",
    "\n",
    "        # validation\n",
    "        correct = 0\n",
    "        total = 0\n",
    "        with torch.no_grad():\n",
    "            model.eval()  # evaluation mode\n",
    "            val_loop = tqdm(enumerate(val_loader, 0), total=len(val_loader), desc=\"Val\")\n",
    "            for i, data in val_loop:\n",
    "                inputs, labels = data\n",
    "                inputs, labels = inputs.to(device), labels.to(device)\n",
    "\n",
    "                outputs = model(inputs)\n",
    "                # type code\n",
    "                _, predicted = torch.max(outputs.data, 1)\n",
    "                total += labels.size(0)\n",
    "                # type code\n",
    "                correct += (predicted == labels).sum().item()\n",
    "\n",
    "                val_loop.set_postfix({\"acc\": correct / total})\n",
    "\n",
    "            if correct / total > best:\n",
    "                torch.save(model.state_dict(), ckpt_path)\n",
    "                # type code\n",
    "                best = correct / total"
   ]
  },
  {
   "cell_type": "code",
   "execution_count": 13,
   "metadata": {
    "execution": {
     "iopub.execute_input": "2023-09-02T11:15:36.712532Z",
     "iopub.status.busy": "2023-09-02T11:15:36.711673Z",
     "iopub.status.idle": "2023-09-02T11:15:36.730958Z",
     "shell.execute_reply": "2023-09-02T11:15:36.729698Z",
     "shell.execute_reply.started": "2023-09-02T11:15:36.712500Z"
    },
    "trusted": true,
    "id": "Un5YkhIkmnSN",
    "ExecuteTime": {
     "end_time": "2024-07-16T12:32:19.148214Z",
     "start_time": "2024-07-16T12:32:19.133504Z"
    }
   },
   "outputs": [],
   "source": [
    "# Type code\n",
    "device = 'cuda' if torch.cuda.is_available() else 'cpu'\n",
    "model = ClassificationModel().to(device)\n",
    "optimizer = optim.Adam(model.parameters(), lr=0.001)\n",
    "loss_fn = nn.CrossEntropyLoss()\n",
    "writer = SummaryWriter()"
   ]
  },
  {
   "cell_type": "code",
   "execution_count": 14,
   "metadata": {
    "execution": {
     "iopub.execute_input": "2023-09-02T11:15:36.733940Z",
     "iopub.status.busy": "2023-09-02T11:15:36.733466Z",
     "iopub.status.idle": "2023-09-02T11:15:40.623299Z",
     "shell.execute_reply": "2023-09-02T11:15:40.621808Z",
     "shell.execute_reply.started": "2023-09-02T11:15:36.733900Z"
    },
    "trusted": true,
    "id": "TJDXoDlzmnSN",
    "ExecuteTime": {
     "end_time": "2024-07-16T12:32:26.133836Z",
     "start_time": "2024-07-16T12:32:22.931489Z"
    }
   },
   "outputs": [
    {
     "name": "stderr",
     "output_type": "stream",
     "text": [
      "Epoch 0: 100%|██████████| 1500/1500 [00:02<00:00, 543.57it/s, loss=0.337] \n",
      "Val: 100%|██████████| 375/375 [00:00<00:00, 1104.99it/s, acc=0.947]\n"
     ]
    }
   ],
   "source": [
    "train(\n",
    "    model,\n",
    "    optimizer,\n",
    "    loss_fn,\n",
    "    train_loader=train_loader,\n",
    "    val_loader=val_loader,\n",
    "    device=device,\n",
    "    writer=writer,\n",
    ")\n"
   ]
  },
  {
   "cell_type": "code",
   "execution_count": null,
   "metadata": {
    "execution": {
     "iopub.execute_input": "2023-09-02T11:15:40.625676Z",
     "iopub.status.busy": "2023-09-02T11:15:40.625219Z",
     "iopub.status.idle": "2023-09-02T11:15:40.632015Z",
     "shell.execute_reply": "2023-09-02T11:15:40.630502Z",
     "shell.execute_reply.started": "2023-09-02T11:15:40.625640Z"
    },
    "trusted": true,
    "id": "5bp_AwTdmnSN"
   },
   "outputs": [],
   "source": [
    "# Kaggle has no support of viewing tensorboard. Run this if you are using your machine\n",
    "# to see logs.\n",
    "# !tensorboard --logdir ."
   ]
  },
  {
   "cell_type": "markdown",
   "metadata": {
    "id": "xKqNa5LQmnSO"
   },
   "source": [
    "## Inference\n",
    "Here you need to perform inference of trained model on test data.\n",
    "\n",
    "Load the best checkpoint from training to the model and run inference"
   ]
  },
  {
   "cell_type": "code",
   "execution_count": 15,
   "metadata": {
    "execution": {
     "iopub.execute_input": "2023-09-02T11:15:40.633759Z",
     "iopub.status.busy": "2023-09-02T11:15:40.633401Z",
     "iopub.status.idle": "2023-09-02T11:15:40.663863Z",
     "shell.execute_reply": "2023-09-02T11:15:40.662616Z",
     "shell.execute_reply.started": "2023-09-02T11:15:40.633732Z"
    },
    "trusted": true,
    "id": "7dc1LBl4mnSO",
    "outputId": "d5f799ef-6afc-41c2-cb2c-b4ac397f2ff8",
    "ExecuteTime": {
     "end_time": "2024-07-16T12:32:31.899662Z",
     "start_time": "2024-07-16T12:32:31.877206Z"
    }
   },
   "outputs": [
    {
     "data": {
      "text/plain": "<All keys matched successfully>"
     },
     "execution_count": 15,
     "metadata": {},
     "output_type": "execute_result"
    }
   ],
   "source": [
    "# load best checkpoint to model\n",
    "model = ClassificationModel().to(device)\n",
    "ckpt = torch.load(\"best.pt\")\n",
    "model.load_state_dict(ckpt)"
   ]
  },
  {
   "cell_type": "code",
   "execution_count": 16,
   "metadata": {
    "execution": {
     "iopub.execute_input": "2023-09-02T11:15:40.666672Z",
     "iopub.status.busy": "2023-09-02T11:15:40.666191Z",
     "iopub.status.idle": "2023-09-02T11:15:40.674437Z",
     "shell.execute_reply": "2023-09-02T11:15:40.673297Z",
     "shell.execute_reply.started": "2023-09-02T11:15:40.666631Z"
    },
    "trusted": true,
    "id": "REFCOr58mnSO",
    "ExecuteTime": {
     "end_time": "2024-07-16T12:32:35.567848Z",
     "start_time": "2024-07-16T12:32:35.556735Z"
    }
   },
   "outputs": [],
   "source": [
    "def predict(model, test_loader, device):\n",
    "    \"\"\"\n",
    "    Run model inference on test data\n",
    "    \"\"\"\n",
    "    predictions = []\n",
    "    with torch.no_grad():\n",
    "        model.eval()  # evaluation mode\n",
    "        test_loop = tqdm(enumerate(test_loader, 0), total=len(test_loader), desc=\"Test\")\n",
    "        for i, data in test_loop:\n",
    "            inputs = data[0].to(device)\n",
    "            outputs = model(inputs)\n",
    "            # Type coce\n",
    "            _, predicted = torch.max(outputs.data, 1)\n",
    "            predictions.extend(predicted.tolist())\n",
    "    return predictions"
   ]
  },
  {
   "cell_type": "code",
   "execution_count": 17,
   "metadata": {
    "execution": {
     "iopub.execute_input": "2023-09-02T11:15:41.589593Z",
     "iopub.status.busy": "2023-09-02T11:15:41.589154Z",
     "iopub.status.idle": "2023-09-02T11:15:42.051471Z",
     "shell.execute_reply": "2023-09-02T11:15:42.050606Z",
     "shell.execute_reply.started": "2023-09-02T11:15:41.589554Z"
    },
    "trusted": true,
    "id": "j23NzNnzmnSO",
    "ExecuteTime": {
     "end_time": "2024-07-16T12:32:37.678931Z",
     "start_time": "2024-07-16T12:32:37.494821Z"
    }
   },
   "outputs": [
    {
     "name": "stderr",
     "output_type": "stream",
     "text": [
      "Test: 100%|██████████| 313/313 [00:00<00:00, 4175.40it/s]\n"
     ]
    }
   ],
   "source": [
    "# process test data and run inference on it\n",
    "test_images = test_df.values.reshape(-1, 28, 28) / 255\n",
    "test_images_tensor = torch.stack([transform(image) for image in test_images]).float()\n",
    "\n",
    "test_loader = DataLoader(TensorDataset(test_images_tensor), batch_size=batch_size, shuffle=False)\n",
    "# Generate predictions\n",
    "predictions = predict(model, test_loader, device=device)"
   ]
  },
  {
   "cell_type": "code",
   "execution_count": 18,
   "metadata": {
    "execution": {
     "iopub.execute_input": "2023-09-02T11:15:42.053678Z",
     "iopub.status.busy": "2023-09-02T11:15:42.052715Z",
     "iopub.status.idle": "2023-09-02T11:15:42.097597Z",
     "shell.execute_reply": "2023-09-02T11:15:42.096093Z",
     "shell.execute_reply.started": "2023-09-02T11:15:42.053645Z"
    },
    "trusted": true,
    "id": "ZZlKKDN8mnSO",
    "ExecuteTime": {
     "end_time": "2024-07-16T12:32:41.253173Z",
     "start_time": "2024-07-16T12:32:41.241134Z"
    }
   },
   "outputs": [],
   "source": [
    "# generate the submission file\n",
    "submission_df = pd.DataFrame({'ImageId': np.arange(1, len(predictions) + 1), 'Label': predictions})\n",
    "submission_df.to_csv('submission.csv', index=False)\n"
   ]
  },
  {
   "cell_type": "code",
   "execution_count": 19,
   "outputs": [
    {
     "data": {
      "text/plain": "   ImageId  Label\n0        1      7\n1        2      2\n2        3      1\n3        4      0\n4        5      4",
      "text/html": "<div>\n<style scoped>\n    .dataframe tbody tr th:only-of-type {\n        vertical-align: middle;\n    }\n\n    .dataframe tbody tr th {\n        vertical-align: top;\n    }\n\n    .dataframe thead th {\n        text-align: right;\n    }\n</style>\n<table border=\"1\" class=\"dataframe\">\n  <thead>\n    <tr style=\"text-align: right;\">\n      <th></th>\n      <th>ImageId</th>\n      <th>Label</th>\n    </tr>\n  </thead>\n  <tbody>\n    <tr>\n      <th>0</th>\n      <td>1</td>\n      <td>7</td>\n    </tr>\n    <tr>\n      <th>1</th>\n      <td>2</td>\n      <td>2</td>\n    </tr>\n    <tr>\n      <th>2</th>\n      <td>3</td>\n      <td>1</td>\n    </tr>\n    <tr>\n      <th>3</th>\n      <td>4</td>\n      <td>0</td>\n    </tr>\n    <tr>\n      <th>4</th>\n      <td>5</td>\n      <td>4</td>\n    </tr>\n  </tbody>\n</table>\n</div>"
     },
     "execution_count": 19,
     "metadata": {},
     "output_type": "execute_result"
    }
   ],
   "source": [
    "df2 = pd.read_csv('submission.csv')\n",
    "df2.head()"
   ],
   "metadata": {
    "collapsed": false,
    "ExecuteTime": {
     "end_time": "2024-07-16T12:32:45.795708Z",
     "start_time": "2024-07-16T12:32:45.758258Z"
    }
   }
  }
 ],
 "metadata": {
  "kernelspec": {
   "display_name": "Python 3",
   "language": "python",
   "name": "python3"
  },
  "language_info": {
   "codemirror_mode": {
    "name": "ipython",
    "version": 3
   },
   "file_extension": ".py",
   "mimetype": "text/x-python",
   "name": "python",
   "nbconvert_exporter": "python",
   "pygments_lexer": "ipython3",
   "version": "3.10.12"
  },
  "colab": {
   "provenance": []
  }
 },
 "nbformat": 4,
 "nbformat_minor": 0
}
