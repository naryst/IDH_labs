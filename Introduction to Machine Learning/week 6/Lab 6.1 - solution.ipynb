{
 "cells": [
  {
   "cell_type": "markdown",
   "metadata": {},
   "source": [
    "# Introduction to Machine Learning\n",
    "## Lesson 6 Support Vector Machines\n",
    "## Introduction\n",
    "\n",
    "In this lab work, we will familiarize ourselves with the classification algorithm using support vector machines.\n"
   ]
  },
  {
   "cell_type": "markdown",
   "metadata": {},
   "source": [
    "## Task\n",
    "It is often necessary to classify data in machine learning algorithms. Each data object is represented as a vector (a point) in p-dimensional space (a sequence of numbers). Each of these points belongs to only one of two classes. We are interested in whether we can divide the points by a hyperplane of dimension \"p-1\". This is a typical case of linear separability. There can be many such hyperplanes. Therefore, it is natural to believe that maximizing the gap between classes contributes to more confident classification. That is, can we find a hyperplane such that the distance from it to the nearest point is maximized. This would mean that the distance between the two closest points lying on opposite sides of the hyperplane is maximized. If such a hyperplane exists, we will be most interested in it, it is called the optimal separating hyperplane, and the linear classifier corresponding to it is called the optimal separating classifier.\n",
    "\n",
    "\n",
    "### Performing the Classification\n",
    "To do so you will need:\n",
    "- Obtain data from competition\n",
    "- Create a Jupyter notebook which will produce a file for submission\n",
    "- Submit it to the competition"
   ]
  },
  {
   "cell_type": "markdown",
   "metadata": {},
   "source": [
    "### Questions"
   ]
  },
  {
   "cell_type": "markdown",
   "metadata": {},
   "source": [
    "*In the practical part of the assignment, we compared the distributions of the outputs of the solver function (probability estimation) of SVM and LogReg. Usually the histogram for LogReg has heavier tails than the histogram for SVM. What can this be due to? \n",
    "\n",
    "1. It cannot be explained in any way, just an empirical fact.\n",
    "2. It is a matter of the functionals the models are trained on. SVM just needs to make the indentation equal to 1, while LogReg maximizes the indentation\n",
    "3. Because SVM is bad at estimating probabilities, while LogReg is good at estimating probabilities\n",
    "\n",
    "\n",
    "\n",
    "**Answer: 2)** Explanation in the answer itself\n",
    "\n",
    "_______________________________________________________"
   ]
  },
  {
   "cell_type": "markdown",
   "metadata": {},
   "source": [
    "*Choose the correct statement about SVM and Logreg*: \n",
    "\n",
    "1. A calibrated SVM always estimates probabilities better than LogReg\n",
    "2.\tSVM will have slightly higher accuracy on average than LogReg\n",
    "3- You can't say it will be better by any metric. It's just that one model estimates probability and the other does not\n",
    "4. SVM is trained faster than LogReg.\n",
    "\n",
    "\n",
    "\n",
    "\n",
    "**Answer: 2)** Because LogReg maximizes its confidence (tries to estimate probabilities correctly), it may benefit from being wrong on objects close to the separating hyperplane. It is sort of more prone to adjust for \"distant\" objects in the feature space.\n",
    "\n",
    "_______________________________________________________"
   ]
  },
  {
   "cell_type": "markdown",
   "metadata": {},
   "source": [
    "## Importing required Libraries\n",
    "\n",
    "First we need to import necessary libraries:\n",
    "\n",
    "[Pandas](https://pandas.pydata.org/) - For data analysis and manipulation\n",
    "\n",
    "[Numpy](https://numpy.org/) - To deal with matrices\n",
    "\n",
    "[Matplotlib](https://matplotlib.org/) - Matplotlib is a comprehensive library for creating static, animated, and interactive visualizations in Python. Matplotlib makes easy things easy and hard things possible."
   ]
  },
  {
   "cell_type": "code",
   "execution_count": null,
   "metadata": {},
   "outputs": [],
   "source": [
    "import pandas as pd\n",
    "import numpy as np\n",
    "import matplotlib.pyplot as plt\n",
    "\n",
    "import warnings\n",
    "warnings.filterwarnings('ignore')"
   ]
  },
  {
   "cell_type": "markdown",
   "metadata": {},
   "source": [
    "## Preparaing Data\n",
    "Preparing data for machine learning involves several steps such as data collection, cleaning the data from noise and outliers, transforming the data into a suitable format, normalizing or standardizing values, and creating and selecting features (feature engineering) to improve the quality of the model. This process is important to ensure the accuracy and reliability of machine learning models because data quality directly affects their performance."
   ]
  },
  {
   "cell_type": "code",
   "execution_count": null,
   "metadata": {},
   "outputs": [],
   "source": [
    "data = pd.read_csv('processed_train.csv')\n",
    "data.head()"
   ]
  },
  {
   "cell_type": "markdown",
   "metadata": {},
   "source": [
    "Partitioning the sample into train and test parts is an important step in the process of developing and evaluating machine learning models. The main reasons for this are:\n",
    "\n",
    "1) To evaluate model performance: Splitting the data allows us to use one part of the data (the training part) to train the model and the other part (the test part) to evaluate its performance. This helps in understanding how the model will perform on new, previously unseen data.\n",
    "\n",
    "2) Prevent overfitting: If a model is trained and evaluated on the same data, there is a risk of overfitting, where the model adapts too well to the training data and loses the ability to generalize to new data. Data partitioning helps to identify such problems.\n",
    "\n",
    "3) Objective model comparison: The test dataset serves as a benchmark to objectively compare different models or hyperparameters. This allows you to select the model that shows the best performance on new data."
   ]
  },
  {
   "cell_type": "code",
   "execution_count": null,
   "metadata": {},
   "outputs": [],
   "source": [
    "from sklearn.model_selection import train_test_split\n",
    "\n",
    "X = data.drop('HasDetections', axis=1)\n",
    "y = data['HasDetections']\n",
    "\n",
    "X_train, X_test, y_train, y_test = train_test_split(X, y,\n",
    "                                                    test_size=0.2,\n",
    "                                                    random_state=33)"
   ]
  },
  {
   "cell_type": "markdown",
   "metadata": {},
   "source": [
    "#### Exercise 1\n",
    "Create two pipelines for machine learning models: Logistic Regression and Linear SVM, including data preprocessing with MinMaxScaler. Train and evaluate the models.\n",
    "Use functions from sklearn library"
   ]
  },
  {
   "cell_type": "code",
   "execution_count": null,
   "metadata": {},
   "outputs": [],
   "source": [
    "from sklearn.linear_model import LogisticRegression\n",
    "from sklearn.pipeline import Pipeline\n",
    "from sklearn.svm import LinearSVC\n",
    "from sklearn.preprocessing import MinMaxScaler\n",
    "\n",
    "pipe_lr = Pipeline([('lr_scaler', MinMaxScaler()), \n",
    "                    ('lr_estimator', LogisticRegression())])\n",
    "\n",
    "pipe_svm = Pipeline([('lr_scaler', MinMaxScaler()), \n",
    "                    ('svm_estimator', LinearSVC())])"
   ]
  },
  {
   "cell_type": "markdown",
   "metadata": {},
   "source": [
    "#### Exercise 2\n",
    "\n",
    "Build the ROC for both models, calculate the AUC. Of course, train on the traine and measure on the test.\n",
    "\n",
    "Notice! The classical `SVM' implementation, as in the lectures, does not provide any probability estimation. To transform the outputs into probabilities, we used a sigmoid function in practice. Here we suggest that you transform the outputs of `decision_function` into probabilities in a proportional way.\n",
    "\n",
    "For example, you have trained `SVM` and on test data the model produced the following `decision_function` outputs:\n",
    "\n",
    "(-10, -5, 0, +2, +10, +15)\n",
    "\n",
    "For each number, we need to make a transformation into an expression of the form `P(y = +1 | x)`.\n",
    "\n",
    "On the one hand, a negative sign of a number will signal to us that `P(y = +1 | x) < 0.5`.\n",
    "\n",
    "Then a positive one would signal that `P(y = +1 | x) > 0.5`. \n",
    "\n",
    "On the other hand, for those objects that the model is most confident about, we will put marginal probabilities. For the example above:\n",
    "\n",
    "`P(y = +1 | -10) = 0`, `P(y = +1 | +15) = 1`. For all intermediate objects, we apply the proportional transformation. For example:\n",
    "\n",
    "$$\n",
    "P(y = +1 | -5) = \\frac{|-5|}{|-10|} \\cdot 0.5\n",
    "$$\n",
    "\n",
    "$$\n",
    "P(y = +1 | +2) = \\frac{|+2|}{|+15|} \\cdot 0.5 + 0.5\n",
    "$$"
   ]
  },
  {
   "cell_type": "markdown",
   "metadata": {},
   "source": [
    "Use function **fit()**"
   ]
  },
  {
   "cell_type": "code",
   "execution_count": null,
   "metadata": {},
   "outputs": [],
   "source": [
    "pipe_lr.fit(X_train, y_train)\n",
    "pipe_svm.fit(X_train, y_train)"
   ]
  },
  {
   "cell_type": "markdown",
   "metadata": {},
   "source": [
    "import **roc_curve** and **RocCurveDisplay**\n",
    "\n",
    "**roc_curve** - A ROC curve is constructed by plotting the ratio of True Positive Rate (TPR) against the ratio of False Positive Rate (FPR) at various probability thresholds. The roc_curve function returns the FPR, TPR, and probability thresholds used to construct the curve.\n",
    "\n",
    "**RocCurveDisplay** - This class simplifies the process of creating and displaying a ROC curve, making it easy to plot and interpret model performance graphs."
   ]
  },
  {
   "cell_type": "code",
   "execution_count": null,
   "metadata": {},
   "outputs": [],
   "source": [
    "from sklearn.metrics import roc_curve\n",
    "from sklearn.metrics import RocCurveDisplay"
   ]
  },
  {
   "cell_type": "markdown",
   "metadata": {},
   "source": [
    "#### Exercise 2.1\n",
    "\n",
    "1) Train a Logistic Regression model using a training sample.\n",
    "Using the trained model, predict the probabilities of positive class for the test sample.\n",
    "2) Calculate the TPR (True Positive Rate) and FPR (False Positive Rate) values for different classification thresholds using roc_curve function.\n",
    "3) Construct a ROC curve using the calculated TPR and FPR values and display it using the RocCurveDisplay function.\n",
    "4) Interpret the resulting ROC curve, explaining the value of the area under the curve (AUC) and how it reflects the quality of the model performance."
   ]
  },
  {
   "cell_type": "code",
   "execution_count": null,
   "metadata": {},
   "outputs": [],
   "source": [
    "preds_lr = pipe_lr.predict_proba(X_test)[:, 1]\n",
    "\n",
    "fpr1, tpr1, _ = roc_curve(y_test, preds_lr)\n",
    "roc_display1 = RocCurveDisplay(fpr=fpr1, tpr=tpr1).plot()"
   ]
  },
  {
   "cell_type": "markdown",
   "metadata": {},
   "source": [
    "#### Exercise 2.2\n",
    "\n",
    "1) Train an SVM model using a training sample.\n",
    "2) Using the trained model, predict the values of the decision function for the test sample.\n",
    "3) Find the minimum and maximum values among the predicted decision function values.\n",
    "4) Convert the SVM predictions to probabilities using the specified formula:\n",
    "- For negative values, convert them to a range of 0 to 0.5.\n",
    "- For positive values, convert them to a range of 0.5 to 1.\n",
    "5) Explain the logic behind converting decision function values to probabilities and how this might affect the interpretation of the results."
   ]
  },
  {
   "cell_type": "code",
   "execution_count": null,
   "metadata": {},
   "outputs": [],
   "source": [
    "decision_preds = pipe_svm.decision_function(X_test)\n",
    "\n",
    "min_pred = min(decision_preds)\n",
    "max_pred = max(decision_preds)\n",
    "\n",
    "\n",
    "preds_svm = [-abs(x-min_pred)/min_pred*0.5 \n",
    "             if x <= 0 \n",
    "             else abs(x/max_pred)*0.5+0.5 \n",
    "             for x in decision_preds]"
   ]
  },
  {
   "cell_type": "markdown",
   "metadata": {},
   "source": [
    "#### Exercise 2.3\n",
    "\n",
    "1) Calculate False Positive Rate (FPR), True Positive Rate (TPR) and thresholds for the ROC curve based on predicted preds_svm probabilities and true y_test labels.\n",
    "2) Сreate a RocCurveDisplay object and call the plot() method to display the ROC curve based on the calculated FPR (False Positive Rate) and TPR (True Positive Rate) values stored in the fpr2 and tpr2 variables, respectively."
   ]
  },
  {
   "cell_type": "code",
   "execution_count": null,
   "metadata": {},
   "outputs": [],
   "source": [
    "fpr2, tpr2, _ = roc_curve(y_test, preds_svm)\n",
    "roc_display2 = RocCurveDisplay(fpr=fpr2, tpr=tpr2).plot()"
   ]
  },
  {
   "cell_type": "markdown",
   "metadata": {},
   "source": [
    "#### Exercise 2.4\n",
    "Derive the AUC values for the two machine learning models (logistic regression and SVM) based on their respective ROC curves, which were pre-calculated and stored in variables fpr1, tpr1 for logistic regression and fpr2, tpr2 for SVM."
   ]
  },
  {
   "cell_type": "code",
   "execution_count": null,
   "metadata": {},
   "outputs": [],
   "source": [
    "from sklearn.metrics import auc \n",
    "\n",
    "print('LogReg auc =', auc(fpr1, tpr1))\n",
    "print('SVM auc =', auc(fpr2, tpr2))"
   ]
  },
  {
   "cell_type": "markdown",
   "metadata": {},
   "source": [
    "#### Exercise 2.5\n",
    "\n",
    "Build calibration curves for both models. You cannot use the from_estimator method for svm."
   ]
  },
  {
   "cell_type": "code",
   "execution_count": null,
   "metadata": {},
   "outputs": [],
   "source": [
    "import matplotlib.pyplot as plt\n",
    "from sklearn.calibration import calibration_curve\n",
    "\n",
    "\n",
    "prob_true_lr, prob_pred_lr = calibration_curve(y_test,\n",
    "                                               preds_lr,\n",
    "                                               n_bins=5)\n",
    "\n",
    "\n",
    "fig = plt.figure()\n",
    "fig.set_size_inches(8, 8)\n",
    "\n",
    "plt.plot(prob_true_lr, prob_pred_lr)\n",
    "plt.plot(np.linspace(0, 1, 5), np.linspace(0, 1, 5))\n",
    "\n",
    "plt.show()"
   ]
  },
  {
   "cell_type": "code",
   "execution_count": null,
   "metadata": {},
   "outputs": [],
   "source": [
    "import matplotlib.pyplot as plt\n",
    "from sklearn.calibration import calibration_curve\n",
    "\n",
    "\n",
    "prob_true_svm, prob_pred_svm = calibration_curve(y_test,\n",
    "                                               preds_svm,\n",
    "                                               n_bins=5)\n",
    "\n",
    "\n",
    "fig = plt.figure()\n",
    "fig.set_size_inches(8, 8)\n",
    "\n",
    "plt.plot(prob_true_svm, prob_pred_svm)\n",
    "plt.plot(np.linspace(0, 1, 5), np.linspace(0, 1, 5))\n",
    "\n",
    "plt.show()"
   ]
  },
  {
   "cell_type": "markdown",
   "metadata": {},
   "source": [
    "#### Exercise 2.6\n",
    "Calibrate the probabilities for the SVM model using the CalibratedClassifierCV method and obtain the adjusted probabilities for the test sample."
   ]
  },
  {
   "cell_type": "code",
   "execution_count": null,
   "metadata": {},
   "outputs": [],
   "source": [
    "### Калибровка\n",
    "\n",
    "from sklearn.calibration import CalibratedClassifierCV\n",
    "\n",
    "plats_calibration = CalibratedClassifierCV(pipe_svm,\n",
    "                                           cv=3,\n",
    "                                           method='sigmoid').fit(X_train, y_train)\n",
    "\n",
    "plats_calibration_preds = plats_calibration.predict_proba(X_test)[:, 1]"
   ]
  },
  {
   "cell_type": "markdown",
   "metadata": {},
   "source": [
    "#### Exercise 2.7\n",
    "\n",
    "Visualize the calibration curve and compare it with the ideal diagonal line"
   ]
  },
  {
   "cell_type": "code",
   "execution_count": null,
   "metadata": {},
   "outputs": [],
   "source": [
    "### Новая кривая\n",
    "\n",
    "prob_true_svm, prob_pred_svm = calibration_curve(y_test,\n",
    "                                                 plats_calibration_preds,\n",
    "                                                 n_bins=5)\n",
    "\n",
    "\n",
    "fig = plt.figure()\n",
    "fig.set_size_inches(8, 8)\n",
    "\n",
    "plt.plot(prob_true_svm, prob_pred_svm)\n",
    "plt.plot(np.linspace(0, 1, 5), np.linspace(0, 1, 5))\n",
    "\n",
    "plt.show()"
   ]
  }
 ],
 "metadata": {
  "interpreter": {
   "hash": "908564da9541f9d26d1af86ee6b322ed44d6c94bc2ca2345fbed60c52c45f160"
  },
  "kernelspec": {
   "display_name": "Python 3 (ipykernel)",
   "language": "python",
   "name": "python3"
  },
  "language_info": {
   "codemirror_mode": {
    "name": "ipython",
    "version": 3
   },
   "file_extension": ".py",
   "mimetype": "text/x-python",
   "name": "python",
   "nbconvert_exporter": "python",
   "pygments_lexer": "ipython3",
   "version": "3.7.9"
  }
 },
 "nbformat": 4,
 "nbformat_minor": 2
}
