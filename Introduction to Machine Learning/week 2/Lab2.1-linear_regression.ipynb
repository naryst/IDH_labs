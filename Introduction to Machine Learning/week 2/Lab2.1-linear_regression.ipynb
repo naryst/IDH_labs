{
 "cells": [
  {
   "cell_type": "markdown",
   "id": "4524f70c",
   "metadata": {},
   "source": [
    "# Introduction to Machine Learning\n",
    "\n",
    "## Lesson 2. Linear regression\n",
    "\n",
    "## Introduction\n",
    "\n",
    "This lab introduces you to the Linear Regression and how to apply the solutions. Furthermore, you will learn how to prepare the dataset into a machine learning model.\n",
    "\n",
    "## Task\n",
    "\n",
    "In this lab, we would be performing a basic classificatiob on Taxi Dataset\n",
    "\n",
    "### About Taxi Dataset\n",
    "Taxi trip records include id, vendor_id, pickup_datetime, passenger_count, store_and_fwd_flag, trip_duration, distance_km.\n",
    "The dataset is often used for testing algorithms for classification and pattern recognition due to its simplicity and well-defined structure.\n",
    "\n",
    "### Performing the Classification\n",
    "To do so you will need:\n",
    "- Obtain data from competition\n",
    "- Create a Jupyter notebook which will produce a file for submission\n",
    "- Submit it to the competition"
   ]
  },
  {
   "cell_type": "markdown",
   "id": "0345d896",
   "metadata": {},
   "source": [
    "### Questions\n",
    "*To solve a linear regression problem, use the following formula:\n",
    "$\\beta^*=(X^T \\cdot X)^{-1} \\cdot X^T \\cdot Y$.*: \n",
    "\n",
    "1. No\n",
    "2. Yes, this is the only sure-fire way. \n",
    "3. When to do it depends on the specifics of the data.\n",
    "\n",
    "-------------------------------------------------------\n",
    "\n",
    "*If we want to find the minimum of an arbitrary differentiable function, we need to find the points at which the derivative is zero.*: \n",
    "\n",
    "1. Yes, but check that the derivative to the left of this point is negative and to the right is positive.\n",
    "2. Yes, but check that the derivative to the left of that point is positive and to the right is negative.\n",
    "3. Yes, take any such point near which the derivative has changed its sign.\n",
    "4. No, it is necessary to use the apparatus of working with matrices.\n",
    "\n",
    "-------------------------------------------------------\n",
    "\n",
    "*When we have found the minimum of a function, it means that we have found the point at which the function reaches its minimum value for all possible arguments.*: \n",
    "\n",
    "1. Yes, because that's what a minimum is.\n",
    "2. No, a function can have several different minima. To find the minimum value, you need to find all the minima and compare them to each other. \n",
    "3. No, a function can have several minima that differ from each other. Depending on the nature of the function's behavior, there may (but not necessarily) be a global one among them.\n",
    "4. No correct answer"
   ]
  },
  {
   "cell_type": "markdown",
   "id": "19e9bb9f",
   "metadata": {},
   "source": [
    "## Importing required Libraries\n",
    "\n",
    "First we need to import necessary libraries:\n",
    "\n",
    "[Pandas](https://pandas.pydata.org/) - For data analysis and manipulation"
   ]
  },
  {
   "cell_type": "code",
   "execution_count": 2,
   "id": "71df40f7",
   "metadata": {
    "ExecuteTime": {
     "end_time": "2024-06-27T06:04:39.949754Z",
     "start_time": "2024-06-27T06:04:39.943817Z"
    }
   },
   "outputs": [],
   "source": [
    "import pandas as pd"
   ]
  },
  {
   "cell_type": "markdown",
   "id": "6dd4ece0",
   "metadata": {},
   "source": [
    "## Preparaing Data\n",
    "Data in Machine Learning and Deep Learning is usally consisting of `train` and `test` splits. Sometimes there's a `validation` split as well.\n",
    "\n",
    "The main purpose of the train-test split is to assess how well a machine learning model generalizes to unseen data. By splitting the dataset, we can train the model on one subset of the data (the training set) and test its performance on another subset (the test set).\n",
    "\n",
    "\n",
    "Train test split usually serves two purposes:\n",
    "1.   **Avoiding Overfitting**: By using a separate test set, we ensure that the model’s performance is not overly optimistic, as it has not seen the test data during training. This helps to avoid overfitting, where the model performs well on the training data but poorly on unseen data\n",
    "\n",
    "2.   **Model Validation**: It provides a straightforward way to validate the model, giving insights into how it might perform in real-world scenarios\n",
    "\n",
    "\n",
    "Here your goal is to train any appropriate ML model on `train` split and run inference on `test` split.\n",
    "\n"
   ]
  },
  {
   "cell_type": "code",
   "execution_count": 3,
   "id": "e525fe48",
   "metadata": {
    "ExecuteTime": {
     "end_time": "2024-06-27T06:04:45.121970Z",
     "start_time": "2024-06-27T06:04:43.093610Z"
    }
   },
   "outputs": [
    {
     "data": {
      "text/html": [
       "<div>\n",
       "<style scoped>\n",
       "    .dataframe tbody tr th:only-of-type {\n",
       "        vertical-align: middle;\n",
       "    }\n",
       "\n",
       "    .dataframe tbody tr th {\n",
       "        vertical-align: top;\n",
       "    }\n",
       "\n",
       "    .dataframe thead th {\n",
       "        text-align: right;\n",
       "    }\n",
       "</style>\n",
       "<table border=\"1\" class=\"dataframe\">\n",
       "  <thead>\n",
       "    <tr style=\"text-align: right;\">\n",
       "      <th></th>\n",
       "      <th>vendor_id</th>\n",
       "      <th>pickup_datetime</th>\n",
       "      <th>passenger_count</th>\n",
       "      <th>store_and_fwd_flag</th>\n",
       "      <th>trip_duration</th>\n",
       "      <th>distance_km</th>\n",
       "      <th>prediction_1</th>\n",
       "      <th>prediction_2</th>\n",
       "    </tr>\n",
       "    <tr>\n",
       "      <th>id</th>\n",
       "      <th></th>\n",
       "      <th></th>\n",
       "      <th></th>\n",
       "      <th></th>\n",
       "      <th></th>\n",
       "      <th></th>\n",
       "      <th></th>\n",
       "      <th></th>\n",
       "    </tr>\n",
       "  </thead>\n",
       "  <tbody>\n",
       "    <tr>\n",
       "      <th>id2875421</th>\n",
       "      <td>1</td>\n",
       "      <td>2016-03-14 17:24:55</td>\n",
       "      <td>930.399753</td>\n",
       "      <td>0</td>\n",
       "      <td>455.0</td>\n",
       "      <td>1.500479</td>\n",
       "      <td>578.156451</td>\n",
       "      <td>355.270710</td>\n",
       "    </tr>\n",
       "    <tr>\n",
       "      <th>id2377394</th>\n",
       "      <td>0</td>\n",
       "      <td>2016-06-12 00:43:35</td>\n",
       "      <td>930.399753</td>\n",
       "      <td>0</td>\n",
       "      <td>663.0</td>\n",
       "      <td>1.807119</td>\n",
       "      <td>962.657188</td>\n",
       "      <td>674.295781</td>\n",
       "    </tr>\n",
       "    <tr>\n",
       "      <th>id3858529</th>\n",
       "      <td>1</td>\n",
       "      <td>2016-01-19 11:35:24</td>\n",
       "      <td>930.399753</td>\n",
       "      <td>0</td>\n",
       "      <td>2124.0</td>\n",
       "      <td>6.392080</td>\n",
       "      <td>2546.180515</td>\n",
       "      <td>2422.132431</td>\n",
       "    </tr>\n",
       "    <tr>\n",
       "      <th>id3504673</th>\n",
       "      <td>1</td>\n",
       "      <td>2016-04-06 19:32:31</td>\n",
       "      <td>930.399753</td>\n",
       "      <td>0</td>\n",
       "      <td>429.0</td>\n",
       "      <td>1.487155</td>\n",
       "      <td>737.926214</td>\n",
       "      <td>795.992362</td>\n",
       "    </tr>\n",
       "    <tr>\n",
       "      <th>id2181028</th>\n",
       "      <td>1</td>\n",
       "      <td>2016-03-26 13:30:55</td>\n",
       "      <td>930.399753</td>\n",
       "      <td>0</td>\n",
       "      <td>435.0</td>\n",
       "      <td>1.189925</td>\n",
       "      <td>666.070794</td>\n",
       "      <td>-4.158492</td>\n",
       "    </tr>\n",
       "  </tbody>\n",
       "</table>\n",
       "</div>"
      ],
      "text/plain": [
       "           vendor_id      pickup_datetime  passenger_count  \\\n",
       "id                                                           \n",
       "id2875421          1  2016-03-14 17:24:55       930.399753   \n",
       "id2377394          0  2016-06-12 00:43:35       930.399753   \n",
       "id3858529          1  2016-01-19 11:35:24       930.399753   \n",
       "id3504673          1  2016-04-06 19:32:31       930.399753   \n",
       "id2181028          1  2016-03-26 13:30:55       930.399753   \n",
       "\n",
       "           store_and_fwd_flag  trip_duration  distance_km  prediction_1  \\\n",
       "id                                                                        \n",
       "id2875421                   0          455.0     1.500479    578.156451   \n",
       "id2377394                   0          663.0     1.807119    962.657188   \n",
       "id3858529                   0         2124.0     6.392080   2546.180515   \n",
       "id3504673                   0          429.0     1.487155    737.926214   \n",
       "id2181028                   0          435.0     1.189925    666.070794   \n",
       "\n",
       "           prediction_2  \n",
       "id                       \n",
       "id2875421    355.270710  \n",
       "id2377394    674.295781  \n",
       "id3858529   2422.132431  \n",
       "id3504673    795.992362  \n",
       "id2181028     -4.158492  "
      ]
     },
     "execution_count": 3,
     "metadata": {},
     "output_type": "execute_result"
    }
   ],
   "source": [
    "df = pd.read_csv('taxi_dataset.csv', index_col=0)\n",
    "\n",
    "df.head()"
   ]
  },
  {
   "cell_type": "markdown",
   "id": "eae8224b",
   "metadata": {},
   "source": [
    "#### EXERCISE 1:\n",
    "\n",
    "Use the targeting column (*trip_duration*) and all attributes except the order start time (*pickup_datetime*) as a Sample\n",
    "\n",
    "\n",
    "To get started, let's use the \"boxed solution\". To do this, create a model variable, put in it the **LinearRegression** class from the **linear_model** module of the **sklearn** library.\n",
    "\n",
    "Next, use the **fit** method, put into it the **X** array consisting of object attributes (you can use a pandas dataframe or a numpy array) and the **Y** array with targets."
   ]
  },
  {
   "cell_type": "code",
   "execution_count": 3,
   "id": "1d57966d",
   "metadata": {
    "ExecuteTime": {
     "end_time": "2024-06-20T06:17:32.213442Z",
     "start_time": "2024-06-20T06:17:32.062104Z"
    }
   },
   "outputs": [],
   "source": [
    "from sklearn.linear_model import LinearRegression\n",
    "\n",
    "### Your code is here"
   ]
  },
  {
   "cell_type": "markdown",
   "id": "82b2944c",
   "metadata": {},
   "source": [
    "#### Exercise 2\n",
    "\n",
    "To look at the values of the obtained model coefficients, you should refer to the **coef_** attribute of the linear regression class. To view the free weights, to the **intercept_** attribute "
   ]
  },
  {
   "cell_type": "code",
   "execution_count": 2,
   "id": "7b6f2009",
   "metadata": {},
   "outputs": [],
   "source": [
    "### Your code is here\n"
   ]
  },
  {
   "cell_type": "markdown",
   "id": "b699ffaf",
   "metadata": {},
   "source": [
    "## Fitting the Model\n",
    "\n",
    "It is a process of training a model on a dataset to learn the underlying patterns and relationships within the data. This involves adjusting the model's parameters so that its predictions closely match the actual target values. During fitting, the model uses algorithms to minimize the error between its predictions and the true outcomes by optimizing a loss function. The result is a trained model that can make accurate predictions on new, unseen data.\n",
    "\n",
    "#### Exercise 3\n",
    "Now implement the LinearRegressionByMatrix function, which will take 3 parameters as input:\n",
    "\n",
    "Matrix object-value **(X)**, vector with answers **(Y)**, Boolean parameter **fit_intercept** whose purpose is to add a constant feature (consisting of ones) if True, and do nothing if False.\n",
    "\n",
    "The function should return a one-dimensional np.array object with the evaluated **$\\beta_1, ..., \\beta_n, \\beta_0$**.\n",
    "\n",
    "$$\n",
    "\\beta^* = (X^T \\cdot X)^{-1} \\cdot X^T \\cdot Y\n",
    "$$"
   ]
  },
  {
   "cell_type": "code",
   "execution_count": 4,
   "id": "e16a9233",
   "metadata": {},
   "outputs": [],
   "source": [
    "import numpy as np\n",
    "\n",
    "### Your code is here\n",
    "\n",
    "def LinearRegressionByMatrix(X: np.array, Y: np.array, fit_intercept: bool = True):\n",
    "        \"\"\"\n",
    "        :param X: matrix of objects\n",
    "        :param Y: vector (matrix with 1 column) of responses\n",
    "        :param fit_intercept: should I add a constant variable to the data?\n",
    "        \n",
    "        :return: one-dimensional numpy-array with beta coefficients obtained\n",
    "        \"\"\"\n",
    "        \n",
    "        return "
   ]
  },
  {
   "cell_type": "markdown",
   "id": "16cd1b7f",
   "metadata": {},
   "source": [
    "#### Exercise 4\n",
    "Are the coefficients the same as in the \"box\" version?\n",
    "\n",
    "Having the coefficients of the model, you can recover predictions for each object!\n",
    "\n",
    "Do it through matrix product operation of **X** matrix and obtained coefficients (as a result of *LinearRegressionByMatrix*)"
   ]
  },
  {
   "cell_type": "code",
   "execution_count": 5,
   "id": "61d27192",
   "metadata": {},
   "outputs": [],
   "source": [
    "### Your code is here"
   ]
  }
 ],
 "metadata": {
  "kernelspec": {
   "display_name": "Python 3 (ipykernel)",
   "language": "python",
   "name": "python3"
  },
  "language_info": {
   "codemirror_mode": {
    "name": "ipython",
    "version": 3
   },
   "file_extension": ".py",
   "mimetype": "text/x-python",
   "name": "python",
   "nbconvert_exporter": "python",
   "pygments_lexer": "ipython3",
   "version": "3.12.2"
  }
 },
 "nbformat": 4,
 "nbformat_minor": 5
}
