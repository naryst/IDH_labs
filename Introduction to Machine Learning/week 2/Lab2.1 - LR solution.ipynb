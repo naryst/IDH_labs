{
 "cells": [
  {
   "cell_type": "markdown",
   "id": "d2f6ef36",
   "metadata": {},
   "source": [
    "# Introduction to Machine Learning\n",
    "\n",
    "## Lesson 2. Linear regression\n",
    "\n",
    "## Introduction\n",
    "\n",
    "This lab introduces you to the Linear Regression and how to apply the solutions. Furthermore, you will learn how to prepare the dataset into a machine learning model.\n",
    "\n",
    "## Task\n",
    "\n",
    "In this lab, we would be performing a basic classificatiob on Taxi Dataset\n",
    "\n",
    "### About Taxi Dataset\n",
    "Taxi trip records include id, vendor_id, pickup_datetime, passenger_count, store_and_fwd_flag, trip_duration, distance_km.\n",
    "The dataset is often used for testing algorithms for classification and pattern recognition due to its simplicity and well-defined structure.\n",
    "\n",
    "### Performing the Classification\n",
    "To do so you will need:\n",
    "- Obtain data from competition\n",
    "- Create a Jupyter notebook which will produce a file for submission\n",
    "- Submit it to the competition"
   ]
  },
  {
   "cell_type": "markdown",
   "id": "2cc0fcc6",
   "metadata": {},
   "source": [
    "### Questions"
   ]
  },
  {
   "cell_type": "markdown",
   "id": "f1fab4f1",
   "metadata": {},
   "source": [
    "*To solve a linear regression problem, use the following formula:\n",
    "$\\beta^*=(X^T \\cdot X)^{-1} \\cdot X^T \\cdot Y$.*: \n",
    "\n",
    "1. No\n",
    "2. Yes, this is the only sure-fire way. \n",
    "3. When to do it depends on the specifics of the data.\n",
    "\n",
    "\n",
    "**Answer: 1)** This formula works if we are trying to estimate OLS linear regression coefficients. That is, when we take the mean squared error function (MSE) as the error functional. But, for example, if we take the so-called MAE as the quality functional: **$Q = \\sum_i^n |a(x_i) -y_i|$** - then the formula will no longer give the correct result (that is, it will be an optimum-minimum).\n",
    "\n",
    "_______________________________________________________"
   ]
  },
  {
   "cell_type": "markdown",
   "id": "7c0a61c5",
   "metadata": {},
   "source": [
    "*If we want to find the minimum of an arbitrary differentiable function, we need to find the points at which the derivative is zero.*: \n",
    "\n",
    "1. Yes, but check that the derivative to the left of this point is negative and to the right is positive.\n",
    "2. Yes, but check that the derivative to the left of that point is positive and to the right is negative.\n",
    "3. Yes, take any such point near which the derivative has changed its sign.\n",
    "4. No, it is necessary to use the apparatus of working with matrices.\n",
    "\n",
    "\n",
    "\n",
    "**Answer: 1)** The sign of the derivative (whether it is positive or negative) tells us whether the function is increasing or decreasing. The minima of a function occur where it has been decreasing for some time, and then at some point it began to increase. Therefore, this transition for the points we are looking for fits into the 1st answer choice.\n",
    "\n",
    "_______________________________________________________"
   ]
  },
  {
   "cell_type": "markdown",
   "id": "c3bebc5e",
   "metadata": {},
   "source": [
    "*When we have found the minimum of a function, it means that we have found the point at which the function reaches its minimum value for all possible arguments.*: \n",
    "\n",
    "1. Yes, because that's what a minimum is.\n",
    "2. No, a function can have several different minima. To find the minimum value, you need to find all the minima and compare them to each other. \n",
    "3. No, a function can have several minima that differ from each other. Depending on the nature of the function's behavior, there may (but not necessarily) be a global one among them.\n",
    "4. No correct answer\n",
    "\n",
    "\n",
    "\n",
    "**Answer: 3)** For example, the function y(x)\\ =\\ x\\ +\\ sin(x) has an infinite number of minimum points. Moreover, they are all different and can be clearly compared with each other.  Nevertheless, this function has no global minimum.\n",
    "\n",
    "_______________________________________________________"
   ]
  },
  {
   "cell_type": "markdown",
   "id": "02986bc2",
   "metadata": {},
   "source": [
    "## Importing required Libraries\n",
    "\n",
    "First we need to import necessary libraries:\n",
    "\n",
    "[Pandas](https://pandas.pydata.org/) - For data analysis and manipulation"
   ]
  },
  {
   "cell_type": "code",
   "execution_count": 1,
   "id": "be53b715",
   "metadata": {
    "ExecuteTime": {
     "end_time": "2024-06-20T06:17:59.860814Z",
     "start_time": "2024-06-20T06:17:59.489781Z"
    }
   },
   "outputs": [
    {
     "name": "stderr",
     "output_type": "stream",
     "text": [
      "/Users/swifty/anaconda3/lib/python3.11/site-packages/pandas/core/arrays/masked.py:60: UserWarning: Pandas requires version '1.3.6' or newer of 'bottleneck' (version '1.3.5' currently installed).\n",
      "  from pandas.core import (\n"
     ]
    }
   ],
   "source": [
    "import pandas as pd"
   ]
  },
  {
   "cell_type": "markdown",
   "id": "7849ca17",
   "metadata": {},
   "source": [
    "## Preparaing Data\n",
    "Data in Machine Learning and Deep Learning is usally consisting of `train` and `test` splits. Sometimes there's a `validation` split as well.\n",
    "\n",
    "The main purpose of the train-test split is to assess how well a machine learning model generalizes to unseen data. By splitting the dataset, we can train the model on one subset of the data (the training set) and test its performance on another subset (the test set).\n",
    "\n",
    "\n",
    "Train test split usually serves two purposes:\n",
    "1.   **Avoiding Overfitting**: By using a separate test set, we ensure that the model’s performance is not overly optimistic, as it has not seen the test data during training. This helps to avoid overfitting, where the model performs well on the training data but poorly on unseen data\n",
    "\n",
    "2.   **Model Validation**: It provides a straightforward way to validate the model, giving insights into how it might perform in real-world scenarios\n",
    "\n",
    "\n",
    "Here your goal is to train any appropriate ML model on `train` split and run inference on `test` split."
   ]
  },
  {
   "cell_type": "code",
   "execution_count": 2,
   "id": "3dffd503",
   "metadata": {
    "ExecuteTime": {
     "end_time": "2024-06-20T06:18:02.550955Z",
     "start_time": "2024-06-20T06:18:00.529622Z"
    }
   },
   "outputs": [
    {
     "data": {
      "text/html": [
       "<div>\n",
       "<style scoped>\n",
       "    .dataframe tbody tr th:only-of-type {\n",
       "        vertical-align: middle;\n",
       "    }\n",
       "\n",
       "    .dataframe tbody tr th {\n",
       "        vertical-align: top;\n",
       "    }\n",
       "\n",
       "    .dataframe thead th {\n",
       "        text-align: right;\n",
       "    }\n",
       "</style>\n",
       "<table border=\"1\" class=\"dataframe\">\n",
       "  <thead>\n",
       "    <tr style=\"text-align: right;\">\n",
       "      <th></th>\n",
       "      <th>vendor_id</th>\n",
       "      <th>pickup_datetime</th>\n",
       "      <th>passenger_count</th>\n",
       "      <th>store_and_fwd_flag</th>\n",
       "      <th>trip_duration</th>\n",
       "      <th>distance_km</th>\n",
       "      <th>prediction_1</th>\n",
       "      <th>prediction_2</th>\n",
       "    </tr>\n",
       "    <tr>\n",
       "      <th>id</th>\n",
       "      <th></th>\n",
       "      <th></th>\n",
       "      <th></th>\n",
       "      <th></th>\n",
       "      <th></th>\n",
       "      <th></th>\n",
       "      <th></th>\n",
       "      <th></th>\n",
       "    </tr>\n",
       "  </thead>\n",
       "  <tbody>\n",
       "    <tr>\n",
       "      <th>id2875421</th>\n",
       "      <td>1</td>\n",
       "      <td>2016-03-14 17:24:55</td>\n",
       "      <td>930.399753</td>\n",
       "      <td>0</td>\n",
       "      <td>455.0</td>\n",
       "      <td>1.500479</td>\n",
       "      <td>578.156451</td>\n",
       "      <td>355.270710</td>\n",
       "    </tr>\n",
       "    <tr>\n",
       "      <th>id2377394</th>\n",
       "      <td>0</td>\n",
       "      <td>2016-06-12 00:43:35</td>\n",
       "      <td>930.399753</td>\n",
       "      <td>0</td>\n",
       "      <td>663.0</td>\n",
       "      <td>1.807119</td>\n",
       "      <td>962.657188</td>\n",
       "      <td>674.295781</td>\n",
       "    </tr>\n",
       "    <tr>\n",
       "      <th>id3858529</th>\n",
       "      <td>1</td>\n",
       "      <td>2016-01-19 11:35:24</td>\n",
       "      <td>930.399753</td>\n",
       "      <td>0</td>\n",
       "      <td>2124.0</td>\n",
       "      <td>6.392080</td>\n",
       "      <td>2546.180515</td>\n",
       "      <td>2422.132431</td>\n",
       "    </tr>\n",
       "    <tr>\n",
       "      <th>id3504673</th>\n",
       "      <td>1</td>\n",
       "      <td>2016-04-06 19:32:31</td>\n",
       "      <td>930.399753</td>\n",
       "      <td>0</td>\n",
       "      <td>429.0</td>\n",
       "      <td>1.487155</td>\n",
       "      <td>737.926214</td>\n",
       "      <td>795.992362</td>\n",
       "    </tr>\n",
       "    <tr>\n",
       "      <th>id2181028</th>\n",
       "      <td>1</td>\n",
       "      <td>2016-03-26 13:30:55</td>\n",
       "      <td>930.399753</td>\n",
       "      <td>0</td>\n",
       "      <td>435.0</td>\n",
       "      <td>1.189925</td>\n",
       "      <td>666.070794</td>\n",
       "      <td>-4.158492</td>\n",
       "    </tr>\n",
       "  </tbody>\n",
       "</table>\n",
       "</div>"
      ],
      "text/plain": [
       "           vendor_id      pickup_datetime  passenger_count  \\\n",
       "id                                                           \n",
       "id2875421          1  2016-03-14 17:24:55       930.399753   \n",
       "id2377394          0  2016-06-12 00:43:35       930.399753   \n",
       "id3858529          1  2016-01-19 11:35:24       930.399753   \n",
       "id3504673          1  2016-04-06 19:32:31       930.399753   \n",
       "id2181028          1  2016-03-26 13:30:55       930.399753   \n",
       "\n",
       "           store_and_fwd_flag  trip_duration  distance_km  prediction_1  \\\n",
       "id                                                                        \n",
       "id2875421                   0          455.0     1.500479    578.156451   \n",
       "id2377394                   0          663.0     1.807119    962.657188   \n",
       "id3858529                   0         2124.0     6.392080   2546.180515   \n",
       "id3504673                   0          429.0     1.487155    737.926214   \n",
       "id2181028                   0          435.0     1.189925    666.070794   \n",
       "\n",
       "           prediction_2  \n",
       "id                       \n",
       "id2875421    355.270710  \n",
       "id2377394    674.295781  \n",
       "id3858529   2422.132431  \n",
       "id3504673    795.992362  \n",
       "id2181028     -4.158492  "
      ]
     },
     "execution_count": 2,
     "metadata": {},
     "output_type": "execute_result"
    }
   ],
   "source": [
    "df = pd.read_csv('taxi_dataset.csv', index_col=0)\n",
    "\n",
    "df.head()"
   ]
  },
  {
   "cell_type": "markdown",
   "id": "ed1f9ce7",
   "metadata": {},
   "source": [
    "#### EXERCISE 1:\n",
    "\n",
    "Use the targeting column (*trip_duration*) and all attributes except the order start time (*pickup_datetime*) as a Sample\n",
    "\n",
    "To get started, let's use the \"boxed solution\". To do this, create a model variable, put in it the **LinearRegression** class from the **linear_model** module of the **sklearn** library.\n",
    "\n",
    "Next, use the **fit** method, put into it the **X** array consisting of object attributes (you can use a pandas dataframe or a numpy array) and the **Y** array with targets."
   ]
  },
  {
   "cell_type": "code",
   "execution_count": 3,
   "id": "cc5e3b7e",
   "metadata": {
    "ExecuteTime": {
     "end_time": "2024-06-20T06:18:05.961861Z",
     "start_time": "2024-06-20T06:18:05.095330Z"
    }
   },
   "outputs": [
    {
     "data": {
      "text/html": [
       "<style>#sk-container-id-1 {color: black;}#sk-container-id-1 pre{padding: 0;}#sk-container-id-1 div.sk-toggleable {background-color: white;}#sk-container-id-1 label.sk-toggleable__label {cursor: pointer;display: block;width: 100%;margin-bottom: 0;padding: 0.3em;box-sizing: border-box;text-align: center;}#sk-container-id-1 label.sk-toggleable__label-arrow:before {content: \"▸\";float: left;margin-right: 0.25em;color: #696969;}#sk-container-id-1 label.sk-toggleable__label-arrow:hover:before {color: black;}#sk-container-id-1 div.sk-estimator:hover label.sk-toggleable__label-arrow:before {color: black;}#sk-container-id-1 div.sk-toggleable__content {max-height: 0;max-width: 0;overflow: hidden;text-align: left;background-color: #f0f8ff;}#sk-container-id-1 div.sk-toggleable__content pre {margin: 0.2em;color: black;border-radius: 0.25em;background-color: #f0f8ff;}#sk-container-id-1 input.sk-toggleable__control:checked~div.sk-toggleable__content {max-height: 200px;max-width: 100%;overflow: auto;}#sk-container-id-1 input.sk-toggleable__control:checked~label.sk-toggleable__label-arrow:before {content: \"▾\";}#sk-container-id-1 div.sk-estimator input.sk-toggleable__control:checked~label.sk-toggleable__label {background-color: #d4ebff;}#sk-container-id-1 div.sk-label input.sk-toggleable__control:checked~label.sk-toggleable__label {background-color: #d4ebff;}#sk-container-id-1 input.sk-hidden--visually {border: 0;clip: rect(1px 1px 1px 1px);clip: rect(1px, 1px, 1px, 1px);height: 1px;margin: -1px;overflow: hidden;padding: 0;position: absolute;width: 1px;}#sk-container-id-1 div.sk-estimator {font-family: monospace;background-color: #f0f8ff;border: 1px dotted black;border-radius: 0.25em;box-sizing: border-box;margin-bottom: 0.5em;}#sk-container-id-1 div.sk-estimator:hover {background-color: #d4ebff;}#sk-container-id-1 div.sk-parallel-item::after {content: \"\";width: 100%;border-bottom: 1px solid gray;flex-grow: 1;}#sk-container-id-1 div.sk-label:hover label.sk-toggleable__label {background-color: #d4ebff;}#sk-container-id-1 div.sk-serial::before {content: \"\";position: absolute;border-left: 1px solid gray;box-sizing: border-box;top: 0;bottom: 0;left: 50%;z-index: 0;}#sk-container-id-1 div.sk-serial {display: flex;flex-direction: column;align-items: center;background-color: white;padding-right: 0.2em;padding-left: 0.2em;position: relative;}#sk-container-id-1 div.sk-item {position: relative;z-index: 1;}#sk-container-id-1 div.sk-parallel {display: flex;align-items: stretch;justify-content: center;background-color: white;position: relative;}#sk-container-id-1 div.sk-item::before, #sk-container-id-1 div.sk-parallel-item::before {content: \"\";position: absolute;border-left: 1px solid gray;box-sizing: border-box;top: 0;bottom: 0;left: 50%;z-index: -1;}#sk-container-id-1 div.sk-parallel-item {display: flex;flex-direction: column;z-index: 1;position: relative;background-color: white;}#sk-container-id-1 div.sk-parallel-item:first-child::after {align-self: flex-end;width: 50%;}#sk-container-id-1 div.sk-parallel-item:last-child::after {align-self: flex-start;width: 50%;}#sk-container-id-1 div.sk-parallel-item:only-child::after {width: 0;}#sk-container-id-1 div.sk-dashed-wrapped {border: 1px dashed gray;margin: 0 0.4em 0.5em 0.4em;box-sizing: border-box;padding-bottom: 0.4em;background-color: white;}#sk-container-id-1 div.sk-label label {font-family: monospace;font-weight: bold;display: inline-block;line-height: 1.2em;}#sk-container-id-1 div.sk-label-container {text-align: center;}#sk-container-id-1 div.sk-container {/* jupyter's `normalize.less` sets `[hidden] { display: none; }` but bootstrap.min.css set `[hidden] { display: none !important; }` so we also need the `!important` here to be able to override the default hidden behavior on the sphinx rendered scikit-learn.org. See: https://github.com/scikit-learn/scikit-learn/issues/21755 */display: inline-block !important;position: relative;}#sk-container-id-1 div.sk-text-repr-fallback {display: none;}</style><div id=\"sk-container-id-1\" class=\"sk-top-container\"><div class=\"sk-text-repr-fallback\"><pre>LinearRegression()</pre><b>In a Jupyter environment, please rerun this cell to show the HTML representation or trust the notebook. <br />On GitHub, the HTML representation is unable to render, please try loading this page with nbviewer.org.</b></div><div class=\"sk-container\" hidden><div class=\"sk-item\"><div class=\"sk-estimator sk-toggleable\"><input class=\"sk-toggleable__control sk-hidden--visually\" id=\"sk-estimator-id-1\" type=\"checkbox\" checked><label for=\"sk-estimator-id-1\" class=\"sk-toggleable__label sk-toggleable__label-arrow\">LinearRegression</label><div class=\"sk-toggleable__content\"><pre>LinearRegression()</pre></div></div></div></div></div>"
      ],
      "text/plain": [
       "LinearRegression()"
      ]
     },
     "execution_count": 3,
     "metadata": {},
     "output_type": "execute_result"
    }
   ],
   "source": [
    "from sklearn.linear_model import LinearRegression\n",
    "\n",
    "model = LinearRegression()\n",
    "model.fit(df.drop(['trip_duration', 'pickup_datetime'], axis=1), df['trip_duration'])"
   ]
  },
  {
   "cell_type": "markdown",
   "id": "b7f77f1c",
   "metadata": {},
   "source": [
    "#### Exercise 2\n",
    "\n",
    "To look at the values of the obtained model coefficients, you should refer to the **coef_** attribute of the linear regression class. To view the free weights, to the **intercept_** attribute "
   ]
  },
  {
   "cell_type": "code",
   "execution_count": null,
   "id": "c5bb7f70",
   "metadata": {
    "ExecuteTime": {
     "end_time": "2024-06-20T06:18:08.604754Z",
     "start_time": "2024-06-20T06:18:08.593195Z"
    }
   },
   "outputs": [],
   "source": [
    "model.coef_.tolist(), model.intercept_"
   ]
  },
  {
   "cell_type": "markdown",
   "id": "be13d6a3",
   "metadata": {},
   "source": [
    "## Fitting the Model\n",
    "\n",
    "It is a process of training a model on a dataset to learn the underlying patterns and relationships within the data. This involves adjusting the model's parameters so that its predictions closely match the actual target values. During fitting, the model uses algorithms to minimize the error between its predictions and the true outcomes by optimizing a loss function. The result is a trained model that can make accurate predictions on new, unseen data.\n",
    "\n",
    "#### Exercise 3\n",
    "Now implement the LinearRegressionByMatrix function, which will take 3 parameters as input:\n",
    "\n",
    "Matrix object-value **(X)**, vector with answers **(Y)**, Boolean parameter **fit_intercept** whose purpose is to add a constant feature (consisting of ones) if True, and do nothing if False.\n",
    "\n",
    "The function should return a one-dimensional np.array object with the evaluated **$\\beta_1, ..., \\beta_n, \\beta_0$**.\n",
    "\n",
    "$$\n",
    "\\beta^* = (X^T \\cdot X)^{-1} \\cdot X^T \\cdot Y\n",
    "$$"
   ]
  },
  {
   "cell_type": "code",
   "execution_count": 5,
   "id": "40a0f2a1",
   "metadata": {
    "ExecuteTime": {
     "end_time": "2024-06-20T06:18:11.033492Z",
     "start_time": "2024-06-20T06:18:10.895664Z"
    }
   },
   "outputs": [
    {
     "data": {
      "text/plain": [
       "array([ 2.69170051e-01, -4.31443463e-05,  3.61385599e-01,  2.80567496e-02,\n",
       "        9.24304340e-01,  7.53319963e-02, -2.80895337e+02])"
      ]
     },
     "execution_count": 5,
     "metadata": {},
     "output_type": "execute_result"
    }
   ],
   "source": [
    "import numpy as np\n",
    "\n",
    "def LinearRegressionByMatrix(X, Y, fit_intercept=True):\n",
    "    \n",
    "    X = np.c_[ X, np.ones(X.shape[0]) ]\n",
    "    \n",
    "    return np.dot(np.dot(np.linalg.inv(np.dot(X.T, X)), X.T), Y)\n",
    "\n",
    "X_train = df.drop(['trip_duration', 'pickup_datetime'], axis=1).values\n",
    "Y_train = df['trip_duration'].values\n",
    "\n",
    "LinearRegressionByMatrix(X_train, Y_train)"
   ]
  },
  {
   "cell_type": "markdown",
   "id": "d2c812e8",
   "metadata": {},
   "source": [
    "#### Exercise 4\n",
    "Are the coefficients the same as in the \"box\" version?\n",
    "\n",
    "Having the coefficients of the model, you can recover predictions for each object!\n",
    "\n",
    "Do it through matrix product operation of **X** matrix and obtained coefficients (as a result of *LinearRegressionByMatrix*)"
   ]
  },
  {
   "cell_type": "code",
   "execution_count": 6,
   "id": "3044e57b",
   "metadata": {
    "ExecuteTime": {
     "end_time": "2024-06-20T06:18:33.800158Z",
     "start_time": "2024-06-20T06:18:33.627587Z"
    }
   },
   "outputs": [
    {
     "data": {
      "text/plain": [
       "array([ 280.53155875,  659.6994874 , 2255.42280466, ...,  705.0299771 ,\n",
       "        515.24685406,   83.58703383])"
      ]
     },
     "execution_count": 6,
     "metadata": {},
     "output_type": "execute_result"
    }
   ],
   "source": [
    "betas = LinearRegressionByMatrix(X_train, Y_train)\n",
    "\n",
    "np.dot(np.c_[ X_train, np.ones(X_train.shape[0]) ], betas)"
   ]
  },
  {
   "cell_type": "code",
   "execution_count": null,
   "id": "ea659513202dae",
   "metadata": {
    "collapsed": false
   },
   "outputs": [],
   "source": []
  }
 ],
 "metadata": {
  "kernelspec": {
   "display_name": "Python 3 (ipykernel)",
   "language": "python",
   "name": "python3"
  },
  "language_info": {
   "codemirror_mode": {
    "name": "ipython",
    "version": 3
   },
   "file_extension": ".py",
   "mimetype": "text/x-python",
   "name": "python",
   "nbconvert_exporter": "python",
   "pygments_lexer": "ipython3",
   "version": "3.7.9"
  }
 },
 "nbformat": 4,
 "nbformat_minor": 5
}
