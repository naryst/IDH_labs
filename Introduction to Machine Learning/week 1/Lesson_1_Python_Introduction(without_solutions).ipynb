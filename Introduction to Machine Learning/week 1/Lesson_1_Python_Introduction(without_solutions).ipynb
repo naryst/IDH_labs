{
  "cells": [
    {
      "cell_type": "markdown",
      "source": [
        "# Lesson 1: Introduction to Python"
      ],
      "metadata": {
        "id": "Pw6EwIyHOuSf"
      }
    },
    {
      "cell_type": "markdown",
      "metadata": {
        "pycharm": {
          "name": "#%% md\n"
        },
        "id": "pIPE39QD_rog"
      },
      "source": [
        "\n",
        "Python is an interpreted, object-oriented, high-level programming language with dynamic semantics. Its high-level built-in data structures, combined with dynamic typing and dynamic binding, make it very attractive for Rapid Application Development. It supports modules and packages, which encourages program modularity and code reuse. [[1](https://www.python.org/doc/essays/blurb/)].\n",
        "\n",
        "[PEP8](https://realpython.com/python-pep8/) is one of the standards that\n",
        "specifies guidelines and best practices on how to write Python code.\n",
        "\n",
        "[PEP20](https://peps.python.org/pep-0020/) is guiding principles for Python design"
      ]
    },
    {
      "cell_type": "markdown",
      "source": [
        "##What is Python?\n",
        "Python is a popular programming language. It was created by Guido van Rossum, and released in 1991.\n",
        "\n",
        "It is used for:\n",
        "\n",
        "- web development (server-side)\n",
        "\n",
        "- software development\n",
        "\n",
        "- mathematics\n",
        "\n",
        "- system scripting\n"
      ],
      "metadata": {
        "id": "ytDaDYlvL4hq"
      }
    },
    {
      "cell_type": "markdown",
      "source": [
        "##What can Python do?\n",
        "Python can be used on a server to create web applications.\n",
        "Python can be used alongside software to create workflows.\n",
        "Python can connect to database systems. It can also read and modify files.\n",
        "Python can be used to handle big data and perform complex mathematics.\n",
        "Python can be used for rapid prototyping, or for production-ready software development."
      ],
      "metadata": {
        "id": "vGU_gywXL_Ky"
      }
    },
    {
      "cell_type": "markdown",
      "source": [
        "#Python Variables"
      ],
      "metadata": {
        "id": "8IVPEyJSMZPO"
      }
    },
    {
      "cell_type": "markdown",
      "source": [
        "\n",
        "Variables are containers for storing data values. A variable is created the moment you first assign a value to it."
      ],
      "metadata": {
        "id": "kN8vhRNHMf5X"
      }
    },
    {
      "cell_type": "markdown",
      "source": [
        "**Example:**"
      ],
      "metadata": {
        "id": "SMwJAzoTM8Xd"
      }
    },
    {
      "cell_type": "code",
      "source": [
        "x = 5\n",
        "y = \"John\"\n",
        "print(x)\n",
        "print(y)"
      ],
      "metadata": {
        "colab": {
          "base_uri": "https://localhost:8080/"
        },
        "id": "lIv_blOCM8zB",
        "outputId": "8866da4a-001c-4069-cc24-2cfdb7e7cea6"
      },
      "execution_count": 1,
      "outputs": [
        {
          "output_type": "stream",
          "name": "stdout",
          "text": [
            "5\n",
            "John\n"
          ]
        }
      ]
    },
    {
      "cell_type": "markdown",
      "source": [
        "You can get the data type of a variable with the `type()` function."
      ],
      "metadata": {
        "id": "rnKw7emWNOEX"
      }
    },
    {
      "cell_type": "markdown",
      "source": [
        "**Example:**"
      ],
      "metadata": {
        "id": "4jFERhbANXEf"
      }
    },
    {
      "cell_type": "code",
      "source": [
        "x = 5\n",
        "y = \"John\"\n",
        "print(type(x))\n",
        "print(type(y))"
      ],
      "metadata": {
        "colab": {
          "base_uri": "https://localhost:8080/"
        },
        "id": "nY9gbaGdNUU3",
        "outputId": "3a546283-684a-4b2b-a135-75d5cd3fbf02"
      },
      "execution_count": 2,
      "outputs": [
        {
          "output_type": "stream",
          "name": "stdout",
          "text": [
            "<class 'int'>\n",
            "<class 'str'>\n"
          ]
        }
      ]
    },
    {
      "cell_type": "markdown",
      "source": [
        "String variables can be declared either by using single or double quotes:"
      ],
      "metadata": {
        "id": "be3OV2OTN1HP"
      }
    },
    {
      "cell_type": "markdown",
      "source": [
        "**Example:**"
      ],
      "metadata": {
        "id": "ld1x6rcmN48R"
      }
    },
    {
      "cell_type": "code",
      "source": [
        "x = \"John\"\n",
        "# is the same as\n",
        "x = 'John'"
      ],
      "metadata": {
        "id": "JNtpKSuQN7Iv"
      },
      "execution_count": null,
      "outputs": []
    },
    {
      "cell_type": "markdown",
      "source": [
        "# Python Data Types"
      ],
      "metadata": {
        "id": "-kPmL0PKO1GO"
      }
    },
    {
      "cell_type": "markdown",
      "metadata": {
        "id": "Qr8ZD3x5_roi"
      },
      "source": [
        "\n",
        "Python has different data types, here is the most common ones\n",
        "\n",
        "| Data Types   | Examples            | Explanation          | Mutable? |\n",
        "| ------------ | ------------------- | -------------------- | -------- |\n",
        "| Strings      | \"Hi!\", '1.3'        | Text                 | No       |\n",
        "| Integers     | 49                  | Whole numbers        | No       |\n",
        "| Floats       | 3.14                | Decimal Numbers      | No       |\n",
        "| Booleans     | True, False         | Truth values         | No       |\n",
        "| Lists        | \\[1, 'a', [1.5, 2]\\]| A collection of data | Yes      |\n",
        "| Tuples       | (1, 2, 3, 4, 5)     | A collection of data | No       |\n",
        "| Dictionaries | {\"a\": 1, \"b\": True} | A collection of data | Yes      |"
      ]
    },
    {
      "cell_type": "markdown",
      "source": [
        "**Example:**"
      ],
      "metadata": {
        "id": "B7wzuYxlOibd"
      }
    },
    {
      "cell_type": "code",
      "execution_count": null,
      "metadata": {
        "id": "17tpMeWY_roj"
      },
      "outputs": [],
      "source": [
        "# Assigning data to variables\n",
        "var_1 = \"Hello World\"\n",
        "var_2 = 254\n",
        "var_3 = 25.43\n",
        "var_4 = [\"Anna\", \"Bella\", \"Cora\"]\n",
        "var_5 = {'Course': 'ML', 'Grade': 'A'} # key: value\n",
        "\n",
        "# You can access List elements with their index\n",
        "# and access Dict elements with their key\n",
        "print('Student:', var_4[0], 'got', var_5['Grade'])\n",
        "\n",
        "# When in doubt you can always check data types\n",
        "print('Variables data types')\n",
        "print('var_1', type(var_1))\n",
        "print('var_2', type(var_2))\n",
        "print('var_3', type(var_3))\n",
        "print('var_4', type(var_4))\n",
        "print('var_5', type(var_5))"
      ]
    },
    {
      "cell_type": "markdown",
      "metadata": {
        "pycharm": {
          "name": "#%% md\n"
        },
        "id": "zFxKX9Ex_rok"
      },
      "source": [
        "Using list and tuple:"
      ]
    },
    {
      "cell_type": "code",
      "execution_count": null,
      "metadata": {
        "id": "1cOZbKjB_rok"
      },
      "outputs": [],
      "source": [
        "x = [1, 2, 3]  # creating a list\n",
        "y = x  # assigning a reference\n",
        "y[0] += 1\n",
        "# The change is in both x and y because both point to the same object\n",
        "print(x, y)"
      ]
    },
    {
      "cell_type": "code",
      "execution_count": null,
      "metadata": {
        "id": "8msnfOK0_rok"
      },
      "outputs": [],
      "source": [
        "x = (1, 2, 3)  # creating a tuple\n",
        "y = x\n",
        "# y[0] += 1 gives error because it's immutable\n",
        "y += (4, 5)  # a new tuple is generated to\n",
        "print(x, y)"
      ]
    },
    {
      "cell_type": "code",
      "execution_count": null,
      "metadata": {
        "jupyter": {
          "outputs_hidden": false
        },
        "pycharm": {
          "name": "#%%\n"
        },
        "id": "BzARsGZ7_rok"
      },
      "outputs": [],
      "source": [
        "x = [1, 2, 3, 4, 5, 6, 7, 8, 9, 10]\n",
        "print('x size:', len(x))\n",
        "print('The second element in x:', x[1])\n",
        "print('The last element in x:', x[-1])\n",
        "print('The first 3 elements in x:', x[:3])  # also x[0: 3] works"
      ]
    },
    {
      "cell_type": "markdown",
      "metadata": {
        "pycharm": {
          "name": "#%% md\n"
        },
        "id": "rZkP12Uk_rok"
      },
      "source": [
        "## Exercise 1:\n",
        "Print the last 3 elements of x"
      ]
    },
    {
      "cell_type": "code",
      "execution_count": null,
      "metadata": {
        "jupyter": {
          "outputs_hidden": false
        },
        "pycharm": {
          "name": "#%%\n"
        },
        "id": "vvYInlh9_rok"
      },
      "outputs": [],
      "source": [
        "# Your code is here"
      ]
    },
    {
      "cell_type": "code",
      "source": [
        "# Assert statement\n",
        "assert last_three == [8, 9, 10]"
      ],
      "metadata": {
        "id": "dV55blcWaSTm"
      },
      "execution_count": null,
      "outputs": []
    },
    {
      "cell_type": "markdown",
      "source": [
        "# Operators"
      ],
      "metadata": {
        "id": "CG5kdmKDO6Nj"
      }
    },
    {
      "cell_type": "markdown",
      "metadata": {
        "pycharm": {
          "name": "#%% md\n"
        },
        "id": "NAx1cUF6_rol"
      },
      "source": [
        "Operators are used to perform operations on variables and values.\n",
        "\n",
        "In the example below, for example we use the + operator to add together two values\n"
      ]
    },
    {
      "cell_type": "markdown",
      "source": [
        "the most common operations are:\n",
        "\n",
        "| Operator | Description                                               | Syntax        |\n",
        "| -------- | --------------------------------------------------------- | ------------- |\n",
        "| //       | Division (floor): divides the first operand by the second | x // y          |\n",
        "| **       | Power: Returns first raised to power second               | x ** y          |\n",
        "| is       | True if the operands are identical                        | x is y          |\n",
        "| is not   | True if the operands are not identical                    | x is not y          |\n",
        "| in       | True if value is found in the sequence                    | x in y          |\n",
        "| not in   | True if value is not found in the sequence                | x not in y          |\n",
        "| Ternary  | testing a condition in a single line                      | x if a else y |"
      ],
      "metadata": {
        "id": "ran6t_IuPmLy"
      }
    },
    {
      "cell_type": "markdown",
      "source": [
        "**Example:**\n",
        "\n",
        "- //\tDivision (floor): divides and floor the output:"
      ],
      "metadata": {
        "id": "CR_bqs1oPv8p"
      }
    },
    {
      "cell_type": "code",
      "execution_count": null,
      "metadata": {
        "id": "dMOAx5Wj_rol"
      },
      "outputs": [],
      "source": [
        "\n",
        "a = 10\n",
        "b = 3\n",
        "div = a / b\n",
        "div_floor = a // b\n",
        "\n",
        "print(div, div_floor)"
      ]
    },
    {
      "cell_type": "code",
      "execution_count": null,
      "metadata": {
        "id": "qYVDf_0J_rol"
      },
      "outputs": [],
      "source": [
        "# negative division could be counter intuitive\n",
        "print (5//2)\n",
        "print (-5//2) # floor(-2.333) gives the integer smaller -> -3\n"
      ]
    },
    {
      "cell_type": "markdown",
      "source": [
        "**Example:**\n",
        "\n",
        "- Power"
      ],
      "metadata": {
        "id": "rpwIjPc_QbGk"
      }
    },
    {
      "cell_type": "code",
      "execution_count": null,
      "metadata": {
        "jupyter": {
          "outputs_hidden": false
        },
        "pycharm": {
          "name": "#%%\n"
        },
        "id": "c-V2AEah_rol"
      },
      "outputs": [],
      "source": [
        "pwr = a ** b\n",
        "print(pwr)"
      ]
    },
    {
      "cell_type": "markdown",
      "source": [
        "**Example:**\n",
        "\n",
        "- is, is not"
      ],
      "metadata": {
        "id": "eMi1NHPQQoCw"
      }
    },
    {
      "cell_type": "code",
      "execution_count": null,
      "metadata": {
        "jupyter": {
          "outputs_hidden": false
        },
        "pycharm": {
          "name": "#%%\n"
        },
        "id": "U5swgX3J_rol"
      },
      "outputs": [],
      "source": [
        "\n",
        "c = a\n",
        "print(a is not b)\n",
        "print(a is c)"
      ]
    },
    {
      "cell_type": "markdown",
      "source": [
        "**Example:**\n",
        "\n",
        "- in, not in"
      ],
      "metadata": {
        "id": "Hv0LDr1zQtdA"
      }
    },
    {
      "cell_type": "code",
      "execution_count": null,
      "metadata": {
        "jupyter": {
          "outputs_hidden": false
        },
        "pycharm": {
          "name": "#%%\n"
        },
        "id": "J71bsb6U_rol"
      },
      "outputs": [],
      "source": [
        "\n",
        "x, y = 24, 20\n",
        "l = [10, 20, 30, 40, 50]\n",
        "\n",
        "print(x not in l)\n",
        "print(y in l)\n"
      ]
    },
    {
      "cell_type": "markdown",
      "source": [
        "**Example:**\n",
        "\n",
        "- Ternary operator"
      ],
      "metadata": {
        "id": "SUU2-zPMQzp-"
      }
    },
    {
      "cell_type": "code",
      "execution_count": null,
      "metadata": {
        "jupyter": {
          "outputs_hidden": false
        },
        "pycharm": {
          "name": "#%%\n"
        },
        "id": "TATEDU9x_rol"
      },
      "outputs": [],
      "source": [
        "\n",
        "if a < b:\n",
        "    print(a)\n",
        "else:\n",
        "    print(b)\n",
        "\n",
        "# [on_true] if [expression] else [on_false]\n",
        "minimum = a if a < b else b\n",
        "print(minimum)"
      ]
    },
    {
      "cell_type": "markdown",
      "metadata": {
        "pycharm": {
          "name": "#%% md\n"
        },
        "id": "V6F_q6Kx_rol"
      },
      "source": [
        "# Python Loops\n",
        "Python has two primitive loop commands:\n",
        "\n",
        "\n",
        "`while loops`\n",
        "\n",
        "`for loops`"
      ]
    },
    {
      "cell_type": "markdown",
      "source": [
        "##The while Loop\n",
        "With the `while` loop we can execute a set of statements as long as a condition is true."
      ],
      "metadata": {
        "id": "uAIe9-yRRgAr"
      }
    },
    {
      "cell_type": "markdown",
      "source": [
        "**Example:**"
      ],
      "metadata": {
        "id": "Ozl0ESjtRnL9"
      }
    },
    {
      "cell_type": "code",
      "execution_count": null,
      "metadata": {
        "jupyter": {
          "outputs_hidden": false
        },
        "pycharm": {
          "name": "#%%\n"
        },
        "id": "jN8TBraR_rom"
      },
      "outputs": [],
      "source": [
        "# While loop\n",
        "count = 0\n",
        "while count < 3:\n",
        "    count = count + 1\n",
        "    print(\"count = \", count)"
      ]
    },
    {
      "cell_type": "code",
      "execution_count": null,
      "metadata": {
        "jupyter": {
          "outputs_hidden": false
        },
        "pycharm": {
          "name": "#%%\n"
        },
        "id": "WZMBxGx0_rom"
      },
      "outputs": [],
      "source": [
        "# Combining else with while to execute something after the loop\n",
        "count = 0\n",
        "while count < 3:\n",
        "    count = count + 1\n",
        "    print(\"count = \", count)\n",
        "else:\n",
        "    print(\"In the else. count = \", count)"
      ]
    },
    {
      "cell_type": "markdown",
      "metadata": {
        "pycharm": {
          "name": "#%% md\n"
        },
        "id": "29NdjPbB_rom"
      },
      "source": [
        "[`range()`](https://docs.python.org/3/library/functions.html#func-range) is\n",
        "a built-in generator function that is used to generate numbers in a given range.\n",
        "\n",
        "It takes up to 3 parameter `start`, `stop`, `step`.\n",
        "If not given,`start` defaults to `0`, and `step` to `1`.\n",
        "\n",
        "Examples:\n",
        "- `range(0, 10, 1)` -> `[0, 1, 2, ..., 9]`. note that `stop` isn't included.\n",
        "- `range(0, 10, 2)` -> `[0, 2, 4, 6, 8]`. even numbers.\n",
        "- `range(0, 10)` -> Only `start` and `stop`. same as `range(0, 10, 1)`.\n",
        "- `range(10)` -> Only `stop`. same as `range(0, 10, 1)`.\n",
        "- `range(10, 0, -1)` -> `[10, 9, 8, ..., 1]`."
      ]
    },
    {
      "cell_type": "code",
      "execution_count": null,
      "metadata": {
        "jupyter": {
          "outputs_hidden": false
        },
        "pycharm": {
          "name": "#%%\n"
        },
        "id": "Z98Nanws_rom"
      },
      "outputs": [],
      "source": [
        "# range for loop\n",
        "my_list = [10, 20, 30, 40]\n",
        "print('looping over list elements by index using \"rang()\"')\n",
        "for i in range(0, len(my_list)):\n",
        "    print(my_list[i])\n",
        "\n",
        "print('looping over list elements using \"in\"')\n",
        "for element in my_list:\n",
        "    print(element)"
      ]
    },
    {
      "cell_type": "code",
      "execution_count": null,
      "metadata": {
        "jupyter": {
          "outputs_hidden": false
        },
        "pycharm": {
          "name": "#%%\n"
        },
        "id": "juqjC2Qv_rom"
      },
      "outputs": [],
      "source": [
        "my_list = [10, 20, 30, 40, 50, 60, 70, 80]\n",
        "print('looping over list elements by index using \"rang()\"')\n",
        "for i in range(0, len(my_list)):\n",
        "    if i == 5:  # break the loop after 5 iterations\n",
        "        break\n",
        "    elif i%2 == 1:  # skipping odd indices\n",
        "        continue\n",
        "    print(my_list[i])"
      ]
    },
    {
      "cell_type": "markdown",
      "metadata": {
        "id": "bi2_olWJ_rom"
      },
      "source": [
        "## Exercise 2:\n",
        "Make a list that have all the integers from 0 to 99 that is divisible by 4 but\n",
        "not divisible by 6.\n",
        "\n",
        "Hint: `my_list.append(a)` add `a` to the end of the `my_list`."
      ]
    },
    {
      "cell_type": "code",
      "execution_count": null,
      "metadata": {
        "jupyter": {
          "outputs_hidden": false
        },
        "pycharm": {
          "name": "#%%\n"
        },
        "id": "2jOV3SXC_rom"
      },
      "outputs": [],
      "source": [
        "# Your code is here\n"
      ]
    },
    {
      "cell_type": "code",
      "source": [
        "# Assert statement\n",
        "assert divisible_by_4_not_6 == [4, 8, 16, 20, 28, 32, 40, 44, 52, 56, 64, 68, 76, 80, 88, 92]"
      ],
      "metadata": {
        "id": "og_YTdlEaluX"
      },
      "execution_count": null,
      "outputs": []
    },
    {
      "cell_type": "markdown",
      "metadata": {
        "pycharm": {
          "name": "#%% md\n"
        },
        "id": "ZIATP0Jq_rom"
      },
      "source": [
        "# Functions"
      ]
    },
    {
      "cell_type": "markdown",
      "source": [
        "A function is a block of code which only runs when it is called.\n",
        "\n",
        "You can pass data, known as parameters, into a function.\n",
        "\n",
        "A function can return data as a result."
      ],
      "metadata": {
        "id": "35lqvM3fSI7k"
      }
    },
    {
      "cell_type": "markdown",
      "source": [
        "**Example:**\n",
        "\n",
        "In Python a function is defined using the `def` keyword:"
      ],
      "metadata": {
        "id": "k5zCPyvpSMfz"
      }
    },
    {
      "cell_type": "code",
      "execution_count": null,
      "metadata": {
        "jupyter": {
          "outputs_hidden": false
        },
        "pycharm": {
          "name": "#%%\n"
        },
        "id": "xSJwU0Q2_rom"
      },
      "outputs": [],
      "source": [
        "def my_function_name():\n",
        "    print('Hi from a function')\n",
        "\n",
        "my_function_name()\n",
        "my_function_name()"
      ]
    },
    {
      "cell_type": "code",
      "execution_count": null,
      "metadata": {
        "jupyter": {
          "outputs_hidden": false
        },
        "pycharm": {
          "name": "#%%\n"
        },
        "id": "T2usEFe6_rom"
      },
      "outputs": [],
      "source": [
        "def double(x):\n",
        "    return x * 2\n",
        "\n",
        "print(double(3))"
      ]
    },
    {
      "cell_type": "markdown",
      "source": [
        "# Classes"
      ],
      "metadata": {
        "id": "8ulL1EyhSzY9"
      }
    },
    {
      "cell_type": "markdown",
      "metadata": {
        "pycharm": {
          "name": "#%% md\n"
        },
        "id": "yRjmraZF_rom"
      },
      "source": [
        "Python Classes/Objects\n",
        "Python is an object oriented programming language.\n",
        "\n",
        "Almost everything in Python is an object, with its properties and methods.\n",
        "\n",
        "A Class is like an object constructor, or a \"blueprint\" for creating objects."
      ]
    },
    {
      "cell_type": "markdown",
      "source": [
        "**Example:**\n",
        "\n",
        "To create a class, use the keyword `class`:"
      ],
      "metadata": {
        "id": "h6I7bO3-S_uS"
      }
    },
    {
      "cell_type": "code",
      "execution_count": null,
      "metadata": {
        "jupyter": {
          "outputs_hidden": false
        },
        "pycharm": {
          "name": "#%%\n"
        },
        "id": "dBZmAA3V_rom"
      },
      "outputs": [],
      "source": [
        "class Dog:\n",
        "\n",
        "    # A simple class\n",
        "    # attribute\n",
        "    attr1 = \"mammal\"\n",
        "    attr2 = \"dog\"\n",
        "\n",
        "    # A sample method\n",
        "    def fun(self):\n",
        "        print(\"I'm a\", self.attr1)\n",
        "        print(\"I'm a\", self.attr2)\n",
        "\n",
        "# Object instantiation\n",
        "Rodger = Dog()\n",
        "\n",
        "# Accessing class attributes\n",
        "# and method through objects\n",
        "print(Rodger.attr1)\n",
        "Rodger.fun()"
      ]
    },
    {
      "cell_type": "markdown",
      "metadata": {
        "pycharm": {
          "name": "#%% md\n"
        },
        "id": "m7ojojvq_ron"
      },
      "source": [
        "---\n",
        "# Install external modules\n",
        "Python community offers a huge variety of modules to eliminate the need for\n",
        "writing codes from scratch.\n",
        "[pip](https://pypi.org/project/pip/) is a package installer for Python. You\n",
        "can use pip to install packages from the Python Package Index and other indexes.\n",
        "\n",
        "To install a package you can run this command in your terminal:\n",
        "- Unix/macOS: `python3 -m pip install <package name>` or `pip3 install <package name>`\n",
        "- Windows: `py -m pip install <package name>` or `pip install <package name>`\n",
        "\n",
        "[Further reading](https://pip.pypa.io/en/stable/cli/pip_install/)\n",
        "on pip usage and how to write and install requirements files.\n",
        "\n",
        "You can also run terminal command from your jupyter notebook using\n",
        "[magic commands](https://ipython.readthedocs.io/en/stable/interactive/magics.html)\n",
        "\n",
        "To do so, you put `!` before your command so that jupyter understand executing\n",
        "it in the terminal."
      ]
    },
    {
      "cell_type": "code",
      "execution_count": null,
      "metadata": {
        "jupyter": {
          "outputs_hidden": false
        },
        "pycharm": {
          "name": "#%%\n"
        },
        "id": "Z0StXBXr_ron"
      },
      "outputs": [],
      "source": [
        "# https://ipython.readthedocs.io/en/stable/interactive/magics.html#magic-sx\n",
        "!pip install numpy"
      ]
    },
    {
      "cell_type": "markdown",
      "metadata": {
        "collapsed": false,
        "jupyter": {
          "outputs_hidden": false
        },
        "pycharm": {
          "name": "#%% md\n"
        },
        "id": "FFcH62wP_ron"
      },
      "source": [
        "---\n",
        "# Numpy\n",
        "While python is a powerful, it is very slow compared to C/C++ since it's and\n",
        "interpreted language with dynamic typing. Numpy is python library that is\n",
        "implemented in C/C++. giving us the ease of development of python with the\n",
        "performance of C. depending on the operation numpy could be up to 100x faster.\n",
        "Moreover, it has various functions to perform linear algebra and array operations.\n",
        "\n",
        "[Reference](https://numpy.org/doc/stable/user/absolute_beginners.html)"
      ]
    },
    {
      "cell_type": "code",
      "metadata": {
        "pycharm": {
          "name": "#%%\n"
        },
        "id": "obi9ELuK_ron"
      },
      "source": [
        "import numpy as np"
      ],
      "execution_count": null,
      "outputs": []
    },
    {
      "cell_type": "code",
      "execution_count": null,
      "metadata": {
        "jupyter": {
          "outputs_hidden": false
        },
        "pycharm": {
          "name": "#%%\n"
        },
        "id": "h4xp6QNr_ron"
      },
      "outputs": [],
      "source": [
        "my_np_list = np.random.randint(low=-100, high=100, size=20)\n",
        "print(my_np_list)"
      ]
    },
    {
      "cell_type": "markdown",
      "metadata": {
        "id": "s_CfmaZu_ron"
      },
      "source": [
        "Here is some of the most common used function"
      ]
    },
    {
      "cell_type": "code",
      "execution_count": null,
      "metadata": {
        "jupyter": {
          "outputs_hidden": false
        },
        "pycharm": {
          "name": "#%%\n"
        },
        "id": "yJj9Svuo_ron"
      },
      "outputs": [],
      "source": [
        "print('shape:', my_np_list.shape)\n",
        "print('sum:', my_np_list.sum())\n",
        "print('min:', my_np_list.min())\n",
        "print('max:', my_np_list.max())\n",
        "print('abs:', np.abs(my_np_list))\n",
        "my_np_list.sort()\n",
        "print('after .sort():', my_np_list)\n",
        "print('doubling the array', my_np_list * 2) # broadcasting"
      ]
    },
    {
      "cell_type": "markdown",
      "metadata": {
        "collapsed": false,
        "jupyter": {
          "outputs_hidden": false
        },
        "pycharm": {
          "name": "#%% md\n"
        },
        "id": "nsXKXEDu_ron"
      },
      "source": [
        "## Exercise 3:\n",
        "Print the mean, variance and standard deviation of `my_np_list`"
      ]
    },
    {
      "cell_type": "code",
      "execution_count": null,
      "metadata": {
        "jupyter": {
          "outputs_hidden": false
        },
        "pycharm": {
          "name": "#%%\n"
        },
        "id": "HKAguowD_ron"
      },
      "outputs": [],
      "source": [
        "# your code is here\n"
      ]
    },
    {
      "cell_type": "code",
      "source": [
        "# Assert statements\n",
        "assert mean == 5.5\n",
        "assert variance == 8.25\n",
        "assert std_dev == np.sqrt(8.25)"
      ],
      "metadata": {
        "id": "nzZK9DVda4cS"
      },
      "execution_count": null,
      "outputs": []
    },
    {
      "cell_type": "code",
      "metadata": {
        "pycharm": {
          "name": "#%%\n"
        },
        "id": "-mVQs740_ron"
      },
      "source": [
        "# 2D arrays\n",
        "x = np.array(\n",
        "    [\n",
        "        [1, 2, 3, 4],\n",
        "        [5, 6, 7, 8],\n",
        "        [9, 10, 11, 12],\n",
        "    ],\n",
        "    np.int32,\n",
        ")\n",
        "print(x)\n",
        "print(f'{x.shape = }')\n",
        "print('accessing element:', x[1, 2])\n",
        "print('slice of an array:', x[0:2, 2:3])\n",
        "print('row:', x[0, :])\n",
        "print('column:', x[:, 0])"
      ],
      "execution_count": null,
      "outputs": []
    },
    {
      "cell_type": "code",
      "execution_count": null,
      "metadata": {
        "jupyter": {
          "outputs_hidden": false
        },
        "pycharm": {
          "name": "#%%\n"
        },
        "id": "hpZCX14W_roy"
      },
      "outputs": [],
      "source": [
        "# speed\n",
        "from time import time\n",
        "\n",
        "st = time()\n",
        "my_list = [1] * 10000000\n",
        "sum(my_list)\n",
        "list_time = time()-st\n",
        "\n",
        "st = time()\n",
        "my_np_list = np.ones(10000000)\n",
        "my_np_list.sum()\n",
        "np_time = time()-st\n",
        "\n",
        "print('numpy is', list_time/np_time, ' times faster than list')"
      ]
    },
    {
      "cell_type": "markdown",
      "metadata": {
        "collapsed": false,
        "jupyter": {
          "outputs_hidden": false
        },
        "pycharm": {
          "name": "#%% md\n"
        },
        "id": "eKq7Etqe_roy"
      },
      "source": [
        "##  Exercise 4:\n",
        "Install the following packages: `matplotlib`, `pandas`, `seaborn` and `sklearn`"
      ]
    },
    {
      "cell_type": "code",
      "execution_count": null,
      "metadata": {
        "jupyter": {
          "outputs_hidden": false
        },
        "pycharm": {
          "name": "#%%\n"
        },
        "id": "q_toqdEa_roy"
      },
      "outputs": [],
      "source": [
        "# your code is here\n"
      ]
    },
    {
      "cell_type": "code",
      "source": [
        "import sys  # Import the sys module\n",
        "\n",
        "assert 'matplotlib' in sys.modules\n",
        "assert 'pandas' in sys.modules\n",
        "assert 'seaborn' in sys.modules\n",
        "assert 'sklearn' in sys.modules"
      ],
      "metadata": {
        "id": "XSbyMeWSbM_o"
      },
      "execution_count": null,
      "outputs": []
    },
    {
      "cell_type": "markdown",
      "metadata": {
        "id": "96sdpY8g_roy"
      },
      "source": [
        "---\n",
        "# Matplotlib\n",
        "Matplotlib is a comprehensive library for creating static, animated, and\n",
        "interactive visualizations in Python.\n",
        "\n",
        "[Reference](https://matplotlib.org/stable/tutorials/introductory/pyplot.html#sphx-glr-tutorials-introductory-pyplot-py)"
      ]
    },
    {
      "cell_type": "markdown",
      "source": [
        "**Example:**"
      ],
      "metadata": {
        "id": "z1ml4GmOT9KT"
      }
    },
    {
      "cell_type": "code",
      "execution_count": null,
      "metadata": {
        "jupyter": {
          "outputs_hidden": false
        },
        "pycharm": {
          "name": "#%%\n"
        },
        "id": "5aQYM4bZ_roy"
      },
      "outputs": [],
      "source": [
        "import matplotlib.pyplot as plt\n",
        "%matplotlib inline # to plot in side the notebook"
      ]
    },
    {
      "cell_type": "code",
      "execution_count": null,
      "metadata": {
        "jupyter": {
          "outputs_hidden": false
        },
        "pycharm": {
          "name": "#%%\n"
        },
        "id": "92B5fMVi_roz"
      },
      "outputs": [],
      "source": [
        "# Line plot\n",
        "t = np.arange(0.0, 2.0, 0.01)\n",
        "s = 1 + np.sin(2 * np.pi * t)\n",
        "\n",
        "fig, ax = plt.subplots()\n",
        "ax.plot(t, s)\n",
        "\n",
        "ax.set(xlabel='Hours studied (s)', ylabel='voltage (mV)',\n",
        "       title='Change in volt over time')\n",
        "ax.grid()\n",
        "plt.show() # Show the plot"
      ]
    },
    {
      "cell_type": "code",
      "execution_count": null,
      "metadata": {
        "jupyter": {
          "outputs_hidden": false
        },
        "pycharm": {
          "name": "#%%\n"
        },
        "id": "U1q_ybRR_roz"
      },
      "outputs": [],
      "source": [
        "# different plots for categorical data\n",
        "names = ['group_a', 'group_b', 'group_c']\n",
        "values = [1, 10, 100]\n",
        "\n",
        "plt.figure(figsize=(9, 5))\n",
        "\n",
        "plt.subplot(131)  # To creat 1 by 3 grid and plot in the 1st subplot\n",
        "plt.bar(names, values)\n",
        "plt.subplot(132)  # plot in the 2nd subplot\n",
        "plt.scatter(names, values)\n",
        "plt.subplot(133)  # plot in the 3nd subplot\n",
        "plt.plot(names, values)\n",
        "plt.suptitle('Categorical Plotting')\n",
        "plt.show()"
      ]
    },
    {
      "cell_type": "markdown",
      "metadata": {
        "collapsed": false,
        "jupyter": {
          "outputs_hidden": false
        },
        "pycharm": {
          "name": "#%% md\n"
        },
        "id": "4snRL8UD_roz"
      },
      "source": [
        "---\n",
        "# Pandas\n",
        "[Pandas](https://pandas.pydata.org/docs/) is a fast, powerful, flexible and\n",
        "easy to use open source data analysis and manipulation tool.\n"
      ]
    },
    {
      "cell_type": "markdown",
      "source": [
        "**Example:**"
      ],
      "metadata": {
        "id": "pBKCKZIEUEtu"
      }
    },
    {
      "cell_type": "code",
      "execution_count": null,
      "metadata": {
        "jupyter": {
          "outputs_hidden": false
        },
        "pycharm": {
          "name": "#%%\n"
        },
        "id": "J7ZFrbsu_roz"
      },
      "outputs": [],
      "source": [
        "import pandas as pd\n"
      ]
    },
    {
      "cell_type": "code",
      "execution_count": null,
      "metadata": {
        "jupyter": {
          "outputs_hidden": false
        },
        "pycharm": {
          "name": "#%%\n"
        },
        "id": "vwI-aB6Q_roz"
      },
      "outputs": [],
      "source": [
        "df = pd.read_csv('petrol_consumption.csv')\n",
        "df.info()"
      ]
    },
    {
      "cell_type": "code",
      "execution_count": null,
      "metadata": {
        "jupyter": {
          "outputs_hidden": false
        },
        "pycharm": {
          "name": "#%%\n"
        },
        "id": "tNa4Opab_roz"
      },
      "outputs": [],
      "source": [
        "df.head(5)"
      ]
    },
    {
      "cell_type": "code",
      "execution_count": null,
      "metadata": {
        "jupyter": {
          "outputs_hidden": false
        },
        "pycharm": {
          "name": "#%%\n"
        },
        "id": "J5n8xa-l_roz"
      },
      "outputs": [],
      "source": [
        "df.describe()\n"
      ]
    },
    {
      "cell_type": "code",
      "execution_count": null,
      "metadata": {
        "jupyter": {
          "outputs_hidden": false
        },
        "pycharm": {
          "name": "#%%\n"
        },
        "id": "9fy9I2y2_roz"
      },
      "outputs": [],
      "source": [
        "# access a columns\n",
        "print(df['Petrol_tax'].head())\n",
        "print(df[['Average_income', 'Paved_Highways']].head())"
      ]
    },
    {
      "cell_type": "code",
      "metadata": {
        "pycharm": {
          "name": "#%%\n"
        },
        "id": "Zc1rcJb7_roz"
      },
      "source": [
        "# access a rows\n",
        "df.iloc[[1, 2, 4]]"
      ],
      "execution_count": null,
      "outputs": []
    },
    {
      "cell_type": "code",
      "execution_count": null,
      "metadata": {
        "jupyter": {
          "outputs_hidden": false
        },
        "pycharm": {
          "name": "#%%\n"
        },
        "id": "_pXq11_E_roz"
      },
      "outputs": [],
      "source": [
        "# dropping a column\n",
        "new_df = df.drop(['Average_income', 'Paved_Highways'], axis=1)\n",
        "new_df.head()"
      ]
    },
    {
      "cell_type": "code",
      "metadata": {
        "pycharm": {
          "name": "#%%\n"
        },
        "id": "bs5ODOGb_roz"
      },
      "source": [
        "# Drop a row by index\n",
        "new_df = df.drop([0, 1])\n",
        "new_df.head()"
      ],
      "execution_count": null,
      "outputs": []
    },
    {
      "cell_type": "code",
      "execution_count": null,
      "metadata": {
        "jupyter": {
          "outputs_hidden": false
        },
        "pycharm": {
          "name": "#%%\n"
        },
        "id": "bMD76CRh_roz"
      },
      "outputs": [],
      "source": [
        "# pandas support many operations similar to numpy\n",
        "print('Sum of columns\\n', df.sum(), '\\n')\n",
        "print('Sum of all the data frame\\n', df.sum().sum(), '\\n')\n",
        "print('Mean of columns\\n', df.mean(), '\\n')\n",
        "print('Converting dataframe to numpy array\\n', type(df.to_numpy()))"
      ]
    },
    {
      "cell_type": "markdown",
      "metadata": {
        "pycharm": {
          "name": "#%% md\n"
        },
        "id": "9BTQHMS-_roz"
      },
      "source": [
        "---\n",
        "#Seaborn\n",
        "Seaborn is a Python data visualization library based on matplotlib. It provides\n",
        "a high-level interface for drawing attractive and informative statistical graphics.\n",
        "Usually used with pandas.\n",
        "\n",
        "[Reference](https://seaborn.pydata.org/examples/index.html)\n"
      ]
    },
    {
      "cell_type": "markdown",
      "source": [
        "**Example:**"
      ],
      "metadata": {
        "id": "-Bd7wUFZUI3l"
      }
    },
    {
      "cell_type": "code",
      "execution_count": null,
      "metadata": {
        "jupyter": {
          "outputs_hidden": false
        },
        "pycharm": {
          "name": "#%%\n"
        },
        "id": "fK67Ui_f_roz"
      },
      "outputs": [],
      "source": [
        "import seaborn as sns\n",
        "\n",
        "df = sns.load_dataset('tips')\n",
        "\n",
        "graph = sns.FacetGrid(df, col =\"sex\",  hue =\"day\")\n",
        "graph.map(plt.scatter, \"total_bill\", \"tip\", edgecolor =\"w\").add_legend()\n",
        "\n",
        "plt.show()"
      ]
    },
    {
      "cell_type": "markdown",
      "metadata": {
        "pycharm": {
          "name": "#%% md\n"
        },
        "id": "EIfIbsSE_ro0"
      },
      "source": [
        "---\n",
        "# SKLearn\n",
        "\n",
        "[SKLearn](https://scikit-learn.org/stable/modules/classes.html) is a simple\n",
        "and efficient tools for predictive data analysis.\n",
        "We will use it for classification, regression and clustering algorithms.\n",
        "\n",
        "Usually datasets have two parts, data(or features) and targets(or labels).\n",
        "We train our machine learning model to predict the target of a sample given\n",
        "its features."
      ]
    },
    {
      "cell_type": "markdown",
      "source": [
        "**Example:**"
      ],
      "metadata": {
        "id": "UNbh8v_kUSQf"
      }
    },
    {
      "cell_type": "code",
      "execution_count": null,
      "outputs": [],
      "source": [
        "# sklearn has some datasets inside it to learn and test on them\n",
        "from sklearn import datasets\n",
        "iris = datasets.load_iris()\n",
        "print(f'Dataset shape: {iris.data.shape = }, {iris.target.shape = }')\n",
        "print(f'Example of a sample: features: {iris.data[0]}, classification: {iris.target[0]}')"
      ],
      "metadata": {
        "pycharm": {
          "name": "#%%\n"
        },
        "id": "TFkNPRtb_ro0"
      }
    },
    {
      "cell_type": "markdown",
      "source": [
        "SKLearn gives a simple API to build models. Mainly it consists of two steps:\n",
        "- Model creation: where we choose the model and set its parameters\n",
        "- Fitting the data: Where we give our model the training data to learn from\n",
        "- Prediction: where we can predict the label of a sample\n",
        "\n",
        "`svm` is a prediction model(we will study how it works later in the course).\n",
        "\n",
        "Here is an example on how to use an SKLearn model:"
      ],
      "metadata": {
        "collapsed": false,
        "id": "KgKBY_Bf_ro0"
      }
    },
    {
      "cell_type": "code",
      "execution_count": null,
      "outputs": [],
      "source": [
        "from sklearn import svm\n",
        "# setting the parameters needed by the algorithm\n",
        "clf = svm.SVC(gamma=0.001, C=100.)\n",
        "# Training on all the data except the last one\n",
        "clf.fit(iris.data[:-1], iris.target[:-1])\n",
        "# predicting the last sample\n",
        "print('Our prediction', clf.predict(iris.data[-1:]), 'True value:', iris.target[-1:])"
      ],
      "metadata": {
        "pycharm": {
          "name": "#%%\n"
        },
        "id": "XgpTSCLz_ro0"
      }
    },
    {
      "cell_type": "markdown",
      "source": [
        "---\n",
        "# Self-Practice\n",
        "Using the ires dataset used in the lab, plot each feature and the target data\n",
        "using matplotlib.\n",
        "Write your observation on the relationship between the target and each feature.\n",
        "What do you think is the most important features? Why?"
      ],
      "metadata": {
        "collapsed": false,
        "id": "4jfdShYp_ro0"
      }
    },
    {
      "cell_type": "markdown",
      "source": [
        "#Conclusion:"
      ],
      "metadata": {
        "id": "dZy0nV8RXgt1"
      }
    },
    {
      "cell_type": "markdown",
      "source": [
        "\n",
        "In this lesson, we covered the basics of Python, including variables, data types, lists, loops, and functions. These fundamentals are essential for understanding more advanced topics in Python and machine learning."
      ],
      "metadata": {
        "id": "GvKnUpChXe78"
      }
    }
  ],
  "metadata": {
    "kernelspec": {
      "display_name": "Python 3",
      "language": "python",
      "name": "python3"
    },
    "language_info": {
      "codemirror_mode": {
        "name": "ipython",
        "version": 3
      },
      "file_extension": ".py",
      "mimetype": "text/x-python",
      "name": "python",
      "nbconvert_exporter": "python",
      "pygments_lexer": "ipython3",
      "version": "3.8.3"
    },
    "colab": {
      "provenance": [],
      "collapsed_sections": [
        "pIPE39QD_rog",
        "Qr8ZD3x5_roi",
        "CG5kdmKDO6Nj",
        "uAIe9-yRRgAr"
      ],
      "toc_visible": true
    }
  },
  "nbformat": 4,
  "nbformat_minor": 0
}