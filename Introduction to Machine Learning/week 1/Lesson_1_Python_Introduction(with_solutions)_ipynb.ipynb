{
  "nbformat": 4,
  "nbformat_minor": 0,
  "metadata": {
    "colab": {
      "provenance": [],
      "toc_visible": true
    },
    "kernelspec": {
      "name": "python3",
      "display_name": "Python 3"
    },
    "language_info": {
      "name": "python"
    }
  },
  "cells": [
    {
      "cell_type": "markdown",
      "source": [
        "#Exercise 1 : Print the Last 3 Elements of x\n",
        "\n"
      ],
      "metadata": {
        "id": "kYh8B3VAaERC"
      }
    },
    {
      "cell_type": "code",
      "execution_count": 1,
      "metadata": {
        "colab": {
          "base_uri": "https://localhost:8080/"
        },
        "id": "S93EXZSaYuYx",
        "outputId": "721e7e20-1188-4003-e492-3df43ef57d83"
      },
      "outputs": [
        {
          "output_type": "stream",
          "name": "stdout",
          "text": [
            "[8, 9, 10]\n"
          ]
        }
      ],
      "source": [
        "# Assuming x is a predefined list\n",
        "x = [1, 2, 3, 4, 5, 6, 7, 8, 9, 10]\n",
        "last_three = x[-3:]\n",
        "print(last_three)\n"
      ]
    },
    {
      "cell_type": "code",
      "source": [
        "# Assert statement\n",
        "assert last_three == [8, 9, 10]"
      ],
      "metadata": {
        "id": "dV55blcWaSTm"
      },
      "execution_count": 2,
      "outputs": []
    },
    {
      "cell_type": "code",
      "source": [],
      "metadata": {
        "id": "IMlSNJY8aTWU"
      },
      "execution_count": null,
      "outputs": []
    },
    {
      "cell_type": "markdown",
      "source": [
        "#Exercise 2: Make a List of Integers from 0 to 99 Divisible by 4 but not Divisible by 6\n",
        "\n"
      ],
      "metadata": {
        "id": "9kP0uUdkagZw"
      }
    },
    {
      "cell_type": "code",
      "source": [
        "divisible_by_4_not_6 = [i for i in range(100) if i % 4 == 0 and i % 6 != 0]\n",
        "print(divisible_by_4_not_6)\n"
      ],
      "metadata": {
        "colab": {
          "base_uri": "https://localhost:8080/"
        },
        "id": "0MlFAbsoaj3G",
        "outputId": "b06c8e2c-2001-4591-ae48-ed8db1706f0d"
      },
      "execution_count": 3,
      "outputs": [
        {
          "output_type": "stream",
          "name": "stdout",
          "text": [
            "[4, 8, 16, 20, 28, 32, 40, 44, 52, 56, 64, 68, 76, 80, 88, 92]\n"
          ]
        }
      ]
    },
    {
      "cell_type": "code",
      "source": [
        "# Assert statement\n",
        "assert divisible_by_4_not_6 == [4, 8, 16, 20, 28, 32, 40, 44, 52, 56, 64, 68, 76, 80, 88, 92]"
      ],
      "metadata": {
        "id": "og_YTdlEaluX"
      },
      "execution_count": 4,
      "outputs": []
    },
    {
      "cell_type": "code",
      "source": [],
      "metadata": {
        "id": "fMeMdAH9apB9"
      },
      "execution_count": null,
      "outputs": []
    },
    {
      "cell_type": "markdown",
      "source": [
        "#Exercise 3: Print the Mean, Variance, and Standard Deviation of my_np_list\n",
        "\n",
        "\n"
      ],
      "metadata": {
        "id": "Avy8HfZiazDU"
      }
    },
    {
      "cell_type": "code",
      "source": [
        "import numpy as np\n",
        "\n",
        "my_np_list = np.array([1, 2, 3, 4, 5, 6, 7, 8, 9, 10])\n",
        "mean = np.mean(my_np_list)\n",
        "variance = np.var(my_np_list)\n",
        "std_dev = np.std(my_np_list)\n",
        "print(\"Mean:\", mean)\n",
        "print(\"Variance:\", variance)\n",
        "print(\"Standard Deviation:\", std_dev)\n"
      ],
      "metadata": {
        "colab": {
          "base_uri": "https://localhost:8080/"
        },
        "id": "v3k7cwMfa3GE",
        "outputId": "bd4c7806-5ad8-4be2-ac9d-b68f427327c6"
      },
      "execution_count": 6,
      "outputs": [
        {
          "output_type": "stream",
          "name": "stdout",
          "text": [
            "Mean: 5.5\n",
            "Variance: 8.25\n",
            "Standard Deviation: 2.8722813232690143\n"
          ]
        }
      ]
    },
    {
      "cell_type": "code",
      "source": [
        "# Assert statements\n",
        "assert mean == 5.5\n",
        "assert variance == 8.25\n",
        "assert std_dev == np.sqrt(8.25)"
      ],
      "metadata": {
        "id": "nzZK9DVda4cS"
      },
      "execution_count": 7,
      "outputs": []
    },
    {
      "cell_type": "code",
      "source": [],
      "metadata": {
        "id": "PMWWKdOQa-H0"
      },
      "execution_count": null,
      "outputs": []
    },
    {
      "cell_type": "markdown",
      "source": [
        "#Exercise 4: Install the Following Packages: matplotlib, pandas, seaborn, and sklearn"
      ],
      "metadata": {
        "id": "RGRhdzTNbJNL"
      }
    },
    {
      "cell_type": "code",
      "source": [
        "# This cell is intended for Google Colab environment\n",
        "!pip install matplotlib pandas seaborn scikit-learn\n",
        "\n",
        "# Assert statements to check installation (these are examples and might vary based on the actual notebook environment)\n",
        "import matplotlib\n",
        "import pandas\n",
        "import seaborn\n",
        "import sklearn\n",
        "\n",
        "# If imports are successful, it implies installation was successful\n",
        "print(\"All packages installed successfully.\")\n"
      ],
      "metadata": {
        "colab": {
          "base_uri": "https://localhost:8080/"
        },
        "id": "BEfdfVoubPpS",
        "outputId": "9e20987f-87dd-4355-95fa-f7869b5cbf02"
      },
      "execution_count": 8,
      "outputs": [
        {
          "output_type": "stream",
          "name": "stdout",
          "text": [
            "Requirement already satisfied: matplotlib in /usr/local/lib/python3.10/dist-packages (3.7.1)\n",
            "Requirement already satisfied: pandas in /usr/local/lib/python3.10/dist-packages (2.0.3)\n",
            "Requirement already satisfied: seaborn in /usr/local/lib/python3.10/dist-packages (0.13.1)\n",
            "Requirement already satisfied: scikit-learn in /usr/local/lib/python3.10/dist-packages (1.2.2)\n",
            "Requirement already satisfied: contourpy>=1.0.1 in /usr/local/lib/python3.10/dist-packages (from matplotlib) (1.2.1)\n",
            "Requirement already satisfied: cycler>=0.10 in /usr/local/lib/python3.10/dist-packages (from matplotlib) (0.12.1)\n",
            "Requirement already satisfied: fonttools>=4.22.0 in /usr/local/lib/python3.10/dist-packages (from matplotlib) (4.53.0)\n",
            "Requirement already satisfied: kiwisolver>=1.0.1 in /usr/local/lib/python3.10/dist-packages (from matplotlib) (1.4.5)\n",
            "Requirement already satisfied: numpy>=1.20 in /usr/local/lib/python3.10/dist-packages (from matplotlib) (1.25.2)\n",
            "Requirement already satisfied: packaging>=20.0 in /usr/local/lib/python3.10/dist-packages (from matplotlib) (24.1)\n",
            "Requirement already satisfied: pillow>=6.2.0 in /usr/local/lib/python3.10/dist-packages (from matplotlib) (9.4.0)\n",
            "Requirement already satisfied: pyparsing>=2.3.1 in /usr/local/lib/python3.10/dist-packages (from matplotlib) (3.1.2)\n",
            "Requirement already satisfied: python-dateutil>=2.7 in /usr/local/lib/python3.10/dist-packages (from matplotlib) (2.8.2)\n",
            "Requirement already satisfied: pytz>=2020.1 in /usr/local/lib/python3.10/dist-packages (from pandas) (2023.4)\n",
            "Requirement already satisfied: tzdata>=2022.1 in /usr/local/lib/python3.10/dist-packages (from pandas) (2024.1)\n",
            "Requirement already satisfied: scipy>=1.3.2 in /usr/local/lib/python3.10/dist-packages (from scikit-learn) (1.11.4)\n",
            "Requirement already satisfied: joblib>=1.1.1 in /usr/local/lib/python3.10/dist-packages (from scikit-learn) (1.4.2)\n",
            "Requirement already satisfied: threadpoolctl>=2.0.0 in /usr/local/lib/python3.10/dist-packages (from scikit-learn) (3.5.0)\n",
            "Requirement already satisfied: six>=1.5 in /usr/local/lib/python3.10/dist-packages (from python-dateutil>=2.7->matplotlib) (1.16.0)\n",
            "All packages installed successfully.\n"
          ]
        }
      ]
    },
    {
      "cell_type": "code",
      "source": [
        "import sys  # Import the sys module\n",
        "\n",
        "assert 'matplotlib' in sys.modules\n",
        "assert 'pandas' in sys.modules\n",
        "assert 'seaborn' in sys.modules\n",
        "assert 'sklearn' in sys.modules"
      ],
      "metadata": {
        "id": "XSbyMeWSbM_o"
      },
      "execution_count": 10,
      "outputs": []
    },
    {
      "cell_type": "code",
      "source": [],
      "metadata": {
        "id": "of3IEKqwbT8u"
      },
      "execution_count": null,
      "outputs": []
    }
  ]
}