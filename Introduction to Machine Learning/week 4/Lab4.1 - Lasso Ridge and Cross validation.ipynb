{
 "cells": [
  {
   "cell_type": "markdown",
   "id": "1a40efc0",
   "metadata": {},
   "source": [
    "# Introduction to Machine Learning\n",
    "## Lesson 4 Lasso, Ridge and Cross Validation\n",
    "\n",
    "## Introduction\n",
    "\n",
    "\n",
    "The task of our first lesson is to understand how work Lasso, Ridgee and Cross Validation. This includes going through the theory and following a set of instructions to complete the code.\n"
   ]
  },
  {
   "cell_type": "markdown",
   "id": "cf8b6dd0",
   "metadata": {},
   "source": [
    "## Task\n",
    "\n",
    "In this lab work we will learn and try to understand cross validation, lasso and ridge. A simplified version of the cab dataset will be used as the dataset\n",
    "\n",
    "### About Taxi Dataset\n",
    "Taxi trip records include id, vendor_id, passenger_count, store_and_fwd_flag, distance_km, log_trip_duration.\n",
    "The dataset is often used for testing algorithms for classification and pattern recognition due to its simplicity and well-defined structure.\n",
    "\n",
    "### Performing the Classification\n",
    "To do so you will need:\n",
    "- Obtain data from competition\n",
    "- Create a Jupyter notebook which will produce a file for submission\n",
    "- Submit it to the competition"
   ]
  },
  {
   "cell_type": "code",
   "execution_count": 3,
   "id": "8b06506bc02d1d3b",
   "metadata": {
    "ExecuteTime": {
     "end_time": "2024-06-20T09:03:19.662409Z",
     "start_time": "2024-06-20T09:03:19.650050Z"
    },
    "collapsed": false
   },
   "outputs": [],
   "source": [
    "### Questions"
   ]
  },
  {
   "cell_type": "markdown",
   "id": "c386d896",
   "metadata": {},
   "source": [
    "*Choose the correct statements about Lasso and Ridge*: \n",
    "\n",
    "1. Ridge-regularization is more likely to zero out model weights than Lasso.\n",
    "2. Lasso regularization is more likely to zero out model weights than Ridge.\n",
    "3. Ridge and Lasso regularization are designed to deal with the situation of undertraining. \n",
    "4. The essence of Lasso regularization is to add to the minimized functional the sum of the modules of the trained coefficients.\n",
    "5. The essence of Lasso regularization is to add to the minimized functional the sum of squares of the trained coefficients.\n",
    "\n",
    "_______________________________________________________"
   ]
  },
  {
   "cell_type": "markdown",
   "id": "2f243fe2",
   "metadata": {},
   "source": [
    "*Choose the correct statements about Multicollinearity: \n",
    "\n",
    "1. Multicollinearity ensures that we get an overfitted model.\n",
    "2. Multicollinearity occurs when there is a strong linear dependence in the object-attribute matrix.\n",
    "3. If there are linearly dependent features in the object-attribute matrix, then we cannot apply the matrix formula for finding the optimal regression coefficients with a 50% probability.\n",
    "4. If linearly dependent features are present in the object-sign matrix, then the minimized functional has not one single but 2-3 points of minimum.\n",
    "5. If the object-sign matrix contains linearly dependent features, then the minimized functional has an infinite number of minima.\n",
    "6. Multicollinearity can be cured by removing dependent features or using regularization.\n",
    "\n",
    "_______________________________________________________"
   ]
  },
  {
   "cell_type": "markdown",
   "id": "18f9f0c1",
   "metadata": {},
   "source": [
    "## Importing required Libraries\n",
    "\n",
    "First we need to import necessary libraries:\n",
    "\n",
    "[Pandas](https://pandas.pydata.org/) - For data analysis and manipulation\n",
    "\n",
    "[Numpy](https://numpy.org/) - To deal with matrices\n",
    "\n",
    "Then drop unused fields."
   ]
  },
  {
   "cell_type": "code",
   "execution_count": null,
   "id": "1c2b72ac",
   "metadata": {
    "ExecuteTime": {
     "end_time": "2024-06-20T09:43:31.925807Z",
     "start_time": "2024-06-20T09:43:30.946447Z"
    }
   },
   "outputs": [],
   "source": [
    "import numpy as np\n",
    "import pandas as pd"
   ]
  },
  {
   "cell_type": "markdown",
   "id": "a0dab154",
   "metadata": {},
   "source": [
    "## Preparaing Data\n",
    "Preparing data for machine learning involves several steps such as data collection, cleaning the data from noise and outliers, transforming the data into a suitable format, normalizing or standardizing values, and creating and selecting features (feature engineering) to improve the quality of the model. This process is important to ensure the accuracy and reliability of machine learning models because data quality directly affects their performance.\n",
    "\n"
   ]
  },
  {
   "cell_type": "code",
   "execution_count": null,
   "id": "98e1d22d",
   "metadata": {
    "ExecuteTime": {
     "end_time": "2024-06-20T09:43:25.958241Z",
     "start_time": "2024-06-20T09:43:25.569353Z"
    }
   },
   "outputs": [],
   "source": [
    "\n",
    "processed_data = pd.read_csv('processed_data.csv', index_col='id')\n",
    "processed_data = processed_data.assign(log_trip_duration=np.log1p(processed_data['trip_duration']))\n",
    "processed_data = processed_data.drop('trip_duration', axis=1)\n",
    "\n",
    "processed_data.head()"
   ]
  },
  {
   "cell_type": "markdown",
   "id": "15675832",
   "metadata": {},
   "source": [
    "#### Exercise 1\n",
    "The task is to measure the quality of Linear Regression after processing the data on Cross-Validation on 4 folds\n",
    "\n",
    "use LinearRegression and cross_validate from sklearn"
   ]
  },
  {
   "cell_type": "code",
   "execution_count": 14,
   "id": "4bd08313",
   "metadata": {
    "ExecuteTime": {
     "end_time": "2024-06-20T09:44:06.145111Z",
     "start_time": "2024-06-20T09:44:05.458381Z"
    }
   },
   "outputs": [],
   "source": [
    "from sklearn.model_selection import KFold\n",
    "\n",
    "selector = KFold(n_splits=4, shuffle=True, random_state=33)\n",
    "\n",
    "from sklearn.model_selection import cross_validate\n",
    "from sklearn.linear_model import LinearRegression\n",
    "\n",
    "### Your code is here\n"
   ]
  },
  {
   "cell_type": "markdown",
   "id": "a1335581",
   "metadata": {},
   "source": [
    "#### Exercise 2\n",
    "\n",
    "In linear algebra the concept of **rank of a matrix** is often used. It corresponds to the number of linearly independent columns in the matrix. In other words, it allows us to estimate whether there is an excess of information in our dataframe. If the rank of the matrix is less than the number of used columns, some fixtures should be removed, because otherwise a situation of strict multicollinearity occurs.\n",
    "\n",
    "To measure the rank in our matrixes, we can use the function numpy.linalg.matrix_rank\n",
    "\n",
    "The constant feature can be neglected in this exercise.\n",
    "\n",
    "You should output it in console through function of python **print**"
   ]
  },
  {
   "cell_type": "code",
   "execution_count": 4,
   "id": "1f833257",
   "metadata": {
    "ExecuteTime": {
     "end_time": "2024-06-20T09:07:44.582205Z",
     "start_time": "2024-06-20T09:07:44.576669Z"
    }
   },
   "outputs": [],
   "source": [
    "### Your code is here"
   ]
  },
  {
   "cell_type": "markdown",
   "id": "a0ef9af5",
   "metadata": {},
   "source": [
    "#### Exercise 3\n",
    "Doesn't it seem to us that because of the new 4 features there is a problem of multicollinearity? How to make it so that, on the one hand, we get adequate quality, and on the other hand not to remove new features?\n",
    "\n",
    "Regularization will help us here\n",
    "\n",
    "Find such a regularization parameter $\\lambda$ for the Ridge and Lasso case that the RMSLE error on cross-validation is strictly less than 0.4\n",
    "\n",
    "**ALARM**: use a data mass-scaling procedure (use the MinMaxScaler method) before applying the regularization. Important - to preserve the concept of independence of training on the traine and on the test, at each iteration of cross-validation it is necessary to measure the standardization parameters exclusively on the traine and then apply them on the validation fold."
   ]
  },
  {
   "cell_type": "code",
   "execution_count": 40,
   "id": "7dd92bb0",
   "metadata": {
    "ExecuteTime": {
     "end_time": "2024-06-20T07:30:43.422512Z",
     "start_time": "2024-06-20T07:30:43.399801Z"
    }
   },
   "outputs": [],
   "source": [
    "from sklearn.preprocessing import MinMaxScaler\n",
    "\n",
    "from sklearn.pipeline import Pipeline\n",
    "\n",
    "from sklearn.linear_model import Lasso, Ridge\n",
    "\n",
    "from sklearn.model_selection import GridSearchCV"
   ]
  },
  {
   "cell_type": "code",
   "execution_count": 5,
   "id": "95eb24b3",
   "metadata": {
    "ExecuteTime": {
     "end_time": "2024-06-20T09:21:24.588008Z",
     "start_time": "2024-06-20T09:21:24.575720Z"
    }
   },
   "outputs": [],
   "source": [
    "### Your code is here"
   ]
  },
  {
   "cell_type": "markdown",
   "id": "dbab0cbc6e33a5de",
   "metadata": {
    "collapsed": false
   },
   "source": [
    "Find the best model on Cross-Validation. Use **best_estimator_** from **cv_lasso**"
   ]
  },
  {
   "cell_type": "code",
   "execution_count": 7,
   "id": "01a984ff",
   "metadata": {
    "ExecuteTime": {
     "end_time": "2024-06-20T09:37:09.169428Z",
     "start_time": "2024-06-20T09:37:09.155817Z"
    }
   },
   "outputs": [],
   "source": [
    "### Your code is here"
   ]
  },
  {
   "cell_type": "markdown",
   "id": "5c2c4e54c9ef2650",
   "metadata": {
    "collapsed": false
   },
   "source": [
    "List of different scorers for all models\n",
    "The ones listed above. Use **cv_results_**"
   ]
  },
  {
   "cell_type": "code",
   "execution_count": 8,
   "id": "08a4398b",
   "metadata": {
    "ExecuteTime": {
     "end_time": "2024-06-20T09:38:13.577771Z",
     "start_time": "2024-06-20T09:38:13.575534Z"
    }
   },
   "outputs": [],
   "source": [
    "### Your code is here"
   ]
  },
  {
   "cell_type": "markdown",
   "id": "d7bfd0866660602a",
   "metadata": {
    "collapsed": false
   },
   "source": [
    "#### Exercise 4\n",
    "In this assignment, adjust the hyperparameters of the Ridge regression model using cross-validation. Create a payplane with MinMaxScaler and Ridge, define a grid of alpha values, use GridSearchCV with negative RMS error and cross validation. Then apply fit to X and Y data to find the optimal hyperparameters."
   ]
  },
  {
   "cell_type": "code",
   "execution_count": 9,
   "id": "7beb1534",
   "metadata": {
    "ExecuteTime": {
     "end_time": "2024-06-20T09:40:18.806074Z",
     "start_time": "2024-06-20T09:40:18.795875Z"
    }
   },
   "outputs": [],
   "source": [
    "### Your code is here"
   ]
  },
  {
   "cell_type": "markdown",
   "id": "d476f7057fbd590d",
   "metadata": {
    "collapsed": false
   },
   "source": [
    " Find the optimal hyperparameters of the Ridge regression model using cross-validation. Use **best_estimator_** from **cv_ridge**"
   ]
  },
  {
   "cell_type": "code",
   "execution_count": 10,
   "id": "3bba94b5",
   "metadata": {
    "ExecuteTime": {
     "end_time": "2024-06-20T09:41:34.676400Z",
     "start_time": "2024-06-20T09:41:34.664729Z"
    }
   },
   "outputs": [],
   "source": [
    "### Your code is here"
   ]
  },
  {
   "cell_type": "markdown",
   "id": "daa1874e91808c52",
   "metadata": {
    "collapsed": false
   },
   "source": [
    "Output the mean values of the test data scores for each combination of parameters. Use **cv_results_** like in previous exercise 3"
   ]
  },
  {
   "cell_type": "code",
   "execution_count": 11,
   "id": "a3fa606e",
   "metadata": {
    "ExecuteTime": {
     "end_time": "2024-06-20T09:43:20.375288Z",
     "start_time": "2024-06-20T09:43:20.361375Z"
    }
   },
   "outputs": [],
   "source": [
    "### Your code is here"
   ]
  }
 ],
 "metadata": {
  "kernelspec": {
   "display_name": "Python 3 (ipykernel)",
   "language": "python",
   "name": "python3"
  },
  "language_info": {
   "codemirror_mode": {
    "name": "ipython",
    "version": 3
   },
   "file_extension": ".py",
   "mimetype": "text/x-python",
   "name": "python",
   "nbconvert_exporter": "python",
   "pygments_lexer": "ipython3",
   "version": "3.7.9"
  }
 },
 "nbformat": 4,
 "nbformat_minor": 5
}
