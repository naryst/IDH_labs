{
 "cells": [
  {
   "cell_type": "markdown",
   "id": "7b9c58eb",
   "metadata": {},
   "source": [
    "# Introduction to Machine Learning\n",
    "## Lesson 4 Lasso, Ridge and Cross Validation\n",
    "\n",
    "## Introduction\n",
    "\n",
    "\n",
    "The task of our first lesson is to understand how work Lasso, Ridgee and Cross Validation. This includes going through the theory and following a set of instructions to complete the code.\n"
   ]
  },
  {
   "cell_type": "markdown",
   "id": "299e7c0f",
   "metadata": {},
   "source": [
    "## Task\n",
    "\n",
    "In this lab work we will learn and try to understand cross validation, lasso and ridge. A simplified version of the cab dataset will be used as the dataset\n",
    "\n",
    "### About Taxi Dataset\n",
    "Taxi trip records include id, vendor_id, passenger_count, store_and_fwd_flag, distance_km, log_trip_duration.\n",
    "The dataset is often used for testing algorithms for classification and pattern recognition due to its simplicity and well-defined structure.\n",
    "\n",
    "### Performing the Classification\n",
    "To do so you will need:\n",
    "- Obtain data from competition\n",
    "- Create a Jupyter notebook which will produce a file for submission\n",
    "- Submit it to the competition"
   ]
  },
  {
   "cell_type": "markdown",
   "id": "1a40efc0",
   "metadata": {},
   "source": [
    "### Questions with answers"
   ]
  },
  {
   "cell_type": "markdown",
   "id": "c386d896",
   "metadata": {},
   "source": [
    "*Choose the correct statements about Lasso and Ridge*: \n",
    "\n",
    "1. Ridge-regularization is more likely to zero out model weights than Lasso.\n",
    "2. Lasso regularization is more likely to zero out model weights than Ridge.\n",
    "3. Ridge and Lasso regularization are designed to deal with the situation of undertraining. \n",
    "4. The essence of Lasso regularization is to add to the minimized functional the sum of the modules of the trained coefficients.\n",
    "5. The essence of Lasso regularization is to add to the minimized functional the sum of squares of the trained coefficients.\n",
    "\n",
    "\n",
    "\n",
    "**Answer: 2, 4)** Both types of regularization, as it was shown in the lecture, can be reduced to the search of a conditional extremum on some compact set. In the case of Ridge regularization, this set turns out to be convex (for example, in two-dimensional space it is a circle), exactly like the minimized functional. Then the chance that the level line and the boundary of the set from the constraint will touch somewhere on the axis is rather small. In the case of Lasso, the situation is the opposite (see Visual explanation in the lecture). \n",
    "_______________________________________________________"
   ]
  },
  {
   "cell_type": "markdown",
   "id": "2f243fe2",
   "metadata": {},
   "source": [
    "*Choose the correct statements about Multicollinearity: \n",
    "\n",
    "1. Multicollinearity ensures that we get an overfitted model.\n",
    "2. Multicollinearity occurs when there is a strong linear dependence in the object-attribute matrix.\n",
    "3. If there are linearly dependent features in the object-attribute matrix, then we cannot apply the matrix formula for finding the optimal regression coefficients with a 50% probability.\n",
    "4. If linearly dependent features are present in the object-sign matrix, then the minimized functional has not one single but 2-3 points of minimum.\n",
    "5. If the object-sign matrix contains linearly dependent features, then the minimized functional has an infinite number of minima.\n",
    "6. Multicollinearity can be cured by removing dependent features or using regularization.\n",
    "\n",
    "\n",
    "\n",
    "\n",
    "**Answer: 2, 5, 6)** it is important to realize that this reasoning applies to the problem of linear regression just like in the lecture back. For other models, multicollinearity may, generally speaking, not lead to any problems.\n",
    "_______________________________________________________"
   ]
  },
  {
   "cell_type": "markdown",
   "id": "5dae0a99",
   "metadata": {},
   "source": [
    "## Importing required Libraries\n",
    "\n",
    "First we need to import necessary libraries:\n",
    "\n",
    "[Pandas](https://pandas.pydata.org/) - For data analysis and manipulation\n",
    "\n",
    "[Numpy](https://numpy.org/) - To deal with matrices\n",
    "\n",
    "Then drop unused fields."
   ]
  },
  {
   "cell_type": "code",
   "execution_count": 2,
   "id": "1c2b72ac",
   "metadata": {
    "ExecuteTime": {
     "end_time": "2024-07-01T04:51:30.885102Z",
     "start_time": "2024-07-01T04:51:29.728010Z"
    }
   },
   "outputs": [],
   "source": [
    "import numpy as np\n",
    "import pandas as pd"
   ]
  },
  {
   "cell_type": "markdown",
   "id": "6693b91e",
   "metadata": {},
   "source": [
    "## Preparaing Data\n",
    "Preparing data for machine learning involves several steps such as data collection, cleaning the data from noise and outliers, transforming the data into a suitable format, normalizing or standardizing values, and creating and selecting features (feature engineering) to improve the quality of the model. This process is important to ensure the accuracy and reliability of machine learning models because data quality directly affects their performance."
   ]
  },
  {
   "cell_type": "code",
   "execution_count": 3,
   "id": "98e1d22d",
   "metadata": {
    "ExecuteTime": {
     "end_time": "2024-07-01T04:51:33.391641Z",
     "start_time": "2024-07-01T04:51:33.371460Z"
    }
   },
   "outputs": [
    {
     "data": {
      "text/html": [
       "<div>\n",
       "<style scoped>\n",
       "    .dataframe tbody tr th:only-of-type {\n",
       "        vertical-align: middle;\n",
       "    }\n",
       "\n",
       "    .dataframe tbody tr th {\n",
       "        vertical-align: top;\n",
       "    }\n",
       "\n",
       "    .dataframe thead th {\n",
       "        text-align: right;\n",
       "    }\n",
       "</style>\n",
       "<table border=\"1\" class=\"dataframe\">\n",
       "  <thead>\n",
       "    <tr style=\"text-align: right;\">\n",
       "      <th></th>\n",
       "      <th>vendor_id</th>\n",
       "      <th>passenger_count</th>\n",
       "      <th>store_and_fwd_flag</th>\n",
       "      <th>distance_km</th>\n",
       "      <th>log_trip_duration</th>\n",
       "    </tr>\n",
       "    <tr>\n",
       "      <th>id</th>\n",
       "      <th></th>\n",
       "      <th></th>\n",
       "      <th></th>\n",
       "      <th></th>\n",
       "      <th></th>\n",
       "    </tr>\n",
       "  </thead>\n",
       "  <tbody>\n",
       "    <tr>\n",
       "      <th>id2875421</th>\n",
       "      <td>1</td>\n",
       "      <td>930.399753</td>\n",
       "      <td>0</td>\n",
       "      <td>1.500479</td>\n",
       "      <td>6.122493</td>\n",
       "    </tr>\n",
       "    <tr>\n",
       "      <th>id2377394</th>\n",
       "      <td>0</td>\n",
       "      <td>930.399753</td>\n",
       "      <td>0</td>\n",
       "      <td>1.807119</td>\n",
       "      <td>6.498282</td>\n",
       "    </tr>\n",
       "    <tr>\n",
       "      <th>id3858529</th>\n",
       "      <td>1</td>\n",
       "      <td>930.399753</td>\n",
       "      <td>0</td>\n",
       "      <td>6.392080</td>\n",
       "      <td>7.661527</td>\n",
       "    </tr>\n",
       "    <tr>\n",
       "      <th>id3504673</th>\n",
       "      <td>1</td>\n",
       "      <td>930.399753</td>\n",
       "      <td>0</td>\n",
       "      <td>1.487155</td>\n",
       "      <td>6.063785</td>\n",
       "    </tr>\n",
       "    <tr>\n",
       "      <th>id2181028</th>\n",
       "      <td>1</td>\n",
       "      <td>930.399753</td>\n",
       "      <td>0</td>\n",
       "      <td>1.189925</td>\n",
       "      <td>6.077642</td>\n",
       "    </tr>\n",
       "  </tbody>\n",
       "</table>\n",
       "</div>"
      ],
      "text/plain": [
       "           vendor_id  passenger_count  store_and_fwd_flag  distance_km  \\\n",
       "id                                                                       \n",
       "id2875421          1       930.399753                   0     1.500479   \n",
       "id2377394          0       930.399753                   0     1.807119   \n",
       "id3858529          1       930.399753                   0     6.392080   \n",
       "id3504673          1       930.399753                   0     1.487155   \n",
       "id2181028          1       930.399753                   0     1.189925   \n",
       "\n",
       "           log_trip_duration  \n",
       "id                            \n",
       "id2875421           6.122493  \n",
       "id2377394           6.498282  \n",
       "id3858529           7.661527  \n",
       "id3504673           6.063785  \n",
       "id2181028           6.077642  "
      ]
     },
     "execution_count": 3,
     "metadata": {},
     "output_type": "execute_result"
    }
   ],
   "source": [
    "processed_data = pd.read_csv('processed_data.csv', index_col='id')\n",
    "processed_data = processed_data.assign(log_trip_duration=np.log1p(processed_data['trip_duration']))\n",
    "processed_data = processed_data.drop('trip_duration', axis=1)\n",
    "processed_data.head()"
   ]
  },
  {
   "cell_type": "markdown",
   "id": "451de9e2",
   "metadata": {},
   "source": [
    "#### Exercise 1\n",
    "The task is to measure the quality of Linear Regression after processing the data on Cross-Validation on 4 folds\n",
    "\n",
    "use LinearRegression and cross_validate from sklearn"
   ]
  },
  {
   "cell_type": "code",
   "execution_count": 49,
   "id": "4bd08313",
   "metadata": {
    "ExecuteTime": {
     "end_time": "2024-06-20T09:46:30.829245Z",
     "start_time": "2024-06-20T09:46:29.578207Z"
    }
   },
   "outputs": [
    {
     "name": "stdout",
     "output_type": "stream",
     "text": [
      "RMSLE with Cross Validation: 0.425\n"
     ]
    }
   ],
   "source": [
    "from sklearn.model_selection import KFold\n",
    "\n",
    "selector = KFold(n_splits=4, shuffle=True, random_state=33)\n",
    "\n",
    "from sklearn.model_selection import cross_validate\n",
    "from sklearn.linear_model import LinearRegression\n",
    "\n",
    "model = LinearRegression()\n",
    "\n",
    "X = processed_data.drop('log_trip_duration', axis=1)\n",
    "Y = processed_data['log_trip_duration']\n",
    "\n",
    "cv_result_1 = cross_validate(model, X, Y, \n",
    "                             scoring='neg_mean_squared_error',\n",
    "                             cv=selector, return_train_score=True)\n",
    "\n",
    "cross_val_error = -np.mean(cv_result_1['test_score'])\n",
    "\n",
    "print(f\"RMSLE with Cross Validation: {round(cross_val_error, 3)}\")"
   ]
  },
  {
   "cell_type": "markdown",
   "id": "16cc0745",
   "metadata": {},
   "source": [
    "### Task 2"
   ]
  },
  {
   "cell_type": "markdown",
   "id": "a1335581",
   "metadata": {},
   "source": [
    "#### Exercise 2\n",
    "\n",
    "In linear algebra the concept of **rank of a matrix** is often used. It corresponds to the number of linearly independent columns in the matrix. In other words, it allows us to estimate whether there is an excess of information in our dataframe. If the rank of the matrix is less than the number of used columns, some fixtures should be removed, because otherwise a situation of strict multicollinearity occurs.\n",
    "\n",
    "To measure the rank in our matrixes, we can use the function numpy.linalg.matrix_rank\n",
    "\n",
    "The constant feature can be neglected in this exercise.\n",
    "\n",
    "You should output it in console through function of python **print**"
   ]
  },
  {
   "cell_type": "code",
   "execution_count": 50,
   "id": "1f833257",
   "metadata": {
    "ExecuteTime": {
     "end_time": "2024-06-20T09:47:51.698772Z",
     "start_time": "2024-06-20T09:47:51.578197Z"
    }
   },
   "outputs": [
    {
     "name": "stdout",
     "output_type": "stream",
     "text": [
      "Total features: 4, - rank equal 4\n"
     ]
    }
   ],
   "source": [
    "print(f\"Total features: {X.shape[1]}, - rank equal {np.linalg.matrix_rank(X)}\")"
   ]
  },
  {
   "cell_type": "markdown",
   "id": "a0ef9af5",
   "metadata": {},
   "source": [
    "#### Exercise 3\n",
    "Doesn't it seem to us that because of the new 4 features there is a problem of multicollinearity? How to make it so that, on the one hand, we get adequate quality, and on the other hand not to remove new features?\n",
    "\n",
    "Regularization will help us here\n",
    "\n",
    "Find such a regularization parameter $\\lambda$ for the Ridge and Lasso case that the RMSLE error on cross-validation is strictly less than 0.4\n",
    "\n",
    "**ALARM**: use a data mass-scaling procedure (use the MinMaxScaler method) before applying the regularization. Important - to preserve the concept of independence of training on the traine and on the test, at each iteration of cross-validation it is necessary to measure the standardization parameters exclusively on the traine and then apply them on the validation fold."
   ]
  },
  {
   "cell_type": "code",
   "execution_count": 51,
   "id": "7dd92bb0",
   "metadata": {
    "ExecuteTime": {
     "end_time": "2024-06-20T09:48:48.207621Z",
     "start_time": "2024-06-20T09:48:48.201397Z"
    }
   },
   "outputs": [],
   "source": [
    "from sklearn.preprocessing import MinMaxScaler\n",
    "\n",
    "from sklearn.pipeline import Pipeline\n",
    "\n",
    "from sklearn.linear_model import Lasso, Ridge\n",
    "\n",
    "from sklearn.model_selection import GridSearchCV"
   ]
  },
  {
   "cell_type": "code",
   "execution_count": 52,
   "id": "95eb24b3",
   "metadata": {
    "ExecuteTime": {
     "end_time": "2024-06-20T09:49:30.112272Z",
     "start_time": "2024-06-20T09:48:48.822988Z"
    }
   },
   "outputs": [
    {
     "data": {
      "text/html": [
       "<style>#sk-container-id-5 {color: black;}#sk-container-id-5 pre{padding: 0;}#sk-container-id-5 div.sk-toggleable {background-color: white;}#sk-container-id-5 label.sk-toggleable__label {cursor: pointer;display: block;width: 100%;margin-bottom: 0;padding: 0.3em;box-sizing: border-box;text-align: center;}#sk-container-id-5 label.sk-toggleable__label-arrow:before {content: \"▸\";float: left;margin-right: 0.25em;color: #696969;}#sk-container-id-5 label.sk-toggleable__label-arrow:hover:before {color: black;}#sk-container-id-5 div.sk-estimator:hover label.sk-toggleable__label-arrow:before {color: black;}#sk-container-id-5 div.sk-toggleable__content {max-height: 0;max-width: 0;overflow: hidden;text-align: left;background-color: #f0f8ff;}#sk-container-id-5 div.sk-toggleable__content pre {margin: 0.2em;color: black;border-radius: 0.25em;background-color: #f0f8ff;}#sk-container-id-5 input.sk-toggleable__control:checked~div.sk-toggleable__content {max-height: 200px;max-width: 100%;overflow: auto;}#sk-container-id-5 input.sk-toggleable__control:checked~label.sk-toggleable__label-arrow:before {content: \"▾\";}#sk-container-id-5 div.sk-estimator input.sk-toggleable__control:checked~label.sk-toggleable__label {background-color: #d4ebff;}#sk-container-id-5 div.sk-label input.sk-toggleable__control:checked~label.sk-toggleable__label {background-color: #d4ebff;}#sk-container-id-5 input.sk-hidden--visually {border: 0;clip: rect(1px 1px 1px 1px);clip: rect(1px, 1px, 1px, 1px);height: 1px;margin: -1px;overflow: hidden;padding: 0;position: absolute;width: 1px;}#sk-container-id-5 div.sk-estimator {font-family: monospace;background-color: #f0f8ff;border: 1px dotted black;border-radius: 0.25em;box-sizing: border-box;margin-bottom: 0.5em;}#sk-container-id-5 div.sk-estimator:hover {background-color: #d4ebff;}#sk-container-id-5 div.sk-parallel-item::after {content: \"\";width: 100%;border-bottom: 1px solid gray;flex-grow: 1;}#sk-container-id-5 div.sk-label:hover label.sk-toggleable__label {background-color: #d4ebff;}#sk-container-id-5 div.sk-serial::before {content: \"\";position: absolute;border-left: 1px solid gray;box-sizing: border-box;top: 0;bottom: 0;left: 50%;z-index: 0;}#sk-container-id-5 div.sk-serial {display: flex;flex-direction: column;align-items: center;background-color: white;padding-right: 0.2em;padding-left: 0.2em;position: relative;}#sk-container-id-5 div.sk-item {position: relative;z-index: 1;}#sk-container-id-5 div.sk-parallel {display: flex;align-items: stretch;justify-content: center;background-color: white;position: relative;}#sk-container-id-5 div.sk-item::before, #sk-container-id-5 div.sk-parallel-item::before {content: \"\";position: absolute;border-left: 1px solid gray;box-sizing: border-box;top: 0;bottom: 0;left: 50%;z-index: -1;}#sk-container-id-5 div.sk-parallel-item {display: flex;flex-direction: column;z-index: 1;position: relative;background-color: white;}#sk-container-id-5 div.sk-parallel-item:first-child::after {align-self: flex-end;width: 50%;}#sk-container-id-5 div.sk-parallel-item:last-child::after {align-self: flex-start;width: 50%;}#sk-container-id-5 div.sk-parallel-item:only-child::after {width: 0;}#sk-container-id-5 div.sk-dashed-wrapped {border: 1px dashed gray;margin: 0 0.4em 0.5em 0.4em;box-sizing: border-box;padding-bottom: 0.4em;background-color: white;}#sk-container-id-5 div.sk-label label {font-family: monospace;font-weight: bold;display: inline-block;line-height: 1.2em;}#sk-container-id-5 div.sk-label-container {text-align: center;}#sk-container-id-5 div.sk-container {/* jupyter's `normalize.less` sets `[hidden] { display: none; }` but bootstrap.min.css set `[hidden] { display: none !important; }` so we also need the `!important` here to be able to override the default hidden behavior on the sphinx rendered scikit-learn.org. See: https://github.com/scikit-learn/scikit-learn/issues/21755 */display: inline-block !important;position: relative;}#sk-container-id-5 div.sk-text-repr-fallback {display: none;}</style><div id=\"sk-container-id-5\" class=\"sk-top-container\"><div class=\"sk-text-repr-fallback\"><pre>GridSearchCV(cv=KFold(n_splits=4, random_state=33, shuffle=True),\n",
       "             estimator=Pipeline(steps=[(&#x27;scaler&#x27;, MinMaxScaler()),\n",
       "                                       (&#x27;lasso&#x27;, Lasso(max_iter=100000))]),\n",
       "             param_grid={&#x27;lasso__alpha&#x27;: array([1.00000000e-05, 1.31034483e-05, 1.62068966e-05, 1.93103448e-05,\n",
       "       2.24137931e-05, 2.55172414e-05, 2.86206897e-05, 3.17241379e-05,\n",
       "       3.48275862e-05, 3.79310345e-05, 4.10344828e-05, 4.41379310e-05,\n",
       "       4.72413793e-05, 5.03448276e-05, 5.34482759e-05, 5.65517241e-05,\n",
       "       5.96551724e-05, 6.27586207e-05, 6.58620690e-05, 6.89655172e-05,\n",
       "       7.20689655e-05, 7.51724138e-05, 7.82758621e-05, 8.13793103e-05,\n",
       "       8.44827586e-05, 8.75862069e-05, 9.06896552e-05, 9.37931034e-05,\n",
       "       9.68965517e-05, 1.00000000e-04])},\n",
       "             return_train_score=True, scoring=&#x27;neg_mean_squared_error&#x27;)</pre><b>In a Jupyter environment, please rerun this cell to show the HTML representation or trust the notebook. <br />On GitHub, the HTML representation is unable to render, please try loading this page with nbviewer.org.</b></div><div class=\"sk-container\" hidden><div class=\"sk-item sk-dashed-wrapped\"><div class=\"sk-label-container\"><div class=\"sk-label sk-toggleable\"><input class=\"sk-toggleable__control sk-hidden--visually\" id=\"sk-estimator-id-15\" type=\"checkbox\" ><label for=\"sk-estimator-id-15\" class=\"sk-toggleable__label sk-toggleable__label-arrow\">GridSearchCV</label><div class=\"sk-toggleable__content\"><pre>GridSearchCV(cv=KFold(n_splits=4, random_state=33, shuffle=True),\n",
       "             estimator=Pipeline(steps=[(&#x27;scaler&#x27;, MinMaxScaler()),\n",
       "                                       (&#x27;lasso&#x27;, Lasso(max_iter=100000))]),\n",
       "             param_grid={&#x27;lasso__alpha&#x27;: array([1.00000000e-05, 1.31034483e-05, 1.62068966e-05, 1.93103448e-05,\n",
       "       2.24137931e-05, 2.55172414e-05, 2.86206897e-05, 3.17241379e-05,\n",
       "       3.48275862e-05, 3.79310345e-05, 4.10344828e-05, 4.41379310e-05,\n",
       "       4.72413793e-05, 5.03448276e-05, 5.34482759e-05, 5.65517241e-05,\n",
       "       5.96551724e-05, 6.27586207e-05, 6.58620690e-05, 6.89655172e-05,\n",
       "       7.20689655e-05, 7.51724138e-05, 7.82758621e-05, 8.13793103e-05,\n",
       "       8.44827586e-05, 8.75862069e-05, 9.06896552e-05, 9.37931034e-05,\n",
       "       9.68965517e-05, 1.00000000e-04])},\n",
       "             return_train_score=True, scoring=&#x27;neg_mean_squared_error&#x27;)</pre></div></div></div><div class=\"sk-parallel\"><div class=\"sk-parallel-item\"><div class=\"sk-item\"><div class=\"sk-label-container\"><div class=\"sk-label sk-toggleable\"><input class=\"sk-toggleable__control sk-hidden--visually\" id=\"sk-estimator-id-16\" type=\"checkbox\" ><label for=\"sk-estimator-id-16\" class=\"sk-toggleable__label sk-toggleable__label-arrow\">estimator: Pipeline</label><div class=\"sk-toggleable__content\"><pre>Pipeline(steps=[(&#x27;scaler&#x27;, MinMaxScaler()), (&#x27;lasso&#x27;, Lasso(max_iter=100000))])</pre></div></div></div><div class=\"sk-serial\"><div class=\"sk-item\"><div class=\"sk-serial\"><div class=\"sk-item\"><div class=\"sk-estimator sk-toggleable\"><input class=\"sk-toggleable__control sk-hidden--visually\" id=\"sk-estimator-id-17\" type=\"checkbox\" ><label for=\"sk-estimator-id-17\" class=\"sk-toggleable__label sk-toggleable__label-arrow\">MinMaxScaler</label><div class=\"sk-toggleable__content\"><pre>MinMaxScaler()</pre></div></div></div><div class=\"sk-item\"><div class=\"sk-estimator sk-toggleable\"><input class=\"sk-toggleable__control sk-hidden--visually\" id=\"sk-estimator-id-18\" type=\"checkbox\" ><label for=\"sk-estimator-id-18\" class=\"sk-toggleable__label sk-toggleable__label-arrow\">Lasso</label><div class=\"sk-toggleable__content\"><pre>Lasso(max_iter=100000)</pre></div></div></div></div></div></div></div></div></div></div></div></div>"
      ],
      "text/plain": [
       "GridSearchCV(cv=KFold(n_splits=4, random_state=33, shuffle=True),\n",
       "             estimator=Pipeline(steps=[('scaler', MinMaxScaler()),\n",
       "                                       ('lasso', Lasso(max_iter=100000))]),\n",
       "             param_grid={'lasso__alpha': array([1.00000000e-05, 1.31034483e-05, 1.62068966e-05, 1.93103448e-05,\n",
       "       2.24137931e-05, 2.55172414e-05, 2.86206897e-05, 3.17241379e-05,\n",
       "       3.48275862e-05, 3.79310345e-05, 4.10344828e-05, 4.41379310e-05,\n",
       "       4.72413793e-05, 5.03448276e-05, 5.34482759e-05, 5.65517241e-05,\n",
       "       5.96551724e-05, 6.27586207e-05, 6.58620690e-05, 6.89655172e-05,\n",
       "       7.20689655e-05, 7.51724138e-05, 7.82758621e-05, 8.13793103e-05,\n",
       "       8.44827586e-05, 8.75862069e-05, 9.06896552e-05, 9.37931034e-05,\n",
       "       9.68965517e-05, 1.00000000e-04])},\n",
       "             return_train_score=True, scoring='neg_mean_squared_error')"
      ]
     },
     "execution_count": 52,
     "metadata": {},
     "output_type": "execute_result"
    }
   ],
   "source": [
    "### Add scaling as a step in Pipeline and train lasso\n",
    "\n",
    "pipe_lasso = Pipeline([('scaler', MinMaxScaler()),\n",
    "                       ('lasso', Lasso(max_iter=100000))])\n",
    "\n",
    "alphas = np.linspace(0.00001, 0.0001, num=30)\n",
    "\n",
    "#### Let's go through a bunch of degrees of regularization\n",
    "### Notice that we'll find the best ones that have better quality,\n",
    "### Than the required quality\n",
    "\n",
    "cv_lasso = GridSearchCV(pipe_lasso, param_grid={'lasso__alpha':alphas},\n",
    "                        scoring='neg_mean_squared_error', cv=selector,\n",
    "                        return_train_score=True)\n",
    "\n",
    "cv_lasso.fit(X, Y)"
   ]
  },
  {
   "cell_type": "markdown",
   "id": "7900f2602c5a953a",
   "metadata": {
    "collapsed": false
   },
   "source": [
    "Find the best model on Cross-Validation. Use **best_estimator_** from **cv_lasso**"
   ]
  },
  {
   "cell_type": "code",
   "execution_count": 43,
   "id": "01a984ff",
   "metadata": {
    "ExecuteTime": {
     "end_time": "2024-06-20T07:32:12.014258Z",
     "start_time": "2024-06-20T07:32:12.002936Z"
    }
   },
   "outputs": [
    {
     "data": {
      "text/html": [
       "<style>#sk-container-id-2 {color: black;}#sk-container-id-2 pre{padding: 0;}#sk-container-id-2 div.sk-toggleable {background-color: white;}#sk-container-id-2 label.sk-toggleable__label {cursor: pointer;display: block;width: 100%;margin-bottom: 0;padding: 0.3em;box-sizing: border-box;text-align: center;}#sk-container-id-2 label.sk-toggleable__label-arrow:before {content: \"▸\";float: left;margin-right: 0.25em;color: #696969;}#sk-container-id-2 label.sk-toggleable__label-arrow:hover:before {color: black;}#sk-container-id-2 div.sk-estimator:hover label.sk-toggleable__label-arrow:before {color: black;}#sk-container-id-2 div.sk-toggleable__content {max-height: 0;max-width: 0;overflow: hidden;text-align: left;background-color: #f0f8ff;}#sk-container-id-2 div.sk-toggleable__content pre {margin: 0.2em;color: black;border-radius: 0.25em;background-color: #f0f8ff;}#sk-container-id-2 input.sk-toggleable__control:checked~div.sk-toggleable__content {max-height: 200px;max-width: 100%;overflow: auto;}#sk-container-id-2 input.sk-toggleable__control:checked~label.sk-toggleable__label-arrow:before {content: \"▾\";}#sk-container-id-2 div.sk-estimator input.sk-toggleable__control:checked~label.sk-toggleable__label {background-color: #d4ebff;}#sk-container-id-2 div.sk-label input.sk-toggleable__control:checked~label.sk-toggleable__label {background-color: #d4ebff;}#sk-container-id-2 input.sk-hidden--visually {border: 0;clip: rect(1px 1px 1px 1px);clip: rect(1px, 1px, 1px, 1px);height: 1px;margin: -1px;overflow: hidden;padding: 0;position: absolute;width: 1px;}#sk-container-id-2 div.sk-estimator {font-family: monospace;background-color: #f0f8ff;border: 1px dotted black;border-radius: 0.25em;box-sizing: border-box;margin-bottom: 0.5em;}#sk-container-id-2 div.sk-estimator:hover {background-color: #d4ebff;}#sk-container-id-2 div.sk-parallel-item::after {content: \"\";width: 100%;border-bottom: 1px solid gray;flex-grow: 1;}#sk-container-id-2 div.sk-label:hover label.sk-toggleable__label {background-color: #d4ebff;}#sk-container-id-2 div.sk-serial::before {content: \"\";position: absolute;border-left: 1px solid gray;box-sizing: border-box;top: 0;bottom: 0;left: 50%;z-index: 0;}#sk-container-id-2 div.sk-serial {display: flex;flex-direction: column;align-items: center;background-color: white;padding-right: 0.2em;padding-left: 0.2em;position: relative;}#sk-container-id-2 div.sk-item {position: relative;z-index: 1;}#sk-container-id-2 div.sk-parallel {display: flex;align-items: stretch;justify-content: center;background-color: white;position: relative;}#sk-container-id-2 div.sk-item::before, #sk-container-id-2 div.sk-parallel-item::before {content: \"\";position: absolute;border-left: 1px solid gray;box-sizing: border-box;top: 0;bottom: 0;left: 50%;z-index: -1;}#sk-container-id-2 div.sk-parallel-item {display: flex;flex-direction: column;z-index: 1;position: relative;background-color: white;}#sk-container-id-2 div.sk-parallel-item:first-child::after {align-self: flex-end;width: 50%;}#sk-container-id-2 div.sk-parallel-item:last-child::after {align-self: flex-start;width: 50%;}#sk-container-id-2 div.sk-parallel-item:only-child::after {width: 0;}#sk-container-id-2 div.sk-dashed-wrapped {border: 1px dashed gray;margin: 0 0.4em 0.5em 0.4em;box-sizing: border-box;padding-bottom: 0.4em;background-color: white;}#sk-container-id-2 div.sk-label label {font-family: monospace;font-weight: bold;display: inline-block;line-height: 1.2em;}#sk-container-id-2 div.sk-label-container {text-align: center;}#sk-container-id-2 div.sk-container {/* jupyter's `normalize.less` sets `[hidden] { display: none; }` but bootstrap.min.css set `[hidden] { display: none !important; }` so we also need the `!important` here to be able to override the default hidden behavior on the sphinx rendered scikit-learn.org. See: https://github.com/scikit-learn/scikit-learn/issues/21755 */display: inline-block !important;position: relative;}#sk-container-id-2 div.sk-text-repr-fallback {display: none;}</style><div id=\"sk-container-id-2\" class=\"sk-top-container\"><div class=\"sk-text-repr-fallback\"><pre>Pipeline(steps=[(&#x27;scaler&#x27;, MinMaxScaler()),\n",
       "                (&#x27;lasso&#x27;, Lasso(alpha=1e-05, max_iter=100000))])</pre><b>In a Jupyter environment, please rerun this cell to show the HTML representation or trust the notebook. <br />On GitHub, the HTML representation is unable to render, please try loading this page with nbviewer.org.</b></div><div class=\"sk-container\" hidden><div class=\"sk-item sk-dashed-wrapped\"><div class=\"sk-label-container\"><div class=\"sk-label sk-toggleable\"><input class=\"sk-toggleable__control sk-hidden--visually\" id=\"sk-estimator-id-5\" type=\"checkbox\" ><label for=\"sk-estimator-id-5\" class=\"sk-toggleable__label sk-toggleable__label-arrow\">Pipeline</label><div class=\"sk-toggleable__content\"><pre>Pipeline(steps=[(&#x27;scaler&#x27;, MinMaxScaler()),\n",
       "                (&#x27;lasso&#x27;, Lasso(alpha=1e-05, max_iter=100000))])</pre></div></div></div><div class=\"sk-serial\"><div class=\"sk-item\"><div class=\"sk-estimator sk-toggleable\"><input class=\"sk-toggleable__control sk-hidden--visually\" id=\"sk-estimator-id-6\" type=\"checkbox\" ><label for=\"sk-estimator-id-6\" class=\"sk-toggleable__label sk-toggleable__label-arrow\">MinMaxScaler</label><div class=\"sk-toggleable__content\"><pre>MinMaxScaler()</pre></div></div></div><div class=\"sk-item\"><div class=\"sk-estimator sk-toggleable\"><input class=\"sk-toggleable__control sk-hidden--visually\" id=\"sk-estimator-id-7\" type=\"checkbox\" ><label for=\"sk-estimator-id-7\" class=\"sk-toggleable__label sk-toggleable__label-arrow\">Lasso</label><div class=\"sk-toggleable__content\"><pre>Lasso(alpha=1e-05, max_iter=100000)</pre></div></div></div></div></div></div></div>"
      ],
      "text/plain": [
       "Pipeline(steps=[('scaler', MinMaxScaler()),\n",
       "                ('lasso', Lasso(alpha=1e-05, max_iter=100000))])"
      ]
     },
     "execution_count": 43,
     "metadata": {},
     "output_type": "execute_result"
    }
   ],
   "source": [
    "cv_lasso.best_estimator_"
   ]
  },
  {
   "cell_type": "markdown",
   "id": "dac72f6f74b3589a",
   "metadata": {
    "collapsed": false
   },
   "source": [
    "List of different scorers for all models\n",
    "The ones listed above. Use **cv_results_**"
   ]
  },
  {
   "cell_type": "code",
   "execution_count": 53,
   "id": "08a4398b",
   "metadata": {
    "ExecuteTime": {
     "end_time": "2024-06-20T09:49:39.476013Z",
     "start_time": "2024-06-20T09:49:39.472974Z"
    }
   },
   "outputs": [
    {
     "data": {
      "text/plain": [
       "array([-0.42529285, -0.42530117, -0.4253109 , -0.42532203, -0.42533456,\n",
       "       -0.42534849, -0.42536384, -0.42538058, -0.42539873, -0.42541828,\n",
       "       -0.42543924, -0.4254616 , -0.42548537, -0.42551054, -0.42553711,\n",
       "       -0.42556509, -0.42559447, -0.42562526, -0.42565745, -0.42569105,\n",
       "       -0.42572605, -0.42576245, -0.42580026, -0.42583947, -0.42588008,\n",
       "       -0.4259221 , -0.42596553, -0.42601035, -0.42605659, -0.42610422])"
      ]
     },
     "execution_count": 53,
     "metadata": {},
     "output_type": "execute_result"
    }
   ],
   "source": [
    "### Список различных скоров для всех моделей\n",
    "### Которые были перебраны выше\n",
    "\n",
    "cv_lasso.cv_results_['mean_test_score']"
   ]
  },
  {
   "cell_type": "markdown",
   "id": "3c304435366416",
   "metadata": {
    "collapsed": false
   },
   "source": [
    "#### Exercise 4\n",
    "In this assignment, adjust the hyperparameters of the Ridge regression model using cross-validation. Create a payplane with MinMaxScaler and Ridge, define a grid of alpha values, use GridSearchCV with negative RMS error and cross validation. Then apply fit to X and Y data to find the optimal hyperparameters."
   ]
  },
  {
   "cell_type": "code",
   "execution_count": 45,
   "id": "7beb1534",
   "metadata": {
    "ExecuteTime": {
     "end_time": "2024-06-20T07:33:11.698736Z",
     "start_time": "2024-06-20T07:32:35.565579Z"
    }
   },
   "outputs": [
    {
     "data": {
      "text/html": [
       "<style>#sk-container-id-3 {color: black;}#sk-container-id-3 pre{padding: 0;}#sk-container-id-3 div.sk-toggleable {background-color: white;}#sk-container-id-3 label.sk-toggleable__label {cursor: pointer;display: block;width: 100%;margin-bottom: 0;padding: 0.3em;box-sizing: border-box;text-align: center;}#sk-container-id-3 label.sk-toggleable__label-arrow:before {content: \"▸\";float: left;margin-right: 0.25em;color: #696969;}#sk-container-id-3 label.sk-toggleable__label-arrow:hover:before {color: black;}#sk-container-id-3 div.sk-estimator:hover label.sk-toggleable__label-arrow:before {color: black;}#sk-container-id-3 div.sk-toggleable__content {max-height: 0;max-width: 0;overflow: hidden;text-align: left;background-color: #f0f8ff;}#sk-container-id-3 div.sk-toggleable__content pre {margin: 0.2em;color: black;border-radius: 0.25em;background-color: #f0f8ff;}#sk-container-id-3 input.sk-toggleable__control:checked~div.sk-toggleable__content {max-height: 200px;max-width: 100%;overflow: auto;}#sk-container-id-3 input.sk-toggleable__control:checked~label.sk-toggleable__label-arrow:before {content: \"▾\";}#sk-container-id-3 div.sk-estimator input.sk-toggleable__control:checked~label.sk-toggleable__label {background-color: #d4ebff;}#sk-container-id-3 div.sk-label input.sk-toggleable__control:checked~label.sk-toggleable__label {background-color: #d4ebff;}#sk-container-id-3 input.sk-hidden--visually {border: 0;clip: rect(1px 1px 1px 1px);clip: rect(1px, 1px, 1px, 1px);height: 1px;margin: -1px;overflow: hidden;padding: 0;position: absolute;width: 1px;}#sk-container-id-3 div.sk-estimator {font-family: monospace;background-color: #f0f8ff;border: 1px dotted black;border-radius: 0.25em;box-sizing: border-box;margin-bottom: 0.5em;}#sk-container-id-3 div.sk-estimator:hover {background-color: #d4ebff;}#sk-container-id-3 div.sk-parallel-item::after {content: \"\";width: 100%;border-bottom: 1px solid gray;flex-grow: 1;}#sk-container-id-3 div.sk-label:hover label.sk-toggleable__label {background-color: #d4ebff;}#sk-container-id-3 div.sk-serial::before {content: \"\";position: absolute;border-left: 1px solid gray;box-sizing: border-box;top: 0;bottom: 0;left: 50%;z-index: 0;}#sk-container-id-3 div.sk-serial {display: flex;flex-direction: column;align-items: center;background-color: white;padding-right: 0.2em;padding-left: 0.2em;position: relative;}#sk-container-id-3 div.sk-item {position: relative;z-index: 1;}#sk-container-id-3 div.sk-parallel {display: flex;align-items: stretch;justify-content: center;background-color: white;position: relative;}#sk-container-id-3 div.sk-item::before, #sk-container-id-3 div.sk-parallel-item::before {content: \"\";position: absolute;border-left: 1px solid gray;box-sizing: border-box;top: 0;bottom: 0;left: 50%;z-index: -1;}#sk-container-id-3 div.sk-parallel-item {display: flex;flex-direction: column;z-index: 1;position: relative;background-color: white;}#sk-container-id-3 div.sk-parallel-item:first-child::after {align-self: flex-end;width: 50%;}#sk-container-id-3 div.sk-parallel-item:last-child::after {align-self: flex-start;width: 50%;}#sk-container-id-3 div.sk-parallel-item:only-child::after {width: 0;}#sk-container-id-3 div.sk-dashed-wrapped {border: 1px dashed gray;margin: 0 0.4em 0.5em 0.4em;box-sizing: border-box;padding-bottom: 0.4em;background-color: white;}#sk-container-id-3 div.sk-label label {font-family: monospace;font-weight: bold;display: inline-block;line-height: 1.2em;}#sk-container-id-3 div.sk-label-container {text-align: center;}#sk-container-id-3 div.sk-container {/* jupyter's `normalize.less` sets `[hidden] { display: none; }` but bootstrap.min.css set `[hidden] { display: none !important; }` so we also need the `!important` here to be able to override the default hidden behavior on the sphinx rendered scikit-learn.org. See: https://github.com/scikit-learn/scikit-learn/issues/21755 */display: inline-block !important;position: relative;}#sk-container-id-3 div.sk-text-repr-fallback {display: none;}</style><div id=\"sk-container-id-3\" class=\"sk-top-container\"><div class=\"sk-text-repr-fallback\"><pre>GridSearchCV(cv=KFold(n_splits=4, random_state=33, shuffle=True),\n",
       "             estimator=Pipeline(steps=[(&#x27;scaler&#x27;, MinMaxScaler()),\n",
       "                                       (&#x27;ridge&#x27;, Ridge())]),\n",
       "             param_grid={&#x27;ridge__alpha&#x27;: array([1.00000000e-05, 1.31034483e-05, 1.62068966e-05, 1.93103448e-05,\n",
       "       2.24137931e-05, 2.55172414e-05, 2.86206897e-05, 3.17241379e-05,\n",
       "       3.48275862e-05, 3.79310345e-05, 4.10344828e-05, 4.41379310e-05,\n",
       "       4.72413793e-05, 5.03448276e-05, 5.34482759e-05, 5.65517241e-05,\n",
       "       5.96551724e-05, 6.27586207e-05, 6.58620690e-05, 6.89655172e-05,\n",
       "       7.20689655e-05, 7.51724138e-05, 7.82758621e-05, 8.13793103e-05,\n",
       "       8.44827586e-05, 8.75862069e-05, 9.06896552e-05, 9.37931034e-05,\n",
       "       9.68965517e-05, 1.00000000e-04])},\n",
       "             return_train_score=True, scoring=&#x27;neg_mean_squared_error&#x27;)</pre><b>In a Jupyter environment, please rerun this cell to show the HTML representation or trust the notebook. <br />On GitHub, the HTML representation is unable to render, please try loading this page with nbviewer.org.</b></div><div class=\"sk-container\" hidden><div class=\"sk-item sk-dashed-wrapped\"><div class=\"sk-label-container\"><div class=\"sk-label sk-toggleable\"><input class=\"sk-toggleable__control sk-hidden--visually\" id=\"sk-estimator-id-8\" type=\"checkbox\" ><label for=\"sk-estimator-id-8\" class=\"sk-toggleable__label sk-toggleable__label-arrow\">GridSearchCV</label><div class=\"sk-toggleable__content\"><pre>GridSearchCV(cv=KFold(n_splits=4, random_state=33, shuffle=True),\n",
       "             estimator=Pipeline(steps=[(&#x27;scaler&#x27;, MinMaxScaler()),\n",
       "                                       (&#x27;ridge&#x27;, Ridge())]),\n",
       "             param_grid={&#x27;ridge__alpha&#x27;: array([1.00000000e-05, 1.31034483e-05, 1.62068966e-05, 1.93103448e-05,\n",
       "       2.24137931e-05, 2.55172414e-05, 2.86206897e-05, 3.17241379e-05,\n",
       "       3.48275862e-05, 3.79310345e-05, 4.10344828e-05, 4.41379310e-05,\n",
       "       4.72413793e-05, 5.03448276e-05, 5.34482759e-05, 5.65517241e-05,\n",
       "       5.96551724e-05, 6.27586207e-05, 6.58620690e-05, 6.89655172e-05,\n",
       "       7.20689655e-05, 7.51724138e-05, 7.82758621e-05, 8.13793103e-05,\n",
       "       8.44827586e-05, 8.75862069e-05, 9.06896552e-05, 9.37931034e-05,\n",
       "       9.68965517e-05, 1.00000000e-04])},\n",
       "             return_train_score=True, scoring=&#x27;neg_mean_squared_error&#x27;)</pre></div></div></div><div class=\"sk-parallel\"><div class=\"sk-parallel-item\"><div class=\"sk-item\"><div class=\"sk-label-container\"><div class=\"sk-label sk-toggleable\"><input class=\"sk-toggleable__control sk-hidden--visually\" id=\"sk-estimator-id-9\" type=\"checkbox\" ><label for=\"sk-estimator-id-9\" class=\"sk-toggleable__label sk-toggleable__label-arrow\">estimator: Pipeline</label><div class=\"sk-toggleable__content\"><pre>Pipeline(steps=[(&#x27;scaler&#x27;, MinMaxScaler()), (&#x27;ridge&#x27;, Ridge())])</pre></div></div></div><div class=\"sk-serial\"><div class=\"sk-item\"><div class=\"sk-serial\"><div class=\"sk-item\"><div class=\"sk-estimator sk-toggleable\"><input class=\"sk-toggleable__control sk-hidden--visually\" id=\"sk-estimator-id-10\" type=\"checkbox\" ><label for=\"sk-estimator-id-10\" class=\"sk-toggleable__label sk-toggleable__label-arrow\">MinMaxScaler</label><div class=\"sk-toggleable__content\"><pre>MinMaxScaler()</pre></div></div></div><div class=\"sk-item\"><div class=\"sk-estimator sk-toggleable\"><input class=\"sk-toggleable__control sk-hidden--visually\" id=\"sk-estimator-id-11\" type=\"checkbox\" ><label for=\"sk-estimator-id-11\" class=\"sk-toggleable__label sk-toggleable__label-arrow\">Ridge</label><div class=\"sk-toggleable__content\"><pre>Ridge()</pre></div></div></div></div></div></div></div></div></div></div></div></div>"
      ],
      "text/plain": [
       "GridSearchCV(cv=KFold(n_splits=4, random_state=33, shuffle=True),\n",
       "             estimator=Pipeline(steps=[('scaler', MinMaxScaler()),\n",
       "                                       ('ridge', Ridge())]),\n",
       "             param_grid={'ridge__alpha': array([1.00000000e-05, 1.31034483e-05, 1.62068966e-05, 1.93103448e-05,\n",
       "       2.24137931e-05, 2.55172414e-05, 2.86206897e-05, 3.17241379e-05,\n",
       "       3.48275862e-05, 3.79310345e-05, 4.10344828e-05, 4.41379310e-05,\n",
       "       4.72413793e-05, 5.03448276e-05, 5.34482759e-05, 5.65517241e-05,\n",
       "       5.96551724e-05, 6.27586207e-05, 6.58620690e-05, 6.89655172e-05,\n",
       "       7.20689655e-05, 7.51724138e-05, 7.82758621e-05, 8.13793103e-05,\n",
       "       8.44827586e-05, 8.75862069e-05, 9.06896552e-05, 9.37931034e-05,\n",
       "       9.68965517e-05, 1.00000000e-04])},\n",
       "             return_train_score=True, scoring='neg_mean_squared_error')"
      ]
     },
     "execution_count": 45,
     "metadata": {},
     "output_type": "execute_result"
    }
   ],
   "source": [
    "### Ridge\n",
    "\n",
    "pipe_ridge = Pipeline([('scaler', MinMaxScaler()), ('ridge', Ridge())])\n",
    "\n",
    "cv_ridge = GridSearchCV(pipe_ridge, param_grid={'ridge__alpha':alphas},\n",
    "                        scoring='neg_mean_squared_error', cv=selector,\n",
    "                        return_train_score=True)\n",
    "\n",
    "cv_ridge.fit(X, Y)"
   ]
  },
  {
   "cell_type": "markdown",
   "id": "33482f0b92119bae",
   "metadata": {
    "collapsed": false
   },
   "source": [
    " Find the optimal hyperparameters of the Ridge regression model using cross-validation. Use **best_estimator_** from **cv_ridge**"
   ]
  },
  {
   "cell_type": "code",
   "execution_count": 46,
   "id": "3bba94b5",
   "metadata": {
    "ExecuteTime": {
     "end_time": "2024-06-20T07:33:49.844012Z",
     "start_time": "2024-06-20T07:33:49.837510Z"
    }
   },
   "outputs": [
    {
     "data": {
      "text/html": [
       "<style>#sk-container-id-4 {color: black;}#sk-container-id-4 pre{padding: 0;}#sk-container-id-4 div.sk-toggleable {background-color: white;}#sk-container-id-4 label.sk-toggleable__label {cursor: pointer;display: block;width: 100%;margin-bottom: 0;padding: 0.3em;box-sizing: border-box;text-align: center;}#sk-container-id-4 label.sk-toggleable__label-arrow:before {content: \"▸\";float: left;margin-right: 0.25em;color: #696969;}#sk-container-id-4 label.sk-toggleable__label-arrow:hover:before {color: black;}#sk-container-id-4 div.sk-estimator:hover label.sk-toggleable__label-arrow:before {color: black;}#sk-container-id-4 div.sk-toggleable__content {max-height: 0;max-width: 0;overflow: hidden;text-align: left;background-color: #f0f8ff;}#sk-container-id-4 div.sk-toggleable__content pre {margin: 0.2em;color: black;border-radius: 0.25em;background-color: #f0f8ff;}#sk-container-id-4 input.sk-toggleable__control:checked~div.sk-toggleable__content {max-height: 200px;max-width: 100%;overflow: auto;}#sk-container-id-4 input.sk-toggleable__control:checked~label.sk-toggleable__label-arrow:before {content: \"▾\";}#sk-container-id-4 div.sk-estimator input.sk-toggleable__control:checked~label.sk-toggleable__label {background-color: #d4ebff;}#sk-container-id-4 div.sk-label input.sk-toggleable__control:checked~label.sk-toggleable__label {background-color: #d4ebff;}#sk-container-id-4 input.sk-hidden--visually {border: 0;clip: rect(1px 1px 1px 1px);clip: rect(1px, 1px, 1px, 1px);height: 1px;margin: -1px;overflow: hidden;padding: 0;position: absolute;width: 1px;}#sk-container-id-4 div.sk-estimator {font-family: monospace;background-color: #f0f8ff;border: 1px dotted black;border-radius: 0.25em;box-sizing: border-box;margin-bottom: 0.5em;}#sk-container-id-4 div.sk-estimator:hover {background-color: #d4ebff;}#sk-container-id-4 div.sk-parallel-item::after {content: \"\";width: 100%;border-bottom: 1px solid gray;flex-grow: 1;}#sk-container-id-4 div.sk-label:hover label.sk-toggleable__label {background-color: #d4ebff;}#sk-container-id-4 div.sk-serial::before {content: \"\";position: absolute;border-left: 1px solid gray;box-sizing: border-box;top: 0;bottom: 0;left: 50%;z-index: 0;}#sk-container-id-4 div.sk-serial {display: flex;flex-direction: column;align-items: center;background-color: white;padding-right: 0.2em;padding-left: 0.2em;position: relative;}#sk-container-id-4 div.sk-item {position: relative;z-index: 1;}#sk-container-id-4 div.sk-parallel {display: flex;align-items: stretch;justify-content: center;background-color: white;position: relative;}#sk-container-id-4 div.sk-item::before, #sk-container-id-4 div.sk-parallel-item::before {content: \"\";position: absolute;border-left: 1px solid gray;box-sizing: border-box;top: 0;bottom: 0;left: 50%;z-index: -1;}#sk-container-id-4 div.sk-parallel-item {display: flex;flex-direction: column;z-index: 1;position: relative;background-color: white;}#sk-container-id-4 div.sk-parallel-item:first-child::after {align-self: flex-end;width: 50%;}#sk-container-id-4 div.sk-parallel-item:last-child::after {align-self: flex-start;width: 50%;}#sk-container-id-4 div.sk-parallel-item:only-child::after {width: 0;}#sk-container-id-4 div.sk-dashed-wrapped {border: 1px dashed gray;margin: 0 0.4em 0.5em 0.4em;box-sizing: border-box;padding-bottom: 0.4em;background-color: white;}#sk-container-id-4 div.sk-label label {font-family: monospace;font-weight: bold;display: inline-block;line-height: 1.2em;}#sk-container-id-4 div.sk-label-container {text-align: center;}#sk-container-id-4 div.sk-container {/* jupyter's `normalize.less` sets `[hidden] { display: none; }` but bootstrap.min.css set `[hidden] { display: none !important; }` so we also need the `!important` here to be able to override the default hidden behavior on the sphinx rendered scikit-learn.org. See: https://github.com/scikit-learn/scikit-learn/issues/21755 */display: inline-block !important;position: relative;}#sk-container-id-4 div.sk-text-repr-fallback {display: none;}</style><div id=\"sk-container-id-4\" class=\"sk-top-container\"><div class=\"sk-text-repr-fallback\"><pre>Pipeline(steps=[(&#x27;scaler&#x27;, MinMaxScaler()), (&#x27;ridge&#x27;, Ridge(alpha=1e-05))])</pre><b>In a Jupyter environment, please rerun this cell to show the HTML representation or trust the notebook. <br />On GitHub, the HTML representation is unable to render, please try loading this page with nbviewer.org.</b></div><div class=\"sk-container\" hidden><div class=\"sk-item sk-dashed-wrapped\"><div class=\"sk-label-container\"><div class=\"sk-label sk-toggleable\"><input class=\"sk-toggleable__control sk-hidden--visually\" id=\"sk-estimator-id-12\" type=\"checkbox\" ><label for=\"sk-estimator-id-12\" class=\"sk-toggleable__label sk-toggleable__label-arrow\">Pipeline</label><div class=\"sk-toggleable__content\"><pre>Pipeline(steps=[(&#x27;scaler&#x27;, MinMaxScaler()), (&#x27;ridge&#x27;, Ridge(alpha=1e-05))])</pre></div></div></div><div class=\"sk-serial\"><div class=\"sk-item\"><div class=\"sk-estimator sk-toggleable\"><input class=\"sk-toggleable__control sk-hidden--visually\" id=\"sk-estimator-id-13\" type=\"checkbox\" ><label for=\"sk-estimator-id-13\" class=\"sk-toggleable__label sk-toggleable__label-arrow\">MinMaxScaler</label><div class=\"sk-toggleable__content\"><pre>MinMaxScaler()</pre></div></div></div><div class=\"sk-item\"><div class=\"sk-estimator sk-toggleable\"><input class=\"sk-toggleable__control sk-hidden--visually\" id=\"sk-estimator-id-14\" type=\"checkbox\" ><label for=\"sk-estimator-id-14\" class=\"sk-toggleable__label sk-toggleable__label-arrow\">Ridge</label><div class=\"sk-toggleable__content\"><pre>Ridge(alpha=1e-05)</pre></div></div></div></div></div></div></div>"
      ],
      "text/plain": [
       "Pipeline(steps=[('scaler', MinMaxScaler()), ('ridge', Ridge(alpha=1e-05))])"
      ]
     },
     "execution_count": 46,
     "metadata": {},
     "output_type": "execute_result"
    }
   ],
   "source": [
    "cv_ridge.best_estimator_"
   ]
  },
  {
   "cell_type": "markdown",
   "id": "c90a72fe8b57eefb",
   "metadata": {
    "collapsed": false
   },
   "source": [
    "Output the mean values of the test data scores for each combination of parameters. Use **cv_results_** like in previous exercise 3"
   ]
  },
  {
   "cell_type": "code",
   "execution_count": 47,
   "id": "a3fa606e",
   "metadata": {
    "ExecuteTime": {
     "end_time": "2024-06-20T07:33:52.524007Z",
     "start_time": "2024-06-20T07:33:52.495650Z"
    }
   },
   "outputs": [
    {
     "data": {
      "text/plain": [
       "array([-0.42529285, -0.42530117, -0.4253109 , -0.42532203, -0.42533456,\n",
       "       -0.42534849, -0.42536384, -0.42538058, -0.42539873, -0.42541828,\n",
       "       -0.42543924, -0.4254616 , -0.42548537, -0.42551054, -0.42553711,\n",
       "       -0.42556509, -0.42559447, -0.42562526, -0.42565745, -0.42569105,\n",
       "       -0.42572605, -0.42576245, -0.42580026, -0.42583947, -0.42588008,\n",
       "       -0.4259221 , -0.42596553, -0.42601035, -0.42605659, -0.42610422])"
      ]
     },
     "execution_count": 47,
     "metadata": {},
     "output_type": "execute_result"
    }
   ],
   "source": [
    "cv_lasso.cv_results_['mean_test_score']"
   ]
  },
  {
   "cell_type": "code",
   "execution_count": null,
   "id": "884ee964693fb485",
   "metadata": {
    "collapsed": false
   },
   "outputs": [],
   "source": []
  }
 ],
 "metadata": {
  "kernelspec": {
   "display_name": "Python 3 (ipykernel)",
   "language": "python",
   "name": "python3"
  },
  "language_info": {
   "codemirror_mode": {
    "name": "ipython",
    "version": 3
   },
   "file_extension": ".py",
   "mimetype": "text/x-python",
   "name": "python",
   "nbconvert_exporter": "python",
   "pygments_lexer": "ipython3",
   "version": "3.7.9"
  }
 },
 "nbformat": 4,
 "nbformat_minor": 5
}
