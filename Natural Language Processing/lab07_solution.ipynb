{
  "cells": [
    {
      "cell_type": "markdown",
      "id": "2316fb23",
      "metadata": {
        "papermill": {
          "duration": 0.011951,
          "end_time": "2024-02-28T16:34:49.288717",
          "exception": false,
          "start_time": "2024-02-28T16:34:49.276766",
          "status": "completed"
        },
        "tags": [],
        "id": "2316fb23"
      },
      "source": [
        "# NLP. Lesson 7. Embeddings\n",
        "\n",
        "**Embedding** - is an important term that is used for **representing words for text analysis in the form of real-valued vectors**. It is considered one of the most significant breakthroughs of deep learning for solving challenging natural language processing problems.\n",
        "\n",
        "In this approach, words and documents are represented in the form of numeric vectors allowing similar words to have similar vector representations. The extracted features are fed into a machine learning model so as to work with text data and preserve the semantic and syntactic information. It can approximate meaning and represent a word in a lower dimensional space. For instance, a word embedding with 50 values holds the capability of representing 50 unique features. Many people choose pre-trained word embedding models like Flair, fastText, SpaCy, and others.\n",
        "\n",
        "Word embedding techniques:\n",
        "- Word2Vec(CBOW and Skip-gram)\n",
        "- fastText\n",
        "- GloVe (Global Vectors for Word Representation)\n",
        "- BERT (Bidirectional Encoder Representations from Transformers), etc."
      ]
    },
    {
      "cell_type": "markdown",
      "id": "27145122",
      "metadata": {
        "papermill": {
          "duration": 0.01216,
          "end_time": "2024-02-28T16:34:49.312782",
          "exception": false,
          "start_time": "2024-02-28T16:34:49.300622",
          "status": "completed"
        },
        "tags": [],
        "id": "27145122"
      },
      "source": [
        "### Distributional semantics\n",
        "\n",
        "Distributional semantics is a theory in linguistics and natural language processing that posits that the meaning of words can be inferred from the contexts in which they appear. According to this theory, words that occur in similar contexts are likely to have similar meanings: \"a word is characterized by the company it keeps\".\n",
        "\n",
        "The distributional hypothesis suggests that the more semantically similar two words are, the more distributionally similar they will be in turn, and thus the more that they will tend to occur in similar linguistic contexts.\n",
        "\n",
        "<img src=\"https://raw.githubusercontent.com/Dnau15/LabImages/main/images/lab07/DistributionalSemantics.png\" alt=\"Distributional Semantics\" width=\"400\"/>\n",
        "\n",
        "<img src=\"https://raw.githubusercontent.com/Dnau15/LabImages/main/images/lab07/relationship.png\" alt=\"Distributional Semantics\" width=\"587\"/>"
      ]
    },
    {
      "cell_type": "markdown",
      "id": "905171f0",
      "metadata": {
        "papermill": {
          "duration": 0.011878,
          "end_time": "2024-02-28T16:34:49.336587",
          "exception": false,
          "start_time": "2024-02-28T16:34:49.324709",
          "status": "completed"
        },
        "tags": [],
        "id": "905171f0"
      },
      "source": [
        "## Models for computing word representations. Word2Vec algorithms.\n"
      ]
    },
    {
      "cell_type": "markdown",
      "id": "12b0ed47",
      "metadata": {
        "id": "12b0ed47"
      },
      "source": [
        "The main idea of Word2Vec is that we need to put information about meanings into word vectors. But how? Learn word vectors by teaching them to predict contexts. As you remember from the distributional hypothesis, if vectors \"know\" about contexts, they \"know\" word meaning. Word2Vec is an iterative method. Its main idea is as follows:\n",
        "\n",
        "- take a huge text corpus\n",
        "- go over the text with a sliding window, moving one word at a time. At each step, there is a central word and context words (other words in this window)\n",
        "- for the central word, compute probabilities of context words\n",
        "- adjust the vectors to increase these probabilities.\n",
        "\n",
        "<img src=\"https://raw.githubusercontent.com/Dnau15/LabImages/main/images/lab07/DistrSem1.png\" alt=\"Distributional Semantics\" width=\"600\"/>\n",
        "\n",
        "<img src=\"https://raw.githubusercontent.com/Dnau15/LabImages/main/images/lab07/DistrSem2.png\" alt=\"Distributional Semantics\" width=\"600\"/>\n",
        "\n",
        "<img src=\"https://raw.githubusercontent.com/Dnau15/LabImages/main/images/lab07/DistrSem3.png\" alt=\"Distributional Semantics\" width=\"600\"/>\n",
        "\n",
        "For each position in a text corpus Word2Vec predicts context within an m-sized window given a central word $w_t$\n",
        "\n",
        "**Likelihood:** $L(\\theta) = \\prod_{t=1}^{T} \\prod_{-m<=j<=m, j!=0>}P(w_{t+j}|w_t, \\theta)$, where $\\theta$ are all variables to be optimized\n",
        "\n",
        "**Objective function: Average Negative Log-Likelihood:** $J(\\theta) =$ $-{1}\\over{T}$ $log L(\\theta) =$ ${-1}\\over{T}$ $\\sum_{t=1}^{T}\\sum_{-m<=j<=m, j!=0} logP(w_{t+j}|w_t, \\theta)$\n",
        "\n",
        "$P(w_{t+j}|w_t, \\theta)$: for each word we have 2 vectors: $v_w$ - central word - and $u_w$ - context word. Then for the central word(c) and context word (o) probability of the context word is: $P(o|c) = \\frac{exp(u_o^T*v_c)}{\\sum_{w∈V}exp(u_w^T*v_c)}$ (based on the softmax function!)\n",
        "\n",
        "<img src=\"https://raw.githubusercontent.com/Dnau15/LabImages/main/images/lab07/prob1.png\" alt=\"Probability computation\" width=\"600\"/>\n",
        "\n",
        "<img src=\"https://raw.githubusercontent.com/Dnau15/LabImages/main/images/lab07/prob2.png\" alt=\"Probability computation\" width=\"600\"/>\n",
        "\n",
        "**Training:** $\\theta^{new} = \\theta^{old} - \\alpha ∇_{\\theta}J(\\theta)$ - gradient descent. Update 1 word at a time - each update is for a single pair of a center word and one of its context words.\n",
        "\n",
        "Lets consider a sentence from teh pictures: I saw a cute gray cat playing in the garden. Choose a word 'cat' and a context window of size 2: 'cute gray playing in' - context words.\n",
        "\n",
        "Loss: $J_{t,j}(\\theta) = -logP(cute|cat) = -log \\frac{exp(u_{cute}^T*v_{cat})}{\\sum_{w∈V}exp(u_w^T*v_{cat})} = -u_{cute}^T*v_{cat} + log \\sum_{w∈V} exp(u_w^T*v_{cat})$\n",
        "\n",
        "By making an update to minimize $J_{t,j}(\\theta)$, we force the parameters to increase similarity (dot product) of $v_{cat}$ and $u_{cute}$ and, at the same time, to decrease similarity between $v_{cat}$ and $u_{w}$ for all other words $w$ in the vocabulary. But, since we make updates for each context word (and for all central words in your text), on average over all updates our vectors will learn the distribution of the possible contexts."
      ]
    },
    {
      "cell_type": "markdown",
      "id": "01d010dc",
      "metadata": {
        "papermill": {
          "duration": 0.010891,
          "end_time": "2024-02-28T16:34:49.358866",
          "exception": false,
          "start_time": "2024-02-28T16:34:49.347975",
          "status": "completed"
        },
        "tags": [],
        "id": "01d010dc"
      },
      "source": [
        "### Continuous Bag of Words (CBOW)\n",
        "A bag of words is one of the popular word embedding techniques of text where each value in the vector would represent the count of words in a document/sentence. In other words, it extracts features from the text. We also refer to it as vectorization.\n",
        "\n",
        "In the CBOW model, the goal is to predict a `target word` based on its surrounding context words within a fixed window size. The model takes as input a `context window` (a sequence of surrounding words) and predicts the target word.\n",
        "\n",
        ">Encoding: One Hot Vector - 1 bit '1' and all others are '0'. Vector length - number of words in language. Prediction of a _center_ word from a context window\n",
        "\n",
        "Example: [video](https://www.youtube.com/watch?app=desktop&v=UqRCEmrv1gQ)\n"
      ]
    },
    {
      "cell_type": "markdown",
      "id": "152790db",
      "metadata": {
        "papermill": {
          "duration": 0.011221,
          "end_time": "2024-02-28T16:34:49.381554",
          "exception": false,
          "start_time": "2024-02-28T16:34:49.370333",
          "status": "completed"
        },
        "tags": [],
        "id": "152790db"
      },
      "source": [
        "### Skip-gram\n",
        "\n",
        "In contrast to CBOW, the Skip-gram model aims to predict the `surrounding context` words given a target word. The model takes as input a target word and predicts the context words within a fixed window size around the target word.\n"
      ]
    },
    {
      "cell_type": "markdown",
      "id": "b70e1f05",
      "metadata": {
        "papermill": {
          "duration": 0.010629,
          "end_time": "2024-02-28T16:34:49.403268",
          "exception": false,
          "start_time": "2024-02-28T16:34:49.392639",
          "status": "completed"
        },
        "tags": [],
        "id": "b70e1f05"
      },
      "source": [
        "### Comparison:\n",
        "\n",
        "- CBOW:\n",
        "  - Pros: Faster training time, better performance for frequent words.\n",
        "  - Cons: Poor performance for infrequent words, ignores word order.\n",
        "- Skip-gram:\n",
        "  - Pros: Captures fine-grained semantic information, performs well for infrequent words, preserves word order.\n",
        "  - Cons: Slower training time, requires more data.\n",
        "\n",
        "<img src=\"https://raw.githubusercontent.com/Dnau15/LabImages/main/images/lab07/CBOWandSkipGram.png\" alt=\"Comparison\" width=\"600\"/>\n",
        "\n",
        "<img src=\"https://raw.githubusercontent.com/Dnau15/LabImages/main/images/lab07/CBOWandSkipGram2.png\" alt=\"Comparison\" width=\"614\"/>"
      ]
    },
    {
      "cell_type": "markdown",
      "id": "3c1adab9",
      "metadata": {
        "papermill": {
          "duration": 0.011681,
          "end_time": "2024-02-28T16:34:49.447654",
          "exception": false,
          "start_time": "2024-02-28T16:34:49.435973",
          "status": "completed"
        },
        "tags": [],
        "id": "3c1adab9"
      },
      "source": [
        "## Other word embeddings techniques\n",
        "\n",
        "- **fastText Embeddings**: fastText is an extension of word2vec that incorporates subword information into the embedding learning process. While Word2Vec treats eaach word as the smallest entity, fasttext represents words as the sum of the embeddings of their constituent character n-grams, allowing it to handle out-of-vocabulary words and capture morphological information. For the word \"jumping\", the subword n-grams could be [\"jum\", \"ump\", \"mpi\", \"pin\", \"ing\"].\n",
        "\n",
        "\n",
        "- **GloVe (Global Vectors for Word Representation) Embeddings**: GloVe is a word embedding model that learns word vectors by factorizing the co-occurrence matrix of words in a corpus (built from the entire corpus). It leverages global statistical information to capture word semantics and has been shown to perform well on various NLP tasks. The goal is to find word vectors such that their dot product equals the log of the probability of their co-occurrence. Example for the words \"king\", \"queen\", \"man\", and \"woman\": the relationship \"king - man + woman ≈ queen\" can be captured in the vector space.\n"
      ]
    },
    {
      "cell_type": "markdown",
      "id": "09089b46",
      "metadata": {
        "papermill": {
          "duration": 0.01058,
          "end_time": "2024-02-28T16:34:49.469132",
          "exception": false,
          "start_time": "2024-02-28T16:34:49.458552",
          "status": "completed"
        },
        "tags": [],
        "id": "09089b46"
      },
      "source": [
        "## fastText\n",
        "\n",
        "In Word2Vec, an embedding is created for each word. As such, it can’t handle any words it has not encountered during its training. For example, words such as “tensor” and “flow” are present in the vocabulary of Word2Vec. But if you try to get embedding for the compound word “tensorflow”, you will get an out of vocabulary error. For words with same radicals such as “eat” and “eaten”, Word2Vec doesn’t do any parameter sharing. Each word is learned uniquely based on the context it appears in.\n",
        "\n",
        "More about fastText training [here](https://amitness.com/posts/fasttext-embeddings), get familiar with modifications to the skip-gram method in fastText.\n",
        "\n",
        "\n",
        "#### Example of usage of a pretrained model"
      ]
    },
    {
      "cell_type": "code",
      "execution_count": 1,
      "id": "46ec9bc7",
      "metadata": {
        "execution": {
          "iopub.execute_input": "2024-02-28T16:34:49.493516Z",
          "iopub.status.busy": "2024-02-28T16:34:49.493023Z",
          "iopub.status.idle": "2024-02-28T16:36:37.664847Z",
          "shell.execute_reply": "2024-02-28T16:36:37.663070Z"
        },
        "papermill": {
          "duration": 115.65747,
          "end_time": "2024-02-28T16:36:45.137686",
          "exception": false,
          "start_time": "2024-02-28T16:34:49.480216",
          "status": "completed"
        },
        "tags": [],
        "id": "46ec9bc7",
        "outputId": "e2329e2a-9eab-4c11-8348-27217cb39b4a",
        "colab": {
          "base_uri": "https://localhost:8080/"
        }
      },
      "outputs": [
        {
          "output_type": "stream",
          "name": "stdout",
          "text": [
            "--2024-09-11 23:19:31--  https://dl.fbaipublicfiles.com/fasttext/vectors-crawl/cc.en.300.bin.gz\n",
            "Resolving dl.fbaipublicfiles.com (dl.fbaipublicfiles.com)... 13.226.34.7, 13.226.34.53, 13.226.34.122, ...\n",
            "Connecting to dl.fbaipublicfiles.com (dl.fbaipublicfiles.com)|13.226.34.7|:443... connected.\n",
            "HTTP request sent, awaiting response... 200 OK\n",
            "Length: 4503593528 (4.2G) [application/octet-stream]\n",
            "Saving to: ‘cc.en.300.bin.gz’\n",
            "\n",
            "cc.en.300.bin.gz    100%[===================>]   4.19G   124MB/s    in 49s     \n",
            "\n",
            "2024-09-11 23:20:20 (88.5 MB/s) - ‘cc.en.300.bin.gz’ saved [4503593528/4503593528]\n",
            "\n",
            "gzip: cc.en.300.bin already exists; do you wish to overwrite (y or n)? ^C\n"
          ]
        }
      ],
      "source": [
        "!wget https://dl.fbaipublicfiles.com/fasttext/vectors-crawl/cc.en.300.bin.gz && gzip -dv cc.en.300.bin.gz"
      ]
    },
    {
      "cell_type": "code",
      "execution_count": 2,
      "id": "2e1b63dd",
      "metadata": {
        "id": "2e1b63dd",
        "outputId": "0449c486-54a5-4706-8941-1280451b89f1",
        "colab": {
          "base_uri": "https://localhost:8080/"
        }
      },
      "outputs": [
        {
          "output_type": "stream",
          "name": "stdout",
          "text": [
            "Requirement already satisfied: fasttext in /usr/local/lib/python3.10/dist-packages (0.9.3)\n",
            "Requirement already satisfied: pybind11>=2.2 in /usr/local/lib/python3.10/dist-packages (from fasttext) (2.13.5)\n",
            "Requirement already satisfied: setuptools>=0.7.0 in /usr/local/lib/python3.10/dist-packages (from fasttext) (71.0.4)\n",
            "Requirement already satisfied: numpy in /usr/local/lib/python3.10/dist-packages (from fasttext) (1.26.4)\n"
          ]
        }
      ],
      "source": [
        "!pip install fasttext"
      ]
    },
    {
      "cell_type": "code",
      "execution_count": 3,
      "id": "49aecc92",
      "metadata": {
        "execution": {
          "iopub.execute_input": "2024-02-28T16:36:45.412269Z",
          "iopub.status.busy": "2024-02-28T16:36:45.411522Z",
          "iopub.status.idle": "2024-02-28T16:36:57.047870Z",
          "shell.execute_reply": "2024-02-28T16:36:57.046489Z"
        },
        "papermill": {
          "duration": 11.845315,
          "end_time": "2024-02-28T16:36:57.051252",
          "exception": false,
          "start_time": "2024-02-28T16:36:45.205937",
          "status": "completed"
        },
        "tags": [],
        "id": "49aecc92"
      },
      "outputs": [],
      "source": [
        "import fasttext\n",
        "\n",
        "model = fasttext.load_model(\"cc.en.300.bin\")"
      ]
    },
    {
      "cell_type": "code",
      "execution_count": 4,
      "id": "1cf6992a",
      "metadata": {
        "execution": {
          "iopub.execute_input": "2024-02-28T16:36:57.097649Z",
          "iopub.status.busy": "2024-02-28T16:36:57.097228Z",
          "iopub.status.idle": "2024-02-28T16:36:57.104718Z",
          "shell.execute_reply": "2024-02-28T16:36:57.103209Z"
        },
        "papermill": {
          "duration": 0.034048,
          "end_time": "2024-02-28T16:36:57.107342",
          "exception": false,
          "start_time": "2024-02-28T16:36:57.073294",
          "status": "completed"
        },
        "tags": [],
        "id": "1cf6992a",
        "outputId": "0f97bb28-db9b-47c5-e59b-3a438a5caf68",
        "colab": {
          "base_uri": "https://localhost:8080/"
        }
      },
      "outputs": [
        {
          "output_type": "stream",
          "name": "stdout",
          "text": [
            "(300,)\n"
          ]
        }
      ],
      "source": [
        "vector = model.get_word_vector(\"hello\")\n",
        "print(vector.shape)"
      ]
    },
    {
      "cell_type": "code",
      "execution_count": 5,
      "id": "3b6a7737",
      "metadata": {
        "execution": {
          "iopub.execute_input": "2024-02-28T16:36:57.154212Z",
          "iopub.status.busy": "2024-02-28T16:36:57.153781Z",
          "iopub.status.idle": "2024-02-28T16:37:17.853056Z",
          "shell.execute_reply": "2024-02-28T16:37:17.851595Z"
        },
        "papermill": {
          "duration": 20.7266,
          "end_time": "2024-02-28T16:37:17.855869",
          "exception": false,
          "start_time": "2024-02-28T16:36:57.129269",
          "status": "completed"
        },
        "tags": [],
        "id": "3b6a7737",
        "outputId": "af542cae-9bd0-4815-91fc-d67ece638d86",
        "colab": {
          "base_uri": "https://localhost:8080/"
        }
      },
      "outputs": [
        {
          "output_type": "stream",
          "name": "stdout",
          "text": [
            "[(0.7143728733062744, 'hellow'), (0.7095366716384888, 'hello.'), (0.703833818435669, 'hi'), (0.6944323182106018, 'hullo'), (0.6912142038345337, 'hello-'), (0.663975715637207, 'Hello'), (0.6563249230384827, 'hello.I'), (0.6529381275177002, 'howdy'), (0.6283847689628601, 'hellooo'), (0.6235803365707397, 'hellooooo')]\n"
          ]
        }
      ],
      "source": [
        "nearest_neighbors = model.get_nearest_neighbors(\"hello\")\n",
        "print(nearest_neighbors)"
      ]
    },
    {
      "cell_type": "code",
      "execution_count": 6,
      "id": "e5a90fee",
      "metadata": {
        "execution": {
          "iopub.execute_input": "2024-02-28T16:37:17.901271Z",
          "iopub.status.busy": "2024-02-28T16:37:17.900710Z",
          "iopub.status.idle": "2024-02-28T16:37:18.908030Z",
          "shell.execute_reply": "2024-02-28T16:37:18.906496Z"
        },
        "papermill": {
          "duration": 1.033183,
          "end_time": "2024-02-28T16:37:18.910862",
          "exception": false,
          "start_time": "2024-02-28T16:37:17.877679",
          "status": "completed"
        },
        "tags": [],
        "id": "e5a90fee",
        "outputId": "1c5dd72a-bf2d-4ceb-d248-57b68484c102",
        "colab": {
          "base_uri": "https://localhost:8080/"
        }
      },
      "outputs": [
        {
          "output_type": "stream",
          "name": "stdout",
          "text": [
            "Analogy relationship: king - man + woman = [(0.7554811835289001, 'queen')]\n"
          ]
        }
      ],
      "source": [
        "analogy_result = model.get_analogies(\"king\", \"man\", \"woman\", k=1)\n",
        "print(\"Analogy relationship: king - man + woman =\", analogy_result)"
      ]
    },
    {
      "cell_type": "markdown",
      "id": "11aa26c3",
      "metadata": {
        "papermill": {
          "duration": 0.021546,
          "end_time": "2024-02-28T16:37:18.955143",
          "exception": false,
          "start_time": "2024-02-28T16:37:18.933597",
          "status": "completed"
        },
        "tags": [],
        "id": "11aa26c3"
      },
      "source": [
        "The analogy relationship is typically explored through vector arithmetic, where the difference between word vectors captures the semantic relationship between words. By using subword information, fastText can generate embeddings for words not seen during training, reducing the problem of OOV (out of vocabulary) words.\n",
        "\n",
        "Similar to Word2Vec, fastText can be trained using either the CBOW or Skip-gram models. The main difference is that the input words are represented by their subword vectors.\n",
        "\n",
        "FastText is highly efficient for text classification tasks, providing state-of-the-art performance with minimal tuning. Example applications include sentiment analysis, spam detection, and topic classification. FastText’s subword approach makes it robust to rare words and those not seen during training.\n",
        "\n",
        "\n",
        "\n",
        "You can train the fasttext by yourself using your own training data. Here is the example of training using skipgram, but you can use 'cbow' as well."
      ]
    },
    {
      "cell_type": "code",
      "execution_count": 7,
      "id": "d0d7e766",
      "metadata": {
        "id": "d0d7e766",
        "colab": {
          "base_uri": "https://localhost:8080/"
        },
        "outputId": "10686f77-33ae-4aeb-aaec-5709f3053cb1"
      },
      "outputs": [
        {
          "output_type": "stream",
          "name": "stdout",
          "text": [
            "[ 1.57576188e-01  4.37820926e-02 -4.51271934e-03  6.65931404e-02\n",
            "  7.70346820e-02  4.85855248e-03  8.19822028e-03  6.52402919e-03\n",
            "  9.25899856e-03  3.53899002e-02 -2.31395271e-02 -4.91807126e-02\n",
            " -8.32642540e-02  1.56014524e-02  2.54856616e-01  3.45423706e-02\n",
            " -1.07451361e-02 -7.80188590e-02 -7.08099529e-02  7.62385577e-02\n",
            " -6.09613657e-02  4.48625796e-02 -7.29744136e-02  1.30583309e-02\n",
            "  3.14881057e-02 -3.10055036e-02  1.66004002e-02  1.74405202e-02\n",
            " -7.35838860e-02  1.18252613e-01 -1.21330231e-01 -4.09253240e-02\n",
            "  2.93969568e-02  4.84445989e-02 -1.33816330e-02 -1.74765270e-02\n",
            "  7.51308873e-02  9.97046307e-02 -4.00476977e-02  4.05735290e-03\n",
            " -7.21896589e-02 -4.43356819e-02 -1.22628408e-03  7.56693557e-02\n",
            "  3.98401320e-02  3.22643593e-02  1.95914153e-02  4.68016043e-02\n",
            " -1.46228177e-02  1.12967767e-01  3.15065160e-02 -1.02312110e-01\n",
            "  1.58124104e-01 -2.76147053e-02 -3.39851156e-02 -1.77006852e-02\n",
            " -5.73529862e-04  1.10789239e-01 -1.64533369e-02 -3.14955460e-03\n",
            " -4.22914140e-02  1.11429848e-01 -5.31049855e-02  4.91117276e-02\n",
            "  9.10004079e-02  6.57141507e-02 -3.71061601e-02  3.81702930e-02\n",
            "  7.25173131e-02 -5.31874336e-02  3.06243524e-02 -5.77391349e-02\n",
            " -8.07492957e-02 -9.05582383e-02 -8.05390999e-02 -6.03040010e-02\n",
            " -9.73476470e-02  4.83466834e-02  6.79628998e-02 -2.63391621e-03\n",
            " -8.63242708e-03 -5.09856315e-03  3.15496624e-02  6.66525513e-02\n",
            "  3.12875141e-04 -8.35073516e-02  4.45498899e-02  3.60494666e-02\n",
            " -2.06746310e-02 -6.20845817e-02 -9.07698199e-02 -4.88502011e-02\n",
            "  1.32845968e-01  1.26201622e-02  4.61448133e-02 -5.53582981e-02\n",
            "  2.26286706e-03  4.92154472e-02  3.35916355e-02  6.64286166e-02\n",
            " -8.92760456e-02 -5.37227653e-02  1.32202283e-01 -9.05150920e-03\n",
            "  3.26110516e-03 -4.37462777e-02  7.51723945e-02 -4.36847992e-02\n",
            " -3.93423960e-02  4.89794314e-02  8.05674866e-02 -3.93629894e-02\n",
            " -7.60222226e-02  7.16625601e-02 -1.88665651e-02 -4.20744009e-02\n",
            "  3.32255103e-03 -2.13907361e-02 -1.30127341e-01  1.37401130e-02\n",
            " -5.14834598e-02  3.86724435e-02  4.92810011e-02 -6.17840439e-02\n",
            " -3.39861885e-02  3.51758078e-02  2.59123407e-02 -1.02832042e-01\n",
            "  6.01336509e-02 -7.14224055e-02 -2.23655030e-02 -1.03390224e-01\n",
            " -6.34965971e-02  1.22897769e-03 -8.42045806e-03 -7.10138381e-02\n",
            " -1.38788186e-02  9.29828510e-02 -7.62190223e-02 -1.79991737e-01\n",
            "  4.98081669e-02  5.59808277e-02  4.36702892e-02  1.68789774e-02\n",
            " -3.51566449e-02  5.45868883e-03 -1.51729390e-01  8.31367448e-03\n",
            "  1.33901536e-01  1.18388735e-01 -2.54749060e-02 -5.89675866e-02\n",
            " -1.15508147e-01 -9.11533982e-02 -3.26217338e-02  9.58938058e-03\n",
            "  7.08419904e-02 -1.19613513e-01 -2.44825650e-02  4.67297807e-02\n",
            " -1.05831511e-01  8.39347020e-03 -3.59367356e-02 -7.11603984e-02\n",
            "  1.49144500e-01 -9.40826610e-02  3.87760401e-02  4.80452590e-02\n",
            "  2.00118758e-02  5.70331514e-02 -5.09383976e-02 -1.54985264e-02\n",
            " -3.21162455e-02  6.39992654e-02  4.45546657e-02 -5.41638955e-02\n",
            "  2.38869134e-02  3.99200059e-02  4.95060384e-02 -8.13021213e-02\n",
            "  8.67957771e-02  2.78793890e-02  2.23497916e-02  6.88121617e-02\n",
            "  5.80286458e-02  1.24275330e-02  9.18484554e-02  1.70225650e-02\n",
            " -2.20671259e-02 -5.54737449e-02  3.15260515e-03 -8.95306170e-02\n",
            " -5.89935109e-04 -4.80783619e-02 -4.11259457e-02 -3.47180255e-02\n",
            " -4.23192009e-02  1.01052016e-01  4.34643961e-02  6.75219819e-02\n",
            " -7.32917935e-02  2.32507251e-02  3.76763381e-02  9.02093761e-03\n",
            " -8.25045630e-02 -9.67509300e-02  5.91404364e-03  2.62256898e-02\n",
            " -2.22521871e-02  7.38612264e-02 -1.88500714e-03 -9.77522582e-02\n",
            " -5.37980236e-02 -4.76639681e-02 -1.30426334e-02  8.38671811e-04\n",
            "  2.90181581e-02 -3.12499143e-03 -9.28533375e-02  6.73858598e-02\n",
            " -1.85458809e-01  4.01153788e-02 -5.62882163e-02  6.18898645e-02\n",
            "  8.93600285e-02 -6.91142231e-02 -3.22221480e-02 -1.35385573e-01\n",
            " -7.45606720e-02  1.01488158e-01 -2.72288243e-03  6.07009046e-02\n",
            "  2.42582299e-02 -1.51890054e-01 -2.93815900e-02 -4.21775132e-03\n",
            "  5.16449586e-02  1.85986951e-01 -2.56413780e-02  8.12229067e-02\n",
            "  3.16283293e-03 -3.35572846e-02  3.90090160e-02 -7.37856179e-02\n",
            "  1.14605539e-01 -7.38329254e-05 -3.69094908e-02  9.31020677e-02\n",
            " -2.92852186e-02  5.21238521e-02  7.99705926e-03 -2.93293986e-02\n",
            "  1.31182939e-01 -8.32130760e-02 -3.40401530e-02  1.21310152e-01\n",
            "  3.51337232e-02  4.17837035e-03  5.03289811e-02  2.06086487e-02\n",
            "  7.90461749e-02 -4.95089963e-02  2.54211240e-02 -2.95754354e-02\n",
            " -2.65460461e-02  5.42523079e-02 -5.52508160e-02  1.06864944e-02\n",
            " -3.00089158e-02 -6.05286062e-02  8.54329094e-02 -6.65596053e-02\n",
            " -6.78129196e-02  3.51911336e-02  6.19770139e-02  4.80552204e-02\n",
            " -3.45021002e-02 -2.87248623e-02 -5.90536669e-02 -5.05724642e-03\n",
            " -9.74042267e-02  1.88945048e-03 -9.06497836e-02  1.47764226e-02\n",
            " -9.77678970e-02  3.95894758e-02  2.82567330e-02 -9.28364843e-02\n",
            " -8.16594157e-03 -4.56805378e-02  1.12314738e-01  8.59746262e-02\n",
            " -1.47517517e-01  8.33301097e-02  9.94666740e-02 -3.67202386e-02\n",
            "  6.84743300e-02  8.06697235e-02 -4.50269580e-02 -3.11294980e-02]\n"
          ]
        },
        {
          "output_type": "execute_result",
          "data": {
            "text/plain": [
              "[(0.7935405969619751, 'leaping'),\n",
              " (0.7553118467330933, 'jump'),\n",
              " (0.7185051441192627, 'Jumping'),\n",
              " (0.695732057094574, 'jumps'),\n",
              " (0.6326279044151306, 'jumped'),\n",
              " (0.6295326948165894, 'somersaulting'),\n",
              " (0.621809184551239, 'backflipping'),\n",
              " (0.6150370240211487, 'jumping.'),\n",
              " (0.6037074327468872, 'hopping'),\n",
              " (0.5924608111381531, 'lunging')]"
            ]
          },
          "metadata": {},
          "execution_count": 7
        }
      ],
      "source": [
        "# Get the embedding vector for a word\n",
        "word_vector = model.get_word_vector('hello')\n",
        "print(word_vector)\n",
        "\n",
        "# Find similar words\n",
        "similar_words = model.get_nearest_neighbors('jumping')\n",
        "similar_words"
      ]
    },
    {
      "cell_type": "markdown",
      "id": "6a9bdfe8",
      "metadata": {
        "id": "6a9bdfe8"
      },
      "source": [
        "### Task 1\n",
        "Find 20 the nearest neighbors for the words \"science\", \"art\", and \"business\". Cluster these nearest neighbors based on their cosine similarity. Explain the result.\n",
        "\n",
        ">Reminder: Cosine Similarity:\n",
        "\n",
        "**Cosine similarity** is a mathematical metric used to measure the similarity between two vectors in a multi-dimensional space, particularly in high-dimensional spaces, by calculating the **cosine of the angle** between them. This measure returns a value between -1 and 1; a value closer to 1 indicates greater similarity.\n",
        "\n",
        "Suppose we have three words: apple, house, and flat. Their corresponding embedding vectors are: [1,5,2], [5,3,4], and [4,2,4]\n",
        "\n",
        "<img src=\"https://raw.githubusercontent.com/Dnau15/LabImages/main/images/lab07/cosine.png\" alt=\"3 Vectors\" width=\"500\"/>\n",
        "\n",
        "Here you can notice that the angle between apple ([1,5,2]) and house ([5,3,4]) is bigger than between flat ([4,2,4]) and house ([5,3,4]) (house and flat cosine is 0.9899). Thus, words, embedded as [5,3,4] and [4,2,4] (house and flat) will be more similar semantically, than words embedded as [5,3,4] and [1,5,2] (house and apple).\n",
        "\n",
        "Why cosine similarity? For example, if two documents have the same words but in different frequencies, Euclidean distance might consider them quite different due to the differences in magnitude (frequency). Cosine similarity, however, would capture their similarity more effectively because it is less sensitive to the frequency of the words and more focused on their presence or absence in the documents."
      ]
    },
    {
      "cell_type": "code",
      "execution_count": 8,
      "id": "1bc349c1",
      "metadata": {
        "id": "1bc349c1",
        "colab": {
          "base_uri": "https://localhost:8080/"
        },
        "outputId": "12ba738a-ddcc-44d8-caad-3d9f2f829df8"
      },
      "outputs": [
        {
          "output_type": "stream",
          "name": "stderr",
          "text": [
            "/usr/local/lib/python3.10/dist-packages/sklearn/cluster/_kmeans.py:1416: FutureWarning: The default value of `n_init` will change from 10 to 'auto' in 1.4. Set the value of `n_init` explicitly to suppress the warning\n",
            "  super()._check_params_vs_input(X, default_n_init=10)\n"
          ]
        },
        {
          "output_type": "stream",
          "name": "stdout",
          "text": [
            "Cluster assignments:\n",
            "Word: busine, Cluster: 2\n",
            "Word: businees, Cluster: 2\n",
            "Word: business.The, Cluster: 2\n",
            "Word: sceince, Cluster: 1\n",
            "Word: non-science, Cluster: 1\n",
            "Word: enterprise, Cluster: 2\n",
            "Word: arts, Cluster: 0\n",
            "Word: art.What, Cluster: 0\n",
            "Word: bussiness, Cluster: 2\n",
            "Word: sciences, Cluster: 1\n",
            "Word: business.It, Cluster: 2\n",
            "Word: busness, Cluster: 2\n",
            "Word: art.There, Cluster: 0\n",
            "Word: business.Now, Cluster: 2\n",
            "Word: buisness, Cluster: 2\n",
            "Word: art.But, Cluster: 0\n",
            "Word: business.When, Cluster: 2\n",
            "Word: science.This, Cluster: 1\n",
            "Word: art.That, Cluster: 0\n",
            "Word: businss, Cluster: 2\n",
            "Word: artworks, Cluster: 0\n",
            "Word: busniess, Cluster: 2\n",
            "Word: art.The, Cluster: 0\n",
            "Word: science.In, Cluster: 1\n",
            "Word: businesses, Cluster: 2\n",
            "Word: art.It, Cluster: 0\n",
            "Word: art.In, Cluster: 0\n",
            "Word: art., Cluster: 0\n",
            "Word: science--and, Cluster: 1\n",
            "Word: artwork, Cluster: 0\n",
            "Word: art.I, Cluster: 0\n",
            "Word: science.As, Cluster: 1\n",
            "Word: art.So, Cluster: 0\n",
            "Word: science.But, Cluster: 1\n",
            "Word: science.I, Cluster: 1\n",
            "Word: business.What, Cluster: 2\n",
            "Word: science.So, Cluster: 1\n",
            "Word: biology, Cluster: 1\n",
            "Word: science.It, Cluster: 1\n",
            "Word: science.The, Cluster: 1\n",
            "Word: science.What, Cluster: 1\n",
            "Word: usiness, Cluster: 2\n",
            "Word: sciene, Cluster: 1\n",
            "Word: art.One, Cluster: 0\n",
            "Word: art.If, Cluster: 0\n",
            "Word: businee, Cluster: 2\n",
            "Word: Science, Cluster: 1\n",
            "Word: scientific, Cluster: 1\n",
            "Word: science., Cluster: 1\n",
            "Word: art--, Cluster: 0\n",
            "Word: art.With, Cluster: 0\n",
            "Word: buiness, Cluster: 2\n",
            "Word: busienss, Cluster: 2\n",
            "Word: businesss, Cluster: 2\n",
            "Word: pre-science, Cluster: 1\n",
            "Word: art.When, Cluster: 0\n",
            "Word: art.This, Cluster: 0\n",
            "Word: science-, Cluster: 1\n",
            "Word: busines, Cluster: 2\n",
            "Word: art.As, Cluster: 0\n"
          ]
        }
      ],
      "source": [
        "import numpy as np\n",
        "from sklearn.metrics.pairwise import cosine_similarity\n",
        "from sklearn.cluster import KMeans\n",
        "\n",
        "\n",
        "words = [\"science\", \"art\", \"business\"]\n",
        "results = {}\n",
        "\n",
        "# Retrieve nearest neighbors\n",
        "for word in words:\n",
        "    nearest_neighbors = model.get_nearest_neighbors(word, k=20)\n",
        "    results[word] = [neighbor[1] for neighbor in nearest_neighbors]\n",
        "\n",
        "# Flatten the list and get embeddings\n",
        "all_words = list(set([word for sublist in results.values() for word in sublist]))\n",
        "word_vectors = np.array([model.get_word_vector(word) for word in all_words])\n",
        "\n",
        "# Compute similarity matrix\n",
        "similarity_matrix = cosine_similarity(word_vectors)\n",
        "\n",
        "# Perform KMeans clustering\n",
        "kmeans = KMeans(n_clusters=3, random_state=0).fit(similarity_matrix)\n",
        "\n",
        "# Map words to their clusters\n",
        "word_to_cluster = {word: kmeans.labels_[i] for i, word in enumerate(all_words)}\n",
        "\n",
        "# Assertions\n",
        "# Check if specific words are in the expected clusters\n",
        "assert word_to_cluster[\"sceince\"] == word_to_cluster[\"science.\"], \"Expected 'biology' and 'science' to be in the same cluster\"\n",
        "assert word_to_cluster[\"artwork\"] == word_to_cluster[\"artworks\"], \"Expected 'painting' and 'art' to be in the same cluster\"\n",
        "\n",
        "# Additional validation can be done manually by examining cluster labels\n",
        "print(\"Cluster assignments:\")\n",
        "for word, cluster in word_to_cluster.items():\n",
        "    print(f\"Word: {word}, Cluster: {cluster}\")"
      ]
    },
    {
      "cell_type": "markdown",
      "id": "c81e3202",
      "metadata": {
        "papermill": {
          "duration": 0.02173,
          "end_time": "2024-02-28T16:37:18.999229",
          "exception": false,
          "start_time": "2024-02-28T16:37:18.977499",
          "status": "completed"
        },
        "tags": [],
        "id": "c81e3202"
      },
      "source": [
        "## GloVe\n",
        "GloVe differs from other methods like Word2Vec by leveraging global word co-occurrence statistics `(matrix)` from a corpus to generate word embeddings.\n",
        "> Each element in this matrix X represents how often word j appears in the context of word i.\n",
        "\n",
        "GloVe's objective is to learn word high-dimensional (50, 100, 200 dimensions) **vectors such that their dot product equals the logarithm of the probability of their co-occurrence**. Similar words are located closer together in this vector space, allowing for semantic relationships to be captured effectively.\n",
        "\n",
        "What is especially interesting, is the way GloVe controls the influence of rare and frequent words: loss for each pair (w, c) is weighted in a way that:\n",
        "- rare events are penalized,\n",
        "- very frequent events are not over-weighted\n",
        "\n",
        "Applications:\n",
        "- Evaluating similarity between words and concepts based on vector distance\n",
        "- Solving analogies\n",
        "- NER\n",
        "- Improving the classification of text documents"
      ]
    },
    {
      "cell_type": "code",
      "execution_count": 9,
      "id": "708aca6b",
      "metadata": {
        "execution": {
          "iopub.execute_input": "2024-02-28T16:37:19.045996Z",
          "iopub.status.busy": "2024-02-28T16:37:19.045567Z",
          "iopub.status.idle": "2024-02-28T16:38:42.843460Z",
          "shell.execute_reply": "2024-02-28T16:38:42.841223Z"
        },
        "papermill": {
          "duration": 85.424204,
          "end_time": "2024-02-28T16:38:44.446284",
          "exception": false,
          "start_time": "2024-02-28T16:37:19.022080",
          "status": "completed"
        },
        "tags": [],
        "id": "708aca6b",
        "outputId": "4a788177-bb5e-4257-b430-7ee2edd6afc4",
        "colab": {
          "base_uri": "https://localhost:8080/"
        }
      },
      "outputs": [
        {
          "output_type": "stream",
          "name": "stdout",
          "text": [
            "[==================================================] 100.0% 128.1/128.1MB downloaded\n",
            "Similarity between 'cat' and 'dog': 0.8798075\n",
            "Analogy relationship: king - man + woman = [('queen', 0.7698540687561035), ('monarch', 0.6843381524085999), ('throne', 0.6755736470222473), ('daughter', 0.6594556570053101), ('princess', 0.6520534157752991), ('prince', 0.6517034769058228), ('elizabeth', 0.6464517712593079), ('mother', 0.631171703338623), ('emperor', 0.6106470823287964), ('wife', 0.6098655462265015)]\n"
          ]
        }
      ],
      "source": [
        "import gensim.downloader as api\n",
        "\n",
        "# Load the pre-trained GloVe model\n",
        "glove_model = api.load(\"glove-wiki-gigaword-100\")\n",
        "\n",
        "\n",
        "# Find similarity between two words\n",
        "similarity = glove_model.similarity(\"cat\", \"dog\")\n",
        "print(\"Similarity between 'cat' and 'dog':\", similarity)\n",
        "\n",
        "# Find analogy relationship\n",
        "analogy = glove_model.most_similar(positive=[\"king\", \"woman\"], negative=[\"man\"])\n",
        "print(\"Analogy relationship: king - man + woman =\", analogy)"
      ]
    },
    {
      "cell_type": "markdown",
      "id": "1fc350b2",
      "metadata": {
        "id": "1fc350b2"
      },
      "source": [
        "### Task 2\n",
        "Using fasttext model build vectors from the given words. With the PCA model reduce the dimensionality to 2D and plot the results.\n",
        "\n",
        "> Reminder: [PCA model](https://scikit-learn.org/stable/modules/generated/sklearn.decomposition.PCA.html)"
      ]
    },
    {
      "cell_type": "code",
      "execution_count": 10,
      "id": "9085c87a",
      "metadata": {
        "id": "9085c87a",
        "colab": {
          "base_uri": "https://localhost:8080/",
          "height": 830
        },
        "outputId": "40b02286-eeb1-411d-b004-22c79f909d44"
      },
      "outputs": [
        {
          "output_type": "display_data",
          "data": {
            "text/plain": [
              "<Figure size 1000x1000 with 1 Axes>"
            ],
            "image/png": "[encoded data removed]"
          },
          "metadata": {}
        }
      ],
      "source": [
        "import matplotlib.pyplot as plt\n",
        "from sklearn.decomposition import PCA\n",
        "import numpy as np\n",
        "\n",
        "# Select a subset of words for visualization\n",
        "words = ['king', 'queen', 'man', 'woman', 'apple', 'orange']\n",
        "vectors = np.array([model[word] for word in words])\n",
        "\n",
        "assert len(vectors) == len(words), \"Number of vectors does not match number of words\"\n",
        "\n",
        "# Reduce dimensions to 2D\n",
        "pca = PCA(n_components=2)\n",
        "result = pca.fit_transform(vectors)\n",
        "\n",
        "# Plot\n",
        "plt.figure(figsize=(10, 10))\n",
        "for i, word in enumerate(words):\n",
        "    plt.scatter(result[i, 0], result[i, 1])\n",
        "    plt.text(result[i, 0], result[i, 1], word, fontsize=12)\n",
        "plt.show()"
      ]
    },
    {
      "cell_type": "markdown",
      "id": "4760805d",
      "metadata": {
        "papermill": {
          "duration": 1.690171,
          "end_time": "2024-02-28T16:38:47.794038",
          "exception": false,
          "start_time": "2024-02-28T16:38:46.103867",
          "status": "completed"
        },
        "tags": [],
        "id": "4760805d"
      },
      "source": [
        "## Vector databases\n",
        "\n",
        "A vector database is a specialized database that stores and efficiently queries high-dimensional vectors, such as word or sentence embeddings. These databases enable fast similarity search and retrieval of similar vectors based on distance metrics such as cosine similarity or Euclidean distance.\n",
        "\n",
        "## Examples\n",
        "### FAISS (Facebook AI Similarity Search)\n",
        "FAISS is a library developed by Facebook AI Research for efficient similarity search and clustering of dense vectors. It is optimized for both CPU and GPU, making it suitable for large-scale vector searches.\n",
        "#### Applications:\n",
        "- **Image Retrieval**: Finding similar images in a large database based on their feature vectors.\n",
        "- **Recommendation Systems**: Suggesting products or content based on vector representations of user preferences and items.\n",
        "- **Document Search**: Retrieving documents that are similar to a given query document.\n",
        "\n",
        "### Annoy (Approximate Nearest Neighbors Oh Yeah)\n",
        "Annoy is a library developed by Spotify for performing approximate nearest neighbor search. It uses random projections and is optimized for fast read-only queries. \\\n",
        "Applications:\n",
        "- **Music Recommendation**: Finding similar tracks based on audio embeddings or user behavior.\n",
        "- **Content-Based Search**: Recommending articles, videos, or other content based on vector embeddings.\n",
        "Spotify uses Annoy to recommend songs to users by finding similar tracks based on audio features."
      ]
    },
    {
      "cell_type": "code",
      "execution_count": 11,
      "id": "030ff9eb",
      "metadata": {
        "execution": {
          "iopub.execute_input": "2024-02-28T16:38:50.981245Z",
          "iopub.status.busy": "2024-02-28T16:38:50.980769Z",
          "iopub.status.idle": "2024-02-28T16:39:33.682607Z",
          "shell.execute_reply": "2024-02-28T16:39:33.680832Z"
        },
        "papermill": {
          "duration": 44.254135,
          "end_time": "2024-02-28T16:39:33.686099",
          "exception": false,
          "start_time": "2024-02-28T16:38:49.431964",
          "status": "completed"
        },
        "tags": [],
        "id": "030ff9eb"
      },
      "outputs": [],
      "source": [
        "%%capture\n",
        "!pip install chromadb"
      ]
    },
    {
      "cell_type": "code",
      "execution_count": 12,
      "id": "742d08f1",
      "metadata": {
        "execution": {
          "iopub.execute_input": "2024-02-28T16:39:36.884844Z",
          "iopub.status.busy": "2024-02-28T16:39:36.883873Z",
          "iopub.status.idle": "2024-02-28T16:39:38.172117Z",
          "shell.execute_reply": "2024-02-28T16:39:38.170874Z"
        },
        "papermill": {
          "duration": 2.840007,
          "end_time": "2024-02-28T16:39:38.174880",
          "exception": false,
          "start_time": "2024-02-28T16:39:35.334873",
          "status": "completed"
        },
        "tags": [],
        "id": "742d08f1"
      },
      "outputs": [],
      "source": [
        "import chromadb\n",
        "\n",
        "chroma_client = chromadb.Client()"
      ]
    },
    {
      "cell_type": "code",
      "execution_count": 13,
      "id": "fb1ff23a",
      "metadata": {
        "execution": {
          "iopub.execute_input": "2024-02-28T16:39:41.479252Z",
          "iopub.status.busy": "2024-02-28T16:39:41.478816Z",
          "iopub.status.idle": "2024-02-28T16:39:41.511711Z",
          "shell.execute_reply": "2024-02-28T16:39:41.510649Z"
        },
        "papermill": {
          "duration": 1.702599,
          "end_time": "2024-02-28T16:39:41.514703",
          "exception": false,
          "start_time": "2024-02-28T16:39:39.812104",
          "status": "completed"
        },
        "tags": [],
        "id": "fb1ff23a"
      },
      "outputs": [],
      "source": [
        "collection = chroma_client.create_collection(name=\"test_collection\")"
      ]
    },
    {
      "cell_type": "code",
      "execution_count": 14,
      "id": "b69c7929",
      "metadata": {
        "execution": {
          "iopub.execute_input": "2024-02-28T16:39:44.840512Z",
          "iopub.status.busy": "2024-02-28T16:39:44.839919Z",
          "iopub.status.idle": "2024-02-28T16:39:50.006715Z",
          "shell.execute_reply": "2024-02-28T16:39:50.005495Z"
        },
        "papermill": {
          "duration": 6.87323,
          "end_time": "2024-02-28T16:39:50.009578",
          "exception": false,
          "start_time": "2024-02-28T16:39:43.136348",
          "status": "completed"
        },
        "tags": [],
        "id": "b69c7929",
        "outputId": "4ed13618-e8b0-4178-d0de-b7c3e77e5fdc",
        "colab": {
          "base_uri": "https://localhost:8080/"
        }
      },
      "outputs": [
        {
          "output_type": "stream",
          "name": "stderr",
          "text": [
            "/root/.cache/chroma/onnx_models/all-MiniLM-L6-v2/onnx.tar.gz: 100%|██████████| 79.3M/79.3M [00:01<00:00, 76.3MiB/s]\n"
          ]
        }
      ],
      "source": [
        "documents = [\n",
        "    \"The latest iPhone model comes with impressive features and a powerful camera.\",\n",
        "    \"Exploring the beautiful beaches and vibrant culture of Bali is a dream for many travelers.\",\n",
        "    \"Einstein's theory of relativity revolutionized our understanding of space and time.\",\n",
        "    \"Traditional Italian pizza is famous for its thin crust, fresh ingredients, and wood-fired ovens.\",\n",
        "    \"The American Revolution had a profound impact on the birth of the United States as a nation.\",\n",
        "    \"Regular exercise and a balanced diet are essential for maintaining good physical health.\",\n",
        "    \"Leonardo da Vinci's Mona Lisa is considered one of the most iconic paintings in art history.\",\n",
        "    \"Climate change poses a significant threat to the planet's ecosystems and biodiversity.\",\n",
        "    \"Startup companies often face challenges in securing funding and scaling their operations.\",\n",
        "    \"Beethoven's Symphony No. 9 is celebrated for its powerful choral finale, 'Ode to Joy.'\",\n",
        "]\n",
        "\n",
        "genres = [\n",
        "    \"technology\",\n",
        "    \"travel\",\n",
        "    \"science\",\n",
        "    \"food\",\n",
        "    \"history\",\n",
        "    \"fitness\",\n",
        "    \"art\",\n",
        "    \"climate change\",\n",
        "    \"business\",\n",
        "    \"music\",\n",
        "]\n",
        "\n",
        "collection.add(\n",
        "    documents=documents,\n",
        "    ids=[f\"id{i}\" for i in range(len(documents))],\n",
        "    metadatas=[{\"genre\": g} for g in genres],\n",
        ")"
      ]
    },
    {
      "cell_type": "code",
      "execution_count": 15,
      "id": "b39a1cda",
      "metadata": {
        "execution": {
          "iopub.execute_input": "2024-02-28T16:39:53.405762Z",
          "iopub.status.busy": "2024-02-28T16:39:53.404951Z",
          "iopub.status.idle": "2024-02-28T16:39:53.485581Z",
          "shell.execute_reply": "2024-02-28T16:39:53.484246Z"
        },
        "papermill": {
          "duration": 1.786563,
          "end_time": "2024-02-28T16:39:53.488406",
          "exception": false,
          "start_time": "2024-02-28T16:39:51.701843",
          "status": "completed"
        },
        "tags": [],
        "id": "b39a1cda",
        "outputId": "e447179a-505e-4fd4-f070-a3d1ea61974f",
        "colab": {
          "base_uri": "https://localhost:8080/"
        }
      },
      "outputs": [
        {
          "output_type": "execute_result",
          "data": {
            "text/plain": [
              "{'ids': [['id3']],\n",
              " 'distances': [[1.7825171947479248]],\n",
              " 'metadatas': [[{'genre': 'food'}]],\n",
              " 'embeddings': None,\n",
              " 'documents': [['Traditional Italian pizza is famous for its thin crust, fresh ingredients, and wood-fired ovens.']],\n",
              " 'uris': None,\n",
              " 'data': None,\n",
              " 'included': ['metadatas', 'documents', 'distances']}"
            ]
          },
          "metadata": {},
          "execution_count": 15
        }
      ],
      "source": [
        "results = collection.query(query_texts=[\"I'm hungry\"], n_results=1)\n",
        "results"
      ]
    },
    {
      "cell_type": "code",
      "execution_count": 16,
      "id": "3cf32805",
      "metadata": {
        "execution": {
          "iopub.execute_input": "2024-02-28T16:39:56.754914Z",
          "iopub.status.busy": "2024-02-28T16:39:56.754060Z",
          "iopub.status.idle": "2024-02-28T16:39:56.835383Z",
          "shell.execute_reply": "2024-02-28T16:39:56.833978Z"
        },
        "papermill": {
          "duration": 1.766959,
          "end_time": "2024-02-28T16:39:56.838452",
          "exception": false,
          "start_time": "2024-02-28T16:39:55.071493",
          "status": "completed"
        },
        "tags": [],
        "id": "3cf32805",
        "outputId": "1afcb352-7c6f-40ab-8475-f85f50ff827e",
        "colab": {
          "base_uri": "https://localhost:8080/"
        }
      },
      "outputs": [
        {
          "output_type": "execute_result",
          "data": {
            "text/plain": [
              "{'ids': [['id5']],\n",
              " 'distances': [[1.5580840110778809]],\n",
              " 'metadatas': [[{'genre': 'fitness'}]],\n",
              " 'embeddings': None,\n",
              " 'documents': [['Regular exercise and a balanced diet are essential for maintaining good physical health.']],\n",
              " 'uris': None,\n",
              " 'data': None,\n",
              " 'included': ['metadatas', 'documents', 'distances']}"
            ]
          },
          "metadata": {},
          "execution_count": 16
        }
      ],
      "source": [
        "results = collection.query(query_texts=[\"sport\"], n_results=1)\n",
        "results"
      ]
    },
    {
      "cell_type": "markdown",
      "id": "0ed29c83",
      "metadata": {
        "id": "0ed29c83"
      },
      "source": [
        "## Contextual Embeddings\n",
        "\n",
        "In this lab, you've learned about two popular techniques for creating word embeddings: Continuous Bag of Words (CBOW) and Skip-Gram. These techniques are used in word2vec, a popular algorithm for generating word embeddings, GloVe, and fastText.\n",
        "However, there's another powerful technique that has revolutionized the field of NLP in recent years: BERT (Bidirectional Encoder Representations from Transformers). Developed by Google, BERT is a pre-trained language model that has achieved state-of-the-art results in a wide range of NLP tasks, such as question answering, sentiment analysis, and text classification.\n",
        "\n",
        "BERT uses a different approach to generate embeddings, **which we'll explore in more detail in Lab 12**. For now, let's just say that BERT's embeddings are contextualized, meaning that they take into account the context in which a word is used, rather than relying on a fixed vector representation. Don't worry if you don't fully understand BERT just yet – we'll dive deeper into its architecture and applications later in the course.\n",
        "\n",
        "<img src=\"https://raw.githubusercontent.com/Dnau15/LabImages/main/images/lab07/bert.jpg\" alt=\"3 Vectors\" width=\"700\"/>\n",
        "\n",
        "\n",
        "Contextual Embeddings models:\n",
        "- **ELMo** (Embeddings from Language Models): Uses deep, bi-directional LSTM networks to capture context.\n",
        "- **BERT** (Bidirectional Encoder Representations from Transformers): Uses transformer models to provide context-aware embeddings."
      ]
    },
    {
      "cell_type": "code",
      "execution_count": 17,
      "id": "de6fcc94",
      "metadata": {
        "id": "de6fcc94",
        "colab": {
          "base_uri": "https://localhost:8080/",
          "height": 371,
          "referenced_widgets": [
            "aaf43cfa70bf453598088668461e251c",
            "ac1890ca7a0342bda32e2b714169fcf0",
            "85dbdf25d4054913aa8bf6eb5c32008b",
            "cedefb70dde24bbfb333c174e7152911",
            "fbc32c5662bc47be8fb2382d8f728c13",
            "ad11d42f8b3e4e429f26e6871770e642",
            "0631238f35104601a79a30aacfcc174b",
            "ba2605ecf45647ab999c10d36c35e412",
            "56d6b6005b98469f9149e08769aa9a14",
            "78ef6fbde47c4762a1305dbb882bb192",
            "64e12509bb514a56b79f12a3ab05eb12",
            "296b45aaa9f94ff7abcc67e488172ecd",
            "b6d2112b0676433d91be4b57c91b2eea",
            "f17e75a013474a26820e2cddf58e981f",
            "4534a56948cb405ebc4436b214baaa97",
            "3b3af466bdef4fbebf1a5177602ceb1e",
            "35c52a4a38324a3da45ec7693ab272b0",
            "289f761856124e3d894e67b20e20c59d",
            "992040b06dcc41e784c8dd8e7d9f852c",
            "ddd6f360d92e4d3eb5e3fc9e0ff629b7",
            "6906a80f82304c488415c9b00dd38515",
            "28823150debc48309ccb28414542b041",
            "d70756a3b9114cfba5e8a2ad191293db",
            "dbc825a10abc4f7da798451e2d8112a6",
            "d56d3c16764d4ad7ba6cc95c28b9df45",
            "e038afc702744a7589d6c785e11a737b",
            "a0cf7c9f27134235a48a0b8665a49272",
            "326d0da7748d4ff9bcd1828896581620",
            "a2d88e3119644987b5cbfb5bd1c9b6ef",
            "3e7903d43b154f8ab8a88cc950708d06",
            "7cedf84b45cd475fb1f0f4f91f0a3641",
            "49652e991b0c4c4898c73c487a33706f",
            "2c43782785814d70855afe00ae531c47",
            "13acc14122c3467ab340ec8125f75f42",
            "7c3c4fa43e5f47df8ad6ea9f5f9e1290",
            "5cd9d0af3bbc48ffa0770383e83c3902",
            "f9077ff217574d80affa872aae05377f",
            "3af02024567f4c41bf7edf85f2cbf7d4",
            "43d9ac00efe1488a83ea9b4542208ff5",
            "b50fc5ffd9b84a968321b0843110055a",
            "6ef51db43c2b4110aa7d1c0e4b339966",
            "1e9be1ea08294c7b99c741fb3f8fdbe5",
            "651fc6a35733466e882c963fb5eca23c",
            "39f2c1b7ca78452487a3bec74a6158df",
            "38cd565e3bb14ae388f7186cebebc698",
            "e430224cf92244ec8cee666ee0cedf7d",
            "b0603d0df0ed493bae32ead294a73faf",
            "2fed863d715242e6972ea2ba9693a8ab",
            "ea05650f4be242239a64721df51a2874",
            "0569a60659034fd58bbf49f4ed147389",
            "fd0d7a8db6734e4eafc5008510cf356a",
            "a029408dbc0440d39401d291dfc9c9f0",
            "975110eeab95471588b1da30f8328ab5",
            "153df484edb248eb908b28f46faa133a",
            "58ff5115c5e342a485346576bdfa8e3d"
          ]
        },
        "outputId": "7d6db1ac-7d1e-449d-886e-78eb92ff9c98"
      },
      "outputs": [
        {
          "output_type": "stream",
          "name": "stderr",
          "text": [
            "/usr/local/lib/python3.10/dist-packages/huggingface_hub/utils/_token.py:89: UserWarning: \n",
            "The secret `HF_TOKEN` does not exist in your Colab secrets.\n",
            "To authenticate with the Hugging Face Hub, create a token in your settings tab (https://huggingface.co/settings/tokens), set it as secret in your Google Colab and restart your session.\n",
            "You will be able to reuse this secret in all of your notebooks.\n",
            "Please note that authentication is recommended but still optional to access public models or datasets.\n",
            "  warnings.warn(\n"
          ]
        },
        {
          "output_type": "display_data",
          "data": {
            "text/plain": [
              "tokenizer_config.json:   0%|          | 0.00/48.0 [00:00<?, ?B/s]"
            ],
            "application/vnd.jupyter.widget-view+json": {
              "version_major": 2,
              "version_minor": 0,
              "model_id": "aaf43cfa70bf453598088668461e251c"
            }
          },
          "metadata": {}
        },
        {
          "output_type": "display_data",
          "data": {
            "text/plain": [
              "vocab.txt:   0%|          | 0.00/232k [00:00<?, ?B/s]"
            ],
            "application/vnd.jupyter.widget-view+json": {
              "version_major": 2,
              "version_minor": 0,
              "model_id": "296b45aaa9f94ff7abcc67e488172ecd"
            }
          },
          "metadata": {}
        },
        {
          "output_type": "display_data",
          "data": {
            "text/plain": [
              "tokenizer.json:   0%|          | 0.00/466k [00:00<?, ?B/s]"
            ],
            "application/vnd.jupyter.widget-view+json": {
              "version_major": 2,
              "version_minor": 0,
              "model_id": "d70756a3b9114cfba5e8a2ad191293db"
            }
          },
          "metadata": {}
        },
        {
          "output_type": "display_data",
          "data": {
            "text/plain": [
              "config.json:   0%|          | 0.00/570 [00:00<?, ?B/s]"
            ],
            "application/vnd.jupyter.widget-view+json": {
              "version_major": 2,
              "version_minor": 0,
              "model_id": "13acc14122c3467ab340ec8125f75f42"
            }
          },
          "metadata": {}
        },
        {
          "output_type": "stream",
          "name": "stderr",
          "text": [
            "/usr/local/lib/python3.10/dist-packages/transformers/tokenization_utils_base.py:1601: FutureWarning: `clean_up_tokenization_spaces` was not set. It will be set to `True` by default. This behavior will be depracted in transformers v4.45, and will be then set to `False` by default. For more details check this issue: https://github.com/huggingface/transformers/issues/31884\n",
            "  warnings.warn(\n"
          ]
        },
        {
          "output_type": "display_data",
          "data": {
            "text/plain": [
              "model.safetensors:   0%|          | 0.00/440M [00:00<?, ?B/s]"
            ],
            "application/vnd.jupyter.widget-view+json": {
              "version_major": 2,
              "version_minor": 0,
              "model_id": "38cd565e3bb14ae388f7186cebebc698"
            }
          },
          "metadata": {}
        },
        {
          "output_type": "stream",
          "name": "stderr",
          "text": [
            "Some weights of BertForSequenceClassification were not initialized from the model checkpoint at bert-base-uncased and are newly initialized: ['classifier.bias', 'classifier.weight']\n",
            "You should probably TRAIN this model on a down-stream task to be able to use it for predictions and inference.\n"
          ]
        }
      ],
      "source": [
        "from transformers import BertTokenizer, BertForSequenceClassification\n",
        "import torch\n",
        "\n",
        "device = torch.device('cuda' if torch.cuda.is_available() else 'cpu')\n",
        "tokenizer = BertTokenizer.from_pretrained('bert-base-uncased', use_fast=True)\n",
        "model = BertForSequenceClassification.from_pretrained('bert-base-uncased').to(device)"
      ]
    },
    {
      "cell_type": "code",
      "execution_count": 18,
      "id": "0bb25b2e",
      "metadata": {
        "id": "0bb25b2e",
        "colab": {
          "base_uri": "https://localhost:8080/"
        },
        "outputId": "39fd38aa-285a-4b42-c2e3-7905ff9737ec"
      },
      "outputs": [
        {
          "output_type": "stream",
          "name": "stdout",
          "text": [
            "Collecting datasets\n",
            "  Downloading datasets-3.0.0-py3-none-any.whl.metadata (19 kB)\n",
            "Requirement already satisfied: filelock in /usr/local/lib/python3.10/dist-packages (from datasets) (3.16.0)\n",
            "Requirement already satisfied: numpy>=1.17 in /usr/local/lib/python3.10/dist-packages (from datasets) (1.26.4)\n",
            "Collecting pyarrow>=15.0.0 (from datasets)\n",
            "  Downloading pyarrow-17.0.0-cp310-cp310-manylinux_2_28_x86_64.whl.metadata (3.3 kB)\n",
            "Collecting dill<0.3.9,>=0.3.0 (from datasets)\n",
            "  Downloading dill-0.3.8-py3-none-any.whl.metadata (10 kB)\n",
            "Requirement already satisfied: pandas in /usr/local/lib/python3.10/dist-packages (from datasets) (2.1.4)\n",
            "Requirement already satisfied: requests>=2.32.2 in /usr/local/lib/python3.10/dist-packages (from datasets) (2.32.3)\n",
            "Requirement already satisfied: tqdm>=4.66.3 in /usr/local/lib/python3.10/dist-packages (from datasets) (4.66.5)\n",
            "Collecting xxhash (from datasets)\n",
            "  Downloading xxhash-3.5.0-cp310-cp310-manylinux_2_17_x86_64.manylinux2014_x86_64.whl.metadata (12 kB)\n",
            "Collecting multiprocess (from datasets)\n",
            "  Downloading multiprocess-0.70.16-py310-none-any.whl.metadata (7.2 kB)\n",
            "Requirement already satisfied: fsspec<=2024.6.1,>=2023.1.0 in /usr/local/lib/python3.10/dist-packages (from fsspec[http]<=2024.6.1,>=2023.1.0->datasets) (2024.6.1)\n",
            "Requirement already satisfied: aiohttp in /usr/local/lib/python3.10/dist-packages (from datasets) (3.10.5)\n",
            "Requirement already satisfied: huggingface-hub>=0.22.0 in /usr/local/lib/python3.10/dist-packages (from datasets) (0.24.6)\n",
            "Requirement already satisfied: packaging in /usr/local/lib/python3.10/dist-packages (from datasets) (24.1)\n",
            "Requirement already satisfied: pyyaml>=5.1 in /usr/local/lib/python3.10/dist-packages (from datasets) (6.0.2)\n",
            "Requirement already satisfied: aiohappyeyeballs>=2.3.0 in /usr/local/lib/python3.10/dist-packages (from aiohttp->datasets) (2.4.0)\n",
            "Requirement already satisfied: aiosignal>=1.1.2 in /usr/local/lib/python3.10/dist-packages (from aiohttp->datasets) (1.3.1)\n",
            "Requirement already satisfied: attrs>=17.3.0 in /usr/local/lib/python3.10/dist-packages (from aiohttp->datasets) (24.2.0)\n",
            "Requirement already satisfied: frozenlist>=1.1.1 in /usr/local/lib/python3.10/dist-packages (from aiohttp->datasets) (1.4.1)\n",
            "Requirement already satisfied: multidict<7.0,>=4.5 in /usr/local/lib/python3.10/dist-packages (from aiohttp->datasets) (6.0.5)\n",
            "Requirement already satisfied: yarl<2.0,>=1.0 in /usr/local/lib/python3.10/dist-packages (from aiohttp->datasets) (1.11.1)\n",
            "Requirement already satisfied: async-timeout<5.0,>=4.0 in /usr/local/lib/python3.10/dist-packages (from aiohttp->datasets) (4.0.3)\n",
            "Requirement already satisfied: typing-extensions>=3.7.4.3 in /usr/local/lib/python3.10/dist-packages (from huggingface-hub>=0.22.0->datasets) (4.12.2)\n",
            "Requirement already satisfied: charset-normalizer<4,>=2 in /usr/local/lib/python3.10/dist-packages (from requests>=2.32.2->datasets) (3.3.2)\n",
            "Requirement already satisfied: idna<4,>=2.5 in /usr/local/lib/python3.10/dist-packages (from requests>=2.32.2->datasets) (3.8)\n",
            "Requirement already satisfied: urllib3<3,>=1.21.1 in /usr/local/lib/python3.10/dist-packages (from requests>=2.32.2->datasets) (2.0.7)\n",
            "Requirement already satisfied: certifi>=2017.4.17 in /usr/local/lib/python3.10/dist-packages (from requests>=2.32.2->datasets) (2024.8.30)\n",
            "Requirement already satisfied: python-dateutil>=2.8.2 in /usr/local/lib/python3.10/dist-packages (from pandas->datasets) (2.8.2)\n",
            "Requirement already satisfied: pytz>=2020.1 in /usr/local/lib/python3.10/dist-packages (from pandas->datasets) (2024.1)\n",
            "Requirement already satisfied: tzdata>=2022.1 in /usr/local/lib/python3.10/dist-packages (from pandas->datasets) (2024.1)\n",
            "Requirement already satisfied: six>=1.5 in /usr/local/lib/python3.10/dist-packages (from python-dateutil>=2.8.2->pandas->datasets) (1.16.0)\n",
            "Downloading datasets-3.0.0-py3-none-any.whl (474 kB)\n",
            "\u001b[2K   \u001b[90m━━━━━━━━━━━━━━━━━━━━━━━━━━━━━━━━━━━━━━━━\u001b[0m \u001b[32m474.3/474.3 kB\u001b[0m \u001b[31m22.7 MB/s\u001b[0m eta \u001b[36m0:00:00\u001b[0m\n",
            "\u001b[?25hDownloading dill-0.3.8-py3-none-any.whl (116 kB)\n",
            "\u001b[2K   \u001b[90m━━━━━━━━━━━━━━━━━━━━━━━━━━━━━━━━━━━━━━━━\u001b[0m \u001b[32m116.3/116.3 kB\u001b[0m \u001b[31m6.9 MB/s\u001b[0m eta \u001b[36m0:00:00\u001b[0m\n",
            "\u001b[?25hDownloading pyarrow-17.0.0-cp310-cp310-manylinux_2_28_x86_64.whl (39.9 MB)\n",
            "\u001b[2K   \u001b[90m━━━━━━━━━━━━━━━━━━━━━━━━━━━━━━━━━━━━━━━━\u001b[0m \u001b[32m39.9/39.9 MB\u001b[0m \u001b[31m14.4 MB/s\u001b[0m eta \u001b[36m0:00:00\u001b[0m\n",
            "\u001b[?25hDownloading multiprocess-0.70.16-py310-none-any.whl (134 kB)\n",
            "\u001b[2K   \u001b[90m━━━━━━━━━━━━━━━━━━━━━━━━━━━━━━━━━━━━━━━━\u001b[0m \u001b[32m134.8/134.8 kB\u001b[0m \u001b[31m8.2 MB/s\u001b[0m eta \u001b[36m0:00:00\u001b[0m\n",
            "\u001b[?25hDownloading xxhash-3.5.0-cp310-cp310-manylinux_2_17_x86_64.manylinux2014_x86_64.whl (194 kB)\n",
            "\u001b[2K   \u001b[90m━━━━━━━━━━━━━━━━━━━━━━━━━━━━━━━━━━━━━━━━\u001b[0m \u001b[32m194.1/194.1 kB\u001b[0m \u001b[31m12.7 MB/s\u001b[0m eta \u001b[36m0:00:00\u001b[0m\n",
            "\u001b[?25hInstalling collected packages: xxhash, pyarrow, dill, multiprocess, datasets\n",
            "  Attempting uninstall: pyarrow\n",
            "    Found existing installation: pyarrow 14.0.2\n",
            "    Uninstalling pyarrow-14.0.2:\n",
            "      Successfully uninstalled pyarrow-14.0.2\n",
            "\u001b[31mERROR: pip's dependency resolver does not currently take into account all the packages that are installed. This behaviour is the source of the following dependency conflicts.\n",
            "cudf-cu12 24.4.1 requires pyarrow<15.0.0a0,>=14.0.1, but you have pyarrow 17.0.0 which is incompatible.\n",
            "ibis-framework 8.0.0 requires pyarrow<16,>=2, but you have pyarrow 17.0.0 which is incompatible.\u001b[0m\u001b[31m\n",
            "\u001b[0mSuccessfully installed datasets-3.0.0 dill-0.3.8 multiprocess-0.70.16 pyarrow-17.0.0 xxhash-3.5.0\n"
          ]
        }
      ],
      "source": [
        "!pip install datasets"
      ]
    },
    {
      "cell_type": "code",
      "execution_count": 19,
      "id": "e45c2813",
      "metadata": {
        "id": "e45c2813",
        "colab": {
          "base_uri": "https://localhost:8080/",
          "height": 241,
          "referenced_widgets": [
            "1ca1454a54f345b2aa89a6eb44bd55a1",
            "840c07453b974ed59b4d375e4f994fa3",
            "156a2e0fd2b341c8ae5f3b7c69494b3e",
            "2d2bf1d9bd224dcdb1f81a91260076aa",
            "90442e5fee3d47238aa761058232828b",
            "c9eefb37d53b44cd92ef0c45edc9a888",
            "602f78fb15334b5a97577e89afec1cd9",
            "2467362cf37c4ba288db1fdaee31a561",
            "3e8e8deb9db3416faae95111e0d3d47f",
            "59c97bcce780452ca25bf792dde5043c",
            "d8d48e22ca604b47b4176004a19ea1d0",
            "1e623b21a3654ca68510fa5c86dfb549",
            "63607136dca4461584d1c96b2576f331",
            "eb02cc5ee49e49138e393bbc0e0557e0",
            "b2084564af61401dab01413b1203bbc3",
            "7defb5459ec1475ba2c65cb24d8da876",
            "10ec2572206c4787bd81de874fb2ef34",
            "8bda852a51664f2dadb623dc468c9baa",
            "86cd7a04609e4f2a8404a4cdf1e19429",
            "7686c9836d5444b582cbde186bf55f54",
            "59de220a56e84597b700998ed844b5cf",
            "eb4f89a8dde74add800438441a689c19",
            "330b414dcaa84f2594abad5b6ee6e60e",
            "7b8d5e504626447fac48a71303a0f24e",
            "af039dc020fd4f17b602c14444cff14b",
            "d96e9938ee2046ef8a07954da873fc3b",
            "f03edf22e0b0471eb150dbb9067ffc65",
            "6993506824d04989a33333c6abc66857",
            "1c696b5e34c44168ad9f1358f271d676",
            "bd65f49385af4b9db7ac5d8d57f1467a",
            "8be5e842f20d41848e7b1d6c918cad77",
            "bb828538447d40149a8b7c0fbb6b52ef",
            "72109e197dc14f359d4f87df1d90a877",
            "794ad8dfa336451d822e7d3fcbe1f086",
            "8cfdf1e1066f42b7a079bdf46ed694ab",
            "383d9a9ae40b44c3a684dfc03887ee2a",
            "c3d877cd67064552ad6d104eadb966a3",
            "2a1921953baa46f092a24bc913bfc416",
            "a1c7027ab39843549c0d121772bce930",
            "57da3171a4394a47807e4feb96284a7d",
            "a2717e07d1ca4e968f41c68958419a59",
            "c212596fff144cf5a3be0a51d757c16b",
            "145b77ad1a2b4e5789ef3d6c6f5fb45d",
            "da8b8963718e4420ac4f6e806bc6347b",
            "afdefe5ed98543faa32547755ffcdb3d",
            "0f9e8393fbcc4e5fba7d7164dd5f8edb",
            "674e74b26bc04a9b99b5bb0c4bf5a2a2",
            "1e687038e30849d0b580cea98c1ffe8a",
            "7c84b67e1f5744a887f78104f83edc6d",
            "85e4b0e1db0745e4900d567453da322c",
            "ea5871149d4e4d81ab4a4313300b64c5",
            "5074179f430946e98511b785ae46b55e",
            "ed807c0af0c04ee7872656bf7c1b97c2",
            "baab2746e52a42ffb844184187d9aace",
            "414dbb7ca96248109c07cf1918613c49",
            "7a737885942e4a2b8fcc514f88aa5690",
            "69c2c2e81f3847b2a47ad1c386ecd28d",
            "4387e73b7f494114972d1224f36beed7",
            "d4512e96ce0f4c08b4d21be11c069bd9",
            "1980cd5491044fe8b24fdb823bc53365",
            "c8ef48963bca4ac68a3a7d7cf288a7fe",
            "d6b7a33f89084422861f116bf9478ffe",
            "7a8b078e429b42d2bca684ec90e0a910",
            "ca0676f7278d47929080d75c1893488f",
            "2d0df85374034ccfb0d09f593cecf879",
            "c0e3f4509bf044d5b29f774414d229e1",
            "c36858b7395c4303b9faa5eac75b3dad",
            "4e1c2e9e9cdc4358b86ae4b9e37d00f4",
            "19fdcd08adb64e75808fecf83b839745",
            "20bc3d1db57c4c188447951fd19f49d3",
            "3bbef8f94bdf4c088cc6315c2e369bea",
            "c1ac2cf44f4d4eafba14d8573f487f47",
            "03ae5ca17b7f46de960d901f7ef8295f",
            "808b88c5cc0d40f69eed2c80768a6b60",
            "9197fa6c53a34b709dd2df7e9d291d8e",
            "8aca3390e4ee4dd1a0ff7558e6cc6a19",
            "16d17e7d63b34a21930b9200ed115dd3"
          ]
        },
        "outputId": "d0832bff-b602-4471-a8ca-440bb41e8183"
      },
      "outputs": [
        {
          "output_type": "display_data",
          "data": {
            "text/plain": [
              "README.md:   0%|          | 0.00/7.81k [00:00<?, ?B/s]"
            ],
            "application/vnd.jupyter.widget-view+json": {
              "version_major": 2,
              "version_minor": 0,
              "model_id": "1ca1454a54f345b2aa89a6eb44bd55a1"
            }
          },
          "metadata": {}
        },
        {
          "output_type": "display_data",
          "data": {
            "text/plain": [
              "train-00000-of-00001.parquet:   0%|          | 0.00/21.0M [00:00<?, ?B/s]"
            ],
            "application/vnd.jupyter.widget-view+json": {
              "version_major": 2,
              "version_minor": 0,
              "model_id": "1e623b21a3654ca68510fa5c86dfb549"
            }
          },
          "metadata": {}
        },
        {
          "output_type": "display_data",
          "data": {
            "text/plain": [
              "test-00000-of-00001.parquet:   0%|          | 0.00/20.5M [00:00<?, ?B/s]"
            ],
            "application/vnd.jupyter.widget-view+json": {
              "version_major": 2,
              "version_minor": 0,
              "model_id": "330b414dcaa84f2594abad5b6ee6e60e"
            }
          },
          "metadata": {}
        },
        {
          "output_type": "display_data",
          "data": {
            "text/plain": [
              "unsupervised-00000-of-00001.parquet:   0%|          | 0.00/42.0M [00:00<?, ?B/s]"
            ],
            "application/vnd.jupyter.widget-view+json": {
              "version_major": 2,
              "version_minor": 0,
              "model_id": "794ad8dfa336451d822e7d3fcbe1f086"
            }
          },
          "metadata": {}
        },
        {
          "output_type": "display_data",
          "data": {
            "text/plain": [
              "Generating train split:   0%|          | 0/25000 [00:00<?, ? examples/s]"
            ],
            "application/vnd.jupyter.widget-view+json": {
              "version_major": 2,
              "version_minor": 0,
              "model_id": "afdefe5ed98543faa32547755ffcdb3d"
            }
          },
          "metadata": {}
        },
        {
          "output_type": "display_data",
          "data": {
            "text/plain": [
              "Generating test split:   0%|          | 0/25000 [00:00<?, ? examples/s]"
            ],
            "application/vnd.jupyter.widget-view+json": {
              "version_major": 2,
              "version_minor": 0,
              "model_id": "7a737885942e4a2b8fcc514f88aa5690"
            }
          },
          "metadata": {}
        },
        {
          "output_type": "display_data",
          "data": {
            "text/plain": [
              "Generating unsupervised split:   0%|          | 0/50000 [00:00<?, ? examples/s]"
            ],
            "application/vnd.jupyter.widget-view+json": {
              "version_major": 2,
              "version_minor": 0,
              "model_id": "c36858b7395c4303b9faa5eac75b3dad"
            }
          },
          "metadata": {}
        }
      ],
      "source": [
        "from transformers import Trainer, TrainingArguments\n",
        "from datasets import load_dataset\n",
        "\n",
        "dataset = load_dataset('imdb')"
      ]
    },
    {
      "cell_type": "code",
      "execution_count": 20,
      "id": "ce435d46",
      "metadata": {
        "id": "ce435d46",
        "colab": {
          "base_uri": "https://localhost:8080/"
        },
        "outputId": "016fdbdc-3e7f-4d63-95ed-bc5c2fdf7282"
      },
      "outputs": [
        {
          "output_type": "stream",
          "name": "stdout",
          "text": [
            "Training set:\n",
            "{'text': 'I rented I AM CURIOUS-YELLOW from my video store because of all the controversy that surrounded it when it was first released in 1967. I also heard that at first it was seized by U.S. customs if it ever tried to enter this country, therefore being a fan of films considered \"controversial\" I really had to see this for myself.<br /><br />The plot is centered around a young Swedish drama student named Lena who wants to learn everything she can about life. In particular she wants to focus her attentions to making some sort of documentary on what the average Swede thought about certain political issues such as the Vietnam War and race issues in the United States. In between asking politicians and ordinary denizens of Stockholm about their opinions on politics, she has sex with her drama teacher, classmates, and married men.<br /><br />What kills me about I AM CURIOUS-YELLOW is that 40 years ago, this was considered pornographic. Really, the sex and nudity scenes are few and far between, even then it\\'s not shot like some cheaply made porno. While my countrymen mind find it shocking, in reality sex and nudity are a major staple in Swedish cinema. Even Ingmar Bergman, arguably their answer to good old boy John Ford, had sex scenes in his films.<br /><br />I do commend the filmmakers for the fact that any sex shown in the film is shown for artistic purposes rather than just to shock people and make money to be shown in pornographic theaters in America. I AM CURIOUS-YELLOW is a good film for anyone wanting to study the meat and potatoes (no pun intended) of Swedish cinema. But really, this film doesn\\'t have much of a plot.', 'label': 0}\n",
            "Number of training examples: 25000\n",
            "Number of test examples: 25000\n",
            "Label distribution: {0: 12500, 1: 12500}\n"
          ]
        }
      ],
      "source": [
        "print(\"Training set:\")\n",
        "print(dataset['train'][0])\n",
        "print(\"Number of training examples:\", len(dataset['train']))\n",
        "print(\"Number of test examples:\", len(dataset['test']))\n",
        "\n",
        "# Check the label distribution\n",
        "labels = [example['label'] for example in dataset['train']]\n",
        "label_counts = {label: labels.count(label) for label in set(labels)}\n",
        "print(\"Label distribution:\", label_counts)"
      ]
    },
    {
      "cell_type": "code",
      "execution_count": 21,
      "id": "a6dcd507",
      "metadata": {
        "id": "a6dcd507"
      },
      "outputs": [],
      "source": [
        "from datasets import load_dataset, DatasetDict\n",
        "\n",
        "def get_sampled_dataset(dataset, num_samples=1000):\n",
        "    # Create a dictionary to hold the sampled splits\n",
        "    sampled_dataset_dict = {}\n",
        "    for split in ['train', 'test']:\n",
        "        # Shuffle and select a subset of the data\n",
        "        sampled_data = dataset[split].shuffle(seed=42).select(range(num_samples))\n",
        "        # Add the sampled data to the dictionary\n",
        "        sampled_dataset_dict[split] = sampled_data\n",
        "\n",
        "    # Return as a DatasetDict\n",
        "    return DatasetDict(sampled_dataset_dict)"
      ]
    },
    {
      "cell_type": "code",
      "execution_count": 22,
      "id": "1330eaa1",
      "metadata": {
        "id": "1330eaa1"
      },
      "outputs": [],
      "source": [
        "num_samples = 1000\n",
        "\n",
        "# Get the sampled dataset\n",
        "dataset = get_sampled_dataset(dataset, num_samples=num_samples)"
      ]
    },
    {
      "cell_type": "markdown",
      "id": "4c255a0d",
      "metadata": {
        "id": "4c255a0d"
      },
      "source": [
        "### Task 3\n",
        " Train a BERT model for sentiment classification on the IMDB dataset, explore the dataset, understand training parameters, and compare baseline and optimized pipelines.\n",
        " Which metric is more appropriate for this task? Why? Try to achieve accuracy 0.86 and F1 0.85."
      ]
    },
    {
      "cell_type": "code",
      "execution_count": null,
      "id": "2de3bba0",
      "metadata": {
        "id": "2de3bba0",
        "colab": {
          "base_uri": "https://localhost:8080/",
          "height": 81,
          "referenced_widgets": [
            "ed32846ad7524581a46e132901e0dda3",
            "06a348559cff49cc876c9fade3647d5e",
            "fea24594c6b44460a66696484176e2a9",
            "d3a4aa7aceb74008b320d47e12cb46d4",
            "23dac0ee7b304194b968bc00467f5927",
            "317d746d746c481d9540bb8b896c2813",
            "c505070de20542908b1fb943360d1fd5",
            "12f45f086a8b436582ea4ed259d7b297",
            "af5dcaa9bef74fabb13e1629a6bd39ba",
            "53a6ca0e90a747e19179519b6a47bd7b",
            "ffa74570abc746f89ecc0efc861f2e7a",
            "0434e9dd6cae476fb64a5c9cf6aac49a",
            "dbffbdcb5b0c477a850c34ea977f817c",
            "5a28f5eff8c54d4ea5d63009ebe37d32",
            "09d90f96de044287a32f7e37f7267f41",
            "6acf64899e2e4d7f83741515e5b6149a",
            "f1f90595fa2d4ef089ddf3d1ae9af6c1",
            "59d9f7d315f9476aa218c6ab0d12a28c",
            "155da489580c4ae48d7e206311f96964",
            "d539713a0e3f496bba0cd37e2ee693ad",
            "ccb238b9978f448a8ae48f4f6db92bdc",
            "d46036ad3b944f728978d43264f7e18a"
          ]
        },
        "outputId": "feebc92f-6790-442b-ba21-ab684a248103"
      },
      "outputs": [
        {
          "output_type": "display_data",
          "data": {
            "text/plain": [
              "Map:   0%|          | 0/1000 [00:00<?, ? examples/s]"
            ],
            "application/vnd.jupyter.widget-view+json": {
              "version_major": 2,
              "version_minor": 0,
              "model_id": "ed32846ad7524581a46e132901e0dda3"
            }
          },
          "metadata": {}
        },
        {
          "output_type": "display_data",
          "data": {
            "text/plain": [
              "Map:   0%|          | 0/1000 [00:00<?, ? examples/s]"
            ],
            "application/vnd.jupyter.widget-view+json": {
              "version_major": 2,
              "version_minor": 0,
              "model_id": "0434e9dd6cae476fb64a5c9cf6aac49a"
            }
          },
          "metadata": {}
        }
      ],
      "source": [
        "def tokenize_function(examples):\n",
        "    return tokenizer(examples['text'], padding='max_length', truncation=True, max_length=128)\n",
        "\n",
        "tokenized_datasets = dataset.map(tokenize_function, batched=True)\n",
        "tokenized_datasets.set_format('torch', columns=['input_ids', 'attention_mask', 'label'])"
      ]
    },
    {
      "cell_type": "markdown",
      "id": "79b64d82",
      "metadata": {
        "id": "79b64d82"
      },
      "source": [
        "#### Baseline"
      ]
    },
    {
      "cell_type": "code",
      "execution_count": null,
      "id": "defb44d4",
      "metadata": {
        "id": "defb44d4"
      },
      "outputs": [],
      "source": [
        "from transformers import BertTokenizer, BertForSequenceClassification\n",
        "from transformers import default_data_collator\n",
        "from datasets import load_dataset\n",
        "from transformers import Trainer, TrainingArguments\n",
        "import numpy as np\n",
        "from sklearn.metrics import accuracy_score, f1_score\n",
        "\n",
        "def compute_metrics(p):\n",
        "    predictions = np.argmax(p.predictions, axis=1)\n",
        "    accuracy = accuracy_score(p.label_ids, predictions)\n",
        "    f1 = f1_score(p.label_ids, predictions, average='weighted')\n",
        "    return {\n",
        "        'accuracy': accuracy,\n",
        "        'f1': f1\n",
        "    }\n",
        "\n",
        "# Define the Trainer for evaluation\n",
        "training_args = TrainingArguments(\n",
        "    per_device_eval_batch_size=8,\n",
        "    output_dir='./results',\n",
        "    evaluation_strategy='epoch',\n",
        ")\n",
        "\n",
        "trainer = Trainer(\n",
        "    model=model,\n",
        "    args=training_args,\n",
        "    eval_dataset=tokenized_datasets['test'],\n",
        "    data_collator=default_data_collator,\n",
        "    compute_metrics=compute_metrics,\n",
        ")\n",
        "\n",
        "# Evaluate the pre-trained model\n",
        "eval_results = trainer.evaluate()\n",
        "print(\"Initial Evaluation Results:\", eval_results)"
      ]
    },
    {
      "cell_type": "markdown",
      "id": "ece120fc",
      "metadata": {
        "id": "ece120fc"
      },
      "source": [
        "### Task 3. Continue"
      ]
    },
    {
      "cell_type": "code",
      "execution_count": null,
      "id": "fa3c1cf8",
      "metadata": {
        "id": "fa3c1cf8"
      },
      "outputs": [],
      "source": [
        "from datasets import load_metric\n",
        "import torch\n",
        "\n",
        "# Define metrics\n",
        "metric = load_metric('accuracy')\n",
        "\n",
        "# Define training arguments\n",
        "training_args = TrainingArguments(\n",
        "    output_dir='./results',\n",
        "    evaluation_strategy='epoch',\n",
        "    learning_rate=2e-5,\n",
        "    per_device_train_batch_size=8,\n",
        "    per_device_eval_batch_size=8,\n",
        "    num_train_epochs=3,\n",
        "    weight_decay=0.01,\n",
        "    logging_dir='./logs',\n",
        "    logging_steps=10,\n",
        ")\n",
        "\n",
        "# Define the Trainer\n",
        "trainer = Trainer(\n",
        "    model=model,\n",
        "    args=training_args,\n",
        "    train_dataset=tokenized_datasets['train'],\n",
        "    eval_dataset=tokenized_datasets['test'],\n",
        "    data_collator=default_data_collator,\n",
        "    compute_metrics=compute_metrics,\n",
        ")\n",
        "\n",
        "# Train the model\n",
        "trainer.train()\n",
        "\n",
        "# Evaluate the model\n",
        "eval_results = trainer.evaluate()\n",
        "print(\"Evaluation Results:\", eval_results)"
      ]
    },
    {
      "cell_type": "markdown",
      "id": "cc1d18fe",
      "metadata": {
        "id": "cc1d18fe"
      },
      "source": [
        "## What about Images? How do they relate to the text?\n",
        "### Relationship Between Image and Text Embeddings:\n",
        "\n",
        "- Multimodal Learning: To bridge the gap between image and text data, multimodal learning approaches are employed. These approaches aim to create shared representations where both image and text data can be compared and analyzed in a unified space.\n",
        "- Joint Embedding Spaces: In a joint embedding space, both image and text embeddings are mapped to a common vector space. This allows for comparisons between text and images, enabling tasks like image captioning, visual question answering, and cross-modal retrieval.\n",
        "- Cross-Modal Retrieval: This involves retrieving relevant images given a text query or vice versa. For example, a model might return images related to a textual description or generate a textual description for a given image by comparing their embeddings in the joint space.\n",
        "- Attention Mechanisms: Modern models like transformers use attention mechanisms to align and relate image and text embeddings effectively. For instance, the Vision-Language Pre-trained (VLP) models leverage attention to create rich, contextually aware representations of both modalities.\n",
        "\n",
        "### Applications:\n",
        "\n",
        "- Image Captioning: Generating textual descriptions for images by understanding and interpreting the visual content.\n",
        "- Visual Question Answering (VQA): Answering questions about an image by interpreting both the visual content and the textual question.\n",
        "- Cross-Modal Retrieval: Finding relevant images based on textual queries or generating text descriptions for images."
      ]
    },
    {
      "cell_type": "markdown",
      "source": [
        "## What is CLIP?\n",
        "\n",
        "CLIP (Contrastive Language-Image Pre-training) is a deep learning model that combines computer vision and natural language processing (NLP) to learn a joint representation of images and text.\n",
        "\n",
        "Developed by OpenAI, CLIP is a type of multimodal model that can be fine-tuned for various downstream tasks, such as:\n",
        "\n",
        "- Image-text matching: Given an image and a text description, CLIP can predict whether the text accurately describes the image.\n",
        "- Image classification: CLIP can be used for image classification tasks, such as object detection, scene understanding, and image captioning.\n",
        "- Text-to-image synthesis: CLIP can be used to generate images from text descriptions.\n",
        "\n",
        "CLIP is trained on a massive dataset of images and text pairs, using a contrastive learning objective. The model learns to predict whether a given text description matches an image, by contrasting the similarity between the text and image embeddings."
      ],
      "metadata": {
        "id": "j8NjOsJLM81j"
      },
      "id": "j8NjOsJLM81j"
    },
    {
      "cell_type": "code",
      "execution_count": null,
      "id": "cda1f228",
      "metadata": {
        "id": "cda1f228"
      },
      "outputs": [],
      "source": [
        "from transformers import AutoTokenizer, CLIPModel, AutoProcessor\n",
        "\n",
        "model = CLIPModel.from_pretrained(\"openai/clip-vit-base-patch32\")\n",
        "tokenizer = AutoTokenizer.from_pretrained(\"openai/clip-vit-base-patch32\")\n",
        "\n",
        "inputs = tokenizer([\"a photo of a cat\", \"a photo of a dog\"], padding=True, return_tensors=\"pt\")\n",
        "\n",
        "text_embeds = model.get_text_features(**inputs)\n",
        "text_embeds"
      ]
    },
    {
      "cell_type": "code",
      "execution_count": null,
      "id": "b702449c",
      "metadata": {
        "id": "b702449c"
      },
      "outputs": [],
      "source": [
        "from PIL import Image\n",
        "import requests\n",
        "\n",
        "url = \"http://images.cocodataset.org/val2017/000000039769.jpg\"\n",
        "image = Image.open(requests.get(url, stream=True).raw)\n",
        "image"
      ]
    },
    {
      "cell_type": "markdown",
      "id": "8784ec5f",
      "metadata": {
        "id": "8784ec5f"
      },
      "source": [
        "### Task 4\n",
        "Extract  image features"
      ]
    },
    {
      "cell_type": "code",
      "execution_count": null,
      "id": "eca19352",
      "metadata": {
        "id": "eca19352"
      },
      "outputs": [],
      "source": [
        "processor = AutoProcessor.from_pretrained(\"openai/clip-vit-large-patch14\")\n",
        "\n",
        "inputs = processor(images=image, return_tensors=\"pt\")\n",
        "\n",
        "image_features = model.get_image_features(**inputs)\n",
        "image_features"
      ]
    },
    {
      "cell_type": "markdown",
      "id": "4b9b5ece",
      "metadata": {
        "id": "4b9b5ece"
      },
      "source": [
        "### Task 5\n",
        "Use 'magic' to understand what is shown in the picture. Hint: you can use cosine similarity, higher results correspond to higher probability."
      ]
    },
    {
      "cell_type": "code",
      "execution_count": null,
      "id": "6280c1ba",
      "metadata": {
        "id": "6280c1ba"
      },
      "outputs": [],
      "source": [
        "import torch\n",
        "\n",
        "torch.matmul(text_embeds, image_features.t())"
      ]
    },
    {
      "cell_type": "code",
      "execution_count": null,
      "id": "e5c0da45",
      "metadata": {
        "id": "e5c0da45"
      },
      "outputs": [],
      "source": [
        "def cosine_similarity(embedding1, embedding2):\n",
        "    return torch.nn.functional.cosine_similarity(embedding1, embedding2)\n",
        "\n",
        "similarity = cosine_similarity(image_features, text_embeds)\n",
        "print(f\"Cosine similarity between image and text: {similarity}\")"
      ]
    },
    {
      "cell_type": "markdown",
      "source": [
        "# Word2Vec training\n",
        "\n",
        "Your task is to train a Word2Vec model on the Simpsons dialog dataset to obtain word embeddings, and then use these embeddings to find similar words and words that do not match.\n",
        "\n",
        "You will dive into the world of America's favorite animated family - The Simpsons! You'll be working with a unique dataset that contains a vast collection of Simpsons dialogs, spanning over 600 episodes, from 1989 to present.\n",
        "\n",
        "In this task, you will be asked to:\n",
        "\n",
        "- Preprocess the dataset to prepare it for analysis\n",
        "- Apply NLP techniques to extract insights from the dialogues"
      ],
      "metadata": {
        "id": "1HWbFwyaEldi"
      },
      "id": "1HWbFwyaEldi"
    },
    {
      "cell_type": "code",
      "source": [
        "import re\n",
        "import pandas as pd\n",
        "from time import time\n",
        "from collections import defaultdict\n",
        "import spacy"
      ],
      "metadata": {
        "id": "PQZonXDIEown"
      },
      "id": "PQZonXDIEown",
      "execution_count": null,
      "outputs": []
    },
    {
      "cell_type": "code",
      "source": [
        "!python -m spacy download en_core_web_sm\n",
        "!wget https://raw.githubusercontent.com/Dnau15/LabImages/main/data/txt_data/simpsons_dataset.csv"
      ],
      "metadata": {
        "id": "49NirM1EErcQ"
      },
      "id": "49NirM1EErcQ",
      "execution_count": null,
      "outputs": []
    },
    {
      "cell_type": "code",
      "source": [
        "df = pd.read_csv('simpsons_dataset.csv')\n",
        "df.shape"
      ],
      "metadata": {
        "id": "onJpdqVJEreN"
      },
      "id": "onJpdqVJEreN",
      "execution_count": null,
      "outputs": []
    },
    {
      "cell_type": "code",
      "source": [
        "df.head()"
      ],
      "metadata": {
        "id": "uoQhOnl6ErgH"
      },
      "id": "uoQhOnl6ErgH",
      "execution_count": null,
      "outputs": []
    },
    {
      "cell_type": "code",
      "source": [
        "df.isnull().sum()"
      ],
      "metadata": {
        "id": "idiVaFqfErh9"
      },
      "id": "idiVaFqfErh9",
      "execution_count": null,
      "outputs": []
    },
    {
      "cell_type": "code",
      "source": [
        "df = df.dropna().reset_index(drop=True)\n",
        "df.isnull().sum()"
      ],
      "metadata": {
        "id": "UpteEi6xErjx"
      },
      "id": "UpteEi6xErjx",
      "execution_count": null,
      "outputs": []
    },
    {
      "cell_type": "code",
      "source": [
        "nlp = spacy.load(\"en_core_web_sm\")"
      ],
      "metadata": {
        "id": "yMc0O4DcF-uH"
      },
      "id": "yMc0O4DcF-uH",
      "execution_count": null,
      "outputs": []
    },
    {
      "cell_type": "code",
      "source": [
        "nlp = spacy.load('en_core_web_sm', disable=['ner', 'parser']) # disabling Named Entity Recognition for speed\n",
        "\n",
        "def cleaning(doc):\n",
        "    # Lemmatizes and removes stopwords\n",
        "    # doc needs to be a spacy Doc object\n",
        "    txt = [token.lemma_ for token in doc if not token.is_stop]\n",
        "    # Word2Vec uses context words to learn the vector representation of a target word,\n",
        "    # if a sentence is only one or two words long,\n",
        "    # the benefit for the training is very small\n",
        "    if len(txt) > 2:\n",
        "        return ' '.join(txt)"
      ],
      "metadata": {
        "id": "9LhKyMKpErl0"
      },
      "id": "9LhKyMKpErl0",
      "execution_count": null,
      "outputs": []
    },
    {
      "cell_type": "code",
      "source": [
        "brief_cleaning = (re.sub(\"[^A-Za-z']+\", ' ', str(row)).lower() for row in df['spoken_words'])"
      ],
      "metadata": {
        "id": "G0CSIdLiErni"
      },
      "id": "G0CSIdLiErni",
      "execution_count": null,
      "outputs": []
    },
    {
      "cell_type": "code",
      "source": [
        "txt = [cleaning(doc) for doc in nlp.pipe(brief_cleaning, batch_size=5000)]"
      ],
      "metadata": {
        "id": "VITI2tzKErq-"
      },
      "id": "VITI2tzKErq-",
      "execution_count": null,
      "outputs": []
    },
    {
      "cell_type": "code",
      "source": [
        "df_clean = pd.DataFrame({'clean': txt})\n",
        "df_clean = df_clean.dropna().drop_duplicates()\n",
        "df_clean.shape"
      ],
      "metadata": {
        "id": "CYra7ijDFDj6"
      },
      "id": "CYra7ijDFDj6",
      "execution_count": null,
      "outputs": []
    },
    {
      "cell_type": "markdown",
      "source": [
        "We are using Gensim Phrases package to automatically detect common phrases (bigrams) from a list of sentences. https://radimrehurek.com/gensim/models/phrases.html\n",
        "\n",
        "The main reason we do this is to catch words like \"mr_burns\" or \"bart_simpson\" !"
      ],
      "metadata": {
        "id": "1cSXDnh6N8XX"
      },
      "id": "1cSXDnh6N8XX"
    },
    {
      "cell_type": "code",
      "source": [
        "from gensim.models.phrases import Phrases, Phraser\n",
        "\n",
        "sent = [row.split() for row in df_clean['clean']]\n",
        "phrases = Phrases(sent, min_count=30, progress_per=10000)\n",
        "bigram = Phraser(phrases)\n",
        "sentences = bigram[sent]"
      ],
      "metadata": {
        "id": "oojIafp4FDmf"
      },
      "id": "oojIafp4FDmf",
      "execution_count": null,
      "outputs": []
    },
    {
      "cell_type": "markdown",
      "source": [
        "# Task 6\n",
        "Find frequency of each word and then find top-10 most frequence words."
      ],
      "metadata": {
        "id": "YsIP6Wz-TQSo"
      },
      "id": "YsIP6Wz-TQSo"
    },
    {
      "cell_type": "code",
      "source": [
        "word_freq = defaultdict(int)\n",
        "for sent in sentences:\n",
        "    for i in sent:\n",
        "        word_freq[i] += 1\n",
        "len(word_freq)"
      ],
      "metadata": {
        "id": "NU7pfQaQFDop"
      },
      "id": "NU7pfQaQFDop",
      "execution_count": null,
      "outputs": []
    },
    {
      "cell_type": "code",
      "source": [
        "sorted(word_freq, key=word_freq.get, reverse=True)[:10]"
      ],
      "metadata": {
        "id": "_PQ9dx31FDq3"
      },
      "id": "_PQ9dx31FDq3",
      "execution_count": null,
      "outputs": []
    },
    {
      "cell_type": "markdown",
      "source": [
        "# Task 7\n",
        "\n",
        "Train Word2Vec model and then complete subtasks"
      ],
      "metadata": {
        "id": "EN82jtqwTZ_6"
      },
      "id": "EN82jtqwTZ_6"
    },
    {
      "cell_type": "code",
      "source": [
        "from gensim.models import Word2Vec\n",
        "\n",
        "w2v_model = Word2Vec(min_count=20,\n",
        "                     window=2,\n",
        "                     sample=6e-5,\n",
        "                     alpha=0.03,\n",
        "                     min_alpha=0.0007,\n",
        "                     negative=20,\n",
        "                     vector_size=300,\n",
        "                     workers=6)"
      ],
      "metadata": {
        "id": "LppapneeFDuK"
      },
      "id": "LppapneeFDuK",
      "execution_count": null,
      "outputs": []
    },
    {
      "cell_type": "code",
      "source": [
        "w2v_model.build_vocab(sentences, progress_per=10000)"
      ],
      "metadata": {
        "id": "2cK5dsU5FOQY"
      },
      "id": "2cK5dsU5FOQY",
      "execution_count": null,
      "outputs": []
    },
    {
      "cell_type": "code",
      "source": [
        "w2v_model.train(sentences, total_examples=w2v_model.corpus_count, epochs=30, report_delay=1)"
      ],
      "metadata": {
        "id": "wVTNTf85FOTG"
      },
      "id": "wVTNTf85FOTG",
      "execution_count": null,
      "outputs": []
    },
    {
      "cell_type": "code",
      "source": [
        "w2v_model.init_sims(replace=True)"
      ],
      "metadata": {
        "id": "GWcg2SqWFT8j"
      },
      "id": "GWcg2SqWFT8j",
      "execution_count": null,
      "outputs": []
    },
    {
      "cell_type": "markdown",
      "source": [
        "Analyse and try to understand the difference between synonyms between \"homer\" and \"home simpson\""
      ],
      "metadata": {
        "id": "b8ien-_tUiC3"
      },
      "id": "b8ien-_tUiC3"
    },
    {
      "cell_type": "code",
      "source": [
        "w2v_model.wv.most_similar(positive=[\"homer\"])"
      ],
      "metadata": {
        "id": "68WUKO1iFT-o"
      },
      "id": "68WUKO1iFT-o",
      "execution_count": null,
      "outputs": []
    },
    {
      "cell_type": "code",
      "source": [
        "w2v_model.wv.most_similar(positive=[\"homer_simpson\"])"
      ],
      "metadata": {
        "id": "XDYTYBxwFUCE"
      },
      "id": "XDYTYBxwFUCE",
      "execution_count": null,
      "outputs": []
    },
    {
      "cell_type": "code",
      "source": [
        "w2v_model.wv.most_similar(positive=[\"marge\"])"
      ],
      "metadata": {
        "id": "eMutvDnsFOWD"
      },
      "id": "eMutvDnsFOWD",
      "execution_count": null,
      "outputs": []
    },
    {
      "cell_type": "code",
      "source": [
        "w2v_model.wv.most_similar(positive=[\"bart\"])"
      ],
      "metadata": {
        "id": "yYV09eMXFYe7"
      },
      "id": "yYV09eMXFYe7",
      "execution_count": null,
      "outputs": []
    },
    {
      "cell_type": "markdown",
      "source": [
        "Which word is to woman as homer is to marge? Is your answer meaningful? Try to proof\n"
      ],
      "metadata": {
        "id": "jljl98uGSrDb"
      },
      "id": "jljl98uGSrDb"
    },
    {
      "cell_type": "code",
      "source": [
        "w2v_model.wv.most_similar(positive=[\"woman\", \"bart\"], negative=[\"man\"], topn=3)"
      ],
      "metadata": {
        "id": "Is1TXRDyS1WC"
      },
      "id": "Is1TXRDyS1WC",
      "execution_count": null,
      "outputs": []
    },
    {
      "cell_type": "markdown",
      "id": "0e7a0791",
      "metadata": {
        "id": "0e7a0791"
      },
      "source": [
        "# Conclusion\n",
        "\n",
        "Throughout this lesson, we've delved into the world of word embeddings and their applications in Natural Language Processing. We've explored various techniques, each offering unique advantages and insights into how computers understand and process human language.\n",
        "\n",
        "- Embedding. Word embeddings are foundational in NLP, transforming words into dense vectors that capture semantic relationships. These embeddings enable machines to grasp meanings and contexts, enhancing tasks like language modeling, sentiment analysis, and information retrieval.\n",
        "- Distributional Semantics. Theory positing that words with similar meanings occur in similar contexts. This concept underpins the creation of embeddings by leveraging large corpora to learn associations between words.\n",
        "- Word2Vec. We explored both Continuous Bag of Words (CBOW) and Skip-gram models, each tailored to predict context from a target word or vice versa, thereby capturing intricate semantic nuances.\n",
        "- fasttext. Extends Word2Vec by incorporating subword information. This innovation is particularly effective for handling morphologically rich languages and rare words, enhancing accuracy in tasks like named entity recognition and text classification.\n",
        "- GloVe. Stanford's algorithm employs global word co-occurrence statistics to generate embeddings. By focusing on the probabilities of word pairs appearing together, GloVe creates embeddings that reflect deeper semantic relationships, useful for tasks requiring nuanced understanding of language.\n",
        "- ChromaDB. Vector databases facilitate efficient storage and retrieval of embeddings. They support tasks such as similarity searches and clustering, crucial for applications ranging from personalized recommendations to large-scale data analytics.\n",
        "- The further learning of embedding includes contextual embeddings (BERT and transformers), multinomial embedding (integrating embeddings from text, images, and other data).\n",
        "\n",
        "In conclusion, the study of embeddings and their underlying techniques represents a pivotal advancement in NLP, driving innovations that redefine how we interact with and interpret human language.\n",
        "\n",
        "\n",
        "References:\n",
        "- https://www.kaggle.com/code/pierremegret/gensim-word2vec-tutorial"
      ]
    },
    {
      "cell_type": "code",
      "source": [],
      "metadata": {
        "id": "vMqgOFgcTFvk"
      },
      "id": "vMqgOFgcTFvk",
      "execution_count": null,
      "outputs": []
    }
  ],
  "metadata": {
    "kaggle": {
      "accelerator": "none",
      "dataSources": [
        {
          "databundleVersionId": 7819277,
          "sourceId": 71512,
          "sourceType": "competition"
        }
      ],
      "dockerImageVersionId": 30664,
      "isGpuEnabled": false,
      "isInternetEnabled": true,
      "language": "python",
      "sourceType": "notebook"
    },
    "kernelspec": {
      "display_name": "Python 3",
      "language": "python",
      "name": "python3"
    },
    "language_info": {
      "codemirror_mode": {
        "name": "ipython",
        "version": 3
      },
      "file_extension": ".py",
      "mimetype": "text/x-python",
      "name": "python",
      "nbconvert_exporter": "python",
      "pygments_lexer": "ipython3",
      "version": "3.11.8"
    },
    "papermill": {
      "default_parameters": {},
      "duration": 698.551223,
      "end_time": "2024-02-28T16:46:24.778747",
      "environment_variables": {},
      "exception": null,
      "input_path": "__notebook__.ipynb",
      "output_path": "__notebook__.ipynb",
      "parameters": {},
      "start_time": "2024-02-28T16:34:46.227524",
      "version": "2.5.0"
    },
    "colab": {
      "provenance": []
    },
    "widgets": {
      "application/vnd.jupyter.widget-state+json": {
        "aaf43cfa70bf453598088668461e251c": {
          "model_module": "@jupyter-widgets/controls",
          "model_name": "HBoxModel",
          "model_module_version": "1.5.0",
          "state": {
            "_dom_classes": [],
            "_model_module": "@jupyter-widgets/controls",
            "_model_module_version": "1.5.0",
            "_model_name": "HBoxModel",
            "_view_count": null,
            "_view_module": "@jupyter-widgets/controls",
            "_view_module_version": "1.5.0",
            "_view_name": "HBoxView",
            "box_style": "",
            "children": [
              "IPY_MODEL_ac1890ca7a0342bda32e2b714169fcf0",
              "IPY_MODEL_85dbdf25d4054913aa8bf6eb5c32008b",
              "IPY_MODEL_cedefb70dde24bbfb333c174e7152911"
            ],
            "layout": "IPY_MODEL_fbc32c5662bc47be8fb2382d8f728c13"
          }
        },
        "ac1890ca7a0342bda32e2b714169fcf0": {
          "model_module": "@jupyter-widgets/controls",
          "model_name": "HTMLModel",
          "model_module_version": "1.5.0",
          "state": {
            "_dom_classes": [],
            "_model_module": "@jupyter-widgets/controls",
            "_model_module_version": "1.5.0",
            "_model_name": "HTMLModel",
            "_view_count": null,
            "_view_module": "@jupyter-widgets/controls",
            "_view_module_version": "1.5.0",
            "_view_name": "HTMLView",
            "description": "",
            "description_tooltip": null,
            "layout": "IPY_MODEL_ad11d42f8b3e4e429f26e6871770e642",
            "placeholder": "​",
            "style": "IPY_MODEL_0631238f35104601a79a30aacfcc174b",
            "value": "tokenizer_config.json: 100%"
          }
        },
        "85dbdf25d4054913aa8bf6eb5c32008b": {
          "model_module": "@jupyter-widgets/controls",
          "model_name": "FloatProgressModel",
          "model_module_version": "1.5.0",
          "state": {
            "_dom_classes": [],
            "_model_module": "@jupyter-widgets/controls",
            "_model_module_version": "1.5.0",
            "_model_name": "FloatProgressModel",
            "_view_count": null,
            "_view_module": "@jupyter-widgets/controls",
            "_view_module_version": "1.5.0",
            "_view_name": "ProgressView",
            "bar_style": "success",
            "description": "",
            "description_tooltip": null,
            "layout": "IPY_MODEL_ba2605ecf45647ab999c10d36c35e412",
            "max": 48,
            "min": 0,
            "orientation": "horizontal",
            "style": "IPY_MODEL_56d6b6005b98469f9149e08769aa9a14",
            "value": 48
          }
        },
        "cedefb70dde24bbfb333c174e7152911": {
          "model_module": "@jupyter-widgets/controls",
          "model_name": "HTMLModel",
          "model_module_version": "1.5.0",
          "state": {
            "_dom_classes": [],
            "_model_module": "@jupyter-widgets/controls",
            "_model_module_version": "1.5.0",
            "_model_name": "HTMLModel",
            "_view_count": null,
            "_view_module": "@jupyter-widgets/controls",
            "_view_module_version": "1.5.0",
            "_view_name": "HTMLView",
            "description": "",
            "description_tooltip": null,
            "layout": "IPY_MODEL_78ef6fbde47c4762a1305dbb882bb192",
            "placeholder": "​",
            "style": "IPY_MODEL_64e12509bb514a56b79f12a3ab05eb12",
            "value": " 48.0/48.0 [00:00&lt;00:00, 592B/s]"
          }
        },
        "fbc32c5662bc47be8fb2382d8f728c13": {
          "model_module": "@jupyter-widgets/base",
          "model_name": "LayoutModel",
          "model_module_version": "1.2.0",
          "state": {
            "_model_module": "@jupyter-widgets/base",
            "_model_module_version": "1.2.0",
            "_model_name": "LayoutModel",
            "_view_count": null,
            "_view_module": "@jupyter-widgets/base",
            "_view_module_version": "1.2.0",
            "_view_name": "LayoutView",
            "align_content": null,
            "align_items": null,
            "align_self": null,
            "border": null,
            "bottom": null,
            "display": null,
            "flex": null,
            "flex_flow": null,
            "grid_area": null,
            "grid_auto_columns": null,
            "grid_auto_flow": null,
            "grid_auto_rows": null,
            "grid_column": null,
            "grid_gap": null,
            "grid_row": null,
            "grid_template_areas": null,
            "grid_template_columns": null,
            "grid_template_rows": null,
            "height": null,
            "justify_content": null,
            "justify_items": null,
            "left": null,
            "margin": null,
            "max_height": null,
            "max_width": null,
            "min_height": null,
            "min_width": null,
            "object_fit": null,
            "object_position": null,
            "order": null,
            "overflow": null,
            "overflow_x": null,
            "overflow_y": null,
            "padding": null,
            "right": null,
            "top": null,
            "visibility": null,
            "width": null
          }
        },
        "ad11d42f8b3e4e429f26e6871770e642": {
          "model_module": "@jupyter-widgets/base",
          "model_name": "LayoutModel",
          "model_module_version": "1.2.0",
          "state": {
            "_model_module": "@jupyter-widgets/base",
            "_model_module_version": "1.2.0",
            "_model_name": "LayoutModel",
            "_view_count": null,
            "_view_module": "@jupyter-widgets/base",
            "_view_module_version": "1.2.0",
            "_view_name": "LayoutView",
            "align_content": null,
            "align_items": null,
            "align_self": null,
            "border": null,
            "bottom": null,
            "display": null,
            "flex": null,
            "flex_flow": null,
            "grid_area": null,
            "grid_auto_columns": null,
            "grid_auto_flow": null,
            "grid_auto_rows": null,
            "grid_column": null,
            "grid_gap": null,
            "grid_row": null,
            "grid_template_areas": null,
            "grid_template_columns": null,
            "grid_template_rows": null,
            "height": null,
            "justify_content": null,
            "justify_items": null,
            "left": null,
            "margin": null,
            "max_height": null,
            "max_width": null,
            "min_height": null,
            "min_width": null,
            "object_fit": null,
            "object_position": null,
            "order": null,
            "overflow": null,
            "overflow_x": null,
            "overflow_y": null,
            "padding": null,
            "right": null,
            "top": null,
            "visibility": null,
            "width": null
          }
        },
        "0631238f35104601a79a30aacfcc174b": {
          "model_module": "@jupyter-widgets/controls",
          "model_name": "DescriptionStyleModel",
          "model_module_version": "1.5.0",
          "state": {
            "_model_module": "@jupyter-widgets/controls",
            "_model_module_version": "1.5.0",
            "_model_name": "DescriptionStyleModel",
            "_view_count": null,
            "_view_module": "@jupyter-widgets/base",
            "_view_module_version": "1.2.0",
            "_view_name": "StyleView",
            "description_width": ""
          }
        },
        "ba2605ecf45647ab999c10d36c35e412": {
          "model_module": "@jupyter-widgets/base",
          "model_name": "LayoutModel",
          "model_module_version": "1.2.0",
          "state": {
            "_model_module": "@jupyter-widgets/base",
            "_model_module_version": "1.2.0",
            "_model_name": "LayoutModel",
            "_view_count": null,
            "_view_module": "@jupyter-widgets/base",
            "_view_module_version": "1.2.0",
            "_view_name": "LayoutView",
            "align_content": null,
            "align_items": null,
            "align_self": null,
            "border": null,
            "bottom": null,
            "display": null,
            "flex": null,
            "flex_flow": null,
            "grid_area": null,
            "grid_auto_columns": null,
            "grid_auto_flow": null,
            "grid_auto_rows": null,
            "grid_column": null,
            "grid_gap": null,
            "grid_row": null,
            "grid_template_areas": null,
            "grid_template_columns": null,
            "grid_template_rows": null,
            "height": null,
            "justify_content": null,
            "justify_items": null,
            "left": null,
            "margin": null,
            "max_height": null,
            "max_width": null,
            "min_height": null,
            "min_width": null,
            "object_fit": null,
            "object_position": null,
            "order": null,
            "overflow": null,
            "overflow_x": null,
            "overflow_y": null,
            "padding": null,
            "right": null,
            "top": null,
            "visibility": null,
            "width": null
          }
        },
        "56d6b6005b98469f9149e08769aa9a14": {
          "model_module": "@jupyter-widgets/controls",
          "model_name": "ProgressStyleModel",
          "model_module_version": "1.5.0",
          "state": {
            "_model_module": "@jupyter-widgets/controls",
            "_model_module_version": "1.5.0",
            "_model_name": "ProgressStyleModel",
            "_view_count": null,
            "_view_module": "@jupyter-widgets/base",
            "_view_module_version": "1.2.0",
            "_view_name": "StyleView",
            "bar_color": null,
            "description_width": ""
          }
        },
        "78ef6fbde47c4762a1305dbb882bb192": {
          "model_module": "@jupyter-widgets/base",
          "model_name": "LayoutModel",
          "model_module_version": "1.2.0",
          "state": {
            "_model_module": "@jupyter-widgets/base",
            "_model_module_version": "1.2.0",
            "_model_name": "LayoutModel",
            "_view_count": null,
            "_view_module": "@jupyter-widgets/base",
            "_view_module_version": "1.2.0",
            "_view_name": "LayoutView",
            "align_content": null,
            "align_items": null,
            "align_self": null,
            "border": null,
            "bottom": null,
            "display": null,
            "flex": null,
            "flex_flow": null,
            "grid_area": null,
            "grid_auto_columns": null,
            "grid_auto_flow": null,
            "grid_auto_rows": null,
            "grid_column": null,
            "grid_gap": null,
            "grid_row": null,
            "grid_template_areas": null,
            "grid_template_columns": null,
            "grid_template_rows": null,
            "height": null,
            "justify_content": null,
            "justify_items": null,
            "left": null,
            "margin": null,
            "max_height": null,
            "max_width": null,
            "min_height": null,
            "min_width": null,
            "object_fit": null,
            "object_position": null,
            "order": null,
            "overflow": null,
            "overflow_x": null,
            "overflow_y": null,
            "padding": null,
            "right": null,
            "top": null,
            "visibility": null,
            "width": null
          }
        },
        "64e12509bb514a56b79f12a3ab05eb12": {
          "model_module": "@jupyter-widgets/controls",
          "model_name": "DescriptionStyleModel",
          "model_module_version": "1.5.0",
          "state": {
            "_model_module": "@jupyter-widgets/controls",
            "_model_module_version": "1.5.0",
            "_model_name": "DescriptionStyleModel",
            "_view_count": null,
            "_view_module": "@jupyter-widgets/base",
            "_view_module_version": "1.2.0",
            "_view_name": "StyleView",
            "description_width": ""
          }
        },
        "296b45aaa9f94ff7abcc67e488172ecd": {
          "model_module": "@jupyter-widgets/controls",
          "model_name": "HBoxModel",
          "model_module_version": "1.5.0",
          "state": {
            "_dom_classes": [],
            "_model_module": "@jupyter-widgets/controls",
            "_model_module_version": "1.5.0",
            "_model_name": "HBoxModel",
            "_view_count": null,
            "_view_module": "@jupyter-widgets/controls",
            "_view_module_version": "1.5.0",
            "_view_name": "HBoxView",
            "box_style": "",
            "children": [
              "IPY_MODEL_b6d2112b0676433d91be4b57c91b2eea",
              "IPY_MODEL_f17e75a013474a26820e2cddf58e981f",
              "IPY_MODEL_4534a56948cb405ebc4436b214baaa97"
            ],
            "layout": "IPY_MODEL_3b3af466bdef4fbebf1a5177602ceb1e"
          }
        },
        "b6d2112b0676433d91be4b57c91b2eea": {
          "model_module": "@jupyter-widgets/controls",
          "model_name": "HTMLModel",
          "model_module_version": "1.5.0",
          "state": {
            "_dom_classes": [],
            "_model_module": "@jupyter-widgets/controls",
            "_model_module_version": "1.5.0",
            "_model_name": "HTMLModel",
            "_view_count": null,
            "_view_module": "@jupyter-widgets/controls",
            "_view_module_version": "1.5.0",
            "_view_name": "HTMLView",
            "description": "",
            "description_tooltip": null,
            "layout": "IPY_MODEL_35c52a4a38324a3da45ec7693ab272b0",
            "placeholder": "​",
            "style": "IPY_MODEL_289f761856124e3d894e67b20e20c59d",
            "value": "vocab.txt: 100%"
          }
        },
        "f17e75a013474a26820e2cddf58e981f": {
          "model_module": "@jupyter-widgets/controls",
          "model_name": "FloatProgressModel",
          "model_module_version": "1.5.0",
          "state": {
            "_dom_classes": [],
            "_model_module": "@jupyter-widgets/controls",
            "_model_module_version": "1.5.0",
            "_model_name": "FloatProgressModel",
            "_view_count": null,
            "_view_module": "@jupyter-widgets/controls",
            "_view_module_version": "1.5.0",
            "_view_name": "ProgressView",
            "bar_style": "success",
            "description": "",
            "description_tooltip": null,
            "layout": "IPY_MODEL_992040b06dcc41e784c8dd8e7d9f852c",
            "max": 231508,
            "min": 0,
            "orientation": "horizontal",
            "style": "IPY_MODEL_ddd6f360d92e4d3eb5e3fc9e0ff629b7",
            "value": 231508
          }
        },
        "4534a56948cb405ebc4436b214baaa97": {
          "model_module": "@jupyter-widgets/controls",
          "model_name": "HTMLModel",
          "model_module_version": "1.5.0",
          "state": {
            "_dom_classes": [],
            "_model_module": "@jupyter-widgets/controls",
            "_model_module_version": "1.5.0",
            "_model_name": "HTMLModel",
            "_view_count": null,
            "_view_module": "@jupyter-widgets/controls",
            "_view_module_version": "1.5.0",
            "_view_name": "HTMLView",
            "description": "",
            "description_tooltip": null,
            "layout": "IPY_MODEL_6906a80f82304c488415c9b00dd38515",
            "placeholder": "​",
            "style": "IPY_MODEL_28823150debc48309ccb28414542b041",
            "value": " 232k/232k [00:00&lt;00:00, 2.23MB/s]"
          }
        },
        "3b3af466bdef4fbebf1a5177602ceb1e": {
          "model_module": "@jupyter-widgets/base",
          "model_name": "LayoutModel",
          "model_module_version": "1.2.0",
          "state": {
            "_model_module": "@jupyter-widgets/base",
            "_model_module_version": "1.2.0",
            "_model_name": "LayoutModel",
            "_view_count": null,
            "_view_module": "@jupyter-widgets/base",
            "_view_module_version": "1.2.0",
            "_view_name": "LayoutView",
            "align_content": null,
            "align_items": null,
            "align_self": null,
            "border": null,
            "bottom": null,
            "display": null,
            "flex": null,
            "flex_flow": null,
            "grid_area": null,
            "grid_auto_columns": null,
            "grid_auto_flow": null,
            "grid_auto_rows": null,
            "grid_column": null,
            "grid_gap": null,
            "grid_row": null,
            "grid_template_areas": null,
            "grid_template_columns": null,
            "grid_template_rows": null,
            "height": null,
            "justify_content": null,
            "justify_items": null,
            "left": null,
            "margin": null,
            "max_height": null,
            "max_width": null,
            "min_height": null,
            "min_width": null,
            "object_fit": null,
            "object_position": null,
            "order": null,
            "overflow": null,
            "overflow_x": null,
            "overflow_y": null,
            "padding": null,
            "right": null,
            "top": null,
            "visibility": null,
            "width": null
          }
        },
        "35c52a4a38324a3da45ec7693ab272b0": {
          "model_module": "@jupyter-widgets/base",
          "model_name": "LayoutModel",
          "model_module_version": "1.2.0",
          "state": {
            "_model_module": "@jupyter-widgets/base",
            "_model_module_version": "1.2.0",
            "_model_name": "LayoutModel",
            "_view_count": null,
            "_view_module": "@jupyter-widgets/base",
            "_view_module_version": "1.2.0",
            "_view_name": "LayoutView",
            "align_content": null,
            "align_items": null,
            "align_self": null,
            "border": null,
            "bottom": null,
            "display": null,
            "flex": null,
            "flex_flow": null,
            "grid_area": null,
            "grid_auto_columns": null,
            "grid_auto_flow": null,
            "grid_auto_rows": null,
            "grid_column": null,
            "grid_gap": null,
            "grid_row": null,
            "grid_template_areas": null,
            "grid_template_columns": null,
            "grid_template_rows": null,
            "height": null,
            "justify_content": null,
            "justify_items": null,
            "left": null,
            "margin": null,
            "max_height": null,
            "max_width": null,
            "min_height": null,
            "min_width": null,
            "object_fit": null,
            "object_position": null,
            "order": null,
            "overflow": null,
            "overflow_x": null,
            "overflow_y": null,
            "padding": null,
            "right": null,
            "top": null,
            "visibility": null,
            "width": null
          }
        },
        "289f761856124e3d894e67b20e20c59d": {
          "model_module": "@jupyter-widgets/controls",
          "model_name": "DescriptionStyleModel",
          "model_module_version": "1.5.0",
          "state": {
            "_model_module": "@jupyter-widgets/controls",
            "_model_module_version": "1.5.0",
            "_model_name": "DescriptionStyleModel",
            "_view_count": null,
            "_view_module": "@jupyter-widgets/base",
            "_view_module_version": "1.2.0",
            "_view_name": "StyleView",
            "description_width": ""
          }
        },
        "992040b06dcc41e784c8dd8e7d9f852c": {
          "model_module": "@jupyter-widgets/base",
          "model_name": "LayoutModel",
          "model_module_version": "1.2.0",
          "state": {
            "_model_module": "@jupyter-widgets/base",
            "_model_module_version": "1.2.0",
            "_model_name": "LayoutModel",
            "_view_count": null,
            "_view_module": "@jupyter-widgets/base",
            "_view_module_version": "1.2.0",
            "_view_name": "LayoutView",
            "align_content": null,
            "align_items": null,
            "align_self": null,
            "border": null,
            "bottom": null,
            "display": null,
            "flex": null,
            "flex_flow": null,
            "grid_area": null,
            "grid_auto_columns": null,
            "grid_auto_flow": null,
            "grid_auto_rows": null,
            "grid_column": null,
            "grid_gap": null,
            "grid_row": null,
            "grid_template_areas": null,
            "grid_template_columns": null,
            "grid_template_rows": null,
            "height": null,
            "justify_content": null,
            "justify_items": null,
            "left": null,
            "margin": null,
            "max_height": null,
            "max_width": null,
            "min_height": null,
            "min_width": null,
            "object_fit": null,
            "object_position": null,
            "order": null,
            "overflow": null,
            "overflow_x": null,
            "overflow_y": null,
            "padding": null,
            "right": null,
            "top": null,
            "visibility": null,
            "width": null
          }
        },
        "ddd6f360d92e4d3eb5e3fc9e0ff629b7": {
          "model_module": "@jupyter-widgets/controls",
          "model_name": "ProgressStyleModel",
          "model_module_version": "1.5.0",
          "state": {
            "_model_module": "@jupyter-widgets/controls",
            "_model_module_version": "1.5.0",
            "_model_name": "ProgressStyleModel",
            "_view_count": null,
            "_view_module": "@jupyter-widgets/base",
            "_view_module_version": "1.2.0",
            "_view_name": "StyleView",
            "bar_color": null,
            "description_width": ""
          }
        },
        "6906a80f82304c488415c9b00dd38515": {
          "model_module": "@jupyter-widgets/base",
          "model_name": "LayoutModel",
          "model_module_version": "1.2.0",
          "state": {
            "_model_module": "@jupyter-widgets/base",
            "_model_module_version": "1.2.0",
            "_model_name": "LayoutModel",
            "_view_count": null,
            "_view_module": "@jupyter-widgets/base",
            "_view_module_version": "1.2.0",
            "_view_name": "LayoutView",
            "align_content": null,
            "align_items": null,
            "align_self": null,
            "border": null,
            "bottom": null,
            "display": null,
            "flex": null,
            "flex_flow": null,
            "grid_area": null,
            "grid_auto_columns": null,
            "grid_auto_flow": null,
            "grid_auto_rows": null,
            "grid_column": null,
            "grid_gap": null,
            "grid_row": null,
            "grid_template_areas": null,
            "grid_template_columns": null,
            "grid_template_rows": null,
            "height": null,
            "justify_content": null,
            "justify_items": null,
            "left": null,
            "margin": null,
            "max_height": null,
            "max_width": null,
            "min_height": null,
            "min_width": null,
            "object_fit": null,
            "object_position": null,
            "order": null,
            "overflow": null,
            "overflow_x": null,
            "overflow_y": null,
            "padding": null,
            "right": null,
            "top": null,
            "visibility": null,
            "width": null
          }
        },
        "28823150debc48309ccb28414542b041": {
          "model_module": "@jupyter-widgets/controls",
          "model_name": "DescriptionStyleModel",
          "model_module_version": "1.5.0",
          "state": {
            "_model_module": "@jupyter-widgets/controls",
            "_model_module_version": "1.5.0",
            "_model_name": "DescriptionStyleModel",
            "_view_count": null,
            "_view_module": "@jupyter-widgets/base",
            "_view_module_version": "1.2.0",
            "_view_name": "StyleView",
            "description_width": ""
          }
        },
        "d70756a3b9114cfba5e8a2ad191293db": {
          "model_module": "@jupyter-widgets/controls",
          "model_name": "HBoxModel",
          "model_module_version": "1.5.0",
          "state": {
            "_dom_classes": [],
            "_model_module": "@jupyter-widgets/controls",
            "_model_module_version": "1.5.0",
            "_model_name": "HBoxModel",
            "_view_count": null,
            "_view_module": "@jupyter-widgets/controls",
            "_view_module_version": "1.5.0",
            "_view_name": "HBoxView",
            "box_style": "",
            "children": [
              "IPY_MODEL_dbc825a10abc4f7da798451e2d8112a6",
              "IPY_MODEL_d56d3c16764d4ad7ba6cc95c28b9df45",
              "IPY_MODEL_e038afc702744a7589d6c785e11a737b"
            ],
            "layout": "IPY_MODEL_a0cf7c9f27134235a48a0b8665a49272"
          }
        },
        "dbc825a10abc4f7da798451e2d8112a6": {
          "model_module": "@jupyter-widgets/controls",
          "model_name": "HTMLModel",
          "model_module_version": "1.5.0",
          "state": {
            "_dom_classes": [],
            "_model_module": "@jupyter-widgets/controls",
            "_model_module_version": "1.5.0",
            "_model_name": "HTMLModel",
            "_view_count": null,
            "_view_module": "@jupyter-widgets/controls",
            "_view_module_version": "1.5.0",
            "_view_name": "HTMLView",
            "description": "",
            "description_tooltip": null,
            "layout": "IPY_MODEL_326d0da7748d4ff9bcd1828896581620",
            "placeholder": "​",
            "style": "IPY_MODEL_a2d88e3119644987b5cbfb5bd1c9b6ef",
            "value": "tokenizer.json: 100%"
          }
        },
        "d56d3c16764d4ad7ba6cc95c28b9df45": {
          "model_module": "@jupyter-widgets/controls",
          "model_name": "FloatProgressModel",
          "model_module_version": "1.5.0",
          "state": {
            "_dom_classes": [],
            "_model_module": "@jupyter-widgets/controls",
            "_model_module_version": "1.5.0",
            "_model_name": "FloatProgressModel",
            "_view_count": null,
            "_view_module": "@jupyter-widgets/controls",
            "_view_module_version": "1.5.0",
            "_view_name": "ProgressView",
            "bar_style": "success",
            "description": "",
            "description_tooltip": null,
            "layout": "IPY_MODEL_3e7903d43b154f8ab8a88cc950708d06",
            "max": 466062,
            "min": 0,
            "orientation": "horizontal",
            "style": "IPY_MODEL_7cedf84b45cd475fb1f0f4f91f0a3641",
            "value": 466062
          }
        },
        "e038afc702744a7589d6c785e11a737b": {
          "model_module": "@jupyter-widgets/controls",
          "model_name": "HTMLModel",
          "model_module_version": "1.5.0",
          "state": {
            "_dom_classes": [],
            "_model_module": "@jupyter-widgets/controls",
            "_model_module_version": "1.5.0",
            "_model_name": "HTMLModel",
            "_view_count": null,
            "_view_module": "@jupyter-widgets/controls",
            "_view_module_version": "1.5.0",
            "_view_name": "HTMLView",
            "description": "",
            "description_tooltip": null,
            "layout": "IPY_MODEL_49652e991b0c4c4898c73c487a33706f",
            "placeholder": "​",
            "style": "IPY_MODEL_2c43782785814d70855afe00ae531c47",
            "value": " 466k/466k [00:00&lt;00:00, 5.76MB/s]"
          }
        },
        "a0cf7c9f27134235a48a0b8665a49272": {
          "model_module": "@jupyter-widgets/base",
          "model_name": "LayoutModel",
          "model_module_version": "1.2.0",
          "state": {
            "_model_module": "@jupyter-widgets/base",
            "_model_module_version": "1.2.0",
            "_model_name": "LayoutModel",
            "_view_count": null,
            "_view_module": "@jupyter-widgets/base",
            "_view_module_version": "1.2.0",
            "_view_name": "LayoutView",
            "align_content": null,
            "align_items": null,
            "align_self": null,
            "border": null,
            "bottom": null,
            "display": null,
            "flex": null,
            "flex_flow": null,
            "grid_area": null,
            "grid_auto_columns": null,
            "grid_auto_flow": null,
            "grid_auto_rows": null,
            "grid_column": null,
            "grid_gap": null,
            "grid_row": null,
            "grid_template_areas": null,
            "grid_template_columns": null,
            "grid_template_rows": null,
            "height": null,
            "justify_content": null,
            "justify_items": null,
            "left": null,
            "margin": null,
            "max_height": null,
            "max_width": null,
            "min_height": null,
            "min_width": null,
            "object_fit": null,
            "object_position": null,
            "order": null,
            "overflow": null,
            "overflow_x": null,
            "overflow_y": null,
            "padding": null,
            "right": null,
            "top": null,
            "visibility": null,
            "width": null
          }
        },
        "326d0da7748d4ff9bcd1828896581620": {
          "model_module": "@jupyter-widgets/base",
          "model_name": "LayoutModel",
          "model_module_version": "1.2.0",
          "state": {
            "_model_module": "@jupyter-widgets/base",
            "_model_module_version": "1.2.0",
            "_model_name": "LayoutModel",
            "_view_count": null,
            "_view_module": "@jupyter-widgets/base",
            "_view_module_version": "1.2.0",
            "_view_name": "LayoutView",
            "align_content": null,
            "align_items": null,
            "align_self": null,
            "border": null,
            "bottom": null,
            "display": null,
            "flex": null,
            "flex_flow": null,
            "grid_area": null,
            "grid_auto_columns": null,
            "grid_auto_flow": null,
            "grid_auto_rows": null,
            "grid_column": null,
            "grid_gap": null,
            "grid_row": null,
            "grid_template_areas": null,
            "grid_template_columns": null,
            "grid_template_rows": null,
            "height": null,
            "justify_content": null,
            "justify_items": null,
            "left": null,
            "margin": null,
            "max_height": null,
            "max_width": null,
            "min_height": null,
            "min_width": null,
            "object_fit": null,
            "object_position": null,
            "order": null,
            "overflow": null,
            "overflow_x": null,
            "overflow_y": null,
            "padding": null,
            "right": null,
            "top": null,
            "visibility": null,
            "width": null
          }
        },
        "a2d88e3119644987b5cbfb5bd1c9b6ef": {
          "model_module": "@jupyter-widgets/controls",
          "model_name": "DescriptionStyleModel",
          "model_module_version": "1.5.0",
          "state": {
            "_model_module": "@jupyter-widgets/controls",
            "_model_module_version": "1.5.0",
            "_model_name": "DescriptionStyleModel",
            "_view_count": null,
            "_view_module": "@jupyter-widgets/base",
            "_view_module_version": "1.2.0",
            "_view_name": "StyleView",
            "description_width": ""
          }
        },
        "3e7903d43b154f8ab8a88cc950708d06": {
          "model_module": "@jupyter-widgets/base",
          "model_name": "LayoutModel",
          "model_module_version": "1.2.0",
          "state": {
            "_model_module": "@jupyter-widgets/base",
            "_model_module_version": "1.2.0",
            "_model_name": "LayoutModel",
            "_view_count": null,
            "_view_module": "@jupyter-widgets/base",
            "_view_module_version": "1.2.0",
            "_view_name": "LayoutView",
            "align_content": null,
            "align_items": null,
            "align_self": null,
            "border": null,
            "bottom": null,
            "display": null,
            "flex": null,
            "flex_flow": null,
            "grid_area": null,
            "grid_auto_columns": null,
            "grid_auto_flow": null,
            "grid_auto_rows": null,
            "grid_column": null,
            "grid_gap": null,
            "grid_row": null,
            "grid_template_areas": null,
            "grid_template_columns": null,
            "grid_template_rows": null,
            "height": null,
            "justify_content": null,
            "justify_items": null,
            "left": null,
            "margin": null,
            "max_height": null,
            "max_width": null,
            "min_height": null,
            "min_width": null,
            "object_fit": null,
            "object_position": null,
            "order": null,
            "overflow": null,
            "overflow_x": null,
            "overflow_y": null,
            "padding": null,
            "right": null,
            "top": null,
            "visibility": null,
            "width": null
          }
        },
        "7cedf84b45cd475fb1f0f4f91f0a3641": {
          "model_module": "@jupyter-widgets/controls",
          "model_name": "ProgressStyleModel",
          "model_module_version": "1.5.0",
          "state": {
            "_model_module": "@jupyter-widgets/controls",
            "_model_module_version": "1.5.0",
            "_model_name": "ProgressStyleModel",
            "_view_count": null,
            "_view_module": "@jupyter-widgets/base",
            "_view_module_version": "1.2.0",
            "_view_name": "StyleView",
            "bar_color": null,
            "description_width": ""
          }
        },
        "49652e991b0c4c4898c73c487a33706f": {
          "model_module": "@jupyter-widgets/base",
          "model_name": "LayoutModel",
          "model_module_version": "1.2.0",
          "state": {
            "_model_module": "@jupyter-widgets/base",
            "_model_module_version": "1.2.0",
            "_model_name": "LayoutModel",
            "_view_count": null,
            "_view_module": "@jupyter-widgets/base",
            "_view_module_version": "1.2.0",
            "_view_name": "LayoutView",
            "align_content": null,
            "align_items": null,
            "align_self": null,
            "border": null,
            "bottom": null,
            "display": null,
            "flex": null,
            "flex_flow": null,
            "grid_area": null,
            "grid_auto_columns": null,
            "grid_auto_flow": null,
            "grid_auto_rows": null,
            "grid_column": null,
            "grid_gap": null,
            "grid_row": null,
            "grid_template_areas": null,
            "grid_template_columns": null,
            "grid_template_rows": null,
            "height": null,
            "justify_content": null,
            "justify_items": null,
            "left": null,
            "margin": null,
            "max_height": null,
            "max_width": null,
            "min_height": null,
            "min_width": null,
            "object_fit": null,
            "object_position": null,
            "order": null,
            "overflow": null,
            "overflow_x": null,
            "overflow_y": null,
            "padding": null,
            "right": null,
            "top": null,
            "visibility": null,
            "width": null
          }
        },
        "2c43782785814d70855afe00ae531c47": {
          "model_module": "@jupyter-widgets/controls",
          "model_name": "DescriptionStyleModel",
          "model_module_version": "1.5.0",
          "state": {
            "_model_module": "@jupyter-widgets/controls",
            "_model_module_version": "1.5.0",
            "_model_name": "DescriptionStyleModel",
            "_view_count": null,
            "_view_module": "@jupyter-widgets/base",
            "_view_module_version": "1.2.0",
            "_view_name": "StyleView",
            "description_width": ""
          }
        },
        "13acc14122c3467ab340ec8125f75f42": {
          "model_module": "@jupyter-widgets/controls",
          "model_name": "HBoxModel",
          "model_module_version": "1.5.0",
          "state": {
            "_dom_classes": [],
            "_model_module": "@jupyter-widgets/controls",
            "_model_module_version": "1.5.0",
            "_model_name": "HBoxModel",
            "_view_count": null,
            "_view_module": "@jupyter-widgets/controls",
            "_view_module_version": "1.5.0",
            "_view_name": "HBoxView",
            "box_style": "",
            "children": [
              "IPY_MODEL_7c3c4fa43e5f47df8ad6ea9f5f9e1290",
              "IPY_MODEL_5cd9d0af3bbc48ffa0770383e83c3902",
              "IPY_MODEL_f9077ff217574d80affa872aae05377f"
            ],
            "layout": "IPY_MODEL_3af02024567f4c41bf7edf85f2cbf7d4"
          }
        },
        "7c3c4fa43e5f47df8ad6ea9f5f9e1290": {
          "model_module": "@jupyter-widgets/controls",
          "model_name": "HTMLModel",
          "model_module_version": "1.5.0",
          "state": {
            "_dom_classes": [],
            "_model_module": "@jupyter-widgets/controls",
            "_model_module_version": "1.5.0",
            "_model_name": "HTMLModel",
            "_view_count": null,
            "_view_module": "@jupyter-widgets/controls",
            "_view_module_version": "1.5.0",
            "_view_name": "HTMLView",
            "description": "",
            "description_tooltip": null,
            "layout": "IPY_MODEL_43d9ac00efe1488a83ea9b4542208ff5",
            "placeholder": "​",
            "style": "IPY_MODEL_b50fc5ffd9b84a968321b0843110055a",
            "value": "config.json: 100%"
          }
        },
        "5cd9d0af3bbc48ffa0770383e83c3902": {
          "model_module": "@jupyter-widgets/controls",
          "model_name": "FloatProgressModel",
          "model_module_version": "1.5.0",
          "state": {
            "_dom_classes": [],
            "_model_module": "@jupyter-widgets/controls",
            "_model_module_version": "1.5.0",
            "_model_name": "FloatProgressModel",
            "_view_count": null,
            "_view_module": "@jupyter-widgets/controls",
            "_view_module_version": "1.5.0",
            "_view_name": "ProgressView",
            "bar_style": "success",
            "description": "",
            "description_tooltip": null,
            "layout": "IPY_MODEL_6ef51db43c2b4110aa7d1c0e4b339966",
            "max": 570,
            "min": 0,
            "orientation": "horizontal",
            "style": "IPY_MODEL_1e9be1ea08294c7b99c741fb3f8fdbe5",
            "value": 570
          }
        },
        "f9077ff217574d80affa872aae05377f": {
          "model_module": "@jupyter-widgets/controls",
          "model_name": "HTMLModel",
          "model_module_version": "1.5.0",
          "state": {
            "_dom_classes": [],
            "_model_module": "@jupyter-widgets/controls",
            "_model_module_version": "1.5.0",
            "_model_name": "HTMLModel",
            "_view_count": null,
            "_view_module": "@jupyter-widgets/controls",
            "_view_module_version": "1.5.0",
            "_view_name": "HTMLView",
            "description": "",
            "description_tooltip": null,
            "layout": "IPY_MODEL_651fc6a35733466e882c963fb5eca23c",
            "placeholder": "​",
            "style": "IPY_MODEL_39f2c1b7ca78452487a3bec74a6158df",
            "value": " 570/570 [00:00&lt;00:00, 5.35kB/s]"
          }
        },
        "3af02024567f4c41bf7edf85f2cbf7d4": {
          "model_module": "@jupyter-widgets/base",
          "model_name": "LayoutModel",
          "model_module_version": "1.2.0",
          "state": {
            "_model_module": "@jupyter-widgets/base",
            "_model_module_version": "1.2.0",
            "_model_name": "LayoutModel",
            "_view_count": null,
            "_view_module": "@jupyter-widgets/base",
            "_view_module_version": "1.2.0",
            "_view_name": "LayoutView",
            "align_content": null,
            "align_items": null,
            "align_self": null,
            "border": null,
            "bottom": null,
            "display": null,
            "flex": null,
            "flex_flow": null,
            "grid_area": null,
            "grid_auto_columns": null,
            "grid_auto_flow": null,
            "grid_auto_rows": null,
            "grid_column": null,
            "grid_gap": null,
            "grid_row": null,
            "grid_template_areas": null,
            "grid_template_columns": null,
            "grid_template_rows": null,
            "height": null,
            "justify_content": null,
            "justify_items": null,
            "left": null,
            "margin": null,
            "max_height": null,
            "max_width": null,
            "min_height": null,
            "min_width": null,
            "object_fit": null,
            "object_position": null,
            "order": null,
            "overflow": null,
            "overflow_x": null,
            "overflow_y": null,
            "padding": null,
            "right": null,
            "top": null,
            "visibility": null,
            "width": null
          }
        },
        "43d9ac00efe1488a83ea9b4542208ff5": {
          "model_module": "@jupyter-widgets/base",
          "model_name": "LayoutModel",
          "model_module_version": "1.2.0",
          "state": {
            "_model_module": "@jupyter-widgets/base",
            "_model_module_version": "1.2.0",
            "_model_name": "LayoutModel",
            "_view_count": null,
            "_view_module": "@jupyter-widgets/base",
            "_view_module_version": "1.2.0",
            "_view_name": "LayoutView",
            "align_content": null,
            "align_items": null,
            "align_self": null,
            "border": null,
            "bottom": null,
            "display": null,
            "flex": null,
            "flex_flow": null,
            "grid_area": null,
            "grid_auto_columns": null,
            "grid_auto_flow": null,
            "grid_auto_rows": null,
            "grid_column": null,
            "grid_gap": null,
            "grid_row": null,
            "grid_template_areas": null,
            "grid_template_columns": null,
            "grid_template_rows": null,
            "height": null,
            "justify_content": null,
            "justify_items": null,
            "left": null,
            "margin": null,
            "max_height": null,
            "max_width": null,
            "min_height": null,
            "min_width": null,
            "object_fit": null,
            "object_position": null,
            "order": null,
            "overflow": null,
            "overflow_x": null,
            "overflow_y": null,
            "padding": null,
            "right": null,
            "top": null,
            "visibility": null,
            "width": null
          }
        },
        "b50fc5ffd9b84a968321b0843110055a": {
          "model_module": "@jupyter-widgets/controls",
          "model_name": "DescriptionStyleModel",
          "model_module_version": "1.5.0",
          "state": {
            "_model_module": "@jupyter-widgets/controls",
            "_model_module_version": "1.5.0",
            "_model_name": "DescriptionStyleModel",
            "_view_count": null,
            "_view_module": "@jupyter-widgets/base",
            "_view_module_version": "1.2.0",
            "_view_name": "StyleView",
            "description_width": ""
          }
        },
        "6ef51db43c2b4110aa7d1c0e4b339966": {
          "model_module": "@jupyter-widgets/base",
          "model_name": "LayoutModel",
          "model_module_version": "1.2.0",
          "state": {
            "_model_module": "@jupyter-widgets/base",
            "_model_module_version": "1.2.0",
            "_model_name": "LayoutModel",
            "_view_count": null,
            "_view_module": "@jupyter-widgets/base",
            "_view_module_version": "1.2.0",
            "_view_name": "LayoutView",
            "align_content": null,
            "align_items": null,
            "align_self": null,
            "border": null,
            "bottom": null,
            "display": null,
            "flex": null,
            "flex_flow": null,
            "grid_area": null,
            "grid_auto_columns": null,
            "grid_auto_flow": null,
            "grid_auto_rows": null,
            "grid_column": null,
            "grid_gap": null,
            "grid_row": null,
            "grid_template_areas": null,
            "grid_template_columns": null,
            "grid_template_rows": null,
            "height": null,
            "justify_content": null,
            "justify_items": null,
            "left": null,
            "margin": null,
            "max_height": null,
            "max_width": null,
            "min_height": null,
            "min_width": null,
            "object_fit": null,
            "object_position": null,
            "order": null,
            "overflow": null,
            "overflow_x": null,
            "overflow_y": null,
            "padding": null,
            "right": null,
            "top": null,
            "visibility": null,
            "width": null
          }
        },
        "1e9be1ea08294c7b99c741fb3f8fdbe5": {
          "model_module": "@jupyter-widgets/controls",
          "model_name": "ProgressStyleModel",
          "model_module_version": "1.5.0",
          "state": {
            "_model_module": "@jupyter-widgets/controls",
            "_model_module_version": "1.5.0",
            "_model_name": "ProgressStyleModel",
            "_view_count": null,
            "_view_module": "@jupyter-widgets/base",
            "_view_module_version": "1.2.0",
            "_view_name": "StyleView",
            "bar_color": null,
            "description_width": ""
          }
        },
        "651fc6a35733466e882c963fb5eca23c": {
          "model_module": "@jupyter-widgets/base",
          "model_name": "LayoutModel",
          "model_module_version": "1.2.0",
          "state": {
            "_model_module": "@jupyter-widgets/base",
            "_model_module_version": "1.2.0",
            "_model_name": "LayoutModel",
            "_view_count": null,
            "_view_module": "@jupyter-widgets/base",
            "_view_module_version": "1.2.0",
            "_view_name": "LayoutView",
            "align_content": null,
            "align_items": null,
            "align_self": null,
            "border": null,
            "bottom": null,
            "display": null,
            "flex": null,
            "flex_flow": null,
            "grid_area": null,
            "grid_auto_columns": null,
            "grid_auto_flow": null,
            "grid_auto_rows": null,
            "grid_column": null,
            "grid_gap": null,
            "grid_row": null,
            "grid_template_areas": null,
            "grid_template_columns": null,
            "grid_template_rows": null,
            "height": null,
            "justify_content": null,
            "justify_items": null,
            "left": null,
            "margin": null,
            "max_height": null,
            "max_width": null,
            "min_height": null,
            "min_width": null,
            "object_fit": null,
            "object_position": null,
            "order": null,
            "overflow": null,
            "overflow_x": null,
            "overflow_y": null,
            "padding": null,
            "right": null,
            "top": null,
            "visibility": null,
            "width": null
          }
        },
        "39f2c1b7ca78452487a3bec74a6158df": {
          "model_module": "@jupyter-widgets/controls",
          "model_name": "DescriptionStyleModel",
          "model_module_version": "1.5.0",
          "state": {
            "_model_module": "@jupyter-widgets/controls",
            "_model_module_version": "1.5.0",
            "_model_name": "DescriptionStyleModel",
            "_view_count": null,
            "_view_module": "@jupyter-widgets/base",
            "_view_module_version": "1.2.0",
            "_view_name": "StyleView",
            "description_width": ""
          }
        },
        "38cd565e3bb14ae388f7186cebebc698": {
          "model_module": "@jupyter-widgets/controls",
          "model_name": "HBoxModel",
          "model_module_version": "1.5.0",
          "state": {
            "_dom_classes": [],
            "_model_module": "@jupyter-widgets/controls",
            "_model_module_version": "1.5.0",
            "_model_name": "HBoxModel",
            "_view_count": null,
            "_view_module": "@jupyter-widgets/controls",
            "_view_module_version": "1.5.0",
            "_view_name": "HBoxView",
            "box_style": "",
            "children": [
              "IPY_MODEL_e430224cf92244ec8cee666ee0cedf7d",
              "IPY_MODEL_b0603d0df0ed493bae32ead294a73faf",
              "IPY_MODEL_2fed863d715242e6972ea2ba9693a8ab"
            ],
            "layout": "IPY_MODEL_ea05650f4be242239a64721df51a2874"
          }
        },
        "e430224cf92244ec8cee666ee0cedf7d": {
          "model_module": "@jupyter-widgets/controls",
          "model_name": "HTMLModel",
          "model_module_version": "1.5.0",
          "state": {
            "_dom_classes": [],
            "_model_module": "@jupyter-widgets/controls",
            "_model_module_version": "1.5.0",
            "_model_name": "HTMLModel",
            "_view_count": null,
            "_view_module": "@jupyter-widgets/controls",
            "_view_module_version": "1.5.0",
            "_view_name": "HTMLView",
            "description": "",
            "description_tooltip": null,
            "layout": "IPY_MODEL_0569a60659034fd58bbf49f4ed147389",
            "placeholder": "​",
            "style": "IPY_MODEL_fd0d7a8db6734e4eafc5008510cf356a",
            "value": "model.safetensors: 100%"
          }
        },
        "b0603d0df0ed493bae32ead294a73faf": {
          "model_module": "@jupyter-widgets/controls",
          "model_name": "FloatProgressModel",
          "model_module_version": "1.5.0",
          "state": {
            "_dom_classes": [],
            "_model_module": "@jupyter-widgets/controls",
            "_model_module_version": "1.5.0",
            "_model_name": "FloatProgressModel",
            "_view_count": null,
            "_view_module": "@jupyter-widgets/controls",
            "_view_module_version": "1.5.0",
            "_view_name": "ProgressView",
            "bar_style": "success",
            "description": "",
            "description_tooltip": null,
            "layout": "IPY_MODEL_a029408dbc0440d39401d291dfc9c9f0",
            "max": 440449768,
            "min": 0,
            "orientation": "horizontal",
            "style": "IPY_MODEL_975110eeab95471588b1da30f8328ab5",
            "value": 440449768
          }
        },
        "2fed863d715242e6972ea2ba9693a8ab": {
          "model_module": "@jupyter-widgets/controls",
          "model_name": "HTMLModel",
          "model_module_version": "1.5.0",
          "state": {
            "_dom_classes": [],
            "_model_module": "@jupyter-widgets/controls",
            "_model_module_version": "1.5.0",
            "_model_name": "HTMLModel",
            "_view_count": null,
            "_view_module": "@jupyter-widgets/controls",
            "_view_module_version": "1.5.0",
            "_view_name": "HTMLView",
            "description": "",
            "description_tooltip": null,
            "layout": "IPY_MODEL_153df484edb248eb908b28f46faa133a",
            "placeholder": "​",
            "style": "IPY_MODEL_58ff5115c5e342a485346576bdfa8e3d",
            "value": " 440M/440M [00:05&lt;00:00, 89.1MB/s]"
          }
        },
        "ea05650f4be242239a64721df51a2874": {
          "model_module": "@jupyter-widgets/base",
          "model_name": "LayoutModel",
          "model_module_version": "1.2.0",
          "state": {
            "_model_module": "@jupyter-widgets/base",
            "_model_module_version": "1.2.0",
            "_model_name": "LayoutModel",
            "_view_count": null,
            "_view_module": "@jupyter-widgets/base",
            "_view_module_version": "1.2.0",
            "_view_name": "LayoutView",
            "align_content": null,
            "align_items": null,
            "align_self": null,
            "border": null,
            "bottom": null,
            "display": null,
            "flex": null,
            "flex_flow": null,
            "grid_area": null,
            "grid_auto_columns": null,
            "grid_auto_flow": null,
            "grid_auto_rows": null,
            "grid_column": null,
            "grid_gap": null,
            "grid_row": null,
            "grid_template_areas": null,
            "grid_template_columns": null,
            "grid_template_rows": null,
            "height": null,
            "justify_content": null,
            "justify_items": null,
            "left": null,
            "margin": null,
            "max_height": null,
            "max_width": null,
            "min_height": null,
            "min_width": null,
            "object_fit": null,
            "object_position": null,
            "order": null,
            "overflow": null,
            "overflow_x": null,
            "overflow_y": null,
            "padding": null,
            "right": null,
            "top": null,
            "visibility": null,
            "width": null
          }
        },
        "0569a60659034fd58bbf49f4ed147389": {
          "model_module": "@jupyter-widgets/base",
          "model_name": "LayoutModel",
          "model_module_version": "1.2.0",
          "state": {
            "_model_module": "@jupyter-widgets/base",
            "_model_module_version": "1.2.0",
            "_model_name": "LayoutModel",
            "_view_count": null,
            "_view_module": "@jupyter-widgets/base",
            "_view_module_version": "1.2.0",
            "_view_name": "LayoutView",
            "align_content": null,
            "align_items": null,
            "align_self": null,
            "border": null,
            "bottom": null,
            "display": null,
            "flex": null,
            "flex_flow": null,
            "grid_area": null,
            "grid_auto_columns": null,
            "grid_auto_flow": null,
            "grid_auto_rows": null,
            "grid_column": null,
            "grid_gap": null,
            "grid_row": null,
            "grid_template_areas": null,
            "grid_template_columns": null,
            "grid_template_rows": null,
            "height": null,
            "justify_content": null,
            "justify_items": null,
            "left": null,
            "margin": null,
            "max_height": null,
            "max_width": null,
            "min_height": null,
            "min_width": null,
            "object_fit": null,
            "object_position": null,
            "order": null,
            "overflow": null,
            "overflow_x": null,
            "overflow_y": null,
            "padding": null,
            "right": null,
            "top": null,
            "visibility": null,
            "width": null
          }
        },
        "fd0d7a8db6734e4eafc5008510cf356a": {
          "model_module": "@jupyter-widgets/controls",
          "model_name": "DescriptionStyleModel",
          "model_module_version": "1.5.0",
          "state": {
            "_model_module": "@jupyter-widgets/controls",
            "_model_module_version": "1.5.0",
            "_model_name": "DescriptionStyleModel",
            "_view_count": null,
            "_view_module": "@jupyter-widgets/base",
            "_view_module_version": "1.2.0",
            "_view_name": "StyleView",
            "description_width": ""
          }
        },
        "a029408dbc0440d39401d291dfc9c9f0": {
          "model_module": "@jupyter-widgets/base",
          "model_name": "LayoutModel",
          "model_module_version": "1.2.0",
          "state": {
            "_model_module": "@jupyter-widgets/base",
            "_model_module_version": "1.2.0",
            "_model_name": "LayoutModel",
            "_view_count": null,
            "_view_module": "@jupyter-widgets/base",
            "_view_module_version": "1.2.0",
            "_view_name": "LayoutView",
            "align_content": null,
            "align_items": null,
            "align_self": null,
            "border": null,
            "bottom": null,
            "display": null,
            "flex": null,
            "flex_flow": null,
            "grid_area": null,
            "grid_auto_columns": null,
            "grid_auto_flow": null,
            "grid_auto_rows": null,
            "grid_column": null,
            "grid_gap": null,
            "grid_row": null,
            "grid_template_areas": null,
            "grid_template_columns": null,
            "grid_template_rows": null,
            "height": null,
            "justify_content": null,
            "justify_items": null,
            "left": null,
            "margin": null,
            "max_height": null,
            "max_width": null,
            "min_height": null,
            "min_width": null,
            "object_fit": null,
            "object_position": null,
            "order": null,
            "overflow": null,
            "overflow_x": null,
            "overflow_y": null,
            "padding": null,
            "right": null,
            "top": null,
            "visibility": null,
            "width": null
          }
        },
        "975110eeab95471588b1da30f8328ab5": {
          "model_module": "@jupyter-widgets/controls",
          "model_name": "ProgressStyleModel",
          "model_module_version": "1.5.0",
          "state": {
            "_model_module": "@jupyter-widgets/controls",
            "_model_module_version": "1.5.0",
            "_model_name": "ProgressStyleModel",
            "_view_count": null,
            "_view_module": "@jupyter-widgets/base",
            "_view_module_version": "1.2.0",
            "_view_name": "StyleView",
            "bar_color": null,
            "description_width": ""
          }
        },
        "153df484edb248eb908b28f46faa133a": {
          "model_module": "@jupyter-widgets/base",
          "model_name": "LayoutModel",
          "model_module_version": "1.2.0",
          "state": {
            "_model_module": "@jupyter-widgets/base",
            "_model_module_version": "1.2.0",
            "_model_name": "LayoutModel",
            "_view_count": null,
            "_view_module": "@jupyter-widgets/base",
            "_view_module_version": "1.2.0",
            "_view_name": "LayoutView",
            "align_content": null,
            "align_items": null,
            "align_self": null,
            "border": null,
            "bottom": null,
            "display": null,
            "flex": null,
            "flex_flow": null,
            "grid_area": null,
            "grid_auto_columns": null,
            "grid_auto_flow": null,
            "grid_auto_rows": null,
            "grid_column": null,
            "grid_gap": null,
            "grid_row": null,
            "grid_template_areas": null,
            "grid_template_columns": null,
            "grid_template_rows": null,
            "height": null,
            "justify_content": null,
            "justify_items": null,
            "left": null,
            "margin": null,
            "max_height": null,
            "max_width": null,
            "min_height": null,
            "min_width": null,
            "object_fit": null,
            "object_position": null,
            "order": null,
            "overflow": null,
            "overflow_x": null,
            "overflow_y": null,
            "padding": null,
            "right": null,
            "top": null,
            "visibility": null,
            "width": null
          }
        },
        "58ff5115c5e342a485346576bdfa8e3d": {
          "model_module": "@jupyter-widgets/controls",
          "model_name": "DescriptionStyleModel",
          "model_module_version": "1.5.0",
          "state": {
            "_model_module": "@jupyter-widgets/controls",
            "_model_module_version": "1.5.0",
            "_model_name": "DescriptionStyleModel",
            "_view_count": null,
            "_view_module": "@jupyter-widgets/base",
            "_view_module_version": "1.2.0",
            "_view_name": "StyleView",
            "description_width": ""
          }
        },
        "1ca1454a54f345b2aa89a6eb44bd55a1": {
          "model_module": "@jupyter-widgets/controls",
          "model_name": "HBoxModel",
          "model_module_version": "1.5.0",
          "state": {
            "_dom_classes": [],
            "_model_module": "@jupyter-widgets/controls",
            "_model_module_version": "1.5.0",
            "_model_name": "HBoxModel",
            "_view_count": null,
            "_view_module": "@jupyter-widgets/controls",
            "_view_module_version": "1.5.0",
            "_view_name": "HBoxView",
            "box_style": "",
            "children": [
              "IPY_MODEL_840c07453b974ed59b4d375e4f994fa3",
              "IPY_MODEL_156a2e0fd2b341c8ae5f3b7c69494b3e",
              "IPY_MODEL_2d2bf1d9bd224dcdb1f81a91260076aa"
            ],
            "layout": "IPY_MODEL_90442e5fee3d47238aa761058232828b"
          }
        },
        "840c07453b974ed59b4d375e4f994fa3": {
          "model_module": "@jupyter-widgets/controls",
          "model_name": "HTMLModel",
          "model_module_version": "1.5.0",
          "state": {
            "_dom_classes": [],
            "_model_module": "@jupyter-widgets/controls",
            "_model_module_version": "1.5.0",
            "_model_name": "HTMLModel",
            "_view_count": null,
            "_view_module": "@jupyter-widgets/controls",
            "_view_module_version": "1.5.0",
            "_view_name": "HTMLView",
            "description": "",
            "description_tooltip": null,
            "layout": "IPY_MODEL_c9eefb37d53b44cd92ef0c45edc9a888",
            "placeholder": "​",
            "style": "IPY_MODEL_602f78fb15334b5a97577e89afec1cd9",
            "value": "README.md: 100%"
          }
        },
        "156a2e0fd2b341c8ae5f3b7c69494b3e": {
          "model_module": "@jupyter-widgets/controls",
          "model_name": "FloatProgressModel",
          "model_module_version": "1.5.0",
          "state": {
            "_dom_classes": [],
            "_model_module": "@jupyter-widgets/controls",
            "_model_module_version": "1.5.0",
            "_model_name": "FloatProgressModel",
            "_view_count": null,
            "_view_module": "@jupyter-widgets/controls",
            "_view_module_version": "1.5.0",
            "_view_name": "ProgressView",
            "bar_style": "success",
            "description": "",
            "description_tooltip": null,
            "layout": "IPY_MODEL_2467362cf37c4ba288db1fdaee31a561",
            "max": 7809,
            "min": 0,
            "orientation": "horizontal",
            "style": "IPY_MODEL_3e8e8deb9db3416faae95111e0d3d47f",
            "value": 7809
          }
        },
        "2d2bf1d9bd224dcdb1f81a91260076aa": {
          "model_module": "@jupyter-widgets/controls",
          "model_name": "HTMLModel",
          "model_module_version": "1.5.0",
          "state": {
            "_dom_classes": [],
            "_model_module": "@jupyter-widgets/controls",
            "_model_module_version": "1.5.0",
            "_model_name": "HTMLModel",
            "_view_count": null,
            "_view_module": "@jupyter-widgets/controls",
            "_view_module_version": "1.5.0",
            "_view_name": "HTMLView",
            "description": "",
            "description_tooltip": null,
            "layout": "IPY_MODEL_59c97bcce780452ca25bf792dde5043c",
            "placeholder": "​",
            "style": "IPY_MODEL_d8d48e22ca604b47b4176004a19ea1d0",
            "value": " 7.81k/7.81k [00:00&lt;00:00, 81.4kB/s]"
          }
        },
        "90442e5fee3d47238aa761058232828b": {
          "model_module": "@jupyter-widgets/base",
          "model_name": "LayoutModel",
          "model_module_version": "1.2.0",
          "state": {
            "_model_module": "@jupyter-widgets/base",
            "_model_module_version": "1.2.0",
            "_model_name": "LayoutModel",
            "_view_count": null,
            "_view_module": "@jupyter-widgets/base",
            "_view_module_version": "1.2.0",
            "_view_name": "LayoutView",
            "align_content": null,
            "align_items": null,
            "align_self": null,
            "border": null,
            "bottom": null,
            "display": null,
            "flex": null,
            "flex_flow": null,
            "grid_area": null,
            "grid_auto_columns": null,
            "grid_auto_flow": null,
            "grid_auto_rows": null,
            "grid_column": null,
            "grid_gap": null,
            "grid_row": null,
            "grid_template_areas": null,
            "grid_template_columns": null,
            "grid_template_rows": null,
            "height": null,
            "justify_content": null,
            "justify_items": null,
            "left": null,
            "margin": null,
            "max_height": null,
            "max_width": null,
            "min_height": null,
            "min_width": null,
            "object_fit": null,
            "object_position": null,
            "order": null,
            "overflow": null,
            "overflow_x": null,
            "overflow_y": null,
            "padding": null,
            "right": null,
            "top": null,
            "visibility": null,
            "width": null
          }
        },
        "c9eefb37d53b44cd92ef0c45edc9a888": {
          "model_module": "@jupyter-widgets/base",
          "model_name": "LayoutModel",
          "model_module_version": "1.2.0",
          "state": {
            "_model_module": "@jupyter-widgets/base",
            "_model_module_version": "1.2.0",
            "_model_name": "LayoutModel",
            "_view_count": null,
            "_view_module": "@jupyter-widgets/base",
            "_view_module_version": "1.2.0",
            "_view_name": "LayoutView",
            "align_content": null,
            "align_items": null,
            "align_self": null,
            "border": null,
            "bottom": null,
            "display": null,
            "flex": null,
            "flex_flow": null,
            "grid_area": null,
            "grid_auto_columns": null,
            "grid_auto_flow": null,
            "grid_auto_rows": null,
            "grid_column": null,
            "grid_gap": null,
            "grid_row": null,
            "grid_template_areas": null,
            "grid_template_columns": null,
            "grid_template_rows": null,
            "height": null,
            "justify_content": null,
            "justify_items": null,
            "left": null,
            "margin": null,
            "max_height": null,
            "max_width": null,
            "min_height": null,
            "min_width": null,
            "object_fit": null,
            "object_position": null,
            "order": null,
            "overflow": null,
            "overflow_x": null,
            "overflow_y": null,
            "padding": null,
            "right": null,
            "top": null,
            "visibility": null,
            "width": null
          }
        },
        "602f78fb15334b5a97577e89afec1cd9": {
          "model_module": "@jupyter-widgets/controls",
          "model_name": "DescriptionStyleModel",
          "model_module_version": "1.5.0",
          "state": {
            "_model_module": "@jupyter-widgets/controls",
            "_model_module_version": "1.5.0",
            "_model_name": "DescriptionStyleModel",
            "_view_count": null,
            "_view_module": "@jupyter-widgets/base",
            "_view_module_version": "1.2.0",
            "_view_name": "StyleView",
            "description_width": ""
          }
        },
        "2467362cf37c4ba288db1fdaee31a561": {
          "model_module": "@jupyter-widgets/base",
          "model_name": "LayoutModel",
          "model_module_version": "1.2.0",
          "state": {
            "_model_module": "@jupyter-widgets/base",
            "_model_module_version": "1.2.0",
            "_model_name": "LayoutModel",
            "_view_count": null,
            "_view_module": "@jupyter-widgets/base",
            "_view_module_version": "1.2.0",
            "_view_name": "LayoutView",
            "align_content": null,
            "align_items": null,
            "align_self": null,
            "border": null,
            "bottom": null,
            "display": null,
            "flex": null,
            "flex_flow": null,
            "grid_area": null,
            "grid_auto_columns": null,
            "grid_auto_flow": null,
            "grid_auto_rows": null,
            "grid_column": null,
            "grid_gap": null,
            "grid_row": null,
            "grid_template_areas": null,
            "grid_template_columns": null,
            "grid_template_rows": null,
            "height": null,
            "justify_content": null,
            "justify_items": null,
            "left": null,
            "margin": null,
            "max_height": null,
            "max_width": null,
            "min_height": null,
            "min_width": null,
            "object_fit": null,
            "object_position": null,
            "order": null,
            "overflow": null,
            "overflow_x": null,
            "overflow_y": null,
            "padding": null,
            "right": null,
            "top": null,
            "visibility": null,
            "width": null
          }
        },
        "3e8e8deb9db3416faae95111e0d3d47f": {
          "model_module": "@jupyter-widgets/controls",
          "model_name": "ProgressStyleModel",
          "model_module_version": "1.5.0",
          "state": {
            "_model_module": "@jupyter-widgets/controls",
            "_model_module_version": "1.5.0",
            "_model_name": "ProgressStyleModel",
            "_view_count": null,
            "_view_module": "@jupyter-widgets/base",
            "_view_module_version": "1.2.0",
            "_view_name": "StyleView",
            "bar_color": null,
            "description_width": ""
          }
        },
        "59c97bcce780452ca25bf792dde5043c": {
          "model_module": "@jupyter-widgets/base",
          "model_name": "LayoutModel",
          "model_module_version": "1.2.0",
          "state": {
            "_model_module": "@jupyter-widgets/base",
            "_model_module_version": "1.2.0",
            "_model_name": "LayoutModel",
            "_view_count": null,
            "_view_module": "@jupyter-widgets/base",
            "_view_module_version": "1.2.0",
            "_view_name": "LayoutView",
            "align_content": null,
            "align_items": null,
            "align_self": null,
            "border": null,
            "bottom": null,
            "display": null,
            "flex": null,
            "flex_flow": null,
            "grid_area": null,
            "grid_auto_columns": null,
            "grid_auto_flow": null,
            "grid_auto_rows": null,
            "grid_column": null,
            "grid_gap": null,
            "grid_row": null,
            "grid_template_areas": null,
            "grid_template_columns": null,
            "grid_template_rows": null,
            "height": null,
            "justify_content": null,
            "justify_items": null,
            "left": null,
            "margin": null,
            "max_height": null,
            "max_width": null,
            "min_height": null,
            "min_width": null,
            "object_fit": null,
            "object_position": null,
            "order": null,
            "overflow": null,
            "overflow_x": null,
            "overflow_y": null,
            "padding": null,
            "right": null,
            "top": null,
            "visibility": null,
            "width": null
          }
        },
        "d8d48e22ca604b47b4176004a19ea1d0": {
          "model_module": "@jupyter-widgets/controls",
          "model_name": "DescriptionStyleModel",
          "model_module_version": "1.5.0",
          "state": {
            "_model_module": "@jupyter-widgets/controls",
            "_model_module_version": "1.5.0",
            "_model_name": "DescriptionStyleModel",
            "_view_count": null,
            "_view_module": "@jupyter-widgets/base",
            "_view_module_version": "1.2.0",
            "_view_name": "StyleView",
            "description_width": ""
          }
        },
        "1e623b21a3654ca68510fa5c86dfb549": {
          "model_module": "@jupyter-widgets/controls",
          "model_name": "HBoxModel",
          "model_module_version": "1.5.0",
          "state": {
            "_dom_classes": [],
            "_model_module": "@jupyter-widgets/controls",
            "_model_module_version": "1.5.0",
            "_model_name": "HBoxModel",
            "_view_count": null,
            "_view_module": "@jupyter-widgets/controls",
            "_view_module_version": "1.5.0",
            "_view_name": "HBoxView",
            "box_style": "",
            "children": [
              "IPY_MODEL_63607136dca4461584d1c96b2576f331",
              "IPY_MODEL_eb02cc5ee49e49138e393bbc0e0557e0",
              "IPY_MODEL_b2084564af61401dab01413b1203bbc3"
            ],
            "layout": "IPY_MODEL_7defb5459ec1475ba2c65cb24d8da876"
          }
        },
        "63607136dca4461584d1c96b2576f331": {
          "model_module": "@jupyter-widgets/controls",
          "model_name": "HTMLModel",
          "model_module_version": "1.5.0",
          "state": {
            "_dom_classes": [],
            "_model_module": "@jupyter-widgets/controls",
            "_model_module_version": "1.5.0",
            "_model_name": "HTMLModel",
            "_view_count": null,
            "_view_module": "@jupyter-widgets/controls",
            "_view_module_version": "1.5.0",
            "_view_name": "HTMLView",
            "description": "",
            "description_tooltip": null,
            "layout": "IPY_MODEL_10ec2572206c4787bd81de874fb2ef34",
            "placeholder": "​",
            "style": "IPY_MODEL_8bda852a51664f2dadb623dc468c9baa",
            "value": "train-00000-of-00001.parquet: 100%"
          }
        },
        "eb02cc5ee49e49138e393bbc0e0557e0": {
          "model_module": "@jupyter-widgets/controls",
          "model_name": "FloatProgressModel",
          "model_module_version": "1.5.0",
          "state": {
            "_dom_classes": [],
            "_model_module": "@jupyter-widgets/controls",
            "_model_module_version": "1.5.0",
            "_model_name": "FloatProgressModel",
            "_view_count": null,
            "_view_module": "@jupyter-widgets/controls",
            "_view_module_version": "1.5.0",
            "_view_name": "ProgressView",
            "bar_style": "success",
            "description": "",
            "description_tooltip": null,
            "layout": "IPY_MODEL_86cd7a04609e4f2a8404a4cdf1e19429",
            "max": 20979968,
            "min": 0,
            "orientation": "horizontal",
            "style": "IPY_MODEL_7686c9836d5444b582cbde186bf55f54",
            "value": 20979968
          }
        },
        "b2084564af61401dab01413b1203bbc3": {
          "model_module": "@jupyter-widgets/controls",
          "model_name": "HTMLModel",
          "model_module_version": "1.5.0",
          "state": {
            "_dom_classes": [],
            "_model_module": "@jupyter-widgets/controls",
            "_model_module_version": "1.5.0",
            "_model_name": "HTMLModel",
            "_view_count": null,
            "_view_module": "@jupyter-widgets/controls",
            "_view_module_version": "1.5.0",
            "_view_name": "HTMLView",
            "description": "",
            "description_tooltip": null,
            "layout": "IPY_MODEL_59de220a56e84597b700998ed844b5cf",
            "placeholder": "​",
            "style": "IPY_MODEL_eb4f89a8dde74add800438441a689c19",
            "value": " 21.0M/21.0M [00:00&lt;00:00, 131MB/s]"
          }
        },
        "7defb5459ec1475ba2c65cb24d8da876": {
          "model_module": "@jupyter-widgets/base",
          "model_name": "LayoutModel",
          "model_module_version": "1.2.0",
          "state": {
            "_model_module": "@jupyter-widgets/base",
            "_model_module_version": "1.2.0",
            "_model_name": "LayoutModel",
            "_view_count": null,
            "_view_module": "@jupyter-widgets/base",
            "_view_module_version": "1.2.0",
            "_view_name": "LayoutView",
            "align_content": null,
            "align_items": null,
            "align_self": null,
            "border": null,
            "bottom": null,
            "display": null,
            "flex": null,
            "flex_flow": null,
            "grid_area": null,
            "grid_auto_columns": null,
            "grid_auto_flow": null,
            "grid_auto_rows": null,
            "grid_column": null,
            "grid_gap": null,
            "grid_row": null,
            "grid_template_areas": null,
            "grid_template_columns": null,
            "grid_template_rows": null,
            "height": null,
            "justify_content": null,
            "justify_items": null,
            "left": null,
            "margin": null,
            "max_height": null,
            "max_width": null,
            "min_height": null,
            "min_width": null,
            "object_fit": null,
            "object_position": null,
            "order": null,
            "overflow": null,
            "overflow_x": null,
            "overflow_y": null,
            "padding": null,
            "right": null,
            "top": null,
            "visibility": null,
            "width": null
          }
        },
        "10ec2572206c4787bd81de874fb2ef34": {
          "model_module": "@jupyter-widgets/base",
          "model_name": "LayoutModel",
          "model_module_version": "1.2.0",
          "state": {
            "_model_module": "@jupyter-widgets/base",
            "_model_module_version": "1.2.0",
            "_model_name": "LayoutModel",
            "_view_count": null,
            "_view_module": "@jupyter-widgets/base",
            "_view_module_version": "1.2.0",
            "_view_name": "LayoutView",
            "align_content": null,
            "align_items": null,
            "align_self": null,
            "border": null,
            "bottom": null,
            "display": null,
            "flex": null,
            "flex_flow": null,
            "grid_area": null,
            "grid_auto_columns": null,
            "grid_auto_flow": null,
            "grid_auto_rows": null,
            "grid_column": null,
            "grid_gap": null,
            "grid_row": null,
            "grid_template_areas": null,
            "grid_template_columns": null,
            "grid_template_rows": null,
            "height": null,
            "justify_content": null,
            "justify_items": null,
            "left": null,
            "margin": null,
            "max_height": null,
            "max_width": null,
            "min_height": null,
            "min_width": null,
            "object_fit": null,
            "object_position": null,
            "order": null,
            "overflow": null,
            "overflow_x": null,
            "overflow_y": null,
            "padding": null,
            "right": null,
            "top": null,
            "visibility": null,
            "width": null
          }
        },
        "8bda852a51664f2dadb623dc468c9baa": {
          "model_module": "@jupyter-widgets/controls",
          "model_name": "DescriptionStyleModel",
          "model_module_version": "1.5.0",
          "state": {
            "_model_module": "@jupyter-widgets/controls",
            "_model_module_version": "1.5.0",
            "_model_name": "DescriptionStyleModel",
            "_view_count": null,
            "_view_module": "@jupyter-widgets/base",
            "_view_module_version": "1.2.0",
            "_view_name": "StyleView",
            "description_width": ""
          }
        },
        "86cd7a04609e4f2a8404a4cdf1e19429": {
          "model_module": "@jupyter-widgets/base",
          "model_name": "LayoutModel",
          "model_module_version": "1.2.0",
          "state": {
            "_model_module": "@jupyter-widgets/base",
            "_model_module_version": "1.2.0",
            "_model_name": "LayoutModel",
            "_view_count": null,
            "_view_module": "@jupyter-widgets/base",
            "_view_module_version": "1.2.0",
            "_view_name": "LayoutView",
            "align_content": null,
            "align_items": null,
            "align_self": null,
            "border": null,
            "bottom": null,
            "display": null,
            "flex": null,
            "flex_flow": null,
            "grid_area": null,
            "grid_auto_columns": null,
            "grid_auto_flow": null,
            "grid_auto_rows": null,
            "grid_column": null,
            "grid_gap": null,
            "grid_row": null,
            "grid_template_areas": null,
            "grid_template_columns": null,
            "grid_template_rows": null,
            "height": null,
            "justify_content": null,
            "justify_items": null,
            "left": null,
            "margin": null,
            "max_height": null,
            "max_width": null,
            "min_height": null,
            "min_width": null,
            "object_fit": null,
            "object_position": null,
            "order": null,
            "overflow": null,
            "overflow_x": null,
            "overflow_y": null,
            "padding": null,
            "right": null,
            "top": null,
            "visibility": null,
            "width": null
          }
        },
        "7686c9836d5444b582cbde186bf55f54": {
          "model_module": "@jupyter-widgets/controls",
          "model_name": "ProgressStyleModel",
          "model_module_version": "1.5.0",
          "state": {
            "_model_module": "@jupyter-widgets/controls",
            "_model_module_version": "1.5.0",
            "_model_name": "ProgressStyleModel",
            "_view_count": null,
            "_view_module": "@jupyter-widgets/base",
            "_view_module_version": "1.2.0",
            "_view_name": "StyleView",
            "bar_color": null,
            "description_width": ""
          }
        },
        "59de220a56e84597b700998ed844b5cf": {
          "model_module": "@jupyter-widgets/base",
          "model_name": "LayoutModel",
          "model_module_version": "1.2.0",
          "state": {
            "_model_module": "@jupyter-widgets/base",
            "_model_module_version": "1.2.0",
            "_model_name": "LayoutModel",
            "_view_count": null,
            "_view_module": "@jupyter-widgets/base",
            "_view_module_version": "1.2.0",
            "_view_name": "LayoutView",
            "align_content": null,
            "align_items": null,
            "align_self": null,
            "border": null,
            "bottom": null,
            "display": null,
            "flex": null,
            "flex_flow": null,
            "grid_area": null,
            "grid_auto_columns": null,
            "grid_auto_flow": null,
            "grid_auto_rows": null,
            "grid_column": null,
            "grid_gap": null,
            "grid_row": null,
            "grid_template_areas": null,
            "grid_template_columns": null,
            "grid_template_rows": null,
            "height": null,
            "justify_content": null,
            "justify_items": null,
            "left": null,
            "margin": null,
            "max_height": null,
            "max_width": null,
            "min_height": null,
            "min_width": null,
            "object_fit": null,
            "object_position": null,
            "order": null,
            "overflow": null,
            "overflow_x": null,
            "overflow_y": null,
            "padding": null,
            "right": null,
            "top": null,
            "visibility": null,
            "width": null
          }
        },
        "eb4f89a8dde74add800438441a689c19": {
          "model_module": "@jupyter-widgets/controls",
          "model_name": "DescriptionStyleModel",
          "model_module_version": "1.5.0",
          "state": {
            "_model_module": "@jupyter-widgets/controls",
            "_model_module_version": "1.5.0",
            "_model_name": "DescriptionStyleModel",
            "_view_count": null,
            "_view_module": "@jupyter-widgets/base",
            "_view_module_version": "1.2.0",
            "_view_name": "StyleView",
            "description_width": ""
          }
        },
        "330b414dcaa84f2594abad5b6ee6e60e": {
          "model_module": "@jupyter-widgets/controls",
          "model_name": "HBoxModel",
          "model_module_version": "1.5.0",
          "state": {
            "_dom_classes": [],
            "_model_module": "@jupyter-widgets/controls",
            "_model_module_version": "1.5.0",
            "_model_name": "HBoxModel",
            "_view_count": null,
            "_view_module": "@jupyter-widgets/controls",
            "_view_module_version": "1.5.0",
            "_view_name": "HBoxView",
            "box_style": "",
            "children": [
              "IPY_MODEL_7b8d5e504626447fac48a71303a0f24e",
              "IPY_MODEL_af039dc020fd4f17b602c14444cff14b",
              "IPY_MODEL_d96e9938ee2046ef8a07954da873fc3b"
            ],
            "layout": "IPY_MODEL_f03edf22e0b0471eb150dbb9067ffc65"
          }
        },
        "7b8d5e504626447fac48a71303a0f24e": {
          "model_module": "@jupyter-widgets/controls",
          "model_name": "HTMLModel",
          "model_module_version": "1.5.0",
          "state": {
            "_dom_classes": [],
            "_model_module": "@jupyter-widgets/controls",
            "_model_module_version": "1.5.0",
            "_model_name": "HTMLModel",
            "_view_count": null,
            "_view_module": "@jupyter-widgets/controls",
            "_view_module_version": "1.5.0",
            "_view_name": "HTMLView",
            "description": "",
            "description_tooltip": null,
            "layout": "IPY_MODEL_6993506824d04989a33333c6abc66857",
            "placeholder": "​",
            "style": "IPY_MODEL_1c696b5e34c44168ad9f1358f271d676",
            "value": "test-00000-of-00001.parquet: 100%"
          }
        },
        "af039dc020fd4f17b602c14444cff14b": {
          "model_module": "@jupyter-widgets/controls",
          "model_name": "FloatProgressModel",
          "model_module_version": "1.5.0",
          "state": {
            "_dom_classes": [],
            "_model_module": "@jupyter-widgets/controls",
            "_model_module_version": "1.5.0",
            "_model_name": "FloatProgressModel",
            "_view_count": null,
            "_view_module": "@jupyter-widgets/controls",
            "_view_module_version": "1.5.0",
            "_view_name": "ProgressView",
            "bar_style": "success",
            "description": "",
            "description_tooltip": null,
            "layout": "IPY_MODEL_bd65f49385af4b9db7ac5d8d57f1467a",
            "max": 20470363,
            "min": 0,
            "orientation": "horizontal",
            "style": "IPY_MODEL_8be5e842f20d41848e7b1d6c918cad77",
            "value": 20470363
          }
        },
        "d96e9938ee2046ef8a07954da873fc3b": {
          "model_module": "@jupyter-widgets/controls",
          "model_name": "HTMLModel",
          "model_module_version": "1.5.0",
          "state": {
            "_dom_classes": [],
            "_model_module": "@jupyter-widgets/controls",
            "_model_module_version": "1.5.0",
            "_model_name": "HTMLModel",
            "_view_count": null,
            "_view_module": "@jupyter-widgets/controls",
            "_view_module_version": "1.5.0",
            "_view_name": "HTMLView",
            "description": "",
            "description_tooltip": null,
            "layout": "IPY_MODEL_bb828538447d40149a8b7c0fbb6b52ef",
            "placeholder": "​",
            "style": "IPY_MODEL_72109e197dc14f359d4f87df1d90a877",
            "value": " 20.5M/20.5M [00:00&lt;00:00, 70.1MB/s]"
          }
        },
        "f03edf22e0b0471eb150dbb9067ffc65": {
          "model_module": "@jupyter-widgets/base",
          "model_name": "LayoutModel",
          "model_module_version": "1.2.0",
          "state": {
            "_model_module": "@jupyter-widgets/base",
            "_model_module_version": "1.2.0",
            "_model_name": "LayoutModel",
            "_view_count": null,
            "_view_module": "@jupyter-widgets/base",
            "_view_module_version": "1.2.0",
            "_view_name": "LayoutView",
            "align_content": null,
            "align_items": null,
            "align_self": null,
            "border": null,
            "bottom": null,
            "display": null,
            "flex": null,
            "flex_flow": null,
            "grid_area": null,
            "grid_auto_columns": null,
            "grid_auto_flow": null,
            "grid_auto_rows": null,
            "grid_column": null,
            "grid_gap": null,
            "grid_row": null,
            "grid_template_areas": null,
            "grid_template_columns": null,
            "grid_template_rows": null,
            "height": null,
            "justify_content": null,
            "justify_items": null,
            "left": null,
            "margin": null,
            "max_height": null,
            "max_width": null,
            "min_height": null,
            "min_width": null,
            "object_fit": null,
            "object_position": null,
            "order": null,
            "overflow": null,
            "overflow_x": null,
            "overflow_y": null,
            "padding": null,
            "right": null,
            "top": null,
            "visibility": null,
            "width": null
          }
        },
        "6993506824d04989a33333c6abc66857": {
          "model_module": "@jupyter-widgets/base",
          "model_name": "LayoutModel",
          "model_module_version": "1.2.0",
          "state": {
            "_model_module": "@jupyter-widgets/base",
            "_model_module_version": "1.2.0",
            "_model_name": "LayoutModel",
            "_view_count": null,
            "_view_module": "@jupyter-widgets/base",
            "_view_module_version": "1.2.0",
            "_view_name": "LayoutView",
            "align_content": null,
            "align_items": null,
            "align_self": null,
            "border": null,
            "bottom": null,
            "display": null,
            "flex": null,
            "flex_flow": null,
            "grid_area": null,
            "grid_auto_columns": null,
            "grid_auto_flow": null,
            "grid_auto_rows": null,
            "grid_column": null,
            "grid_gap": null,
            "grid_row": null,
            "grid_template_areas": null,
            "grid_template_columns": null,
            "grid_template_rows": null,
            "height": null,
            "justify_content": null,
            "justify_items": null,
            "left": null,
            "margin": null,
            "max_height": null,
            "max_width": null,
            "min_height": null,
            "min_width": null,
            "object_fit": null,
            "object_position": null,
            "order": null,
            "overflow": null,
            "overflow_x": null,
            "overflow_y": null,
            "padding": null,
            "right": null,
            "top": null,
            "visibility": null,
            "width": null
          }
        },
        "1c696b5e34c44168ad9f1358f271d676": {
          "model_module": "@jupyter-widgets/controls",
          "model_name": "DescriptionStyleModel",
          "model_module_version": "1.5.0",
          "state": {
            "_model_module": "@jupyter-widgets/controls",
            "_model_module_version": "1.5.0",
            "_model_name": "DescriptionStyleModel",
            "_view_count": null,
            "_view_module": "@jupyter-widgets/base",
            "_view_module_version": "1.2.0",
            "_view_name": "StyleView",
            "description_width": ""
          }
        },
        "bd65f49385af4b9db7ac5d8d57f1467a": {
          "model_module": "@jupyter-widgets/base",
          "model_name": "LayoutModel",
          "model_module_version": "1.2.0",
          "state": {
            "_model_module": "@jupyter-widgets/base",
            "_model_module_version": "1.2.0",
            "_model_name": "LayoutModel",
            "_view_count": null,
            "_view_module": "@jupyter-widgets/base",
            "_view_module_version": "1.2.0",
            "_view_name": "LayoutView",
            "align_content": null,
            "align_items": null,
            "align_self": null,
            "border": null,
            "bottom": null,
            "display": null,
            "flex": null,
            "flex_flow": null,
            "grid_area": null,
            "grid_auto_columns": null,
            "grid_auto_flow": null,
            "grid_auto_rows": null,
            "grid_column": null,
            "grid_gap": null,
            "grid_row": null,
            "grid_template_areas": null,
            "grid_template_columns": null,
            "grid_template_rows": null,
            "height": null,
            "justify_content": null,
            "justify_items": null,
            "left": null,
            "margin": null,
            "max_height": null,
            "max_width": null,
            "min_height": null,
            "min_width": null,
            "object_fit": null,
            "object_position": null,
            "order": null,
            "overflow": null,
            "overflow_x": null,
            "overflow_y": null,
            "padding": null,
            "right": null,
            "top": null,
            "visibility": null,
            "width": null
          }
        },
        "8be5e842f20d41848e7b1d6c918cad77": {
          "model_module": "@jupyter-widgets/controls",
          "model_name": "ProgressStyleModel",
          "model_module_version": "1.5.0",
          "state": {
            "_model_module": "@jupyter-widgets/controls",
            "_model_module_version": "1.5.0",
            "_model_name": "ProgressStyleModel",
            "_view_count": null,
            "_view_module": "@jupyter-widgets/base",
            "_view_module_version": "1.2.0",
            "_view_name": "StyleView",
            "bar_color": null,
            "description_width": ""
          }
        },
        "bb828538447d40149a8b7c0fbb6b52ef": {
          "model_module": "@jupyter-widgets/base",
          "model_name": "LayoutModel",
          "model_module_version": "1.2.0",
          "state": {
            "_model_module": "@jupyter-widgets/base",
            "_model_module_version": "1.2.0",
            "_model_name": "LayoutModel",
            "_view_count": null,
            "_view_module": "@jupyter-widgets/base",
            "_view_module_version": "1.2.0",
            "_view_name": "LayoutView",
            "align_content": null,
            "align_items": null,
            "align_self": null,
            "border": null,
            "bottom": null,
            "display": null,
            "flex": null,
            "flex_flow": null,
            "grid_area": null,
            "grid_auto_columns": null,
            "grid_auto_flow": null,
            "grid_auto_rows": null,
            "grid_column": null,
            "grid_gap": null,
            "grid_row": null,
            "grid_template_areas": null,
            "grid_template_columns": null,
            "grid_template_rows": null,
            "height": null,
            "justify_content": null,
            "justify_items": null,
            "left": null,
            "margin": null,
            "max_height": null,
            "max_width": null,
            "min_height": null,
            "min_width": null,
            "object_fit": null,
            "object_position": null,
            "order": null,
            "overflow": null,
            "overflow_x": null,
            "overflow_y": null,
            "padding": null,
            "right": null,
            "top": null,
            "visibility": null,
            "width": null
          }
        },
        "72109e197dc14f359d4f87df1d90a877": {
          "model_module": "@jupyter-widgets/controls",
          "model_name": "DescriptionStyleModel",
          "model_module_version": "1.5.0",
          "state": {
            "_model_module": "@jupyter-widgets/controls",
            "_model_module_version": "1.5.0",
            "_model_name": "DescriptionStyleModel",
            "_view_count": null,
            "_view_module": "@jupyter-widgets/base",
            "_view_module_version": "1.2.0",
            "_view_name": "StyleView",
            "description_width": ""
          }
        },
        "794ad8dfa336451d822e7d3fcbe1f086": {
          "model_module": "@jupyter-widgets/controls",
          "model_name": "HBoxModel",
          "model_module_version": "1.5.0",
          "state": {
            "_dom_classes": [],
            "_model_module": "@jupyter-widgets/controls",
            "_model_module_version": "1.5.0",
            "_model_name": "HBoxModel",
            "_view_count": null,
            "_view_module": "@jupyter-widgets/controls",
            "_view_module_version": "1.5.0",
            "_view_name": "HBoxView",
            "box_style": "",
            "children": [
              "IPY_MODEL_8cfdf1e1066f42b7a079bdf46ed694ab",
              "IPY_MODEL_383d9a9ae40b44c3a684dfc03887ee2a",
              "IPY_MODEL_c3d877cd67064552ad6d104eadb966a3"
            ],
            "layout": "IPY_MODEL_2a1921953baa46f092a24bc913bfc416"
          }
        },
        "8cfdf1e1066f42b7a079bdf46ed694ab": {
          "model_module": "@jupyter-widgets/controls",
          "model_name": "HTMLModel",
          "model_module_version": "1.5.0",
          "state": {
            "_dom_classes": [],
            "_model_module": "@jupyter-widgets/controls",
            "_model_module_version": "1.5.0",
            "_model_name": "HTMLModel",
            "_view_count": null,
            "_view_module": "@jupyter-widgets/controls",
            "_view_module_version": "1.5.0",
            "_view_name": "HTMLView",
            "description": "",
            "description_tooltip": null,
            "layout": "IPY_MODEL_a1c7027ab39843549c0d121772bce930",
            "placeholder": "​",
            "style": "IPY_MODEL_57da3171a4394a47807e4feb96284a7d",
            "value": "unsupervised-00000-of-00001.parquet: 100%"
          }
        },
        "383d9a9ae40b44c3a684dfc03887ee2a": {
          "model_module": "@jupyter-widgets/controls",
          "model_name": "FloatProgressModel",
          "model_module_version": "1.5.0",
          "state": {
            "_dom_classes": [],
            "_model_module": "@jupyter-widgets/controls",
            "_model_module_version": "1.5.0",
            "_model_name": "FloatProgressModel",
            "_view_count": null,
            "_view_module": "@jupyter-widgets/controls",
            "_view_module_version": "1.5.0",
            "_view_name": "ProgressView",
            "bar_style": "success",
            "description": "",
            "description_tooltip": null,
            "layout": "IPY_MODEL_a2717e07d1ca4e968f41c68958419a59",
            "max": 41996509,
            "min": 0,
            "orientation": "horizontal",
            "style": "IPY_MODEL_c212596fff144cf5a3be0a51d757c16b",
            "value": 41996509
          }
        },
        "c3d877cd67064552ad6d104eadb966a3": {
          "model_module": "@jupyter-widgets/controls",
          "model_name": "HTMLModel",
          "model_module_version": "1.5.0",
          "state": {
            "_dom_classes": [],
            "_model_module": "@jupyter-widgets/controls",
            "_model_module_version": "1.5.0",
            "_model_name": "HTMLModel",
            "_view_count": null,
            "_view_module": "@jupyter-widgets/controls",
            "_view_module_version": "1.5.0",
            "_view_name": "HTMLView",
            "description": "",
            "description_tooltip": null,
            "layout": "IPY_MODEL_145b77ad1a2b4e5789ef3d6c6f5fb45d",
            "placeholder": "​",
            "style": "IPY_MODEL_da8b8963718e4420ac4f6e806bc6347b",
            "value": " 42.0M/42.0M [00:00&lt;00:00, 43.1MB/s]"
          }
        },
        "2a1921953baa46f092a24bc913bfc416": {
          "model_module": "@jupyter-widgets/base",
          "model_name": "LayoutModel",
          "model_module_version": "1.2.0",
          "state": {
            "_model_module": "@jupyter-widgets/base",
            "_model_module_version": "1.2.0",
            "_model_name": "LayoutModel",
            "_view_count": null,
            "_view_module": "@jupyter-widgets/base",
            "_view_module_version": "1.2.0",
            "_view_name": "LayoutView",
            "align_content": null,
            "align_items": null,
            "align_self": null,
            "border": null,
            "bottom": null,
            "display": null,
            "flex": null,
            "flex_flow": null,
            "grid_area": null,
            "grid_auto_columns": null,
            "grid_auto_flow": null,
            "grid_auto_rows": null,
            "grid_column": null,
            "grid_gap": null,
            "grid_row": null,
            "grid_template_areas": null,
            "grid_template_columns": null,
            "grid_template_rows": null,
            "height": null,
            "justify_content": null,
            "justify_items": null,
            "left": null,
            "margin": null,
            "max_height": null,
            "max_width": null,
            "min_height": null,
            "min_width": null,
            "object_fit": null,
            "object_position": null,
            "order": null,
            "overflow": null,
            "overflow_x": null,
            "overflow_y": null,
            "padding": null,
            "right": null,
            "top": null,
            "visibility": null,
            "width": null
          }
        },
        "a1c7027ab39843549c0d121772bce930": {
          "model_module": "@jupyter-widgets/base",
          "model_name": "LayoutModel",
          "model_module_version": "1.2.0",
          "state": {
            "_model_module": "@jupyter-widgets/base",
            "_model_module_version": "1.2.0",
            "_model_name": "LayoutModel",
            "_view_count": null,
            "_view_module": "@jupyter-widgets/base",
            "_view_module_version": "1.2.0",
            "_view_name": "LayoutView",
            "align_content": null,
            "align_items": null,
            "align_self": null,
            "border": null,
            "bottom": null,
            "display": null,
            "flex": null,
            "flex_flow": null,
            "grid_area": null,
            "grid_auto_columns": null,
            "grid_auto_flow": null,
            "grid_auto_rows": null,
            "grid_column": null,
            "grid_gap": null,
            "grid_row": null,
            "grid_template_areas": null,
            "grid_template_columns": null,
            "grid_template_rows": null,
            "height": null,
            "justify_content": null,
            "justify_items": null,
            "left": null,
            "margin": null,
            "max_height": null,
            "max_width": null,
            "min_height": null,
            "min_width": null,
            "object_fit": null,
            "object_position": null,
            "order": null,
            "overflow": null,
            "overflow_x": null,
            "overflow_y": null,
            "padding": null,
            "right": null,
            "top": null,
            "visibility": null,
            "width": null
          }
        },
        "57da3171a4394a47807e4feb96284a7d": {
          "model_module": "@jupyter-widgets/controls",
          "model_name": "DescriptionStyleModel",
          "model_module_version": "1.5.0",
          "state": {
            "_model_module": "@jupyter-widgets/controls",
            "_model_module_version": "1.5.0",
            "_model_name": "DescriptionStyleModel",
            "_view_count": null,
            "_view_module": "@jupyter-widgets/base",
            "_view_module_version": "1.2.0",
            "_view_name": "StyleView",
            "description_width": ""
          }
        },
        "a2717e07d1ca4e968f41c68958419a59": {
          "model_module": "@jupyter-widgets/base",
          "model_name": "LayoutModel",
          "model_module_version": "1.2.0",
          "state": {
            "_model_module": "@jupyter-widgets/base",
            "_model_module_version": "1.2.0",
            "_model_name": "LayoutModel",
            "_view_count": null,
            "_view_module": "@jupyter-widgets/base",
            "_view_module_version": "1.2.0",
            "_view_name": "LayoutView",
            "align_content": null,
            "align_items": null,
            "align_self": null,
            "border": null,
            "bottom": null,
            "display": null,
            "flex": null,
            "flex_flow": null,
            "grid_area": null,
            "grid_auto_columns": null,
            "grid_auto_flow": null,
            "grid_auto_rows": null,
            "grid_column": null,
            "grid_gap": null,
            "grid_row": null,
            "grid_template_areas": null,
            "grid_template_columns": null,
            "grid_template_rows": null,
            "height": null,
            "justify_content": null,
            "justify_items": null,
            "left": null,
            "margin": null,
            "max_height": null,
            "max_width": null,
            "min_height": null,
            "min_width": null,
            "object_fit": null,
            "object_position": null,
            "order": null,
            "overflow": null,
            "overflow_x": null,
            "overflow_y": null,
            "padding": null,
            "right": null,
            "top": null,
            "visibility": null,
            "width": null
          }
        },
        "c212596fff144cf5a3be0a51d757c16b": {
          "model_module": "@jupyter-widgets/controls",
          "model_name": "ProgressStyleModel",
          "model_module_version": "1.5.0",
          "state": {
            "_model_module": "@jupyter-widgets/controls",
            "_model_module_version": "1.5.0",
            "_model_name": "ProgressStyleModel",
            "_view_count": null,
            "_view_module": "@jupyter-widgets/base",
            "_view_module_version": "1.2.0",
            "_view_name": "StyleView",
            "bar_color": null,
            "description_width": ""
          }
        },
        "145b77ad1a2b4e5789ef3d6c6f5fb45d": {
          "model_module": "@jupyter-widgets/base",
          "model_name": "LayoutModel",
          "model_module_version": "1.2.0",
          "state": {
            "_model_module": "@jupyter-widgets/base",
            "_model_module_version": "1.2.0",
            "_model_name": "LayoutModel",
            "_view_count": null,
            "_view_module": "@jupyter-widgets/base",
            "_view_module_version": "1.2.0",
            "_view_name": "LayoutView",
            "align_content": null,
            "align_items": null,
            "align_self": null,
            "border": null,
            "bottom": null,
            "display": null,
            "flex": null,
            "flex_flow": null,
            "grid_area": null,
            "grid_auto_columns": null,
            "grid_auto_flow": null,
            "grid_auto_rows": null,
            "grid_column": null,
            "grid_gap": null,
            "grid_row": null,
            "grid_template_areas": null,
            "grid_template_columns": null,
            "grid_template_rows": null,
            "height": null,
            "justify_content": null,
            "justify_items": null,
            "left": null,
            "margin": null,
            "max_height": null,
            "max_width": null,
            "min_height": null,
            "min_width": null,
            "object_fit": null,
            "object_position": null,
            "order": null,
            "overflow": null,
            "overflow_x": null,
            "overflow_y": null,
            "padding": null,
            "right": null,
            "top": null,
            "visibility": null,
            "width": null
          }
        },
        "da8b8963718e4420ac4f6e806bc6347b": {
          "model_module": "@jupyter-widgets/controls",
          "model_name": "DescriptionStyleModel",
          "model_module_version": "1.5.0",
          "state": {
            "_model_module": "@jupyter-widgets/controls",
            "_model_module_version": "1.5.0",
            "_model_name": "DescriptionStyleModel",
            "_view_count": null,
            "_view_module": "@jupyter-widgets/base",
            "_view_module_version": "1.2.0",
            "_view_name": "StyleView",
            "description_width": ""
          }
        },
        "afdefe5ed98543faa32547755ffcdb3d": {
          "model_module": "@jupyter-widgets/controls",
          "model_name": "HBoxModel",
          "model_module_version": "1.5.0",
          "state": {
            "_dom_classes": [],
            "_model_module": "@jupyter-widgets/controls",
            "_model_module_version": "1.5.0",
            "_model_name": "HBoxModel",
            "_view_count": null,
            "_view_module": "@jupyter-widgets/controls",
            "_view_module_version": "1.5.0",
            "_view_name": "HBoxView",
            "box_style": "",
            "children": [
              "IPY_MODEL_0f9e8393fbcc4e5fba7d7164dd5f8edb",
              "IPY_MODEL_674e74b26bc04a9b99b5bb0c4bf5a2a2",
              "IPY_MODEL_1e687038e30849d0b580cea98c1ffe8a"
            ],
            "layout": "IPY_MODEL_7c84b67e1f5744a887f78104f83edc6d"
          }
        },
        "0f9e8393fbcc4e5fba7d7164dd5f8edb": {
          "model_module": "@jupyter-widgets/controls",
          "model_name": "HTMLModel",
          "model_module_version": "1.5.0",
          "state": {
            "_dom_classes": [],
            "_model_module": "@jupyter-widgets/controls",
            "_model_module_version": "1.5.0",
            "_model_name": "HTMLModel",
            "_view_count": null,
            "_view_module": "@jupyter-widgets/controls",
            "_view_module_version": "1.5.0",
            "_view_name": "HTMLView",
            "description": "",
            "description_tooltip": null,
            "layout": "IPY_MODEL_85e4b0e1db0745e4900d567453da322c",
            "placeholder": "​",
            "style": "IPY_MODEL_ea5871149d4e4d81ab4a4313300b64c5",
            "value": "Generating train split: 100%"
          }
        },
        "674e74b26bc04a9b99b5bb0c4bf5a2a2": {
          "model_module": "@jupyter-widgets/controls",
          "model_name": "FloatProgressModel",
          "model_module_version": "1.5.0",
          "state": {
            "_dom_classes": [],
            "_model_module": "@jupyter-widgets/controls",
            "_model_module_version": "1.5.0",
            "_model_name": "FloatProgressModel",
            "_view_count": null,
            "_view_module": "@jupyter-widgets/controls",
            "_view_module_version": "1.5.0",
            "_view_name": "ProgressView",
            "bar_style": "success",
            "description": "",
            "description_tooltip": null,
            "layout": "IPY_MODEL_5074179f430946e98511b785ae46b55e",
            "max": 25000,
            "min": 0,
            "orientation": "horizontal",
            "style": "IPY_MODEL_ed807c0af0c04ee7872656bf7c1b97c2",
            "value": 25000
          }
        },
        "1e687038e30849d0b580cea98c1ffe8a": {
          "model_module": "@jupyter-widgets/controls",
          "model_name": "HTMLModel",
          "model_module_version": "1.5.0",
          "state": {
            "_dom_classes": [],
            "_model_module": "@jupyter-widgets/controls",
            "_model_module_version": "1.5.0",
            "_model_name": "HTMLModel",
            "_view_count": null,
            "_view_module": "@jupyter-widgets/controls",
            "_view_module_version": "1.5.0",
            "_view_name": "HTMLView",
            "description": "",
            "description_tooltip": null,
            "layout": "IPY_MODEL_baab2746e52a42ffb844184187d9aace",
            "placeholder": "​",
            "style": "IPY_MODEL_414dbb7ca96248109c07cf1918613c49",
            "value": " 25000/25000 [00:00&lt;00:00, 49423.40 examples/s]"
          }
        },
        "7c84b67e1f5744a887f78104f83edc6d": {
          "model_module": "@jupyter-widgets/base",
          "model_name": "LayoutModel",
          "model_module_version": "1.2.0",
          "state": {
            "_model_module": "@jupyter-widgets/base",
            "_model_module_version": "1.2.0",
            "_model_name": "LayoutModel",
            "_view_count": null,
            "_view_module": "@jupyter-widgets/base",
            "_view_module_version": "1.2.0",
            "_view_name": "LayoutView",
            "align_content": null,
            "align_items": null,
            "align_self": null,
            "border": null,
            "bottom": null,
            "display": null,
            "flex": null,
            "flex_flow": null,
            "grid_area": null,
            "grid_auto_columns": null,
            "grid_auto_flow": null,
            "grid_auto_rows": null,
            "grid_column": null,
            "grid_gap": null,
            "grid_row": null,
            "grid_template_areas": null,
            "grid_template_columns": null,
            "grid_template_rows": null,
            "height": null,
            "justify_content": null,
            "justify_items": null,
            "left": null,
            "margin": null,
            "max_height": null,
            "max_width": null,
            "min_height": null,
            "min_width": null,
            "object_fit": null,
            "object_position": null,
            "order": null,
            "overflow": null,
            "overflow_x": null,
            "overflow_y": null,
            "padding": null,
            "right": null,
            "top": null,
            "visibility": null,
            "width": null
          }
        },
        "85e4b0e1db0745e4900d567453da322c": {
          "model_module": "@jupyter-widgets/base",
          "model_name": "LayoutModel",
          "model_module_version": "1.2.0",
          "state": {
            "_model_module": "@jupyter-widgets/base",
            "_model_module_version": "1.2.0",
            "_model_name": "LayoutModel",
            "_view_count": null,
            "_view_module": "@jupyter-widgets/base",
            "_view_module_version": "1.2.0",
            "_view_name": "LayoutView",
            "align_content": null,
            "align_items": null,
            "align_self": null,
            "border": null,
            "bottom": null,
            "display": null,
            "flex": null,
            "flex_flow": null,
            "grid_area": null,
            "grid_auto_columns": null,
            "grid_auto_flow": null,
            "grid_auto_rows": null,
            "grid_column": null,
            "grid_gap": null,
            "grid_row": null,
            "grid_template_areas": null,
            "grid_template_columns": null,
            "grid_template_rows": null,
            "height": null,
            "justify_content": null,
            "justify_items": null,
            "left": null,
            "margin": null,
            "max_height": null,
            "max_width": null,
            "min_height": null,
            "min_width": null,
            "object_fit": null,
            "object_position": null,
            "order": null,
            "overflow": null,
            "overflow_x": null,
            "overflow_y": null,
            "padding": null,
            "right": null,
            "top": null,
            "visibility": null,
            "width": null
          }
        },
        "ea5871149d4e4d81ab4a4313300b64c5": {
          "model_module": "@jupyter-widgets/controls",
          "model_name": "DescriptionStyleModel",
          "model_module_version": "1.5.0",
          "state": {
            "_model_module": "@jupyter-widgets/controls",
            "_model_module_version": "1.5.0",
            "_model_name": "DescriptionStyleModel",
            "_view_count": null,
            "_view_module": "@jupyter-widgets/base",
            "_view_module_version": "1.2.0",
            "_view_name": "StyleView",
            "description_width": ""
          }
        },
        "5074179f430946e98511b785ae46b55e": {
          "model_module": "@jupyter-widgets/base",
          "model_name": "LayoutModel",
          "model_module_version": "1.2.0",
          "state": {
            "_model_module": "@jupyter-widgets/base",
            "_model_module_version": "1.2.0",
            "_model_name": "LayoutModel",
            "_view_count": null,
            "_view_module": "@jupyter-widgets/base",
            "_view_module_version": "1.2.0",
            "_view_name": "LayoutView",
            "align_content": null,
            "align_items": null,
            "align_self": null,
            "border": null,
            "bottom": null,
            "display": null,
            "flex": null,
            "flex_flow": null,
            "grid_area": null,
            "grid_auto_columns": null,
            "grid_auto_flow": null,
            "grid_auto_rows": null,
            "grid_column": null,
            "grid_gap": null,
            "grid_row": null,
            "grid_template_areas": null,
            "grid_template_columns": null,
            "grid_template_rows": null,
            "height": null,
            "justify_content": null,
            "justify_items": null,
            "left": null,
            "margin": null,
            "max_height": null,
            "max_width": null,
            "min_height": null,
            "min_width": null,
            "object_fit": null,
            "object_position": null,
            "order": null,
            "overflow": null,
            "overflow_x": null,
            "overflow_y": null,
            "padding": null,
            "right": null,
            "top": null,
            "visibility": null,
            "width": null
          }
        },
        "ed807c0af0c04ee7872656bf7c1b97c2": {
          "model_module": "@jupyter-widgets/controls",
          "model_name": "ProgressStyleModel",
          "model_module_version": "1.5.0",
          "state": {
            "_model_module": "@jupyter-widgets/controls",
            "_model_module_version": "1.5.0",
            "_model_name": "ProgressStyleModel",
            "_view_count": null,
            "_view_module": "@jupyter-widgets/base",
            "_view_module_version": "1.2.0",
            "_view_name": "StyleView",
            "bar_color": null,
            "description_width": ""
          }
        },
        "baab2746e52a42ffb844184187d9aace": {
          "model_module": "@jupyter-widgets/base",
          "model_name": "LayoutModel",
          "model_module_version": "1.2.0",
          "state": {
            "_model_module": "@jupyter-widgets/base",
            "_model_module_version": "1.2.0",
            "_model_name": "LayoutModel",
            "_view_count": null,
            "_view_module": "@jupyter-widgets/base",
            "_view_module_version": "1.2.0",
            "_view_name": "LayoutView",
            "align_content": null,
            "align_items": null,
            "align_self": null,
            "border": null,
            "bottom": null,
            "display": null,
            "flex": null,
            "flex_flow": null,
            "grid_area": null,
            "grid_auto_columns": null,
            "grid_auto_flow": null,
            "grid_auto_rows": null,
            "grid_column": null,
            "grid_gap": null,
            "grid_row": null,
            "grid_template_areas": null,
            "grid_template_columns": null,
            "grid_template_rows": null,
            "height": null,
            "justify_content": null,
            "justify_items": null,
            "left": null,
            "margin": null,
            "max_height": null,
            "max_width": null,
            "min_height": null,
            "min_width": null,
            "object_fit": null,
            "object_position": null,
            "order": null,
            "overflow": null,
            "overflow_x": null,
            "overflow_y": null,
            "padding": null,
            "right": null,
            "top": null,
            "visibility": null,
            "width": null
          }
        },
        "414dbb7ca96248109c07cf1918613c49": {
          "model_module": "@jupyter-widgets/controls",
          "model_name": "DescriptionStyleModel",
          "model_module_version": "1.5.0",
          "state": {
            "_model_module": "@jupyter-widgets/controls",
            "_model_module_version": "1.5.0",
            "_model_name": "DescriptionStyleModel",
            "_view_count": null,
            "_view_module": "@jupyter-widgets/base",
            "_view_module_version": "1.2.0",
            "_view_name": "StyleView",
            "description_width": ""
          }
        },
        "7a737885942e4a2b8fcc514f88aa5690": {
          "model_module": "@jupyter-widgets/controls",
          "model_name": "HBoxModel",
          "model_module_version": "1.5.0",
          "state": {
            "_dom_classes": [],
            "_model_module": "@jupyter-widgets/controls",
            "_model_module_version": "1.5.0",
            "_model_name": "HBoxModel",
            "_view_count": null,
            "_view_module": "@jupyter-widgets/controls",
            "_view_module_version": "1.5.0",
            "_view_name": "HBoxView",
            "box_style": "",
            "children": [
              "IPY_MODEL_69c2c2e81f3847b2a47ad1c386ecd28d",
              "IPY_MODEL_4387e73b7f494114972d1224f36beed7",
              "IPY_MODEL_d4512e96ce0f4c08b4d21be11c069bd9"
            ],
            "layout": "IPY_MODEL_1980cd5491044fe8b24fdb823bc53365"
          }
        },
        "69c2c2e81f3847b2a47ad1c386ecd28d": {
          "model_module": "@jupyter-widgets/controls",
          "model_name": "HTMLModel",
          "model_module_version": "1.5.0",
          "state": {
            "_dom_classes": [],
            "_model_module": "@jupyter-widgets/controls",
            "_model_module_version": "1.5.0",
            "_model_name": "HTMLModel",
            "_view_count": null,
            "_view_module": "@jupyter-widgets/controls",
            "_view_module_version": "1.5.0",
            "_view_name": "HTMLView",
            "description": "",
            "description_tooltip": null,
            "layout": "IPY_MODEL_c8ef48963bca4ac68a3a7d7cf288a7fe",
            "placeholder": "​",
            "style": "IPY_MODEL_d6b7a33f89084422861f116bf9478ffe",
            "value": "Generating test split: 100%"
          }
        },
        "4387e73b7f494114972d1224f36beed7": {
          "model_module": "@jupyter-widgets/controls",
          "model_name": "FloatProgressModel",
          "model_module_version": "1.5.0",
          "state": {
            "_dom_classes": [],
            "_model_module": "@jupyter-widgets/controls",
            "_model_module_version": "1.5.0",
            "_model_name": "FloatProgressModel",
            "_view_count": null,
            "_view_module": "@jupyter-widgets/controls",
            "_view_module_version": "1.5.0",
            "_view_name": "ProgressView",
            "bar_style": "success",
            "description": "",
            "description_tooltip": null,
            "layout": "IPY_MODEL_7a8b078e429b42d2bca684ec90e0a910",
            "max": 25000,
            "min": 0,
            "orientation": "horizontal",
            "style": "IPY_MODEL_ca0676f7278d47929080d75c1893488f",
            "value": 25000
          }
        },
        "d4512e96ce0f4c08b4d21be11c069bd9": {
          "model_module": "@jupyter-widgets/controls",
          "model_name": "HTMLModel",
          "model_module_version": "1.5.0",
          "state": {
            "_dom_classes": [],
            "_model_module": "@jupyter-widgets/controls",
            "_model_module_version": "1.5.0",
            "_model_name": "HTMLModel",
            "_view_count": null,
            "_view_module": "@jupyter-widgets/controls",
            "_view_module_version": "1.5.0",
            "_view_name": "HTMLView",
            "description": "",
            "description_tooltip": null,
            "layout": "IPY_MODEL_2d0df85374034ccfb0d09f593cecf879",
            "placeholder": "​",
            "style": "IPY_MODEL_c0e3f4509bf044d5b29f774414d229e1",
            "value": " 25000/25000 [00:00&lt;00:00, 28288.56 examples/s]"
          }
        },
        "1980cd5491044fe8b24fdb823bc53365": {
          "model_module": "@jupyter-widgets/base",
          "model_name": "LayoutModel",
          "model_module_version": "1.2.0",
          "state": {
            "_model_module": "@jupyter-widgets/base",
            "_model_module_version": "1.2.0",
            "_model_name": "LayoutModel",
            "_view_count": null,
            "_view_module": "@jupyter-widgets/base",
            "_view_module_version": "1.2.0",
            "_view_name": "LayoutView",
            "align_content": null,
            "align_items": null,
            "align_self": null,
            "border": null,
            "bottom": null,
            "display": null,
            "flex": null,
            "flex_flow": null,
            "grid_area": null,
            "grid_auto_columns": null,
            "grid_auto_flow": null,
            "grid_auto_rows": null,
            "grid_column": null,
            "grid_gap": null,
            "grid_row": null,
            "grid_template_areas": null,
            "grid_template_columns": null,
            "grid_template_rows": null,
            "height": null,
            "justify_content": null,
            "justify_items": null,
            "left": null,
            "margin": null,
            "max_height": null,
            "max_width": null,
            "min_height": null,
            "min_width": null,
            "object_fit": null,
            "object_position": null,
            "order": null,
            "overflow": null,
            "overflow_x": null,
            "overflow_y": null,
            "padding": null,
            "right": null,
            "top": null,
            "visibility": null,
            "width": null
          }
        },
        "c8ef48963bca4ac68a3a7d7cf288a7fe": {
          "model_module": "@jupyter-widgets/base",
          "model_name": "LayoutModel",
          "model_module_version": "1.2.0",
          "state": {
            "_model_module": "@jupyter-widgets/base",
            "_model_module_version": "1.2.0",
            "_model_name": "LayoutModel",
            "_view_count": null,
            "_view_module": "@jupyter-widgets/base",
            "_view_module_version": "1.2.0",
            "_view_name": "LayoutView",
            "align_content": null,
            "align_items": null,
            "align_self": null,
            "border": null,
            "bottom": null,
            "display": null,
            "flex": null,
            "flex_flow": null,
            "grid_area": null,
            "grid_auto_columns": null,
            "grid_auto_flow": null,
            "grid_auto_rows": null,
            "grid_column": null,
            "grid_gap": null,
            "grid_row": null,
            "grid_template_areas": null,
            "grid_template_columns": null,
            "grid_template_rows": null,
            "height": null,
            "justify_content": null,
            "justify_items": null,
            "left": null,
            "margin": null,
            "max_height": null,
            "max_width": null,
            "min_height": null,
            "min_width": null,
            "object_fit": null,
            "object_position": null,
            "order": null,
            "overflow": null,
            "overflow_x": null,
            "overflow_y": null,
            "padding": null,
            "right": null,
            "top": null,
            "visibility": null,
            "width": null
          }
        },
        "d6b7a33f89084422861f116bf9478ffe": {
          "model_module": "@jupyter-widgets/controls",
          "model_name": "DescriptionStyleModel",
          "model_module_version": "1.5.0",
          "state": {
            "_model_module": "@jupyter-widgets/controls",
            "_model_module_version": "1.5.0",
            "_model_name": "DescriptionStyleModel",
            "_view_count": null,
            "_view_module": "@jupyter-widgets/base",
            "_view_module_version": "1.2.0",
            "_view_name": "StyleView",
            "description_width": ""
          }
        },
        "7a8b078e429b42d2bca684ec90e0a910": {
          "model_module": "@jupyter-widgets/base",
          "model_name": "LayoutModel",
          "model_module_version": "1.2.0",
          "state": {
            "_model_module": "@jupyter-widgets/base",
            "_model_module_version": "1.2.0",
            "_model_name": "LayoutModel",
            "_view_count": null,
            "_view_module": "@jupyter-widgets/base",
            "_view_module_version": "1.2.0",
            "_view_name": "LayoutView",
            "align_content": null,
            "align_items": null,
            "align_self": null,
            "border": null,
            "bottom": null,
            "display": null,
            "flex": null,
            "flex_flow": null,
            "grid_area": null,
            "grid_auto_columns": null,
            "grid_auto_flow": null,
            "grid_auto_rows": null,
            "grid_column": null,
            "grid_gap": null,
            "grid_row": null,
            "grid_template_areas": null,
            "grid_template_columns": null,
            "grid_template_rows": null,
            "height": null,
            "justify_content": null,
            "justify_items": null,
            "left": null,
            "margin": null,
            "max_height": null,
            "max_width": null,
            "min_height": null,
            "min_width": null,
            "object_fit": null,
            "object_position": null,
            "order": null,
            "overflow": null,
            "overflow_x": null,
            "overflow_y": null,
            "padding": null,
            "right": null,
            "top": null,
            "visibility": null,
            "width": null
          }
        },
        "ca0676f7278d47929080d75c1893488f": {
          "model_module": "@jupyter-widgets/controls",
          "model_name": "ProgressStyleModel",
          "model_module_version": "1.5.0",
          "state": {
            "_model_module": "@jupyter-widgets/controls",
            "_model_module_version": "1.5.0",
            "_model_name": "ProgressStyleModel",
            "_view_count": null,
            "_view_module": "@jupyter-widgets/base",
            "_view_module_version": "1.2.0",
            "_view_name": "StyleView",
            "bar_color": null,
            "description_width": ""
          }
        },
        "2d0df85374034ccfb0d09f593cecf879": {
          "model_module": "@jupyter-widgets/base",
          "model_name": "LayoutModel",
          "model_module_version": "1.2.0",
          "state": {
            "_model_module": "@jupyter-widgets/base",
            "_model_module_version": "1.2.0",
            "_model_name": "LayoutModel",
            "_view_count": null,
            "_view_module": "@jupyter-widgets/base",
            "_view_module_version": "1.2.0",
            "_view_name": "LayoutView",
            "align_content": null,
            "align_items": null,
            "align_self": null,
            "border": null,
            "bottom": null,
            "display": null,
            "flex": null,
            "flex_flow": null,
            "grid_area": null,
            "grid_auto_columns": null,
            "grid_auto_flow": null,
            "grid_auto_rows": null,
            "grid_column": null,
            "grid_gap": null,
            "grid_row": null,
            "grid_template_areas": null,
            "grid_template_columns": null,
            "grid_template_rows": null,
            "height": null,
            "justify_content": null,
            "justify_items": null,
            "left": null,
            "margin": null,
            "max_height": null,
            "max_width": null,
            "min_height": null,
            "min_width": null,
            "object_fit": null,
            "object_position": null,
            "order": null,
            "overflow": null,
            "overflow_x": null,
            "overflow_y": null,
            "padding": null,
            "right": null,
            "top": null,
            "visibility": null,
            "width": null
          }
        },
        "c0e3f4509bf044d5b29f774414d229e1": {
          "model_module": "@jupyter-widgets/controls",
          "model_name": "DescriptionStyleModel",
          "model_module_version": "1.5.0",
          "state": {
            "_model_module": "@jupyter-widgets/controls",
            "_model_module_version": "1.5.0",
            "_model_name": "DescriptionStyleModel",
            "_view_count": null,
            "_view_module": "@jupyter-widgets/base",
            "_view_module_version": "1.2.0",
            "_view_name": "StyleView",
            "description_width": ""
          }
        },
        "c36858b7395c4303b9faa5eac75b3dad": {
          "model_module": "@jupyter-widgets/controls",
          "model_name": "HBoxModel",
          "model_module_version": "1.5.0",
          "state": {
            "_dom_classes": [],
            "_model_module": "@jupyter-widgets/controls",
            "_model_module_version": "1.5.0",
            "_model_name": "HBoxModel",
            "_view_count": null,
            "_view_module": "@jupyter-widgets/controls",
            "_view_module_version": "1.5.0",
            "_view_name": "HBoxView",
            "box_style": "",
            "children": [
              "IPY_MODEL_4e1c2e9e9cdc4358b86ae4b9e37d00f4",
              "IPY_MODEL_19fdcd08adb64e75808fecf83b839745",
              "IPY_MODEL_20bc3d1db57c4c188447951fd19f49d3"
            ],
            "layout": "IPY_MODEL_3bbef8f94bdf4c088cc6315c2e369bea"
          }
        },
        "4e1c2e9e9cdc4358b86ae4b9e37d00f4": {
          "model_module": "@jupyter-widgets/controls",
          "model_name": "HTMLModel",
          "model_module_version": "1.5.0",
          "state": {
            "_dom_classes": [],
            "_model_module": "@jupyter-widgets/controls",
            "_model_module_version": "1.5.0",
            "_model_name": "HTMLModel",
            "_view_count": null,
            "_view_module": "@jupyter-widgets/controls",
            "_view_module_version": "1.5.0",
            "_view_name": "HTMLView",
            "description": "",
            "description_tooltip": null,
            "layout": "IPY_MODEL_c1ac2cf44f4d4eafba14d8573f487f47",
            "placeholder": "​",
            "style": "IPY_MODEL_03ae5ca17b7f46de960d901f7ef8295f",
            "value": "Generating unsupervised split: 100%"
          }
        },
        "19fdcd08adb64e75808fecf83b839745": {
          "model_module": "@jupyter-widgets/controls",
          "model_name": "FloatProgressModel",
          "model_module_version": "1.5.0",
          "state": {
            "_dom_classes": [],
            "_model_module": "@jupyter-widgets/controls",
            "_model_module_version": "1.5.0",
            "_model_name": "FloatProgressModel",
            "_view_count": null,
            "_view_module": "@jupyter-widgets/controls",
            "_view_module_version": "1.5.0",
            "_view_name": "ProgressView",
            "bar_style": "success",
            "description": "",
            "description_tooltip": null,
            "layout": "IPY_MODEL_808b88c5cc0d40f69eed2c80768a6b60",
            "max": 50000,
            "min": 0,
            "orientation": "horizontal",
            "style": "IPY_MODEL_9197fa6c53a34b709dd2df7e9d291d8e",
            "value": 50000
          }
        },
        "20bc3d1db57c4c188447951fd19f49d3": {
          "model_module": "@jupyter-widgets/controls",
          "model_name": "HTMLModel",
          "model_module_version": "1.5.0",
          "state": {
            "_dom_classes": [],
            "_model_module": "@jupyter-widgets/controls",
            "_model_module_version": "1.5.0",
            "_model_name": "HTMLModel",
            "_view_count": null,
            "_view_module": "@jupyter-widgets/controls",
            "_view_module_version": "1.5.0",
            "_view_name": "HTMLView",
            "description": "",
            "description_tooltip": null,
            "layout": "IPY_MODEL_8aca3390e4ee4dd1a0ff7558e6cc6a19",
            "placeholder": "​",
            "style": "IPY_MODEL_16d17e7d63b34a21930b9200ed115dd3",
            "value": " 50000/50000 [00:01&lt;00:00, 45413.40 examples/s]"
          }
        },
        "3bbef8f94bdf4c088cc6315c2e369bea": {
          "model_module": "@jupyter-widgets/base",
          "model_name": "LayoutModel",
          "model_module_version": "1.2.0",
          "state": {
            "_model_module": "@jupyter-widgets/base",
            "_model_module_version": "1.2.0",
            "_model_name": "LayoutModel",
            "_view_count": null,
            "_view_module": "@jupyter-widgets/base",
            "_view_module_version": "1.2.0",
            "_view_name": "LayoutView",
            "align_content": null,
            "align_items": null,
            "align_self": null,
            "border": null,
            "bottom": null,
            "display": null,
            "flex": null,
            "flex_flow": null,
            "grid_area": null,
            "grid_auto_columns": null,
            "grid_auto_flow": null,
            "grid_auto_rows": null,
            "grid_column": null,
            "grid_gap": null,
            "grid_row": null,
            "grid_template_areas": null,
            "grid_template_columns": null,
            "grid_template_rows": null,
            "height": null,
            "justify_content": null,
            "justify_items": null,
            "left": null,
            "margin": null,
            "max_height": null,
            "max_width": null,
            "min_height": null,
            "min_width": null,
            "object_fit": null,
            "object_position": null,
            "order": null,
            "overflow": null,
            "overflow_x": null,
            "overflow_y": null,
            "padding": null,
            "right": null,
            "top": null,
            "visibility": null,
            "width": null
          }
        },
        "c1ac2cf44f4d4eafba14d8573f487f47": {
          "model_module": "@jupyter-widgets/base",
          "model_name": "LayoutModel",
          "model_module_version": "1.2.0",
          "state": {
            "_model_module": "@jupyter-widgets/base",
            "_model_module_version": "1.2.0",
            "_model_name": "LayoutModel",
            "_view_count": null,
            "_view_module": "@jupyter-widgets/base",
            "_view_module_version": "1.2.0",
            "_view_name": "LayoutView",
            "align_content": null,
            "align_items": null,
            "align_self": null,
            "border": null,
            "bottom": null,
            "display": null,
            "flex": null,
            "flex_flow": null,
            "grid_area": null,
            "grid_auto_columns": null,
            "grid_auto_flow": null,
            "grid_auto_rows": null,
            "grid_column": null,
            "grid_gap": null,
            "grid_row": null,
            "grid_template_areas": null,
            "grid_template_columns": null,
            "grid_template_rows": null,
            "height": null,
            "justify_content": null,
            "justify_items": null,
            "left": null,
            "margin": null,
            "max_height": null,
            "max_width": null,
            "min_height": null,
            "min_width": null,
            "object_fit": null,
            "object_position": null,
            "order": null,
            "overflow": null,
            "overflow_x": null,
            "overflow_y": null,
            "padding": null,
            "right": null,
            "top": null,
            "visibility": null,
            "width": null
          }
        },
        "03ae5ca17b7f46de960d901f7ef8295f": {
          "model_module": "@jupyter-widgets/controls",
          "model_name": "DescriptionStyleModel",
          "model_module_version": "1.5.0",
          "state": {
            "_model_module": "@jupyter-widgets/controls",
            "_model_module_version": "1.5.0",
            "_model_name": "DescriptionStyleModel",
            "_view_count": null,
            "_view_module": "@jupyter-widgets/base",
            "_view_module_version": "1.2.0",
            "_view_name": "StyleView",
            "description_width": ""
          }
        },
        "808b88c5cc0d40f69eed2c80768a6b60": {
          "model_module": "@jupyter-widgets/base",
          "model_name": "LayoutModel",
          "model_module_version": "1.2.0",
          "state": {
            "_model_module": "@jupyter-widgets/base",
            "_model_module_version": "1.2.0",
            "_model_name": "LayoutModel",
            "_view_count": null,
            "_view_module": "@jupyter-widgets/base",
            "_view_module_version": "1.2.0",
            "_view_name": "LayoutView",
            "align_content": null,
            "align_items": null,
            "align_self": null,
            "border": null,
            "bottom": null,
            "display": null,
            "flex": null,
            "flex_flow": null,
            "grid_area": null,
            "grid_auto_columns": null,
            "grid_auto_flow": null,
            "grid_auto_rows": null,
            "grid_column": null,
            "grid_gap": null,
            "grid_row": null,
            "grid_template_areas": null,
            "grid_template_columns": null,
            "grid_template_rows": null,
            "height": null,
            "justify_content": null,
            "justify_items": null,
            "left": null,
            "margin": null,
            "max_height": null,
            "max_width": null,
            "min_height": null,
            "min_width": null,
            "object_fit": null,
            "object_position": null,
            "order": null,
            "overflow": null,
            "overflow_x": null,
            "overflow_y": null,
            "padding": null,
            "right": null,
            "top": null,
            "visibility": null,
            "width": null
          }
        },
        "9197fa6c53a34b709dd2df7e9d291d8e": {
          "model_module": "@jupyter-widgets/controls",
          "model_name": "ProgressStyleModel",
          "model_module_version": "1.5.0",
          "state": {
            "_model_module": "@jupyter-widgets/controls",
            "_model_module_version": "1.5.0",
            "_model_name": "ProgressStyleModel",
            "_view_count": null,
            "_view_module": "@jupyter-widgets/base",
            "_view_module_version": "1.2.0",
            "_view_name": "StyleView",
            "bar_color": null,
            "description_width": ""
          }
        },
        "8aca3390e4ee4dd1a0ff7558e6cc6a19": {
          "model_module": "@jupyter-widgets/base",
          "model_name": "LayoutModel",
          "model_module_version": "1.2.0",
          "state": {
            "_model_module": "@jupyter-widgets/base",
            "_model_module_version": "1.2.0",
            "_model_name": "LayoutModel",
            "_view_count": null,
            "_view_module": "@jupyter-widgets/base",
            "_view_module_version": "1.2.0",
            "_view_name": "LayoutView",
            "align_content": null,
            "align_items": null,
            "align_self": null,
            "border": null,
            "bottom": null,
            "display": null,
            "flex": null,
            "flex_flow": null,
            "grid_area": null,
            "grid_auto_columns": null,
            "grid_auto_flow": null,
            "grid_auto_rows": null,
            "grid_column": null,
            "grid_gap": null,
            "grid_row": null,
            "grid_template_areas": null,
            "grid_template_columns": null,
            "grid_template_rows": null,
            "height": null,
            "justify_content": null,
            "justify_items": null,
            "left": null,
            "margin": null,
            "max_height": null,
            "max_width": null,
            "min_height": null,
            "min_width": null,
            "object_fit": null,
            "object_position": null,
            "order": null,
            "overflow": null,
            "overflow_x": null,
            "overflow_y": null,
            "padding": null,
            "right": null,
            "top": null,
            "visibility": null,
            "width": null
          }
        },
        "16d17e7d63b34a21930b9200ed115dd3": {
          "model_module": "@jupyter-widgets/controls",
          "model_name": "DescriptionStyleModel",
          "model_module_version": "1.5.0",
          "state": {
            "_model_module": "@jupyter-widgets/controls",
            "_model_module_version": "1.5.0",
            "_model_name": "DescriptionStyleModel",
            "_view_count": null,
            "_view_module": "@jupyter-widgets/base",
            "_view_module_version": "1.2.0",
            "_view_name": "StyleView",
            "description_width": ""
          }
        },
        "ed32846ad7524581a46e132901e0dda3": {
          "model_module": "@jupyter-widgets/controls",
          "model_name": "HBoxModel",
          "model_module_version": "1.5.0",
          "state": {
            "_dom_classes": [],
            "_model_module": "@jupyter-widgets/controls",
            "_model_module_version": "1.5.0",
            "_model_name": "HBoxModel",
            "_view_count": null,
            "_view_module": "@jupyter-widgets/controls",
            "_view_module_version": "1.5.0",
            "_view_name": "HBoxView",
            "box_style": "",
            "children": [
              "IPY_MODEL_06a348559cff49cc876c9fade3647d5e",
              "IPY_MODEL_fea24594c6b44460a66696484176e2a9",
              "IPY_MODEL_d3a4aa7aceb74008b320d47e12cb46d4"
            ],
            "layout": "IPY_MODEL_23dac0ee7b304194b968bc00467f5927"
          }
        },
        "06a348559cff49cc876c9fade3647d5e": {
          "model_module": "@jupyter-widgets/controls",
          "model_name": "HTMLModel",
          "model_module_version": "1.5.0",
          "state": {
            "_dom_classes": [],
            "_model_module": "@jupyter-widgets/controls",
            "_model_module_version": "1.5.0",
            "_model_name": "HTMLModel",
            "_view_count": null,
            "_view_module": "@jupyter-widgets/controls",
            "_view_module_version": "1.5.0",
            "_view_name": "HTMLView",
            "description": "",
            "description_tooltip": null,
            "layout": "IPY_MODEL_317d746d746c481d9540bb8b896c2813",
            "placeholder": "​",
            "style": "IPY_MODEL_c505070de20542908b1fb943360d1fd5",
            "value": "Map: 100%"
          }
        },
        "fea24594c6b44460a66696484176e2a9": {
          "model_module": "@jupyter-widgets/controls",
          "model_name": "FloatProgressModel",
          "model_module_version": "1.5.0",
          "state": {
            "_dom_classes": [],
            "_model_module": "@jupyter-widgets/controls",
            "_model_module_version": "1.5.0",
            "_model_name": "FloatProgressModel",
            "_view_count": null,
            "_view_module": "@jupyter-widgets/controls",
            "_view_module_version": "1.5.0",
            "_view_name": "ProgressView",
            "bar_style": "success",
            "description": "",
            "description_tooltip": null,
            "layout": "IPY_MODEL_12f45f086a8b436582ea4ed259d7b297",
            "max": 1000,
            "min": 0,
            "orientation": "horizontal",
            "style": "IPY_MODEL_af5dcaa9bef74fabb13e1629a6bd39ba",
            "value": 1000
          }
        },
        "d3a4aa7aceb74008b320d47e12cb46d4": {
          "model_module": "@jupyter-widgets/controls",
          "model_name": "HTMLModel",
          "model_module_version": "1.5.0",
          "state": {
            "_dom_classes": [],
            "_model_module": "@jupyter-widgets/controls",
            "_model_module_version": "1.5.0",
            "_model_name": "HTMLModel",
            "_view_count": null,
            "_view_module": "@jupyter-widgets/controls",
            "_view_module_version": "1.5.0",
            "_view_name": "HTMLView",
            "description": "",
            "description_tooltip": null,
            "layout": "IPY_MODEL_53a6ca0e90a747e19179519b6a47bd7b",
            "placeholder": "​",
            "style": "IPY_MODEL_ffa74570abc746f89ecc0efc861f2e7a",
            "value": " 1000/1000 [00:16&lt;00:00, 59.88 examples/s]"
          }
        },
        "23dac0ee7b304194b968bc00467f5927": {
          "model_module": "@jupyter-widgets/base",
          "model_name": "LayoutModel",
          "model_module_version": "1.2.0",
          "state": {
            "_model_module": "@jupyter-widgets/base",
            "_model_module_version": "1.2.0",
            "_model_name": "LayoutModel",
            "_view_count": null,
            "_view_module": "@jupyter-widgets/base",
            "_view_module_version": "1.2.0",
            "_view_name": "LayoutView",
            "align_content": null,
            "align_items": null,
            "align_self": null,
            "border": null,
            "bottom": null,
            "display": null,
            "flex": null,
            "flex_flow": null,
            "grid_area": null,
            "grid_auto_columns": null,
            "grid_auto_flow": null,
            "grid_auto_rows": null,
            "grid_column": null,
            "grid_gap": null,
            "grid_row": null,
            "grid_template_areas": null,
            "grid_template_columns": null,
            "grid_template_rows": null,
            "height": null,
            "justify_content": null,
            "justify_items": null,
            "left": null,
            "margin": null,
            "max_height": null,
            "max_width": null,
            "min_height": null,
            "min_width": null,
            "object_fit": null,
            "object_position": null,
            "order": null,
            "overflow": null,
            "overflow_x": null,
            "overflow_y": null,
            "padding": null,
            "right": null,
            "top": null,
            "visibility": null,
            "width": null
          }
        },
        "317d746d746c481d9540bb8b896c2813": {
          "model_module": "@jupyter-widgets/base",
          "model_name": "LayoutModel",
          "model_module_version": "1.2.0",
          "state": {
            "_model_module": "@jupyter-widgets/base",
            "_model_module_version": "1.2.0",
            "_model_name": "LayoutModel",
            "_view_count": null,
            "_view_module": "@jupyter-widgets/base",
            "_view_module_version": "1.2.0",
            "_view_name": "LayoutView",
            "align_content": null,
            "align_items": null,
            "align_self": null,
            "border": null,
            "bottom": null,
            "display": null,
            "flex": null,
            "flex_flow": null,
            "grid_area": null,
            "grid_auto_columns": null,
            "grid_auto_flow": null,
            "grid_auto_rows": null,
            "grid_column": null,
            "grid_gap": null,
            "grid_row": null,
            "grid_template_areas": null,
            "grid_template_columns": null,
            "grid_template_rows": null,
            "height": null,
            "justify_content": null,
            "justify_items": null,
            "left": null,
            "margin": null,
            "max_height": null,
            "max_width": null,
            "min_height": null,
            "min_width": null,
            "object_fit": null,
            "object_position": null,
            "order": null,
            "overflow": null,
            "overflow_x": null,
            "overflow_y": null,
            "padding": null,
            "right": null,
            "top": null,
            "visibility": null,
            "width": null
          }
        },
        "c505070de20542908b1fb943360d1fd5": {
          "model_module": "@jupyter-widgets/controls",
          "model_name": "DescriptionStyleModel",
          "model_module_version": "1.5.0",
          "state": {
            "_model_module": "@jupyter-widgets/controls",
            "_model_module_version": "1.5.0",
            "_model_name": "DescriptionStyleModel",
            "_view_count": null,
            "_view_module": "@jupyter-widgets/base",
            "_view_module_version": "1.2.0",
            "_view_name": "StyleView",
            "description_width": ""
          }
        },
        "12f45f086a8b436582ea4ed259d7b297": {
          "model_module": "@jupyter-widgets/base",
          "model_name": "LayoutModel",
          "model_module_version": "1.2.0",
          "state": {
            "_model_module": "@jupyter-widgets/base",
            "_model_module_version": "1.2.0",
            "_model_name": "LayoutModel",
            "_view_count": null,
            "_view_module": "@jupyter-widgets/base",
            "_view_module_version": "1.2.0",
            "_view_name": "LayoutView",
            "align_content": null,
            "align_items": null,
            "align_self": null,
            "border": null,
            "bottom": null,
            "display": null,
            "flex": null,
            "flex_flow": null,
            "grid_area": null,
            "grid_auto_columns": null,
            "grid_auto_flow": null,
            "grid_auto_rows": null,
            "grid_column": null,
            "grid_gap": null,
            "grid_row": null,
            "grid_template_areas": null,
            "grid_template_columns": null,
            "grid_template_rows": null,
            "height": null,
            "justify_content": null,
            "justify_items": null,
            "left": null,
            "margin": null,
            "max_height": null,
            "max_width": null,
            "min_height": null,
            "min_width": null,
            "object_fit": null,
            "object_position": null,
            "order": null,
            "overflow": null,
            "overflow_x": null,
            "overflow_y": null,
            "padding": null,
            "right": null,
            "top": null,
            "visibility": null,
            "width": null
          }
        },
        "af5dcaa9bef74fabb13e1629a6bd39ba": {
          "model_module": "@jupyter-widgets/controls",
          "model_name": "ProgressStyleModel",
          "model_module_version": "1.5.0",
          "state": {
            "_model_module": "@jupyter-widgets/controls",
            "_model_module_version": "1.5.0",
            "_model_name": "ProgressStyleModel",
            "_view_count": null,
            "_view_module": "@jupyter-widgets/base",
            "_view_module_version": "1.2.0",
            "_view_name": "StyleView",
            "bar_color": null,
            "description_width": ""
          }
        },
        "53a6ca0e90a747e19179519b6a47bd7b": {
          "model_module": "@jupyter-widgets/base",
          "model_name": "LayoutModel",
          "model_module_version": "1.2.0",
          "state": {
            "_model_module": "@jupyter-widgets/base",
            "_model_module_version": "1.2.0",
            "_model_name": "LayoutModel",
            "_view_count": null,
            "_view_module": "@jupyter-widgets/base",
            "_view_module_version": "1.2.0",
            "_view_name": "LayoutView",
            "align_content": null,
            "align_items": null,
            "align_self": null,
            "border": null,
            "bottom": null,
            "display": null,
            "flex": null,
            "flex_flow": null,
            "grid_area": null,
            "grid_auto_columns": null,
            "grid_auto_flow": null,
            "grid_auto_rows": null,
            "grid_column": null,
            "grid_gap": null,
            "grid_row": null,
            "grid_template_areas": null,
            "grid_template_columns": null,
            "grid_template_rows": null,
            "height": null,
            "justify_content": null,
            "justify_items": null,
            "left": null,
            "margin": null,
            "max_height": null,
            "max_width": null,
            "min_height": null,
            "min_width": null,
            "object_fit": null,
            "object_position": null,
            "order": null,
            "overflow": null,
            "overflow_x": null,
            "overflow_y": null,
            "padding": null,
            "right": null,
            "top": null,
            "visibility": null,
            "width": null
          }
        },
        "ffa74570abc746f89ecc0efc861f2e7a": {
          "model_module": "@jupyter-widgets/controls",
          "model_name": "DescriptionStyleModel",
          "model_module_version": "1.5.0",
          "state": {
            "_model_module": "@jupyter-widgets/controls",
            "_model_module_version": "1.5.0",
            "_model_name": "DescriptionStyleModel",
            "_view_count": null,
            "_view_module": "@jupyter-widgets/base",
            "_view_module_version": "1.2.0",
            "_view_name": "StyleView",
            "description_width": ""
          }
        },
        "0434e9dd6cae476fb64a5c9cf6aac49a": {
          "model_module": "@jupyter-widgets/controls",
          "model_name": "HBoxModel",
          "model_module_version": "1.5.0",
          "state": {
            "_dom_classes": [],
            "_model_module": "@jupyter-widgets/controls",
            "_model_module_version": "1.5.0",
            "_model_name": "HBoxModel",
            "_view_count": null,
            "_view_module": "@jupyter-widgets/controls",
            "_view_module_version": "1.5.0",
            "_view_name": "HBoxView",
            "box_style": "",
            "children": [
              "IPY_MODEL_dbffbdcb5b0c477a850c34ea977f817c",
              "IPY_MODEL_5a28f5eff8c54d4ea5d63009ebe37d32",
              "IPY_MODEL_09d90f96de044287a32f7e37f7267f41"
            ],
            "layout": "IPY_MODEL_6acf64899e2e4d7f83741515e5b6149a"
          }
        },
        "dbffbdcb5b0c477a850c34ea977f817c": {
          "model_module": "@jupyter-widgets/controls",
          "model_name": "HTMLModel",
          "model_module_version": "1.5.0",
          "state": {
            "_dom_classes": [],
            "_model_module": "@jupyter-widgets/controls",
            "_model_module_version": "1.5.0",
            "_model_name": "HTMLModel",
            "_view_count": null,
            "_view_module": "@jupyter-widgets/controls",
            "_view_module_version": "1.5.0",
            "_view_name": "HTMLView",
            "description": "",
            "description_tooltip": null,
            "layout": "IPY_MODEL_f1f90595fa2d4ef089ddf3d1ae9af6c1",
            "placeholder": "​",
            "style": "IPY_MODEL_59d9f7d315f9476aa218c6ab0d12a28c",
            "value": "Map:   0%"
          }
        },
        "5a28f5eff8c54d4ea5d63009ebe37d32": {
          "model_module": "@jupyter-widgets/controls",
          "model_name": "FloatProgressModel",
          "model_module_version": "1.5.0",
          "state": {
            "_dom_classes": [],
            "_model_module": "@jupyter-widgets/controls",
            "_model_module_version": "1.5.0",
            "_model_name": "FloatProgressModel",
            "_view_count": null,
            "_view_module": "@jupyter-widgets/controls",
            "_view_module_version": "1.5.0",
            "_view_name": "ProgressView",
            "bar_style": "",
            "description": "",
            "description_tooltip": null,
            "layout": "IPY_MODEL_155da489580c4ae48d7e206311f96964",
            "max": 1000,
            "min": 0,
            "orientation": "horizontal",
            "style": "IPY_MODEL_d539713a0e3f496bba0cd37e2ee693ad",
            "value": 0
          }
        },
        "09d90f96de044287a32f7e37f7267f41": {
          "model_module": "@jupyter-widgets/controls",
          "model_name": "HTMLModel",
          "model_module_version": "1.5.0",
          "state": {
            "_dom_classes": [],
            "_model_module": "@jupyter-widgets/controls",
            "_model_module_version": "1.5.0",
            "_model_name": "HTMLModel",
            "_view_count": null,
            "_view_module": "@jupyter-widgets/controls",
            "_view_module_version": "1.5.0",
            "_view_name": "HTMLView",
            "description": "",
            "description_tooltip": null,
            "layout": "IPY_MODEL_ccb238b9978f448a8ae48f4f6db92bdc",
            "placeholder": "​",
            "style": "IPY_MODEL_d46036ad3b944f728978d43264f7e18a",
            "value": " 0/1000 [00:00&lt;?, ? examples/s]"
          }
        },
        "6acf64899e2e4d7f83741515e5b6149a": {
          "model_module": "@jupyter-widgets/base",
          "model_name": "LayoutModel",
          "model_module_version": "1.2.0",
          "state": {
            "_model_module": "@jupyter-widgets/base",
            "_model_module_version": "1.2.0",
            "_model_name": "LayoutModel",
            "_view_count": null,
            "_view_module": "@jupyter-widgets/base",
            "_view_module_version": "1.2.0",
            "_view_name": "LayoutView",
            "align_content": null,
            "align_items": null,
            "align_self": null,
            "border": null,
            "bottom": null,
            "display": null,
            "flex": null,
            "flex_flow": null,
            "grid_area": null,
            "grid_auto_columns": null,
            "grid_auto_flow": null,
            "grid_auto_rows": null,
            "grid_column": null,
            "grid_gap": null,
            "grid_row": null,
            "grid_template_areas": null,
            "grid_template_columns": null,
            "grid_template_rows": null,
            "height": null,
            "justify_content": null,
            "justify_items": null,
            "left": null,
            "margin": null,
            "max_height": null,
            "max_width": null,
            "min_height": null,
            "min_width": null,
            "object_fit": null,
            "object_position": null,
            "order": null,
            "overflow": null,
            "overflow_x": null,
            "overflow_y": null,
            "padding": null,
            "right": null,
            "top": null,
            "visibility": null,
            "width": null
          }
        },
        "f1f90595fa2d4ef089ddf3d1ae9af6c1": {
          "model_module": "@jupyter-widgets/base",
          "model_name": "LayoutModel",
          "model_module_version": "1.2.0",
          "state": {
            "_model_module": "@jupyter-widgets/base",
            "_model_module_version": "1.2.0",
            "_model_name": "LayoutModel",
            "_view_count": null,
            "_view_module": "@jupyter-widgets/base",
            "_view_module_version": "1.2.0",
            "_view_name": "LayoutView",
            "align_content": null,
            "align_items": null,
            "align_self": null,
            "border": null,
            "bottom": null,
            "display": null,
            "flex": null,
            "flex_flow": null,
            "grid_area": null,
            "grid_auto_columns": null,
            "grid_auto_flow": null,
            "grid_auto_rows": null,
            "grid_column": null,
            "grid_gap": null,
            "grid_row": null,
            "grid_template_areas": null,
            "grid_template_columns": null,
            "grid_template_rows": null,
            "height": null,
            "justify_content": null,
            "justify_items": null,
            "left": null,
            "margin": null,
            "max_height": null,
            "max_width": null,
            "min_height": null,
            "min_width": null,
            "object_fit": null,
            "object_position": null,
            "order": null,
            "overflow": null,
            "overflow_x": null,
            "overflow_y": null,
            "padding": null,
            "right": null,
            "top": null,
            "visibility": null,
            "width": null
          }
        },
        "59d9f7d315f9476aa218c6ab0d12a28c": {
          "model_module": "@jupyter-widgets/controls",
          "model_name": "DescriptionStyleModel",
          "model_module_version": "1.5.0",
          "state": {
            "_model_module": "@jupyter-widgets/controls",
            "_model_module_version": "1.5.0",
            "_model_name": "DescriptionStyleModel",
            "_view_count": null,
            "_view_module": "@jupyter-widgets/base",
            "_view_module_version": "1.2.0",
            "_view_name": "StyleView",
            "description_width": ""
          }
        },
        "155da489580c4ae48d7e206311f96964": {
          "model_module": "@jupyter-widgets/base",
          "model_name": "LayoutModel",
          "model_module_version": "1.2.0",
          "state": {
            "_model_module": "@jupyter-widgets/base",
            "_model_module_version": "1.2.0",
            "_model_name": "LayoutModel",
            "_view_count": null,
            "_view_module": "@jupyter-widgets/base",
            "_view_module_version": "1.2.0",
            "_view_name": "LayoutView",
            "align_content": null,
            "align_items": null,
            "align_self": null,
            "border": null,
            "bottom": null,
            "display": null,
            "flex": null,
            "flex_flow": null,
            "grid_area": null,
            "grid_auto_columns": null,
            "grid_auto_flow": null,
            "grid_auto_rows": null,
            "grid_column": null,
            "grid_gap": null,
            "grid_row": null,
            "grid_template_areas": null,
            "grid_template_columns": null,
            "grid_template_rows": null,
            "height": null,
            "justify_content": null,
            "justify_items": null,
            "left": null,
            "margin": null,
            "max_height": null,
            "max_width": null,
            "min_height": null,
            "min_width": null,
            "object_fit": null,
            "object_position": null,
            "order": null,
            "overflow": null,
            "overflow_x": null,
            "overflow_y": null,
            "padding": null,
            "right": null,
            "top": null,
            "visibility": null,
            "width": null
          }
        },
        "d539713a0e3f496bba0cd37e2ee693ad": {
          "model_module": "@jupyter-widgets/controls",
          "model_name": "ProgressStyleModel",
          "model_module_version": "1.5.0",
          "state": {
            "_model_module": "@jupyter-widgets/controls",
            "_model_module_version": "1.5.0",
            "_model_name": "ProgressStyleModel",
            "_view_count": null,
            "_view_module": "@jupyter-widgets/base",
            "_view_module_version": "1.2.0",
            "_view_name": "StyleView",
            "bar_color": null,
            "description_width": ""
          }
        },
        "ccb238b9978f448a8ae48f4f6db92bdc": {
          "model_module": "@jupyter-widgets/base",
          "model_name": "LayoutModel",
          "model_module_version": "1.2.0",
          "state": {
            "_model_module": "@jupyter-widgets/base",
            "_model_module_version": "1.2.0",
            "_model_name": "LayoutModel",
            "_view_count": null,
            "_view_module": "@jupyter-widgets/base",
            "_view_module_version": "1.2.0",
            "_view_name": "LayoutView",
            "align_content": null,
            "align_items": null,
            "align_self": null,
            "border": null,
            "bottom": null,
            "display": null,
            "flex": null,
            "flex_flow": null,
            "grid_area": null,
            "grid_auto_columns": null,
            "grid_auto_flow": null,
            "grid_auto_rows": null,
            "grid_column": null,
            "grid_gap": null,
            "grid_row": null,
            "grid_template_areas": null,
            "grid_template_columns": null,
            "grid_template_rows": null,
            "height": null,
            "justify_content": null,
            "justify_items": null,
            "left": null,
            "margin": null,
            "max_height": null,
            "max_width": null,
            "min_height": null,
            "min_width": null,
            "object_fit": null,
            "object_position": null,
            "order": null,
            "overflow": null,
            "overflow_x": null,
            "overflow_y": null,
            "padding": null,
            "right": null,
            "top": null,
            "visibility": null,
            "width": null
          }
        },
        "d46036ad3b944f728978d43264f7e18a": {
          "model_module": "@jupyter-widgets/controls",
          "model_name": "DescriptionStyleModel",
          "model_module_version": "1.5.0",
          "state": {
            "_model_module": "@jupyter-widgets/controls",
            "_model_module_version": "1.5.0",
            "_model_name": "DescriptionStyleModel",
            "_view_count": null,
            "_view_module": "@jupyter-widgets/base",
            "_view_module_version": "1.2.0",
            "_view_name": "StyleView",
            "description_width": ""
          }
        }
      }
    }
  },
  "nbformat": 4,
  "nbformat_minor": 5
}