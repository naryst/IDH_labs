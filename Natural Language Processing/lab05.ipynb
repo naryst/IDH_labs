{
 "cells": [
  {
   "cell_type": "markdown",
   "metadata": {},
   "source": [
    "# NLP. Lesson 5. Fully connected language models. Sampling\n",
    "\n",
    "### Language models\n",
    "In the previous lesson we considered the statistical language model N-grams. This lesson will be partially dedicated to a special case of Neural Language Models - _Fully connected language model_. There are also Recurrent Neural Networks (RNNs), Long Short-Term Memory Networks (LSTMs), and Transformers.\n",
    "\n",
    "**Feed-forward language models** for text generation are neural network-based models that generate sequences of text by processing input sequences of words (or characters) through one or more feed-forward layers. These models take a fixed-size context window of preceding words and generate a probability distribution over the possible next words. They are often used in natural language processing tasks such as \n",
    "- language modeling, \n",
    "- text generation, \n",
    "- machine translation\n",
    "\n",
    "`Context window` - fixed number of preceding words used as input to predict the next word, its size is a parameter of the model.\n",
    "\n",
    "\n",
    "### Architecture\n",
    "Feed-forward language models typically consist of the following components:\n",
    "\n",
    "- **Embedding Layer**: The input sequences of words (or characters) are first converted into dense, low-dimensional vectors called `embeddings` using an embedding layer. Each word in the vocabulary is represented by a unique embedding vector, capturing semantic and syntactic similarities between words based on their context.\n",
    "\n",
    "- **Feed-forward (Hidden) Layers**: After the input sequences are converted into embeddings, they are passed through one or more feed-forward layers. Each feed-forward layer consists of a sequence of linear transformations followed by activation functions (e.g., ReLU, tanh). These layers capture complex relationships between the input embeddings and produce higher-level representations of the input sequences.\n",
    "- **Output Layer**: The final layer of the network, which produces a probability distribution over the vocabulary for the next word.\n",
    "\n",
    "<img src=\"https://raw.githubusercontent.com/Dnau15/LabImages/main/images/lab05/NeuralNet.png\" alt=\"Language Model\" width=\"800\"/>"
   ]
  },
  {
   "cell_type": "markdown",
   "metadata": {},
   "source": [
    "### The process\n",
    "\n",
    "1. Given a sequence of words $x_1,x_2, ... ,x_{n−1}$, so a feed-forward language model predicts the next word $x_n$\n",
    "2. Embedding: Each word $x_i$​ is mapped to an embedding vector $e(x_i)$\n",
    "3. Concatenation: The embeddings of the context words are concatenated to form a single input vector $\\chi$\n",
    "4. The input vector $\\chi$ is passed through one or more hidden layers with activation functions (e.g., ReLU): $ h_1 = ReLU(W_1\\chi + b_1)$\n",
    "5. Output: pass the final hidden layer's output to a softmax function to produce a probability distribution: $y=softmax(W_{out}h_k+b_{out})$\n",
    "\n",
    ">Loss function: `cross-entropy loss` is tipically used to measure the difference between the predicted probability distribution and the true distribution (one-hot encoding of the actual next word).\n",
    "\n",
    "> Optimizers: SGD or Adam.\n"
   ]
  },
  {
   "cell_type": "markdown",
   "metadata": {},
   "source": [
    "## Model\n",
    "Lets build the simpliest model to observe how it works"
   ]
  },
  {
   "cell_type": "code",
   "execution_count": 1,
   "metadata": {},
   "outputs": [
    {
     "name": "stdout",
     "output_type": "stream",
     "text": [
      "Requirement already satisfied: torch in /home/anastasia/NLPcourse/.venv/lib/python3.11/site-packages (2.3.1)\n",
      "Requirement already satisfied: filelock in /home/anastasia/NLPcourse/.venv/lib/python3.11/site-packages (from torch) (3.15.1)\n",
      "Requirement already satisfied: typing-extensions>=4.8.0 in /home/anastasia/NLPcourse/.venv/lib/python3.11/site-packages (from torch) (4.12.2)\n",
      "Requirement already satisfied: sympy in /home/anastasia/NLPcourse/.venv/lib/python3.11/site-packages (from torch) (1.12.1)\n",
      "Requirement already satisfied: networkx in /home/anastasia/NLPcourse/.venv/lib/python3.11/site-packages (from torch) (3.3)\n",
      "Requirement already satisfied: jinja2 in /home/anastasia/NLPcourse/.venv/lib/python3.11/site-packages (from torch) (3.1.4)\n",
      "Requirement already satisfied: fsspec in /home/anastasia/NLPcourse/.venv/lib/python3.11/site-packages (from torch) (2024.6.0)\n",
      "Requirement already satisfied: nvidia-cuda-nvrtc-cu12==12.1.105 in /home/anastasia/NLPcourse/.venv/lib/python3.11/site-packages (from torch) (12.1.105)\n",
      "Requirement already satisfied: nvidia-cuda-runtime-cu12==12.1.105 in /home/anastasia/NLPcourse/.venv/lib/python3.11/site-packages (from torch) (12.1.105)\n",
      "Requirement already satisfied: nvidia-cuda-cupti-cu12==12.1.105 in /home/anastasia/NLPcourse/.venv/lib/python3.11/site-packages (from torch) (12.1.105)\n",
      "Requirement already satisfied: nvidia-cudnn-cu12==8.9.2.26 in /home/anastasia/NLPcourse/.venv/lib/python3.11/site-packages (from torch) (8.9.2.26)\n",
      "Requirement already satisfied: nvidia-cublas-cu12==12.1.3.1 in /home/anastasia/NLPcourse/.venv/lib/python3.11/site-packages (from torch) (12.1.3.1)\n",
      "Requirement already satisfied: nvidia-cufft-cu12==11.0.2.54 in /home/anastasia/NLPcourse/.venv/lib/python3.11/site-packages (from torch) (11.0.2.54)\n",
      "Requirement already satisfied: nvidia-curand-cu12==10.3.2.106 in /home/anastasia/NLPcourse/.venv/lib/python3.11/site-packages (from torch) (10.3.2.106)\n",
      "Requirement already satisfied: nvidia-cusolver-cu12==11.4.5.107 in /home/anastasia/NLPcourse/.venv/lib/python3.11/site-packages (from torch) (11.4.5.107)\n",
      "Requirement already satisfied: nvidia-cusparse-cu12==12.1.0.106 in /home/anastasia/NLPcourse/.venv/lib/python3.11/site-packages (from torch) (12.1.0.106)\n",
      "Requirement already satisfied: nvidia-nccl-cu12==2.20.5 in /home/anastasia/NLPcourse/.venv/lib/python3.11/site-packages (from torch) (2.20.5)\n",
      "Requirement already satisfied: nvidia-nvtx-cu12==12.1.105 in /home/anastasia/NLPcourse/.venv/lib/python3.11/site-packages (from torch) (12.1.105)\n",
      "Requirement already satisfied: triton==2.3.1 in /home/anastasia/NLPcourse/.venv/lib/python3.11/site-packages (from torch) (2.3.1)\n",
      "Requirement already satisfied: nvidia-nvjitlink-cu12 in /home/anastasia/NLPcourse/.venv/lib/python3.11/site-packages (from nvidia-cusolver-cu12==11.4.5.107->torch) (12.5.40)\n",
      "Requirement already satisfied: MarkupSafe>=2.0 in /home/anastasia/NLPcourse/.venv/lib/python3.11/site-packages (from jinja2->torch) (2.1.5)\n",
      "Requirement already satisfied: mpmath<1.4.0,>=1.1.0 in /home/anastasia/NLPcourse/.venv/lib/python3.11/site-packages (from sympy->torch) (1.3.0)\n",
      "\n",
      "\u001b[1m[\u001b[0m\u001b[34;49mnotice\u001b[0m\u001b[1;39;49m]\u001b[0m\u001b[39;49m A new release of pip is available: \u001b[0m\u001b[31;49m24.0\u001b[0m\u001b[39;49m -> \u001b[0m\u001b[32;49m24.1.1\u001b[0m\n",
      "\u001b[1m[\u001b[0m\u001b[34;49mnotice\u001b[0m\u001b[1;39;49m]\u001b[0m\u001b[39;49m To update, run: \u001b[0m\u001b[32;49mpip install --upgrade pip\u001b[0m\n"
     ]
    }
   ],
   "source": [
    "\"\"\" For the model implementing we will need a torch package \n",
    "    The model consists of 2 layers: embedded where all inputs will\n",
    "    be converted into vetors and output layer with softmax function \"\"\"\n",
    "!pip install torch"
   ]
  },
  {
   "cell_type": "code",
   "execution_count": 2,
   "metadata": {
    "execution": {
     "iopub.execute_input": "2024-02-17T10:32:41.931770Z",
     "iopub.status.busy": "2024-02-17T10:32:41.931415Z",
     "iopub.status.idle": "2024-02-17T10:32:50.965834Z",
     "shell.execute_reply": "2024-02-17T10:32:50.964892Z",
     "shell.execute_reply.started": "2024-02-17T10:32:41.931745Z"
    }
   },
   "outputs": [
    {
     "name": "stdout",
     "output_type": "stream",
     "text": [
      "Iteration 1000, Loss: 1.0306544303894043\n",
      "Iteration 2000, Loss: 1.5007529258728027\n",
      "Iteration 3000, Loss: 1.5238550901412964\n",
      "Iteration 4000, Loss: 1.5764747858047485\n",
      "Iteration 5000, Loss: 1.3510743379592896\n",
      "Iteration 6000, Loss: 1.3989815711975098\n",
      "Iteration 7000, Loss: 1.1142727136611938\n",
      "Iteration 8000, Loss: 1.2031887769699097\n",
      "Iteration 9000, Loss: 1.2877799272537231\n",
      "Iteration 10000, Loss: 1.06586754322052\n"
     ]
    }
   ],
   "source": [
    "import torch\n",
    "import torch.nn as nn\n",
    "import torch.optim as optim\n",
    "import string\n",
    "\n",
    "text = \"\"\"\n",
    "Alice was beginning to get very tired of sitting by her sister on the bank, and of having nothing to do: \n",
    "once or twice she had peeped into the book her sister was reading, but it had no pictures or conversations \n",
    "in it, 'and what is the use of a book,' thought Alice 'without pictures or conversation?'\n",
    "\"\"\"\n",
    "\n",
    "\n",
    "class CharLanguageModel(nn.Module):\n",
    "    \"\"\" The class for a FNN. Describes all layers inside \"\"\"\n",
    "    def __init__(self, input_size, hidden_size, output_size):\n",
    "        super(CharLanguageModel, self).__init__()\n",
    "        self.hidden_size = hidden_size\n",
    "        self.embedding = nn.Embedding(input_size, hidden_size)\n",
    "        self.fc = nn.Linear(hidden_size, output_size)\n",
    "        self.softmax = nn.LogSoftmax(dim=1)\n",
    "\n",
    "    def forward(self, input):\n",
    "        embedded = self.embedding(input)\n",
    "        output = self.fc(embedded)\n",
    "        output = self.softmax(output)\n",
    "        return output\n",
    "\n",
    "\n",
    "# Prepare training data, define the available set of characters\n",
    "all_characters = string.printable\n",
    "n_characters = len(all_characters)\n",
    "\n",
    "\n",
    "def text_to_tensor(text: str) -> torch.tensor:\n",
    "    \"\"\" Function to convert text to tensor.\n",
    "        Assume text='abc' and all_characters=[a,b,c,d,...,8,9,0]; the output tensor will be: tensor([1,2,3])\n",
    "    Args:\n",
    "        text (str): sequence of chars that should be converted to tensor\n",
    "    \n",
    "    Returns:\n",
    "        tensor (torch.tenssor): tensor with indexes of each char in the text\n",
    "    \"\"\"\n",
    "    tensor = torch.zeros(len(text)).long()  # create an empty tensor\n",
    "    for c in range(len(text)):\n",
    "        tensor[c] = all_characters.index(text[c]) # fill it with chars' indexes\n",
    "    return tensor\n",
    "\n",
    "\n",
    "def generate_training_example(text: str, chunk_len: int):\n",
    "    \"\"\" Function to generate training examples.\n",
    "    Assume chunk_len = 4, then one of outputs will be: tensor([28, 29, 14, 27, 94]) tensor([29, 14, 27, 94, 24]).\n",
    "    Given the input sequence [28, 29, 14, 27, 94] the model supposed to predict the next symbol: 24.\n",
    "    Args:\n",
    "        text (str): char sequence based on which the training will be provided\n",
    "        chunk_len (int): the size of batches/chunks, define how big the context for predicting will be \n",
    "\n",
    "    Returns:\n",
    "        input_seq: tensor: the context\n",
    "        target_seq: tensor: the context without the 1st char but with a new char \n",
    "    \"\"\"\n",
    "    start_idx = torch.randint(0, len(text) - chunk_len, (1,))\n",
    "    end_idx = start_idx + chunk_len + 1\n",
    "    input_seq = text_to_tensor(text[start_idx:end_idx])\n",
    "    target_seq = text_to_tensor(text[start_idx+1:end_idx+1])\n",
    "    return input_seq, target_seq\n",
    "\n",
    "# Instantiate the model\n",
    "hidden_size = 100\n",
    "model = CharLanguageModel(n_characters, hidden_size, n_characters)\n",
    "\n",
    "# Loss function and optimizer\n",
    "criterion = nn.NLLLoss()\n",
    "optimizer = optim.Adam(model.parameters(), lr=0.001)\n",
    "\n",
    "# Training loop\n",
    "n_iters = 10000\n",
    "print_every = 1000\n",
    "chunk_len = 10\n",
    "for i in range(1, n_iters + 1):\n",
    "    input_seq, target_seq = generate_training_example(text, chunk_len)\n",
    "    if len(input_seq)!= len(target_seq):\n",
    "        continue\n",
    "    optimizer.zero_grad()\n",
    "    output = model(input_seq.unsqueeze(0))\n",
    "    loss = criterion(output.squeeze(0), target_seq)\n",
    "    loss.backward()\n",
    "    optimizer.step()\n",
    "\n",
    "    if i % print_every == 0:\n",
    "        print(f'Iteration {i}, Loss: {loss.item()}')\n"
   ]
  },
  {
   "cell_type": "code",
   "execution_count": 3,
   "metadata": {
    "execution": {
     "iopub.execute_input": "2024-02-17T10:35:00.869624Z",
     "iopub.status.busy": "2024-02-17T10:35:00.869259Z",
     "iopub.status.idle": "2024-02-17T10:35:00.889772Z",
     "shell.execute_reply": "2024-02-17T10:35:00.887649Z",
     "shell.execute_reply.started": "2024-02-17T10:35:00.869597Z"
    }
   },
   "outputs": [
    {
     "name": "stdout",
     "output_type": "stream",
     "text": [
      "AliceD{q-9#E`P=N[6c\n",
      ">#{+JC\t3V(oX*S?Dp6w\n"
     ]
    }
   ],
   "source": [
    "def generate_text(start_string='Hello', predict_len=100, temperature=0.9) -> str:\n",
    "    \"\"\" Function to generate text using the trained model.\n",
    "\n",
    "    Args:\n",
    "        start_string (str, optional): The first word for text generation. Defaults to 'Hello'.\n",
    "        predict_len (int, optional): The length of a generated text. Defaults to 100.\n",
    "        temperature (float, optional): degree of freedom for softmax. Defaults to 0.9.\n",
    "\n",
    "    Returns:\n",
    "        output_str (str): generated text\n",
    "    \"\"\"\n",
    "    model.eval()\n",
    "    input_seq = text_to_tensor(start_string)\n",
    "    hidden = torch.zeros(1, hidden_size)\n",
    "    output_str = start_string\n",
    "\n",
    "    for _ in range(predict_len):\n",
    "        output = model(input_seq.unsqueeze(0))\n",
    "        output_dist = output.squeeze(0)[-1].div(temperature).exp()\n",
    "        top_i = torch.multinomial(output_dist, 1)[0]\n",
    "        predicted_char = all_characters[top_i]\n",
    "        output_str += predicted_char\n",
    "        input_seq = text_to_tensor(predicted_char)\n",
    "    \n",
    "    return output_str\n",
    "\n",
    "# Generate text\n",
    "generated_text = generate_text(start_string='Alice', predict_len=50)\n",
    "print(generated_text)\n"
   ]
  },
  {
   "cell_type": "markdown",
   "metadata": {},
   "source": [
    "## Perplexity\n",
    "\n",
    "How to evaluate 2 models (A and B) and compare them?\n",
    "\n",
    "**Extrinsic** evaluation: put each model in a real task, run the task, get a score for A and for B, compare accuracy for A and B.\n",
    "- Expensive and time-consuming\n",
    "- Doesn't always generalize to other applications\n",
    "\n",
    "**Intrinsic** evaluation: perplexity\n",
    "\n",
    "`Perplexity` is a measure of how well a language model predicts a given sequence of words. Perplexity is defined as the exponentiated average negative log-likelihood of a sequence. It directly measures language model performance at predicting words, doesn't necessarily correspond with real application performance, but gives us a single general metric for language models. Also is used in **N-grams evaluation**.\n",
    "\n",
    "If we have a tokenized sequence $X = (x_0, x_1, \\dots, x_t)$, then the perplexity of $X$ is,\n",
    "\n",
    "$$\\text{PPL}(X) = \\exp \\left\\{ {-\\frac{1}{t}\\sum_i^t \\log p_\\theta (x_i|x_{<i}) } \\right\\}$$\n",
    "\n",
    "where $\\log p_\\theta (x_i|x_{<i})$ is the log-likelihood of the ith token conditioned on the preceding tokens $x_{<i}$ according to our model. \n",
    "\n",
    "Intuitively, it can be thought of as an evaluation of the model's ability to predict uniformly among the set of specified tokens in a corpus. Importantly, this means that the tokenization procedure has a direct impact on a model's perplexity which should always be taken into consideration when comparing different models.\n",
    "\n",
    ">Lower perplexity indicates a better-performing model, as it suggests that the model is more confident in its predictions and assigns higher probabilities to the actual next words in the sequence.\n",
    "\n",
    ">Higher perplexity assumes that the model is less confident in its predictions and assigns lower probabilities to the actual next words.\n",
    "\n",
    "### Example\n",
    "Suppose we have a language model and a test sequence \"hello world\". Let's denote the probabilities assigned by the model as:\n",
    "\n",
    "$P(x_0 = \"hello\") = 0.2$\n",
    "$P(x_1=\"world\"|x_0=\"hello\")=0.5$\n",
    "\n",
    "The `log-likelihood` for this sequence is:  $log P(\"hello\") + log P(\"world\"|\"hello\") = log(0.2)+log(0.5) ≈ −1.609 + (−0.693)$\n",
    "\n",
    "The average log-likelyhood: $\\frac{−1.609 −0.693}{2} = -1.151$\n",
    "\n",
    "The exponentiating: $PPL(\"hello\\ world\")=\\exp{-1.151} ≈ 3.16$\n",
    "\n",
    "Lets turn back to the N-grams and explore the Perplexity in work:"
   ]
  },
  {
   "cell_type": "code",
   "execution_count": 4,
   "metadata": {
    "execution": {
     "iopub.execute_input": "2024-02-17T10:46:15.536960Z",
     "iopub.status.busy": "2024-02-17T10:46:15.536600Z",
     "iopub.status.idle": "2024-02-17T10:46:15.547673Z",
     "shell.execute_reply": "2024-02-17T10:46:15.546618Z",
     "shell.execute_reply.started": "2024-02-17T10:46:15.536935Z"
    }
   },
   "outputs": [
    {
     "name": "stdout",
     "output_type": "stream",
     "text": [
      "Sample n-grams and their counts:\n",
      "('is', 'is', 'is') -> 2\n",
      "('this', 'is', 'a') -> 1\n",
      "('is', 'a', 'sample') -> 1\n",
      "('a', 'sample', 'text') -> 1\n",
      "('sample', 'text', 'used') -> 1\n",
      "Next word probabilities: {'sample': 0.034482758620689655, 'a': 0.034482758620689655}\n"
     ]
    }
   ],
   "source": [
    "import nltk\n",
    "from nltk.util import ngrams\n",
    "from collections import Counter\n",
    "\n",
    "nltk.download('punkt')\n",
    "# Sample text data\n",
    "text = \"This is a sample text used for demonstration purposes. This is demonstration is is is is a a a with two sentences and This. this a demonstration text text\"\n",
    "text = text.lower()\n",
    "\n",
    "# Tokenize the text\n",
    "tokens = nltk.word_tokenize(text)\n",
    "\n",
    "# Generate n-grams\n",
    "n = 3  # Choose the order of n-gram model\n",
    "n_grams = list(ngrams(tokens, n))\n",
    "\n",
    "# Count the occurrences of each n-gram\n",
    "n_gram_counts = Counter(n_grams)\n",
    "\n",
    "print(\"Sample n-grams and their counts:\")\n",
    "for n_gram, count in n_gram_counts.most_common(5):\n",
    "    print(n_gram, \"->\", count)\n",
    "\n",
    "# Calculate probabilities for each n-gram: create a dictionary in format (a tuple with 3 words) : probability\n",
    "total_n_grams = sum(n_gram_counts.values())\n",
    "n_gram_probs = {n_gram: count / total_n_grams for n_gram, count in n_gram_counts.items()}\n",
    "\n",
    "\n",
    "def predict_next_word(sequence: str) -> dict:\n",
    "    \"\"\" Function to predict the next word given a sequence of words.\n",
    "\n",
    "    Args:\n",
    "        sequence (str): string for which we need to find \n",
    "                        probabilities for some (not every) word to be the next one\n",
    "    Returns:\n",
    "        next_word_probs: dict: probabilities for some word to be the next one\n",
    "    \"\"\"\n",
    "    next_word_probs = {}\n",
    "    for n_gram, prob in n_gram_probs.items():\n",
    "        # if the n_gram contains a given sequence -> \n",
    "        # add the next after the sequence word and its probability to the dictionary\n",
    "        if n_gram[:-1] == sequence:\n",
    "            next_word_probs[n_gram[-1]] = prob\n",
    "    return next_word_probs\n",
    "\n",
    "# Example usage:\n",
    "sequence = ('is', 'a')\n",
    "next_word_probs = predict_next_word(sequence)\n",
    "print(\"Next word probabilities:\", next_word_probs)\n"
   ]
  },
  {
   "cell_type": "markdown",
   "metadata": {},
   "source": [
    "### Task 1.\n",
    "Lets find the perplexity for this n-gram model. The perplexity here can be found as:\n",
    "$$PPL(X) = (\\prod_{i=1}^M\\frac{1}{P(x_i)})^{1/M}$$\n",
    "where M is the number of n-grams in teh text and $P(x_i)$ is the probability of the i-th n-gram according to the language model."
   ]
  },
  {
   "cell_type": "code",
   "execution_count": 5,
   "metadata": {
    "execution": {
     "iopub.execute_input": "2024-02-17T10:36:58.702798Z",
     "iopub.status.busy": "2024-02-17T10:36:58.702270Z",
     "iopub.status.idle": "2024-02-17T10:36:58.711480Z",
     "shell.execute_reply": "2024-02-17T10:36:58.709988Z",
     "shell.execute_reply.started": "2024-02-17T10:36:58.702758Z"
    }
   },
   "outputs": [
    {
     "name": "stdout",
     "output_type": "stream",
     "text": [
      "Perplexity of the language model: 1.0\n"
     ]
    }
   ],
   "source": [
    "test_text = \"This is a test text.\"\n",
    "\n",
    "# Tokenize the test text\n",
    "test_tokens = ...\n",
    "\n",
    "# Generate n-grams for the test text\n",
    "test_n_grams = ...\n",
    "\n",
    "# Calculate perplexity\n",
    "perplexity = 1\n",
    "for n_gram in test_n_grams:\n",
    "    if n_gram in n_gram_probs:\n",
    "        perplexity *= ...\n",
    "perplexity = ...\n",
    "\n",
    "print(\"Perplexity of the language model:\", perplexity)\n"
   ]
  },
  {
   "cell_type": "code",
   "execution_count": 6,
   "metadata": {},
   "outputs": [],
   "source": [
    "# Function from the previous lesson\n",
    "def almost_equal(x,y,threshold=0.0001):\n",
    "  return abs(x-y) < threshold"
   ]
  },
  {
   "cell_type": "code",
   "execution_count": 7,
   "metadata": {},
   "outputs": [],
   "source": [
    "assert almost_equal(perplexity, 1, 0.00001)"
   ]
  },
  {
   "cell_type": "markdown",
   "metadata": {},
   "source": [
    "### Task 2.\n",
    "\n",
    "Compute the probabilities for each word from the `text` variable (divide a number of its occurences by the total words number). Be careful, the produced variable `probs` will be used in further tasks. Do not forget the lowecasing."
   ]
  },
  {
   "cell_type": "code",
   "execution_count": 8,
   "metadata": {},
   "outputs": [
    {
     "data": {
      "text/plain": [
       "{'this': 0.12903225806451613,\n",
       " 'is': 0.1935483870967742,\n",
       " 'a': 0.16129032258064516,\n",
       " 'sample': 0.03225806451612903,\n",
       " 'text': 0.0967741935483871,\n",
       " 'used': 0.03225806451612903,\n",
       " 'for': 0.03225806451612903,\n",
       " 'demonstration': 0.0967741935483871,\n",
       " 'purposes': 0.03225806451612903,\n",
       " '.': 0.06451612903225806,\n",
       " 'with': 0.03225806451612903,\n",
       " 'two': 0.03225806451612903,\n",
       " 'sentences': 0.03225806451612903,\n",
       " 'and': 0.03225806451612903}"
      ]
     },
     "execution_count": 8,
     "metadata": {},
     "output_type": "execute_result"
    }
   ],
   "source": [
    "# lowercase\n",
    "text = ...\n",
    "\n",
    "# tokenize the text\n",
    "tokens = ...\n",
    "\n",
    "# count the number of each word occurences, use the Counter class from 'collections' module\n",
    "# you will need counts.values() and count.items() methods\n",
    "counts = ...\n",
    "total_sum = ...\n",
    "probs = ...\n",
    "probs"
   ]
  },
  {
   "cell_type": "code",
   "execution_count": 9,
   "metadata": {},
   "outputs": [],
   "source": [
    "assert almost_equal(probs['for'], 0.032258, 0.000001)"
   ]
  },
  {
   "cell_type": "markdown",
   "metadata": {},
   "source": [
    "## Decoding Strategies\n",
    "\n",
    "Decoding strategies dictate how a language model selects the next token in a sequence after predicting probabilities for all possible tokens.\n",
    "- Deterministic strategies choose the most probable next token at each step, ensuring predictability but often at the expense of diversity (Greedy decoding, Beam search, Contrastive search). \n",
    "- Stochastic strategies introduce randomness into the selection process, aiming for more varied and creative outputs but with less predictability (Multinomial sampling, Top-k sampling, Top-p (Nucleus) sampling, Beam search with multinomial sampling).\n",
    "\n",
    "### Greedy Decoding\n",
    "The simplest strategy: it selects the token with the highest probability as predicted by the model.\n",
    "- Efficient, straightforward and fast.\n",
    "- Repetitive: tends to produce repetitive and predictable text. Lack of foresight, leads to suboptimal and less coherent results.\n",
    "- Useful in scenarios where speed is **critical** and the quality of the generated text is not the top priority. May be a baseline to compare more sophisticated decoding methods."
   ]
  },
  {
   "cell_type": "code",
   "execution_count": 10,
   "metadata": {},
   "outputs": [
    {
     "data": {
      "image/png": "[encoded data removed]",
      "text/plain": [
       "<Figure size 640x480 with 1 Axes>"
      ]
     },
     "metadata": {},
     "output_type": "display_data"
    }
   ],
   "source": [
    "import matplotlib.pyplot as plt\n",
    "\n",
    "plt.bar(probs.keys(), probs.values())\n",
    "plt.xticks(rotation=45)\n",
    "\n",
    "plt.show()"
   ]
  },
  {
   "cell_type": "markdown",
   "metadata": {},
   "source": [
    "### Task 3. \n",
    "Implement the beginning of the greedy search. Find a word with the highest probability in the `probs` dictionary."
   ]
  },
  {
   "cell_type": "code",
   "execution_count": 11,
   "metadata": {},
   "outputs": [],
   "source": [
    "import numpy as np\n",
    "\n",
    "def greedy_search(probabilities: dict[str, float]) -> str:\n",
    "    ..."
   ]
  },
  {
   "cell_type": "code",
   "execution_count": 12,
   "metadata": {},
   "outputs": [
    {
     "data": {
      "text/plain": [
       "'is'"
      ]
     },
     "execution_count": 12,
     "metadata": {},
     "output_type": "execute_result"
    }
   ],
   "source": [
    "greedy_search(probs)"
   ]
  },
  {
   "cell_type": "code",
   "execution_count": 13,
   "metadata": {},
   "outputs": [],
   "source": [
    "assert greedy_search(probs) == 'is' "
   ]
  },
  {
   "cell_type": "markdown",
   "metadata": {},
   "source": [
    "### Top-k Sampling\n",
    "Involves selecting the next word from the top-k most probable candidates rather than always choosing the highest-probability word. This introduces a level of randomness that can produce more diverse and creative text.\n",
    "\n",
    "By adjusting the value of k, we can control the level of diversity in the generated text. A smaller k results in less diversity and more predictable text, while a larger k increases the variability and creativity of the output.\n",
    "\n",
    "The model:\n",
    "1. chooses top k the most probable results\n",
    "2. sample among k the best results with adjusted probabilities\n",
    "\n",
    "- Preventing the model from getting stuck in repetitive or generic patterns. Variate and random results, while the random degree might be controlled.\n",
    "- Large k might lead to less coherent and contextually appropriate generated text. With k increasing, the computational requirements increase as the model must consider more candidates at each step.\n",
    "- Useful in storytelling, poetry generation, and dialogue systems.\n",
    "\n",
    "\n",
    "![Top K](https://raw.githubusercontent.com/Dnau15/LabImages/main/images/lab05/TopK.png)\n",
    "\n",
    "<img src=\"https://raw.githubusercontent.com/Dnau15/LabImages/main/images/lab05/adjProbs.png\" alt=\"Adjacent Probabilities\" width=\"500\"/>\n",
    "\n",
    "GPT2 adopted this sampling scheme, which was one of the reasons for its success in story generation."
   ]
  },
  {
   "cell_type": "code",
   "execution_count": 14,
   "metadata": {},
   "outputs": [
    {
     "data": {
      "image/png": "[encoded data removed]",
      "text/plain": [
       "<Figure size 640x480 with 1 Axes>"
      ]
     },
     "metadata": {},
     "output_type": "display_data"
    }
   ],
   "source": [
    "import matplotlib.pyplot as plt\n",
    "\n",
    "plt.bar(probs.keys(), probs.values())\n",
    "plt.xticks(rotation=45)\n",
    "plt.show()"
   ]
  },
  {
   "cell_type": "markdown",
   "metadata": {},
   "source": [
    "### Task 4.\n",
    "Select top 5 the highest-probable words among \"probs\"."
   ]
  },
  {
   "cell_type": "code",
   "execution_count": 15,
   "metadata": {},
   "outputs": [
    {
     "data": {
      "text/plain": [
       "{'is': 0.1935483870967742,\n",
       " 'a': 0.16129032258064516,\n",
       " 'this': 0.12903225806451613,\n",
       " 'text': 0.0967741935483871,\n",
       " 'demonstration': 0.0967741935483871}"
      ]
     },
     "execution_count": 15,
     "metadata": {},
     "output_type": "execute_result"
    }
   ],
   "source": [
    "top_5 = ...\n",
    "top_5"
   ]
  },
  {
   "cell_type": "code",
   "execution_count": 16,
   "metadata": {},
   "outputs": [],
   "source": [
    "assert len(top_5) == 5\n",
    "assert almost_equal(top_5['text'], 0.09677, 0.00001) "
   ]
  },
  {
   "cell_type": "markdown",
   "metadata": {},
   "source": [
    "### Task 5.\n",
    "Complete the softmax function. \n"
   ]
  },
  {
   "cell_type": "code",
   "execution_count": 17,
   "metadata": {},
   "outputs": [],
   "source": [
    "def softmax(z: list[float]) -> list[float]:\n",
    "   return ..."
   ]
  },
  {
   "cell_type": "code",
   "execution_count": 18,
   "metadata": {},
   "outputs": [],
   "source": [
    "assert almost_equal(softmax([1, 2, 5])[0], 0.017147, 0.000001)"
   ]
  },
  {
   "cell_type": "markdown",
   "metadata": {},
   "source": [
    "### Task 6.\n",
    "Continue the top-k sampling method implementation. Adjust the probabilities among 5 words and plot the histogram for their distribution."
   ]
  },
  {
   "cell_type": "code",
   "execution_count": 19,
   "metadata": {},
   "outputs": [
    {
     "data": {
      "image/png": "[encoded data removed]",
      "text/plain": [
       "<Figure size 640x480 with 1 Axes>"
      ]
     },
     "metadata": {},
     "output_type": "display_data"
    },
    {
     "data": {
      "text/plain": [
       "{'is': 0.21180608864202488,\n",
       " 'a': 0.20508265958737557,\n",
       " 'this': 0.19857265451190803,\n",
       " 'text': 0.19226929862934583,\n",
       " 'demonstration': 0.19226929862934583}"
      ]
     },
     "execution_count": 19,
     "metadata": {},
     "output_type": "execute_result"
    }
   ],
   "source": [
    "reweighted_probs = ...\n",
    "plt.bar(...)\n",
    "plt.show()\n",
    "reweighted_probs"
   ]
  },
  {
   "cell_type": "code",
   "execution_count": 20,
   "metadata": {},
   "outputs": [],
   "source": [
    "assert almost_equal(reweighted_probs['demonstration'], 0.192269, 0.000001)"
   ]
  },
  {
   "cell_type": "markdown",
   "metadata": {},
   "source": [
    "### Task 7.\n",
    "\n",
    "Finish the top-k method. Choose the final word that will be generated (randomly, but with the fixes random seed, with corresponding adjusted probabilities). `Hint:` use numpy.random.choice(list, p) where p - probabilities for each list's entity."
   ]
  },
  {
   "cell_type": "code",
   "execution_count": 21,
   "metadata": {},
   "outputs": [
    {
     "name": "stdout",
     "output_type": "stream",
     "text": [
      "this\n"
     ]
    }
   ],
   "source": [
    "import numpy as np\n",
    "\n",
    "np.random.seed(0)\n",
    "sampled_token = ...\n",
    "print(sampled_token)"
   ]
  },
  {
   "cell_type": "code",
   "execution_count": 22,
   "metadata": {},
   "outputs": [],
   "source": [
    "assert sampled_token == 'this'"
   ]
  },
  {
   "cell_type": "markdown",
   "metadata": {},
   "source": [
    "### Beam search\n",
    "\n",
    "The beam search algorithm selects multiple tokens for a position in a given sequence based on conditional probability. \n",
    "\n",
    "It is an optimization of the best-first search that explores a graph by expanding the most promising node in a limited set, called a `\"beam\"`. Beam search helps to manage the trade-off between breadth and depth of the search, making it more efficient than a naive breadth-first search and more comprehensive than a greedy search.\n",
    "\n",
    "The algorithm can take any number of N best alternatives through a hyperparameter know as a `Beam width`. In greedy search we simply took the best word for each position in the sequence, where here we broaden our search or \"width\" to include other words that might fit better.\n",
    "\n",
    "Greedy search looks at each position in the output sequence in isolation. A word is decided based on highest probability and we continue moving down the rest of the sentence, not going back to earlier ones. With Beam search, we also take the N best output sequences and look at the current preceding words and the probabilities compared to the current position we are decoding in the sequence.\n",
    "\n",
    "The algorithm:\n",
    "1. Initialization: Start with the initial state (e.g., the beginning of a sentence or sequence) and place it in the beam.\n",
    "2. Expansion: For each state in the beam, expand it by generating all possible next states (e.g. next words in the sequence). Compute a score (log probability) for each new state based on the model.\n",
    "3. Pruning: Select the top $k$ states with the highest scores and keep them in the beam. The value of $k$ is the beam width and is a parameter of the search.\n",
    "4. Repeat: Repeat the expansion and pruning steps until a stopping criterion is met (end-of-sequence token is generated, maximum sequence length is reached, etc.).\n",
    "5. Selection: Select the highest-scoring state from the beam as the final output.\n",
    "\n",
    "![](https://raw.githubusercontent.com/Dnau15/LabImages/main/images/lab05/Beam_search.gif)"
   ]
  },
  {
   "cell_type": "code",
   "execution_count": 23,
   "metadata": {
    "execution": {
     "iopub.execute_input": "2024-02-17T10:37:10.774227Z",
     "iopub.status.busy": "2024-02-17T10:37:10.773871Z",
     "iopub.status.idle": "2024-02-17T10:37:10.782862Z",
     "shell.execute_reply": "2024-02-17T10:37:10.781682Z",
     "shell.execute_reply.started": "2024-02-17T10:37:10.774198Z"
    }
   },
   "outputs": [
    {
     "name": "stdout",
     "output_type": "stream",
     "text": [
      "Generated sequences:\n",
      "this is a sample text used for -> Score: 4.875397277841431e-08\n",
      "this is a a a a a -> Score: 4.875397277841431e-08\n",
      "this is a a a a with -> Score: 4.875397277841431e-08\n"
     ]
    }
   ],
   "source": [
    "def beam_search(seed_sequence: list[str], beam_width: int, max_length: int) -> list[list[list, int]]:\n",
    "    \"\"\" Function implementing the beam search\n",
    "\n",
    "    Args:\n",
    "        seed_sequence (list of strings): the initial string for which the function supposed to find a continuation\n",
    "        beam_width (int): beam search parameter, \n",
    "            how wide the tree should be, how many the best continuations should be taken\n",
    "        max_length (int): beam search parameter, how long the search should be\n",
    "\n",
    "    Returns:\n",
    "        sequences (list): contains some lists which include a list with a \n",
    "            seed_sequence + `new word` and a probability the new sequence to be like this\n",
    "    \"\"\"\n",
    "    sequences = [[list(seed_sequence), 1.0]]\n",
    "    for _ in range(max_length):\n",
    "        next_sequences = []\n",
    "        for seq, score in sequences:\n",
    "            next_word_probs = predict_next_word(tuple(seq[-(n-1):]))\n",
    "            for next_word, next_word_prob in next_word_probs.items():\n",
    "                new_seq = seq + [next_word]\n",
    "                new_score = score * next_word_prob\n",
    "                next_sequences.append([new_seq, new_score])\n",
    "        next_sequences.sort(key=lambda x: x[1], reverse=True)\n",
    "        sequences = next_sequences[:beam_width]\n",
    "    return sequences\n",
    "\n",
    "# Example usage:\n",
    "seed_sequence = ['this', 'is']\n",
    "generated_sequences = beam_search(seed_sequence, beam_width=3, max_length=5)\n",
    "print(\"Generated sequences:\")\n",
    "for seq, score in generated_sequences:\n",
    "    print(\" \".join(seq), \"-> Score:\", score)\n"
   ]
  },
  {
   "cell_type": "markdown",
   "metadata": {},
   "source": [
    "# Conclusion\n",
    "\n",
    "In this lesson we covered essential topics in natural language processing (NLP) related to language models. Here are the key takeaways:\n",
    "- Fully Connected Language Models for predicting the next word in a sequence, used in crucial for tasks like text generation and machine translation. Also we built the simplest model for text generation\n",
    "- Perplexity - metric to evaluate model performance, lower perplexity indicates better predictions. We had a look on perplexity evaluation for n-grams model.\n",
    "- Decoding strategies or `Sampling methods`: \n",
    "    - Greedy search - the most straightforward technique\n",
    "    - Top-k sampling - technique with increased variability, because the final word is chosen among k words, but not always the \"best\" one. \n",
    "    - Beam search - heuristic search algorithm for sequence generation, balances efficiency and accuracy.\n",
    "\n",
    "By mastering these concepts, you now have a solid foundation in building and evaluating language models. \n",
    "\n",
    "**References and additional reading:**\n",
    "\n",
    "https://github.com/kmkarakaya/Deep-Learning-Tutorials/blob/master/Sampling_in_Text_Generation.ipynb\n",
    "\n",
    "https://deci.ai/blog/from-top-k-to-beam-search-llm-decoding-strategies/ \n",
    "\n",
    "https://towardsdatascience.com/how-to-sample-from-language-models-682bceb97277"
   ]
  }
 ],
 "metadata": {
  "kaggle": {
   "accelerator": "none",
   "dataSources": [
    {
     "databundleVersionId": 7735149,
     "sourceId": 70796,
     "sourceType": "competition"
    }
   ],
   "dockerImageVersionId": 30648,
   "isGpuEnabled": false,
   "isInternetEnabled": true,
   "language": "python",
   "sourceType": "notebook"
  },
  "kernelspec": {
   "display_name": "Python 3 (ipykernel)",
   "language": "python",
   "name": "python3"
  },
  "language_info": {
   "codemirror_mode": {
    "name": "ipython",
    "version": 3
   },
   "file_extension": ".py",
   "mimetype": "text/x-python",
   "name": "python",
   "nbconvert_exporter": "python",
   "pygments_lexer": "ipython3",
   "version": "3.11.8"
  }
 },
 "nbformat": 4,
 "nbformat_minor": 4
}
