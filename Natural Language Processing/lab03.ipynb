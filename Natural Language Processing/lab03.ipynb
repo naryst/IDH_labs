{
  "cells": [
    {
      "cell_type": "markdown",
      "id": "b39da1bf-2807-4522-86ff-e580a9f6d566",
      "metadata": {
        "id": "b39da1bf-2807-4522-86ff-e580a9f6d566"
      },
      "source": [
        "# Natural Language Processing. Lesson 3. POS tagging and Parsing.\n"
      ]
    },
    {
      "cell_type": "markdown",
      "id": "1d0936b5",
      "metadata": {
        "id": "1d0936b5"
      },
      "source": [
        "In this lesson, we are going to dive into the deeper layers of text using two fundamental techniques: Part-of-Speech (POS) tagging and Named Entity Recognition (NER).\n",
        "\n",
        "The picture explains the whole process:\n",
        "\n",
        "![Preprocessing](https://raw.githubusercontent.com/Dnau15/LabImages/main/images/lab03/preprocessing.jpg)"
      ]
    },
    {
      "cell_type": "markdown",
      "id": "9a9c4445-a7e8-4958-b6e9-ffa50d6225ad",
      "metadata": {
        "id": "9a9c4445-a7e8-4958-b6e9-ffa50d6225ad"
      },
      "source": [
        "## POS tagging\n",
        "\n",
        "One of the core tasks in NNLP is Parts-of-Speech (PoS) tagging, which is giving each word in a text a grammatical category, such as nouns, verbs, adjectives, and adverbs. Through improved comprehension of phrase structure and semantics, this technique makes it possible for machines to study and comprehend human language more accurately. There are corresponding abbreviations to each category: nouns - NN, verbs - VB, adjectives - JJ, adverbs - RB, pronouns - PRP, prepositions - IN, conjunctions - CC, DT - determiner.\n",
        "\n",
        "![Preprocessing](https://raw.githubusercontent.com/Dnau15/LabImages/main/images/lab03/POS-Tagging-800x400.jpg)\n",
        "\n",
        "\n",
        "For labels assignment we will use special models (tagsets, averaged_perceptron_tagger, conll2000) and download them with nltk."
      ]
    },
    {
      "cell_type": "code",
      "execution_count": null,
      "id": "7305f22a-f0e1-457e-92b5-19fd94a44c29",
      "metadata": {
        "id": "7305f22a-f0e1-457e-92b5-19fd94a44c29"
      },
      "outputs": [],
      "source": [
        "import warnings\n",
        "\n",
        "warnings.filterwarnings(\"ignore\")"
      ]
    },
    {
      "cell_type": "code",
      "execution_count": null,
      "id": "2a405752-436e-4b0d-9895-99fc84072011",
      "metadata": {
        "id": "2a405752-436e-4b0d-9895-99fc84072011"
      },
      "outputs": [],
      "source": [
        "%%capture\n",
        "import nltk\n",
        "from nltk import word_tokenize\n",
        "from nltk.tag import pos_tag\n",
        "from nltk.chunk import ne_chunk\n",
        "\n",
        "# to identify and classify named entities within text, such as people, locations, organizations, dates, etc.\n",
        "nltk.download(\"maxent_ne_chunker\", quiet=True)\n",
        "\n",
        "# to download the NLTK corpus of words, which is a large collection of English words\n",
        "nltk.download(\"words\", quiet=True)\n",
        "\n",
        "# sentence tokenizer model for splitting text\n",
        "nltk.download(\"punkt\", quiet=True)\n",
        "\n",
        "# to assign POS tags\n",
        "nltk.download(\"averaged_perceptron_tagger\", quiet=True)\n",
        "\n",
        "# tagset definitions (NN, VB, etc)\n",
        "nltk.download(\"tagsets\", quiet=True)\n",
        "\n",
        "# collection of text data annotated with POS tags and potentially NER information\n",
        "nltk.download(\"conll2000\", quiet=True)"
      ]
    },
    {
      "cell_type": "code",
      "execution_count": null,
      "id": "eed883f2-0968-4e2a-9d2e-693138e36da1",
      "metadata": {
        "id": "eed883f2-0968-4e2a-9d2e-693138e36da1",
        "outputId": "9e93e48f-d3c8-4978-f69e-cbfebbbd7256"
      },
      "outputs": [
        {
          "data": {
            "text/plain": [
              "[('allow', 'VB'),\n",
              " ('us', 'PRP'),\n",
              " ('to', 'TO'),\n",
              " ('add', 'VB'),\n",
              " ('lines', 'NNS'),\n",
              " ('in', 'IN'),\n",
              " ('list', 'NN'),\n",
              " ('of', 'IN'),\n",
              " ('allow', 'JJ'),\n",
              " ('actions', 'NNS')]"
            ]
          },
          "execution_count": 16,
          "metadata": {},
          "output_type": "execute_result"
        }
      ],
      "source": [
        "# split the text into word tokens and assign labels\n",
        "sentence = word_tokenize(\"allow us to add lines in list of allow actions\")\n",
        "nltk.pos_tag(sentence)"
      ]
    },
    {
      "cell_type": "markdown",
      "id": "a70d0e29",
      "metadata": {
        "id": "a70d0e29"
      },
      "source": [
        "#### Task 1.\n",
        "Fill the gaps. Do not forget to apply lowercase to the text."
      ]
    },
    {
      "cell_type": "code",
      "execution_count": null,
      "id": "a6a9cda9",
      "metadata": {
        "id": "a6a9cda9",
        "outputId": "5189964e-bbc3-4a4d-9525-99dabc0879ee"
      },
      "outputs": [
        {
          "name": "stdout",
          "output_type": "stream",
          "text": [
            "[('the', 'DT'), ('documentary', 'NN'), ('explored', 'VBD'), ('the', 'DT'), ('fascinating', 'JJ'), ('world', 'NN'), ('of', 'IN'), ('deep-sea', 'NN'), ('creatures', 'NNS')]\n"
          ]
        }
      ],
      "source": [
        "text = 'The documentary explored the fascinating world of deep-sea creatures'\n",
        "\n",
        "# split the text and assign POS tags\n",
        "sentence = ...\n",
        "words_with_tags = ...\n",
        "\n",
        "print(words_with_tags)"
      ]
    },
    {
      "cell_type": "code",
      "execution_count": null,
      "id": "700ce70a",
      "metadata": {
        "id": "700ce70a"
      },
      "outputs": [],
      "source": [
        "assert len(words_with_tags[0]) == 2\n",
        "assert len(words_with_tags) == 9\n",
        "assert words_with_tags[1][1] == 'NN'"
      ]
    },
    {
      "cell_type": "markdown",
      "id": "c554e409-db52-4ffd-b2c5-08b29cb16baa",
      "metadata": {
        "id": "c554e409-db52-4ffd-b2c5-08b29cb16baa"
      },
      "source": [
        "## Shallow Parsing or Chunking\n",
        "\n",
        "A process of extracting phrases from _unstructured_ text. Chunking groups adjacent tokens into phrases on the basis of their POS tags, extracts meaningful phrases or chunks from text. There are some standard well-known chunks such as noun phrases, verb phrases, and prepositional phrases.\n",
        "\n",
        "There are 5 major categories of phrases :\n",
        "\n",
        "- Noun phrase (NP) - noun+determiner+adjective: \"The quick brown fox\" (determiner + adjective + noun), \"A delicious cake\" (determiner + adjective + noun)\n",
        "- Adjective phrase (ADJP) - 1 or more adjectives: \"Very interesting\" (modifies the adjective \"interesting\"), \"Incredibly beautiful flowers\" (modifies the noun \"flowers\")\n",
        "- Verb phrase (VP) - verb + modal verbs/adverbs/nouns: \"Jumps over the fence\" (verb + prepositional phrase), \"Will sing a song\" (helping verb + verb + direct object)\n",
        "- Prepositional phrase (PP) - preposition+object: \"On the table\" (preposition + noun phrase), \"With great enthusiasm\" (preposition + adverb phrase)\n",
        "- Adverb phrase (ADVP) - adverbs + additional modifiers: \"Very quickly\" (modifies the adverb \"quickly\"), \"Ran across the street\" (modifies the verb \"ran\")\n",
        "\n",
        "![Chunking](https://raw.githubusercontent.com/Dnau15/LabImages/main/images/lab03/chunk.png)"
      ]
    },
    {
      "cell_type": "code",
      "execution_count": null,
      "id": "38974f19-5d65-4535-92bd-d9f0d0fe51fc",
      "metadata": {
        "id": "38974f19-5d65-4535-92bd-d9f0d0fe51fc",
        "outputId": "7c98a768-3f54-415e-ff10-fbeebe8d0cf8"
      },
      "outputs": [
        {
          "name": "stdout",
          "output_type": "stream",
          "text": [
            "(S\n",
            "  Chancellor/NNP\n",
            "  (PP of/IN)\n",
            "  (NP the/DT Exchequer/NNP)\n",
            "  (NP Nigel/NNP Lawson/NNP)\n",
            "  (NP 's/POS restated/VBN commitment/NN)\n",
            "  (PP to/TO)\n",
            "  (NP a/DT firm/NN monetary/JJ policy/NN)\n",
            "  (VP has/VBZ helped/VBN to/TO prevent/VB)\n",
            "  (NP a/DT freefall/NN)\n",
            "  (PP in/IN)\n",
            "  (NP sterling/NN)\n",
            "  (PP over/IN)\n",
            "  (NP the/DT past/JJ week/NN)\n",
            "  ./.)\n"
          ]
        }
      ],
      "source": [
        "# import the dataset for dividing text into syntactically related non-overlapping groups of words\n",
        "from nltk.corpus import conll2000\n",
        "\n",
        "data = conll2000.chunked_sents()\n",
        "print(data[1])"
      ]
    },
    {
      "cell_type": "markdown",
      "id": "d824f856",
      "metadata": {
        "id": "d824f856"
      },
      "source": [
        "The method conll2000.chunked_sents() retrieves all sentences from the corpus (large collection of text data) where each word is represented as a tuple containing the word itself and its POS tag, along with the sentence being further divided into phrase chunks. These chunks are represented as nested structures (trees) indicating the groupings of words based on their grammatical roles.\n",
        "\n",
        "The sentence was: Chancellor of the Exchequer Nigel Lawson's restated commitment to a firm monetary policy has helped to prevent a freefall in sterling over the past week.\n",
        "\n",
        "(S ... ) indicates the entire sentence itself. POS tags (word/tag): Chancellor/NNP where NNP - proper noun, commitment/NN where NN - noun. Chunking: the sentence is further divided into nested structures (chunks) based on the grammatical relationship of the words. (PP of/IN)represents a prepositional phrase (PP) with \"of\" as the preposition, (NP the/DT Exchequer/NNP) represents a noun phrase (NP) with \"the\" (determiner) and \"Exchequer\" (proper noun).\n",
        "\n",
        "![Chunking](https://raw.githubusercontent.com/Dnau15/LabImages/main/images/lab03/shallow.png)"
      ]
    },
    {
      "cell_type": "markdown",
      "id": "3a84ac13",
      "metadata": {
        "id": "3a84ac13"
      },
      "source": [
        "#### Task 2.\n",
        "\n",
        "Fill the gaps. Tokenize the text, assign the tags, and apply the chunking.\n",
        "\n",
        "Hint: use `nltk.RegexParser` module and its method `parse()` with grammar \"NP: {< DT>? < JJ>* < NN>+}\". You can find more grammars and rules (strip rule and split rule) [here](https://www.nltk.org/howto/chunk.html)."
      ]
    },
    {
      "cell_type": "code",
      "execution_count": null,
      "id": "5fd01f98",
      "metadata": {
        "id": "5fd01f98",
        "outputId": "15f10b5b-750b-476a-fc6c-e2f071a5a2db"
      },
      "outputs": [
        {
          "name": "stdout",
          "output_type": "stream",
          "text": [
            "(S\n",
            "  (NP The/DT documentary/NN)\n",
            "  explored/VBD\n",
            "  (NP the/DT fascinating/JJ world/NN)\n",
            "  of/IN\n",
            "  (NP deep-sea/NN)\n",
            "  creatures/NNS)\n"
          ]
        }
      ],
      "source": [
        "text = 'The documentary explored the fascinating world of deep-sea creatures'\n",
        "\n",
        "# tokenize and assign tags\n",
        "tokens = ...\n",
        "tagged = ...\n",
        "\n",
        "# the grammar (pattern) that will be extracted as a chunk\n",
        "grammar = r\"NP: {<DT>? <JJ>* <NN>+}\"\n",
        "\n",
        "# create an instance of parser and use it\n",
        "parser = ...\n",
        "chunks = ...\n",
        "\n",
        "print(chunks)"
      ]
    },
    {
      "cell_type": "code",
      "execution_count": null,
      "id": "569ebe26",
      "metadata": {
        "id": "569ebe26"
      },
      "outputs": [],
      "source": [
        "from nltk import Tree\n",
        "assert chunks[2:3] == [Tree('NP', [('the', 'DT'), ('fascinating', 'JJ'), ('world', 'NN')])]"
      ]
    },
    {
      "cell_type": "markdown",
      "id": "13dc2a2d-386f-49d0-be28-56930170ab30",
      "metadata": {
        "id": "13dc2a2d-386f-49d0-be28-56930170ab30"
      },
      "source": [
        "## 3. Constituency Parsing\n",
        "\n",
        "Constituent-based grammars are used to analyze and determine the constituents of a sentence. These grammars can be used to model or represent the internal structure of sentences in terms of a _hierarchically_ ordered structure of their constituents. A constituency parser can be built based on such grammars/rules. **The grammar has to be defined.**\n",
        "\n",
        "One of the popular Constituency Parsing implementation is from stanford. A **probabilistic context-free grammar parser**\n",
        "\n",
        "Tag information can be found [here](https://web.archive.org/web/20130517134339/http://bulba.sdsu.edu/jeanette/thesis/PennTags.html)\n"
      ]
    },
    {
      "cell_type": "code",
      "execution_count": null,
      "id": "96dada19-fd47-400e-9fea-e543d96ae6b1",
      "metadata": {
        "id": "96dada19-fd47-400e-9fea-e543d96ae6b1"
      },
      "outputs": [],
      "source": [
        "!pip install benepar"
      ]
    },
    {
      "cell_type": "code",
      "execution_count": null,
      "id": "a8e2f789-2981-4ed0-a00b-98425f31d107",
      "metadata": {
        "id": "a8e2f789-2981-4ed0-a00b-98425f31d107",
        "outputId": "4f1db519-b2b9-484d-a138-ae8f6191e6d1"
      },
      "outputs": [
        {
          "ename": "LookupError",
          "evalue": "Could not find stanford-parser\\.jar jar file at stanford-parser-full-2020-11-17/stanford-parser.jar",
          "output_type": "error",
          "traceback": [
            "\u001b[0;31m---------------------------------------------------------------------------\u001b[0m",
            "\u001b[0;31mLookupError\u001b[0m                               Traceback (most recent call last)",
            "Cell \u001b[0;32mIn[11], line 3\u001b[0m\n\u001b[1;32m      1\u001b[0m \u001b[38;5;28;01mfrom\u001b[39;00m \u001b[38;5;21;01mnltk\u001b[39;00m\u001b[38;5;21;01m.\u001b[39;00m\u001b[38;5;21;01mparse\u001b[39;00m\u001b[38;5;21;01m.\u001b[39;00m\u001b[38;5;21;01mstanford\u001b[39;00m \u001b[38;5;28;01mimport\u001b[39;00m StanfordParser\n\u001b[0;32m----> 3\u001b[0m scp \u001b[38;5;241m=\u001b[39m \u001b[43mStanfordParser\u001b[49m\u001b[43m(\u001b[49m\n\u001b[1;32m      4\u001b[0m \u001b[43m    \u001b[49m\u001b[38;5;124;43m\"\u001b[39;49m\u001b[38;5;124;43mstanford-parser-full-2020-11-17/stanford-parser.jar\u001b[39;49m\u001b[38;5;124;43m\"\u001b[39;49m\u001b[43m,\u001b[49m\n\u001b[1;32m      5\u001b[0m \u001b[43m    \u001b[49m\u001b[38;5;124;43m\"\u001b[39;49m\u001b[38;5;124;43mstanford-parser-full-2020-11-17/stanford-parser-4.2.0-models.jar\u001b[39;49m\u001b[38;5;124;43m\"\u001b[39;49m\u001b[43m,\u001b[49m\n\u001b[1;32m      6\u001b[0m \u001b[43m)\u001b[49m\n\u001b[1;32m      8\u001b[0m sentence \u001b[38;5;241m=\u001b[39m \u001b[38;5;124m\"\u001b[39m\u001b[38;5;124mInnopolis University is a university located in the city of Innopolis.\u001b[39m\u001b[38;5;124m\"\u001b[39m\n\u001b[1;32m     10\u001b[0m result \u001b[38;5;241m=\u001b[39m \u001b[38;5;28mlist\u001b[39m(scp\u001b[38;5;241m.\u001b[39mraw_parse(sentence))\n",
            "File \u001b[0;32m~/NLPcourse/.venv/lib/python3.11/site-packages/nltk/parse/stanford.py:335\u001b[0m, in \u001b[0;36mStanfordParser.__init__\u001b[0;34m(self, *args, **kwargs)\u001b[0m\n\u001b[1;32m    327\u001b[0m \u001b[38;5;28;01mdef\u001b[39;00m \u001b[38;5;21m__init__\u001b[39m(\u001b[38;5;28mself\u001b[39m, \u001b[38;5;241m*\u001b[39margs, \u001b[38;5;241m*\u001b[39m\u001b[38;5;241m*\u001b[39mkwargs):\n\u001b[1;32m    328\u001b[0m     warnings\u001b[38;5;241m.\u001b[39mwarn(\n\u001b[1;32m    329\u001b[0m         \u001b[38;5;124m\"\u001b[39m\u001b[38;5;124mThe StanfordParser will be deprecated\u001b[39m\u001b[38;5;130;01m\\n\u001b[39;00m\u001b[38;5;124m\"\u001b[39m\n\u001b[1;32m    330\u001b[0m         \u001b[38;5;124m\"\u001b[39m\u001b[38;5;124mPlease use \u001b[39m\u001b[38;5;130;01m\\033\u001b[39;00m\u001b[38;5;124m[91mnltk.parse.corenlp.CoreNLPParser\u001b[39m\u001b[38;5;130;01m\\033\u001b[39;00m\u001b[38;5;124m[0m instead.\u001b[39m\u001b[38;5;124m\"\u001b[39m,\n\u001b[1;32m    331\u001b[0m         \u001b[38;5;167;01mDeprecationWarning\u001b[39;00m,\n\u001b[1;32m    332\u001b[0m         stacklevel\u001b[38;5;241m=\u001b[39m\u001b[38;5;241m2\u001b[39m,\n\u001b[1;32m    333\u001b[0m     )\n\u001b[0;32m--> 335\u001b[0m     \u001b[38;5;28;43msuper\u001b[39;49m\u001b[43m(\u001b[49m\u001b[43m)\u001b[49m\u001b[38;5;241;43m.\u001b[39;49m\u001b[38;5;21;43m__init__\u001b[39;49m\u001b[43m(\u001b[49m\u001b[38;5;241;43m*\u001b[39;49m\u001b[43margs\u001b[49m\u001b[43m,\u001b[49m\u001b[43m \u001b[49m\u001b[38;5;241;43m*\u001b[39;49m\u001b[38;5;241;43m*\u001b[39;49m\u001b[43mkwargs\u001b[49m\u001b[43m)\u001b[49m\n",
            "File \u001b[0;32m~/NLPcourse/.venv/lib/python3.11/site-packages/nltk/parse/stanford.py:50\u001b[0m, in \u001b[0;36mGenericStanfordParser.__init__\u001b[0;34m(self, path_to_jar, path_to_models_jar, model_path, encoding, verbose, java_options, corenlp_options)\u001b[0m\n\u001b[1;32m     38\u001b[0m \u001b[38;5;28;01mdef\u001b[39;00m \u001b[38;5;21m__init__\u001b[39m(\n\u001b[1;32m     39\u001b[0m     \u001b[38;5;28mself\u001b[39m,\n\u001b[1;32m     40\u001b[0m     path_to_jar\u001b[38;5;241m=\u001b[39m\u001b[38;5;28;01mNone\u001b[39;00m,\n\u001b[0;32m   (...)\u001b[0m\n\u001b[1;32m     48\u001b[0m \n\u001b[1;32m     49\u001b[0m     \u001b[38;5;66;03m# find the most recent code and model jar\u001b[39;00m\n\u001b[0;32m---> 50\u001b[0m     stanford_jar \u001b[38;5;241m=\u001b[39m \u001b[38;5;28;43mmax\u001b[39;49m\u001b[43m(\u001b[49m\n\u001b[1;32m     51\u001b[0m \u001b[43m        \u001b[49m\u001b[43mfind_jar_iter\u001b[49m\u001b[43m(\u001b[49m\n\u001b[1;32m     52\u001b[0m \u001b[43m            \u001b[49m\u001b[38;5;28;43mself\u001b[39;49m\u001b[38;5;241;43m.\u001b[39;49m\u001b[43m_JAR\u001b[49m\u001b[43m,\u001b[49m\n\u001b[1;32m     53\u001b[0m \u001b[43m            \u001b[49m\u001b[43mpath_to_jar\u001b[49m\u001b[43m,\u001b[49m\n\u001b[1;32m     54\u001b[0m \u001b[43m            \u001b[49m\u001b[43menv_vars\u001b[49m\u001b[38;5;241;43m=\u001b[39;49m\u001b[43m(\u001b[49m\u001b[38;5;124;43m\"\u001b[39;49m\u001b[38;5;124;43mSTANFORD_PARSER\u001b[39;49m\u001b[38;5;124;43m\"\u001b[39;49m\u001b[43m,\u001b[49m\u001b[43m \u001b[49m\u001b[38;5;124;43m\"\u001b[39;49m\u001b[38;5;124;43mSTANFORD_CORENLP\u001b[39;49m\u001b[38;5;124;43m\"\u001b[39;49m\u001b[43m)\u001b[49m\u001b[43m,\u001b[49m\n\u001b[1;32m     55\u001b[0m \u001b[43m            \u001b[49m\u001b[43msearchpath\u001b[49m\u001b[38;5;241;43m=\u001b[39;49m\u001b[43m(\u001b[49m\u001b[43m)\u001b[49m\u001b[43m,\u001b[49m\n\u001b[1;32m     56\u001b[0m \u001b[43m            \u001b[49m\u001b[43murl\u001b[49m\u001b[38;5;241;43m=\u001b[39;49m\u001b[43m_stanford_url\u001b[49m\u001b[43m,\u001b[49m\n\u001b[1;32m     57\u001b[0m \u001b[43m            \u001b[49m\u001b[43mverbose\u001b[49m\u001b[38;5;241;43m=\u001b[39;49m\u001b[43mverbose\u001b[49m\u001b[43m,\u001b[49m\n\u001b[1;32m     58\u001b[0m \u001b[43m            \u001b[49m\u001b[43mis_regex\u001b[49m\u001b[38;5;241;43m=\u001b[39;49m\u001b[38;5;28;43;01mTrue\u001b[39;49;00m\u001b[43m,\u001b[49m\n\u001b[1;32m     59\u001b[0m \u001b[43m        \u001b[49m\u001b[43m)\u001b[49m\u001b[43m,\u001b[49m\n\u001b[1;32m     60\u001b[0m \u001b[43m        \u001b[49m\u001b[43mkey\u001b[49m\u001b[38;5;241;43m=\u001b[39;49m\u001b[38;5;28;43;01mlambda\u001b[39;49;00m\u001b[43m \u001b[49m\u001b[43mmodel_path\u001b[49m\u001b[43m:\u001b[49m\u001b[43m \u001b[49m\u001b[43mos\u001b[49m\u001b[38;5;241;43m.\u001b[39;49m\u001b[43mpath\u001b[49m\u001b[38;5;241;43m.\u001b[39;49m\u001b[43mdirname\u001b[49m\u001b[43m(\u001b[49m\u001b[43mmodel_path\u001b[49m\u001b[43m)\u001b[49m\u001b[43m,\u001b[49m\n\u001b[1;32m     61\u001b[0m \u001b[43m    \u001b[49m\u001b[43m)\u001b[49m\n\u001b[1;32m     63\u001b[0m     model_jar \u001b[38;5;241m=\u001b[39m \u001b[38;5;28mmax\u001b[39m(\n\u001b[1;32m     64\u001b[0m         find_jar_iter(\n\u001b[1;32m     65\u001b[0m             \u001b[38;5;28mself\u001b[39m\u001b[38;5;241m.\u001b[39m_MODEL_JAR_PATTERN,\n\u001b[0;32m   (...)\u001b[0m\n\u001b[1;32m     73\u001b[0m         key\u001b[38;5;241m=\u001b[39m\u001b[38;5;28;01mlambda\u001b[39;00m model_path: os\u001b[38;5;241m.\u001b[39mpath\u001b[38;5;241m.\u001b[39mdirname(model_path),\n\u001b[1;32m     74\u001b[0m     )\n\u001b[1;32m     76\u001b[0m     \u001b[38;5;66;03m# self._classpath = (stanford_jar, model_jar)\u001b[39;00m\n\u001b[1;32m     77\u001b[0m \n\u001b[1;32m     78\u001b[0m     \u001b[38;5;66;03m# Adding logging jar files to classpath\u001b[39;00m\n",
            "File \u001b[0;32m~/NLPcourse/.venv/lib/python3.11/site-packages/nltk/internals.py:719\u001b[0m, in \u001b[0;36mfind_jar_iter\u001b[0;34m(name_pattern, path_to_jar, env_vars, searchpath, url, verbose, is_regex)\u001b[0m\n\u001b[1;32m    717\u001b[0m         \u001b[38;5;28;01myield\u001b[39;00m path_to_jar\n\u001b[1;32m    718\u001b[0m     \u001b[38;5;28;01melse\u001b[39;00m:\n\u001b[0;32m--> 719\u001b[0m         \u001b[38;5;28;01mraise\u001b[39;00m \u001b[38;5;167;01mLookupError\u001b[39;00m(\n\u001b[1;32m    720\u001b[0m             \u001b[38;5;124mf\u001b[39m\u001b[38;5;124m\"\u001b[39m\u001b[38;5;124mCould not find \u001b[39m\u001b[38;5;132;01m{\u001b[39;00mname_pattern\u001b[38;5;132;01m}\u001b[39;00m\u001b[38;5;124m jar file at \u001b[39m\u001b[38;5;132;01m{\u001b[39;00mpath_to_jar\u001b[38;5;132;01m}\u001b[39;00m\u001b[38;5;124m\"\u001b[39m\n\u001b[1;32m    721\u001b[0m         )\n\u001b[1;32m    723\u001b[0m \u001b[38;5;66;03m# Check environment variables\u001b[39;00m\n\u001b[1;32m    724\u001b[0m \u001b[38;5;28;01mfor\u001b[39;00m env_var \u001b[38;5;129;01min\u001b[39;00m env_vars:\n",
            "\u001b[0;31mLookupError\u001b[0m: Could not find stanford-parser\\.jar jar file at stanford-parser-full-2020-11-17/stanford-parser.jar"
          ]
        }
      ],
      "source": [
        "!python -m spacy download en_core_web_md\n",
        "# In colab ⚠ Restart to reload dependencies"
      ]
    },
    {
      "cell_type": "code",
      "execution_count": null,
      "id": "676f9769",
      "metadata": {
        "id": "676f9769"
      },
      "outputs": [],
      "source": [
        "import benepar, spacy\n",
        "\n",
        "nlp = spacy.load('en_core_web_md')\n",
        "benepar.download('benepar_en3')\n",
        "nlp.add_pipe('benepar', config={'model': 'benepar_en3'})\n",
        "doc = nlp('The time for action is now. It is never too late to do something.')"
      ]
    },
    {
      "cell_type": "code",
      "execution_count": null,
      "id": "926d1ee7",
      "metadata": {
        "id": "926d1ee7"
      },
      "outputs": [],
      "source": [
        "sent = list(doc.sents)[0]\n",
        "\n",
        "print(sent._.parse_string)\n",
        "# (S (NP (NP (DT The) (NN time)) (PP (IN for) (NP (NN action)))) (VP (VBZ is) (ADVP (RB now))) (. .))\n",
        "\n",
        "print(sent._.labels)\n",
        "# ('S',)\n",
        "print(list(sent._.children)[0])"
      ]
    },
    {
      "cell_type": "code",
      "execution_count": null,
      "id": "e6ed4c0b",
      "metadata": {
        "id": "e6ed4c0b"
      },
      "outputs": [],
      "source": [
        "sentence = \"The cat sat on the mat.\"\n",
        "doc = nlp(sentence)\n",
        "sent = list(doc.sents)[0]\n",
        "print(sent._.parse_string)\n"
      ]
    },
    {
      "cell_type": "markdown",
      "id": "a48659fc",
      "metadata": {
        "id": "a48659fc"
      },
      "source": [
        "#### Task 3.\n",
        "\n",
        "Fill the gaps. Use the parser from the previous task and display the hierarchical structure."
      ]
    },
    {
      "cell_type": "code",
      "execution_count": null,
      "id": "aed6fd4b",
      "metadata": {
        "id": "aed6fd4b",
        "outputId": "0754f31e-c642-4f30-f79e-1db3d059850b"
      },
      "outputs": [
        {
          "data": {
            "image/svg+xml": [
              "<svg baseProfile=\"full\" height=\"168px\" preserveAspectRatio=\"xMidYMid meet\" style=\"font-family: times, serif; font-weight: normal; font-style: normal; font-size: 16px;\" version=\"1.1\" viewBox=\"0,0,480.0,168.0\" width=\"480px\" xmlns=\"http://www.w3.org/2000/svg\" xmlns:ev=\"http://www.w3.org/2001/xml-events\" xmlns:xlink=\"http://www.w3.org/1999/xlink\"><defs /><svg width=\"100%\" x=\"0\" y=\"0px\"><defs /><text text-anchor=\"middle\" x=\"50%\" y=\"16px\">S</text></svg><svg width=\"21.6667%\" x=\"0%\" y=\"48px\"><defs /><svg width=\"100%\" x=\"0\" y=\"0px\"><defs /><text text-anchor=\"middle\" x=\"50%\" y=\"16px\">NP</text></svg><svg width=\"46.1538%\" x=\"0%\" y=\"48px\"><defs /><svg width=\"100%\" x=\"0\" y=\"0px\"><defs /><text text-anchor=\"middle\" x=\"50%\" y=\"16px\">last</text></svg><svg width=\"100%\" x=\"0%\" y=\"48px\"><defs /><svg width=\"100%\" x=\"0\" y=\"0px\"><defs /><text text-anchor=\"middle\" x=\"50%\" y=\"16px\">JJ</text></svg></svg><line stroke=\"black\" x1=\"50%\" x2=\"50%\" y1=\"19.2px\" y2=\"48px\" /></svg><line stroke=\"black\" x1=\"50%\" x2=\"23.0769%\" y1=\"19.2px\" y2=\"48px\" /><svg width=\"53.8462%\" x=\"46.1538%\" y=\"48px\"><defs /><svg width=\"100%\" x=\"0\" y=\"0px\"><defs /><text text-anchor=\"middle\" x=\"50%\" y=\"16px\">night</text></svg><svg width=\"100%\" x=\"0%\" y=\"48px\"><defs /><svg width=\"100%\" x=\"0\" y=\"0px\"><defs /><text text-anchor=\"middle\" x=\"50%\" y=\"16px\">NN</text></svg></svg><line stroke=\"black\" x1=\"50%\" x2=\"50%\" y1=\"19.2px\" y2=\"48px\" /></svg><line stroke=\"black\" x1=\"50%\" x2=\"73.0769%\" y1=\"19.2px\" y2=\"48px\" /></svg><line stroke=\"black\" x1=\"50%\" x2=\"10.8333%\" y1=\"19.2px\" y2=\"48px\" /><svg width=\"6.66667%\" x=\"21.6667%\" y=\"48px\"><defs /><svg width=\"100%\" x=\"0\" y=\"0px\"><defs /><text text-anchor=\"middle\" x=\"50%\" y=\"16px\">NP</text></svg><svg width=\"100%\" x=\"0%\" y=\"48px\"><defs /><svg width=\"100%\" x=\"0\" y=\"0px\"><defs /><text text-anchor=\"middle\" x=\"50%\" y=\"16px\">i</text></svg><svg width=\"100%\" x=\"0%\" y=\"48px\"><defs /><svg width=\"100%\" x=\"0\" y=\"0px\"><defs /><text text-anchor=\"middle\" x=\"50%\" y=\"16px\">NN</text></svg></svg><line stroke=\"black\" x1=\"50%\" x2=\"50%\" y1=\"19.2px\" y2=\"48px\" /></svg><line stroke=\"black\" x1=\"50%\" x2=\"50%\" y1=\"19.2px\" y2=\"48px\" /></svg><line stroke=\"black\" x1=\"50%\" x2=\"25%\" y1=\"19.2px\" y2=\"48px\" /><svg width=\"8.33333%\" x=\"28.3333%\" y=\"48px\"><defs /><svg width=\"100%\" x=\"0\" y=\"0px\"><defs /><text text-anchor=\"middle\" x=\"50%\" y=\"16px\">saw</text></svg><svg width=\"100%\" x=\"0%\" y=\"48px\"><defs /><svg width=\"100%\" x=\"0\" y=\"0px\"><defs /><text text-anchor=\"middle\" x=\"50%\" y=\"16px\">VBD</text></svg></svg><line stroke=\"black\" x1=\"50%\" x2=\"50%\" y1=\"19.2px\" y2=\"48px\" /></svg><line stroke=\"black\" x1=\"50%\" x2=\"32.5%\" y1=\"19.2px\" y2=\"48px\" /><svg width=\"26.6667%\" x=\"36.6667%\" y=\"48px\"><defs /><svg width=\"100%\" x=\"0\" y=\"0px\"><defs /><text text-anchor=\"middle\" x=\"50%\" y=\"16px\">NP</text></svg><svg width=\"25%\" x=\"0%\" y=\"48px\"><defs /><svg width=\"100%\" x=\"0\" y=\"0px\"><defs /><text text-anchor=\"middle\" x=\"50%\" y=\"16px\">a</text></svg><svg width=\"100%\" x=\"0%\" y=\"48px\"><defs /><svg width=\"100%\" x=\"0\" y=\"0px\"><defs /><text text-anchor=\"middle\" x=\"50%\" y=\"16px\">DT</text></svg></svg><line stroke=\"black\" x1=\"50%\" x2=\"50%\" y1=\"19.2px\" y2=\"48px\" /></svg><line stroke=\"black\" x1=\"50%\" x2=\"12.5%\" y1=\"19.2px\" y2=\"48px\" /><svg width=\"43.75%\" x=\"25%\" y=\"48px\"><defs /><svg width=\"100%\" x=\"0\" y=\"0px\"><defs /><text text-anchor=\"middle\" x=\"50%\" y=\"16px\">black</text></svg><svg width=\"100%\" x=\"0%\" y=\"48px\"><defs /><svg width=\"100%\" x=\"0\" y=\"0px\"><defs /><text text-anchor=\"middle\" x=\"50%\" y=\"16px\">JJ</text></svg></svg><line stroke=\"black\" x1=\"50%\" x2=\"50%\" y1=\"19.2px\" y2=\"48px\" /></svg><line stroke=\"black\" x1=\"50%\" x2=\"46.875%\" y1=\"19.2px\" y2=\"48px\" /><svg width=\"31.25%\" x=\"68.75%\" y=\"48px\"><defs /><svg width=\"100%\" x=\"0\" y=\"0px\"><defs /><text text-anchor=\"middle\" x=\"50%\" y=\"16px\">dog</text></svg><svg width=\"100%\" x=\"0%\" y=\"48px\"><defs /><svg width=\"100%\" x=\"0\" y=\"0px\"><defs /><text text-anchor=\"middle\" x=\"50%\" y=\"16px\">NN</text></svg></svg><line stroke=\"black\" x1=\"50%\" x2=\"50%\" y1=\"19.2px\" y2=\"48px\" /></svg><line stroke=\"black\" x1=\"50%\" x2=\"84.375%\" y1=\"19.2px\" y2=\"48px\" /></svg><line stroke=\"black\" x1=\"50%\" x2=\"50%\" y1=\"19.2px\" y2=\"48px\" /><svg width=\"15%\" x=\"63.3333%\" y=\"48px\"><defs /><svg width=\"100%\" x=\"0\" y=\"0px\"><defs /><text text-anchor=\"middle\" x=\"50%\" y=\"16px\">NP</text></svg><svg width=\"100%\" x=\"0%\" y=\"48px\"><defs /><svg width=\"100%\" x=\"0\" y=\"0px\"><defs /><text text-anchor=\"middle\" x=\"50%\" y=\"16px\">barking</text></svg><svg width=\"100%\" x=\"0%\" y=\"48px\"><defs /><svg width=\"100%\" x=\"0\" y=\"0px\"><defs /><text text-anchor=\"middle\" x=\"50%\" y=\"16px\">NN</text></svg></svg><line stroke=\"black\" x1=\"50%\" x2=\"50%\" y1=\"19.2px\" y2=\"48px\" /></svg><line stroke=\"black\" x1=\"50%\" x2=\"50%\" y1=\"19.2px\" y2=\"48px\" /></svg><line stroke=\"black\" x1=\"50%\" x2=\"70.8333%\" y1=\"19.2px\" y2=\"48px\" /><svg width=\"6.66667%\" x=\"78.3333%\" y=\"48px\"><defs /><svg width=\"100%\" x=\"0\" y=\"0px\"><defs /><text text-anchor=\"middle\" x=\"50%\" y=\"16px\">at</text></svg><svg width=\"100%\" x=\"0%\" y=\"48px\"><defs /><svg width=\"100%\" x=\"0\" y=\"0px\"><defs /><text text-anchor=\"middle\" x=\"50%\" y=\"16px\">IN</text></svg></svg><line stroke=\"black\" x1=\"50%\" x2=\"50%\" y1=\"19.2px\" y2=\"48px\" /></svg><line stroke=\"black\" x1=\"50%\" x2=\"81.6667%\" y1=\"19.2px\" y2=\"48px\" /><svg width=\"15%\" x=\"85%\" y=\"48px\"><defs /><svg width=\"100%\" x=\"0\" y=\"0px\"><defs /><text text-anchor=\"middle\" x=\"50%\" y=\"16px\">NP</text></svg><svg width=\"44.4444%\" x=\"0%\" y=\"48px\"><defs /><svg width=\"100%\" x=\"0\" y=\"0px\"><defs /><text text-anchor=\"middle\" x=\"50%\" y=\"16px\">a</text></svg><svg width=\"100%\" x=\"0%\" y=\"48px\"><defs /><svg width=\"100%\" x=\"0\" y=\"0px\"><defs /><text text-anchor=\"middle\" x=\"50%\" y=\"16px\">DT</text></svg></svg><line stroke=\"black\" x1=\"50%\" x2=\"50%\" y1=\"19.2px\" y2=\"48px\" /></svg><line stroke=\"black\" x1=\"50%\" x2=\"22.2222%\" y1=\"19.2px\" y2=\"48px\" /><svg width=\"55.5556%\" x=\"44.4444%\" y=\"48px\"><defs /><svg width=\"100%\" x=\"0\" y=\"0px\"><defs /><text text-anchor=\"middle\" x=\"50%\" y=\"16px\">kid</text></svg><svg width=\"100%\" x=\"0%\" y=\"48px\"><defs /><svg width=\"100%\" x=\"0\" y=\"0px\"><defs /><text text-anchor=\"middle\" x=\"50%\" y=\"16px\">NN</text></svg></svg><line stroke=\"black\" x1=\"50%\" x2=\"50%\" y1=\"19.2px\" y2=\"48px\" /></svg><line stroke=\"black\" x1=\"50%\" x2=\"72.2222%\" y1=\"19.2px\" y2=\"48px\" /></svg><line stroke=\"black\" x1=\"50%\" x2=\"92.5%\" y1=\"19.2px\" y2=\"48px\" /></svg>"
            ],
            "text/plain": [
              "Tree('S', [Tree('NP', [('last', 'JJ'), ('night', 'NN')]), Tree('NP', [('i', 'NN')]), ('saw', 'VBD'), Tree('NP', [('a', 'DT'), ('black', 'JJ'), ('dog', 'NN')]), Tree('NP', [('barking', 'NN')]), ('at', 'IN'), Tree('NP', [('a', 'DT'), ('kid', 'NN')])])"
            ]
          },
          "execution_count": 75,
          "metadata": {},
          "output_type": "execute_result"
        }
      ],
      "source": [
        "!pip install svgling\n",
        "import nltk\n",
        "\n",
        "# define the grammar (noun phrase)\n",
        "grammar = (\"NP: {<DT>?<JJ>*<NN>}\")\n",
        "\n",
        "sent = \"last night i saw a black dog barking at a kid\"\n",
        "\n",
        "tokens = ...\n",
        "tagged = ...\n",
        "\n",
        "# parse the text\n",
        "parser = ...\n",
        "tree = ...\n",
        "tree"
      ]
    },
    {
      "cell_type": "code",
      "execution_count": null,
      "id": "726fe8da",
      "metadata": {
        "id": "726fe8da"
      },
      "outputs": [],
      "source": [
        "assert len(tree) == 7\n",
        "assert tree[3:4] == [Tree('NP', [('a', 'DT'), ('black', 'JJ'), ('dog', 'NN')])]"
      ]
    },
    {
      "cell_type": "markdown",
      "id": "7ef574e0-55eb-441f-8853-8e80defc843b",
      "metadata": {
        "id": "7ef574e0-55eb-441f-8853-8e80defc843b"
      },
      "source": [
        "## Dependency Parsing\n",
        "\n",
        "In dependency parsing, we try to use dependency-based grammars to analyze and infer both structure and semantic dependencies and relationships between tokens in a sentence. It focuses on identifying the relationships between words within a sentence and how they depend on each other to convey meaning.\n",
        "\n",
        "![](https://files.realpython.com/media/displacy_dependency_parse.de72f9b1d115.png)\n",
        "\n",
        "Dependency Parsing is used in shallow parsing and named entity recognition.\n",
        "\n",
        "What it Does:\n",
        "\n",
        "- Dependency parsing breaks down a sentence into its constituent parts (words) and analyzes the grammatical relationships between them.\n",
        "- It creates a dependency tree or dependency graph that visually represents these relationships.\n",
        "- Unlike constituency parsing that focuses on phrases and clauses, dependency parsing concentrates on the relationships between individual words.\n"
      ]
    },
    {
      "cell_type": "code",
      "execution_count": null,
      "id": "0fef8ba2-d943-4d80-93c2-c0818b7e1ce5",
      "metadata": {
        "id": "0fef8ba2-d943-4d80-93c2-c0818b7e1ce5"
      },
      "outputs": [],
      "source": [
        "%%capture\n",
        "!python -m spacy download en_core_web_sm"
      ]
    },
    {
      "cell_type": "code",
      "execution_count": null,
      "id": "6b36c19f-4fe3-457f-b5ec-958cc1f4f8f6",
      "metadata": {
        "id": "6b36c19f-4fe3-457f-b5ec-958cc1f4f8f6"
      },
      "outputs": [],
      "source": [
        "import spacy\n",
        "\n",
        "# download the pipeline\n",
        "text_processing_pipeline = spacy.load(\"en_core_web_sm\")\n",
        "\n",
        "# process the sentence\n",
        "processed_sentence = text_processing_pipeline(\n",
        "    \"Innopolis University is a university located in the city of Innopolis.\"\n",
        ")"
      ]
    },
    {
      "cell_type": "code",
      "execution_count": null,
      "id": "a5e02165-05e6-4482-b750-0eb5d7372c2c",
      "metadata": {
        "id": "a5e02165-05e6-4482-b750-0eb5d7372c2c",
        "outputId": "8019c905-02c8-40c2-a172-1247dd9be5ac"
      },
      "outputs": [
        {
          "data": {
            "text/html": [
              "<span class=\"tex2jax_ignore\"><svg xmlns=\"http://www.w3.org/2000/svg\" xmlns:xlink=\"http://www.w3.org/1999/xlink\" xml:lang=\"en\" id=\"e6d8c70cafd645ce8644f48fc625db82-0\" class=\"displacy\" width=\"1260\" height=\"247.0\" direction=\"ltr\" style=\"max-width: none; height: 247.0px; color: #000000; background: #ffffff; font-family: Arial; direction: ltr\">\n",
              "<text class=\"displacy-token\" fill=\"currentColor\" text-anchor=\"middle\" y=\"157.0\">\n",
              "    <tspan class=\"displacy-word\" fill=\"currentColor\" x=\"50\">Innopolis</tspan>\n",
              "    <tspan class=\"displacy-tag\" dy=\"2em\" fill=\"currentColor\" x=\"50\">PROPN</tspan>\n",
              "</text>\n",
              "\n",
              "<text class=\"displacy-token\" fill=\"currentColor\" text-anchor=\"middle\" y=\"157.0\">\n",
              "    <tspan class=\"displacy-word\" fill=\"currentColor\" x=\"160\">University</tspan>\n",
              "    <tspan class=\"displacy-tag\" dy=\"2em\" fill=\"currentColor\" x=\"160\">PROPN</tspan>\n",
              "</text>\n",
              "\n",
              "<text class=\"displacy-token\" fill=\"currentColor\" text-anchor=\"middle\" y=\"157.0\">\n",
              "    <tspan class=\"displacy-word\" fill=\"currentColor\" x=\"270\">is</tspan>\n",
              "    <tspan class=\"displacy-tag\" dy=\"2em\" fill=\"currentColor\" x=\"270\">AUX</tspan>\n",
              "</text>\n",
              "\n",
              "<text class=\"displacy-token\" fill=\"currentColor\" text-anchor=\"middle\" y=\"157.0\">\n",
              "    <tspan class=\"displacy-word\" fill=\"currentColor\" x=\"380\">a</tspan>\n",
              "    <tspan class=\"displacy-tag\" dy=\"2em\" fill=\"currentColor\" x=\"380\">DET</tspan>\n",
              "</text>\n",
              "\n",
              "<text class=\"displacy-token\" fill=\"currentColor\" text-anchor=\"middle\" y=\"157.0\">\n",
              "    <tspan class=\"displacy-word\" fill=\"currentColor\" x=\"490\">university</tspan>\n",
              "    <tspan class=\"displacy-tag\" dy=\"2em\" fill=\"currentColor\" x=\"490\">NOUN</tspan>\n",
              "</text>\n",
              "\n",
              "<text class=\"displacy-token\" fill=\"currentColor\" text-anchor=\"middle\" y=\"157.0\">\n",
              "    <tspan class=\"displacy-word\" fill=\"currentColor\" x=\"600\">located</tspan>\n",
              "    <tspan class=\"displacy-tag\" dy=\"2em\" fill=\"currentColor\" x=\"600\">VERB</tspan>\n",
              "</text>\n",
              "\n",
              "<text class=\"displacy-token\" fill=\"currentColor\" text-anchor=\"middle\" y=\"157.0\">\n",
              "    <tspan class=\"displacy-word\" fill=\"currentColor\" x=\"710\">in</tspan>\n",
              "    <tspan class=\"displacy-tag\" dy=\"2em\" fill=\"currentColor\" x=\"710\">ADP</tspan>\n",
              "</text>\n",
              "\n",
              "<text class=\"displacy-token\" fill=\"currentColor\" text-anchor=\"middle\" y=\"157.0\">\n",
              "    <tspan class=\"displacy-word\" fill=\"currentColor\" x=\"820\">the</tspan>\n",
              "    <tspan class=\"displacy-tag\" dy=\"2em\" fill=\"currentColor\" x=\"820\">DET</tspan>\n",
              "</text>\n",
              "\n",
              "<text class=\"displacy-token\" fill=\"currentColor\" text-anchor=\"middle\" y=\"157.0\">\n",
              "    <tspan class=\"displacy-word\" fill=\"currentColor\" x=\"930\">city</tspan>\n",
              "    <tspan class=\"displacy-tag\" dy=\"2em\" fill=\"currentColor\" x=\"930\">NOUN</tspan>\n",
              "</text>\n",
              "\n",
              "<text class=\"displacy-token\" fill=\"currentColor\" text-anchor=\"middle\" y=\"157.0\">\n",
              "    <tspan class=\"displacy-word\" fill=\"currentColor\" x=\"1040\">of</tspan>\n",
              "    <tspan class=\"displacy-tag\" dy=\"2em\" fill=\"currentColor\" x=\"1040\">ADP</tspan>\n",
              "</text>\n",
              "\n",
              "<text class=\"displacy-token\" fill=\"currentColor\" text-anchor=\"middle\" y=\"157.0\">\n",
              "    <tspan class=\"displacy-word\" fill=\"currentColor\" x=\"1150\">Innopolis.</tspan>\n",
              "    <tspan class=\"displacy-tag\" dy=\"2em\" fill=\"currentColor\" x=\"1150\">PROPN</tspan>\n",
              "</text>\n",
              "\n",
              "<g class=\"displacy-arrow\">\n",
              "    <path class=\"displacy-arc\" id=\"arrow-e6d8c70cafd645ce8644f48fc625db82-0-0\" stroke-width=\"2px\" d=\"M70,112.0 C70,57.0 155.0,57.0 155.0,112.0\" fill=\"none\" stroke=\"currentColor\"/>\n",
              "    <text dy=\"1.25em\" style=\"font-size: 0.8em; letter-spacing: 1px\">\n",
              "        <textPath xlink:href=\"#arrow-e6d8c70cafd645ce8644f48fc625db82-0-0\" class=\"displacy-label\" startOffset=\"50%\" side=\"left\" fill=\"currentColor\" text-anchor=\"middle\">compound</textPath>\n",
              "    </text>\n",
              "    <path class=\"displacy-arrowhead\" d=\"M70,114.0 L64,104.0 76,104.0\" fill=\"currentColor\"/>\n",
              "</g>\n",
              "\n",
              "<g class=\"displacy-arrow\">\n",
              "    <path class=\"displacy-arc\" id=\"arrow-e6d8c70cafd645ce8644f48fc625db82-0-1\" stroke-width=\"2px\" d=\"M180,112.0 C180,57.0 265.0,57.0 265.0,112.0\" fill=\"none\" stroke=\"currentColor\"/>\n",
              "    <text dy=\"1.25em\" style=\"font-size: 0.8em; letter-spacing: 1px\">\n",
              "        <textPath xlink:href=\"#arrow-e6d8c70cafd645ce8644f48fc625db82-0-1\" class=\"displacy-label\" startOffset=\"50%\" side=\"left\" fill=\"currentColor\" text-anchor=\"middle\">nsubj</textPath>\n",
              "    </text>\n",
              "    <path class=\"displacy-arrowhead\" d=\"M180,114.0 L174,104.0 186,104.0\" fill=\"currentColor\"/>\n",
              "</g>\n",
              "\n",
              "<g class=\"displacy-arrow\">\n",
              "    <path class=\"displacy-arc\" id=\"arrow-e6d8c70cafd645ce8644f48fc625db82-0-2\" stroke-width=\"2px\" d=\"M400,112.0 C400,57.0 485.0,57.0 485.0,112.0\" fill=\"none\" stroke=\"currentColor\"/>\n",
              "    <text dy=\"1.25em\" style=\"font-size: 0.8em; letter-spacing: 1px\">\n",
              "        <textPath xlink:href=\"#arrow-e6d8c70cafd645ce8644f48fc625db82-0-2\" class=\"displacy-label\" startOffset=\"50%\" side=\"left\" fill=\"currentColor\" text-anchor=\"middle\">det</textPath>\n",
              "    </text>\n",
              "    <path class=\"displacy-arrowhead\" d=\"M400,114.0 L394,104.0 406,104.0\" fill=\"currentColor\"/>\n",
              "</g>\n",
              "\n",
              "<g class=\"displacy-arrow\">\n",
              "    <path class=\"displacy-arc\" id=\"arrow-e6d8c70cafd645ce8644f48fc625db82-0-3\" stroke-width=\"2px\" d=\"M290,112.0 C290,2.0 490.0,2.0 490.0,112.0\" fill=\"none\" stroke=\"currentColor\"/>\n",
              "    <text dy=\"1.25em\" style=\"font-size: 0.8em; letter-spacing: 1px\">\n",
              "        <textPath xlink:href=\"#arrow-e6d8c70cafd645ce8644f48fc625db82-0-3\" class=\"displacy-label\" startOffset=\"50%\" side=\"left\" fill=\"currentColor\" text-anchor=\"middle\">attr</textPath>\n",
              "    </text>\n",
              "    <path class=\"displacy-arrowhead\" d=\"M490.0,114.0 L496.0,104.0 484.0,104.0\" fill=\"currentColor\"/>\n",
              "</g>\n",
              "\n",
              "<g class=\"displacy-arrow\">\n",
              "    <path class=\"displacy-arc\" id=\"arrow-e6d8c70cafd645ce8644f48fc625db82-0-4\" stroke-width=\"2px\" d=\"M510,112.0 C510,57.0 595.0,57.0 595.0,112.0\" fill=\"none\" stroke=\"currentColor\"/>\n",
              "    <text dy=\"1.25em\" style=\"font-size: 0.8em; letter-spacing: 1px\">\n",
              "        <textPath xlink:href=\"#arrow-e6d8c70cafd645ce8644f48fc625db82-0-4\" class=\"displacy-label\" startOffset=\"50%\" side=\"left\" fill=\"currentColor\" text-anchor=\"middle\">acl</textPath>\n",
              "    </text>\n",
              "    <path class=\"displacy-arrowhead\" d=\"M595.0,114.0 L601.0,104.0 589.0,104.0\" fill=\"currentColor\"/>\n",
              "</g>\n",
              "\n",
              "<g class=\"displacy-arrow\">\n",
              "    <path class=\"displacy-arc\" id=\"arrow-e6d8c70cafd645ce8644f48fc625db82-0-5\" stroke-width=\"2px\" d=\"M620,112.0 C620,57.0 705.0,57.0 705.0,112.0\" fill=\"none\" stroke=\"currentColor\"/>\n",
              "    <text dy=\"1.25em\" style=\"font-size: 0.8em; letter-spacing: 1px\">\n",
              "        <textPath xlink:href=\"#arrow-e6d8c70cafd645ce8644f48fc625db82-0-5\" class=\"displacy-label\" startOffset=\"50%\" side=\"left\" fill=\"currentColor\" text-anchor=\"middle\">prep</textPath>\n",
              "    </text>\n",
              "    <path class=\"displacy-arrowhead\" d=\"M705.0,114.0 L711.0,104.0 699.0,104.0\" fill=\"currentColor\"/>\n",
              "</g>\n",
              "\n",
              "<g class=\"displacy-arrow\">\n",
              "    <path class=\"displacy-arc\" id=\"arrow-e6d8c70cafd645ce8644f48fc625db82-0-6\" stroke-width=\"2px\" d=\"M840,112.0 C840,57.0 925.0,57.0 925.0,112.0\" fill=\"none\" stroke=\"currentColor\"/>\n",
              "    <text dy=\"1.25em\" style=\"font-size: 0.8em; letter-spacing: 1px\">\n",
              "        <textPath xlink:href=\"#arrow-e6d8c70cafd645ce8644f48fc625db82-0-6\" class=\"displacy-label\" startOffset=\"50%\" side=\"left\" fill=\"currentColor\" text-anchor=\"middle\">det</textPath>\n",
              "    </text>\n",
              "    <path class=\"displacy-arrowhead\" d=\"M840,114.0 L834,104.0 846,104.0\" fill=\"currentColor\"/>\n",
              "</g>\n",
              "\n",
              "<g class=\"displacy-arrow\">\n",
              "    <path class=\"displacy-arc\" id=\"arrow-e6d8c70cafd645ce8644f48fc625db82-0-7\" stroke-width=\"2px\" d=\"M730,112.0 C730,2.0 930.0,2.0 930.0,112.0\" fill=\"none\" stroke=\"currentColor\"/>\n",
              "    <text dy=\"1.25em\" style=\"font-size: 0.8em; letter-spacing: 1px\">\n",
              "        <textPath xlink:href=\"#arrow-e6d8c70cafd645ce8644f48fc625db82-0-7\" class=\"displacy-label\" startOffset=\"50%\" side=\"left\" fill=\"currentColor\" text-anchor=\"middle\">pobj</textPath>\n",
              "    </text>\n",
              "    <path class=\"displacy-arrowhead\" d=\"M930.0,114.0 L936.0,104.0 924.0,104.0\" fill=\"currentColor\"/>\n",
              "</g>\n",
              "\n",
              "<g class=\"displacy-arrow\">\n",
              "    <path class=\"displacy-arc\" id=\"arrow-e6d8c70cafd645ce8644f48fc625db82-0-8\" stroke-width=\"2px\" d=\"M950,112.0 C950,57.0 1035.0,57.0 1035.0,112.0\" fill=\"none\" stroke=\"currentColor\"/>\n",
              "    <text dy=\"1.25em\" style=\"font-size: 0.8em; letter-spacing: 1px\">\n",
              "        <textPath xlink:href=\"#arrow-e6d8c70cafd645ce8644f48fc625db82-0-8\" class=\"displacy-label\" startOffset=\"50%\" side=\"left\" fill=\"currentColor\" text-anchor=\"middle\">prep</textPath>\n",
              "    </text>\n",
              "    <path class=\"displacy-arrowhead\" d=\"M1035.0,114.0 L1041.0,104.0 1029.0,104.0\" fill=\"currentColor\"/>\n",
              "</g>\n",
              "\n",
              "<g class=\"displacy-arrow\">\n",
              "    <path class=\"displacy-arc\" id=\"arrow-e6d8c70cafd645ce8644f48fc625db82-0-9\" stroke-width=\"2px\" d=\"M1060,112.0 C1060,57.0 1145.0,57.0 1145.0,112.0\" fill=\"none\" stroke=\"currentColor\"/>\n",
              "    <text dy=\"1.25em\" style=\"font-size: 0.8em; letter-spacing: 1px\">\n",
              "        <textPath xlink:href=\"#arrow-e6d8c70cafd645ce8644f48fc625db82-0-9\" class=\"displacy-label\" startOffset=\"50%\" side=\"left\" fill=\"currentColor\" text-anchor=\"middle\">pobj</textPath>\n",
              "    </text>\n",
              "    <path class=\"displacy-arrowhead\" d=\"M1145.0,114.0 L1151.0,104.0 1139.0,104.0\" fill=\"currentColor\"/>\n",
              "</g>\n",
              "</svg></span>"
            ],
            "text/plain": [
              "<IPython.core.display.HTML object>"
            ]
          },
          "metadata": {},
          "output_type": "display_data"
        }
      ],
      "source": [
        "from spacy import displacy\n",
        "\n",
        "displacy.render(\n",
        "    processed_sentence,\n",
        "    jupyter=True,\n",
        "    options={\"distance\": 110, \"arrow_stroke\": 2, \"arrow_width\": 8},\n",
        ")"
      ]
    },
    {
      "cell_type": "markdown",
      "id": "965dac1a",
      "metadata": {
        "id": "965dac1a"
      },
      "source": [
        "\n",
        "#### Task 4.\n",
        "Fill the gaps. Lets try the French language. Load it using spacy.load() with the parameter 'fr_core_news_sm'."
      ]
    },
    {
      "cell_type": "code",
      "execution_count": null,
      "id": "20a3214a",
      "metadata": {
        "id": "20a3214a"
      },
      "outputs": [],
      "source": [
        "%%capture\n",
        "!python -m spacy download fr_core_news_sm"
      ]
    },
    {
      "cell_type": "code",
      "execution_count": null,
      "id": "78326047",
      "metadata": {
        "id": "78326047",
        "outputId": "120b3c3a-47e2-4fba-946f-de31f205da19"
      },
      "outputs": [
        {
          "data": {
            "text/plain": [
              "Le super chef test le menu fixe pour le web."
            ]
          },
          "execution_count": 28,
          "metadata": {},
          "output_type": "execute_result"
        }
      ],
      "source": [
        "import spacy\n",
        "\n",
        "# download the pipeline with a new language\n",
        "pipeline = ...\n",
        "sentence = \"Le super chef test le menu fixe pour le web.\"\n",
        "\n",
        "# process the sentence\n",
        "processed_sentence = ...\n",
        "processed_sentence\n"
      ]
    },
    {
      "cell_type": "code",
      "execution_count": null,
      "id": "f8546dbb",
      "metadata": {
        "id": "f8546dbb",
        "outputId": "91d3d333-0954-440a-c94d-c5afe7bf85c9"
      },
      "outputs": [
        {
          "data": {
            "text/html": [
              "<span class=\"tex2jax_ignore\"><svg xmlns=\"http://www.w3.org/2000/svg\" xmlns:xlink=\"http://www.w3.org/1999/xlink\" xml:lang=\"fr\" id=\"29f6738ae5d64805b2b1e6af7b4daf9e-0\" class=\"displacy\" width=\"1150\" height=\"302.0\" direction=\"ltr\" style=\"max-width: none; height: 302.0px; color: #000000; background: #ffffff; font-family: Arial; direction: ltr\">\n",
              "<text class=\"displacy-token\" fill=\"currentColor\" text-anchor=\"middle\" y=\"212.0\">\n",
              "    <tspan class=\"displacy-word\" fill=\"currentColor\" x=\"50\">Le</tspan>\n",
              "    <tspan class=\"displacy-tag\" dy=\"2em\" fill=\"currentColor\" x=\"50\">DET</tspan>\n",
              "</text>\n",
              "\n",
              "<text class=\"displacy-token\" fill=\"currentColor\" text-anchor=\"middle\" y=\"212.0\">\n",
              "    <tspan class=\"displacy-word\" fill=\"currentColor\" x=\"160\">super</tspan>\n",
              "    <tspan class=\"displacy-tag\" dy=\"2em\" fill=\"currentColor\" x=\"160\">NOUN</tspan>\n",
              "</text>\n",
              "\n",
              "<text class=\"displacy-token\" fill=\"currentColor\" text-anchor=\"middle\" y=\"212.0\">\n",
              "    <tspan class=\"displacy-word\" fill=\"currentColor\" x=\"270\">chef</tspan>\n",
              "    <tspan class=\"displacy-tag\" dy=\"2em\" fill=\"currentColor\" x=\"270\">NOUN</tspan>\n",
              "</text>\n",
              "\n",
              "<text class=\"displacy-token\" fill=\"currentColor\" text-anchor=\"middle\" y=\"212.0\">\n",
              "    <tspan class=\"displacy-word\" fill=\"currentColor\" x=\"380\">test</tspan>\n",
              "    <tspan class=\"displacy-tag\" dy=\"2em\" fill=\"currentColor\" x=\"380\">VERB</tspan>\n",
              "</text>\n",
              "\n",
              "<text class=\"displacy-token\" fill=\"currentColor\" text-anchor=\"middle\" y=\"212.0\">\n",
              "    <tspan class=\"displacy-word\" fill=\"currentColor\" x=\"490\">le</tspan>\n",
              "    <tspan class=\"displacy-tag\" dy=\"2em\" fill=\"currentColor\" x=\"490\">DET</tspan>\n",
              "</text>\n",
              "\n",
              "<text class=\"displacy-token\" fill=\"currentColor\" text-anchor=\"middle\" y=\"212.0\">\n",
              "    <tspan class=\"displacy-word\" fill=\"currentColor\" x=\"600\">menu</tspan>\n",
              "    <tspan class=\"displacy-tag\" dy=\"2em\" fill=\"currentColor\" x=\"600\">NOUN</tspan>\n",
              "</text>\n",
              "\n",
              "<text class=\"displacy-token\" fill=\"currentColor\" text-anchor=\"middle\" y=\"212.0\">\n",
              "    <tspan class=\"displacy-word\" fill=\"currentColor\" x=\"710\">fixe</tspan>\n",
              "    <tspan class=\"displacy-tag\" dy=\"2em\" fill=\"currentColor\" x=\"710\">ADJ</tspan>\n",
              "</text>\n",
              "\n",
              "<text class=\"displacy-token\" fill=\"currentColor\" text-anchor=\"middle\" y=\"212.0\">\n",
              "    <tspan class=\"displacy-word\" fill=\"currentColor\" x=\"820\">pour</tspan>\n",
              "    <tspan class=\"displacy-tag\" dy=\"2em\" fill=\"currentColor\" x=\"820\">ADP</tspan>\n",
              "</text>\n",
              "\n",
              "<text class=\"displacy-token\" fill=\"currentColor\" text-anchor=\"middle\" y=\"212.0\">\n",
              "    <tspan class=\"displacy-word\" fill=\"currentColor\" x=\"930\">le</tspan>\n",
              "    <tspan class=\"displacy-tag\" dy=\"2em\" fill=\"currentColor\" x=\"930\">DET</tspan>\n",
              "</text>\n",
              "\n",
              "<text class=\"displacy-token\" fill=\"currentColor\" text-anchor=\"middle\" y=\"212.0\">\n",
              "    <tspan class=\"displacy-word\" fill=\"currentColor\" x=\"1040\">web.</tspan>\n",
              "    <tspan class=\"displacy-tag\" dy=\"2em\" fill=\"currentColor\" x=\"1040\">PROPN</tspan>\n",
              "</text>\n",
              "\n",
              "<g class=\"displacy-arrow\">\n",
              "    <path class=\"displacy-arc\" id=\"arrow-29f6738ae5d64805b2b1e6af7b4daf9e-0-0\" stroke-width=\"2px\" d=\"M70,167.0 C70,112.0 150.0,112.0 150.0,167.0\" fill=\"none\" stroke=\"currentColor\"/>\n",
              "    <text dy=\"1.25em\" style=\"font-size: 0.8em; letter-spacing: 1px\">\n",
              "        <textPath xlink:href=\"#arrow-29f6738ae5d64805b2b1e6af7b4daf9e-0-0\" class=\"displacy-label\" startOffset=\"50%\" side=\"left\" fill=\"currentColor\" text-anchor=\"middle\">det</textPath>\n",
              "    </text>\n",
              "    <path class=\"displacy-arrowhead\" d=\"M70,169.0 L65,160.0 75,160.0\" fill=\"currentColor\"/>\n",
              "</g>\n",
              "\n",
              "<g class=\"displacy-arrow\">\n",
              "    <path class=\"displacy-arc\" id=\"arrow-29f6738ae5d64805b2b1e6af7b4daf9e-0-1\" stroke-width=\"2px\" d=\"M180,167.0 C180,57.0 375.0,57.0 375.0,167.0\" fill=\"none\" stroke=\"currentColor\"/>\n",
              "    <text dy=\"1.25em\" style=\"font-size: 0.8em; letter-spacing: 1px\">\n",
              "        <textPath xlink:href=\"#arrow-29f6738ae5d64805b2b1e6af7b4daf9e-0-1\" class=\"displacy-label\" startOffset=\"50%\" side=\"left\" fill=\"currentColor\" text-anchor=\"middle\">dep</textPath>\n",
              "    </text>\n",
              "    <path class=\"displacy-arrowhead\" d=\"M180,169.0 L175,160.0 185,160.0\" fill=\"currentColor\"/>\n",
              "</g>\n",
              "\n",
              "<g class=\"displacy-arrow\">\n",
              "    <path class=\"displacy-arc\" id=\"arrow-29f6738ae5d64805b2b1e6af7b4daf9e-0-2\" stroke-width=\"2px\" d=\"M290,167.0 C290,112.0 370.0,112.0 370.0,167.0\" fill=\"none\" stroke=\"currentColor\"/>\n",
              "    <text dy=\"1.25em\" style=\"font-size: 0.8em; letter-spacing: 1px\">\n",
              "        <textPath xlink:href=\"#arrow-29f6738ae5d64805b2b1e6af7b4daf9e-0-2\" class=\"displacy-label\" startOffset=\"50%\" side=\"left\" fill=\"currentColor\" text-anchor=\"middle\">nsubj</textPath>\n",
              "    </text>\n",
              "    <path class=\"displacy-arrowhead\" d=\"M290,169.0 L285,160.0 295,160.0\" fill=\"currentColor\"/>\n",
              "</g>\n",
              "\n",
              "<g class=\"displacy-arrow\">\n",
              "    <path class=\"displacy-arc\" id=\"arrow-29f6738ae5d64805b2b1e6af7b4daf9e-0-3\" stroke-width=\"2px\" d=\"M510,167.0 C510,112.0 590.0,112.0 590.0,167.0\" fill=\"none\" stroke=\"currentColor\"/>\n",
              "    <text dy=\"1.25em\" style=\"font-size: 0.8em; letter-spacing: 1px\">\n",
              "        <textPath xlink:href=\"#arrow-29f6738ae5d64805b2b1e6af7b4daf9e-0-3\" class=\"displacy-label\" startOffset=\"50%\" side=\"left\" fill=\"currentColor\" text-anchor=\"middle\">det</textPath>\n",
              "    </text>\n",
              "    <path class=\"displacy-arrowhead\" d=\"M510,169.0 L505,160.0 515,160.0\" fill=\"currentColor\"/>\n",
              "</g>\n",
              "\n",
              "<g class=\"displacy-arrow\">\n",
              "    <path class=\"displacy-arc\" id=\"arrow-29f6738ae5d64805b2b1e6af7b4daf9e-0-4\" stroke-width=\"2px\" d=\"M400,167.0 C400,57.0 595.0,57.0 595.0,167.0\" fill=\"none\" stroke=\"currentColor\"/>\n",
              "    <text dy=\"1.25em\" style=\"font-size: 0.8em; letter-spacing: 1px\">\n",
              "        <textPath xlink:href=\"#arrow-29f6738ae5d64805b2b1e6af7b4daf9e-0-4\" class=\"displacy-label\" startOffset=\"50%\" side=\"left\" fill=\"currentColor\" text-anchor=\"middle\">obj</textPath>\n",
              "    </text>\n",
              "    <path class=\"displacy-arrowhead\" d=\"M595.0,169.0 L600.0,160.0 590.0,160.0\" fill=\"currentColor\"/>\n",
              "</g>\n",
              "\n",
              "<g class=\"displacy-arrow\">\n",
              "    <path class=\"displacy-arc\" id=\"arrow-29f6738ae5d64805b2b1e6af7b4daf9e-0-5\" stroke-width=\"2px\" d=\"M620,167.0 C620,112.0 700.0,112.0 700.0,167.0\" fill=\"none\" stroke=\"currentColor\"/>\n",
              "    <text dy=\"1.25em\" style=\"font-size: 0.8em; letter-spacing: 1px\">\n",
              "        <textPath xlink:href=\"#arrow-29f6738ae5d64805b2b1e6af7b4daf9e-0-5\" class=\"displacy-label\" startOffset=\"50%\" side=\"left\" fill=\"currentColor\" text-anchor=\"middle\">amod</textPath>\n",
              "    </text>\n",
              "    <path class=\"displacy-arrowhead\" d=\"M700.0,169.0 L705.0,160.0 695.0,160.0\" fill=\"currentColor\"/>\n",
              "</g>\n",
              "\n",
              "<g class=\"displacy-arrow\">\n",
              "    <path class=\"displacy-arc\" id=\"arrow-29f6738ae5d64805b2b1e6af7b4daf9e-0-6\" stroke-width=\"2px\" d=\"M840,167.0 C840,57.0 1035.0,57.0 1035.0,167.0\" fill=\"none\" stroke=\"currentColor\"/>\n",
              "    <text dy=\"1.25em\" style=\"font-size: 0.8em; letter-spacing: 1px\">\n",
              "        <textPath xlink:href=\"#arrow-29f6738ae5d64805b2b1e6af7b4daf9e-0-6\" class=\"displacy-label\" startOffset=\"50%\" side=\"left\" fill=\"currentColor\" text-anchor=\"middle\">case</textPath>\n",
              "    </text>\n",
              "    <path class=\"displacy-arrowhead\" d=\"M840,169.0 L835,160.0 845,160.0\" fill=\"currentColor\"/>\n",
              "</g>\n",
              "\n",
              "<g class=\"displacy-arrow\">\n",
              "    <path class=\"displacy-arc\" id=\"arrow-29f6738ae5d64805b2b1e6af7b4daf9e-0-7\" stroke-width=\"2px\" d=\"M950,167.0 C950,112.0 1030.0,112.0 1030.0,167.0\" fill=\"none\" stroke=\"currentColor\"/>\n",
              "    <text dy=\"1.25em\" style=\"font-size: 0.8em; letter-spacing: 1px\">\n",
              "        <textPath xlink:href=\"#arrow-29f6738ae5d64805b2b1e6af7b4daf9e-0-7\" class=\"displacy-label\" startOffset=\"50%\" side=\"left\" fill=\"currentColor\" text-anchor=\"middle\">det</textPath>\n",
              "    </text>\n",
              "    <path class=\"displacy-arrowhead\" d=\"M950,169.0 L945,160.0 955,160.0\" fill=\"currentColor\"/>\n",
              "</g>\n",
              "\n",
              "<g class=\"displacy-arrow\">\n",
              "    <path class=\"displacy-arc\" id=\"arrow-29f6738ae5d64805b2b1e6af7b4daf9e-0-8\" stroke-width=\"2px\" d=\"M400,167.0 C400,2.0 1040.0,2.0 1040.0,167.0\" fill=\"none\" stroke=\"currentColor\"/>\n",
              "    <text dy=\"1.25em\" style=\"font-size: 0.8em; letter-spacing: 1px\">\n",
              "        <textPath xlink:href=\"#arrow-29f6738ae5d64805b2b1e6af7b4daf9e-0-8\" class=\"displacy-label\" startOffset=\"50%\" side=\"left\" fill=\"currentColor\" text-anchor=\"middle\">obl:mod</textPath>\n",
              "    </text>\n",
              "    <path class=\"displacy-arrowhead\" d=\"M1040.0,169.0 L1045.0,160.0 1035.0,160.0\" fill=\"currentColor\"/>\n",
              "</g>\n",
              "</svg></span>"
            ],
            "text/plain": [
              "<IPython.core.display.HTML object>"
            ]
          },
          "metadata": {},
          "output_type": "display_data"
        }
      ],
      "source": [
        "from spacy import displacy\n",
        "\n",
        "# display the dependency\n",
        "displacy.render(...)"
      ]
    },
    {
      "cell_type": "code",
      "execution_count": null,
      "id": "29b83150",
      "metadata": {
        "id": "29b83150"
      },
      "outputs": [],
      "source": [
        "assert len(processed_sentence[1]) == 5\n",
        "assert (processed_sentence[1].pos_) == 'NOUN'"
      ]
    },
    {
      "cell_type": "markdown",
      "id": "bf688188-2ee3-46c2-ba55-5a5b2377978a",
      "metadata": {
        "id": "bf688188-2ee3-46c2-ba55-5a5b2377978a"
      },
      "source": [
        "## 5. Named Entity Recognition\n",
        "\n",
        "Named Entity Recognition (NER) is the process of locating named entities in unstructured text and then classifying them into pre-defined categories, such as person names, organizations, locations, monetary values, percentages, time expressions, and so on.\n",
        "\n",
        "Application:\n",
        "- Information extraction: NER helps extract structured information from unstructured text, making it easier to process and analyze large amounts of data\n",
        "- Machine translation: NER improves the accuracy of machine translation by identifying and translating named entities correctly, preserving context and _meaning_\n",
        "\n",
        "Common named entity types: person, location, time, date, product, money, percent, quantity, work_of_art, event, facility, gpe, ordinal, cardinal, etc.\n"
      ]
    },
    {
      "cell_type": "code",
      "execution_count": null,
      "id": "c6055f26-0b73-497c-a2ed-57b665da756a",
      "metadata": {
        "id": "c6055f26-0b73-497c-a2ed-57b665da756a"
      },
      "outputs": [],
      "source": [
        "sentence = \"European authorities fined Google a record $5.1 billion on Wednesday for abusing its power in the mobile phone market and ordered the company to alter its practices\""
      ]
    },
    {
      "cell_type": "markdown",
      "id": "f2c060bf-979f-4800-ae80-7ee311e6484e",
      "metadata": {
        "id": "f2c060bf-979f-4800-ae80-7ee311e6484e"
      },
      "source": [
        "#### NER with spacy\n"
      ]
    },
    {
      "cell_type": "code",
      "execution_count": null,
      "id": "c2bebd6e-f29c-4b2e-be4f-da621a174153",
      "metadata": {
        "id": "c2bebd6e-f29c-4b2e-be4f-da621a174153"
      },
      "outputs": [],
      "source": [
        "import en_core_web_sm"
      ]
    },
    {
      "cell_type": "code",
      "execution_count": null,
      "id": "358424b8-7c78-4e93-9858-6b738f4aa440",
      "metadata": {
        "id": "358424b8-7c78-4e93-9858-6b738f4aa440",
        "outputId": "3b799c9e-15a0-4224-99e7-98b4f3bc423b"
      },
      "outputs": [
        {
          "name": "stdout",
          "output_type": "stream",
          "text": [
            "[('European', 'NORP'), ('Google', 'ORG'), ('$5.1 billion', 'MONEY'), ('Wednesday', 'DATE')]\n"
          ]
        }
      ],
      "source": [
        "# download the pipeline\n",
        "text_processing_pipeline = en_core_web_sm.load()\n",
        "\n",
        "# parse the text\n",
        "doc = text_processing_pipeline(sentence)\n",
        "\n",
        "# check the results\n",
        "print([(X.text, X.label_) for X in doc.ents])"
      ]
    },
    {
      "cell_type": "code",
      "execution_count": null,
      "id": "3b9f2c87-647f-4807-8dcb-89df12b5d034",
      "metadata": {
        "id": "3b9f2c87-647f-4807-8dcb-89df12b5d034",
        "outputId": "46a6f0f1-1aca-4093-bc90-ab79b780df93"
      },
      "outputs": [
        {
          "data": {
            "text/html": [
              "<span class=\"tex2jax_ignore\"><div class=\"entities\" style=\"line-height: 2.5; direction: ltr\">\n",
              "<mark class=\"entity\" style=\"background: #c887fb; padding: 0.45em 0.6em; margin: 0 0.25em; line-height: 1; border-radius: 0.35em;\">\n",
              "    European\n",
              "    <span style=\"font-size: 0.8em; font-weight: bold; line-height: 1; border-radius: 0.35em; vertical-align: middle; margin-left: 0.5rem\">NORP</span>\n",
              "</mark>\n",
              " authorities fined \n",
              "<mark class=\"entity\" style=\"background: #7aecec; padding: 0.45em 0.6em; margin: 0 0.25em; line-height: 1; border-radius: 0.35em;\">\n",
              "    Google\n",
              "    <span style=\"font-size: 0.8em; font-weight: bold; line-height: 1; border-radius: 0.35em; vertical-align: middle; margin-left: 0.5rem\">ORG</span>\n",
              "</mark>\n",
              " a record \n",
              "<mark class=\"entity\" style=\"background: #e4e7d2; padding: 0.45em 0.6em; margin: 0 0.25em; line-height: 1; border-radius: 0.35em;\">\n",
              "    $5.1 billion\n",
              "    <span style=\"font-size: 0.8em; font-weight: bold; line-height: 1; border-radius: 0.35em; vertical-align: middle; margin-left: 0.5rem\">MONEY</span>\n",
              "</mark>\n",
              " on \n",
              "<mark class=\"entity\" style=\"background: #bfe1d9; padding: 0.45em 0.6em; margin: 0 0.25em; line-height: 1; border-radius: 0.35em;\">\n",
              "    Wednesday\n",
              "    <span style=\"font-size: 0.8em; font-weight: bold; line-height: 1; border-radius: 0.35em; vertical-align: middle; margin-left: 0.5rem\">DATE</span>\n",
              "</mark>\n",
              " for abusing its power in the mobile phone market and ordered the company to alter its practices</div></span>"
            ],
            "text/plain": [
              "<IPython.core.display.HTML object>"
            ]
          },
          "metadata": {},
          "output_type": "display_data"
        }
      ],
      "source": [
        "displacy.render(doc, style=\"ent\", jupyter=True)"
      ]
    },
    {
      "cell_type": "markdown",
      "id": "6b7a7b9f",
      "metadata": {
        "id": "6b7a7b9f"
      },
      "source": [
        "#### Task 5.\n",
        "\n",
        "Fill the gaps. There are some predefined labels: person(per), nationalities, religious or political groups(norp), facility(fac), organization(org), location(loc), etc. Let's try to use NER to extract as much labels as possible.\n"
      ]
    },
    {
      "cell_type": "code",
      "execution_count": null,
      "id": "8d196cc9",
      "metadata": {
        "id": "8d196cc9",
        "outputId": "60521e7e-d7c5-4063-e76a-27bd680cb698"
      },
      "outputs": [
        {
          "name": "stdout",
          "output_type": "stream",
          "text": [
            "[('Yesterday', 'DATE'), ('Barack Obama', 'PERSON'), ('the Democratic Party', 'ORG'), ('the Eiffel Tower', 'FAC'), ('Paris', 'GPE'), ('France', 'GPE'), ('Angela Merkel', 'PERSON'), ('Germany', 'GPE'), ('$10 billion', 'MONEY'), ('2030', 'DATE'), ('the New York Times', 'ORG'), ('BBC', 'ORG'), ('French', 'NORP'), ('Montmartre', 'GPE'), ('Parisian', 'NORP')]\n"
          ]
        }
      ],
      "source": [
        "import spacy\n",
        "import en_core_web_sm\n",
        "\n",
        "sentence = 'Yesterday, President Barack Obama, leader of the Democratic Party, visited the Eiffel Tower in Paris, \\\n",
        "France.  While there, he spoke about the importance of international cooperation on climate change and announced a \\\n",
        "new initiative with Chancellor Angela Merkel of Germany to invest $10 billion in renewable energy research by 2030. \\\n",
        "Reporters from all over the world were present, including journalists from the New York Times and BBC. The President \\\n",
        "then enjoyed a traditional French dinner at a quaint restaurant in Montmartre, a famous Parisian neighborhood known for \\\n",
        "its art scene.'\n",
        "\n",
        "pipeline = ...\n",
        "doc = ...\n",
        "print([(X.text, X.label_) for X in doc.ents])\n"
      ]
    },
    {
      "cell_type": "code",
      "execution_count": null,
      "id": "77e1e9a4",
      "metadata": {
        "id": "77e1e9a4",
        "outputId": "79f709ee-3786-434a-b466-d470366b3373"
      },
      "outputs": [
        {
          "data": {
            "text/plain": [
              "15"
            ]
          },
          "execution_count": 20,
          "metadata": {},
          "output_type": "execute_result"
        }
      ],
      "source": [
        "assert len(doc.ents) == 15"
      ]
    },
    {
      "cell_type": "markdown",
      "id": "347903f3-cde2-40ba-9ca0-e62fdc4858a6",
      "metadata": {
        "id": "347903f3-cde2-40ba-9ca0-e62fdc4858a6"
      },
      "source": [
        "## Task\n",
        "\n",
        "[Competition](https://www.kaggle.com/t/9e6b9b00b0094375a888823b8ecf78d7)\n",
        "\n",
        "Your goal is to perform NER on recipe ingridients. For more details go to the competition\n"
      ]
    },
    {
      "cell_type": "markdown",
      "id": "c7ad77f5",
      "metadata": {
        "id": "c7ad77f5"
      },
      "source": [
        "# Conclusion"
      ]
    },
    {
      "cell_type": "markdown",
      "id": "999891e8",
      "metadata": {
        "id": "999891e8"
      },
      "source": [
        "Text analysis is a crucial aspect of Natural Language Processing (NLP), and various techniques exist to extract meaning from written language. This exploration has examined several key approaches: Part-of-Speech (POS) tagging, Named Entity Recognition (NER), shallow parsing (including constituency parsing), and dependency parsing.\n",
        "\n",
        "- POS tagging lays the foundation by identifying the grammatical function of each word (e.g., noun, verb, adjective). NER goes a step further by recognizing and classifying named entities within the text, providing valuable insights into people, locations, organizations, and other relevant entities.\n",
        "\n",
        "- Shallow parsing techniques, like constituency parsing, delve deeper into sentence structure by identifying phrases and clauses. This helps understand how words group together to form larger syntactic units. Dependency parsing, on the other hand, focuses on the direct relationships between individual words in a sentence, providing a more granular view of the grammatical structure.\n",
        "\n",
        "- Choosing the appropriate technique depends on the specific NLP task. POS tagging and NER are foundational for many tasks, while shallow parsing and dependency parsing offer deeper syntactic analysis for tasks like machine translation, question answering, and sentiment analysis.\n",
        "\n",
        "By understanding these techniques and their applications, we can unlock the power of text analysis and leverage its capabilities in various NLP applications."
      ]
    }
  ],
  "metadata": {
    "kernelspec": {
      "display_name": "Python 3 (ipykernel)",
      "language": "python",
      "name": "python3"
    },
    "language_info": {
      "codemirror_mode": {
        "name": "ipython",
        "version": 3
      },
      "file_extension": ".py",
      "mimetype": "text/x-python",
      "name": "python",
      "nbconvert_exporter": "python",
      "pygments_lexer": "ipython3",
      "version": "3.11.8"
    },
    "colab": {
      "provenance": []
    }
  },
  "nbformat": 4,
  "nbformat_minor": 5
}