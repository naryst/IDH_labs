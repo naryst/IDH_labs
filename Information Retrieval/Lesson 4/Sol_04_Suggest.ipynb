{
  "cells": [
    {
      "cell_type": "markdown",
      "metadata": {
        "id": "_fPwNAcJG0LT",
        "tags": []
      },
      "source": [
        "# Sugges_\n",
        "\n",
        "One of the strategies to improve user experience is to provide user with hints, or, otherwise, to autocomplete his queries. Let's consider 'suggest'.\n",
        "\n",
        "Today we will practice generating suggestions using [Trie](https://en.wikipedia.org/wiki/Trie) data structure (prefix tree), see the example below.\n",
        "\n",
        "The **Trie** data structure is a tree-like data structure used for storing a dynamic set of strings. It is commonly used for efficient retrieval and storage of keys in a large dataset. The structure supports operations such as insertion, search, and deletion of keys, making it a valuable tool in fields like computer science and information retrieval.\n",
        "\n",
        "A Trie consists of nodes connected by edges. Each node represents a character or a part of a string. The root node, the starting point of the Trie, represents an empty string. Each edge emanating from a node signifies a specific character. The path from the root to a node represents the prefix of a string stored in the Trie.\n",
        "\n",
        "![image](https://www.ritambhara.in/wp-content/uploads/2017/05/Screen-Shot-2017-05-01-at-4.01.38-PM.png)"
      ]
    },
    {
      "cell_type": "markdown",
      "metadata": {
        "id": "6fPvqOCUG0LU"
      },
      "source": [
        "Plan of this lesson:\n",
        "\n",
        "1. Build Trie based on real search query data, provided by AOL company;\n",
        "2. Generate suggestion based on a trie;\n",
        "3. Measure suggestion speed;"
      ]
    },
    {
      "cell_type": "markdown",
      "metadata": {
        "id": "538t_AMDG0LU"
      },
      "source": [
        "## 0. Install Trie data structure support\n",
        "\n",
        "You are free to use any library implementation of Trie, as well as the one we suggest (read the docs before asking any questions!): https://github.com/google/pygtrie"
      ]
    },
    {
      "cell_type": "code",
      "execution_count": 13,
      "metadata": {
        "colab": {
          "base_uri": "https://localhost:8080/"
        },
        "id": "Ej28MmBoG0LU",
        "outputId": "1d548c16-2de4-4374-ff51-ecca79ee73c2"
      },
      "outputs": [
        {
          "name": "stdout",
          "output_type": "stream",
          "text": [
            "Requirement already satisfied: pygtrie in /usr/local/lib/python3.10/dist-packages (2.5.0)\n"
          ]
        }
      ],
      "source": [
        "!pip install pygtrie"
      ]
    },
    {
      "cell_type": "markdown",
      "metadata": {
        "id": "E3yCLq1iG0LU"
      },
      "source": [
        "## 1. Build a trie upon a dataset\n",
        "\n",
        "### 1.1. Read the dataset\n",
        "\n",
        "Download the [dataset](https://github.com/IUCVLab/information-retrieval/tree/main/datasets/aol) (we provide only the first part of the original data for simplicity (~3.5 mln queries)).\n",
        "\n",
        "Explore the data, see readme file. Load the dataset. Pass the assert."
      ]
    },
    {
      "cell_type": "code",
      "execution_count": 91,
      "metadata": {
        "id": "W6Kp8XgnG0LU"
      },
      "outputs": [],
      "source": [
        "import pandas as pd\n",
        "\n",
        "aol_data = None\n",
        "\n",
        "#TODO: Read the dataset, e.g. as pandas dataframe\n",
        "aol_data = pd.read_csv('./user-ct-test-collection-01.txt', delimiter='\\t')\n",
        "aol_data.dropna(subset=[\"Query\"], inplace=True)"
      ]
    },
    {
      "cell_type": "code",
      "execution_count": 92,
      "metadata": {
        "colab": {
          "base_uri": "https://localhost:8080/",
          "height": 206
        },
        "id": "U5_nQCqoQBUi",
        "outputId": "9be24783-1aaf-43be-a83b-be8585ddf933"
      },
      "outputs": [
        {
          "data": {
            "application/vnd.google.colaboratory.intrinsic+json": {
              "type": "dataframe",
              "variable_name": "aol_data"
            },
            "text/html": [
              "\n",
              "  <div id=\"df-8cdd69de-75d9-41e2-8b55-37597044f596\" class=\"colab-df-container\">\n",
              "    <div>\n",
              "<style scoped>\n",
              "    .dataframe tbody tr th:only-of-type {\n",
              "        vertical-align: middle;\n",
              "    }\n",
              "\n",
              "    .dataframe tbody tr th {\n",
              "        vertical-align: top;\n",
              "    }\n",
              "\n",
              "    .dataframe thead th {\n",
              "        text-align: right;\n",
              "    }\n",
              "</style>\n",
              "<table border=\"1\" class=\"dataframe\">\n",
              "  <thead>\n",
              "    <tr style=\"text-align: right;\">\n",
              "      <th></th>\n",
              "      <th>AnonID</th>\n",
              "      <th>Query</th>\n",
              "      <th>QueryTime</th>\n",
              "      <th>ItemRank</th>\n",
              "      <th>ClickURL</th>\n",
              "    </tr>\n",
              "  </thead>\n",
              "  <tbody>\n",
              "    <tr>\n",
              "      <th>0</th>\n",
              "      <td>142</td>\n",
              "      <td>rentdirect.com</td>\n",
              "      <td>2006-03-01 07:17:12</td>\n",
              "      <td>NaN</td>\n",
              "      <td>NaN</td>\n",
              "    </tr>\n",
              "    <tr>\n",
              "      <th>1</th>\n",
              "      <td>142</td>\n",
              "      <td>www.prescriptionfortime.com</td>\n",
              "      <td>2006-03-12 12:31:06</td>\n",
              "      <td>NaN</td>\n",
              "      <td>NaN</td>\n",
              "    </tr>\n",
              "    <tr>\n",
              "      <th>2</th>\n",
              "      <td>142</td>\n",
              "      <td>staple.com</td>\n",
              "      <td>2006-03-17 21:19:29</td>\n",
              "      <td>NaN</td>\n",
              "      <td>NaN</td>\n",
              "    </tr>\n",
              "    <tr>\n",
              "      <th>3</th>\n",
              "      <td>142</td>\n",
              "      <td>staple.com</td>\n",
              "      <td>2006-03-17 21:19:45</td>\n",
              "      <td>NaN</td>\n",
              "      <td>NaN</td>\n",
              "    </tr>\n",
              "    <tr>\n",
              "      <th>4</th>\n",
              "      <td>142</td>\n",
              "      <td>www.newyorklawyersite.com</td>\n",
              "      <td>2006-03-18 08:02:58</td>\n",
              "      <td>NaN</td>\n",
              "      <td>NaN</td>\n",
              "    </tr>\n",
              "  </tbody>\n",
              "</table>\n",
              "</div>\n",
              "    <div class=\"colab-df-buttons\">\n",
              "\n",
              "  <div class=\"colab-df-container\">\n",
              "    <button class=\"colab-df-convert\" onclick=\"convertToInteractive('df-8cdd69de-75d9-41e2-8b55-37597044f596')\"\n",
              "            title=\"Convert this dataframe to an interactive table.\"\n",
              "            style=\"display:none;\">\n",
              "\n",
              "  <svg xmlns=\"http://www.w3.org/2000/svg\" height=\"24px\" viewBox=\"0 -960 960 960\">\n",
              "    <path d=\"M120-120v-720h720v720H120Zm60-500h600v-160H180v160Zm220 220h160v-160H400v160Zm0 220h160v-160H400v160ZM180-400h160v-160H180v160Zm440 0h160v-160H620v160ZM180-180h160v-160H180v160Zm440 0h160v-160H620v160Z\"/>\n",
              "  </svg>\n",
              "    </button>\n",
              "\n",
              "  <style>\n",
              "    .colab-df-container {\n",
              "      display:flex;\n",
              "      gap: 12px;\n",
              "    }\n",
              "\n",
              "    .colab-df-convert {\n",
              "      background-color: #E8F0FE;\n",
              "      border: none;\n",
              "      border-radius: 50%;\n",
              "      cursor: pointer;\n",
              "      display: none;\n",
              "      fill: #1967D2;\n",
              "      height: 32px;\n",
              "      padding: 0 0 0 0;\n",
              "      width: 32px;\n",
              "    }\n",
              "\n",
              "    .colab-df-convert:hover {\n",
              "      background-color: #E2EBFA;\n",
              "      box-shadow: 0px 1px 2px rgba(60, 64, 67, 0.3), 0px 1px 3px 1px rgba(60, 64, 67, 0.15);\n",
              "      fill: #174EA6;\n",
              "    }\n",
              "\n",
              "    .colab-df-buttons div {\n",
              "      margin-bottom: 4px;\n",
              "    }\n",
              "\n",
              "    [theme=dark] .colab-df-convert {\n",
              "      background-color: #3B4455;\n",
              "      fill: #D2E3FC;\n",
              "    }\n",
              "\n",
              "    [theme=dark] .colab-df-convert:hover {\n",
              "      background-color: #434B5C;\n",
              "      box-shadow: 0px 1px 3px 1px rgba(0, 0, 0, 0.15);\n",
              "      filter: drop-shadow(0px 1px 2px rgba(0, 0, 0, 0.3));\n",
              "      fill: #FFFFFF;\n",
              "    }\n",
              "  </style>\n",
              "\n",
              "    <script>\n",
              "      const buttonEl =\n",
              "        document.querySelector('#df-8cdd69de-75d9-41e2-8b55-37597044f596 button.colab-df-convert');\n",
              "      buttonEl.style.display =\n",
              "        google.colab.kernel.accessAllowed ? 'block' : 'none';\n",
              "\n",
              "      async function convertToInteractive(key) {\n",
              "        const element = document.querySelector('#df-8cdd69de-75d9-41e2-8b55-37597044f596');\n",
              "        const dataTable =\n",
              "          await google.colab.kernel.invokeFunction('convertToInteractive',\n",
              "                                                    [key], {});\n",
              "        if (!dataTable) return;\n",
              "\n",
              "        const docLinkHtml = 'Like what you see? Visit the ' +\n",
              "          '<a target=\"_blank\" href=https://colab.research.google.com/notebooks/data_table.ipynb>data table notebook</a>'\n",
              "          + ' to learn more about interactive tables.';\n",
              "        element.innerHTML = '';\n",
              "        dataTable['output_type'] = 'display_data';\n",
              "        await google.colab.output.renderOutput(dataTable, element);\n",
              "        const docLink = document.createElement('div');\n",
              "        docLink.innerHTML = docLinkHtml;\n",
              "        element.appendChild(docLink);\n",
              "      }\n",
              "    </script>\n",
              "  </div>\n",
              "\n",
              "\n",
              "<div id=\"df-4a4a1595-da42-4d3f-8893-523799e02837\">\n",
              "  <button class=\"colab-df-quickchart\" onclick=\"quickchart('df-4a4a1595-da42-4d3f-8893-523799e02837')\"\n",
              "            title=\"Suggest charts\"\n",
              "            style=\"display:none;\">\n",
              "\n",
              "<svg xmlns=\"http://www.w3.org/2000/svg\" height=\"24px\"viewBox=\"0 0 24 24\"\n",
              "     width=\"24px\">\n",
              "    <g>\n",
              "        <path d=\"M19 3H5c-1.1 0-2 .9-2 2v14c0 1.1.9 2 2 2h14c1.1 0 2-.9 2-2V5c0-1.1-.9-2-2-2zM9 17H7v-7h2v7zm4 0h-2V7h2v10zm4 0h-2v-4h2v4z\"/>\n",
              "    </g>\n",
              "</svg>\n",
              "  </button>\n",
              "\n",
              "<style>\n",
              "  .colab-df-quickchart {\n",
              "      --bg-color: #E8F0FE;\n",
              "      --fill-color: #1967D2;\n",
              "      --hover-bg-color: #E2EBFA;\n",
              "      --hover-fill-color: #174EA6;\n",
              "      --disabled-fill-color: #AAA;\n",
              "      --disabled-bg-color: #DDD;\n",
              "  }\n",
              "\n",
              "  [theme=dark] .colab-df-quickchart {\n",
              "      --bg-color: #3B4455;\n",
              "      --fill-color: #D2E3FC;\n",
              "      --hover-bg-color: #434B5C;\n",
              "      --hover-fill-color: #FFFFFF;\n",
              "      --disabled-bg-color: #3B4455;\n",
              "      --disabled-fill-color: #666;\n",
              "  }\n",
              "\n",
              "  .colab-df-quickchart {\n",
              "    background-color: var(--bg-color);\n",
              "    border: none;\n",
              "    border-radius: 50%;\n",
              "    cursor: pointer;\n",
              "    display: none;\n",
              "    fill: var(--fill-color);\n",
              "    height: 32px;\n",
              "    padding: 0;\n",
              "    width: 32px;\n",
              "  }\n",
              "\n",
              "  .colab-df-quickchart:hover {\n",
              "    background-color: var(--hover-bg-color);\n",
              "    box-shadow: 0 1px 2px rgba(60, 64, 67, 0.3), 0 1px 3px 1px rgba(60, 64, 67, 0.15);\n",
              "    fill: var(--button-hover-fill-color);\n",
              "  }\n",
              "\n",
              "  .colab-df-quickchart-complete:disabled,\n",
              "  .colab-df-quickchart-complete:disabled:hover {\n",
              "    background-color: var(--disabled-bg-color);\n",
              "    fill: var(--disabled-fill-color);\n",
              "    box-shadow: none;\n",
              "  }\n",
              "\n",
              "  .colab-df-spinner {\n",
              "    border: 2px solid var(--fill-color);\n",
              "    border-color: transparent;\n",
              "    border-bottom-color: var(--fill-color);\n",
              "    animation:\n",
              "      spin 1s steps(1) infinite;\n",
              "  }\n",
              "\n",
              "  @keyframes spin {\n",
              "    0% {\n",
              "      border-color: transparent;\n",
              "      border-bottom-color: var(--fill-color);\n",
              "      border-left-color: var(--fill-color);\n",
              "    }\n",
              "    20% {\n",
              "      border-color: transparent;\n",
              "      border-left-color: var(--fill-color);\n",
              "      border-top-color: var(--fill-color);\n",
              "    }\n",
              "    30% {\n",
              "      border-color: transparent;\n",
              "      border-left-color: var(--fill-color);\n",
              "      border-top-color: var(--fill-color);\n",
              "      border-right-color: var(--fill-color);\n",
              "    }\n",
              "    40% {\n",
              "      border-color: transparent;\n",
              "      border-right-color: var(--fill-color);\n",
              "      border-top-color: var(--fill-color);\n",
              "    }\n",
              "    60% {\n",
              "      border-color: transparent;\n",
              "      border-right-color: var(--fill-color);\n",
              "    }\n",
              "    80% {\n",
              "      border-color: transparent;\n",
              "      border-right-color: var(--fill-color);\n",
              "      border-bottom-color: var(--fill-color);\n",
              "    }\n",
              "    90% {\n",
              "      border-color: transparent;\n",
              "      border-bottom-color: var(--fill-color);\n",
              "    }\n",
              "  }\n",
              "</style>\n",
              "\n",
              "  <script>\n",
              "    async function quickchart(key) {\n",
              "      const quickchartButtonEl =\n",
              "        document.querySelector('#' + key + ' button');\n",
              "      quickchartButtonEl.disabled = true;  // To prevent multiple clicks.\n",
              "      quickchartButtonEl.classList.add('colab-df-spinner');\n",
              "      try {\n",
              "        const charts = await google.colab.kernel.invokeFunction(\n",
              "            'suggestCharts', [key], {});\n",
              "      } catch (error) {\n",
              "        console.error('Error during call to suggestCharts:', error);\n",
              "      }\n",
              "      quickchartButtonEl.classList.remove('colab-df-spinner');\n",
              "      quickchartButtonEl.classList.add('colab-df-quickchart-complete');\n",
              "    }\n",
              "    (() => {\n",
              "      let quickchartButtonEl =\n",
              "        document.querySelector('#df-4a4a1595-da42-4d3f-8893-523799e02837 button');\n",
              "      quickchartButtonEl.style.display =\n",
              "        google.colab.kernel.accessAllowed ? 'block' : 'none';\n",
              "    })();\n",
              "  </script>\n",
              "</div>\n",
              "\n",
              "    </div>\n",
              "  </div>\n"
            ],
            "text/plain": [
              "   AnonID                        Query            QueryTime  ItemRank ClickURL\n",
              "0     142               rentdirect.com  2006-03-01 07:17:12       NaN      NaN\n",
              "1     142  www.prescriptionfortime.com  2006-03-12 12:31:06       NaN      NaN\n",
              "2     142                   staple.com  2006-03-17 21:19:29       NaN      NaN\n",
              "3     142                   staple.com  2006-03-17 21:19:45       NaN      NaN\n",
              "4     142    www.newyorklawyersite.com  2006-03-18 08:02:58       NaN      NaN"
            ]
          },
          "execution_count": 92,
          "metadata": {},
          "output_type": "execute_result"
        }
      ],
      "source": [
        "aol_data.head()"
      ]
    },
    {
      "cell_type": "markdown",
      "metadata": {
        "id": "j2DzfrdwG0LU"
      },
      "source": [
        "### 1.1.1. Tests"
      ]
    },
    {
      "cell_type": "code",
      "execution_count": 96,
      "metadata": {
        "id": "P5VyzLORG0LV"
      },
      "outputs": [],
      "source": [
        "assert aol_data.shape[0] == 3558238, \"Dataset size does not match\""
      ]
    },
    {
      "cell_type": "markdown",
      "metadata": {
        "id": "QnQ9sKrWG0LV"
      },
      "source": [
        "### 1.2. Build a Trie\n",
        "\n",
        "We want a suggest function to be **non-sensitive to stop words** because we don't want to upset the users if they confuses/omits prepositions. Consider *\"public events in Innopolis\"* vs *\"public events at Innopolis\"* or *\"public events Innopolis\"* - they all mean the same.\n",
        "\n",
        "Build a Trie based on the dataset, **storing query statistics such as query _frequency_, urls and ranks in the nodes**. Some queries may have no associated urls, others may have multiple ranked urls. Think of the way to store this information.\n",
        "\n",
        "Pass the asserts."
      ]
    },
    {
      "cell_type": "code",
      "execution_count": 99,
      "metadata": {
        "id": "rSrQ3CxqG0LV"
      },
      "outputs": [],
      "source": [
        "stops = set('a on at of to is from for and with using the in &'.split())"
      ]
    },
    {
      "cell_type": "code",
      "execution_count": 107,
      "metadata": {
        "id": "3SJQ3vQOpPDl"
      },
      "outputs": [],
      "source": [
        "class Node():\n",
        "    def __init__(self, query, url, rank):\n",
        "        self.frequency = 1\n",
        "        self.init = query\n",
        "        self.filtered = None\n",
        "        self.urls = []\n",
        "        self.ranks = []\n",
        "        self.update(url, rank)\n",
        "\n",
        "    def update(self, url, rank):\n",
        "        self.frequency += 1\n",
        "        if url:\n",
        "            self.urls.append(url)\n",
        "            self.ranks.append(rank)\n",
        "\n",
        "def filterStopWords(query, stops):\n",
        "    query = query.lower()\n",
        "    filtered = ''\n",
        "    for word in query.split(' '):\n",
        "        if word not in stops:\n",
        "            filtered += word + ' '\n",
        "    filtered = filtered.rstrip()\n",
        "    return filtered"
      ]
    },
    {
      "cell_type": "code",
      "execution_count": 102,
      "metadata": {
        "colab": {
          "base_uri": "https://localhost:8080/"
        },
        "id": "PP7tjNP7G0LV",
        "outputId": "532edc03-4d31-4345-fa6d-3fc2b80e8916"
      },
      "outputs": [
        {
          "name": "stderr",
          "output_type": "stream",
          "text": [
            "100%|██████████| 3558238/3558238 [06:38<00:00, 8918.16it/s] \n"
          ]
        }
      ],
      "source": [
        "import pygtrie\n",
        "import pandas as pd\n",
        "from tqdm import tqdm\n",
        "import numpy as np\n",
        "\n",
        "aol_trie = pygtrie.CharTrie()\n",
        "\n",
        "for i in tqdm(aol_data.index):\n",
        "    # remove stop words and extra spaces in a query\n",
        "    if aol_data['Query'][i]:\n",
        "        filtered = filterStopWords(aol_data['Query'][i], stops)\n",
        "        node = aol_trie.get(filtered, {})\n",
        "        if node:\n",
        "            node.update(aol_data['ClickURL'][i], aol_data['ItemRank'][i])\n",
        "        else:\n",
        "            node = Node(aol_data['Query'][i], aol_data['ClickURL'][i], aol_data['ItemRank'][i])\n",
        "        aol_trie[filtered] = node\n",
        "        node.filtered = filtered"
      ]
    },
    {
      "cell_type": "markdown",
      "metadata": {
        "id": "PQ8ilPc3G0LV"
      },
      "source": [
        "### 1.2.1. Tests"
      ]
    },
    {
      "cell_type": "code",
      "execution_count": 104,
      "metadata": {
        "colab": {
          "base_uri": "https://localhost:8080/"
        },
        "id": "5S-8p7jyG0LV",
        "outputId": "a64305c9-f35f-4281-9043-4a72698d1bf6"
      },
      "outputs": [
        {
          "name": "stdout",
          "output_type": "stream",
          "text": [
            "sample question surveys ~ <__main__.Node object at 0x7c1b58dd7e50>\n",
            "sample questions immigration interview ~ <__main__.Node object at 0x7c1ba7836cb0>\n",
            "sample questions interview ~ <__main__.Node object at 0x7c1ba78376a0>\n",
            "sample questions family interview ~ <__main__.Node object at 0x7c1ba7837f40>\n",
            "sample questions sociology race ethnicity ~ <__main__.Node object at 0x7c1ba77c1d20>\n",
            "sample questions biology ~ <__main__.Node object at 0x7c1b964d4d60>\n",
            "sample questions us citizenship test ~ <__main__.Node object at 0x7c1b94a2fa00>\n",
            "sample questionarie teaching evaluation ~ <__main__.Node object at 0x7c1b7b518a60>\n",
            "sample questionnaire teaching evaluation ~ <__main__.Node object at 0x7c1b7b518ac0>\n",
            "sample questionnaire clinical research coordinators certification ~ <__main__.Node object at 0x7c1b93ed7dc0>\n"
          ]
        }
      ],
      "source": [
        "# test trie\n",
        "bag = []\n",
        "for key, val in aol_trie.iteritems(\"sample q\"):\n",
        "    print(key, '~', val)\n",
        "\n",
        "    #NB: here we assume you store urls in a property of list type. But you can do something different.\n",
        "    bag += val.urls\n",
        "\n",
        "    assert \"sample question\" in key, \"All examples have `sample question` substring\"\n",
        "    assert key[:len(\"sample question\")] == \"sample question\", \"All examples have `sample question` starting string\"\n",
        "\n",
        "for url in [\"http://www.surveyconnect.com\", \"http://www.custominsight.com\",\n",
        "            \"http://jobsearchtech.about.com\", \"http://www.troy.k12.ny.us\",\n",
        "            \"http://www.flinders.edu.au\", \"http://uscis.gov\"]:\n",
        "    assert url in bag, \"This url should be in a try\""
      ]
    },
    {
      "cell_type": "markdown",
      "metadata": {
        "id": "SqVWOEq8G0LV"
      },
      "source": [
        "## 2. Non-sensitive to stop words"
      ]
    },
    {
      "cell_type": "markdown",
      "metadata": {
        "id": "m1x02TIeG0LV"
      },
      "source": [
        "### 2.1. Write a suggest function which is non-sensitive to stop\n",
        "\n",
        "Suggest options for user query based on Trie you just built.\n",
        "Output results sorted by frequency, print query count for each suggestion. If there is an url available, print the url too. If multiple url-s are available, print the one with the highest rank (the less the better).\n",
        "\n",
        "Pass the asserts.\n",
        "Question for analysis: What is the empirical threshold for minimal prefix for suggest?"
      ]
    },
    {
      "cell_type": "code",
      "execution_count": 105,
      "metadata": {
        "id": "W4yMp_QlG0LV"
      },
      "outputs": [],
      "source": [
        "def complete_user_query(query: str, trie, top_k=5) -> list[str]:\n",
        "    query = filterStopWords(query, stops)\n",
        "    results = []\n",
        "\n",
        "    try:\n",
        "        for key, val in aol_trie.iteritems(query):\n",
        "            results.append(val)\n",
        "    except KeyError:\n",
        "        # If prefix not found, continue with a longer prefix\n",
        "        pass\n",
        "\n",
        "    results = sorted(results, key=lambda x: x.frequency, reverse=True)[:top_k]\n",
        "    to_return = [res.init for res in results]\n",
        "    return to_return"
      ]
    },
    {
      "cell_type": "code",
      "execution_count": 108,
      "metadata": {
        "colab": {
          "base_uri": "https://localhost:8080/"
        },
        "id": "LT_eWkjkG0LV",
        "outputId": "653b6c8c-e249-41a1-e680-765e5328a517"
      },
      "outputs": [
        {
          "name": "stdout",
          "output_type": "stream",
          "text": [
            "Query: trie\n",
            "Results:\n",
            "['tried and true tattoo', 'triest', 'triethanalomine', 'tried and failed', \"tried and truechildren's consignment sale\"]\n"
          ]
        }
      ],
      "source": [
        "inp = \"trie\"\n",
        "print(\"Query:\", inp)\n",
        "print(\"Results:\")\n",
        "res = complete_user_query(inp, aol_trie)\n",
        "print(res)"
      ]
    },
    {
      "cell_type": "markdown",
      "metadata": {
        "id": "wEizFbBDG0LV"
      },
      "source": [
        "### 2.1.1. Tests"
      ]
    },
    {
      "cell_type": "code",
      "execution_count": 109,
      "metadata": {
        "colab": {
          "base_uri": "https://localhost:8080/"
        },
        "id": "XJtbKuASG0LV",
        "outputId": "7b20c737-bae8-45af-f8a8-9b76ad20f3d5"
      },
      "outputs": [
        {
          "name": "stdout",
          "output_type": "stream",
          "text": [
            "['boys and girls club of conyers georgia']\n"
          ]
        }
      ],
      "source": [
        "assert res[0] == \"tried and true tattoo\"\n",
        "assert res[1] == \"triest\" or res[1] == \"triethanalomine\"\n",
        "\n",
        "print(complete_user_query(\"boys a girls club conyers\", aol_trie, 10))\n",
        "\n",
        "assert \"boys and girls club of conyers georgia\" \\\n",
        "            in complete_user_query(\"boys girls club conyers\", aol_trie, 10), \"Should be here\""
      ]
    },
    {
      "cell_type": "markdown",
      "metadata": {
        "id": "sb1oM47iG0LV"
      },
      "source": [
        "## 3. Measure suggest speed ##\n",
        "\n",
        "### 3.1. Full Trie test\n",
        "\n",
        "Check how fast your search is working. Consider changing your code if it takes too long on average.\n",
        "\n",
        "Sucess criterion:\n",
        "- there is an average and a standard deviation for **multiple runs** of the given bucket.\n",
        "- there is an average and a standard deviation for **multiple runs** of naive search in the unindexed dataset."
      ]
    },
    {
      "cell_type": "code",
      "execution_count": 121,
      "metadata": {
        "id": "OkWIrRosu_Fw"
      },
      "outputs": [],
      "source": [
        "def naive_search(query, data, top_k=5):\n",
        "    filtered_data = data[data[\"Query\"].str.startswith(query)]\n",
        "    return filtered_data[\"Query\"].value_counts().index.tolist()[:top_k]"
      ]
    },
    {
      "cell_type": "code",
      "execution_count": null,
      "metadata": {
        "colab": {
          "base_uri": "https://localhost:8080/",
          "height": 443
        },
        "id": "_SS_VpUaG0LV",
        "outputId": "236fbcab-bf3e-4687-9aeb-b535f800e38f"
      },
      "outputs": [],
      "source": [
        "import time\n",
        "import numpy as np\n",
        "\n",
        "inp_queries = [\"inf\", \"the best \", \"information retrieval\", \"sherlock hol\", \"carnegie mell\",\n",
        "               \"babies r\", \"new york\", \"googol\", \"inter\", \"USA sta\", \"Barbara \"]\n",
        "\n",
        "print(\"Indexed search: \")\n",
        "def indexed_run():\n",
        "  for query in inp_queries:\n",
        "    complete_user_query(query, aol_trie)\n",
        "\n",
        "%timeit indexed_run()\n",
        "\n",
        "print(\"Unindexed search: \")\n",
        "def unindexed_run():\n",
        "  for query in inp_queries:\n",
        "    naive_search(query, aol_data)\n",
        "\n",
        "%timeit unindexed_run()"
      ]
    },
    {
      "cell_type": "markdown",
      "metadata": {
        "id": "05kCRP4DG0LV"
      },
      "source": [
        "## 4. Spellchecking"
      ]
    },
    {
      "cell_type": "markdown",
      "metadata": {
        "id": "y-31YtfVG0LV"
      },
      "source": [
        "### 4.1. Add spellchecking to your suggest\n",
        "\n",
        "Try to make your search results as close as possible. Compare top-5 results of each query with top-5 results for corrected.\n",
        "\n",
        "You can use use [pyspellchecker](https://pypi.org/project/pyspellchecker/) `candidates()` call, or use any other spellchecker implementation."
      ]
    },
    {
      "cell_type": "code",
      "execution_count": 112,
      "metadata": {
        "colab": {
          "base_uri": "https://localhost:8080/"
        },
        "id": "GRsyNgwMuO02",
        "outputId": "54863324-96c2-4d25-f438-00206390eb13"
      },
      "outputs": [
        {
          "name": "stdout",
          "output_type": "stream",
          "text": [
            "Collecting pyspellchecker\n",
            "  Downloading pyspellchecker-0.8.1-py3-none-any.whl.metadata (9.4 kB)\n",
            "Downloading pyspellchecker-0.8.1-py3-none-any.whl (6.8 MB)\n",
            "\u001b[?25l   \u001b[90m━━━━━━━━━━━━━━━━━━━━━━━━━━━━━━━━━━━━━━━━\u001b[0m \u001b[32m0.0/6.8 MB\u001b[0m \u001b[31m?\u001b[0m eta \u001b[36m-:--:--\u001b[0m\r\u001b[2K   \u001b[91m━━━━━━━━━━━━━━━━━━━━━━━━━━━━\u001b[0m\u001b[91m╸\u001b[0m\u001b[90m━━━━━━━━━━━\u001b[0m \u001b[32m4.9/6.8 MB\u001b[0m \u001b[31m147.0 MB/s\u001b[0m eta \u001b[36m0:00:01\u001b[0m\r\u001b[2K   \u001b[91m━━━━━━━━━━━━━━━━━━━━━━━━━━━━━━━━━━━━━━━\u001b[0m\u001b[91m╸\u001b[0m \u001b[32m6.8/6.8 MB\u001b[0m \u001b[31m150.0 MB/s\u001b[0m eta \u001b[36m0:00:01\u001b[0m\r\u001b[2K   \u001b[90m━━━━━━━━━━━━━━━━━━━━━━━━━━━━━━━━━━━━━━━━\u001b[0m \u001b[32m6.8/6.8 MB\u001b[0m \u001b[31m84.1 MB/s\u001b[0m eta \u001b[36m0:00:00\u001b[0m\n",
            "\u001b[?25hInstalling collected packages: pyspellchecker\n",
            "Successfully installed pyspellchecker-0.8.1\n"
          ]
        }
      ],
      "source": [
        "!pip install pyspellchecker"
      ]
    },
    {
      "cell_type": "code",
      "execution_count": 117,
      "metadata": {
        "id": "oggY90hMuhAa"
      },
      "outputs": [],
      "source": [
        "from collections import Counter\n",
        "\n",
        "counter = Counter()\n",
        "\n",
        "for query in aol_data['Query']:\n",
        "    for word in query.split(' '):\n",
        "        counter[word.lower()] += 1\n",
        "\n",
        "from spellchecker import SpellChecker\n",
        "\n",
        "spell = SpellChecker(distance=1)\n",
        "spell.word_frequency._dictionary = counter\n",
        "spell.word_frequency.remove_by_threshold(5)"
      ]
    },
    {
      "cell_type": "code",
      "execution_count": 118,
      "metadata": {
        "id": "qW4LQABzG0LV"
      },
      "outputs": [],
      "source": [
        "from spellchecker import SpellChecker\n",
        "\n",
        "def correct_word(word):\n",
        "    if len(word) > 3:\n",
        "        return spell.correction(word)\n",
        "    return word\n",
        "\n",
        "def complete_user_query_with_spellchecker(query, trie, top_k=5) -> list[str]:\n",
        "    query = query.lower().split(' ')\n",
        "    words = []\n",
        "    for word in query:\n",
        "        words.append(correct_word(word))\n",
        "\n",
        "    print(words)\n",
        "    correct_query = ' '.join(words)\n",
        "    return complete_user_query(correct_query, trie, top_k)"
      ]
    },
    {
      "cell_type": "markdown",
      "metadata": {
        "id": "80L8L30NG0LW"
      },
      "source": [
        "### 4.1.1. Tests"
      ]
    },
    {
      "cell_type": "code",
      "execution_count": 119,
      "metadata": {
        "colab": {
          "base_uri": "https://localhost:8080/"
        },
        "id": "rPvjWl-eG0LW",
        "outputId": "a2268474-5722-457c-ad11-b1be41e00169"
      },
      "outputs": [
        {
          "name": "stdout",
          "output_type": "stream",
          "text": [
            "['information', 'retrieval']\n",
            "['sherlock', 'hol']\n",
            "['carnegie', 'mell']\n",
            "['babies', 'r']\n",
            "['barbara', '']\n"
          ]
        }
      ],
      "source": [
        "inp_queries = [\"inormation retrieval\", \"shelrock hol\", \"carnagie mell\", \"babis r\", \"Barrbara \"]\n",
        "inp_queries_corrected = [\"information retrieval\", \"sherlock hol\", \"carnegie mell\", \"babies r\", \"Barbara \"]\n",
        "\n",
        "for q, qc in zip(inp_queries, inp_queries_corrected):\n",
        "    assert  complete_user_query(qc, aol_trie, 5) == \\\n",
        "            complete_user_query_with_spellchecker(q, aol_trie, 5), \"Assert {} and {} give different results\".format(q, qc)"
      ]
    },
    {
      "cell_type": "markdown",
      "metadata": {
        "id": "3f1-RfuFG0LW"
      },
      "source": [
        "## 5. Assess how dataset size affect search time\n",
        "\n",
        "Study the speed of the trie data structure in $\\frac{1}{10}, \\frac{1}{4}, \\frac{1}{2}$, and full dataset.\n",
        "- Sample the data at random.\n",
        "- Plot the graph which shows how search time changes with dataset size.\n",
        "- Compare aganist bruteforce."
      ]
    },
    {
      "cell_type": "code",
      "execution_count": 122,
      "metadata": {
        "colab": {
          "base_uri": "https://localhost:8080/",
          "height": 518
        },
        "id": "GkA0GtbrG0LW",
        "outputId": "20f6bee0-dc81-4bbf-b0f9-b2c1dbc6795d"
      },
      "outputs": [
        {
          "name": "stderr",
          "output_type": "stream",
          "text": [
            "100%|██████████| 355824/355824 [00:54<00:00, 6493.08it/s]\n",
            "100%|██████████| 889560/889560 [01:42<00:00, 8660.88it/s] \n",
            "100%|██████████| 1779119/1779119 [02:38<00:00, 11228.15it/s]\n",
            "100%|██████████| 3558238/3558238 [04:50<00:00, 12251.27it/s]\n"
          ]
        },
        {
          "data": {
            "image/png": "[encoded data removed]",
            "text/plain": [
              "<Figure size 640x480 with 1 Axes>"
            ]
          },
          "metadata": {},
          "output_type": "display_data"
        }
      ],
      "source": [
        "import matplotlib.pyplot as plt\n",
        "import timeit\n",
        "from tqdm import tqdm\n",
        "\n",
        "\n",
        "def build_trie(part_data, stops):\n",
        "    part_trie = pygtrie.CharTrie()\n",
        "\n",
        "    for i in tqdm(part_data.index):\n",
        "        filtered = filter(part_data['Query'][i], stops)\n",
        "        if filtered:\n",
        "            node = part_trie.get(filtered, {})\n",
        "            if node:\n",
        "                node.update(part_data['ClickURL'][i], part_data['ItemRank'][i])\n",
        "            else:\n",
        "                node = Node(part_data['Query'][i], part_data['ClickURL'][i], part_data['ItemRank'][i])\n",
        "            part_trie[filtered] = node\n",
        "            node.filtered = filtered\n",
        "\n",
        "    return part_trie\n",
        "\n",
        "def measure_time(func, *args):\n",
        "    start_time = timeit.default_timer()\n",
        "    func(*args)\n",
        "    end_time = timeit.default_timer()\n",
        "    return end_time - start_time\n",
        "\n",
        "\n",
        "dataset_sizes = [1 / 10, 1 / 4, 1 / 2, 1]\n",
        "time_indexed = []\n",
        "time_bruteforce = []\n",
        "for size in dataset_sizes:\n",
        "    part_data = aol_data.sample(frac=size)\n",
        "\n",
        "    part_trie = build_trie(part_data, stops)\n",
        "\n",
        "    time_indexed.append(measure_time(complete_user_query, \"information retrieval\", part_trie, 5))\n",
        "    time_bruteforce.append(measure_time(naive_search, \"information retrieval\", part_data, 5))\n",
        "\n",
        "# plotting the results\n",
        "plt.plot(dataset_sizes, time_indexed, label='Indexed Search')\n",
        "plt.plot(dataset_sizes, time_bruteforce, label='Brute-force Search')\n",
        "plt.xlabel('Dataset Sizes')\n",
        "plt.ylabel('Time (s)')\n",
        "plt.legend()\n",
        "plt.show()"
      ]
    },
    {
      "cell_type": "markdown",
      "metadata": {
        "id": "wGXs0GLvG0LW"
      },
      "source": [
        "## 6. What if the query is in the middle?\n",
        "\n",
        "Modify your code to suggest string even if the query is found **in the middle** of the text. Think about techniques you can borrow from our previous classes, e.g. about wildcard search.\n",
        "\n",
        "E.g. `Semantic Parsing` in\n",
        "\n",
        "```\n",
        "3DCNN-DQN-RNN: A Deep Reinforcement Learning Framework for Semantic Parsing of Large-scale 3D Point Clouds\n",
        "                                                           ~~~~~~~~~~~~~~~~\n",
        "```\n",
        "\n",
        "**NB**: Please extend you trie-based approach. Even if using `in` and regexp can give you same result, this is not a scalable approach, which we will not accept.\n",
        "\n",
        "Pass the asserts."
      ]
    },
    {
      "cell_type": "code",
      "execution_count": 124,
      "metadata": {
        "id": "K4gTidvhv4aH"
      },
      "outputs": [],
      "source": [
        "def postfixes(query):\n",
        "    words = filter(query.lower(), stops).split()\n",
        "    return [' '.join(words[i:]) for i in range(len(words))]"
      ]
    },
    {
      "cell_type": "code",
      "execution_count": 125,
      "metadata": {
        "colab": {
          "base_uri": "https://localhost:8080/"
        },
        "id": "IFA8V_otG0LW",
        "outputId": "b3d824aa-9a2c-4857-8a65-ad3fe4786cdd"
      },
      "outputs": [
        {
          "name": "stderr",
          "output_type": "stream",
          "text": [
            "100%|██████████| 3558238/3558238 [15:44<00:00, 3768.31it/s]\n"
          ]
        }
      ],
      "source": [
        "import pygtrie\n",
        "\n",
        "newtrie = None\n",
        "\n",
        "def create_new_tree(aol_data):\n",
        "    aol_trie = pygtrie.CharTrie()\n",
        "    for i in tqdm(aol_data.index):\n",
        "        for postfix in postfixes(aol_data['Query'][i]): # adding postfixes\n",
        "            if postfix:\n",
        "                query = aol_data['Query'][i]\n",
        "                postfix_filtered = filter(postfix, stops)\n",
        "                node = aol_trie.get(postfix_filtered, {})\n",
        "                if query in node:\n",
        "                    node[query].update(aol_data['ClickURL'][i], aol_data['ItemRank'][i])\n",
        "                else:\n",
        "                    node[query] = Node(aol_data['Query'][i], aol_data['ClickURL'][i], aol_data['ItemRank'][i])\n",
        "                aol_trie[postfix_filtered] = node\n",
        "                node[query].filtered = postfix_filtered\n",
        "    return aol_trie\n",
        "\n",
        "newtrie = create_new_tree(aol_data)"
      ]
    },
    {
      "cell_type": "code",
      "execution_count": 131,
      "metadata": {
        "id": "-C0FKKPTwLZt"
      },
      "outputs": [],
      "source": [
        "def complete_user_query_with_spellchecker_and_middle(query, aol_trie, top_k=5, if_print=False) -> list[str]:\n",
        "    query = filterStopWords(query, stops)\n",
        "    results = []\n",
        "    try:\n",
        "        for key, val in aol_trie.iteritems(query):\n",
        "            results.extend(list(val.values()))\n",
        "    except KeyError:\n",
        "\n",
        "        print('no results found')\n",
        "\n",
        "    results = sorted(results, key=lambda x:x.frequency, reverse=True)[:top_k]\n",
        "    toRet = []\n",
        "    for res in results:\n",
        "        toRet.append(res.init)\n",
        "        print(f'Count {res.frequency}: {res.init}')\n",
        "    return toRet"
      ]
    },
    {
      "cell_type": "code",
      "execution_count": 132,
      "metadata": {
        "colab": {
          "base_uri": "https://localhost:8080/"
        },
        "id": "KhpNyHYywNb8",
        "outputId": "2717fbbd-b6b6-4382-8ada-d5825d142b5a"
      },
      "outputs": [
        {
          "name": "stdout",
          "output_type": "stream",
          "text": [
            "Count 29: adult movies\n",
            "Count 13: previews adult movies\n",
            "Count 8: free adult movies\n",
            "Count 6: virgin rape adult movies\n",
            "Count 5: adult movie download\n",
            "Count 4: drilled and filled adult movie\n",
            "Count 4: faraway adult movie\n",
            "Count 4: horny black mothers adult movie\n",
            "Count 4: adult movie stars\n",
            "Count 3: out of the ordinary & adult movie\n",
            "Count 3: muy caliente adult movie\n",
            "Count 3: pink slip adult movie\n",
            "Count 3: adult movie downloads\n",
            "Count 3: adult movie index\n",
            "Count 3: ny city adult movie theaters\n",
            "Count 3: free adult movie trailer\n",
            "Count 3: adult movie trailers\n",
            "Count 2: young and hungry adult movie\n",
            "Count 2: ambition adult movie\n",
            "Count 2: latina love songs adult movie\n"
          ]
        },
        {
          "data": {
            "text/plain": [
              "['adult movies',\n",
              " 'previews adult movies',\n",
              " 'free adult movies',\n",
              " 'virgin rape adult movies',\n",
              " 'adult movie download',\n",
              " 'drilled and filled adult movie',\n",
              " 'faraway adult movie',\n",
              " 'horny black mothers adult movie',\n",
              " 'adult movie stars',\n",
              " 'out of the ordinary & adult movie',\n",
              " 'muy caliente adult movie',\n",
              " 'pink slip adult movie',\n",
              " 'adult movie downloads',\n",
              " 'adult movie index',\n",
              " 'ny city adult movie theaters',\n",
              " 'free adult movie trailer',\n",
              " 'adult movie trailers',\n",
              " 'young and hungry adult movie',\n",
              " 'ambition adult movie',\n",
              " 'latina love songs adult movie']"
            ]
          },
          "execution_count": 132,
          "metadata": {},
          "output_type": "execute_result"
        }
      ],
      "source": [
        "complete_user_query_with_spellchecker_and_middle(\n",
        "            \"adult movie\", newtrie, 20)"
      ]
    },
    {
      "cell_type": "markdown",
      "metadata": {
        "id": "WHxMu40RG0LW"
      },
      "source": [
        "### 6.1.1. Tests"
      ]
    },
    {
      "cell_type": "code",
      "execution_count": 135,
      "metadata": {
        "colab": {
          "base_uri": "https://localhost:8080/"
        },
        "id": "rF3PaoyFG0LW",
        "outputId": "e0e40d98-62ee-4934-db18-da2b76760da2"
      },
      "outputs": [
        {
          "name": "stdout",
          "output_type": "stream",
          "text": [
            "Count 75: ricky martin beach\n",
            "Count 29: adult movies\n",
            "Count 13: previews adult movies\n",
            "Count 8: free adult movies\n",
            "Count 6: virgin rape adult movies\n",
            "Count 5: adult movie download\n",
            "Count 4: drilled and filled adult movie\n",
            "Count 4: faraway adult movie\n",
            "Count 4: horny black mothers adult movie\n",
            "Count 4: adult movie stars\n",
            "Count 3: out of the ordinary & adult movie\n",
            "Count 3: muy caliente adult movie\n",
            "Count 3: pink slip adult movie\n",
            "Count 3: adult movie downloads\n",
            "Count 3: adult movie index\n",
            "Count 3: ny city adult movie theaters\n",
            "Count 3: free adult movie trailer\n",
            "Count 3: adult movie trailers\n",
            "Count 2: young and hungry adult movie\n",
            "Count 2: ambition adult movie\n",
            "Count 2: latina love songs adult movie\n"
          ]
        }
      ],
      "source": [
        "assert \"ricky martin beach\" in complete_user_query_with_spellchecker_and_middle(\n",
        "            \"martin beach\", newtrie, 20)\n",
        "assert \"free adult movies\" in  complete_user_query_with_spellchecker_and_middle(\n",
        "            \"adult movie\", newtrie, 20)"
      ]
    },
    {
      "cell_type": "markdown",
      "metadata": {
        "id": "PgbQO0BXG0LW"
      },
      "source": [
        "## 7. Enrich your suggest with search results\n",
        "\n",
        "Your users will be happy if at typing the query they see not only suggested queries, but also snippets of the answers to these queries!\n",
        "\n",
        "Imagine you type \"continental air\", and the search engine suggests you \"continental airlines\" together with the URL and snippet kind of `\"Continental Airlines was a major American airline founded in 1934 and eventually headquartered in Houston, Texas...\"`, which you borrow from the search engine snippet. How can you add existing search enginge to your code? [One](https://yandex.com/dev/xml/doc/dg/task/quickstart.html), [two](https://docs.microsoft.com/en-us/bing/search-apis/bing-web-search/search-the-web), [three](https://searx.roughs.ru/), [four](https://serpapi.com/) ...\n",
        "\n",
        "Improve your suggest. It should return a tuple of 3 instead of just a string. Your result is now `(query, text, url)`. Write your own tests which for the query `continental air` return among the results:\n",
        "1. `query` = `continental airlines`.\n",
        "2.\n",
        "`Continental Airlines was a major American airline founded in 1934` in `text`.\n",
        "3. `url` = `https://en.wikipedia.org/wiki/Continental_Airlines`."
      ]
    },
    {
      "cell_type": "code",
      "execution_count": 136,
      "metadata": {
        "colab": {
          "base_uri": "https://localhost:8080/"
        },
        "id": "YV2iddqDwCCv",
        "outputId": "2638ea28-baea-48c2-cd7d-18db1659bbde"
      },
      "outputs": [
        {
          "name": "stdout",
          "output_type": "stream",
          "text": [
            "Collecting duckduckgo-search\n",
            "  Downloading duckduckgo_search-6.3.3-py3-none-any.whl.metadata (25 kB)\n",
            "Requirement already satisfied: click>=8.1.7 in /usr/local/lib/python3.10/dist-packages (from duckduckgo-search) (8.1.7)\n",
            "Collecting primp>=0.6.5 (from duckduckgo-search)\n",
            "  Downloading primp-0.6.5-cp38-abi3-manylinux_2_17_x86_64.manylinux2014_x86_64.whl.metadata (10 kB)\n",
            "Downloading duckduckgo_search-6.3.3-py3-none-any.whl (27 kB)\n",
            "Downloading primp-0.6.5-cp38-abi3-manylinux_2_17_x86_64.manylinux2014_x86_64.whl (3.0 MB)\n",
            "\u001b[?25l   \u001b[90m━━━━━━━━━━━━━━━━━━━━━━━━━━━━━━━━━━━━━━━━\u001b[0m \u001b[32m0.0/3.0 MB\u001b[0m \u001b[31m?\u001b[0m eta \u001b[36m-:--:--\u001b[0m\r\u001b[2K   \u001b[91m━━━━━━━━━━━━━━━━━━━━━━━━━━━━━━━━━━━━━━━\u001b[0m\u001b[91m╸\u001b[0m \u001b[32m3.0/3.0 MB\u001b[0m \u001b[31m125.3 MB/s\u001b[0m eta \u001b[36m0:00:01\u001b[0m\r\u001b[2K   \u001b[90m━━━━━━━━━━━━━━━━━━━━━━━━━━━━━━━━━━━━━━━━\u001b[0m \u001b[32m3.0/3.0 MB\u001b[0m \u001b[31m61.1 MB/s\u001b[0m eta \u001b[36m0:00:00\u001b[0m\n",
            "\u001b[?25hInstalling collected packages: primp, duckduckgo-search\n",
            "Successfully installed duckduckgo-search-6.3.3 primp-0.6.5\n"
          ]
        }
      ],
      "source": [
        "!pip install duckduckgo-search"
      ]
    },
    {
      "cell_type": "code",
      "execution_count": 137,
      "metadata": {
        "colab": {
          "base_uri": "https://localhost:8080/"
        },
        "id": "fRgJJK3VG0LW",
        "outputId": "78776146-a444-408f-d36c-e9f8c60a56d5"
      },
      "outputs": [
        {
          "name": "stdout",
          "output_type": "stream",
          "text": [
            "{'icon': None, 'text': 'Information retrieval in computing and information science is the task of identifying and retrieving information system resources that are relevant to an information need. The information need can be specified in the form of a search query. In the case of document retrieval, queries can be based on full-text or other content-based indexing. Information retrieval is the science of searching for information in a document, searching for documents themselves, and also searching for the metadata that describes data, and for databases of texts, images or sounds. Automated information retrieval systems are used to reduce what has been called information overload. An IR system is a software system that provides access to books, journals and other documents; it also stores and manages those documents. Web search engines are the most visible IR applications.', 'topic': None, 'url': 'https://en.wikipedia.org/wiki/Information_retrieval'}\n"
          ]
        }
      ],
      "source": [
        "from duckduckgo_search import DDGS\n",
        "\n",
        "with DDGS() as ddgs:\n",
        "    answer = list(ddgs.answers(\"information retrieval\"))[0]\n",
        "    print(answer)\n",
        "    text = answer[\"text\"]\n",
        "    url = answer[\"url\"]"
      ]
    },
    {
      "cell_type": "code",
      "execution_count": 138,
      "metadata": {
        "id": "3NTAkbBwwUxU"
      },
      "outputs": [],
      "source": [
        "def complete_user_query_with_spellchecker_and_middle_with_snippets(query, trie, top_k=5) -> list[tuple]:\n",
        "    with DDGS() as ddgs:\n",
        "        answer = list(ddgs.answers(query))[0]\n",
        "        print(answer)\n",
        "        text = answer[\"text\"]\n",
        "        url = answer[\"url\"]\n",
        "        return answer, text, UnicodeTranslateError"
      ]
    },
    {
      "cell_type": "code",
      "execution_count": 139,
      "metadata": {
        "colab": {
          "base_uri": "https://localhost:8080/"
        },
        "id": "VnFx9txRwYOv",
        "outputId": "180294ee-5bee-4c9f-f550-6762a4b66f1e"
      },
      "outputs": [
        {
          "name": "stdout",
          "output_type": "stream",
          "text": [
            "{'icon': None, 'text': 'Continental Airlines was a major airline in the United States that operated from 1934 until it merged with United Airlines in 2012. It had ownership interests and brand partnerships with several carriers. Continental started out as one of the smaller carriers in the United States, known for its limited operations under the regulated era that provided very fine, almost fancy, service against the larger majors in important point-to-point markets, the largest of which was Chicago/Los Angeles. However, deregulation in 1978 changed the competitive landscape and realities, as noted by Smithsonian Airline Historian R. E. G. Davies, \"Unfortunately, the policies that had been successful for more than forty years under Six\\'s cavalier style of management were suddenly laid bare as the cold winds of airline deregulation changed all the rules—specifically, the balance between revenues and expenditures.\" In 1981, Texas International Airlines acquired a controlling interest in Continental.', 'topic': None, 'url': 'https://en.wikipedia.org/wiki/Continental_Airlines'}\n"
          ]
        },
        {
          "data": {
            "text/plain": [
              "({'icon': None,\n",
              "  'text': 'Continental Airlines was a major airline in the United States that operated from 1934 until it merged with United Airlines in 2012. It had ownership interests and brand partnerships with several carriers. Continental started out as one of the smaller carriers in the United States, known for its limited operations under the regulated era that provided very fine, almost fancy, service against the larger majors in important point-to-point markets, the largest of which was Chicago/Los Angeles. However, deregulation in 1978 changed the competitive landscape and realities, as noted by Smithsonian Airline Historian R. E. G. Davies, \"Unfortunately, the policies that had been successful for more than forty years under Six\\'s cavalier style of management were suddenly laid bare as the cold winds of airline deregulation changed all the rules—specifically, the balance between revenues and expenditures.\" In 1981, Texas International Airlines acquired a controlling interest in Continental.',\n",
              "  'topic': None,\n",
              "  'url': 'https://en.wikipedia.org/wiki/Continental_Airlines'},\n",
              " 'Continental Airlines was a major airline in the United States that operated from 1934 until it merged with United Airlines in 2012. It had ownership interests and brand partnerships with several carriers. Continental started out as one of the smaller carriers in the United States, known for its limited operations under the regulated era that provided very fine, almost fancy, service against the larger majors in important point-to-point markets, the largest of which was Chicago/Los Angeles. However, deregulation in 1978 changed the competitive landscape and realities, as noted by Smithsonian Airline Historian R. E. G. Davies, \"Unfortunately, the policies that had been successful for more than forty years under Six\\'s cavalier style of management were suddenly laid bare as the cold winds of airline deregulation changed all the rules—specifically, the balance between revenues and expenditures.\" In 1981, Texas International Airlines acquired a controlling interest in Continental.',\n",
              " UnicodeTranslateError)"
            ]
          },
          "execution_count": 139,
          "metadata": {},
          "output_type": "execute_result"
        }
      ],
      "source": [
        "complete_user_query_with_spellchecker_and_middle_with_snippets('continental airlines', aol_trie)"
      ]
    },
    {
      "cell_type": "markdown",
      "metadata": {
        "id": "csAZ_7j2G0LW"
      },
      "source": [
        "### 7.1.1. Tests"
      ]
    },
    {
      "cell_type": "code",
      "execution_count": 153,
      "metadata": {
        "colab": {
          "base_uri": "https://localhost:8080/"
        },
        "id": "l3PMxQF2G0LW",
        "outputId": "ed5f74a7-c62d-4dd3-a05e-86ea41ccf347"
      },
      "outputs": [
        {
          "name": "stdout",
          "output_type": "stream",
          "text": [
            "{'icon': None, 'text': 'Continental Airlines was a major airline in the United States that operated from 1934 until it merged with United Airlines in 2012. It had ownership interests and brand partnerships with several carriers. Continental started out as one of the smaller carriers in the United States, known for its limited operations under the regulated era that provided very fine, almost fancy, service against the larger majors in important point-to-point markets, the largest of which was Chicago/Los Angeles. However, deregulation in 1978 changed the competitive landscape and realities, as noted by Smithsonian Airline Historian R. E. G. Davies, \"Unfortunately, the policies that had been successful for more than forty years under Six\\'s cavalier style of management were suddenly laid bare as the cold winds of airline deregulation changed all the rules—specifically, the balance between revenues and expenditures.\" In 1981, Texas International Airlines acquired a controlling interest in Continental.', 'topic': None, 'url': 'https://en.wikipedia.org/wiki/Continental_Airlines'}\n",
            "{'icon': None, 'text': 'Information retrieval in computing and information science is the task of identifying and retrieving information system resources that are relevant to an information need. The information need can be specified in the form of a search query. In the case of document retrieval, queries can be based on full-text or other content-based indexing. Information retrieval is the science of searching for information in a document, searching for documents themselves, and also searching for the metadata that describes data, and for databases of texts, images or sounds. Automated information retrieval systems are used to reduce what has been called information overload. An IR system is a software system that provides access to books, journals and other documents; it also stores and manages those documents. Web search engines are the most visible IR applications.', 'topic': None, 'url': 'https://en.wikipedia.org/wiki/Information_retrieval'}\n"
          ]
        }
      ],
      "source": [
        "result = complete_user_query_with_spellchecker_and_middle_with_snippets(\"continental air\", newtrie, 5)\n",
        "assert 'continental airlines' in result[0]['text'].lower(), \"The text should contain 'continental airlines'\"\n",
        "\n",
        "result = complete_user_query_with_spellchecker_and_middle_with_snippets(\"information retrieval\", newtrie, 5)\n",
        "assert 'information retrieval' in result[0]['text'].lower(), \"The text should contain 'information retrieval'\""
      ]
    }
  ],
  "metadata": {
    "colab": {
      "provenance": []
    },
    "kernelspec": {
      "display_name": "Python 3 (ipykernel)",
      "language": "python",
      "name": "python3"
    },
    "language_info": {
      "codemirror_mode": {
        "name": "ipython",
        "version": 3
      },
      "file_extension": ".py",
      "mimetype": "text/x-python",
      "name": "python",
      "nbconvert_exporter": "python",
      "pygments_lexer": "ipython3",
      "version": "3.9.7"
    }
  },
  "nbformat": 4,
  "nbformat_minor": 0
}
