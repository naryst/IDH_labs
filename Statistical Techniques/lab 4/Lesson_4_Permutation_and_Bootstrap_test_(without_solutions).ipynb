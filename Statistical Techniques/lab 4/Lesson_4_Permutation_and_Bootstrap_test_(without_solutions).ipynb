{
  "cells": [
    {
      "cell_type": "markdown",
      "metadata": {
        "id": "ohmFWAE0fiU8"
      },
      "source": [
        "# Lab 4: Statistical Techniques\n",
        "In this lab, we will explore :\n",
        "\n",
        "*   Permutation test\n",
        "*   Bootstrap"
      ]
    },
    {
      "cell_type": "markdown",
      "metadata": {
        "id": "NXUrJJx5Opdn"
      },
      "source": [
        "##**permutation test:**\n",
        "\n",
        "---\n",
        "\n",
        "\n",
        "A permutation test is a statistical hypothesis test that involves permuting or shuffling the data to determine the distribution of a test statistic under the null hypothesis.\n",
        "\n",
        "Under the null hypothesis, the distribution of the test statistic is obtained by calculating all possible values of the test statistic under possible rearrangements of the observed data. Permutation tests are, therefore, a form of resampling.\n",
        "\n"
      ]
    },
    {
      "cell_type": "markdown",
      "metadata": {
        "id": "VEPefiY0V-D_"
      },
      "source": [
        "###**Type error:**\n",
        "Understanding how permutation tests impact Type I and Type II errors can significantly improve the robustness of statistical conclusions and research findings.\n",
        "\n",
        "- **Type I Error:** These tests help control Type I error rates, which are false positives where a null hypothesis is incorrectly rejected [[1](https://www.researchgate.net/publication/232893505_Using_Permutation_Tests_to_Reduce_Type_I_and_II_Errors_for_Small_Ruminant_Research)].\n",
        "- **Type II Error:** Permutation tests also aid in reducing Type II errors, which are false negatives where a true alternative hypothesis is not detected[[1](https://www.researchgate.net/publication/232893505_Using_Permutation_Tests_to_Reduce_Type_I_and_II_Errors_for_Small_Ruminant_Research)].\n",
        "\n",
        "- **p-values:** The p-value is the probability of obtaining a result at least as extreme as the test statistic given that the null hypothesis is true [[2](https://www.ncbi.nlm.nih.gov/pmc/articles/PMC2687965/#:~:text=As%20in%20all%20statistical%20hypothesis,the%20null%20hypothesis%20is%20true)]\n",
        "\n",
        "\n",
        "\n",
        "By utilizing permutation tests effectively and considering their impact on error types, researchers can enhance the accuracy and credibility of their statistical analyses."
      ]
    },
    {
      "cell_type": "markdown",
      "metadata": {
        "id": "WgCs2uwYfxY2"
      },
      "source": [
        "### **Permutation test:**\n",
        "\n",
        "We will apply Permutation test and Bootstrap using the Titanic dataset and understand their practical implications.\n",
        "\n",
        "\n",
        "#### **Import Libraries and load Data:**"
      ]
    },
    {
      "cell_type": "code",
      "execution_count": null,
      "metadata": {
        "colab": {
          "base_uri": "https://localhost:8080/",
          "height": 424
        },
        "id": "CAG374LOkXLl",
        "outputId": "1e869139-7b80-458d-b602-4054393e5c40"
      },
      "outputs": [
        {
          "data": {
            "text/html": [
              "\n",
              "  <div id=\"df-e676ec60-3a32-4652-9320-2fca7abe5428\">\n",
              "    <div class=\"colab-df-container\">\n",
              "      <div>\n",
              "<style scoped>\n",
              "    .dataframe tbody tr th:only-of-type {\n",
              "        vertical-align: middle;\n",
              "    }\n",
              "\n",
              "    .dataframe tbody tr th {\n",
              "        vertical-align: top;\n",
              "    }\n",
              "\n",
              "    .dataframe thead th {\n",
              "        text-align: right;\n",
              "    }\n",
              "</style>\n",
              "<table border=\"1\" class=\"dataframe\">\n",
              "  <thead>\n",
              "    <tr style=\"text-align: right;\">\n",
              "      <th></th>\n",
              "      <th>PassengerId</th>\n",
              "      <th>Survived</th>\n",
              "      <th>Pclass</th>\n",
              "      <th>Name</th>\n",
              "      <th>Sex</th>\n",
              "      <th>Age</th>\n",
              "      <th>SibSp</th>\n",
              "      <th>Parch</th>\n",
              "      <th>Ticket</th>\n",
              "      <th>Fare</th>\n",
              "      <th>Cabin</th>\n",
              "      <th>Embarked</th>\n",
              "    </tr>\n",
              "  </thead>\n",
              "  <tbody>\n",
              "    <tr>\n",
              "      <th>0</th>\n",
              "      <td>1</td>\n",
              "      <td>0</td>\n",
              "      <td>3</td>\n",
              "      <td>Braund, Mr. Owen Harris</td>\n",
              "      <td>male</td>\n",
              "      <td>22.0</td>\n",
              "      <td>1</td>\n",
              "      <td>0</td>\n",
              "      <td>A/5 21171</td>\n",
              "      <td>7.2500</td>\n",
              "      <td>NaN</td>\n",
              "      <td>S</td>\n",
              "    </tr>\n",
              "    <tr>\n",
              "      <th>1</th>\n",
              "      <td>2</td>\n",
              "      <td>1</td>\n",
              "      <td>1</td>\n",
              "      <td>Cumings, Mrs. John Bradley (Florence Briggs Th...</td>\n",
              "      <td>female</td>\n",
              "      <td>38.0</td>\n",
              "      <td>1</td>\n",
              "      <td>0</td>\n",
              "      <td>PC 17599</td>\n",
              "      <td>71.2833</td>\n",
              "      <td>C85</td>\n",
              "      <td>C</td>\n",
              "    </tr>\n",
              "    <tr>\n",
              "      <th>2</th>\n",
              "      <td>3</td>\n",
              "      <td>1</td>\n",
              "      <td>3</td>\n",
              "      <td>Heikkinen, Miss. Laina</td>\n",
              "      <td>female</td>\n",
              "      <td>26.0</td>\n",
              "      <td>0</td>\n",
              "      <td>0</td>\n",
              "      <td>STON/O2. 3101282</td>\n",
              "      <td>7.9250</td>\n",
              "      <td>NaN</td>\n",
              "      <td>S</td>\n",
              "    </tr>\n",
              "    <tr>\n",
              "      <th>3</th>\n",
              "      <td>4</td>\n",
              "      <td>1</td>\n",
              "      <td>1</td>\n",
              "      <td>Futrelle, Mrs. Jacques Heath (Lily May Peel)</td>\n",
              "      <td>female</td>\n",
              "      <td>35.0</td>\n",
              "      <td>1</td>\n",
              "      <td>0</td>\n",
              "      <td>113803</td>\n",
              "      <td>53.1000</td>\n",
              "      <td>C123</td>\n",
              "      <td>S</td>\n",
              "    </tr>\n",
              "    <tr>\n",
              "      <th>4</th>\n",
              "      <td>5</td>\n",
              "      <td>0</td>\n",
              "      <td>3</td>\n",
              "      <td>Allen, Mr. William Henry</td>\n",
              "      <td>male</td>\n",
              "      <td>35.0</td>\n",
              "      <td>0</td>\n",
              "      <td>0</td>\n",
              "      <td>373450</td>\n",
              "      <td>8.0500</td>\n",
              "      <td>NaN</td>\n",
              "      <td>S</td>\n",
              "    </tr>\n",
              "    <tr>\n",
              "      <th>...</th>\n",
              "      <td>...</td>\n",
              "      <td>...</td>\n",
              "      <td>...</td>\n",
              "      <td>...</td>\n",
              "      <td>...</td>\n",
              "      <td>...</td>\n",
              "      <td>...</td>\n",
              "      <td>...</td>\n",
              "      <td>...</td>\n",
              "      <td>...</td>\n",
              "      <td>...</td>\n",
              "      <td>...</td>\n",
              "    </tr>\n",
              "    <tr>\n",
              "      <th>886</th>\n",
              "      <td>887</td>\n",
              "      <td>0</td>\n",
              "      <td>2</td>\n",
              "      <td>Montvila, Rev. Juozas</td>\n",
              "      <td>male</td>\n",
              "      <td>27.0</td>\n",
              "      <td>0</td>\n",
              "      <td>0</td>\n",
              "      <td>211536</td>\n",
              "      <td>13.0000</td>\n",
              "      <td>NaN</td>\n",
              "      <td>S</td>\n",
              "    </tr>\n",
              "    <tr>\n",
              "      <th>887</th>\n",
              "      <td>888</td>\n",
              "      <td>1</td>\n",
              "      <td>1</td>\n",
              "      <td>Graham, Miss. Margaret Edith</td>\n",
              "      <td>female</td>\n",
              "      <td>19.0</td>\n",
              "      <td>0</td>\n",
              "      <td>0</td>\n",
              "      <td>112053</td>\n",
              "      <td>30.0000</td>\n",
              "      <td>B42</td>\n",
              "      <td>S</td>\n",
              "    </tr>\n",
              "    <tr>\n",
              "      <th>888</th>\n",
              "      <td>889</td>\n",
              "      <td>0</td>\n",
              "      <td>3</td>\n",
              "      <td>Johnston, Miss. Catherine Helen \"Carrie\"</td>\n",
              "      <td>female</td>\n",
              "      <td>NaN</td>\n",
              "      <td>1</td>\n",
              "      <td>2</td>\n",
              "      <td>W./C. 6607</td>\n",
              "      <td>23.4500</td>\n",
              "      <td>NaN</td>\n",
              "      <td>S</td>\n",
              "    </tr>\n",
              "    <tr>\n",
              "      <th>889</th>\n",
              "      <td>890</td>\n",
              "      <td>1</td>\n",
              "      <td>1</td>\n",
              "      <td>Behr, Mr. Karl Howell</td>\n",
              "      <td>male</td>\n",
              "      <td>26.0</td>\n",
              "      <td>0</td>\n",
              "      <td>0</td>\n",
              "      <td>111369</td>\n",
              "      <td>30.0000</td>\n",
              "      <td>C148</td>\n",
              "      <td>C</td>\n",
              "    </tr>\n",
              "    <tr>\n",
              "      <th>890</th>\n",
              "      <td>891</td>\n",
              "      <td>0</td>\n",
              "      <td>3</td>\n",
              "      <td>Dooley, Mr. Patrick</td>\n",
              "      <td>male</td>\n",
              "      <td>32.0</td>\n",
              "      <td>0</td>\n",
              "      <td>0</td>\n",
              "      <td>370376</td>\n",
              "      <td>7.7500</td>\n",
              "      <td>NaN</td>\n",
              "      <td>Q</td>\n",
              "    </tr>\n",
              "  </tbody>\n",
              "</table>\n",
              "<p>891 rows × 12 columns</p>\n",
              "</div>\n",
              "      <button class=\"colab-df-convert\" onclick=\"convertToInteractive('df-e676ec60-3a32-4652-9320-2fca7abe5428')\"\n",
              "              title=\"Convert this dataframe to an interactive table.\"\n",
              "              style=\"display:none;\">\n",
              "        \n",
              "  <svg xmlns=\"http://www.w3.org/2000/svg\" height=\"24px\"viewBox=\"0 0 24 24\"\n",
              "       width=\"24px\">\n",
              "    <path d=\"M0 0h24v24H0V0z\" fill=\"none\"/>\n",
              "    <path d=\"M18.56 5.44l.94 2.06.94-2.06 2.06-.94-2.06-.94-.94-2.06-.94 2.06-2.06.94zm-11 1L8.5 8.5l.94-2.06 2.06-.94-2.06-.94L8.5 2.5l-.94 2.06-2.06.94zm10 10l.94 2.06.94-2.06 2.06-.94-2.06-.94-.94-2.06-.94 2.06-2.06.94z\"/><path d=\"M17.41 7.96l-1.37-1.37c-.4-.4-.92-.59-1.43-.59-.52 0-1.04.2-1.43.59L10.3 9.45l-7.72 7.72c-.78.78-.78 2.05 0 2.83L4 21.41c.39.39.9.59 1.41.59.51 0 1.02-.2 1.41-.59l7.78-7.78 2.81-2.81c.8-.78.8-2.07 0-2.86zM5.41 20L4 18.59l7.72-7.72 1.47 1.35L5.41 20z\"/>\n",
              "  </svg>\n",
              "      </button>\n",
              "      \n",
              "  <style>\n",
              "    .colab-df-container {\n",
              "      display:flex;\n",
              "      flex-wrap:wrap;\n",
              "      gap: 12px;\n",
              "    }\n",
              "\n",
              "    .colab-df-convert {\n",
              "      background-color: #E8F0FE;\n",
              "      border: none;\n",
              "      border-radius: 50%;\n",
              "      cursor: pointer;\n",
              "      display: none;\n",
              "      fill: #1967D2;\n",
              "      height: 32px;\n",
              "      padding: 0 0 0 0;\n",
              "      width: 32px;\n",
              "    }\n",
              "\n",
              "    .colab-df-convert:hover {\n",
              "      background-color: #E2EBFA;\n",
              "      box-shadow: 0px 1px 2px rgba(60, 64, 67, 0.3), 0px 1px 3px 1px rgba(60, 64, 67, 0.15);\n",
              "      fill: #174EA6;\n",
              "    }\n",
              "\n",
              "    [theme=dark] .colab-df-convert {\n",
              "      background-color: #3B4455;\n",
              "      fill: #D2E3FC;\n",
              "    }\n",
              "\n",
              "    [theme=dark] .colab-df-convert:hover {\n",
              "      background-color: #434B5C;\n",
              "      box-shadow: 0px 1px 3px 1px rgba(0, 0, 0, 0.15);\n",
              "      filter: drop-shadow(0px 1px 2px rgba(0, 0, 0, 0.3));\n",
              "      fill: #FFFFFF;\n",
              "    }\n",
              "  </style>\n",
              "\n",
              "      <script>\n",
              "        const buttonEl =\n",
              "          document.querySelector('#df-e676ec60-3a32-4652-9320-2fca7abe5428 button.colab-df-convert');\n",
              "        buttonEl.style.display =\n",
              "          google.colab.kernel.accessAllowed ? 'block' : 'none';\n",
              "\n",
              "        async function convertToInteractive(key) {\n",
              "          const element = document.querySelector('#df-e676ec60-3a32-4652-9320-2fca7abe5428');\n",
              "          const dataTable =\n",
              "            await google.colab.kernel.invokeFunction('convertToInteractive',\n",
              "                                                     [key], {});\n",
              "          if (!dataTable) return;\n",
              "\n",
              "          const docLinkHtml = 'Like what you see? Visit the ' +\n",
              "            '<a target=\"_blank\" href=https://colab.research.google.com/notebooks/data_table.ipynb>data table notebook</a>'\n",
              "            + ' to learn more about interactive tables.';\n",
              "          element.innerHTML = '';\n",
              "          dataTable['output_type'] = 'display_data';\n",
              "          await google.colab.output.renderOutput(dataTable, element);\n",
              "          const docLink = document.createElement('div');\n",
              "          docLink.innerHTML = docLinkHtml;\n",
              "          element.appendChild(docLink);\n",
              "        }\n",
              "      </script>\n",
              "    </div>\n",
              "  </div>\n",
              "  "
            ],
            "text/plain": [
              "     PassengerId  Survived  Pclass  ...     Fare Cabin  Embarked\n",
              "0              1         0       3  ...   7.2500   NaN         S\n",
              "1              2         1       1  ...  71.2833   C85         C\n",
              "2              3         1       3  ...   7.9250   NaN         S\n",
              "3              4         1       1  ...  53.1000  C123         S\n",
              "4              5         0       3  ...   8.0500   NaN         S\n",
              "..           ...       ...     ...  ...      ...   ...       ...\n",
              "886          887         0       2  ...  13.0000   NaN         S\n",
              "887          888         1       1  ...  30.0000   B42         S\n",
              "888          889         0       3  ...  23.4500   NaN         S\n",
              "889          890         1       1  ...  30.0000  C148         C\n",
              "890          891         0       3  ...   7.7500   NaN         Q\n",
              "\n",
              "[891 rows x 12 columns]"
            ]
          },
          "execution_count": 1,
          "metadata": {},
          "output_type": "execute_result"
        }
      ],
      "source": [
        "#Import Libraries :\n",
        "import pandas as pd\n",
        "\n",
        "\n",
        "# Load Data:\n",
        "titanic = pd.read_csv('https://raw.githubusercontent.com/datasciencedojo/datasets/master/titanic.csv')\n",
        "titanic"
      ]
    },
    {
      "cell_type": "markdown",
      "metadata": {
        "id": "g0WVWejQayJv"
      },
      "source": [
        "####**Data Preparation :**\n",
        "\n",
        "This involves handling missing values and extracting relevant features, clean it and prepare it for analysis."
      ]
    },
    {
      "cell_type": "code",
      "execution_count": null,
      "metadata": {
        "id": "37zqI25wo-vk"
      },
      "outputs": [],
      "source": [
        "import numpy as np\n",
        "\n",
        "titanic_ages = titanic.loc[:, ['Survived', 'Age']].dropna()   #  Extracts the 'Survived' and 'Age' columns and drops rows with missing values.\n",
        "survived = titanic_ages[titanic_ages['Survived']==1]          #  Filters rows where 'Survived' is 1 (survived).\n",
        "not_survived = titanic_ages[titanic_ages['Survived']==0]      #  Filters rows where 'Survived' is 0 (did not survive).\n",
        "\n",
        "\n",
        "# Converts the 'Age' columns of the survived and not survived groups into numpy arrays.\n",
        "survived_sample = np.array(survived['Age'])\n",
        "not_survived_sample = np.array(not_survived['Age'])"
      ]
    },
    {
      "cell_type": "markdown",
      "metadata": {
        "id": "e3E_T9qwgz6q"
      },
      "source": [
        "####**Define HypothesisTest:**\n",
        "- $H_O$: There is no difference in mean of ages between survived and not survived\n",
        "\n",
        "- $H_1$: There is a statistically significant difference in mean of ages between survived and not survived"
      ]
    },
    {
      "cell_type": "code",
      "execution_count": null,
      "metadata": {
        "id": "QAd2-V_YNzXB"
      },
      "outputs": [],
      "source": [
        "import matplotlib.pyplot as plt\n",
        "\n",
        "# Define HypothesisTest Class\n",
        "class HypothesisTest(object):\n",
        "\n",
        "    def __init__(self, data):\n",
        "\n",
        "        self.data = data\n",
        "        self.actual = self.test_stat(data)\n",
        "        self.test_stats = np.array([self.test_stat(self.run_model())\n",
        "                                    for i in range(1000)])\n",
        "\n",
        "    def p_value(self, iters=1000): #calculates p-vauue\n",
        "\n",
        "        return np.mean(self.test_stats >= self.actual)\n",
        "\n",
        "\n",
        "    #Plots a histogram of the test statistics with some visualization options.\n",
        "    def plot_hist(self, low=None, high=None):\n",
        "        options = dict(alpha=0.5, color='C0')\n",
        "        xs, ys, patches = plt.hist(self.test_stats,\n",
        "                                  density=True,\n",
        "                                  histtype='step',\n",
        "                                  linewidth=3,\n",
        "                                  **options)\n",
        "\n",
        "        plt.ylabel('Density')\n",
        "        plt.tight_layout()\n",
        "        return patches[0]\n",
        "    #Fills the histogram between low and high values using the given patch.\n",
        "    def fill_hist(self, low, high, patch):\n",
        "        options = dict(alpha=0.5, color='C0')\n",
        "        fill = plt.axvspan(low, high,\n",
        "                          clip_path=patch,\n",
        "                          **options)\n",
        "\n",
        "\n",
        "    def plot_test_stats(self): #plots cdf\n",
        "\n",
        "        patch = self.plot_hist()\n",
        "        low = self.actual\n",
        "        high = np.max(self.test_stats)\n",
        "        self.fill_hist(low, high, patch)\n",
        "        plt.title('Distribution of test stat under null')\n",
        "\n",
        "    def test_stat(self, data): #computes the test statistics\n",
        "\n",
        "        group1, group2 = data\n",
        "        return abs(group1.mean() - group2.mean())\n",
        "\n",
        "    def run_model(self): #run a model of a null hypothesis\n",
        "\n",
        "        n = len(self.data[0])\n",
        "        pool = np.hstack(self.data)\n",
        "        np.random.shuffle(pool)\n",
        "        data = np.split(pool, [n])\n",
        "        return data"
      ]
    },
    {
      "cell_type": "markdown",
      "metadata": {
        "id": "oavcxIkdc3or"
      },
      "source": [
        "####**Run Hypothesis Test:**"
      ]
    },
    {
      "cell_type": "code",
      "execution_count": null,
      "metadata": {
        "colab": {
          "base_uri": "https://localhost:8080/",
          "height": 396
        },
        "id": "ca4gBKpKzCS3",
        "outputId": "aa6a83a0-c04b-46bb-9e04-81062511a4fe"
      },
      "outputs": [
        {
          "name": "stdout",
          "output_type": "stream",
          "text": [
            "Diff means permute number of homicides\n",
            "actual = 2.282489590110604\n",
            "p-value = 0.036\n"
          ]
        },
        {
          "data": {
            "text/plain": [
              "Text(0.5, 15.0, 'Difference in mean')"
            ]
          },
          "execution_count": 4,
          "metadata": {},
          "output_type": "execute_result"
        },
        {
          "data": {
            "image/png": "[encoded data removed]",
            "text/plain": [
              "<Figure size 432x288 with 1 Axes>"
            ]
          },
          "metadata": {
            "needs_background": "light"
          },
          "output_type": "display_data"
        }
      ],
      "source": [
        "data = (survived_sample, not_survived_sample)\n",
        "ht = HypothesisTest(data)\n",
        "p_value = ht.p_value()\n",
        "\n",
        "print('Diff means permute number of homicides')\n",
        "print('actual =', ht.actual)\n",
        "print('p-value =', p_value)\n",
        "ht.plot_test_stats()\n",
        "plt.xlabel('Difference in mean')"
      ]
    },
    {
      "cell_type": "markdown",
      "metadata": {
        "id": "Qd8H1Tvj3DUP"
      },
      "source": [
        "#### Confidence interval:\n",
        "In the context of a permutation test, a confidence interval is a range of values that is used to estimate the true value of a parameter. It provides a measure of the uncertainty associated with the estimate.\n"
      ]
    },
    {
      "cell_type": "code",
      "execution_count": null,
      "metadata": {
        "id": "f5PV3lmf3N8L"
      },
      "outputs": [],
      "source": [
        "class Resampler(object):\n",
        "\n",
        "    def __init__(self, sample, xlim=None): #stores the actual sample\n",
        "        self.sample = sample\n",
        "        self.n = len(sample)\n",
        "        self.xlim = xlim\n",
        "\n",
        "    def resample(self): #generates a new sample by choosing from the original sample with replacement\n",
        "        new_sample = np.random.choice(self.sample, self.n, replace=True)\n",
        "        return new_sample\n",
        "\n",
        "    def sample_stat(self, sample): #computes the sample statistics\n",
        "        return sample.mean()\n",
        "\n",
        "    def compute_sampling_distribution(self, iters=1000): #collects the statistics from the experiments\n",
        "        stats = [self.sample_stat(self.resample()) for i in range(iters)]\n",
        "        return np.array(stats)\n",
        "\n",
        "    def plot_sampling_distribution(self): #plots the sampling distribution\n",
        "        sample_stats = self.compute_sampling_distribution()\n",
        "        se = sample_stats.std()\n",
        "        ci = np.percentile(sample_stats, [2.5, 97.5])\n",
        "        print(\"95% confidence interval for the height:\",ci)\n",
        "        options = dict(alpha=0.5, color='C0')\n",
        "        xs, ys, patches = plt.hist(sample_stats,\n",
        "                 density=True,\n",
        "                 histtype='step',\n",
        "                 linewidth=3,\n",
        "                 **options)\n",
        "        fill = plt.axvspan(ci[0], ci[1],\n",
        "                       clip_path=patches[0],\n",
        "                       **options)\n",
        "        plt.tight_layout()\n",
        "        plt.xlabel('sample statistic')\n",
        "        plt.xlim(self.xlim)\n",
        "        plt.show()"
      ]
    },
    {
      "cell_type": "code",
      "execution_count": null,
      "metadata": {
        "colab": {
          "base_uri": "https://localhost:8080/",
          "height": 314
        },
        "id": "w5Uh496p4qtE",
        "outputId": "e4f3e9ab-f8e5-4a8c-9c17-d60d557ddc98"
      },
      "outputs": [
        {
          "name": "stdout",
          "output_type": "stream",
          "text": [
            "95% confidence interval for the height: [162.50869701 168.31624346]\n"
          ]
        },
        {
          "data": {
            "image/png": "[encoded data removed]",
            "text/plain": [
              "<Figure size 432x288 with 1 Axes>"
            ]
          },
          "metadata": {
            "needs_background": "light"
          },
          "output_type": "display_data"
        }
      ],
      "source": [
        "import scipy.stats as stats\n",
        "\n",
        "\n",
        "mu = 165           #sample mean\n",
        "sigma = 15         #sample standard deviation\n",
        "height = stats.norm(mu, sigma)\n",
        "xs = np.linspace(135, 195, 100)\n",
        "ys = height.pdf(xs)\n",
        "plt.xlabel('height (cm)')\n",
        "plt.ylabel('PDF')\n",
        "number_of_elements = 100\n",
        "sample = height.rvs(number_of_elements)\n",
        "resampler = Resampler(sample, xlim=[160, 172])\n",
        "resampler.plot_sampling_distribution()"
      ]
    },
    {
      "cell_type": "markdown",
      "metadata": {
        "id": "78045cc7"
      },
      "source": [
        "### EXERCISE 1:\n",
        "\n",
        "Complete the following code. Perform a permutation test to determine if there is a significant difference between the means of two samples. Use the following sample data:\n",
        "\n",
        "Sample 1: [14, 15, 16, 19, 22, 24]\n",
        "\n",
        "Sample 2: [11, 12, 13, 15, 18, 21]\n",
        "\n",
        "Steps to perform the permutation test:\n",
        "1. Combine the two samples into one dataset.\n",
        "2. Randomly shuffle the combined dataset and split it into two new samples of the same size as the original samples.\n",
        "3. Calculate the difference in means between the two new samples.\n",
        "4. Repeat steps 2 and 3 many times (e.g., 10000 permutations) to create a distribution of differences in means.\n",
        "5. Calculate the p-value as the proportion of permutations where the difference in means is as extreme as or more extreme than the observed difference.\n",
        "6. Compare the p-value to your significance level (e.g., 0.05) to determine if the difference is significant."
      ]
    },
    {
      "cell_type": "code",
      "execution_count": null,
      "metadata": {
        "id": "8580e28a"
      },
      "outputs": [],
      "source": [
        "# EXERCISE 1\n",
        "import numpy as np\n",
        "\n",
        "# Sample data\n",
        "sample1 = np.array([14, 15, 16, 19, 22, 24])\n",
        "sample2 = np.array([11, 12, 13, 15, 18, 21])\n",
        "\n",
        "# Observed difference in means\n",
        "obs_diff = # your code here\n",
        "\n",
        "# Combine the samples\n",
        "combined = # your code here\n",
        "\n",
        "# Number of permutations\n",
        "n_permutations = 10000\n",
        "\n",
        "# Permutation test\n",
        "diffs = np.zeros(n_permutations)\n",
        "for i in range(n_permutations):\n",
        "    np.random.shuffle(combined)\n",
        "    new_sample1 = .............\n",
        "    new_sample2 = .................\n",
        "    diffs[i] = np.mean(new_sample1) - np.mean(new_sample2)\n",
        "\n",
        "# Calculate the p-value\n",
        "p_value = # your code here\n",
        "print(f\"Observed difference in means: {obs_diff}\")\n",
        "print(f\"P-value: {p_value}\")\n"
      ]
    },
    {
      "cell_type": "code",
      "source": [
        "assert p_value < 1.0, \"P-value should be between 0 and 1\""
      ],
      "metadata": {
        "id": "jOBgXtO9Pcvk"
      },
      "execution_count": null,
      "outputs": []
    },
    {
      "cell_type": "markdown",
      "metadata": {
        "id": "ELhfjZzQ0awS"
      },
      "source": [
        "## **Bootstrapping**\n",
        "\n",
        "---\n",
        "\n",
        "Called also “[resampling](https://smartcorp.com/forecasting/advanced-techniques-statistical-bootstrapping-and-monte-carlo-simulation/)” is a method of computational statistics that we use to create demand scenarios for forecasting.\n",
        "\n",
        "It involves creating multiple samples of the same size as the original dataset by sampling with replacement and then calculating the statistic of interest for each sample [[3](http://faculty.washington.edu/yenchic/17Sp_302/R11.pdf)].\n",
        "\n",
        "It is valuable in situations where traditional statistical methods may not be applicable due to complex data structures or unknown population distributions."
      ]
    },
    {
      "cell_type": "markdown",
      "metadata": {
        "id": "PVw5BFIVEXnK"
      },
      "source": [
        "###Bootstrap and Monte-Carlo?\n",
        "\n",
        "Unlike bootstrapping, Monte Carlo simulation often assumes knowledge of the true parameters of the data and the underlying distribution, making it suitable for modeling a wide range of statistical problems.\n",
        "\n",
        "It is a broader technique that encompasses various applications, including risk analysis, optimization, and performance evaluation[[4](https://dataheadhunters.com/academy/monte-carlo-simulation-vs-bootstrapping-risk-analysis-and-prediction/)].\n",
        "\n",
        "Monte Carlo simulation has many applications in the real world such as Finance, Engineering, Supply, chain, Science and Medicine.\n",
        "\n",
        "####**Bootstrap example:**"
      ]
    },
    {
      "cell_type": "code",
      "execution_count": null,
      "metadata": {
        "id": "YuYt-1ooz9Qz"
      },
      "outputs": [],
      "source": [
        "\n",
        "def get_bootstrap_samples(data, n_samples):\n",
        "    indices = np.random.randint(0, len(data), (n_samples, len(data)))\n",
        "    samples = data[indices]\n",
        "    return samples\n",
        "\n",
        "def stat_intervals(sample_stats, alpha):\n",
        "    ci = np.percentile(sample_stats, [2.5, 97.5])\n",
        "    return ci"
      ]
    },
    {
      "cell_type": "code",
      "execution_count": null,
      "metadata": {
        "colab": {
          "base_uri": "https://localhost:8080/"
        },
        "id": "7JhSPnBRFIo1",
        "outputId": "feafcdab-1a04-4d4b-b3b3-79678cda86e5"
      },
      "outputs": [
        {
          "name": "stdout",
          "output_type": "stream",
          "text": [
            "95% confidence interval for the height: [162.73295403 168.21567902]\n"
          ]
        }
      ],
      "source": [
        "mean_scores = np.mean(get_bootstrap_samples(sample, 1000), axis=1)\n",
        "print(\"95% confidence interval for the height:\",  stat_intervals(mean_scores, 0.05))"
      ]
    },
    {
      "cell_type": "markdown",
      "metadata": {
        "id": "HVJbQ66pQHae"
      },
      "source": [
        "Let us build a confidence interval for the mean using the following statistic:\n",
        "\n",
        "$$t^* = \\frac{\\hat \\mu^* - \\hat \\mu}{std^*}$$,\n",
        "\n",
        "where $\\hat \\mu^*$ and $std^*$ are the mean and standard deviation of the bootstrapped sample, $\\hat \\mu$ is the mean of the initial sample."
      ]
    },
    {
      "cell_type": "code",
      "execution_count": null,
      "metadata": {
        "colab": {
          "base_uri": "https://localhost:8080/"
        },
        "id": "1wmw_YU7QGXt",
        "outputId": "4965b57e-b09e-445d-ddde-6bc6a6dc82fc"
      },
      "outputs": [
        {
          "name": "stdout",
          "output_type": "stream",
          "text": [
            "95% confidence interval for the mean: [162.70141602572036, 168.3251852924699]\n"
          ]
        }
      ],
      "source": [
        "mu_hat = np.mean(sample)\n",
        "bootstrap_samples = get_bootstrap_samples(sample, 1000)\n",
        "t_scores = (np.mean(bootstrap_samples, axis=1)-mu_hat)/np.std(bootstrap_samples, axis=1)\n",
        "lower_bound, upper_bound = stat_intervals(t_scores, 0.05)\n",
        "our_confidence_interval = [mu_hat-upper_bound*np.std(sample), mu_hat-lower_bound*np.std(sample)]\n",
        "print(\"95% confidence interval for the mean:\", our_confidence_interval)"
      ]
    },
    {
      "cell_type": "markdown",
      "metadata": {
        "id": "59f3a953"
      },
      "source": [
        "### EXERCISE 2:\n",
        "Complete the following code. Use the bootstrap method to estimate the 95% confidence interval for the mean of a sample. Use the following sample data:\n",
        "\n",
        "Sample: [2, 3, 5, 7, 11, 13, 17, 19]\n",
        "\n",
        "Steps to perform the bootstrap method:\n",
        "1. Generate a large number of bootstrap samples (e.g., 10000 samples) by resampling with replacement from the original sample.\n",
        "2. Calculate the mean of each bootstrap sample.\n",
        "3. Use the distribution of bootstrap means to estimate the 95% confidence interval for the mean."
      ]
    },
    {
      "cell_type": "code",
      "execution_count": null,
      "metadata": {
        "id": "8152ac17"
      },
      "outputs": [],
      "source": [
        "# EXERCISE 2\n",
        "import numpy as np\n",
        "\n",
        "# Sample data\n",
        "sample = np.array([2, 3, 5, 7, 11, 13, 17, 19])\n",
        "\n",
        "# Number of bootstrap samples\n",
        "n_bootstrap_samples = 10000\n",
        "\n",
        "# Bootstrap method\n",
        "bootstrap_means = # your code here\n",
        "for i in range(n_bootstrap_samples):\n",
        "    bootstrap_sample = np.random.choice(sample, size=len(sample), replace=True)\n",
        "    bootstrap_means[i] = # your code here\n",
        "\n",
        "# Calculate the 95% confidence interval\n",
        "confidence_interval = # your code here\n",
        "print(f\"95% confidence interval for the mean: {confidence_interval}\")\n",
        "\n"
      ]
    },
    {
      "cell_type": "code",
      "source": [
        "assert confidence_interval[0] < np.mean(sample) < confidence_interval[1], \"Mean should be within the confidence interval\""
      ],
      "metadata": {
        "id": "Wn5ikK_KPqwX"
      },
      "execution_count": null,
      "outputs": []
    },
    {
      "cell_type": "markdown",
      "metadata": {
        "id": "KOmCk556HcQH"
      },
      "source": [
        "## **Useful sources**\n",
        "\n",
        "---\n",
        "\n",
        "\n",
        "\n",
        "\n",
        "\n",
        "*   [Data analysis and machine learning (Russian)](https://github.com/demidovakatya/mashinnoye-obucheniye)\n",
        "*   [Inferential statistics (English)](https://github.com/AllenDowney/CompStats)"
      ]
    },
    {
      "cell_type": "markdown",
      "metadata": {
        "id": "zgLoYj_4basf"
      },
      "source": [
        "## **Conclusion**:\n",
        "\n",
        "\n",
        "\n",
        "\n"
      ]
    },
    {
      "cell_type": "markdown",
      "source": [
        "In this lab, we explored two powerful statistical techniques: permutation tests and bootstrapping. These methods are essential for making robust inferences from data, especially when traditional parametric assumptions are not met.\n",
        "\n",
        "\n",
        "Thank you for your participation and hard work in this lab!"
      ],
      "metadata": {
        "id": "-KM2t8UMCbR0"
      }
    }
  ],
  "metadata": {
    "colab": {
      "provenance": []
    },
    "kernelspec": {
      "display_name": "Python 3",
      "name": "python3"
    },
    "language_info": {
      "name": "python"
    }
  },
  "nbformat": 4,
  "nbformat_minor": 0
}