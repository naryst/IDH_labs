{
  "nbformat": 4,
  "nbformat_minor": 0,
  "metadata": {
    "colab": {
      "provenance": []
    },
    "kernelspec": {
      "name": "python3",
      "display_name": "Python 3"
    },
    "language_info": {
      "name": "python"
    }
  },
  "cells": [
    {
      "cell_type": "markdown",
      "metadata": {
        "id": "78045cc7"
      },
      "source": [
        "### EXERCISE 1: Permutation Test\n",
        "Perform a permutation test to determine if there is a significant difference between the means of two samples. Use the following sample data:\n",
        "\n",
        "Sample 1: [14, 15, 16, 19, 22, 24]\n",
        "Sample 2: [11, 12, 13, 15, 18, 21]\n",
        "\n",
        "Steps to perform the permutation test:\n",
        "1. Combine the two samples into one dataset.\n",
        "2. Randomly shuffle the combined dataset and split it into two new samples of the same size as the original samples.\n",
        "3. Calculate the difference in means between the two new samples.\n",
        "4. Repeat steps 2 and 3 many times (e.g., 10000 permutations) to create a distribution of differences in means.\n",
        "5. Calculate the p-value as the proportion of permutations where the difference in means is as extreme as or more extreme than the observed difference.\n",
        "6. Compare the p-value to your significance level (e.g., 0.05) to determine if the difference is significant."
      ]
    },
    {
      "cell_type": "code",
      "execution_count": 1,
      "metadata": {
        "colab": {
          "base_uri": "https://localhost:8080/"
        },
        "id": "8580e28a",
        "outputId": "52787acb-988c-4c37-8557-03a4d6144a46"
      },
      "outputs": [
        {
          "output_type": "stream",
          "name": "stdout",
          "text": [
            "Observed difference in means: 3.333333333333332\n",
            "P-value: 0.1856\n"
          ]
        }
      ],
      "source": [
        "# EXERCISE 1\n",
        "import numpy as np\n",
        "\n",
        "# Sample data\n",
        "sample1 = np.array([14, 15, 16, 19, 22, 24])\n",
        "sample2 = np.array([11, 12, 13, 15, 18, 21])\n",
        "\n",
        "# Observed difference in means\n",
        "obs_diff = np.mean(sample1) - np.mean(sample2)\n",
        "\n",
        "# Combine the samples\n",
        "combined = np.concatenate([sample1, sample2])\n",
        "\n",
        "# Number of permutations\n",
        "n_permutations = 10000\n",
        "\n",
        "# Permutation test\n",
        "diffs = np.zeros(n_permutations)\n",
        "for i in range(n_permutations):\n",
        "    np.random.shuffle(combined)\n",
        "    new_sample1 = combined[:len(sample1)]\n",
        "    new_sample2 = combined[len(sample1):]\n",
        "    diffs[i] = np.mean(new_sample1) - np.mean(new_sample2)\n",
        "\n",
        "# Calculate the p-value\n",
        "p_value = np.sum(np.abs(diffs) >= np.abs(obs_diff)) / n_permutations\n",
        "print(f\"Observed difference in means: {obs_diff}\")\n",
        "print(f\"P-value: {p_value}\")\n",
        "\n",
        "# Assert statement to check if the p-value calculation is correct\n",
        "assert p_value < 1.0, \"P-value should be between 0 and 1\"\n"
      ]
    },
    {
      "cell_type": "markdown",
      "metadata": {
        "id": "815415fd"
      },
      "source": [
        "## Bootstrap"
      ]
    },
    {
      "cell_type": "markdown",
      "metadata": {
        "id": "59f3a953"
      },
      "source": [
        "### EXERCISE 2\n",
        "Use the bootstrap method to estimate the 95% confidence interval for the mean of a sample. Use the following sample data:\n",
        "\n",
        "Sample: [2, 3, 5, 7, 11, 13, 17, 19]\n",
        "\n",
        "Steps to perform the bootstrap method:\n",
        "1. Generate a large number of bootstrap samples (e.g., 10000 samples) by resampling with replacement from the original sample.\n",
        "2. Calculate the mean of each bootstrap sample.\n",
        "3. Use the distribution of bootstrap means to estimate the 95% confidence interval for the mean."
      ]
    },
    {
      "cell_type": "code",
      "execution_count": 2,
      "metadata": {
        "colab": {
          "base_uri": "https://localhost:8080/"
        },
        "id": "8152ac17",
        "outputId": "08121d82-92f6-44f6-bba3-09439e1419ec"
      },
      "outputs": [
        {
          "output_type": "stream",
          "name": "stdout",
          "text": [
            "95% confidence interval for the mean: [ 5.5  13.75]\n"
          ]
        }
      ],
      "source": [
        "# EXERCISE 2\n",
        "import numpy as np\n",
        "\n",
        "# Sample data\n",
        "sample = np.array([2, 3, 5, 7, 11, 13, 17, 19])\n",
        "\n",
        "# Number of bootstrap samples\n",
        "n_bootstrap_samples = 10000\n",
        "\n",
        "# Bootstrap method\n",
        "bootstrap_means = np.zeros(n_bootstrap_samples)\n",
        "for i in range(n_bootstrap_samples):\n",
        "    bootstrap_sample = np.random.choice(sample, size=len(sample), replace=True)\n",
        "    bootstrap_means[i] = np.mean(bootstrap_sample)\n",
        "\n",
        "# Calculate the 95% confidence interval\n",
        "confidence_interval = np.percentile(bootstrap_means, [2.5, 97.5])\n",
        "print(f\"95% confidence interval for the mean: {confidence_interval}\")\n",
        "\n",
        "# Assert statement to check if the confidence interval is reasonable\n",
        "assert confidence_interval[0] < np.mean(sample) < confidence_interval[1], \"Mean should be within the confidence interval\"\n"
      ]
    }
  ]
}