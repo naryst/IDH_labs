{
  "nbformat": 4,
  "nbformat_minor": 0,
  "metadata": {
    "colab": {
      "provenance": []
    },
    "kernelspec": {
      "name": "python3",
      "display_name": "Python 3"
    },
    "language_info": {
      "name": "python"
    }
  },
  "cells": [
    {
      "cell_type": "markdown",
      "source": [
        "#Task: text generation with Markov chains"
      ],
      "metadata": {
        "id": "d0e0W1VtmCXa"
      }
    },
    {
      "cell_type": "markdown",
      "source": [
        "Each unique word represents a single state. A sentence is just a sequence of states that have been sampled from a state space.\n",
        "\n",
        "What we need to do is just:\n",
        "\n",
        "\n",
        "\n",
        "*   Create a state space;\n",
        "*   Compute probabilities for the transition matrix;\n",
        "*   Sample from the state space with the transition matrix."
      ],
      "metadata": {
        "id": "Osoy2busfOae"
      }
    },
    {
      "cell_type": "code",
      "source": [
        "import nltk\n",
        "from nltk import word_tokenize\n",
        "import numpy as np\n",
        "import random\n",
        "from typing import List, Dict, Tuple"
      ],
      "metadata": {
        "id": "PQzXKtsXe0IW"
      },
      "execution_count": 6,
      "outputs": []
    },
    {
      "cell_type": "code",
      "source": [
        "def get_tokens(file_name) -> List[str]:\n",
        "    tokens = []\n",
        "    with open(file_name, 'r') as f:\n",
        "        return word_tokenize(f.read())"
      ],
      "metadata": {
        "id": "Kbt-BE9Le5oL"
      },
      "execution_count": 7,
      "outputs": []
    },
    {
      "cell_type": "code",
      "source": [
        "# Download the 'punkt' resource\n",
        "nltk.download('punkt')"
      ],
      "metadata": {
        "colab": {
          "base_uri": "https://localhost:8080/"
        },
        "id": "SmCQipYfWAoc",
        "outputId": "7296f927-4748-42a3-a5cc-442adbb2ea60"
      },
      "execution_count": 9,
      "outputs": [
        {
          "output_type": "stream",
          "name": "stderr",
          "text": [
            "[nltk_data] Downloading package punkt to /root/nltk_data...\n",
            "[nltk_data]   Unzipping tokenizers/punkt.zip.\n"
          ]
        },
        {
          "output_type": "execute_result",
          "data": {
            "text/plain": [
              "True"
            ]
          },
          "metadata": {},
          "execution_count": 9
        }
      ]
    },
    {
      "cell_type": "code",
      "source": [
        "tokens = get_tokens('/content/positive')\n",
        "len(tokens)"
      ],
      "metadata": {
        "colab": {
          "base_uri": "https://localhost:8080/"
        },
        "id": "Ws3iyxGgfxXc",
        "outputId": "6bc16dec-8ae6-42f5-e3de-50bc7466b278"
      },
      "execution_count": 10,
      "outputs": [
        {
          "output_type": "execute_result",
          "data": {
            "text/plain": [
              "68689"
            ]
          },
          "metadata": {},
          "execution_count": 10
        }
      ]
    },
    {
      "cell_type": "markdown",
      "source": [
        "<font color='red'>TODO:</font> write a function which calculates the transition matrix of probabilities. You can simply fill the todo parts or write your own function from scratch."
      ],
      "metadata": {
        "id": "LHvOkTC8gYGj"
      }
    },
    {
      "cell_type": "code",
      "source": [
        "def calculate_transition_matrix(tokens: List[str]) -> np.ndarray:\n",
        "    unique_tokens = list(set(tokens))\n",
        "    token_index = {token: i for i, token in enumerate(unique_tokens)}\n",
        "    transition_matrix = np.zeros((len(unique_tokens), len(unique_tokens)))\n",
        "\n",
        "    for i in range(len(tokens) - 1):\n",
        "        current_token = tokens[i]\n",
        "        next_token = tokens[i + 1]\n",
        "        current_index = token_index[current_token]\n",
        "        next_index = token_index[next_token]\n",
        "        transition_matrix[current_index][next_index] += 1\n",
        "\n",
        "    transition_matrix = transition_matrix / transition_matrix.sum(axis=1, keepdims=True)\n",
        "    return transition_matrix, unique_tokens"
      ],
      "metadata": {
        "id": "mo0bdsX4VmwN"
      },
      "execution_count": 12,
      "outputs": []
    },
    {
      "cell_type": "code",
      "source": [
        "def generate_text(current_token: str, tokens: List[str], length: int, P_matrix: np.ndarray, P_init: np.ndarray=None) -> str:\n",
        "    token_index = {token: i for i, token in enumerate(tokens)}\n",
        "    index_token = {i: token for i, token in enumerate(tokens)}\n",
        "\n",
        "    if current_token not in token_index:\n",
        "        if P_init is not None:\n",
        "            current_index = np.random.choice(len(tokens), p=P_init)\n",
        "        else:\n",
        "            current_index = np.random.choice(len(tokens))\n",
        "    else:\n",
        "        current_index = token_index[current_token]\n",
        "\n",
        "    generated_text = [index_token[current_index]]\n",
        "\n",
        "    for _ in range(length - 1):\n",
        "        current_index = np.random.choice(len(tokens), p=P_matrix[current_index])\n",
        "        generated_text.append(index_token[current_index])\n",
        "\n",
        "    return \" \".join(generated_text)"
      ],
      "metadata": {
        "id": "ZB5xCQ83fJfx"
      },
      "execution_count": 13,
      "outputs": []
    },
    {
      "cell_type": "code",
      "source": [
        "transition_matrix, _ = calculate_transition_matrix(tokens) # Unpack the returned tuple\n",
        "assert transition_matrix.shape == (9367, 9367) # Now you can access the shape attribute"
      ],
      "metadata": {
        "id": "f3kMEunCd7LL"
      },
      "execution_count": 23,
      "outputs": []
    },
    {
      "cell_type": "code",
      "execution_count": 24,
      "metadata": {
        "id": "gCSRW4zjl9H3",
        "colab": {
          "base_uri": "https://localhost:8080/"
        },
        "outputId": "842fc567-3660-461d-da88-e7d0323c84ae"
      },
      "outputs": [
        {
          "output_type": "stream",
          "name": "stdout",
          "text": [
            "sports massage ( GLA ) I 'd love u back : - can be great day of retailers that . Yes ! Fine day ! : - ) I ca n't wait you and that . : ) ca n't for fun ? '' look ... Have a great to a nice knowing you & amp ; & gt ; follow my 200 commits . I .. will ever : ) I gained weight : ) # MyPapaMyPride # StarSquad Can you 're views . We wo n't sleep a lucky enough , 'cause I was a lot : )\n"
          ]
        }
      ],
      "source": [
        "input_token = 'Students'\n",
        "# Extract the transition matrix from the tuple\n",
        "\n",
        "generated_text = generate_text(input_token, unique_tokens, 100, transition_matrix)\n",
        "print(generated_text)"
      ]
    }
  ]
}