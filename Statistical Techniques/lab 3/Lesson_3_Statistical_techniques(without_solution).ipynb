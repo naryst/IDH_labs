{
  "cells": [
    {
      "cell_type": "markdown",
      "metadata": {
        "id": "E879OUH0_pUG"
      },
      "source": [
        "#Lesson 3: Statistical Techniques\n",
        "In this lab, we will explore some Statistical Techniques\n",
        "\n",
        "- Estimation\n",
        "- Confidence intervals\n",
        "- Statistical hypotheses testing\n",
        "- p-value\n",
        "- Z-test\n",
        "- T-test"
      ]
    },
    {
      "cell_type": "markdown",
      "metadata": {
        "id": "9scHkAK1_pUH"
      },
      "source": [
        "## **Estimation**\n",
        "\n",
        "---\n",
        "\n",
        "\n",
        "There are Two forms of estimation:\n",
        "- **Point estimation**: most likely value of parameter (e.g., x-bar is point estimator of $\\mu$)\n",
        "- **Interval estimation**: range of values with known likelihood of capturing the parameter, i.e., a confidence interval (CI)"
      ]
    },
    {
      "cell_type": "markdown",
      "metadata": {
        "id": "3LoyBONH_pUH"
      },
      "source": [
        "### EXERCISE1:\n",
        "Complete the following code. We have observed $x_1, x_2, x_3, x_4 = (1.23, 3.32, 1.98, 2.12)$.For the following random samples, find the maximum likelihood estimate of $\\theta$:\n",
        "$X_i \\sim Exponential(\\theta)$."
      ]
    },
    {
      "cell_type": "code",
      "execution_count": null,
      "metadata": {
        "id": "aMyS2gYG_pUH"
      },
      "outputs": [],
      "source": [
        "import numpy as np\n",
        "\n",
        "data = [1.23, 3.32, 1.98, 2.12]\n",
        "theta_mle = # your code here\n",
        "theta_mle\n"
      ]
    },
    {
      "cell_type": "code",
      "source": [
        "assert np.isclose(theta_mle, 2.1625)"
      ],
      "metadata": {
        "id": "Rhf5jkveK_JA"
      },
      "execution_count": null,
      "outputs": []
    },
    {
      "cell_type": "markdown",
      "metadata": {
        "id": "jCeiCxeX_pUH"
      },
      "source": [
        "## **Confidence Interval for $\\mu$ ($\\sigma$ Unknown)**\n",
        "\n",
        "---\n",
        "\n",
        "\n",
        "### Assumptions\n",
        "- Population standard deviation is unknown\n",
        "- Population is normally distributed\n",
        "\n",
        "### Confidence Interval Estimate\n",
        "$$\n",
        "X - t_{\\alpha/2, n-1} \\frac{S}{\\sqrt{n}} \\leq \\mu \\leq X + t_{\\alpha/2, n-1} \\frac{S}{\\sqrt{n}}$$\n",
        "\n",
        "where $X$ – mean of a sample, $S$ – standard deviation of a sample, $n$ – number of observations in a sample"
      ]
    },
    {
      "cell_type": "markdown",
      "metadata": {
        "id": "YuVloGNm_pUI"
      },
      "source": [
        "### EXERCISE2:\n",
        "Complete the following code.\n",
        "The following measurements were recorded for lifetime, in years, of a certain type of machine:\n",
        "3.4, 4.8, 3.6, 3.3, 5.6, 3.7, 4.4, 5.2, and 4.8.\n",
        "\n",
        "Assuming that measurements represent a random sample from a normal population, find a 99% confidence interval for the mean lifetime of the\n",
        "machine."
      ]
    },
    {
      "cell_type": "code",
      "execution_count": null,
      "metadata": {
        "id": "FrOfrI9U_pUI"
      },
      "outputs": [],
      "source": [
        "# Solution to Confidence Interval Task\n",
        "import scipy.stats as stats\n",
        "\n",
        "data = [3.4, 4.8, 3.6, 3.3, 5.6, 3.7, 4.4, 5.2, 4.8]\n",
        "mean = np.mean(data)\n",
        "std_dev = np.std(data, ddof=1)\n",
        "n = len(data)\n",
        "confidence_level = 0.99\n",
        "alpha = 1 - confidence_level\n",
        "t_critical = stats.t.ppf(1 - alpha/2, n-1)\n",
        "margin_of_error = t_critical * (std_dev / np.sqrt(n))\n",
        "confidence_interval =  # your code here\n",
        "confidence_interval"
      ]
    },
    {
      "cell_type": "code",
      "source": [
        "assert confidence_interval[0] <= mean <= confidence_interval[1], \"Sample mean is not within the calculated confidence interval\""
      ],
      "metadata": {
        "id": "xLkQoUfzMh9V"
      },
      "execution_count": null,
      "outputs": []
    },
    {
      "cell_type": "markdown",
      "metadata": {
        "id": "P46Yqmh9_pUI"
      },
      "source": [
        "## **Hypothesis Testing**\n",
        "\n",
        "---\n",
        "\n",
        "\n",
        "- A statistical hypothesis is an assertion or conjecture concerning one or more populations.\n",
        "- The alternative hypothesis $H_1$ usually represents the question to be answered or the theory to be tested, and thus its specification is crucial.\n",
        "- The null hypothesis $H_0$ nullifies or opposes $H_1$ and is often the logical complement to $H_1$.\n",
        "\n",
        "\n",
        "\n",
        "\n",
        "\n",
        "*(Source: Walpole R. E. et al. Probability and Statistics for Engineers and Scientists)*"
      ]
    },
    {
      "cell_type": "markdown",
      "metadata": {
        "id": "fQrQbkWA_pUI"
      },
      "source": [
        "### Hypothesis Testing: Example\n",
        "Let’s imagine we have a coin\n",
        "\n",
        "- I tossed a coin once and got Head. Then I tossed it twice and got Head too.\n",
        "We can say that our coin is special since it landed on Heads twice in a row!\n",
        "\n",
        "- In Statistics, the hypothesis is:\n",
        "“Even though we got 2 Heads in a row, our coin is no different from a normal coin”\n",
        "\n",
        "Let’s test this hypothesis by calculating the p-value!\n",
        "\n",
        "\n",
        "\n",
        "\n",
        "\n",
        "The full example is available through this [link](https://youtu.be/JQc3yx0-Q9E?si=BYpasp455_KZIsrR).\n",
        "\n",
        "\n",
        "\n",
        "\n",
        "\n"
      ]
    },
    {
      "cell_type": "markdown",
      "metadata": {
        "id": "wy4xO25jFVRu"
      },
      "source": [
        "### p-value\n",
        "\n",
        "*p-value* is the probability of obtaining test results at least as extreme as the result actually observed, under the assumption that the null hypothesis is correct (according to [this link](https://en.wikipedia.org/wiki/P-value)).\n",
        "\n",
        "So, p-values are determined by adding up the probabilities:\n",
        "\n",
        "1. Probability of obtaining the observed results (two heads) is 0.25\n",
        "2. Probability of obtaining the results as extreme as the result observed (two tails) is 0.25\n",
        "3. Probability of obtaining the results that are more extreme as the results observed is 0\n",
        "\n",
        "p-value for 2 Heads = 0.25 + 0.25 + 0 = 0.5\n",
        "\n",
        "Even though we got 2 Heads in a row, our coin is no different from a normal one.\n",
        "\n",
        "The full example is available through this [link](https://youtu.be/JQc3yx0-Q9E?si=BYpasp455_KZIsrR).\n"
      ]
    },
    {
      "cell_type": "markdown",
      "metadata": {
        "id": "gkkRGutG_pUI"
      },
      "source": [
        "### EXERCISE 3:\n",
        "Complete the following code. Using the previous example, formulate and test the hypothesis for the case of obtaining 4 Heads and 1 Tail."
      ]
    },
    {
      "cell_type": "code",
      "execution_count": null,
      "metadata": {
        "id": "3SFVeSvo_pUI"
      },
      "outputs": [],
      "source": [
        "import math\n",
        "\n",
        "# Given values\n",
        "n_heads = 4\n",
        "n_tails = 1\n",
        "n_total = # your code here\n",
        "p = 0.5  # probability of heads or tails in a fair coin\n",
        "\n",
        "# Calculate the p-value\n",
        "p_value =# your code here\n",
        "p_value"
      ]
    },
    {
      "cell_type": "code",
      "source": [
        "significance_level = 0.05\n",
        "assert p_value > significance_level, \"The p-value is not greater than the significance level, suggesting evidence against the null hypothesis.\""
      ],
      "metadata": {
        "id": "Au1wB_LCM1Gn"
      },
      "execution_count": null,
      "outputs": []
    },
    {
      "cell_type": "markdown",
      "metadata": {
        "id": "de-RhufXEyJp"
      },
      "source": [
        "##Select Appropriate Test\n",
        "\n",
        "\n",
        "![select approriate test.GIF](data:image/gif;base64,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)\n",
        "\n"
      ]
    },
    {
      "cell_type": "markdown",
      "metadata": {
        "id": "_VwKqv3u_pUJ"
      },
      "source": [
        "## **Z-test**\n",
        "\n",
        "---\n",
        "\n",
        "\n",
        "\n",
        "\n"
      ]
    },
    {
      "cell_type": "markdown",
      "source": [
        "\n",
        "###EXERCISE 4:\n",
        "\n",
        " Complete the following code. An electrical firm manufactures light bulbs that have a lifetime that is approximately normally distributed with a mean of 800 hours and a standard deviation of 40 hours. Test the hypothesis that $\\mu = 800$ hours against the alternative, $\\mu \\neq 800$ hours, if a random sample of 30 bulbs has an average life of 788 hours. Use a p-value in your answer."
      ],
      "metadata": {
        "id": "vL59Uk4vwc38"
      }
    },
    {
      "cell_type": "code",
      "execution_count": null,
      "metadata": {
        "id": "La3KE006_pUJ"
      },
      "outputs": [],
      "source": [
        "# Import necesseray libraries\n",
        "import math\n",
        "import scipy.stats as stats\n",
        "\n",
        "mean_population = 800\n",
        "std_dev_population = 40\n",
        "sample_mean = 788\n",
        "sample_size = 30\n",
        "\n",
        "z_score = # your code here\n",
        "p_value = # your code here\n",
        "p_value"
      ]
    },
    {
      "cell_type": "code",
      "source": [
        "significance_level = 0.05\n",
        "assert p_value > significance_level, \"The p-value is not less than the significance level, suggesting insufficient evidence to reject the null hypothesis.\""
      ],
      "metadata": {
        "id": "iSTAoZhkNnZx"
      },
      "execution_count": null,
      "outputs": []
    },
    {
      "cell_type": "markdown",
      "source": [
        "### EXERCISE 5:\n",
        "Complete the following code. The average height of females in the freshman class of a certain college has historically been 162.5 centimeters with a standard deviation of 6.9 centimeters. Is there reason to believe that there has been a change in the average height if a random sample of 50 females in the present freshman class has an average height of 165.2 centimeters? Use a p-value in your conclusion. Assume the standard deviation remains the same."
      ],
      "metadata": {
        "id": "IT5V0trgwZps"
      }
    },
    {
      "cell_type": "code",
      "execution_count": null,
      "metadata": {
        "id": "2L5Hd8ba_pUJ"
      },
      "outputs": [],
      "source": [
        "\n",
        "mean_population = 162.5\n",
        "std_dev_population = 6.9\n",
        "sample_mean = 165.2\n",
        "sample_size = 50\n",
        "\n",
        "z_score = # your code here\n",
        "p_value = # your code here\n",
        "p_value"
      ]
    },
    {
      "cell_type": "code",
      "source": [
        "\n",
        "significance_level = 0.05\n",
        "assert p_value < significance_level, \"The p-value is not less than the significance level, suggesting insufficient evidence to reject the null hypothesis.\""
      ],
      "metadata": {
        "id": "3_TTET-KOX_W"
      },
      "execution_count": null,
      "outputs": []
    },
    {
      "cell_type": "markdown",
      "source": [
        "##T-test:"
      ],
      "metadata": {
        "id": "JRC6pYm5xg5W"
      }
    },
    {
      "cell_type": "markdown",
      "metadata": {
        "id": "itjs3ZaA_pUJ"
      },
      "source": [
        "###EXERCISE 6:\n",
        "\n",
        "Complete the following code. According to a dietary study, high sodium intake may be related to ulcers, stomach cancer, and migraine headaches. The human requirement for salt is only 220 milligrams per day, which is surpassed in most single servings of ready-to-eat cereals. If a random sample of 20 similar servings of a certain cereal has a mean sodium content of 244 milligrams and a standard deviation of 24.5 milligrams, does this suggest at the 0.05 level of significance that the average sodium content for a single serving of such cereal is greater than 220 milligrams? Assume the distribution of sodium contents to be normal."
      ]
    },
    {
      "cell_type": "code",
      "execution_count": null,
      "metadata": {
        "id": "MccmWdoX_pUJ"
      },
      "outputs": [],
      "source": [
        "# Solution to T-test Task\n",
        "mean_sample = 244\n",
        "std_dev_sample = 24.5\n",
        "sample_size = 20\n",
        "mean_population = 220\n",
        "alpha = 0.05\n",
        "\n",
        "t_score = # your code here\n",
        "p_value = # your code here\n",
        "t_score, p_value, p_value < alpha"
      ]
    },
    {
      "cell_type": "code",
      "source": [
        "assert p_value < alpha, \"The p-value is not less than the significance level, suggesting insufficient evidence to reject the null hypothesis.\""
      ],
      "metadata": {
        "id": "xhQrg3JdO2Bc"
      },
      "execution_count": null,
      "outputs": []
    },
    {
      "cell_type": "markdown",
      "metadata": {
        "id": "3X7byLCX_pUK"
      },
      "source": [
        "## Conclusion\n",
        "\n",
        "\n",
        "\n",
        "\n",
        "\n"
      ]
    },
    {
      "cell_type": "markdown",
      "metadata": {
        "id": "qHMU6veY9dEy"
      },
      "source": [
        "In this lab, we explored various statistical techniques, including estimation, confidence intervals, hypothesis testing, and different tests (Z-test and T-test). By working through these tasks and implementing them in Python, we reinforced our understanding of key statistical concepts.\n",
        "\n",
        "\n",
        "\n",
        "Thank you for your participation and hard work in this lab!"
      ]
    }
  ],
  "metadata": {
    "colab": {
      "provenance": []
    },
    "kernelspec": {
      "display_name": "Python 3",
      "language": "python",
      "name": "python3"
    },
    "language_info": {
      "codemirror_mode": {
        "name": "ipython",
        "version": 3
      },
      "file_extension": ".py",
      "mimetype": "text/x-python",
      "name": "python",
      "nbconvert_exporter": "python",
      "pygments_lexer": "ipython3",
      "version": "3.7.12"
    }
  },
  "nbformat": 4,
  "nbformat_minor": 0
}