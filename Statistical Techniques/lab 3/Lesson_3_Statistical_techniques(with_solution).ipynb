{
  "nbformat": 4,
  "nbformat_minor": 0,
  "metadata": {
    "colab": {
      "provenance": []
    },
    "kernelspec": {
      "name": "python3",
      "display_name": "Python 3"
    },
    "language_info": {
      "name": "python"
    }
  },
  "cells": [
    {
      "cell_type": "markdown",
      "metadata": {
        "id": "3LoyBONH_pUH"
      },
      "source": [
        "### EXERCISE 1: Estimation\n",
        "For the following random samples, find the maximum likelihood estimate of $\\theta$:\n",
        "$X_i \\sim Exponential(\\theta)$, and we have observed $x_1, x_2, x_3, x_4 = (1.23, 3.32, 1.98, 2.12)$."
      ]
    },
    {
      "cell_type": "code",
      "source": [
        "\n",
        "import numpy as np\n",
        "\n",
        "data = [1.23, 3.32, 1.98, 2.12]\n",
        "theta_mle = np.mean(data) / 1\n",
        "print(theta_mle)  # Print the calculated value for verification\n",
        "\n",
        "\n",
        "assert np.isclose(theta_mle, 2.1625)"
      ],
      "metadata": {
        "colab": {
          "base_uri": "https://localhost:8080/"
        },
        "id": "Rhf5jkveK_JA",
        "outputId": "1701235b-dfd9-409a-9222-9dcb3529fd92"
      },
      "execution_count": 6,
      "outputs": [
        {
          "output_type": "stream",
          "name": "stdout",
          "text": [
            "2.1624999999999996\n"
          ]
        }
      ]
    },
    {
      "cell_type": "markdown",
      "metadata": {
        "id": "YuVloGNm_pUI"
      },
      "source": [
        "### EXERCISE 2: Confidence Interval\n",
        "The following measurements were recorded for lifetime, in years, of a certain type of machine:\n",
        "3.4, 4.8, 3.6, 3.3, 5.6, 3.7, 4.4, 5.2, and 4.8. Assuming that measurements represent a random\n",
        "sample from a normal population, find a 99% confidence interval for the mean lifetime of the\n",
        "machine."
      ]
    },
    {
      "cell_type": "code",
      "execution_count": 8,
      "metadata": {
        "id": "FrOfrI9U_pUI",
        "outputId": "5cfcb64c-673b-4714-a4f8-4aec29ceb5c8",
        "colab": {
          "base_uri": "https://localhost:8080/"
        }
      },
      "outputs": [
        {
          "output_type": "execute_result",
          "data": {
            "text/plain": [
              "(3.3696001408707326, 5.25262208135149)"
            ]
          },
          "metadata": {},
          "execution_count": 8
        }
      ],
      "source": [
        "# Solution to Confidence Interval Task\n",
        "import scipy.stats as stats\n",
        "\n",
        "data = [3.4, 4.8, 3.6, 3.3, 5.6, 3.7, 4.4, 5.2, 4.8]\n",
        "mean = np.mean(data)\n",
        "std_dev = np.std(data, ddof=1)\n",
        "n = len(data)\n",
        "confidence_level = 0.99\n",
        "alpha = 1 - confidence_level\n",
        "t_critical = stats.t.ppf(1 - alpha/2, n-1)\n",
        "margin_of_error = t_critical * (std_dev / np.sqrt(n))\n",
        "confidence_interval = (mean - margin_of_error, mean + margin_of_error)\n",
        "confidence_interval"
      ]
    },
    {
      "cell_type": "code",
      "source": [
        "assert confidence_interval[0] <= mean <= confidence_interval[1], \"Sample mean is not within the calculated confidence interval\""
      ],
      "metadata": {
        "id": "usoNh5kVMYfG"
      },
      "execution_count": null,
      "outputs": []
    },
    {
      "cell_type": "markdown",
      "metadata": {
        "id": "gkkRGutG_pUI"
      },
      "source": [
        "### EXERCISE 3: Hypothesis Testing\n",
        "Using the previous example, formulate and test the hypothesis for the case of obtaining 4 Heads and 1 Tail."
      ]
    },
    {
      "cell_type": "code",
      "execution_count": 10,
      "metadata": {
        "id": "3SFVeSvo_pUI",
        "outputId": "f43fd2fe-d6de-4381-b529-c2668a8a9531",
        "colab": {
          "base_uri": "https://localhost:8080/"
        }
      },
      "outputs": [
        {
          "output_type": "stream",
          "name": "stderr",
          "text": [
            "<ipython-input-10-76cc2ffc8e7e>:11: DeprecationWarning: 'binom_test' is deprecated in favour of 'binomtest' from version 1.7.0 and will be removed in Scipy 1.12.0.\n",
            "  p_value = stats.binom_test(n_heads, n_total, p, alternative='two-sided')\n"
          ]
        },
        {
          "output_type": "execute_result",
          "data": {
            "text/plain": [
              "0.375"
            ]
          },
          "metadata": {},
          "execution_count": 10
        }
      ],
      "source": [
        "# Solution to Hypothesis Testing Task\n",
        "import math\n",
        "\n",
        "# Given values\n",
        "n_heads = 4\n",
        "n_tails = 1\n",
        "n_total = n_heads + n_tails\n",
        "p = 0.5  # probability of heads or tails in a fair coin\n",
        "\n",
        "# Calculate the p-value\n",
        "p_value = stats.binom_test(n_heads, n_total, p, alternative='two-sided')\n",
        "p_value"
      ]
    },
    {
      "cell_type": "code",
      "source": [
        "\n",
        "significance_level = 0.05\n",
        "assert p_value > significance_level, \"The p-value is not greater than the significance level, suggesting evidence against the null hypothesis.\""
      ],
      "metadata": {
        "id": "qpZrkzHSMwc0"
      },
      "execution_count": 11,
      "outputs": []
    },
    {
      "cell_type": "markdown",
      "metadata": {
        "id": "_VwKqv3u_pUJ"
      },
      "source": [
        "\n",
        "\n",
        "\n",
        "###EXERCISE 4:  \n",
        "An electrical firm manufactures light bulbs that have a lifetime that is approximately normally distributed with a mean of 800 hours and a standard deviation of 40 hours. Test the hypothesis that $\\mu = 800$ hours against the alternative, $\\mu \\neq 800$ hours, if a random sample of 30 bulbs has an average life of 788 hours. Use a p-value in your answer.\n",
        "\n",
        "\n"
      ]
    },
    {
      "cell_type": "code",
      "source": [
        "import math\n",
        "import scipy.stats as stats\n",
        "\n",
        "mean_population = 800\n",
        "std_dev_population = 40\n",
        "sample_mean = 788\n",
        "sample_size = 30\n",
        "\n",
        "z_score = (sample_mean - mean_population) / (std_dev_population / math.sqrt(sample_size))\n",
        "p_value = 2 * (1 - stats.norm.cdf(abs(z_score)))\n",
        "print(p_value)\n",
        "\n",
        "\n",
        "significance_level = 0.05\n",
        "\n",
        "assert p_value > significance_level, \"The p-value is not less than the significance level, suggesting insufficient evidence to reject the null hypothesis.\""
      ],
      "metadata": {
        "colab": {
          "base_uri": "https://localhost:8080/"
        },
        "id": "OMDiL8c6Ne2u",
        "outputId": "2497528a-09aa-47d0-df8d-177b4bf1d6e5"
      },
      "execution_count": 16,
      "outputs": [
        {
          "output_type": "stream",
          "name": "stdout",
          "text": [
            "0.10034824646229068\n"
          ]
        }
      ]
    },
    {
      "cell_type": "markdown",
      "source": [
        "###EXERCISE 5:\n",
        "The average height of females in the freshman class of a certain college has historically been 162.5 centimeters with a standard deviation of 6.9 centimeters. Is there reason to believe that there has been a change in the average height if a random sample of 50 females in the present freshman class has an average height of 165.2 centimeters? Use a p-value in your conclusion. Assume the standard deviation remains the same."
      ],
      "metadata": {
        "id": "yCnVcQzU_C5h"
      }
    },
    {
      "cell_type": "code",
      "execution_count": 21,
      "metadata": {
        "colab": {
          "base_uri": "https://localhost:8080/"
        },
        "id": "2L5Hd8ba_pUJ",
        "outputId": "76ebf355-4089-45c6-d974-51dcffa5b430"
      },
      "outputs": [
        {
          "output_type": "execute_result",
          "data": {
            "text/plain": [
              "0.005658524152172495"
            ]
          },
          "metadata": {},
          "execution_count": 21
        }
      ],
      "source": [
        "# Solution to Z-test Task 2\n",
        "mean_population = 162.5\n",
        "std_dev_population = 6.9\n",
        "sample_mean = 165.2\n",
        "sample_size = 50\n",
        "\n",
        "z_score = (sample_mean - mean_population) / (std_dev_population / math.sqrt(sample_size))\n",
        "p_value = 2 * (1 - stats.norm.cdf(abs(z_score)))\n",
        "p_value"
      ]
    },
    {
      "cell_type": "code",
      "source": [
        "\n",
        "significance_level = 0.05  # Set your desired significance level\n",
        "assert p_value < significance_level, \"The p-value is not less than the significance level, suggesting insufficient evidence to reject the null hypothesis.\""
      ],
      "metadata": {
        "id": "3_TTET-KOX_W"
      },
      "execution_count": 22,
      "outputs": []
    },
    {
      "cell_type": "markdown",
      "metadata": {
        "id": "itjs3ZaA_pUJ"
      },
      "source": [
        "### EXERCISE 6 :\n",
        "\n",
        "\n",
        "According to a dietary study, high sodium intake may be related to ulcers, stomach cancer, and migraine headaches. The human requirement for salt is only 220 milligrams per day, which is surpassed in most single servings of ready-to-eat cereals. If a random sample of 20 similar servings of a certain cereal has a mean sodium content of 244 milligrams and a standard deviation of 24.5 milligrams, does this suggest at the 0.05 level of significance that the average sodium content for a single serving of such cereal is greater than 220 milligrams? Assume the distribution of sodium contents to be normal."
      ]
    },
    {
      "cell_type": "code",
      "execution_count": null,
      "metadata": {
        "id": "MccmWdoX_pUJ",
        "outputId": "47eb96f5-eaa3-4416-a37d-376fdd225d55"
      },
      "outputs": [
        {
          "data": {
            "text/plain": [
              "(4.387096774193548, 0.00016333997346592472, True)"
            ]
          },
          "execution_count": 6,
          "metadata": {},
          "output_type": "execute_result"
        }
      ],
      "source": [
        "# Solution to T-test Task\n",
        "mean_sample = 244\n",
        "std_dev_sample = 24.5\n",
        "sample_size = 20\n",
        "mean_population = 220\n",
        "alpha = 0.05\n",
        "\n",
        "t_score = (mean_sample - mean_population) / (std_dev_sample / np.sqrt(sample_size))\n",
        "p_value = 1 - stats.t.cdf(t_score, df=sample_size-1)\n",
        "t_score, p_value, p_value < alpha"
      ]
    },
    {
      "cell_type": "code",
      "source": [
        "assert p_value < alpha, \"The p-value is not less than the significance level, suggesting insufficient evidence to reject the null hypothesis.\""
      ],
      "metadata": {
        "id": "fZBih_IiO0Yr"
      },
      "execution_count": 23,
      "outputs": []
    },
    {
      "cell_type": "code",
      "source": [],
      "metadata": {
        "id": "1TBXwPuyO01f"
      },
      "execution_count": null,
      "outputs": []
    }
  ]
}