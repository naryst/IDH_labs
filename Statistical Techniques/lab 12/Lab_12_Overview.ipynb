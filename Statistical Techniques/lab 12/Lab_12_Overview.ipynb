{
  "cells": [
    {
      "cell_type": "markdown",
      "id": "85a7aabb",
      "metadata": {
        "id": "85a7aabb"
      },
      "source": [
        "# Lab 12: Statistical Techniques for Data Science & Robotics (Overview)"
      ]
    },
    {
      "cell_type": "markdown",
      "id": "17a3488f",
      "metadata": {
        "id": "17a3488f"
      },
      "source": [
        "## Summary of the course\n",
        "- Statistical modeling is based on optimization and simulation.\n",
        "- In this course, we study various techniques for estimation of parameters, by means of resampling and simulation."
      ]
    },
    {
      "cell_type": "markdown",
      "id": "985272f7",
      "metadata": {
        "id": "985272f7"
      },
      "source": [
        "### Parametric Statistics"
      ]
    },
    {
      "cell_type": "markdown",
      "id": "03998d21",
      "metadata": {
        "id": "03998d21"
      },
      "source": [
        "#### Probability Distributions\n",
        "- Definitions of probability, pdf, pmf, cdf, etc.\n",
        "- Uniform, Bernoulli, Binomial, Normal\n",
        "- Expected value, Variance of a random variable\n",
        "- Median, Mode"
      ]
    },
    {
      "cell_type": "markdown",
      "id": "8e1ca2d2",
      "metadata": {
        "id": "8e1ca2d2"
      },
      "source": [
        "### Statistics, Sampling Distribution\n",
        "- Population, Simple Sample\n",
        "- Sampling Distribution\n",
        "- Sample Mean\n",
        "- Sample Variance\n",
        "- Statistic"
      ]
    },
    {
      "cell_type": "markdown",
      "id": "ce880eb7",
      "metadata": {
        "id": "ce880eb7"
      },
      "source": [
        "### Estimation, Likelihood\n",
        "- Estimator, parameter\n",
        "- Point estimates\n",
        "- Interval Estimates\n",
        "- Confidence interval\n",
        "- MSE, Bias and Variance tradeoff\n",
        "- MLE, likelihood function"
      ]
    },
    {
      "cell_type": "markdown",
      "id": "cf1604ba",
      "metadata": {
        "id": "cf1604ba"
      },
      "source": [
        "### Central Limit Theorem\n",
        "The Central Limit Theorem (CLT) states that the sampling distribution of the sample mean approaches a normal distribution as the sample size increases, regardless of the population's distribution.\n",
        "\n",
        "\n",
        "*   Formulation of the Theorem\n",
        "*   Application of the CLT\n",
        "*   Examples\n",
        "\n"
      ]
    },
    {
      "cell_type": "markdown",
      "id": "9e3748b5",
      "metadata": {
        "id": "9e3748b5"
      },
      "source": [
        "### Hypothesis Testing\n",
        "- Simple Hypothesis\n",
        "- Critical region\n",
        "- Type I and II errors\n",
        "- Power of a test\n",
        "- p-value, alpha"
      ]
    },
    {
      "cell_type": "markdown",
      "id": "8953ea88",
      "metadata": {
        "id": "8953ea88"
      },
      "source": [
        "\n",
        "##Non-parametrics\n",
        "\n",
        "*   ECDF, Kolmogorov-Smirnov test :\n",
        "With Kolmogorov-Smirnov, we compare,\n",
        "The sample distribution with the one we prepare,\n",
        "From the population we hypothesize,\n",
        "And see if the two are alike in our eyes.\n",
        "The test statistic, D, is the distance,\n",
        "Between the empirical and theoretical existence,\n",
        "Of the cumulative distribution function,\n",
        "A measure of goodness of fit with\n",
        "  \n",
        "\n",
        "\n",
        "*   Jackknife / Bootstrap\n",
        "\n",
        " *   Resampling\n",
        " *   Step-by-step procedures\n",
        "\n",
        " *   Bias of the Jackknife\n",
        " *   Assumptions\n",
        "\n",
        " *   Limitations\n",
        "\n",
        "\n",
        "*   Smoothing and Density Estimation\n",
        "\n"
      ]
    },
    {
      "cell_type": "markdown",
      "id": "1258c0b1",
      "metadata": {
        "id": "1258c0b1"
      },
      "source": [
        "\n",
        "## Markov Chain Monte Carlo\n",
        "\n",
        "\n",
        "*   Markov Chains\n",
        "*   Metropolis-Hastings\n",
        "*   Gibbs Sampling\n",
        "\n",
        "\n",
        "\n"
      ]
    },
    {
      "cell_type": "markdown",
      "id": "39ed2792",
      "metadata": {
        "id": "39ed2792"
      },
      "source": [
        "## Extra points\n",
        "- Write a 5-minute paper on the topic: \"Relationships between Statistics and Optimization\".\n",
        "- Alternatively, ask ChatGPT to compose a poem on the same topic.\n",
        "- Create your mind map of the course. Preferably, use: [MindMup](http://drive.mindmup.com)\n"
      ]
    }
  ],
  "metadata": {
    "colab": {
      "provenance": []
    },
    "language_info": {
      "name": "python"
    },
    "kernelspec": {
      "name": "python3",
      "display_name": "Python 3"
    }
  },
  "nbformat": 4,
  "nbformat_minor": 5
}