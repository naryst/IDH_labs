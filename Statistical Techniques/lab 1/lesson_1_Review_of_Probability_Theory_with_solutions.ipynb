{
  "cells": [
    {
      "cell_type": "markdown",
      "metadata": {
        "id": "O29RZ3N0BOac"
      },
      "source": [
        "## EXERCISE 1: Write down the sample space for each experiment below:\n",
        "1. Tossing a coin\n",
        "2. Rolling a die\n",
        "3. Drawing a card from a deck\n",
        "4. Throw a coin twice\n",
        "5. Throw two dice"
      ]
    },
    {
      "cell_type": "code",
      "execution_count": 2,
      "metadata": {
        "colab": {
          "base_uri": "https://localhost:8080/"
        },
        "id": "1iCQe1qDBOac",
        "outputId": "b0ba4349-c473-4f2d-9fd4-9df90af1b65a"
      },
      "outputs": [
        {
          "output_type": "execute_result",
          "data": {
            "text/plain": [
              "(['Heads', 'Tails'],\n",
              " [1, 2, 3, 4, 5, 6],\n",
              " ['2 of Hearts', '2 of Diamonds', '2 of Clubs', '2 of Spades', '3 of Hearts'],\n",
              " [('Heads', 'Heads'),\n",
              "  ('Heads', 'Tails'),\n",
              "  ('Tails', 'Heads'),\n",
              "  ('Tails', 'Tails')],\n",
              " [(1, 1), (1, 2), (1, 3), (1, 4), (1, 5)])"
            ]
          },
          "metadata": {},
          "execution_count": 2
        }
      ],
      "source": [
        "# Sample space examples in Python\n",
        "sample_space_coin = ['Heads', 'Tails']\n",
        "sample_space_die = [1, 2, 3, 4, 5, 6]\n",
        "sample_space_card = [f'{rank} of {suit}' for rank in ('2', '3', '4', '5', '6', '7', '8', '9', '10', 'Jack', 'Queen', 'King', 'Ace') for suit in ('Hearts', 'Diamonds', 'Clubs', 'Spades')]\n",
        "sample_space_coin_twice = [(a, b) for a in sample_space_coin for b in sample_space_coin]\n",
        "sample_space_two_dice = [(a, b) for a in sample_space_die for b in sample_space_die]\n",
        "\n",
        "sample_space_coin, sample_space_die, sample_space_card[:5], sample_space_coin_twice, sample_space_two_dice[:5]\n",
        "\n"
      ]
    },
    {
      "cell_type": "code",
      "source": [
        "assert sample_space_coin == ['Heads', 'Tails']\n",
        "assert sample_space_die == [1, 2, 3, 4, 5, 6]\n",
        "assert sample_space_card[:5] == ['2 of Hearts', '3 of Hearts', '4 of Hearts', '5 of Hearts', '6 of Hearts']\n",
        "assert sample_space_coin_twice == [('Heads', 'Heads'), ('Heads', 'Tails'), ('Tails', 'Heads'), ('Tails', 'Tails')]\n",
        "assert sample_space_two_dice[:5] == [(1, 1), (1, 2), (1, 3), (1, 4), (1, 5)]"
      ],
      "metadata": {
        "id": "r7pC4uU-9X5r"
      },
      "execution_count": null,
      "outputs": []
    },
    {
      "cell_type": "markdown",
      "metadata": {
        "id": "alVSmLZhBOad"
      },
      "source": [
        "## EXERCISE 2: What is the formula for the 'frequentist' probability of an event?\n",
        "The frequentist probability of an event is given by the formula:\n",
        "$$P(E) = \\frac{\\text{Number of favorable outcomes}}{\\text{Total number of outcomes in the sample space}}$$\n"
      ]
    },
    {
      "cell_type": "markdown",
      "metadata": {
        "id": "RgXnSmsmBOad"
      },
      "source": [
        "## EXERCISE 3: On a six-sided die, each side has a number between 1 and 6. What is the probability of throwing 3 or 5?\n"
      ]
    },
    {
      "cell_type": "code",
      "execution_count": 4,
      "metadata": {
        "id": "NQpx8wBUBOad",
        "outputId": "e13ea04d-2b0a-417d-87f3-e299509cac0c",
        "colab": {
          "base_uri": "https://localhost:8080/"
        }
      },
      "outputs": [
        {
          "output_type": "execute_result",
          "data": {
            "text/plain": [
              "0.3333333333333333"
            ]
          },
          "metadata": {},
          "execution_count": 4
        }
      ],
      "source": [
        "# Probability of throwing 3 or 5 on a six-sided die\n",
        "def frequentist_probability(event_outcomes, sample_space):\n",
        "    return len(event_outcomes) / len(sample_space)\n",
        "\n",
        "prob_3_or_5 = frequentist_probability([3, 5], sample_space_die)\n",
        "prob_3_or_5\n",
        "\n"
      ]
    },
    {
      "cell_type": "markdown",
      "metadata": {
        "id": "iCs3oFHsBOad"
      },
      "source": [
        "## EXERCISE 4: On a six-sided die each side has a number between 1 and 6. What is the probability of throwing a number between 3 and 5?"
      ]
    },
    {
      "cell_type": "code",
      "execution_count": 5,
      "metadata": {
        "colab": {
          "base_uri": "https://localhost:8080/"
        },
        "id": "uwaXaOMx5LXk",
        "outputId": "aa384e20-7db0-4ae5-e964-4167a835f917"
      },
      "outputs": [
        {
          "output_type": "execute_result",
          "data": {
            "text/plain": [
              "0.5"
            ]
          },
          "metadata": {},
          "execution_count": 5
        }
      ],
      "source": [
        "# Probability of throwing a number between 3 and 5 on a six-sided die\n",
        "def frequentist_probability(event_outcomes, sample_space):\n",
        "    return len(event_outcomes) / len(sample_space)\n",
        "\n",
        "prob_between_3_and_5 = frequentist_probability([3, 4, 5], sample_space_die)\n",
        "prob_between_3_and_5\n",
        "\n"
      ]
    },
    {
      "cell_type": "markdown",
      "metadata": {
        "id": "Hv_evb1RBOae"
      },
      "source": [
        "**Probability Density Function(PDF):**\n",
        "## EXERCISE 5: For a continuous random variable X, the probability distribution is described by the probability density function p(x). List the properties of the probability density function.\n",
        "1. $p(x) \\geq 0$ for all $x$\n",
        "2. $\\int_{-\\infty}^{\\infty} p(x) dx = 1$\n",
        "3. $P(a \\leq X \\leq b) = \\int_{a}^{b} p(x) dx$\n"
      ]
    },
    {
      "cell_type": "markdown",
      "metadata": {
        "id": "Q5qpAuzGBOae"
      },
      "source": [
        "**Probability Mass Function(PMF):**\n",
        "## EXERCISE 6: For a discrete random variable X, the probability distribution is described by the probability mass function p(x). List the properties of the probability mass function.\n",
        "1. $p(x) \\geq 0$ for all $x$\n",
        "2. $\\sum_{x} p(x) = 1$\n",
        "3. $P(X = x) = p(x)$"
      ]
    },
    {
      "cell_type": "markdown",
      "metadata": {
        "id": "yS6r4Us5BOae"
      },
      "source": [
        "## **Expected value and variance**\n",
        "\n",
        "---\n",
        "\n",
        "\n",
        "  - if x is a discret random variable with probability mass function *p(x)* the mean is :\n",
        "$$E(X) = \\sum X p(x) $$\n",
        "\n",
        "  - if x is a continuous random variable with probability density function *p(x)* the mean is :\n",
        "$$E(X) = \\int_{-\\infty}^{\\infty} X p(x) d(x)$$\n",
        "\n",
        "\n",
        "## EXERCISE 7: What is the formula for the variance?\n",
        "The variance of a random variable $X$ is given by:\n",
        "$$Var(X) = E[(X - E[X])^2]$$\n",
        "For a discrete random variable:\n",
        "$$Var(X) = \\sum_{x} (x - E[X])^2 p(x)$$\n",
        "For a continuous random variable:\n",
        "$$Var(X) = \\int_{-\\infty}^{\\infty} (x - E[X])^2 p(x) dx$$\n",
        "\n",
        "\n"
      ]
    },
    {
      "cell_type": "markdown",
      "metadata": {
        "id": "LkKqHLDEBOae"
      },
      "source": [
        "## EXERCISE 8: The random variable X gives us the number of passengers (excluding a driver) per car in rush hour traffic.\n",
        "Given probabilities for task 8:\n",
        "\n",
        "| x       | 0   | 1   | 2  | 3  | 4  |\n",
        "|---------|-----|-----|----|----|----|\n",
        "| P(X=x)  | 0.7 | p2  | 0.1|0.05|0.05|\n",
        "\n",
        "Find:\n",
        "1. $p_2$\n",
        "2. Expected value of X\n",
        "3. Variance of X"
      ]
    },
    {
      "cell_type": "code",
      "execution_count": 8,
      "metadata": {
        "id": "VDoVBiAwBOaf",
        "outputId": "78b8caa7-17c2-4e44-92c6-bf31438c0ecb",
        "colab": {
          "base_uri": "https://localhost:8080/"
        }
      },
      "outputs": [
        {
          "output_type": "execute_result",
          "data": {
            "text/plain": [
              "(0.09999999999999998, 0.65, 1.3275000000000001)"
            ]
          },
          "metadata": {},
          "execution_count": 8
        }
      ],
      "source": [
        "import numpy as np\n",
        "\n",
        "# Given probabilities for task 8\n",
        "p_x = [0.7, 'p2', 0.1, 0.05, 0.05]\n",
        "values_x = [0, 1, 2, 3, 4]\n",
        "\n",
        "# Assuming p2 can be found as the remaining probability\n",
        "p2 = 1 - (0.7 + 0.1 + 0.05 + 0.05)\n",
        "p_x[1] = p2\n",
        "\n",
        "# Expected value\n",
        "expected_value = sum([p * x for p, x in zip(p_x, values_x)])\n",
        "\n",
        "# Variance calculation\n",
        "variance = sum([p * (x - expected_value)**2 for p, x in zip(p_x, values_x)])\n",
        "\n",
        "p2, expected_value, variance\n",
        "\n"
      ]
    },
    {
      "cell_type": "code",
      "source": [
        "# Assert statement for Exercise 8\n",
        "assert isinstance(expected_value, float) and isinstance(variance, float), 'Expected value and variance should be floats'"
      ],
      "metadata": {
        "id": "rqcMEhx4_GNS"
      },
      "execution_count": 22,
      "outputs": []
    },
    {
      "cell_type": "markdown",
      "metadata": {
        "id": "aJJbBi2DBOaf"
      },
      "source": [
        "## EXERCISE 9: Let the random variable X have a CDF F(x) which is:\n",
        "- 0 when x<0;\n",
        "- $kx^2$ when $0 \\leq x \\leq 3/4$;\n",
        "- 1 when x>3/4.\n",
        "\n",
        "Find:\n",
        "1. k;\n",
        "2. PDF;\n",
        "3. Expected value of X."
      ]
    },
    {
      "cell_type": "code",
      "execution_count": 20,
      "metadata": {
        "id": "6J5yMHyEBOaf",
        "outputId": "ae485b5e-9ff0-413a-a2eb-f7fdef4d5bb0",
        "colab": {
          "base_uri": "https://localhost:8080/"
        }
      },
      "outputs": [
        {
          "output_type": "execute_result",
          "data": {
            "text/plain": [
              "(1.7777777777777777, 0.5)"
            ]
          },
          "metadata": {},
          "execution_count": 20
        }
      ],
      "source": [
        "# Task 9 Solution\n",
        "# Finding k such that F(3/4) = 1\n",
        "k = 1 / (3/4)**2\n",
        "\n",
        "# PDF is the derivative of the CDF\n",
        "def pdf(x):\n",
        "    if 0 <= x <= 3/4:\n",
        "        return 2 * k * x  # PDF is correct\n",
        "    else:\n",
        "        return 0\n",
        "\n",
        "# Expected value\n",
        "from scipy.integrate import quad\n",
        "\n",
        "# Integration bounds should cover the entire support of the distribution\n",
        "expected_value, _ = quad(lambda x: x * pdf(x), 0, 3/4)\n",
        "\n",
        "k, expected_value\n"
      ]
    },
    {
      "cell_type": "code",
      "source": [
        "assert np.isclose(k, 16/9)\n",
        "assert np.isclose(expected_value, 1/2)\n"
      ],
      "metadata": {
        "id": "QhEZWw5Q_Yvn"
      },
      "execution_count": 21,
      "outputs": []
    },
    {
      "cell_type": "code",
      "source": [],
      "metadata": {
        "id": "u-kFRgme_dHR"
      },
      "execution_count": null,
      "outputs": []
    }
  ],
  "metadata": {
    "colab": {
      "provenance": []
    },
    "kernelspec": {
      "display_name": "Python 3",
      "name": "python3"
    },
    "language_info": {
      "name": "python"
    }
  },
  "nbformat": 4,
  "nbformat_minor": 0
}