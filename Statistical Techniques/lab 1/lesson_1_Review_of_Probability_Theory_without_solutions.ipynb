{
  "cells": [
    {
      "cell_type": "markdown",
      "metadata": {
        "id": "DpgWiS4QBOab"
      },
      "source": [
        "#Lesson 1. Review of Probability Theory\n",
        "In this lab, we will review some fundamental concepts of probability and statistics and solve a few tasks using Python."
      ]
    },
    {
      "cell_type": "markdown",
      "metadata": {
        "id": "2uGplPxZBOac"
      },
      "source": [
        "- Review of Probability Theory\n",
        "- Random variables\n",
        "- Probability density function\n",
        "- Expected value\n",
        "- short introduction to Statistics\n",
        "\n"
      ]
    },
    {
      "cell_type": "markdown",
      "metadata": {
        "id": "iEX7gvaOBOac"
      },
      "source": [
        "## **Review of Probability Theory**\n",
        "\n",
        "---\n",
        "\n",
        "\n",
        "## Sample Space :\n",
        "  called sample description space, possibility space, or outcome space of an experiment or random trial is the set of all possible outcomes or results of that experiment.\n",
        "### Outcome: A result of a random experiment.\n",
        "### Sample Space: The set of all possible outcomes.\n",
        "### Event: A subset of the sample space.\n",
        "\n",
        "![Sample Space](https://euclides.org/wp-content/uploads/2021/12/ss.svg)"
      ]
    },
    {
      "cell_type": "markdown",
      "metadata": {
        "id": "O29RZ3N0BOac"
      },
      "source": [
        "## EXERCISE 1:\n",
        "Complete the following code. Write down the sample space for each experiment below:\n",
        "1. Tossing a coin\n",
        "2. Rolling a die\n",
        "3. Drawing a card from a deck\n",
        "4. Throw a coin twice\n",
        "5. Throw two dice\n",
        "\n"
      ]
    },
    {
      "cell_type": "code",
      "execution_count": null,
      "metadata": {
        "id": "1iCQe1qDBOac"
      },
      "outputs": [],
      "source": [
        "# Sample space examples in Python:\n",
        "sample_space_coin =  ...............\n",
        "sample_space_die = .................\n",
        "sample_space_card = ...............\n",
        "sample_space_coin_twice = ........................\n",
        "sample_space_two_dice = ..................................\n",
        "\n",
        "\n",
        "sample_space_coin, sample_space_die, sample_space_card[:5], sample_space_coin_twice, sample_space_two_dice[:5]"
      ]
    },
    {
      "cell_type": "code",
      "source": [
        "assert sample_space_coin == ['Heads', 'Tails']\n",
        "assert sample_space_die == [1, 2, 3, 4, 5, 6]\n",
        "assert sample_space_card[:5] == ['2 of Hearts', '3 of Hearts', '4 of Hearts', '5 of Hearts', '6 of Hearts']\n",
        "assert sample_space_coin_twice == [('Heads', 'Heads'), ('Heads', 'Tails'), ('Tails', 'Heads'), ('Tails', 'Tails')]\n",
        "assert sample_space_two_dice[:5] == [(1, 1), (1, 2), (1, 3), (1, 4), (1, 5)]"
      ],
      "metadata": {
        "id": "r7pC4uU-9X5r"
      },
      "execution_count": null,
      "outputs": []
    },
    {
      "cell_type": "markdown",
      "metadata": {
        "id": "alVSmLZhBOad"
      },
      "source": [
        "## EXERCISE 2:\n",
        "What is the formula for the 'frequentist' probability of an event?\n",
        "\n",
        "\n"
      ]
    },
    {
      "cell_type": "markdown",
      "metadata": {
        "id": "RgXnSmsmBOad"
      },
      "source": [
        "## EXERCISE 3:\n",
        "Complete the following code. On a six-sided die, each side has a number between 1 and 6. What is the probability of throwing 3 or 5?\n",
        "\n"
      ]
    },
    {
      "cell_type": "code",
      "execution_count": null,
      "metadata": {
        "id": "NQpx8wBUBOad"
      },
      "outputs": [],
      "source": [
        "# Probability of throwing 3 or 5 on a six-sided die\n",
        "def frequentist_probability(event_outcomes, sample_space):\n",
        "    return ...............\n",
        "\n",
        "prob_3_or_5 = ...............................\n",
        "prob_3_or_5\n",
        "\n"
      ]
    },
    {
      "cell_type": "code",
      "source": [
        "assert prob_3_or_5 == 2/6"
      ],
      "metadata": {
        "id": "dmtwOCn09tTm"
      },
      "execution_count": null,
      "outputs": []
    },
    {
      "cell_type": "markdown",
      "metadata": {
        "id": "iCs3oFHsBOad"
      },
      "source": [
        "## EXERCISE 4:\n",
        "Complete the following code. On a six-sided die each side has a number between 1 and 6. What is the probability of throwing a number between 3 and 5?\n",
        "\n",
        "\n"
      ]
    },
    {
      "cell_type": "code",
      "source": [
        "# Probability of throwing a number between 3 and 5 on a six-sided die\n",
        "\n",
        "\n",
        "# Your code here\n",
        "\n",
        "prob_between_3_and_5 = frequentist_probability([3, 4, 5], sample_space_die)\n",
        "prob_between_3_and_5\n",
        "\n"
      ],
      "metadata": {
        "id": "uwaXaOMx5LXk"
      },
      "execution_count": null,
      "outputs": []
    },
    {
      "cell_type": "code",
      "source": [
        "assert prob_between_3_and_5 == 3/6"
      ],
      "metadata": {
        "id": "irEvYgur-4XG"
      },
      "execution_count": null,
      "outputs": []
    },
    {
      "cell_type": "markdown",
      "metadata": {
        "id": "WO9BiYVMBOae"
      },
      "source": [
        "## **Random Variables**\n",
        "\n",
        "---\n",
        "\n",
        "\n",
        "### Discrete and Continuous Random Variables :\n",
        "\n",
        "*   Continuous Random Variables\n",
        "\n",
        "\n",
        "    *   PDF (Probability Density Function)\n",
        "    *   CDF (Cumulative Distribution Function)\n",
        "\n",
        "\n",
        "*   Discrete Random Variables\n",
        "\n",
        "\n",
        "    *   PMF (Probability Mass Function)\n",
        "    *   CDF (Cumulative Distribution Function)\n",
        "\n",
        "\n",
        "\n",
        "\n",
        "\n",
        "![Random variables](https://velog.velcdn.com/images%2Fclaude_ssim%2Fpost%2Fe36c8adb-ebfa-4670-8464-e04a27f2c68e%2Fimage.png)"
      ]
    },
    {
      "cell_type": "markdown",
      "metadata": {
        "id": "Hv_evb1RBOae"
      },
      "source": [
        "**Probability Density Function(PDF):**\n",
        "## EXERCISE 5:\n",
        "For a continuous random variable X, the probability distribution is described by the probability density function p(x). List the properties of the probability density function.\n",
        "\n"
      ]
    },
    {
      "cell_type": "markdown",
      "metadata": {
        "id": "Q5qpAuzGBOae"
      },
      "source": [
        "**Probability Mass Function(PMF):**\n",
        "\n",
        "##EXERCISE 6:\n",
        "For a discrete random variable X, the probability distribution is described by the probability mass function p(x). List the properties of the probability mass function.\n"
      ]
    },
    {
      "cell_type": "markdown",
      "metadata": {
        "id": "328WN_yDBOae"
      },
      "source": [
        "##**Cumulative Distribution Function (CDF):**\n",
        "\n",
        "\n",
        "*   For a discrete random variablest item\n",
        "$$F(x) = P[X\\leq x] = \\sum_{u \\leq x} p(u)$$\n",
        "*   For a continuous random variable\n",
        "$$F(x) = P[X\\leq x] = \\int_{-\\infty}^{x} p(u) du$$\n",
        "\n",
        "\n",
        "\n"
      ]
    },
    {
      "cell_type": "markdown",
      "metadata": {
        "id": "yS6r4Us5BOae"
      },
      "source": [
        "## **Expected value and variance**\n",
        "\n",
        "---\n",
        "\n",
        "\n",
        "  - if x is a discret random variable with probability mass function *p(x)* the mean is :\n",
        "$$E(X) = \\sum X p(x) $$\n",
        "\n",
        "  - if x is a continuous random variable with probability density function *p(x)* the mean is :\n",
        "$$E(X) = \\int_{-\\infty}^{\\infty} X p(x) d(x)$$\n",
        "\n",
        "\n",
        "## EXERCISE 7:\n",
        "\n",
        "What is the formula for the variance?\n",
        "\n",
        "\n",
        "\n"
      ]
    },
    {
      "cell_type": "markdown",
      "metadata": {
        "id": "LkKqHLDEBOae"
      },
      "source": [
        "## EXERCISE 8:\n",
        "Complete the following code. The random variable X gives us the number of passengers (excluding a driver) per car in rush hour traffic.\n",
        "Given probabilities for task 8:\n",
        "\n",
        "| x       | 0   | 1   | 2  | 3  | 4  |\n",
        "|---------|-----|-----|----|----|----|\n",
        "| P(X=x)  | 0.7 | p2  | 0.1|0.05|0.05|\n",
        "\n",
        "Find:\n",
        "1. $p_2$\n",
        "2. Expected value of X\n",
        "3. Variance of X\n",
        "\n"
      ]
    },
    {
      "cell_type": "code",
      "execution_count": null,
      "metadata": {
        "id": "VDoVBiAwBOaf"
      },
      "outputs": [],
      "source": [
        "import numpy as np\n",
        "\n",
        "# Given probabilities\n",
        "p_x = [0.7, 'p2', 0.1, 0.05, 0.05]\n",
        "values_x = [0, 1, 2, 3, 4]\n",
        "\n",
        "# Assuming p2 can be found as the remaining probability\n",
        "\n",
        "   # Your code here\n",
        "\n",
        "# Expected value\n",
        "\n",
        "  # Your code here\n",
        "\n",
        "# Variance calculation\n",
        "\n",
        "  # Your code here\n",
        "\n",
        "p2, expected_value, variance"
      ]
    },
    {
      "cell_type": "code",
      "source": [
        "# Assert statement for Exercise 8\n",
        "assert isinstance(expected_value, float) and isinstance(variance, float), 'Expected value and variance should be floats'"
      ],
      "metadata": {
        "id": "rqcMEhx4_GNS"
      },
      "execution_count": null,
      "outputs": []
    },
    {
      "cell_type": "markdown",
      "metadata": {
        "id": "aJJbBi2DBOaf"
      },
      "source": [
        "## EXERCISE 9:\n",
        "Complete the following code. Let the random variable X have a CDF F(x) which is:\n",
        "- 0 when x<0;\n",
        "- $kx^2$ when $0 \\leq x \\leq 3/4$;\n",
        "- 1 when x>3/4.\n",
        "\n",
        "Find:\n",
        "1. k;\n",
        "2. PDF;\n",
        "3. Expected value of X.\n",
        "\n",
        "\n"
      ]
    },
    {
      "cell_type": "code",
      "execution_count": null,
      "metadata": {
        "id": "6J5yMHyEBOaf"
      },
      "outputs": [],
      "source": [
        "# Task 9 Solution\n",
        "\n",
        "from scipy.integrate import quad\n",
        "\n",
        "# Finding k such that F(3/4) = 1\n",
        " k = # Your code here\n",
        "\n",
        "# PDF is the derivative of the CDF\n",
        "def pdf(x):\n",
        "    if\n",
        "        # Your code here\n",
        "    else:\n",
        "        return 0\n",
        "\n",
        "# Expected value\n",
        "       # Your code here\n",
        "\n",
        "expected_value, _ = quad(lambda x: x * pdf(x), 0, 3/4)\n",
        "\n",
        "k, expected_value"
      ]
    },
    {
      "cell_type": "code",
      "source": [
        "assert np.isclose(k, 16/9)\n",
        "assert np.isclose(expected_value, 1/2)\n"
      ],
      "metadata": {
        "id": "QhEZWw5Q_Yvn"
      },
      "execution_count": null,
      "outputs": []
    },
    {
      "cell_type": "markdown",
      "metadata": {
        "id": "QGSBGG5iBOaf"
      },
      "source": [
        "## **Introduction to Statistics**\n",
        "\n",
        "---\n",
        "\n",
        "\n",
        "- A population is the entire collection of objects or outcomes about which information is sought.\n",
        "- A sample is a subset of a population containing the objects or outcomes that are actually observed.\n",
        "\n",
        "![Introduction to Statistics](https://media.licdn.com/dms/image/D4D22AQF06H764m_deQ/feedshare-shrink_800/0/1693732381778?e=2147483647&v=beta&t=6Ua31PI2Lz789_ohvfqz9JIZ91vjTZ4vV8XmFgM45eg)"
      ]
    },
    {
      "cell_type": "markdown",
      "metadata": {
        "id": "PZ9I1DigBOaf"
      },
      "source": [
        "## Let's have some practice in Python\n",
        "https://drive.google.com/file/d/1tXfOSbIkmPNlLebQcLqS2ropll0jcvj0/view?usp=sharing"
      ]
    },
    {
      "cell_type": "markdown",
      "metadata": {
        "id": "k1jwVcU5BOaf"
      },
      "source": [
        "\n",
        "## Conclusion\n",
        "\n",
        "In this lab, we have reviewed fundamental concepts of probability and statistics, including random variables, probability density functions, and expected values. These concepts form the basis for more advanced topics in statistical analysis and machine learning.\n",
        "\n",
        "Remember to practice these concepts by solving additional problems and exploring resources beyond this lab.\n"
      ]
    },
    {
      "cell_type": "markdown",
      "metadata": {
        "id": "VSs4lYHjxJpp"
      },
      "source": [
        "In this lab, we have reviewed fundamental concepts of probability and statistics, including random variables, probability distributions, and important functions like the Probability Mass Function (PMF), Probability Density Function (PDF), and Cumulative Distribution Function (CDF). Through various tasks, we have practiced calculating sample spaces, determining probabilities using the frequentist approach, and computing expected values and variances for both discrete and continuous random variables.\n",
        "\n",
        "\n",
        "\n",
        "**Thank you for your participation and hard work in this lab!**"
      ]
    }
  ],
  "metadata": {
    "colab": {
      "provenance": []
    },
    "kernelspec": {
      "display_name": "Python 3",
      "language": "python",
      "name": "python3"
    },
    "language_info": {
      "codemirror_mode": {
        "name": "ipython",
        "version": 3
      },
      "file_extension": ".py",
      "mimetype": "text/x-python",
      "name": "python",
      "nbconvert_exporter": "python",
      "pygments_lexer": "ipython3",
      "version": "3.7.12"
    }
  },
  "nbformat": 4,
  "nbformat_minor": 0
}