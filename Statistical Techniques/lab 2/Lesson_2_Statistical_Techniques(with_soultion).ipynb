{
  "nbformat": 4,
  "nbformat_minor": 0,
  "metadata": {
    "colab": {
      "provenance": []
    },
    "kernelspec": {
      "name": "python3",
      "display_name": "Python 3"
    },
    "language_info": {
      "name": "python"
    }
  },
  "cells": [
    {
      "cell_type": "markdown",
      "metadata": {
        "id": "eKiyQGqaSYti"
      },
      "source": [
        "## **Maximum Likelihood Estimation (MLE)**"
      ]
    },
    {
      "cell_type": "markdown",
      "metadata": {
        "id": "f469a4db"
      },
      "source": [
        "Maximum Likelihood Estimation (MLE) is a method used to estimate the parameters of a given distribution. In this notebook, we will demonstrate how to use MLE to estimate the mean $(\\mu)$ and standard deviation $(\\sigma)$ of a normal distribution."
      ]
    },
    {
      "cell_type": "markdown",
      "metadata": {
        "id": "189060ff"
      },
      "source": [
        "## EXERCISE 1:\n",
        "## Algorithm for MLE with Normal Distribution\n",
        "1. **Write the PDF (Probability Density Function)**:\n",
        "   $$f(x|\\mu, \\sigma) = \\frac{1}{\\sqrt{2\\pi\\sigma^2}} \\exp\\left(-\\frac{(x - \\mu)^2}{2\\sigma^2}\\right)$$\n",
        "2. **Write the likelihood function** (the product of the PDF for the observed values):\n",
        "   $$L(\\mu, \\sigma) = \\prod_{i=1}^n \\frac{1}{\\sqrt{2\\pi\\sigma^2}} \\exp\\left(-\\frac{(x_i - \\mu)^2}{2\\sigma^2}\\right) $$\n",
        "3. **Write the log likelihood function**:\n",
        "   $$ \\ell(\\mu, \\sigma) = \\ln L(\\mu, \\sigma) = \\sum_{i=1}^n \\left[ -\\ln(\\sqrt{2\\pi\\sigma^2}) - \\frac{(x_i - \\mu)^2}{2\\sigma^2} \\right] $$\n",
        "4. **Calculate the derivative of the log likelihood function with respect to the parameters**:\n",
        "\n",
        "   For $(\\mu)$:\n",
        "   $$ \\frac{\\partial \\ell}{\\partial \\mu} = - \\frac{1}{\\sigma^2} \\sum_{i=1}^n (x_i - \\mu) $$\n",
        "   For $(\\sigma)$:\n",
        "   $$\\frac{\\partial \\ell}{\\partial \\sigma} = - \\frac{n}{\\sigma} + \\frac{1}{\\sigma^3} \\sum_{i=1}^n (x_i - \\mu)^2 $$\n",
        "5. **Set the derivative equal to zero and solve for the parameters**:\n",
        "   Solving for $(\\mu)$:\n",
        "   $$ \\mu = \\frac{1}{n} \\sum_{i=1}^n x_i $$\n",
        "   Solving for$(\\sigma^2)$:\n",
        "   $$ \\sigma^2 = \\frac{1}{n} \\sum_{i=1}^n (x_i - \\mu)^2 $$"
      ]
    },
    {
      "cell_type": "markdown",
      "metadata": {
        "id": "c0etPCt4DU03"
      },
      "source": [
        "## **Markov and Chebyshev Inequalities**\n",
        "\n",
        "\n",
        "\n",
        "##EXERCISE 2:\n",
        "\n",
        "1. What are $E[X]$, $\\mu$, $\\sigma$?\n",
        "\n",
        "- $E[X]$: The expected value (mean) of the random variable $X$.\n",
        "- $\\mu$: Another notation for the expected value (mean) of $X$.\n",
        "- $\\sigma$: The standard deviation of $X$, which measures the spread or dispersion of the random variable around its mean.\n",
        "\n",
        "\n",
        "2. What do these formulas represent?"
      ]
    },
    {
      "cell_type": "markdown",
      "metadata": {
        "id": "1ad58cf9"
      },
      "source": [
        "## Markov Inequality\n",
        "Markov's Inequality provides an upper bound for the probability that a non-negative random variable exceeds a certain value. Formally, if $X$ is a non-negative random variable and $a > 0$"
      ]
    },
    {
      "cell_type": "markdown",
      "metadata": {
        "id": "e5e94b3c"
      },
      "source": [
        "## Chebyshev Inequality\n",
        "Chebyshev's Inequality provides a bound on the probability that the value of a random variable deviates from its mean. For any random variable $X$ with mean $\\mu$ and standard deviation $\\sigma$, and for any $k > 0$"
      ]
    },
    {
      "cell_type": "markdown",
      "metadata": {
        "id": "B0szWZfsDU03"
      },
      "source": [
        "## Sampling Distribution:\n",
        "\n",
        "\n",
        "\n"
      ]
    },
    {
      "cell_type": "markdown",
      "source": [
        "###EXERCISE 3:\n",
        "If the standard deviation of the mean for the sampling distribution of random samples of size 36 from a large or infinite population is 2, how large must the sample size become if the standard deviation is to be reduced to 1.2?"
      ],
      "metadata": {
        "id": "U-yoxx8_AjIA"
      }
    },
    {
      "cell_type": "code",
      "execution_count": 7,
      "metadata": {
        "id": "fBVOC0ZZDU03",
        "outputId": "e86285c1-918d-4371-a495-9b81b1dbf4f2",
        "colab": {
          "base_uri": "https://localhost:8080/"
        }
      },
      "outputs": [
        {
          "output_type": "stream",
          "name": "stdout",
          "text": [
            "100\n"
          ]
        }
      ],
      "source": [
        "# Solution to exercise 3\n",
        "import math\n",
        "\n",
        "sigma_old = 2\n",
        "n_old = 36\n",
        "sigma_new = 1.2\n",
        "\n",
        "n_new = (sigma_old / sigma_new)**2 * n_old\n",
        "\n",
        "# Round the new sample size to the nearest integer\n",
        "n_new = round(n_new)  # Round to the nearest integer\n",
        "\n",
        "print(n_new)"
      ]
    },
    {
      "cell_type": "code",
      "source": [
        "# Assert that the new sample size is an integer\n",
        "assert int(n_new) == n_new, \"The new sample size must be an integer.\"\n",
        "\n"
      ],
      "metadata": {
        "id": "f4B4LIlLCqFq"
      },
      "execution_count": 8,
      "outputs": []
    },
    {
      "cell_type": "markdown",
      "source": [
        "###EXERCISE 4:\n",
        "The heights of 1000 students are approximately normally distributed with a mean of 174.5 centimeters and a standard deviation of 6.9 centimeters. Suppose 200 random samples of size 25 are drawn from this population and the means recorded to the nearest tenth of a centimeter. Determine the mean and standard deviation of the sampling distribution."
      ],
      "metadata": {
        "id": "cTmXB5mJ1VB1"
      }
    },
    {
      "cell_type": "code",
      "execution_count": 10,
      "metadata": {
        "id": "rLxMc5zYDU04",
        "outputId": "092c3ffe-58c9-4e66-de1f-4694b14fcf1a",
        "colab": {
          "base_uri": "https://localhost:8080/"
        }
      },
      "outputs": [
        {
          "output_type": "execute_result",
          "data": {
            "text/plain": [
              "(174.5, 1.3800000000000001)"
            ]
          },
          "metadata": {},
          "execution_count": 10
        }
      ],
      "source": [
        "# Solution to Task 4\n",
        "mean_population = 174.5\n",
        "std_population = 6.9\n",
        "sample_size = 25\n",
        "\n",
        "mean_sampling_distribution = mean_population\n",
        "std_sampling_distribution = std_population / math.sqrt(sample_size)\n",
        "\n",
        "mean_sampling_distribution, std_sampling_distribution"
      ]
    },
    {
      "cell_type": "code",
      "source": [
        "assert mean_sampling_distribution == mean_population, \"Mean of sampling distribution should equal population mean\"\n",
        "\n",
        "calculated_std_dev = std_population / math.sqrt(sample_size)\n",
        "assert abs(std_sampling_distribution - calculated_std_dev) < 1e-10, \"Standard deviation calculation is incorrect\""
      ],
      "metadata": {
        "id": "lWKGpeY8DaxQ"
      },
      "execution_count": 11,
      "outputs": []
    },
    {
      "cell_type": "markdown",
      "metadata": {
        "id": "Gf6_AZP5DU04"
      },
      "source": [
        "## Statistic:\n",
        "\n",
        "\n"
      ]
    },
    {
      "cell_type": "markdown",
      "source": [
        "###EXERCISE 5:\n",
        "Which statistic describes the data better?\n",
        "\n",
        "The lengths of time, in minutes, that 10 patients waited in a doctor’s office before receiving treatment were recorded as follows: 5, 11, 9, 5, 10, 15, 6, 10, 5, and 10. Treating the data as a random sample, find:\n",
        "1. The mean;\n",
        "2. The median;\n",
        "3. The mode."
      ],
      "metadata": {
        "id": "U3dY6SuRAnWy"
      }
    },
    {
      "cell_type": "code",
      "execution_count": 28,
      "metadata": {
        "colab": {
          "base_uri": "https://localhost:8080/"
        },
        "id": "m5QkndiqDU05",
        "outputId": "39d5fa6f-b57c-4980-e447-53e68630306f"
      },
      "outputs": [
        {
          "output_type": "execute_result",
          "data": {
            "text/plain": [
              "(8.6, 9.5, 5)"
            ]
          },
          "metadata": {},
          "execution_count": 28
        }
      ],
      "source": [
        "import numpy as np\n",
        "from scipy import stats\n",
        "\n",
        "data = [5, 11, 9, 5, 10, 15, 6, 10, 5, 10]\n",
        "\n",
        "mean = np.mean(data)\n",
        "median = np.median(data)\n",
        "mode = stats.mode(data)\n",
        "\n",
        "# Extract the mode value correctly\n",
        "mode_value = mode.mode  # Remove the [0] index\n",
        "\n",
        "mean, median, mode_value  # Return the mode value instead of the ModeResult object\n",
        "\n"
      ]
    },
    {
      "cell_type": "code",
      "source": [
        "assert mean == 8.6, \"The mean should be 8.6\"\n",
        "assert median > 8, \"The median should be greater than 8\"\n",
        "assert mode_value in [5, 10], \"The mode should be either 5 or 10\" # Use mode_value for comparison\n",
        "assert mean < median, \"The mean should be less than the median\""
      ],
      "metadata": {
        "id": "dO5e27y8EQzk"
      },
      "execution_count": 30,
      "outputs": []
    },
    {
      "cell_type": "markdown",
      "metadata": {
        "id": "BX5iYM08DU05"
      },
      "source": [
        "## Markov and Chebyshev Inequalities:\n",
        "###EXERCISE 6:\n",
        "1. Suppose that the average grade on the upcoming math exam is 70%. Give an upper bound on the proportion of students who score at least 90%.\n"
      ]
    },
    {
      "cell_type": "code",
      "execution_count": 31,
      "metadata": {
        "colab": {
          "base_uri": "https://localhost:8080/"
        },
        "id": "jQuKayErDU05",
        "outputId": "882475b5-cce0-4d6e-c0ef-305d9b4988d6"
      },
      "outputs": [
        {
          "output_type": "execute_result",
          "data": {
            "text/plain": [
              "Fraction(7, 9)"
            ]
          },
          "metadata": {},
          "execution_count": 31
        }
      ],
      "source": [
        "from fractions import Fraction\n",
        "\n",
        "mean_grade = 70\n",
        "threshold_grade = 90\n",
        "\n",
        "upper_bound = Fraction(mean_grade, threshold_grade)\n",
        "upper_bound"
      ]
    },
    {
      "cell_type": "code",
      "source": [
        "assert upper_bound == Fraction(7, 9), \"The upper bound should be 7/9\""
      ],
      "metadata": {
        "id": "hhi6ZVMbGjer"
      },
      "execution_count": 32,
      "outputs": []
    },
    {
      "cell_type": "markdown",
      "source": [
        "2. If the distribution of $Y$ is $b(n; 0.25)$, give a lower bound for $P(\\frac{Y}{n} - 0.25 < 0.05)$ when $n = 100$.\n"
      ],
      "metadata": {
        "id": "bt0enMts1veb"
      }
    },
    {
      "cell_type": "code",
      "execution_count": 41,
      "metadata": {
        "colab": {
          "base_uri": "https://localhost:8080/"
        },
        "id": "gavmyi9tDU06",
        "outputId": "49735b14-965b-4f0c-a081-0370a2218cb7"
      },
      "outputs": [
        {
          "output_type": "stream",
          "name": "stdout",
          "text": [
            "2.220446049250313e-16\n"
          ]
        }
      ],
      "source": [
        "# Solution to Task 2\n",
        "n = 100\n",
        "p = 0.25\n",
        "epsilon = 0.05\n",
        "\n",
        "# The corrected formula for calculating lower_bound, ensuring correct order of operations:\n",
        "lower_bound = 1 - (1 / (4 * n * epsilon**2))\n",
        "# The assertion below is likely too strict given the formula used to calculate lower_bound\n",
        "assert lower_bound >= 0, \"The lower bound should be a positive number\"\n",
        "print(lower_bound)"
      ]
    },
    {
      "cell_type": "markdown",
      "source": [
        "3. Suppose a fair coin is flipped 100 times. Find a bound on the probability that the number of times the coin lands on heads is at least 60 or at most 40."
      ],
      "metadata": {
        "id": "ZR9k1ybI1w09"
      }
    },
    {
      "cell_type": "code",
      "execution_count": 48,
      "metadata": {
        "id": "ija4l-gCDU06",
        "outputId": "60590aae-1ee2-448e-99b4-0da640806803",
        "colab": {
          "base_uri": "https://localhost:8080/"
        }
      },
      "outputs": [
        {
          "output_type": "stream",
          "name": "stdout",
          "text": [
            "0.8986579282344431\n"
          ]
        }
      ],
      "source": [
        "import math\n",
        "\n",
        "n = 100\n",
        "p = 0.5\n",
        "\n",
        "# To calculate k correctly, we need to take the square root of the entire expression.\n",
        "k = math.sqrt(10 / (n * p * (1 - p)))\n",
        "\n",
        "# The formula for prob_bound\n",
        "prob_bound = 2 * math.exp(-2 * k**2)\n",
        "print(prob_bound)\n",
        "\n",
        "\n",
        "assert prob_bound <= 1, \"The probability bound should be less than or equal to 1\""
      ]
    },
    {
      "cell_type": "markdown",
      "metadata": {
        "id": "IcN28q-kDU06"
      },
      "source": [
        "## CLT\n",
        "###EXERCISE 7:\n",
        "If a certain machine makes electrical resistors having a mean resistance of 40 ohms and a standard deviation of 2 ohms, what is the probability that a random sample of 36 of these resistors will have a combined resistance of more than 1458 ohms?"
      ]
    },
    {
      "cell_type": "code",
      "execution_count": 49,
      "metadata": {
        "id": "-pVCO3O8DU06",
        "outputId": "c29daa9c-4ee7-466e-e182-9ce215184760",
        "colab": {
          "base_uri": "https://localhost:8080/"
        }
      },
      "outputs": [
        {
          "output_type": "execute_result",
          "data": {
            "text/plain": [
              "0.06680720126885809"
            ]
          },
          "metadata": {},
          "execution_count": 49
        }
      ],
      "source": [
        "# Solution to CLT Task\n",
        "mean_resistance = 40\n",
        "std_resistance = 2\n",
        "sample_size = 36\n",
        "threshold_resistance = 1458\n",
        "\n",
        "mean_sample_resistance = mean_resistance * sample_size\n",
        "std_sample_resistance = std_resistance * math.sqrt(sample_size)\n",
        "\n",
        "z_score = (threshold_resistance - mean_sample_resistance) / std_sample_resistance\n",
        "\n",
        "from scipy.stats import norm\n",
        "probability = 1 - norm.cdf(z_score)\n",
        "probability"
      ]
    },
    {
      "cell_type": "code",
      "source": [
        "# Adding an assertion to check if probability is a valid value\n",
        "assert 0 <= probability <= 1, \"The probability should be between 0 and 1\""
      ],
      "metadata": {
        "id": "poqXPh7WJq9K"
      },
      "execution_count": 50,
      "outputs": []
    },
    {
      "cell_type": "code",
      "source": [],
      "metadata": {
        "id": "g2pTiMCHJjRY"
      },
      "execution_count": null,
      "outputs": []
    }
  ]
}