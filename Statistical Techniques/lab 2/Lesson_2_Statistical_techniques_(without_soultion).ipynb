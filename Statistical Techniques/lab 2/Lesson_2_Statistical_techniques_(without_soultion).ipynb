{
  "cells": [
    {
      "cell_type": "markdown",
      "metadata": {
        "id": "SBNSxDEhDU01"
      },
      "source": [
        "#Lesson 2: Statistical Techniques\n",
        "In this lab, we will explore data and sampling distributions, statistics, Maximum Likelihood Estimation (MLE), Markov and Chebyshev inequalities, the Law of Large Numbers (LLN), and the Central Limit Theorem (CLT)."
      ]
    },
    {
      "cell_type": "markdown",
      "metadata": {
        "id": "y3NhdjmfDU02"
      },
      "source": [
        "\n",
        "- Data and sampling distributions\n",
        "- Statistic\n",
        "- MLE\n",
        "- Markov and Chebyshev inequalities\n",
        "- LLN\n",
        "- CLT\n",
        "\n"
      ]
    },
    {
      "cell_type": "markdown",
      "metadata": {
        "id": "Y89aquFfDU02"
      },
      "source": [
        "## **Data and Sampling Distributions**\n",
        "\n",
        "---\n",
        "\n",
        "\n",
        "- ### Data Distribution\n",
        "The distribution of the original dataset.\n",
        "\n",
        "\n",
        "- ### Sampling Distribution\n",
        "The distribution of a statistic calculated on many samples drawn from the original dataset.\n",
        "\n",
        "### Important Note:\n",
        "Sampling distribution != Sample distribution.\n",
        "\n",
        "![Data Distribution](https://miro.medium.com/v2/resize:fit:1100/format:webp/1*jC44QqrrZM2CiyAPmclwuQ.png)\n",
        "\n",
        "\n"
      ]
    },
    {
      "cell_type": "markdown",
      "metadata": {
        "id": "CKrFTPC2DU02"
      },
      "source": [
        "## **Statistic**\n",
        "\n",
        "---\n",
        "\n",
        "\n",
        "A statistic is any function of the random variables constituting a random sample (Walpole R. E. et al. Probability and Statistics for Engineers and Scientists).\n",
        "\n",
        "**Examples**: mean, median, standard deviation.\n",
        "\n",
        "- ## Sampling Distribution of the Mean\n",
        "If each $X_i$, $i = 1, \\dots, n$ has a normal distribution with mean $\\mu$ and variance $\\sigma^2$, then the sample mean $\\bar{X} = \\frac{1}{n} (X_1 + \\dots + X_n)$ has a normal distribution with mean $\\mu_X = \\mu$ and variance $\\sigma_X^2 = \\frac{\\sigma^2}{n}$.\n",
        "\n",
        "\n",
        "\n",
        "\n"
      ]
    },
    {
      "cell_type": "markdown",
      "source": [
        "## **Maximum Likelihood Estimation (MLE)**\n",
        "\n",
        "---\n",
        "\n",
        "\n",
        "MLE is a method used to estimate the parameters of a given distribution.\n",
        "### EXERCISE 1:\n",
        "\n",
        "  1. Write the PDF;\n",
        "  2. Write the likelihood function (the product of the PDF for the observed values);\n",
        "  3. Write the log likelihood function;\n",
        "  4. Calculate the derivative of the log likelihood function with respect to the parameters;\n",
        "  5. Set the derivative equal to zero and solve for the parameters."
      ],
      "metadata": {
        "id": "eKiyQGqaSYti"
      }
    },
    {
      "cell_type": "markdown",
      "metadata": {
        "id": "c0etPCt4DU03"
      },
      "source": [
        "## **Markov and Chebyshev Inequalities**\n",
        "\n",
        "---\n",
        "\n",
        "\n",
        "### Markov Inequality\n",
        "$P(X \\geq a) \\leq \\frac{E[X]}{a}$\n",
        "\n",
        "### Chebyshev Inequality\n",
        "$P(\\mu - k\\sigma < X < \\mu + k\\sigma) \\geq 1 - \\frac{1}{k^2}$\n",
        "\n"
      ]
    },
    {
      "cell_type": "markdown",
      "source": [
        "### EXERCISE 2:\n",
        "\n",
        "1. What are $E[X]$, $\\mu$, $\\sigma$?\n",
        "2. What do these formulas represent?\n",
        "\n",
        "\n",
        "\n",
        "\n"
      ],
      "metadata": {
        "id": "Nc1a3iJ4BRDA"
      }
    },
    {
      "cell_type": "markdown",
      "metadata": {
        "id": "_m7q-88dDU03"
      },
      "source": [
        "## **Law of Large Numbers (LLN)**\n",
        "\n",
        "---\n",
        "\n",
        "\n",
        "Given a collection of iid samples from a random variable with finite mean, the sample mean converges in probability to the expected value. That is, for any $\\epsilon > 0$:\n",
        "$$\\lim_{n \\to \\infty} P(|\\bar{X}_n - \\mu| < \\epsilon) = 1$$"
      ]
    },
    {
      "cell_type": "markdown",
      "metadata": {
        "id": "mFNbUPOuDU03"
      },
      "source": [
        "## **Central Limit Theorem (CLT)**\n",
        "\n",
        "---\n",
        "\n",
        "\n",
        "If $\\bar{X}$ is the mean of a random sample of size $n$ taken from a population with mean $\\mu$ and finite variance $\\sigma^2$, then the limiting form of the distribution of\n",
        "$$Z = \\frac{\\bar{X} - \\mu}{\\sigma / \\sqrt{n}}$$\n",
        "as $n \\to \\infty$, is the standard normal distribution $N(z; 0, 1)$."
      ]
    },
    {
      "cell_type": "markdown",
      "metadata": {
        "id": "B0szWZfsDU03"
      },
      "source": [
        "## Sampling Distribution: Tasks\n",
        "\n",
        "##EXERCISE 3:\n",
        "Complete the following code.If the standard deviation of the mean for the sampling distribution of random samples of size 36 from a large or infinite population is 2, how large must the sample size become if the standard deviation is to be reduced to 1.2?\n",
        "\n"
      ]
    },
    {
      "cell_type": "code",
      "source": [
        "import math\n",
        "\n",
        "sigma_old = 2\n",
        "n_old = 36\n",
        "sigma_new = 1.2\n",
        "\n",
        "n_new = ................................\n",
        "\n",
        "# Round the new sample size to the nearest integer\n",
        "n_new = .................\n",
        "\n",
        "print(n_new)"
      ],
      "metadata": {
        "id": "OsymGX679gIZ"
      },
      "execution_count": null,
      "outputs": []
    },
    {
      "cell_type": "code",
      "source": [
        "\n",
        "assert int(n_new) == n_new, \"The new sample size must be an integer.\""
      ],
      "metadata": {
        "id": "f4B4LIlLCqFq"
      },
      "execution_count": null,
      "outputs": []
    },
    {
      "cell_type": "markdown",
      "source": [
        "##EXERCISE 4:\n",
        "Complete the following code. The heights of 1000 students are approximately normally distributed with a mean of 174.5 centimeters and a standard deviation of 6.9 centimeters. Suppose 200 random samples of size 25 are drawn from this population and the means recorded to the nearest tenth of a centimeter. Determine the mean and standard deviation of the sampling distribution."
      ],
      "metadata": {
        "id": "-j02nLJZ9kuR"
      }
    },
    {
      "cell_type": "code",
      "execution_count": null,
      "metadata": {
        "id": "rLxMc5zYDU04"
      },
      "outputs": [],
      "source": [
        "mean_population = 174.5\n",
        "std_population = 6.9\n",
        "sample_size = 25\n",
        "\n",
        "# your code here\n",
        "\n",
        "mean_sampling_distribution, std_sampling_distribution"
      ]
    },
    {
      "cell_type": "code",
      "source": [
        "assert mean_sampling_distribution == mean_population, \"Mean of sampling distribution should equal population mean\"\n",
        "\n",
        "calculated_std_dev = std_population / math.sqrt(sample_size)\n",
        "assert abs(std_sampling_distribution - calculated_std_dev) < 1e-10, \"Standard deviation calculation is incorrect\""
      ],
      "metadata": {
        "id": "pzmzFk1IDnwI"
      },
      "execution_count": null,
      "outputs": []
    },
    {
      "cell_type": "markdown",
      "metadata": {
        "id": "Gf6_AZP5DU04"
      },
      "source": [
        "## Statistic:\n",
        "\n",
        "\n"
      ]
    },
    {
      "cell_type": "markdown",
      "source": [
        "###EXERCISE 5:\n",
        "\n",
        "Complete the following code. find Which statistic describes the data better?\n",
        "\n",
        "The lengths of time, in minutes, that 10 patients waited in a doctor’s office before receiving treatment were recorded as follows: 5, 11, 9, 5, 10, 15, 6, 10, 5, and 10. Treating the data as a random sample, find:\n",
        "1. The mean;\n",
        "2. The median;\n",
        "3. The mode."
      ],
      "metadata": {
        "id": "FKXsPFS4BBYy"
      }
    },
    {
      "cell_type": "code",
      "execution_count": null,
      "metadata": {
        "id": "m5QkndiqDU05"
      },
      "outputs": [],
      "source": [
        "import numpy as np\n",
        "from scipy import stats\n",
        "\n",
        "data = [5, 11, 9, 5, 10, 15, 6, 10, 5, 10]\n",
        "\n",
        "mean = .............................\n",
        "median = ....................\n",
        "mode = ...................\n",
        "\n",
        "# Extract the mode value correctly\n",
        "mode_value = ...................\n",
        "\n",
        "mean, median, mode_value\n",
        "\n"
      ]
    },
    {
      "cell_type": "code",
      "source": [
        "assert mean == 8.6, \"The mean should be 8.6\"\n",
        "assert median > 8, \"The median should be greater than 8\"\n",
        "assert mode_value in [5, 10], \"The mode should be either 5 or 10\"\n",
        "assert mean < median, \"The mean should be less than the median\""
      ],
      "metadata": {
        "id": "dO5e27y8EQzk"
      },
      "execution_count": null,
      "outputs": []
    },
    {
      "cell_type": "markdown",
      "metadata": {
        "id": "0YkAREr-DU05"
      },
      "source": [
        "## MLE:\n",
        "Estimate the parameter $\\lambda$ of a Poisson distribution. The probability function of Poisson distribution is:\n",
        "$$P(X = x) = \\frac{\\lambda^x e^{-\\lambda}}{x!}$$\n",
        "\n",
        "\n",
        "\n",
        "The Maximum Likelihood Estimation (MLE) for λ is given by:\n",
        "\n",
        "  $$\\lambda = \\frac{1}{n} \\sum_{j=1}^{n} x_j$$\n",
        "\n"
      ]
    },
    {
      "cell_type": "markdown",
      "metadata": {
        "id": "BX5iYM08DU05"
      },
      "source": [
        "## Markov and Chebyshev Inequalities:\n",
        "\n"
      ]
    },
    {
      "cell_type": "markdown",
      "source": [
        "###EXERCISE 6:\n",
        "\n",
        "Complete the following code.\n",
        "\n",
        "1. Suppose that the average grade on the upcoming math exam is 70%. Give an upper bound on the proportion of students who score at least 90%."
      ],
      "metadata": {
        "id": "EFJbfOaQA8WZ"
      }
    },
    {
      "cell_type": "code",
      "execution_count": null,
      "metadata": {
        "id": "jQuKayErDU05"
      },
      "outputs": [],
      "source": [
        "from fractions import Fraction\n",
        "\n",
        "mean_grade = 70\n",
        "threshold_grade = 90\n",
        "\n",
        "upper_bound = # your code here\n",
        "upper_bound"
      ]
    },
    {
      "cell_type": "code",
      "source": [
        "assert upper_bound == Fraction(7, 9), \"The upper bound should be 7/9\""
      ],
      "metadata": {
        "id": "hhi6ZVMbGjer"
      },
      "execution_count": null,
      "outputs": []
    },
    {
      "cell_type": "markdown",
      "source": [
        "2. If the distribution of $Y$ is $b(n; 0.25)$, give a lower bound for $P(\\frac{Y}{n} - 0.25 < 0.05)$ when $n = 100$.\n"
      ],
      "metadata": {
        "id": "bt0enMts1veb"
      }
    },
    {
      "cell_type": "code",
      "execution_count": null,
      "metadata": {
        "id": "gavmyi9tDU06"
      },
      "outputs": [],
      "source": [
        "n =.............\n",
        "p =.............\n",
        "epsilon =..............\n",
        "\n",
        "#formula for calculating lower_bound\n",
        "lower_bound = # your code here\n",
        "lower_bound"
      ]
    },
    {
      "cell_type": "code",
      "source": [
        "assert lower_bound >= 0, \"The lower bound should be a positive number\""
      ],
      "metadata": {
        "id": "YVNdHRctIQKA"
      },
      "execution_count": null,
      "outputs": []
    },
    {
      "cell_type": "markdown",
      "source": [
        "3. Suppose a fair coin is flipped 100 times. Find a bound on the probability that the number of times the coin lands on heads is at least 60 or at most 40."
      ],
      "metadata": {
        "id": "ZR9k1ybI1w09"
      }
    },
    {
      "cell_type": "code",
      "execution_count": null,
      "metadata": {
        "id": "ija4l-gCDU06"
      },
      "outputs": [],
      "source": [
        "import math\n",
        "\n",
        "n = 100\n",
        "p = 0.5\n",
        "\n",
        "# To calculate k, we need to take the square root of the entire expression.\n",
        "k = .......................\n",
        "\n",
        "# The formula for prob_bound\n",
        "prob_bound = ............................\n",
        "print(prob_bound)\n",
        "\n",
        "\n"
      ]
    },
    {
      "cell_type": "code",
      "source": [
        "assert prob_bound <= 1, \"The probability bound should be less than or equal to 1\""
      ],
      "metadata": {
        "id": "vY5c1j2LJVoQ"
      },
      "execution_count": null,
      "outputs": []
    },
    {
      "cell_type": "markdown",
      "metadata": {
        "id": "IcN28q-kDU06"
      },
      "source": [
        "## CLT\n"
      ]
    },
    {
      "cell_type": "markdown",
      "source": [
        "###EXERCISE 7:\n",
        "Complete the following code. If a certain machine makes electrical resistors having a mean resistance of 40 ohms and a standard deviation of 2 ohms, what is the probability that a random sample of 36 of these resistors will have a combined resistance of more than 1458 ohms?"
      ],
      "metadata": {
        "id": "EefGlr_pA4sc"
      }
    },
    {
      "cell_type": "code",
      "execution_count": null,
      "metadata": {
        "id": "-pVCO3O8DU06"
      },
      "outputs": [],
      "source": [
        "# Solution to CLT Task\n",
        "mean_resistance = 40\n",
        "std_resistance = 2\n",
        "sample_size = 36\n",
        "threshold_resistance = 1458\n",
        "\n",
        "mean_sample_resistance = # your code here\n",
        "std_sample_resistance = # your code here\n",
        "\n",
        "z_score = # your code here\n",
        "\n",
        "from scipy.stats import norm\n",
        "probability = 1 - norm.cdf(z_score)\n",
        "probability"
      ]
    },
    {
      "cell_type": "code",
      "source": [
        "\n",
        "assert 0 <= probability <= 1, \"The probability should be between 0 and 1\""
      ],
      "metadata": {
        "id": "5eiafFOHJtAG"
      },
      "execution_count": null,
      "outputs": []
    },
    {
      "cell_type": "markdown",
      "source": [
        "##**Coding part**\n",
        "\n",
        "---\n",
        "\n",
        "\n",
        "[Clich here](https://colab.research.google.com/drive/1C8I2cPWWeGlZ2CRTAYEh9uhm5gP9gCMi)"
      ],
      "metadata": {
        "id": "8ocWP1PHfHQC"
      }
    },
    {
      "cell_type": "markdown",
      "metadata": {
        "id": "OTJy5jBbDU06"
      },
      "source": [
        "## **Conclusion**\n",
        "\n",
        "\n"
      ]
    },
    {
      "cell_type": "markdown",
      "source": [
        "In this lab, we explored various statistical techniques, including data and sampling distributions, calculating statistics, Maximum Likelihood Estimation (MLE), and applying Markov and Chebyshev inequalities. We also reviewed important theorems such as the Law of Large Numbers (LLN) and the Central Limit Theorem (CLT).\n",
        "\n",
        "By working through these tasks and implementing them in Python, we reinforced our understanding of key statistical concepts. These skills are crucial for analyzing data and making inferences in both academic research and practical applications.\n",
        "\n",
        "\n",
        "Thank you for your participation and hard work in this lab!"
      ],
      "metadata": {
        "id": "XSTbwktX5nGn"
      }
    }
  ],
  "metadata": {
    "kernelspec": {
      "display_name": "Python 3",
      "language": "python",
      "name": "python3"
    },
    "language_info": {
      "name": "python",
      "version": "3.7.12",
      "mimetype": "text/x-python",
      "codemirror_mode": {
        "name": "ipython",
        "version": 3
      },
      "pygments_lexer": "ipython3",
      "nbconvert_exporter": "python",
      "file_extension": ".py"
    },
    "colab": {
      "provenance": []
    }
  },
  "nbformat": 4,
  "nbformat_minor": 0
}