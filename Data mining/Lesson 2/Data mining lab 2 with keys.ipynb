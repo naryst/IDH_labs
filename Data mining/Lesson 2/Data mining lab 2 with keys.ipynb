{
 "cells": [
  {
   "cell_type": "markdown",
   "metadata": {
    "id": "EzSZcvASEQX-"
   },
   "source": [
    "# Data mining\n",
    "\n",
    "# Lesson 2\n",
    "\n",
    "# Data clustering using different algorithms\n",
    "\n",
    "### **Objective:**\n",
    "To learn and implement various clustering techniques for working with real data. Students will be able to understand how the algorithms divide data into clusters in different ways and where they can be applied.\n",
    "\n",
    "### **Description**\n",
    "\n",
    "Clustering is the task of dividing a set of objects into groups (clusters) so that objects within the same cluster are as similar to each other as possible, while objects from different clusters are different. In this lab activity, students will study several clustering methods to help them understand their applicability, features, and drawbacks. We will use several clustering algorithms such as KMeans, DBSCAN, Gaussian Mixture Models (GMM), hierarchical clustering, and the Girvan-Newman algorithm for working with graphs.\n",
    "\n",
    "### Libraries that we use:\n",
    "\n",
    "- [Pandas](https://pandas.pydata.org/) - a library for working with tabular data, which will help us in the data preparation phase.\n",
    "- [Matplotlib](https://matplotlib.org/) and [Seaborn](https://seaborn.pydata.org/) - for data visualization and identifying interesting patterns.\n",
    "- [Scikit-learn](https://scikit-learn.org/stable/) - machine learning library for building and evaluating models.\n",
    "- [networkx](https://networkx.org/) - NetworkX is a Python package for the creation, manipulation, and study of the structure, dynamics, and functions of complex networks."
   ]
  },
  {
   "cell_type": "markdown",
   "metadata": {
    "id": "RMabQkd90DVa"
   },
   "source": [
    "### Structure of the laboratory work:\n",
    "\n",
    "- We have sales data and want to predict which customers are most likely to make a purchase in the next month.\n",
    "\n",
    "Our **data.csv** with columns:\n",
    "\n",
    "    \"latitude\",\n",
    "    \"longitude\",\n",
    "    \"activity_intensity\""
   ]
  },
  {
   "cell_type": "code",
   "execution_count": null,
   "metadata": {
    "colab": {
     "base_uri": "https://localhost:8080/",
     "height": 788
    },
    "id": "S5d91on31Gu4",
    "outputId": "dcf94f27-2e68-490a-bb74-75b7f7ec6f19"
   },
   "outputs": [],
   "source": [
    "import pandas as pd\n",
    "import seaborn as sns\n",
    "import matplotlib.pyplot as plt\n",
    "\n",
    "# Download data\n",
    "data = pd.read_csv('data.csv')\n",
    "geo_data = pd.DataFrame(data)\n",
    "# Description\n",
    "print(geo_data.head())\n"
   ]
  },
  {
   "cell_type": "markdown",
   "metadata": {
    "id": "V3jbRK7L13Bs"
   },
   "source": [
    "## **Exercise 1:** Clustering using KM\n",
    "- Apply KMeans to cluster geospatial data into k clusters.\n",
    "- Experiment with different values of k and use the elbow method to determine the optimal number of clusters.\n",
    "- Visualize the clusters and centroids."
   ]
  },
  {
   "cell_type": "code",
   "execution_count": null,
   "metadata": {},
   "outputs": [],
   "source": [
    "from sklearn.cluster import KMeans\n",
    "\n",
    "coordinates = geo_data[['latitude', 'longitude']].values\n",
    "# Find the optimal number of clusters using the elbow method\n",
    "inertia = []\n",
    "for k in range(1, 10):\n",
    "    kmeans = KMeans(n_clusters=k, random_state=42)\n",
    "    kmeans.fit(coordinates)\n",
    "    inertia.append(kmeans.inertia_)\n",
    "\n",
    "# Plot the elbow curve\n",
    "plt.figure(figsize=(8, 5))\n",
    "plt.plot(range(1, 10), inertia, marker='o')\n",
    "plt.title('Elbow Method for Optimal k')\n",
    "plt.xlabel('Number of Clusters')\n",
    "plt.ylabel('Inertia')\n",
    "plt.show()\n",
    "\n",
    "# Apply KMeans with the optimal number of clusters (e.g., k=3)\n",
    "kmeans = KMeans(n_clusters=3, random_state=42)\n",
    "geo_data['kmeans_cluster'] = kmeans.fit_predict(coordinates)\n",
    "\n",
    "# Visualize KMeans clusters\n",
    "plt.figure(figsize=(10, 6))\n",
    "plt.scatter(geo_data['longitude'], geo_data['latitude'], c=geo_data['kmeans_cluster'], cmap='Set2', alpha=0.6)\n",
    "plt.scatter(kmeans.cluster_centers_[:, 1], kmeans.cluster_centers_[:, 0], color='red', marker='X', s=100, label='Centroids')\n",
    "plt.title('KMeans Clustering of Geospatial Data')\n",
    "plt.xlabel('Longitude')\n",
    "plt.ylabel('Latitude')\n",
    "plt.legend()\n",
    "plt.show()\n"
   ]
  },
  {
   "cell_type": "markdown",
   "metadata": {
    "id": "Uk0xQNEY2dYb"
   },
   "source": [
    "## **Exercise 2:** \n",
    "- Apply DBSCAN to group densely populated points.\n",
    "- Tune the eps and min_samples parameters to refine clustering results.\n",
    "- Identify noise points (if any) and visualize the clusters."
   ]
  },
  {
   "cell_type": "code",
   "execution_count": null,
   "metadata": {
    "id": "owc5lQdf7if5"
   },
   "outputs": [],
   "source": [
    "from sklearn.cluster import DBSCAN\n",
    "import numpy as np\n",
    "\n",
    "\n",
    "# Apply DBSCAN\n",
    "dbscan = DBSCAN(eps=0.0015, min_samples=5)  # Adjust eps for better clustering\n",
    "geo_data['dbscan_cluster'] = dbscan.fit_predict(coordinates)\n",
    "\n",
    "# Visualize DBSCAN clusters\n",
    "plt.figure(figsize=(10, 6))\n",
    "scatter = plt.scatter(geo_data['longitude'], geo_data['latitude'], c=geo_data['dbscan_cluster'], cmap='tab10', alpha=0.6)\n",
    "plt.colorbar(scatter, label='Cluster')\n",
    "plt.title('DBSCAN Clustering of Geospatial Data')\n",
    "plt.xlabel('Longitude')\n",
    "plt.ylabel('Latitude')\n",
    "plt.show()\n",
    "\n",
    "# Analyze noise points\n",
    "noise_points = geo_data[geo_data['dbscan_cluster'] == -1]\n",
    "print(f\"Number of noise points: {len(noise_points)}\")\n"
   ]
  },
  {
   "cell_type": "markdown",
   "metadata": {},
   "source": [
    "## **Exercise 3:** \n",
    "- Apply GMM for probabilistic clustering of geospatial data.\n",
    "- Analyze the cluster probabilities and assign points to the cluster with the highest probability.\n",
    "- Visualize the results with a probabilistic heatmap."
   ]
  },
  {
   "cell_type": "code",
   "execution_count": null,
   "metadata": {},
   "outputs": [],
   "source": [
    "from sklearn.mixture import GaussianMixture\n",
    "\n",
    "# Apply GMM with 3 clusters\n",
    "gmm = GaussianMixture(n_components=3, random_state=42)\n",
    "geo_data['gmm_cluster'] = gmm.fit_predict(coordinates)\n",
    "\n",
    "# Visualize GMM clusters\n",
    "plt.figure(figsize=(10, 6))\n",
    "plt.scatter(geo_data['longitude'], geo_data['latitude'], c=geo_data['gmm_cluster'], cmap='Dark2', alpha=0.6)\n",
    "plt.title('GMM Clustering of Geospatial Data')\n",
    "plt.xlabel('Longitude')\n",
    "plt.ylabel('Latitude')\n",
    "plt.show()\n",
    "\n",
    "# Visualize probabilistic cluster memberships\n",
    "probs = gmm.predict_proba(coordinates)\n",
    "plt.figure(figsize=(10, 6))\n",
    "for i in range(probs.shape[1]):\n",
    "    plt.scatter(geo_data['longitude'], geo_data['latitude'], c=probs[:, i], cmap='viridis', alpha=0.6, label=f'Cluster {i}')\n",
    "plt.colorbar(label='Probability')\n",
    "plt.title('GMM Probabilistic Heatmap')\n",
    "plt.xlabel('Longitude')\n",
    "plt.ylabel('Latitude')\n",
    "plt.legend()\n",
    "plt.show()\n"
   ]
  },
  {
   "cell_type": "markdown",
   "metadata": {},
   "source": [
    "## Consclusion:\n",
    "\n",
    "In this lab we:\n",
    "\n",
    "- Describe each clustering algorithm and its characteristics.\n",
    "- Visualize the clustering results for DBSCAN, KMeans, and GMM.\n",
    "- Analyze differences between the clustering methods, including noise handling, cluster shapes, and performance.\n",
    "\n",
    "\n"
   ]
  }
 ],
 "metadata": {
  "colab": {
   "provenance": []
  },
  "kernelspec": {
   "display_name": "Data mining",
   "language": "python",
   "name": "python3"
  },
  "language_info": {
   "codemirror_mode": {
    "name": "ipython",
    "version": 3
   },
   "file_extension": ".py",
   "mimetype": "text/x-python",
   "name": "python",
   "nbconvert_exporter": "python",
   "pygments_lexer": "ipython3",
   "version": "3.11.5"
  }
 },
 "nbformat": 4,
 "nbformat_minor": 0
}
