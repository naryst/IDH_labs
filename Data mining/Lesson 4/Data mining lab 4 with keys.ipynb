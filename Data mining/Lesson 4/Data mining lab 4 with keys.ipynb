{
 "cells": [
  {
   "cell_type": "markdown",
   "metadata": {
    "id": "EzSZcvASEQX-"
   },
   "source": [
    "# Data mining\n",
    "\n",
    "# Lesson 4\n",
    "\n",
    "# Analyzing Association Rules Using Apriori and FP-Growth\n",
    "\n",
    "### **Objectives:**\n",
    "- Learn to implement and compare Apriori and FP-Growth algorithms.\n",
    "- Understand and calculate key metrics for association rules (support, confidence, and lift).\n",
    "- Analyze the efficiency and output differences between the two algorithms.\n",
    "\n",
    "### **Description**\n",
    "\n",
    "Association rules mining is a fundamental technique for discovering interesting relationships or patterns in transactional datasets. In this lab, we will simulate a dataset of transactions and use Apriori and FP-Growth algorithms to mine frequent itemsets and extract association rules. These rules will be evaluated using metrics such as support, confidence, and lift.\n",
    "\n",
    "### What we will learn:\n",
    "- Preprocessing transactional data.\n",
    "- Generating frequent itemsets using Apriori and FP-Growth.\n",
    "- Extracting and evaluating association rules.\n",
    "- Visualizing and interpreting the results.\n",
    "\n",
    "### Libraries that we use:\n",
    "\n",
    "- [Pandas](https://pandas.pydata.org/) - a library for working with tabular data, which will help us in the data preparation phase.\n",
    "- [Matplotlib](https://matplotlib.org/) and [Seaborn](https://seaborn.pydata.org/) - for data visualization and identifying interesting patterns.\n",
    "- [Scikit-learn](https://scikit-learn.org/stable/) - machine learning library for building and evaluating models.\n",
    "- [Numpy](https://numpy.org/) - a library for the Python programming language, adding support for large, multi-dimensional arrays and matrices, along with a large collection of high-level mathematical functions to operate on these arrays.\n",
    "- [mlxtend](https://rasbt.github.io/mlxtend/) - for Apriori and FP-Growth algorithms.\n"
   ]
  },
  {
   "cell_type": "markdown",
   "metadata": {
    "id": "RMabQkd90DVa"
   },
   "source": [
    "#### Structure: Rows represent transactions, and columns represent items.\n",
    "\n",
    "1 = item purchased.\n",
    "0 = item not purchased."
   ]
  },
  {
   "cell_type": "code",
   "execution_count": null,
   "metadata": {
    "colab": {
     "base_uri": "https://localhost:8080/",
     "height": 788
    },
    "id": "S5d91on31Gu4",
    "outputId": "dcf94f27-2e68-490a-bb74-75b7f7ec6f19"
   },
   "outputs": [],
   "source": [
    "import pandas as pd\n",
    "import seaborn as sns\n",
    "import matplotlib.pyplot as plt\n",
    "\n",
    "# Download data\n",
    "data = pd.read_csv('data.csv')\n",
    "basket = pd.DataFrame(data)\n",
    "# Description\n",
    "print(basket.head())\n"
   ]
  },
  {
   "cell_type": "markdown",
   "metadata": {
    "id": "V3jbRK7L13Bs"
   },
   "source": [
    "## **Exercise 1:** Preprocess the Data\n",
    "- Analyze the dataset to understand:\n",
    " 1) Total number of transactions.\n",
    " 2) Frequency of each item in the dataset.\n",
    "- Convert the dataset into a binary format (if not already binary)."
   ]
  },
  {
   "cell_type": "code",
   "execution_count": null,
   "metadata": {},
   "outputs": [],
   "source": [
    "# Analyze the data\n",
    "print(\"\\nNumber of transactions and items:\")\n",
    "print(f\"Transactions: {basket.shape[0]}, Items: {basket.shape[1]}\")\n",
    "\n",
    "# Count item frequencies\n",
    "item_frequencies = basket.sum().sort_values(ascending=False)\n",
    "print(\"\\nItem Frequencies:\")\n",
    "print(item_frequencies)\n",
    "\n",
    "# Optional: Filter out items with very low frequency (e.g., purchased in fewer than 10 transactions)\n",
    "basket = basket.loc[:, item_frequencies > 10]\n",
    "print(\"\\nFiltered dataset shape (after removing rare items):\")\n",
    "print(basket.shape)\n"
   ]
  },
  {
   "cell_type": "markdown",
   "metadata": {
    "id": "Uk0xQNEY2dYb"
   },
   "source": [
    "## **Exercise 2:** Generate Frequent Itemsets Using Apriori\n",
    "- Use the Apriori algorithm to identify frequent itemsets.\n",
    "- Set a minimum support threshold to filter out infrequent itemsets.\n",
    "- Display the top-10 frequent itemsets based on support."
   ]
  },
  {
   "cell_type": "code",
   "execution_count": null,
   "metadata": {
    "id": "owc5lQdf7if5"
   },
   "outputs": [],
   "source": [
    "from mlxtend.frequent_patterns import apriori\n",
    "\n",
    "# Apply the Apriori algorithm to find frequent itemsets\n",
    "min_support = 0.05  # Minimum support threshold\n",
    "frequent_itemsets_apriori = apriori(basket, min_support=min_support, use_colnames=True)\n",
    "\n",
    "# Sort and display the top-10 itemsets by support\n",
    "print(\"\\nTop-10 Frequent Itemsets (Apriori):\")\n",
    "print(frequent_itemsets_apriori.sort_values(by='support', ascending=False).head(10))\n"
   ]
  },
  {
   "cell_type": "markdown",
   "metadata": {},
   "source": [
    "## **Exercise 3:** Extract Association Rules (Apriori)\n",
    "- Generate association rules using the frequent itemsets obtained from Apriori.\n",
    "- Calculate key metrics for each rule:\n",
    "1) Support\n",
    "2) Confidence\n",
    "3) Lift\n",
    "- Display the top-10 rules sorted by lift."
   ]
  },
  {
   "cell_type": "code",
   "execution_count": null,
   "metadata": {},
   "outputs": [],
   "source": [
    "from mlxtend.frequent_patterns import association_rules\n",
    "\n",
    "# Generate association rules\n",
    "rules_apriori = association_rules(frequent_itemsets_apriori, metric=\"lift\", min_threshold=1.0, num_itemsets=100)\n",
    "\n",
    "# Sort and display top-10 rules by lift\n",
    "print(\"\\nTop-10 Association Rules (Apriori):\")\n",
    "print(rules_apriori.sort_values(by='lift', ascending=False).head(10))\n"
   ]
  },
  {
   "cell_type": "markdown",
   "metadata": {},
   "source": [
    "## **Exercise 4:** Generate Frequent Itemsets Using FP-Growth\n",
    "- Apply the FP-Growth algorithm to find frequent itemsets.\n",
    "- Compare the results with Apriori in terms of runtime and frequent itemsets generated."
   ]
  },
  {
   "cell_type": "code",
   "execution_count": null,
   "metadata": {},
   "outputs": [],
   "source": [
    "from mlxtend.frequent_patterns import fpgrowth\n",
    "import time\n",
    "\n",
    "# Measure runtime for FP-Growth\n",
    "start_time = time.time()\n",
    "frequent_itemsets_fpgrowth = fpgrowth(basket, min_support=min_support, use_colnames=True)\n",
    "end_time = time.time()\n",
    "\n",
    "# Display top-10 frequent itemsets\n",
    "print(\"\\nTop-10 Frequent Itemsets (FP-Growth):\")\n",
    "print(frequent_itemsets_fpgrowth.sort_values(by='support', ascending=False).head(10))\n",
    "\n",
    "# Print runtime\n",
    "print(f\"\\nFP-Growth Runtime: {end_time - start_time:.2f} seconds\")\n"
   ]
  },
  {
   "cell_type": "markdown",
   "metadata": {},
   "source": [
    "## **Exercise 5:** Extract Association Rules (FP-Growth)\n",
    "- Generate association rules using frequent itemsets from FP-Growth.\n",
    "- Compare the rules with those obtained from Apriori.\n",
    "- Compare the runtime of Apriori and FP-Growth.\n",
    "- Compare the number of frequent itemsets and association rules generated."
   ]
  },
  {
   "cell_type": "code",
   "execution_count": null,
   "metadata": {},
   "outputs": [],
   "source": [
    "# Generate association rules using FP-Growth\n",
    "rules_fpgrowth = association_rules(frequent_itemsets_fpgrowth, metric=\"lift\", min_threshold=1.0, num_itemsets=100)\n",
    "\n",
    "# Display top-10 rules sorted by lift\n",
    "print(\"\\nTop-10 Association Rules (FP-Growth):\")\n",
    "print(rules_fpgrowth.sort_values(by='lift', ascending=False).head(10))\n",
    "\n",
    "# Runtime comparison\n",
    "print(\"\\nComparison of Apriori and FP-Growth:\")\n",
    "print(f\"Number of Apriori Rules: {len(rules_apriori)}\")\n",
    "print(f\"Number of FP-Growth Rules: {len(rules_fpgrowth)}\")\n",
    "\n"
   ]
  },
  {
   "cell_type": "markdown",
   "metadata": {},
   "source": [
    "## **Exercise 6:** Visualize Association Rules\n",
    "- Visualize rules based on support, confidence, and lift."
   ]
  },
  {
   "cell_type": "code",
   "execution_count": null,
   "metadata": {},
   "outputs": [],
   "source": [
    "import matplotlib.pyplot as plt\n",
    "import seaborn as sns\n",
    "\n",
    "# Visualize Apriori rules\n",
    "plt.figure(figsize=(10, 6))\n",
    "sns.scatterplot(x='support', y='confidence', size='lift', hue='lift', data=rules_apriori, alpha=0.7)\n",
    "plt.title('Association Rules (Apriori)')\n",
    "plt.xlabel('Support')\n",
    "plt.ylabel('Confidence')\n",
    "plt.legend(title='Lift')\n",
    "plt.show()\n",
    "\n",
    "# Visualize FP-Growth rules\n",
    "plt.figure(figsize=(10, 6))\n",
    "sns.scatterplot(x='support', y='confidence', size='lift', hue='lift', data=rules_fpgrowth, alpha=0.7)\n",
    "plt.title('Association Rules (FP-Growth)')\n",
    "plt.xlabel('Support')\n",
    "plt.ylabel('Confidence')\n",
    "plt.legend(title='Lift')\n",
    "plt.show()\n"
   ]
  },
  {
   "cell_type": "markdown",
   "metadata": {},
   "source": [
    "## Consclusion:\n",
    "\n",
    "We learned: \n",
    "\n",
    "- Preprocessing transactional data.\n",
    "- Generating frequent itemsets using Apriori and FP-Growth.\n",
    "- Extracting and evaluating association rules.\n",
    "- Visualizing and interpreting the results.\n",
    "\n",
    "This lab provides students with a practical understanding of Apriori and FP-Growth algorithms for association rule mining, using synthetic transactional data.\n",
    "\n",
    "\n"
   ]
  }
 ],
 "metadata": {
  "colab": {
   "provenance": []
  },
  "kernelspec": {
   "display_name": "Data mining",
   "language": "python",
   "name": "python3"
  },
  "language_info": {
   "codemirror_mode": {
    "name": "ipython",
    "version": 3
   },
   "file_extension": ".py",
   "mimetype": "text/x-python",
   "name": "python",
   "nbconvert_exporter": "python",
   "pygments_lexer": "ipython3",
   "version": "3.11.5"
  }
 },
 "nbformat": 4,
 "nbformat_minor": 0
}
