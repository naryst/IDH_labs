{
 "cells": [
  {
   "cell_type": "markdown",
   "metadata": {
    "id": "EzSZcvASEQX-"
   },
   "source": [
    "# Data mining\n",
    "\n",
    "# Lesson 1\n",
    "\n",
    "# Cross-Industry Standard Process for Data Mining\n",
    "\n",
    "### **Objective:**\n",
    "To learn how to apply the CRISP-DM methodology to perform data analysis projects, including all steps from business understanding to model creation and evaluation.\n",
    "\n",
    "### **What we will learn:**\n",
    "\n",
    "1. Understanding the phases of CRISP-DM (Business Understanding, Data Understanding, Data Preparation, Modeling, Evaluation, Deployment).\n",
    "2. Practical work with data analysis in Python.\n",
    "3. Using libraries for data processing, modeling and evaluation.\n",
    "4. Model building and its evaluation on real data.\n",
    "\n",
    "### Libraries that we use:\n",
    "\n",
    "- [Pandas](https://pandas.pydata.org/) - a library for working with tabular data, which will help us in the data preparation phase.\n",
    "- [Matplotlib](https://matplotlib.org/) and [Seaborn](https://seaborn.pydata.org/) - for data visualization and identifying interesting patterns.\n",
    "- [Scikit-learn](https://scikit-learn.org/stable/) - machine learning library for building and evaluating models."
   ]
  },
  {
   "cell_type": "markdown",
   "metadata": {
    "id": "RMabQkd90DVa"
   },
   "source": [
    "### Structure of the laboratory work:\n",
    "\n",
    "#### Phase 1: Business Understanding.\n",
    "\n",
    "- We have sales data and want to predict which customers are most likely to make a purchase in the next month.\n",
    "\n",
    "Our **sales_data.csv** with columns:\n",
    "\n",
    "    \"order_id\" - unique identificator,\n",
    "    \"customer_name\" - the name of the customer who placed the order,\n",
    "    \"purchase_date\" - the date when the purchase was made,\n",
    "    \"category\" - the customer’s category, which can be \"Regular\", \"Premium\", or \"VIP\",\n",
    "    \"product_category\" - the main category of the product purchased, such as \"Electronics\", \"Clothing\", \"Home\", \"Sports\", or \"Toys\",\n",
    "    \"product_subcategory\" - the specific subcategory of the product purchased, such as \"Phones\", \"TV\", \"Shirts\", \"Shoes\", \"Furniture\", \"Bikes\", or \"Dolls\",\n",
    "    \"quantity\" - the number of units of the product purchased.\n",
    "    \"price_per_unit\" - the price of each unit of the product, rounded to two decimal places"
   ]
  },
  {
   "cell_type": "markdown",
   "metadata": {
    "id": "UVFwxjDz2FpZ"
   },
   "source": [
    "#### Phase 2: Data Understanding\n",
    "\n",
    "**Exercise 1:** Analyze the data using descriptive statistics and visualization techniques. Determine if there are any data quality issues, such as outliers or omissions."
   ]
  },
  {
   "cell_type": "code",
   "execution_count": null,
   "metadata": {
    "colab": {
     "base_uri": "https://localhost:8080/",
     "height": 788
    },
    "id": "S5d91on31Gu4",
    "outputId": "dcf94f27-2e68-490a-bb74-75b7f7ec6f19"
   },
   "outputs": [],
   "source": [
    "import pandas as pd\n",
    "import seaborn as sns\n",
    "import matplotlib.pyplot as plt\n",
    "\n",
    "# Download data\n",
    "data = pd.read_csv('sales_data.csv')\n",
    "\n",
    "# Description\n",
    "print(data.describe())\n",
    "\n",
    "# Checking for missing values\n",
    "print(data.isnull().sum())\n",
    "\n",
    "# Visualization\n",
    "sns.histplot(data['sales'], bins=30)\n",
    "plt.show()\n"
   ]
  },
  {
   "cell_type": "markdown",
   "metadata": {
    "id": "V3jbRK7L13Bs"
   },
   "source": [
    "#### Phase 3: Data Preparation\n",
    "\n",
    "**Exercise 2:** Clean and prepare data for modeling. Delete or replace missing values, bring the data to the required format."
   ]
  },
  {
   "cell_type": "code",
   "execution_count": null,
   "metadata": {
    "id": "Bs2rA6Y31_jT"
   },
   "outputs": [],
   "source": [
    "# Filling in missing values with the mean\n",
    "\n",
    "\n",
    "# Conversion of categorical attributes into numerical attributes\n",
    "\n"
   ]
  },
  {
   "cell_type": "markdown",
   "metadata": {
    "id": "Uk0xQNEY2dYb"
   },
   "source": [
    "#### Phase 4: Modeling\n",
    "\n",
    "**Exercise 3:** Build a model to predict a target (e.g. sales forecast). Use machine learning techniques such as linear regression or classification."
   ]
  },
  {
   "cell_type": "code",
   "execution_count": null,
   "metadata": {
    "id": "owc5lQdf7if5"
   },
   "outputs": [],
   "source": [
    "import pandas as pd\n",
    "from sklearn.preprocessing import OneHotEncoder\n",
    "\n",
    "# remove customer_name as it is not needed for the model\n",
    "\n",
    "# Converting categorical data with OneHotEncoder\n",
    "\n",
    "\n",
    "# Done"
   ]
  },
  {
   "cell_type": "code",
   "execution_count": null,
   "metadata": {
    "colab": {
     "base_uri": "https://localhost:8080/"
    },
    "id": "FYYU95y12dui",
    "outputId": "8be904fa-1d88-4a3b-b455-d78a1aeae6a1"
   },
   "outputs": [],
   "source": [
    "from sklearn.model_selection import train_test_split\n",
    "from sklearn.linear_model import LinearRegression\n",
    "from sklearn.metrics import mean_squared_error\n",
    "\n",
    "\n",
    "X = data.drop('sales', axis=1)\n",
    "y = data['sales']\n",
    "\n",
    "X_train, X_test, y_train, y_test = train_test_split(X, y, test_size=0.2, random_state=42)\n",
    "\n",
    "# Model\n",
    "\n",
    "\n",
    "# Prediction\n",
    "\n",
    "\n",
    "# Evaluation\n",
    "# print(f'MSE: {mean_squared_error(y_test, predictions)}')\n"
   ]
  },
  {
   "cell_type": "markdown",
   "metadata": {
    "id": "vHizgACL3JuU"
   },
   "source": [
    "#### Phase 5: Evaluation\n",
    "\n",
    "**Exercise 4:** Evaluate the quality of the model using metrics such as mean square error (MSE), precision or F1-measure depending on the type of problem."
   ]
  },
  {
   "cell_type": "code",
   "execution_count": null,
   "metadata": {
    "colab": {
     "base_uri": "https://localhost:8080/"
    },
    "id": "neBopZjK3SHj",
    "outputId": "731ea7fa-64a9-47f3-fb45-1c412b75aa65"
   },
   "outputs": [],
   "source": [
    "from sklearn.metrics import mean_squared_error, r2_score\n",
    "\n",
    "# Evaluation\n",
    "\n",
    "\n",
    "# print(f'Mean Squared Error: {mse}')\n",
    "# print(f'R^2 Score: {r2}')"
   ]
  },
  {
   "cell_type": "markdown",
   "metadata": {
    "id": "6raUisKx3YA1"
   },
   "source": [
    "#### Phase 6: Deployment\n",
    "\n",
    "**Exercise 5:** Describe how you can deploy the model into a working application or present the results to business users.\n",
    "Example: Presenting results as a report, visualizations, or deploying the model to an API."
   ]
  },
  {
   "cell_type": "code",
   "execution_count": null,
   "metadata": {
    "colab": {
     "base_uri": "https://localhost:8080/",
     "height": 564
    },
    "id": "BW-g6csq2_kf",
    "outputId": "0f2f3c11-7aa8-46ab-f358-af66da5bd20a"
   },
   "outputs": [],
   "source": [
    "# plot\n"
   ]
  }
 ],
 "metadata": {
  "colab": {
   "provenance": []
  },
  "kernelspec": {
   "display_name": "Data mining",
   "language": "python",
   "name": "python3"
  },
  "language_info": {
   "codemirror_mode": {
    "name": "ipython",
    "version": 3
   },
   "file_extension": ".py",
   "mimetype": "text/x-python",
   "name": "python",
   "nbconvert_exporter": "python",
   "pygments_lexer": "ipython3",
   "version": "3.11.5"
  }
 },
 "nbformat": 4,
 "nbformat_minor": 0
}
